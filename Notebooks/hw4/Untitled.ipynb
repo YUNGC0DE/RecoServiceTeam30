{
 "cells": [
  {
   "cell_type": "code",
   "execution_count": 1,
   "id": "7870cc8f-ab34-4890-865b-b78bd43b5877",
   "metadata": {},
   "outputs": [],
   "source": [
    "import pandas as pd\n",
    "import numpy as np\n",
    "import scipy as sp\n",
    "import requests\n",
    "from tqdm.auto import tqdm\n",
    "from scipy.stats import mode \n",
    "from pprint import pprint\n",
    "from implicit.nearest_neighbours import CosineRecommender, TFIDFRecommender, BM25Recommender\n",
    "import warnings\n",
    "warnings.filterwarnings(\"ignore\")\n",
    "\n",
    "from rectools import Columns\n",
    "from rectools.model_selection import TimeRangeSplitter\n",
    "from rectools.dataset import Dataset, Interactions\n",
    "from rectools.models.popular import PopularModel\n",
    "from rectools.models.lightfm import LightFMWrapperModel\n",
    "from rectools.metrics import Precision, Recall, MeanInvUserFreq, MAP, Serendipity, calc_metrics"
   ]
  },
  {
   "cell_type": "code",
   "execution_count": 3,
   "id": "a25bd357-6597-4d9a-8094-4af94b5b944d",
   "metadata": {},
   "outputs": [],
   "source": [
    "interactions = pd.read_csv('interactions.csv')\n",
    "\n",
    "interactions.rename(columns={\n",
    "        'last_watch_dt': Columns.Datetime,\n",
    "        'total_dur': Columns.Weight\n",
    "    }, \n",
    "    inplace=True\n",
    ") \n",
    "\n",
    "interactions['datetime'] = pd.to_datetime(interactions['datetime'])"
   ]
  },
  {
   "cell_type": "code",
   "execution_count": 4,
   "id": "73d648d5-73c3-4251-8994-2a2662bfbf3a",
   "metadata": {},
   "outputs": [],
   "source": [
    "from lightfm import LightFM"
   ]
  },
  {
   "cell_type": "code",
   "execution_count": 5,
   "id": "b76894f5-2c54-4786-bda9-665ca75d676e",
   "metadata": {},
   "outputs": [],
   "source": [
    "dataset = Dataset.construct(\n",
    "    interactions_df=interactions,\n",
    "    user_features_df=None,\n",
    "    item_features_df=None\n",
    ")"
   ]
  },
  {
   "cell_type": "code",
   "execution_count": 14,
   "id": "2d5da59e-9ecd-4c93-bd03-42af50979346",
   "metadata": {},
   "outputs": [
    {
     "data": {
      "text/plain": [
       "<rectools.models.lightfm.LightFMWrapperModel at 0x7f82e72b8e20>"
      ]
     },
     "execution_count": 14,
     "metadata": {},
     "output_type": "execute_result"
    }
   ],
   "source": [
    "lfm = LightFMWrapperModel(LightFM())\n",
    "lfm.fit(dataset)"
   ]
  },
  {
   "cell_type": "code",
   "execution_count": 21,
   "id": "5c8fd47c-7b33-46fc-b18d-11784e3b99e8",
   "metadata": {},
   "outputs": [],
   "source": [
    "recos = lfm.recommend(\n",
    "    users=interactions[Columns.User].unique(),\n",
    "    dataset=dataset,\n",
    "    k=60,\n",
    "    filter_viewed=True,\n",
    ")"
   ]
  },
  {
   "cell_type": "code",
   "execution_count": 22,
   "id": "c6960917-afda-40ff-9102-a6af307909c6",
   "metadata": {},
   "outputs": [
    {
     "data": {
      "text/html": [
       "<div>\n",
       "<style scoped>\n",
       "    .dataframe tbody tr th:only-of-type {\n",
       "        vertical-align: middle;\n",
       "    }\n",
       "\n",
       "    .dataframe tbody tr th {\n",
       "        vertical-align: top;\n",
       "    }\n",
       "\n",
       "    .dataframe thead th {\n",
       "        text-align: right;\n",
       "    }\n",
       "</style>\n",
       "<table border=\"1\" class=\"dataframe\">\n",
       "  <thead>\n",
       "    <tr style=\"text-align: right;\">\n",
       "      <th></th>\n",
       "      <th>user_id</th>\n",
       "      <th>item_id</th>\n",
       "      <th>score</th>\n",
       "      <th>rank</th>\n",
       "    </tr>\n",
       "  </thead>\n",
       "  <tbody>\n",
       "    <tr>\n",
       "      <th>0</th>\n",
       "      <td>176549</td>\n",
       "      <td>4003</td>\n",
       "      <td>2.715359e+27</td>\n",
       "      <td>1</td>\n",
       "    </tr>\n",
       "    <tr>\n",
       "      <th>1</th>\n",
       "      <td>176549</td>\n",
       "      <td>1654</td>\n",
       "      <td>1.555407e+27</td>\n",
       "      <td>2</td>\n",
       "    </tr>\n",
       "    <tr>\n",
       "      <th>2</th>\n",
       "      <td>176549</td>\n",
       "      <td>5859</td>\n",
       "      <td>7.066884e+26</td>\n",
       "      <td>3</td>\n",
       "    </tr>\n",
       "    <tr>\n",
       "      <th>3</th>\n",
       "      <td>176549</td>\n",
       "      <td>15791</td>\n",
       "      <td>5.287224e+26</td>\n",
       "      <td>4</td>\n",
       "    </tr>\n",
       "    <tr>\n",
       "      <th>4</th>\n",
       "      <td>176549</td>\n",
       "      <td>2412</td>\n",
       "      <td>3.352055e+25</td>\n",
       "      <td>5</td>\n",
       "    </tr>\n",
       "    <tr>\n",
       "      <th>...</th>\n",
       "      <td>...</td>\n",
       "      <td>...</td>\n",
       "      <td>...</td>\n",
       "      <td>...</td>\n",
       "    </tr>\n",
       "    <tr>\n",
       "      <th>57730735</th>\n",
       "      <td>697262</td>\n",
       "      <td>7614</td>\n",
       "      <td>1.814607e+24</td>\n",
       "      <td>56</td>\n",
       "    </tr>\n",
       "    <tr>\n",
       "      <th>57730736</th>\n",
       "      <td>697262</td>\n",
       "      <td>12180</td>\n",
       "      <td>1.598932e+24</td>\n",
       "      <td>57</td>\n",
       "    </tr>\n",
       "    <tr>\n",
       "      <th>57730737</th>\n",
       "      <td>697262</td>\n",
       "      <td>13944</td>\n",
       "      <td>1.287519e+24</td>\n",
       "      <td>58</td>\n",
       "    </tr>\n",
       "    <tr>\n",
       "      <th>57730738</th>\n",
       "      <td>697262</td>\n",
       "      <td>12363</td>\n",
       "      <td>1.252760e+24</td>\n",
       "      <td>59</td>\n",
       "    </tr>\n",
       "    <tr>\n",
       "      <th>57730739</th>\n",
       "      <td>697262</td>\n",
       "      <td>14520</td>\n",
       "      <td>1.154277e+24</td>\n",
       "      <td>60</td>\n",
       "    </tr>\n",
       "  </tbody>\n",
       "</table>\n",
       "<p>57730740 rows × 4 columns</p>\n",
       "</div>"
      ],
      "text/plain": [
       "          user_id  item_id         score  rank\n",
       "0          176549     4003  2.715359e+27     1\n",
       "1          176549     1654  1.555407e+27     2\n",
       "2          176549     5859  7.066884e+26     3\n",
       "3          176549    15791  5.287224e+26     4\n",
       "4          176549     2412  3.352055e+25     5\n",
       "...           ...      ...           ...   ...\n",
       "57730735   697262     7614  1.814607e+24    56\n",
       "57730736   697262    12180  1.598932e+24    57\n",
       "57730737   697262    13944  1.287519e+24    58\n",
       "57730738   697262    12363  1.252760e+24    59\n",
       "57730739   697262    14520  1.154277e+24    60\n",
       "\n",
       "[57730740 rows x 4 columns]"
      ]
     },
     "execution_count": 22,
     "metadata": {},
     "output_type": "execute_result"
    }
   ],
   "source": [
    "recos"
   ]
  },
  {
   "cell_type": "code",
   "execution_count": 23,
   "id": "d46dd30c-8c21-4cfd-a556-d7f6a04c1b2b",
   "metadata": {},
   "outputs": [],
   "source": [
    "recos_offline = recos[recos['rank'] <= 10]"
   ]
  },
  {
   "cell_type": "code",
   "execution_count": 35,
   "id": "1f00054d-8a33-44e4-a396-5e2b4379b5f9",
   "metadata": {},
   "outputs": [],
   "source": [
    "agreggated = recos_offline.groupby('user_id').agg({'item_id': list})"
   ]
  },
  {
   "cell_type": "code",
   "execution_count": 39,
   "id": "43abddd4-d1e5-4273-8563-353088d8f28b",
   "metadata": {},
   "outputs": [],
   "source": [
    "count_recs_by_users = recos_offline.user_id.value_counts()"
   ]
  },
  {
   "cell_type": "code",
   "execution_count": 42,
   "id": "2930213d-b689-4e3b-86c7-0d547e9862c7",
   "metadata": {},
   "outputs": [
    {
     "data": {
      "text/html": [
       "<div>\n",
       "<style scoped>\n",
       "    .dataframe tbody tr th:only-of-type {\n",
       "        vertical-align: middle;\n",
       "    }\n",
       "\n",
       "    .dataframe tbody tr th {\n",
       "        vertical-align: top;\n",
       "    }\n",
       "\n",
       "    .dataframe thead th {\n",
       "        text-align: right;\n",
       "    }\n",
       "</style>\n",
       "<table border=\"1\" class=\"dataframe\">\n",
       "  <thead>\n",
       "    <tr style=\"text-align: right;\">\n",
       "      <th></th>\n",
       "      <th>item_id</th>\n",
       "    </tr>\n",
       "    <tr>\n",
       "      <th>user_id</th>\n",
       "      <th></th>\n",
       "    </tr>\n",
       "  </thead>\n",
       "  <tbody>\n",
       "    <tr>\n",
       "      <th>0</th>\n",
       "      <td>[10794, 11559, 8645, 13856, 1654, 5859, 4328, ...</td>\n",
       "    </tr>\n",
       "    <tr>\n",
       "      <th>1</th>\n",
       "      <td>[11559, 8645, 13856, 2412, 11303, 4399, 9033, ...</td>\n",
       "    </tr>\n",
       "    <tr>\n",
       "      <th>2</th>\n",
       "      <td>[10794, 11559, 1654, 8645, 13856, 2412, 5859, ...</td>\n",
       "    </tr>\n",
       "    <tr>\n",
       "      <th>3</th>\n",
       "      <td>[11559, 10794, 8645, 13856, 4328, 9694, 13827,...</td>\n",
       "    </tr>\n",
       "    <tr>\n",
       "      <th>4</th>\n",
       "      <td>[10794, 11559, 8645, 13856, 1654, 4328, 5859, ...</td>\n",
       "    </tr>\n",
       "    <tr>\n",
       "      <th>...</th>\n",
       "      <td>...</td>\n",
       "    </tr>\n",
       "    <tr>\n",
       "      <th>1097553</th>\n",
       "      <td>[4003, 10794, 15791, 11303, 1654, 1611, 15555,...</td>\n",
       "    </tr>\n",
       "    <tr>\n",
       "      <th>1097554</th>\n",
       "      <td>[4003, 15791, 4328, 1611, 4399, 9033, 14565, 1...</td>\n",
       "    </tr>\n",
       "    <tr>\n",
       "      <th>1097555</th>\n",
       "      <td>[10794, 11559, 8645, 13856, 4328, 1654, 11303,...</td>\n",
       "    </tr>\n",
       "    <tr>\n",
       "      <th>1097556</th>\n",
       "      <td>[10794, 11559, 4003, 15791, 1654, 11303, 15555...</td>\n",
       "    </tr>\n",
       "    <tr>\n",
       "      <th>1097557</th>\n",
       "      <td>[10794, 11559, 8645, 13856, 4328, 1654, 9694, ...</td>\n",
       "    </tr>\n",
       "  </tbody>\n",
       "</table>\n",
       "<p>962179 rows × 1 columns</p>\n",
       "</div>"
      ],
      "text/plain": [
       "                                                   item_id\n",
       "user_id                                                   \n",
       "0        [10794, 11559, 8645, 13856, 1654, 5859, 4328, ...\n",
       "1        [11559, 8645, 13856, 2412, 11303, 4399, 9033, ...\n",
       "2        [10794, 11559, 1654, 8645, 13856, 2412, 5859, ...\n",
       "3        [11559, 10794, 8645, 13856, 4328, 9694, 13827,...\n",
       "4        [10794, 11559, 8645, 13856, 1654, 4328, 5859, ...\n",
       "...                                                    ...\n",
       "1097553  [4003, 10794, 15791, 11303, 1654, 1611, 15555,...\n",
       "1097554  [4003, 15791, 4328, 1611, 4399, 9033, 14565, 1...\n",
       "1097555  [10794, 11559, 8645, 13856, 4328, 1654, 11303,...\n",
       "1097556  [10794, 11559, 4003, 15791, 1654, 11303, 15555...\n",
       "1097557  [10794, 11559, 8645, 13856, 4328, 1654, 9694, ...\n",
       "\n",
       "[962179 rows x 1 columns]"
      ]
     },
     "execution_count": 42,
     "metadata": {},
     "output_type": "execute_result"
    }
   ],
   "source": [
    "agreggated"
   ]
  },
  {
   "cell_type": "code",
   "execution_count": 43,
   "id": "9daa361a-2239-4c36-b513-ba6827adb209",
   "metadata": {},
   "outputs": [],
   "source": [
    "results = agreggated['item_id'].to_dict()"
   ]
  },
  {
   "cell_type": "code",
   "execution_count": 44,
   "id": "88f4e73d-4b66-4e16-bb58-17805ea3369e",
   "metadata": {},
   "outputs": [
    {
     "data": {
      "application/vnd.jupyter.widget-view+json": {
       "model_id": "addc8b2c05a945168f519cd34edb8810",
       "version_major": 2,
       "version_minor": 0
      },
      "text/plain": [
       "  0%|          | 0/962179 [00:00<?, ?it/s]"
      ]
     },
     "metadata": {},
     "output_type": "display_data"
    }
   ],
   "source": [
    "reserved = {}\n",
    "\n",
    "for key, value in tqdm(results.items()):\n",
    "    if isinstance(value[0], np.ndarray):\n",
    "        print(key)\n",
    "        reserved[int(key)] = value[0].tolist()\n",
    "    else:\n",
    "        reserved[int(key)] = np.array(value).tolist()"
   ]
  },
  {
   "cell_type": "code",
   "execution_count": 45,
   "id": "ae300dd8-3612-4f06-83ce-54d8782ee279",
   "metadata": {},
   "outputs": [],
   "source": [
    "for key, value in reserved.items():\n",
    "    if len(value) != 10:\n",
    "        print(key, value)\n",
    "        break"
   ]
  },
  {
   "cell_type": "code",
   "execution_count": 46,
   "id": "cf9598b5-9378-4bb1-9b0a-e894e21f564d",
   "metadata": {},
   "outputs": [],
   "source": [
    "import json\n",
    "\n",
    "with open('lightfm-precalculated.json', 'w') as f:\n",
    "    json.dump(reserved, f)"
   ]
  },
  {
   "cell_type": "code",
   "execution_count": 6,
   "id": "5708fe5e-ab21-4544-b252-a15f9be52196",
   "metadata": {},
   "outputs": [],
   "source": [
    "import joblib\n",
    "\n",
    "with open('lightfm-dataset.joblib', 'wb') as f:\n",
    "    joblib.dump(dataset, f)"
   ]
  },
  {
   "cell_type": "code",
   "execution_count": null,
   "id": "ccf23f3e-c3bf-4ee6-b3fb-c36319c60b8d",
   "metadata": {},
   "outputs": [],
   "source": []
  }
 ],
 "metadata": {
  "kernelspec": {
   "display_name": "Python 3 (ipykernel)",
   "language": "python",
   "name": "python3"
  },
  "language_info": {
   "codemirror_mode": {
    "name": "ipython",
    "version": 3
   },
   "file_extension": ".py",
   "mimetype": "text/x-python",
   "name": "python",
   "nbconvert_exporter": "python",
   "pygments_lexer": "ipython3",
   "version": "3.9.15"
  }
 },
 "nbformat": 4,
 "nbformat_minor": 5
}
