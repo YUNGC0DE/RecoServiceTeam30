{
  "cells": [
    {
      "cell_type": "code",
      "execution_count": 2,
      "metadata": {
        "id": "y-AvVbA6vUtx"
      },
      "outputs": [],
      "source": [
        "import os\n",
        "import pandas as pd\n",
        "import numpy as np\n",
        "import requests\n",
        "import warnings\n",
        "import pickle\n",
        "import time\n",
        "\n",
        "import nmslib\n",
        "\n",
        "from implicit.als import AlternatingLeastSquares\n",
        "\n",
        "from rectools.metrics import Precision, Recall, MAP, calc_metrics\n",
        "from rectools.models import PopularModel, RandomModel, ImplicitALSWrapperModel\n",
        "from rectools import Columns\n",
        "from rectools.dataset import Dataset\n",
        "from rectools.models import ImplicitALSWrapperModel, LightFMWrapperModel\n",
        "\n",
        "import matplotlib.pyplot as plt\n",
        "import seaborn as sns\n",
        "\n",
        "import matplotlib.pyplot as plt\n",
        "from pathlib import Path\n",
        "import typing as tp\n",
        "from tqdm import tqdm\n",
        "\n",
        "from lightfm import LightFM\n",
        "\n",
        "from implicit.bpr import BayesianPersonalizedRanking\n",
        "\n",
        "from implicit.lmf import LogisticMatrixFactorization"
      ]
    },
    {
      "cell_type": "code",
      "execution_count": 3,
      "metadata": {
        "colab": {
          "base_uri": "https://localhost:8080/"
        },
        "id": "cs-H4773vGZY",
        "outputId": "3038ceb1-032c-4d24-c5b1-f2f29180107c"
      },
      "outputs": [
        {
          "output_type": "stream",
          "name": "stderr",
          "text": [
            "kion dataset download: 100%|█████████▉| 78.6M/78.8M [00:09<00:00, 10.9MiB/s]"
          ]
        }
      ],
      "source": [
        "url = \"https://storage.yandexcloud.net/itmo-recsys-public-data/kion_train.zip\"\n",
        "\n",
        "req = requests.get(url, stream=True)\n",
        "\n",
        "with open('kion_train.zip', \"wb\") as fd:\n",
        "    total_size_in_bytes = int(req.headers.get('Content-Length', 0))\n",
        "    progress_bar = tqdm(desc='kion dataset download', total=total_size_in_bytes, unit='iB', unit_scale=True)\n",
        "    for chunk in req.iter_content(chunk_size=2 ** 20):\n",
        "        progress_bar.update(len(chunk))\n",
        "        fd.write(chunk)"
      ]
    },
    {
      "cell_type": "code",
      "execution_count": 4,
      "metadata": {
        "colab": {
          "base_uri": "https://localhost:8080/"
        },
        "id": "8bDEGS_vu_OJ",
        "outputId": "569bfa14-b303-4ad5-82e9-603f7ad4fcc5"
      },
      "outputs": [
        {
          "output_type": "stream",
          "name": "stdout",
          "text": [
            "Archive:  kion_train.zip\n",
            "   creating: kion_train/\n",
            "  inflating: kion_train/interactions.csv  \n",
            "  inflating: __MACOSX/kion_train/._interactions.csv  \n",
            "  inflating: kion_train/users.csv    \n",
            "  inflating: __MACOSX/kion_train/._users.csv  \n",
            "  inflating: kion_train/items.csv    \n",
            "  inflating: __MACOSX/kion_train/._items.csv  \n"
          ]
        }
      ],
      "source": [
        "!unzip kion_train.zip"
      ]
    },
    {
      "cell_type": "code",
      "execution_count": 5,
      "metadata": {
        "id": "UR_sbuCmvTEd"
      },
      "outputs": [],
      "source": [
        "warnings.filterwarnings('ignore')"
      ]
    },
    {
      "cell_type": "code",
      "execution_count": 6,
      "metadata": {
        "id": "pfM2WH4-vSEW"
      },
      "outputs": [],
      "source": [
        "os.environ[\"OPENBLAS_NUM_THREADS\"] = \"1\" "
      ]
    },
    {
      "cell_type": "markdown",
      "metadata": {
        "id": "7CoJO4mJGLcs"
      },
      "source": [
        "# Load data"
      ]
    },
    {
      "cell_type": "code",
      "execution_count": 7,
      "metadata": {
        "id": "Ze_YZusqvBGg"
      },
      "outputs": [],
      "source": [
        "interactions = pd.read_csv('kion_train/interactions.csv')\n",
        "users = pd.read_csv('kion_train/users.csv')\n",
        "items = pd.read_csv('kion_train/items.csv')"
      ]
    },
    {
      "cell_type": "markdown",
      "metadata": {
        "id": "jkhGstdRGa0G"
      },
      "source": [
        "# Users"
      ]
    },
    {
      "cell_type": "code",
      "execution_count": 8,
      "metadata": {
        "colab": {
          "base_uri": "https://localhost:8080/",
          "height": 206
        },
        "id": "nDJ1qn2ovXQ2",
        "outputId": "f454f138-7d6a-4c5e-82e4-65b607f1ce28"
      },
      "outputs": [
        {
          "output_type": "execute_result",
          "data": {
            "text/plain": [
              "   user_id        age        income sex  kids_flg\n",
              "0   973171  age_25_34  income_60_90   М         1\n",
              "1   962099  age_18_24  income_20_40   М         0\n",
              "2  1047345  age_45_54  income_40_60   Ж         0\n",
              "3   721985  age_45_54  income_20_40   Ж         0\n",
              "4   704055  age_35_44  income_60_90   Ж         0"
            ],
            "text/html": [
              "\n",
              "  <div id=\"df-dfb03439-8628-4bc3-94bc-096105f22f5b\">\n",
              "    <div class=\"colab-df-container\">\n",
              "      <div>\n",
              "<style scoped>\n",
              "    .dataframe tbody tr th:only-of-type {\n",
              "        vertical-align: middle;\n",
              "    }\n",
              "\n",
              "    .dataframe tbody tr th {\n",
              "        vertical-align: top;\n",
              "    }\n",
              "\n",
              "    .dataframe thead th {\n",
              "        text-align: right;\n",
              "    }\n",
              "</style>\n",
              "<table border=\"1\" class=\"dataframe\">\n",
              "  <thead>\n",
              "    <tr style=\"text-align: right;\">\n",
              "      <th></th>\n",
              "      <th>user_id</th>\n",
              "      <th>age</th>\n",
              "      <th>income</th>\n",
              "      <th>sex</th>\n",
              "      <th>kids_flg</th>\n",
              "    </tr>\n",
              "  </thead>\n",
              "  <tbody>\n",
              "    <tr>\n",
              "      <th>0</th>\n",
              "      <td>973171</td>\n",
              "      <td>age_25_34</td>\n",
              "      <td>income_60_90</td>\n",
              "      <td>М</td>\n",
              "      <td>1</td>\n",
              "    </tr>\n",
              "    <tr>\n",
              "      <th>1</th>\n",
              "      <td>962099</td>\n",
              "      <td>age_18_24</td>\n",
              "      <td>income_20_40</td>\n",
              "      <td>М</td>\n",
              "      <td>0</td>\n",
              "    </tr>\n",
              "    <tr>\n",
              "      <th>2</th>\n",
              "      <td>1047345</td>\n",
              "      <td>age_45_54</td>\n",
              "      <td>income_40_60</td>\n",
              "      <td>Ж</td>\n",
              "      <td>0</td>\n",
              "    </tr>\n",
              "    <tr>\n",
              "      <th>3</th>\n",
              "      <td>721985</td>\n",
              "      <td>age_45_54</td>\n",
              "      <td>income_20_40</td>\n",
              "      <td>Ж</td>\n",
              "      <td>0</td>\n",
              "    </tr>\n",
              "    <tr>\n",
              "      <th>4</th>\n",
              "      <td>704055</td>\n",
              "      <td>age_35_44</td>\n",
              "      <td>income_60_90</td>\n",
              "      <td>Ж</td>\n",
              "      <td>0</td>\n",
              "    </tr>\n",
              "  </tbody>\n",
              "</table>\n",
              "</div>\n",
              "      <button class=\"colab-df-convert\" onclick=\"convertToInteractive('df-dfb03439-8628-4bc3-94bc-096105f22f5b')\"\n",
              "              title=\"Convert this dataframe to an interactive table.\"\n",
              "              style=\"display:none;\">\n",
              "        \n",
              "  <svg xmlns=\"http://www.w3.org/2000/svg\" height=\"24px\"viewBox=\"0 0 24 24\"\n",
              "       width=\"24px\">\n",
              "    <path d=\"M0 0h24v24H0V0z\" fill=\"none\"/>\n",
              "    <path d=\"M18.56 5.44l.94 2.06.94-2.06 2.06-.94-2.06-.94-.94-2.06-.94 2.06-2.06.94zm-11 1L8.5 8.5l.94-2.06 2.06-.94-2.06-.94L8.5 2.5l-.94 2.06-2.06.94zm10 10l.94 2.06.94-2.06 2.06-.94-2.06-.94-.94-2.06-.94 2.06-2.06.94z\"/><path d=\"M17.41 7.96l-1.37-1.37c-.4-.4-.92-.59-1.43-.59-.52 0-1.04.2-1.43.59L10.3 9.45l-7.72 7.72c-.78.78-.78 2.05 0 2.83L4 21.41c.39.39.9.59 1.41.59.51 0 1.02-.2 1.41-.59l7.78-7.78 2.81-2.81c.8-.78.8-2.07 0-2.86zM5.41 20L4 18.59l7.72-7.72 1.47 1.35L5.41 20z\"/>\n",
              "  </svg>\n",
              "      </button>\n",
              "      \n",
              "  <style>\n",
              "    .colab-df-container {\n",
              "      display:flex;\n",
              "      flex-wrap:wrap;\n",
              "      gap: 12px;\n",
              "    }\n",
              "\n",
              "    .colab-df-convert {\n",
              "      background-color: #E8F0FE;\n",
              "      border: none;\n",
              "      border-radius: 50%;\n",
              "      cursor: pointer;\n",
              "      display: none;\n",
              "      fill: #1967D2;\n",
              "      height: 32px;\n",
              "      padding: 0 0 0 0;\n",
              "      width: 32px;\n",
              "    }\n",
              "\n",
              "    .colab-df-convert:hover {\n",
              "      background-color: #E2EBFA;\n",
              "      box-shadow: 0px 1px 2px rgba(60, 64, 67, 0.3), 0px 1px 3px 1px rgba(60, 64, 67, 0.15);\n",
              "      fill: #174EA6;\n",
              "    }\n",
              "\n",
              "    [theme=dark] .colab-df-convert {\n",
              "      background-color: #3B4455;\n",
              "      fill: #D2E3FC;\n",
              "    }\n",
              "\n",
              "    [theme=dark] .colab-df-convert:hover {\n",
              "      background-color: #434B5C;\n",
              "      box-shadow: 0px 1px 3px 1px rgba(0, 0, 0, 0.15);\n",
              "      filter: drop-shadow(0px 1px 2px rgba(0, 0, 0, 0.3));\n",
              "      fill: #FFFFFF;\n",
              "    }\n",
              "  </style>\n",
              "\n",
              "      <script>\n",
              "        const buttonEl =\n",
              "          document.querySelector('#df-dfb03439-8628-4bc3-94bc-096105f22f5b button.colab-df-convert');\n",
              "        buttonEl.style.display =\n",
              "          google.colab.kernel.accessAllowed ? 'block' : 'none';\n",
              "\n",
              "        async function convertToInteractive(key) {\n",
              "          const element = document.querySelector('#df-dfb03439-8628-4bc3-94bc-096105f22f5b');\n",
              "          const dataTable =\n",
              "            await google.colab.kernel.invokeFunction('convertToInteractive',\n",
              "                                                     [key], {});\n",
              "          if (!dataTable) return;\n",
              "\n",
              "          const docLinkHtml = 'Like what you see? Visit the ' +\n",
              "            '<a target=\"_blank\" href=https://colab.research.google.com/notebooks/data_table.ipynb>data table notebook</a>'\n",
              "            + ' to learn more about interactive tables.';\n",
              "          element.innerHTML = '';\n",
              "          dataTable['output_type'] = 'display_data';\n",
              "          await google.colab.output.renderOutput(dataTable, element);\n",
              "          const docLink = document.createElement('div');\n",
              "          docLink.innerHTML = docLinkHtml;\n",
              "          element.appendChild(docLink);\n",
              "        }\n",
              "      </script>\n",
              "    </div>\n",
              "  </div>\n",
              "  "
            ]
          },
          "metadata": {},
          "execution_count": 8
        }
      ],
      "source": [
        "users.head()"
      ]
    },
    {
      "cell_type": "code",
      "execution_count": 9,
      "metadata": {
        "colab": {
          "base_uri": "https://localhost:8080/"
        },
        "id": "HRzbDEODvcWV",
        "outputId": "c7976f98-388c-4c20-863c-5cb4fb2cc7b4"
      },
      "outputs": [
        {
          "output_type": "stream",
          "name": "stdout",
          "text": [
            "<class 'pandas.core.frame.DataFrame'>\n",
            "RangeIndex: 840197 entries, 0 to 840196\n",
            "Data columns (total 5 columns):\n",
            " #   Column    Non-Null Count   Dtype \n",
            "---  ------    --------------   ----- \n",
            " 0   user_id   840197 non-null  int64 \n",
            " 1   age       826102 non-null  object\n",
            " 2   income    825421 non-null  object\n",
            " 3   sex       826366 non-null  object\n",
            " 4   kids_flg  840197 non-null  int64 \n",
            "dtypes: int64(2), object(3)\n",
            "memory usage: 32.1+ MB\n"
          ]
        }
      ],
      "source": [
        "users.info()"
      ]
    },
    {
      "cell_type": "markdown",
      "metadata": {
        "id": "WWd0Fb0EGifC"
      },
      "source": [
        "# Items"
      ]
    },
    {
      "cell_type": "code",
      "execution_count": 10,
      "metadata": {
        "colab": {
          "base_uri": "https://localhost:8080/",
          "height": 652
        },
        "id": "9O9yv7ljvcdX",
        "outputId": "e64bab94-7c60-4a2f-c5ac-6cf7e57fb56e"
      },
      "outputs": [
        {
          "output_type": "execute_result",
          "data": {
            "text/plain": [
              "   item_id content_type                 title      title_orig  release_year  \\\n",
              "0    10711         film        Поговори с ней  Hable con ella        2002.0   \n",
              "1     2508         film           Голые перцы    Search Party        2014.0   \n",
              "2    10716         film      Тактическая сила  Tactical Force        2011.0   \n",
              "3     7868         film                45 лет        45 Years        2015.0   \n",
              "4    16268         film  Все решает мгновение             NaN        1978.0   \n",
              "\n",
              "                                             genres       countries  for_kids  \\\n",
              "0           драмы, зарубежные, детективы, мелодрамы         Испания       NaN   \n",
              "1                  зарубежные, приключения, комедии             США       NaN   \n",
              "2  криминал, зарубежные, триллеры, боевики, комедии          Канада       NaN   \n",
              "3                      драмы, зарубежные, мелодрамы  Великобритания       NaN   \n",
              "4                драмы, спорт, советские, мелодрамы            СССР       NaN   \n",
              "\n",
              "   age_rating   studios         directors  \\\n",
              "0        16.0       NaN  Педро Альмодовар   \n",
              "1        16.0       NaN    Скот Армстронг   \n",
              "2        16.0       NaN  Адам П. Калтраро   \n",
              "3        16.0       NaN         Эндрю Хэй   \n",
              "4        12.0  Ленфильм  Виктор Садовский   \n",
              "\n",
              "                                              actors  \\\n",
              "0  Адольфо Фернандес, Ана Фернандес, Дарио Гранди...   \n",
              "1  Адам Палли, Брайан Хаски, Дж.Б. Смув, Джейсон ...   \n",
              "2  Адриан Холмс, Даррен Шалави, Джерри Вассерман,...   \n",
              "3  Александра Риддлстон-Барретт, Джеральдин Джейм...   \n",
              "4  Александр Абдулов, Александр Демьяненко, Алекс...   \n",
              "\n",
              "                                         description  \\\n",
              "0  Мелодрама легендарного Педро Альмодовара «Пого...   \n",
              "1  Уморительная современная комедия на популярную...   \n",
              "2  Профессиональный рестлер Стив Остин («Все или ...   \n",
              "3  Шарлотта Рэмплинг, Том Кортни, Джеральдин Джей...   \n",
              "4  Расчетливая чаровница из советского кинохита «...   \n",
              "\n",
              "                                            keywords  \n",
              "0  Поговори, ней, 2002, Испания, друзья, любовь, ...  \n",
              "1  Голые, перцы, 2014, США, друзья, свадьбы, прео...  \n",
              "2  Тактическая, сила, 2011, Канада, бандиты, ганг...  \n",
              "3  45, лет, 2015, Великобритания, брак, жизнь, лю...  \n",
              "4  Все, решает, мгновение, 1978, СССР, сильные, ж...  "
            ],
            "text/html": [
              "\n",
              "  <div id=\"df-15a1ab76-8556-41f3-8c68-35c273eded85\">\n",
              "    <div class=\"colab-df-container\">\n",
              "      <div>\n",
              "<style scoped>\n",
              "    .dataframe tbody tr th:only-of-type {\n",
              "        vertical-align: middle;\n",
              "    }\n",
              "\n",
              "    .dataframe tbody tr th {\n",
              "        vertical-align: top;\n",
              "    }\n",
              "\n",
              "    .dataframe thead th {\n",
              "        text-align: right;\n",
              "    }\n",
              "</style>\n",
              "<table border=\"1\" class=\"dataframe\">\n",
              "  <thead>\n",
              "    <tr style=\"text-align: right;\">\n",
              "      <th></th>\n",
              "      <th>item_id</th>\n",
              "      <th>content_type</th>\n",
              "      <th>title</th>\n",
              "      <th>title_orig</th>\n",
              "      <th>release_year</th>\n",
              "      <th>genres</th>\n",
              "      <th>countries</th>\n",
              "      <th>for_kids</th>\n",
              "      <th>age_rating</th>\n",
              "      <th>studios</th>\n",
              "      <th>directors</th>\n",
              "      <th>actors</th>\n",
              "      <th>description</th>\n",
              "      <th>keywords</th>\n",
              "    </tr>\n",
              "  </thead>\n",
              "  <tbody>\n",
              "    <tr>\n",
              "      <th>0</th>\n",
              "      <td>10711</td>\n",
              "      <td>film</td>\n",
              "      <td>Поговори с ней</td>\n",
              "      <td>Hable con ella</td>\n",
              "      <td>2002.0</td>\n",
              "      <td>драмы, зарубежные, детективы, мелодрамы</td>\n",
              "      <td>Испания</td>\n",
              "      <td>NaN</td>\n",
              "      <td>16.0</td>\n",
              "      <td>NaN</td>\n",
              "      <td>Педро Альмодовар</td>\n",
              "      <td>Адольфо Фернандес, Ана Фернандес, Дарио Гранди...</td>\n",
              "      <td>Мелодрама легендарного Педро Альмодовара «Пого...</td>\n",
              "      <td>Поговори, ней, 2002, Испания, друзья, любовь, ...</td>\n",
              "    </tr>\n",
              "    <tr>\n",
              "      <th>1</th>\n",
              "      <td>2508</td>\n",
              "      <td>film</td>\n",
              "      <td>Голые перцы</td>\n",
              "      <td>Search Party</td>\n",
              "      <td>2014.0</td>\n",
              "      <td>зарубежные, приключения, комедии</td>\n",
              "      <td>США</td>\n",
              "      <td>NaN</td>\n",
              "      <td>16.0</td>\n",
              "      <td>NaN</td>\n",
              "      <td>Скот Армстронг</td>\n",
              "      <td>Адам Палли, Брайан Хаски, Дж.Б. Смув, Джейсон ...</td>\n",
              "      <td>Уморительная современная комедия на популярную...</td>\n",
              "      <td>Голые, перцы, 2014, США, друзья, свадьбы, прео...</td>\n",
              "    </tr>\n",
              "    <tr>\n",
              "      <th>2</th>\n",
              "      <td>10716</td>\n",
              "      <td>film</td>\n",
              "      <td>Тактическая сила</td>\n",
              "      <td>Tactical Force</td>\n",
              "      <td>2011.0</td>\n",
              "      <td>криминал, зарубежные, триллеры, боевики, комедии</td>\n",
              "      <td>Канада</td>\n",
              "      <td>NaN</td>\n",
              "      <td>16.0</td>\n",
              "      <td>NaN</td>\n",
              "      <td>Адам П. Калтраро</td>\n",
              "      <td>Адриан Холмс, Даррен Шалави, Джерри Вассерман,...</td>\n",
              "      <td>Профессиональный рестлер Стив Остин («Все или ...</td>\n",
              "      <td>Тактическая, сила, 2011, Канада, бандиты, ганг...</td>\n",
              "    </tr>\n",
              "    <tr>\n",
              "      <th>3</th>\n",
              "      <td>7868</td>\n",
              "      <td>film</td>\n",
              "      <td>45 лет</td>\n",
              "      <td>45 Years</td>\n",
              "      <td>2015.0</td>\n",
              "      <td>драмы, зарубежные, мелодрамы</td>\n",
              "      <td>Великобритания</td>\n",
              "      <td>NaN</td>\n",
              "      <td>16.0</td>\n",
              "      <td>NaN</td>\n",
              "      <td>Эндрю Хэй</td>\n",
              "      <td>Александра Риддлстон-Барретт, Джеральдин Джейм...</td>\n",
              "      <td>Шарлотта Рэмплинг, Том Кортни, Джеральдин Джей...</td>\n",
              "      <td>45, лет, 2015, Великобритания, брак, жизнь, лю...</td>\n",
              "    </tr>\n",
              "    <tr>\n",
              "      <th>4</th>\n",
              "      <td>16268</td>\n",
              "      <td>film</td>\n",
              "      <td>Все решает мгновение</td>\n",
              "      <td>NaN</td>\n",
              "      <td>1978.0</td>\n",
              "      <td>драмы, спорт, советские, мелодрамы</td>\n",
              "      <td>СССР</td>\n",
              "      <td>NaN</td>\n",
              "      <td>12.0</td>\n",
              "      <td>Ленфильм</td>\n",
              "      <td>Виктор Садовский</td>\n",
              "      <td>Александр Абдулов, Александр Демьяненко, Алекс...</td>\n",
              "      <td>Расчетливая чаровница из советского кинохита «...</td>\n",
              "      <td>Все, решает, мгновение, 1978, СССР, сильные, ж...</td>\n",
              "    </tr>\n",
              "  </tbody>\n",
              "</table>\n",
              "</div>\n",
              "      <button class=\"colab-df-convert\" onclick=\"convertToInteractive('df-15a1ab76-8556-41f3-8c68-35c273eded85')\"\n",
              "              title=\"Convert this dataframe to an interactive table.\"\n",
              "              style=\"display:none;\">\n",
              "        \n",
              "  <svg xmlns=\"http://www.w3.org/2000/svg\" height=\"24px\"viewBox=\"0 0 24 24\"\n",
              "       width=\"24px\">\n",
              "    <path d=\"M0 0h24v24H0V0z\" fill=\"none\"/>\n",
              "    <path d=\"M18.56 5.44l.94 2.06.94-2.06 2.06-.94-2.06-.94-.94-2.06-.94 2.06-2.06.94zm-11 1L8.5 8.5l.94-2.06 2.06-.94-2.06-.94L8.5 2.5l-.94 2.06-2.06.94zm10 10l.94 2.06.94-2.06 2.06-.94-2.06-.94-.94-2.06-.94 2.06-2.06.94z\"/><path d=\"M17.41 7.96l-1.37-1.37c-.4-.4-.92-.59-1.43-.59-.52 0-1.04.2-1.43.59L10.3 9.45l-7.72 7.72c-.78.78-.78 2.05 0 2.83L4 21.41c.39.39.9.59 1.41.59.51 0 1.02-.2 1.41-.59l7.78-7.78 2.81-2.81c.8-.78.8-2.07 0-2.86zM5.41 20L4 18.59l7.72-7.72 1.47 1.35L5.41 20z\"/>\n",
              "  </svg>\n",
              "      </button>\n",
              "      \n",
              "  <style>\n",
              "    .colab-df-container {\n",
              "      display:flex;\n",
              "      flex-wrap:wrap;\n",
              "      gap: 12px;\n",
              "    }\n",
              "\n",
              "    .colab-df-convert {\n",
              "      background-color: #E8F0FE;\n",
              "      border: none;\n",
              "      border-radius: 50%;\n",
              "      cursor: pointer;\n",
              "      display: none;\n",
              "      fill: #1967D2;\n",
              "      height: 32px;\n",
              "      padding: 0 0 0 0;\n",
              "      width: 32px;\n",
              "    }\n",
              "\n",
              "    .colab-df-convert:hover {\n",
              "      background-color: #E2EBFA;\n",
              "      box-shadow: 0px 1px 2px rgba(60, 64, 67, 0.3), 0px 1px 3px 1px rgba(60, 64, 67, 0.15);\n",
              "      fill: #174EA6;\n",
              "    }\n",
              "\n",
              "    [theme=dark] .colab-df-convert {\n",
              "      background-color: #3B4455;\n",
              "      fill: #D2E3FC;\n",
              "    }\n",
              "\n",
              "    [theme=dark] .colab-df-convert:hover {\n",
              "      background-color: #434B5C;\n",
              "      box-shadow: 0px 1px 3px 1px rgba(0, 0, 0, 0.15);\n",
              "      filter: drop-shadow(0px 1px 2px rgba(0, 0, 0, 0.3));\n",
              "      fill: #FFFFFF;\n",
              "    }\n",
              "  </style>\n",
              "\n",
              "      <script>\n",
              "        const buttonEl =\n",
              "          document.querySelector('#df-15a1ab76-8556-41f3-8c68-35c273eded85 button.colab-df-convert');\n",
              "        buttonEl.style.display =\n",
              "          google.colab.kernel.accessAllowed ? 'block' : 'none';\n",
              "\n",
              "        async function convertToInteractive(key) {\n",
              "          const element = document.querySelector('#df-15a1ab76-8556-41f3-8c68-35c273eded85');\n",
              "          const dataTable =\n",
              "            await google.colab.kernel.invokeFunction('convertToInteractive',\n",
              "                                                     [key], {});\n",
              "          if (!dataTable) return;\n",
              "\n",
              "          const docLinkHtml = 'Like what you see? Visit the ' +\n",
              "            '<a target=\"_blank\" href=https://colab.research.google.com/notebooks/data_table.ipynb>data table notebook</a>'\n",
              "            + ' to learn more about interactive tables.';\n",
              "          element.innerHTML = '';\n",
              "          dataTable['output_type'] = 'display_data';\n",
              "          await google.colab.output.renderOutput(dataTable, element);\n",
              "          const docLink = document.createElement('div');\n",
              "          docLink.innerHTML = docLinkHtml;\n",
              "          element.appendChild(docLink);\n",
              "        }\n",
              "      </script>\n",
              "    </div>\n",
              "  </div>\n",
              "  "
            ]
          },
          "metadata": {},
          "execution_count": 10
        }
      ],
      "source": [
        "items.head()"
      ]
    },
    {
      "cell_type": "code",
      "execution_count": 11,
      "metadata": {
        "colab": {
          "base_uri": "https://localhost:8080/"
        },
        "id": "1XucLKzgvchE",
        "outputId": "d624005c-8f2c-49fb-c783-4f0546cb7459"
      },
      "outputs": [
        {
          "output_type": "stream",
          "name": "stdout",
          "text": [
            "<class 'pandas.core.frame.DataFrame'>\n",
            "RangeIndex: 15963 entries, 0 to 15962\n",
            "Data columns (total 14 columns):\n",
            " #   Column        Non-Null Count  Dtype  \n",
            "---  ------        --------------  -----  \n",
            " 0   item_id       15963 non-null  int64  \n",
            " 1   content_type  15963 non-null  object \n",
            " 2   title         15963 non-null  object \n",
            " 3   title_orig    11218 non-null  object \n",
            " 4   release_year  15865 non-null  float64\n",
            " 5   genres        15963 non-null  object \n",
            " 6   countries     15926 non-null  object \n",
            " 7   for_kids      566 non-null    float64\n",
            " 8   age_rating    15961 non-null  float64\n",
            " 9   studios       1065 non-null   object \n",
            " 10  directors     14454 non-null  object \n",
            " 11  actors        13344 non-null  object \n",
            " 12  description   15961 non-null  object \n",
            " 13  keywords      15540 non-null  object \n",
            "dtypes: float64(3), int64(1), object(10)\n",
            "memory usage: 1.7+ MB\n"
          ]
        }
      ],
      "source": [
        "items.info()"
      ]
    },
    {
      "cell_type": "markdown",
      "metadata": {
        "id": "V9DwNwRtGmu2"
      },
      "source": [
        "# Interactions"
      ]
    },
    {
      "cell_type": "code",
      "execution_count": 12,
      "metadata": {
        "colab": {
          "base_uri": "https://localhost:8080/",
          "height": 206
        },
        "id": "4oDefy-avck_",
        "outputId": "71b0528e-cab6-460d-8146-6038cd0e7a72"
      },
      "outputs": [
        {
          "output_type": "execute_result",
          "data": {
            "text/plain": [
              "   user_id  item_id last_watch_dt  total_dur  watched_pct\n",
              "0   176549     9506    2021-05-11       4250         72.0\n",
              "1   699317     1659    2021-05-29       8317        100.0\n",
              "2   656683     7107    2021-05-09         10          0.0\n",
              "3   864613     7638    2021-07-05      14483        100.0\n",
              "4   964868     9506    2021-04-30       6725        100.0"
            ],
            "text/html": [
              "\n",
              "  <div id=\"df-a1577363-6ec7-4e05-b31c-332b538773ca\">\n",
              "    <div class=\"colab-df-container\">\n",
              "      <div>\n",
              "<style scoped>\n",
              "    .dataframe tbody tr th:only-of-type {\n",
              "        vertical-align: middle;\n",
              "    }\n",
              "\n",
              "    .dataframe tbody tr th {\n",
              "        vertical-align: top;\n",
              "    }\n",
              "\n",
              "    .dataframe thead th {\n",
              "        text-align: right;\n",
              "    }\n",
              "</style>\n",
              "<table border=\"1\" class=\"dataframe\">\n",
              "  <thead>\n",
              "    <tr style=\"text-align: right;\">\n",
              "      <th></th>\n",
              "      <th>user_id</th>\n",
              "      <th>item_id</th>\n",
              "      <th>last_watch_dt</th>\n",
              "      <th>total_dur</th>\n",
              "      <th>watched_pct</th>\n",
              "    </tr>\n",
              "  </thead>\n",
              "  <tbody>\n",
              "    <tr>\n",
              "      <th>0</th>\n",
              "      <td>176549</td>\n",
              "      <td>9506</td>\n",
              "      <td>2021-05-11</td>\n",
              "      <td>4250</td>\n",
              "      <td>72.0</td>\n",
              "    </tr>\n",
              "    <tr>\n",
              "      <th>1</th>\n",
              "      <td>699317</td>\n",
              "      <td>1659</td>\n",
              "      <td>2021-05-29</td>\n",
              "      <td>8317</td>\n",
              "      <td>100.0</td>\n",
              "    </tr>\n",
              "    <tr>\n",
              "      <th>2</th>\n",
              "      <td>656683</td>\n",
              "      <td>7107</td>\n",
              "      <td>2021-05-09</td>\n",
              "      <td>10</td>\n",
              "      <td>0.0</td>\n",
              "    </tr>\n",
              "    <tr>\n",
              "      <th>3</th>\n",
              "      <td>864613</td>\n",
              "      <td>7638</td>\n",
              "      <td>2021-07-05</td>\n",
              "      <td>14483</td>\n",
              "      <td>100.0</td>\n",
              "    </tr>\n",
              "    <tr>\n",
              "      <th>4</th>\n",
              "      <td>964868</td>\n",
              "      <td>9506</td>\n",
              "      <td>2021-04-30</td>\n",
              "      <td>6725</td>\n",
              "      <td>100.0</td>\n",
              "    </tr>\n",
              "  </tbody>\n",
              "</table>\n",
              "</div>\n",
              "      <button class=\"colab-df-convert\" onclick=\"convertToInteractive('df-a1577363-6ec7-4e05-b31c-332b538773ca')\"\n",
              "              title=\"Convert this dataframe to an interactive table.\"\n",
              "              style=\"display:none;\">\n",
              "        \n",
              "  <svg xmlns=\"http://www.w3.org/2000/svg\" height=\"24px\"viewBox=\"0 0 24 24\"\n",
              "       width=\"24px\">\n",
              "    <path d=\"M0 0h24v24H0V0z\" fill=\"none\"/>\n",
              "    <path d=\"M18.56 5.44l.94 2.06.94-2.06 2.06-.94-2.06-.94-.94-2.06-.94 2.06-2.06.94zm-11 1L8.5 8.5l.94-2.06 2.06-.94-2.06-.94L8.5 2.5l-.94 2.06-2.06.94zm10 10l.94 2.06.94-2.06 2.06-.94-2.06-.94-.94-2.06-.94 2.06-2.06.94z\"/><path d=\"M17.41 7.96l-1.37-1.37c-.4-.4-.92-.59-1.43-.59-.52 0-1.04.2-1.43.59L10.3 9.45l-7.72 7.72c-.78.78-.78 2.05 0 2.83L4 21.41c.39.39.9.59 1.41.59.51 0 1.02-.2 1.41-.59l7.78-7.78 2.81-2.81c.8-.78.8-2.07 0-2.86zM5.41 20L4 18.59l7.72-7.72 1.47 1.35L5.41 20z\"/>\n",
              "  </svg>\n",
              "      </button>\n",
              "      \n",
              "  <style>\n",
              "    .colab-df-container {\n",
              "      display:flex;\n",
              "      flex-wrap:wrap;\n",
              "      gap: 12px;\n",
              "    }\n",
              "\n",
              "    .colab-df-convert {\n",
              "      background-color: #E8F0FE;\n",
              "      border: none;\n",
              "      border-radius: 50%;\n",
              "      cursor: pointer;\n",
              "      display: none;\n",
              "      fill: #1967D2;\n",
              "      height: 32px;\n",
              "      padding: 0 0 0 0;\n",
              "      width: 32px;\n",
              "    }\n",
              "\n",
              "    .colab-df-convert:hover {\n",
              "      background-color: #E2EBFA;\n",
              "      box-shadow: 0px 1px 2px rgba(60, 64, 67, 0.3), 0px 1px 3px 1px rgba(60, 64, 67, 0.15);\n",
              "      fill: #174EA6;\n",
              "    }\n",
              "\n",
              "    [theme=dark] .colab-df-convert {\n",
              "      background-color: #3B4455;\n",
              "      fill: #D2E3FC;\n",
              "    }\n",
              "\n",
              "    [theme=dark] .colab-df-convert:hover {\n",
              "      background-color: #434B5C;\n",
              "      box-shadow: 0px 1px 3px 1px rgba(0, 0, 0, 0.15);\n",
              "      filter: drop-shadow(0px 1px 2px rgba(0, 0, 0, 0.3));\n",
              "      fill: #FFFFFF;\n",
              "    }\n",
              "  </style>\n",
              "\n",
              "      <script>\n",
              "        const buttonEl =\n",
              "          document.querySelector('#df-a1577363-6ec7-4e05-b31c-332b538773ca button.colab-df-convert');\n",
              "        buttonEl.style.display =\n",
              "          google.colab.kernel.accessAllowed ? 'block' : 'none';\n",
              "\n",
              "        async function convertToInteractive(key) {\n",
              "          const element = document.querySelector('#df-a1577363-6ec7-4e05-b31c-332b538773ca');\n",
              "          const dataTable =\n",
              "            await google.colab.kernel.invokeFunction('convertToInteractive',\n",
              "                                                     [key], {});\n",
              "          if (!dataTable) return;\n",
              "\n",
              "          const docLinkHtml = 'Like what you see? Visit the ' +\n",
              "            '<a target=\"_blank\" href=https://colab.research.google.com/notebooks/data_table.ipynb>data table notebook</a>'\n",
              "            + ' to learn more about interactive tables.';\n",
              "          element.innerHTML = '';\n",
              "          dataTable['output_type'] = 'display_data';\n",
              "          await google.colab.output.renderOutput(dataTable, element);\n",
              "          const docLink = document.createElement('div');\n",
              "          docLink.innerHTML = docLinkHtml;\n",
              "          element.appendChild(docLink);\n",
              "        }\n",
              "      </script>\n",
              "    </div>\n",
              "  </div>\n",
              "  "
            ]
          },
          "metadata": {},
          "execution_count": 12
        }
      ],
      "source": [
        "interactions.head()"
      ]
    },
    {
      "cell_type": "code",
      "execution_count": 13,
      "metadata": {
        "colab": {
          "base_uri": "https://localhost:8080/"
        },
        "id": "22UWVW2Vvco2",
        "outputId": "5647546c-ab09-4862-b1fe-24ac22ddfcb9"
      },
      "outputs": [
        {
          "output_type": "stream",
          "name": "stdout",
          "text": [
            "<class 'pandas.core.frame.DataFrame'>\n",
            "RangeIndex: 5476251 entries, 0 to 5476250\n",
            "Data columns (total 5 columns):\n",
            " #   Column         Dtype  \n",
            "---  ------         -----  \n",
            " 0   user_id        int64  \n",
            " 1   item_id        int64  \n",
            " 2   last_watch_dt  object \n",
            " 3   total_dur      int64  \n",
            " 4   watched_pct    float64\n",
            "dtypes: float64(1), int64(3), object(1)\n",
            "memory usage: 208.9+ MB\n"
          ]
        }
      ],
      "source": [
        "interactions.info()"
      ]
    },
    {
      "cell_type": "markdown",
      "metadata": {
        "id": "qPuLMq1PGtK5"
      },
      "source": [
        "# Preprocess"
      ]
    },
    {
      "cell_type": "code",
      "execution_count": 14,
      "metadata": {
        "id": "kqi2JvdYlfVH"
      },
      "outputs": [],
      "source": [
        "Columns.Datetime = 'last_watch_dt'\n",
        "interactions.drop(interactions[interactions[Columns.Datetime].str.len() != 10].index, inplace=True)\n",
        "interactions[Columns.Datetime] = pd.to_datetime(interactions[Columns.Datetime], format='%Y-%m-%d')   #bringing the date to a single format"
      ]
    },
    {
      "cell_type": "code",
      "execution_count": 15,
      "metadata": {
        "colab": {
          "base_uri": "https://localhost:8080/"
        },
        "id": "JWDSOczVlqzq",
        "outputId": "0a0cfb91-384f-4d07-8e6b-5a07177635e2"
      },
      "outputs": [
        {
          "output_type": "stream",
          "name": "stderr",
          "text": [
            "\rkion dataset download: 100%|██████████| 78.8M/78.8M [00:20<00:00, 10.9MiB/s]"
          ]
        },
        {
          "output_type": "stream",
          "name": "stdout",
          "text": [
            "Max date of interactions:  2021-08-22 00:00:00\n"
          ]
        }
      ],
      "source": [
        "max_date = interactions[Columns.Datetime].max()\n",
        "print(\"Max date of interactions: \", max_date)"
      ]
    },
    {
      "cell_type": "code",
      "execution_count": 16,
      "metadata": {
        "id": "s7hT8udQl2oU"
      },
      "outputs": [],
      "source": [
        "interactions[Columns.Weight] = np.where(interactions['watched_pct'] > 10, 3, 1)   #if the user viewed more than 10%, then the weight of interactions = 3, otherwise 1"
      ]
    },
    {
      "cell_type": "code",
      "execution_count": 17,
      "metadata": {
        "colab": {
          "base_uri": "https://localhost:8080/"
        },
        "id": "pF1BIHupl7WY",
        "outputId": "3f0847c3-d6a8-41c6-c1d6-b69f1379373e"
      },
      "outputs": [
        {
          "output_type": "stream",
          "name": "stdout",
          "text": [
            "train: (4985269, 6)\n",
            "test: (490982, 6)\n"
          ]
        }
      ],
      "source": [
        "train = interactions[interactions[Columns.Datetime] < max_date - pd.Timedelta(days=7)].copy()\n",
        "test = interactions[interactions[Columns.Datetime] >= max_date - pd.Timedelta(days=7)].copy()   #data separation, test - data about the last week \n",
        "\n",
        "print(f\"train: {train.shape}\")\n",
        "print(f\"test: {test.shape}\")"
      ]
    },
    {
      "cell_type": "code",
      "execution_count": 18,
      "metadata": {
        "id": "GXLdzTBFmQOA"
      },
      "outputs": [],
      "source": [
        "cold_users = set(test[Columns.User]) - set(train[Columns.User])   #filter out cold users from the test\n",
        "test.drop(test[test[Columns.User].isin(cold_users)].index, inplace=True)"
      ]
    },
    {
      "cell_type": "markdown",
      "metadata": {
        "id": "B9ddNt32meHC"
      },
      "source": [
        "# Prepare features\n",
        "\n",
        "## User features"
      ]
    },
    {
      "cell_type": "code",
      "execution_count": 19,
      "metadata": {
        "colab": {
          "base_uri": "https://localhost:8080/"
        },
        "id": "FqC6vTRwmwgz",
        "outputId": "a232175d-9445-4845-9842-d752cb8fc7a4"
      },
      "outputs": [
        {
          "output_type": "execute_result",
          "data": {
            "text/plain": [
              "user_id         0\n",
              "age         14095\n",
              "income      14776\n",
              "sex         13831\n",
              "kids_flg        0\n",
              "dtype: int64"
            ]
          },
          "metadata": {},
          "execution_count": 19
        }
      ],
      "source": [
        "users.isnull().sum()"
      ]
    },
    {
      "cell_type": "code",
      "execution_count": 20,
      "metadata": {
        "id": "xEM7iqEOmxrM"
      },
      "outputs": [],
      "source": [
        "users.fillna('Unknown', inplace=True)"
      ]
    },
    {
      "cell_type": "code",
      "execution_count": 21,
      "metadata": {
        "colab": {
          "base_uri": "https://localhost:8080/"
        },
        "id": "Sxggeotamxx4",
        "outputId": "4a48e5db-5241-4316-a450-3e8a69c8eea4"
      },
      "outputs": [
        {
          "output_type": "execute_result",
          "data": {
            "text/plain": [
              "user_id     840197\n",
              "age              7\n",
              "income           7\n",
              "sex              3\n",
              "kids_flg         2\n",
              "dtype: int64"
            ]
          },
          "metadata": {},
          "execution_count": 21
        }
      ],
      "source": [
        "users.nunique()"
      ]
    },
    {
      "cell_type": "code",
      "execution_count": 22,
      "metadata": {
        "id": "Av_8ZukZmx3c"
      },
      "outputs": [],
      "source": [
        "users = users.loc[users[Columns.User].isin(train[Columns.User])].copy()"
      ]
    },
    {
      "cell_type": "code",
      "execution_count": 23,
      "metadata": {
        "colab": {
          "base_uri": "https://localhost:8080/",
          "height": 206
        },
        "id": "nm1Cz_26nDnM",
        "outputId": "2b4d050e-53b5-46d5-a6e2-88ecb46cd39e"
      },
      "outputs": [
        {
          "output_type": "execute_result",
          "data": {
            "text/plain": [
              "        id value feature\n",
              "0   973171     М     sex\n",
              "1   962099     М     sex\n",
              "3   721985     Ж     sex\n",
              "4   704055     Ж     sex\n",
              "5  1037719     М     sex"
            ],
            "text/html": [
              "\n",
              "  <div id=\"df-f0620133-8197-4cc2-8d98-3834cef2b2c5\">\n",
              "    <div class=\"colab-df-container\">\n",
              "      <div>\n",
              "<style scoped>\n",
              "    .dataframe tbody tr th:only-of-type {\n",
              "        vertical-align: middle;\n",
              "    }\n",
              "\n",
              "    .dataframe tbody tr th {\n",
              "        vertical-align: top;\n",
              "    }\n",
              "\n",
              "    .dataframe thead th {\n",
              "        text-align: right;\n",
              "    }\n",
              "</style>\n",
              "<table border=\"1\" class=\"dataframe\">\n",
              "  <thead>\n",
              "    <tr style=\"text-align: right;\">\n",
              "      <th></th>\n",
              "      <th>id</th>\n",
              "      <th>value</th>\n",
              "      <th>feature</th>\n",
              "    </tr>\n",
              "  </thead>\n",
              "  <tbody>\n",
              "    <tr>\n",
              "      <th>0</th>\n",
              "      <td>973171</td>\n",
              "      <td>М</td>\n",
              "      <td>sex</td>\n",
              "    </tr>\n",
              "    <tr>\n",
              "      <th>1</th>\n",
              "      <td>962099</td>\n",
              "      <td>М</td>\n",
              "      <td>sex</td>\n",
              "    </tr>\n",
              "    <tr>\n",
              "      <th>3</th>\n",
              "      <td>721985</td>\n",
              "      <td>Ж</td>\n",
              "      <td>sex</td>\n",
              "    </tr>\n",
              "    <tr>\n",
              "      <th>4</th>\n",
              "      <td>704055</td>\n",
              "      <td>Ж</td>\n",
              "      <td>sex</td>\n",
              "    </tr>\n",
              "    <tr>\n",
              "      <th>5</th>\n",
              "      <td>1037719</td>\n",
              "      <td>М</td>\n",
              "      <td>sex</td>\n",
              "    </tr>\n",
              "  </tbody>\n",
              "</table>\n",
              "</div>\n",
              "      <button class=\"colab-df-convert\" onclick=\"convertToInteractive('df-f0620133-8197-4cc2-8d98-3834cef2b2c5')\"\n",
              "              title=\"Convert this dataframe to an interactive table.\"\n",
              "              style=\"display:none;\">\n",
              "        \n",
              "  <svg xmlns=\"http://www.w3.org/2000/svg\" height=\"24px\"viewBox=\"0 0 24 24\"\n",
              "       width=\"24px\">\n",
              "    <path d=\"M0 0h24v24H0V0z\" fill=\"none\"/>\n",
              "    <path d=\"M18.56 5.44l.94 2.06.94-2.06 2.06-.94-2.06-.94-.94-2.06-.94 2.06-2.06.94zm-11 1L8.5 8.5l.94-2.06 2.06-.94-2.06-.94L8.5 2.5l-.94 2.06-2.06.94zm10 10l.94 2.06.94-2.06 2.06-.94-2.06-.94-.94-2.06-.94 2.06-2.06.94z\"/><path d=\"M17.41 7.96l-1.37-1.37c-.4-.4-.92-.59-1.43-.59-.52 0-1.04.2-1.43.59L10.3 9.45l-7.72 7.72c-.78.78-.78 2.05 0 2.83L4 21.41c.39.39.9.59 1.41.59.51 0 1.02-.2 1.41-.59l7.78-7.78 2.81-2.81c.8-.78.8-2.07 0-2.86zM5.41 20L4 18.59l7.72-7.72 1.47 1.35L5.41 20z\"/>\n",
              "  </svg>\n",
              "      </button>\n",
              "      \n",
              "  <style>\n",
              "    .colab-df-container {\n",
              "      display:flex;\n",
              "      flex-wrap:wrap;\n",
              "      gap: 12px;\n",
              "    }\n",
              "\n",
              "    .colab-df-convert {\n",
              "      background-color: #E8F0FE;\n",
              "      border: none;\n",
              "      border-radius: 50%;\n",
              "      cursor: pointer;\n",
              "      display: none;\n",
              "      fill: #1967D2;\n",
              "      height: 32px;\n",
              "      padding: 0 0 0 0;\n",
              "      width: 32px;\n",
              "    }\n",
              "\n",
              "    .colab-df-convert:hover {\n",
              "      background-color: #E2EBFA;\n",
              "      box-shadow: 0px 1px 2px rgba(60, 64, 67, 0.3), 0px 1px 3px 1px rgba(60, 64, 67, 0.15);\n",
              "      fill: #174EA6;\n",
              "    }\n",
              "\n",
              "    [theme=dark] .colab-df-convert {\n",
              "      background-color: #3B4455;\n",
              "      fill: #D2E3FC;\n",
              "    }\n",
              "\n",
              "    [theme=dark] .colab-df-convert:hover {\n",
              "      background-color: #434B5C;\n",
              "      box-shadow: 0px 1px 3px 1px rgba(0, 0, 0, 0.15);\n",
              "      filter: drop-shadow(0px 1px 2px rgba(0, 0, 0, 0.3));\n",
              "      fill: #FFFFFF;\n",
              "    }\n",
              "  </style>\n",
              "\n",
              "      <script>\n",
              "        const buttonEl =\n",
              "          document.querySelector('#df-f0620133-8197-4cc2-8d98-3834cef2b2c5 button.colab-df-convert');\n",
              "        buttonEl.style.display =\n",
              "          google.colab.kernel.accessAllowed ? 'block' : 'none';\n",
              "\n",
              "        async function convertToInteractive(key) {\n",
              "          const element = document.querySelector('#df-f0620133-8197-4cc2-8d98-3834cef2b2c5');\n",
              "          const dataTable =\n",
              "            await google.colab.kernel.invokeFunction('convertToInteractive',\n",
              "                                                     [key], {});\n",
              "          if (!dataTable) return;\n",
              "\n",
              "          const docLinkHtml = 'Like what you see? Visit the ' +\n",
              "            '<a target=\"_blank\" href=https://colab.research.google.com/notebooks/data_table.ipynb>data table notebook</a>'\n",
              "            + ' to learn more about interactive tables.';\n",
              "          element.innerHTML = '';\n",
              "          dataTable['output_type'] = 'display_data';\n",
              "          await google.colab.output.renderOutput(dataTable, element);\n",
              "          const docLink = document.createElement('div');\n",
              "          docLink.innerHTML = docLinkHtml;\n",
              "          element.appendChild(docLink);\n",
              "        }\n",
              "      </script>\n",
              "    </div>\n",
              "  </div>\n",
              "  "
            ]
          },
          "metadata": {},
          "execution_count": 23
        }
      ],
      "source": [
        "user_features_frames = []\n",
        "for feature in [\"sex\", \"age\"]:    #as features, we take the sex  and age of the user\n",
        "    feature_frame = users.reindex(columns=[Columns.User, feature])\n",
        "    feature_frame.columns = [\"id\", \"value\"]\n",
        "    feature_frame[\"feature\"] = feature\n",
        "    user_features_frames.append(feature_frame)\n",
        "user_features = pd.concat(user_features_frames)\n",
        "user_features.head()"
      ]
    },
    {
      "cell_type": "code",
      "execution_count": 24,
      "metadata": {
        "colab": {
          "base_uri": "https://localhost:8080/",
          "height": 112
        },
        "id": "0RnBqqKsn_JW",
        "outputId": "147b2944-6451-41c9-e3bf-c796575986b4"
      },
      "outputs": [
        {
          "output_type": "execute_result",
          "data": {
            "text/plain": [
              "       id      value feature\n",
              "0  973171          М     sex\n",
              "0  973171  age_25_34     age"
            ],
            "text/html": [
              "\n",
              "  <div id=\"df-1c471638-81b9-4bf2-9b99-57888fdb1b1e\">\n",
              "    <div class=\"colab-df-container\">\n",
              "      <div>\n",
              "<style scoped>\n",
              "    .dataframe tbody tr th:only-of-type {\n",
              "        vertical-align: middle;\n",
              "    }\n",
              "\n",
              "    .dataframe tbody tr th {\n",
              "        vertical-align: top;\n",
              "    }\n",
              "\n",
              "    .dataframe thead th {\n",
              "        text-align: right;\n",
              "    }\n",
              "</style>\n",
              "<table border=\"1\" class=\"dataframe\">\n",
              "  <thead>\n",
              "    <tr style=\"text-align: right;\">\n",
              "      <th></th>\n",
              "      <th>id</th>\n",
              "      <th>value</th>\n",
              "      <th>feature</th>\n",
              "    </tr>\n",
              "  </thead>\n",
              "  <tbody>\n",
              "    <tr>\n",
              "      <th>0</th>\n",
              "      <td>973171</td>\n",
              "      <td>М</td>\n",
              "      <td>sex</td>\n",
              "    </tr>\n",
              "    <tr>\n",
              "      <th>0</th>\n",
              "      <td>973171</td>\n",
              "      <td>age_25_34</td>\n",
              "      <td>age</td>\n",
              "    </tr>\n",
              "  </tbody>\n",
              "</table>\n",
              "</div>\n",
              "      <button class=\"colab-df-convert\" onclick=\"convertToInteractive('df-1c471638-81b9-4bf2-9b99-57888fdb1b1e')\"\n",
              "              title=\"Convert this dataframe to an interactive table.\"\n",
              "              style=\"display:none;\">\n",
              "        \n",
              "  <svg xmlns=\"http://www.w3.org/2000/svg\" height=\"24px\"viewBox=\"0 0 24 24\"\n",
              "       width=\"24px\">\n",
              "    <path d=\"M0 0h24v24H0V0z\" fill=\"none\"/>\n",
              "    <path d=\"M18.56 5.44l.94 2.06.94-2.06 2.06-.94-2.06-.94-.94-2.06-.94 2.06-2.06.94zm-11 1L8.5 8.5l.94-2.06 2.06-.94-2.06-.94L8.5 2.5l-.94 2.06-2.06.94zm10 10l.94 2.06.94-2.06 2.06-.94-2.06-.94-.94-2.06-.94 2.06-2.06.94z\"/><path d=\"M17.41 7.96l-1.37-1.37c-.4-.4-.92-.59-1.43-.59-.52 0-1.04.2-1.43.59L10.3 9.45l-7.72 7.72c-.78.78-.78 2.05 0 2.83L4 21.41c.39.39.9.59 1.41.59.51 0 1.02-.2 1.41-.59l7.78-7.78 2.81-2.81c.8-.78.8-2.07 0-2.86zM5.41 20L4 18.59l7.72-7.72 1.47 1.35L5.41 20z\"/>\n",
              "  </svg>\n",
              "      </button>\n",
              "      \n",
              "  <style>\n",
              "    .colab-df-container {\n",
              "      display:flex;\n",
              "      flex-wrap:wrap;\n",
              "      gap: 12px;\n",
              "    }\n",
              "\n",
              "    .colab-df-convert {\n",
              "      background-color: #E8F0FE;\n",
              "      border: none;\n",
              "      border-radius: 50%;\n",
              "      cursor: pointer;\n",
              "      display: none;\n",
              "      fill: #1967D2;\n",
              "      height: 32px;\n",
              "      padding: 0 0 0 0;\n",
              "      width: 32px;\n",
              "    }\n",
              "\n",
              "    .colab-df-convert:hover {\n",
              "      background-color: #E2EBFA;\n",
              "      box-shadow: 0px 1px 2px rgba(60, 64, 67, 0.3), 0px 1px 3px 1px rgba(60, 64, 67, 0.15);\n",
              "      fill: #174EA6;\n",
              "    }\n",
              "\n",
              "    [theme=dark] .colab-df-convert {\n",
              "      background-color: #3B4455;\n",
              "      fill: #D2E3FC;\n",
              "    }\n",
              "\n",
              "    [theme=dark] .colab-df-convert:hover {\n",
              "      background-color: #434B5C;\n",
              "      box-shadow: 0px 1px 3px 1px rgba(0, 0, 0, 0.15);\n",
              "      filter: drop-shadow(0px 1px 2px rgba(0, 0, 0, 0.3));\n",
              "      fill: #FFFFFF;\n",
              "    }\n",
              "  </style>\n",
              "\n",
              "      <script>\n",
              "        const buttonEl =\n",
              "          document.querySelector('#df-1c471638-81b9-4bf2-9b99-57888fdb1b1e button.colab-df-convert');\n",
              "        buttonEl.style.display =\n",
              "          google.colab.kernel.accessAllowed ? 'block' : 'none';\n",
              "\n",
              "        async function convertToInteractive(key) {\n",
              "          const element = document.querySelector('#df-1c471638-81b9-4bf2-9b99-57888fdb1b1e');\n",
              "          const dataTable =\n",
              "            await google.colab.kernel.invokeFunction('convertToInteractive',\n",
              "                                                     [key], {});\n",
              "          if (!dataTable) return;\n",
              "\n",
              "          const docLinkHtml = 'Like what you see? Visit the ' +\n",
              "            '<a target=\"_blank\" href=https://colab.research.google.com/notebooks/data_table.ipynb>data table notebook</a>'\n",
              "            + ' to learn more about interactive tables.';\n",
              "          element.innerHTML = '';\n",
              "          dataTable['output_type'] = 'display_data';\n",
              "          await google.colab.output.renderOutput(dataTable, element);\n",
              "          const docLink = document.createElement('div');\n",
              "          docLink.innerHTML = docLinkHtml;\n",
              "          element.appendChild(docLink);\n",
              "        }\n",
              "      </script>\n",
              "    </div>\n",
              "  </div>\n",
              "  "
            ]
          },
          "metadata": {},
          "execution_count": 24
        }
      ],
      "source": [
        "user_features.query(f\"id == 973171\")"
      ]
    },
    {
      "cell_type": "markdown",
      "metadata": {
        "id": "r8N-oliaoGWf"
      },
      "source": [
        "## Item features"
      ]
    },
    {
      "cell_type": "code",
      "execution_count": 25,
      "metadata": {
        "colab": {
          "base_uri": "https://localhost:8080/"
        },
        "id": "dlbN1OEzn_QC",
        "outputId": "f1293b9a-e4fa-438e-b934-9ff82d570d88"
      },
      "outputs": [
        {
          "output_type": "execute_result",
          "data": {
            "text/plain": [
              "item_id             0\n",
              "content_type        0\n",
              "title               0\n",
              "title_orig       4745\n",
              "release_year       98\n",
              "genres              0\n",
              "countries          37\n",
              "for_kids        15397\n",
              "age_rating          2\n",
              "studios         14898\n",
              "directors        1509\n",
              "actors           2619\n",
              "description         2\n",
              "keywords          423\n",
              "dtype: int64"
            ]
          },
          "metadata": {},
          "execution_count": 25
        }
      ],
      "source": [
        "items.isnull().sum()"
      ]
    },
    {
      "cell_type": "code",
      "execution_count": 26,
      "metadata": {
        "id": "jSYP1sIYn_Sz"
      },
      "outputs": [],
      "source": [
        "items = items.loc[items[Columns.Item].isin(train[Columns.Item])].copy()"
      ]
    },
    {
      "cell_type": "code",
      "execution_count": 27,
      "metadata": {
        "colab": {
          "base_uri": "https://localhost:8080/"
        },
        "id": "-g-RNWUGot8o",
        "outputId": "f5a8609c-60b4-4c76-decc-65b19e79da98"
      },
      "outputs": [
        {
          "output_type": "execute_result",
          "data": {
            "text/plain": [
              "item_id         15565\n",
              "content_type        2\n",
              "title           14937\n",
              "title_orig      10377\n",
              "release_year      105\n",
              "genres           2720\n",
              "countries         676\n",
              "for_kids            2\n",
              "age_rating          6\n",
              "studios            38\n",
              "directors        7809\n",
              "actors          12671\n",
              "description     15225\n",
              "keywords        15123\n",
              "dtype: int64"
            ]
          },
          "metadata": {},
          "execution_count": 27
        }
      ],
      "source": [
        "items.nunique()"
      ]
    },
    {
      "cell_type": "markdown",
      "metadata": {
        "id": "5lz5hlhbo1MX"
      },
      "source": [
        "## Genre"
      ]
    },
    {
      "cell_type": "code",
      "execution_count": 28,
      "metadata": {
        "colab": {
          "base_uri": "https://localhost:8080/",
          "height": 0
        },
        "id": "PRbXtjJ7ot-1",
        "outputId": "651d245f-a3bf-48ef-cc55-64e6ed39adfc"
      },
      "outputs": [
        {
          "output_type": "execute_result",
          "data": {
            "text/plain": [
              "      id       value feature\n",
              "0  10711       драмы   genre\n",
              "0  10711  зарубежные   genre\n",
              "0  10711   детективы   genre\n",
              "0  10711   мелодрамы   genre\n",
              "1   2508  зарубежные   genre"
            ],
            "text/html": [
              "\n",
              "  <div id=\"df-0996d511-d4d3-4085-ac63-c1cd60da8a17\">\n",
              "    <div class=\"colab-df-container\">\n",
              "      <div>\n",
              "<style scoped>\n",
              "    .dataframe tbody tr th:only-of-type {\n",
              "        vertical-align: middle;\n",
              "    }\n",
              "\n",
              "    .dataframe tbody tr th {\n",
              "        vertical-align: top;\n",
              "    }\n",
              "\n",
              "    .dataframe thead th {\n",
              "        text-align: right;\n",
              "    }\n",
              "</style>\n",
              "<table border=\"1\" class=\"dataframe\">\n",
              "  <thead>\n",
              "    <tr style=\"text-align: right;\">\n",
              "      <th></th>\n",
              "      <th>id</th>\n",
              "      <th>value</th>\n",
              "      <th>feature</th>\n",
              "    </tr>\n",
              "  </thead>\n",
              "  <tbody>\n",
              "    <tr>\n",
              "      <th>0</th>\n",
              "      <td>10711</td>\n",
              "      <td>драмы</td>\n",
              "      <td>genre</td>\n",
              "    </tr>\n",
              "    <tr>\n",
              "      <th>0</th>\n",
              "      <td>10711</td>\n",
              "      <td>зарубежные</td>\n",
              "      <td>genre</td>\n",
              "    </tr>\n",
              "    <tr>\n",
              "      <th>0</th>\n",
              "      <td>10711</td>\n",
              "      <td>детективы</td>\n",
              "      <td>genre</td>\n",
              "    </tr>\n",
              "    <tr>\n",
              "      <th>0</th>\n",
              "      <td>10711</td>\n",
              "      <td>мелодрамы</td>\n",
              "      <td>genre</td>\n",
              "    </tr>\n",
              "    <tr>\n",
              "      <th>1</th>\n",
              "      <td>2508</td>\n",
              "      <td>зарубежные</td>\n",
              "      <td>genre</td>\n",
              "    </tr>\n",
              "  </tbody>\n",
              "</table>\n",
              "</div>\n",
              "      <button class=\"colab-df-convert\" onclick=\"convertToInteractive('df-0996d511-d4d3-4085-ac63-c1cd60da8a17')\"\n",
              "              title=\"Convert this dataframe to an interactive table.\"\n",
              "              style=\"display:none;\">\n",
              "        \n",
              "  <svg xmlns=\"http://www.w3.org/2000/svg\" height=\"24px\"viewBox=\"0 0 24 24\"\n",
              "       width=\"24px\">\n",
              "    <path d=\"M0 0h24v24H0V0z\" fill=\"none\"/>\n",
              "    <path d=\"M18.56 5.44l.94 2.06.94-2.06 2.06-.94-2.06-.94-.94-2.06-.94 2.06-2.06.94zm-11 1L8.5 8.5l.94-2.06 2.06-.94-2.06-.94L8.5 2.5l-.94 2.06-2.06.94zm10 10l.94 2.06.94-2.06 2.06-.94-2.06-.94-.94-2.06-.94 2.06-2.06.94z\"/><path d=\"M17.41 7.96l-1.37-1.37c-.4-.4-.92-.59-1.43-.59-.52 0-1.04.2-1.43.59L10.3 9.45l-7.72 7.72c-.78.78-.78 2.05 0 2.83L4 21.41c.39.39.9.59 1.41.59.51 0 1.02-.2 1.41-.59l7.78-7.78 2.81-2.81c.8-.78.8-2.07 0-2.86zM5.41 20L4 18.59l7.72-7.72 1.47 1.35L5.41 20z\"/>\n",
              "  </svg>\n",
              "      </button>\n",
              "      \n",
              "  <style>\n",
              "    .colab-df-container {\n",
              "      display:flex;\n",
              "      flex-wrap:wrap;\n",
              "      gap: 12px;\n",
              "    }\n",
              "\n",
              "    .colab-df-convert {\n",
              "      background-color: #E8F0FE;\n",
              "      border: none;\n",
              "      border-radius: 50%;\n",
              "      cursor: pointer;\n",
              "      display: none;\n",
              "      fill: #1967D2;\n",
              "      height: 32px;\n",
              "      padding: 0 0 0 0;\n",
              "      width: 32px;\n",
              "    }\n",
              "\n",
              "    .colab-df-convert:hover {\n",
              "      background-color: #E2EBFA;\n",
              "      box-shadow: 0px 1px 2px rgba(60, 64, 67, 0.3), 0px 1px 3px 1px rgba(60, 64, 67, 0.15);\n",
              "      fill: #174EA6;\n",
              "    }\n",
              "\n",
              "    [theme=dark] .colab-df-convert {\n",
              "      background-color: #3B4455;\n",
              "      fill: #D2E3FC;\n",
              "    }\n",
              "\n",
              "    [theme=dark] .colab-df-convert:hover {\n",
              "      background-color: #434B5C;\n",
              "      box-shadow: 0px 1px 3px 1px rgba(0, 0, 0, 0.15);\n",
              "      filter: drop-shadow(0px 1px 2px rgba(0, 0, 0, 0.3));\n",
              "      fill: #FFFFFF;\n",
              "    }\n",
              "  </style>\n",
              "\n",
              "      <script>\n",
              "        const buttonEl =\n",
              "          document.querySelector('#df-0996d511-d4d3-4085-ac63-c1cd60da8a17 button.colab-df-convert');\n",
              "        buttonEl.style.display =\n",
              "          google.colab.kernel.accessAllowed ? 'block' : 'none';\n",
              "\n",
              "        async function convertToInteractive(key) {\n",
              "          const element = document.querySelector('#df-0996d511-d4d3-4085-ac63-c1cd60da8a17');\n",
              "          const dataTable =\n",
              "            await google.colab.kernel.invokeFunction('convertToInteractive',\n",
              "                                                     [key], {});\n",
              "          if (!dataTable) return;\n",
              "\n",
              "          const docLinkHtml = 'Like what you see? Visit the ' +\n",
              "            '<a target=\"_blank\" href=https://colab.research.google.com/notebooks/data_table.ipynb>data table notebook</a>'\n",
              "            + ' to learn more about interactive tables.';\n",
              "          element.innerHTML = '';\n",
              "          dataTable['output_type'] = 'display_data';\n",
              "          await google.colab.output.renderOutput(dataTable, element);\n",
              "          const docLink = document.createElement('div');\n",
              "          docLink.innerHTML = docLinkHtml;\n",
              "          element.appendChild(docLink);\n",
              "        }\n",
              "      </script>\n",
              "    </div>\n",
              "  </div>\n",
              "  "
            ]
          },
          "metadata": {},
          "execution_count": 28
        }
      ],
      "source": [
        "items[\"genre\"] = items[\"genres\"].str.lower().str.replace(\", \", \",\", regex=False).str.split(\",\")       #explode genres to flatten table\n",
        "genre_feature = items[[\"item_id\", \"genre\"]].explode(\"genre\")\n",
        "genre_feature.columns = [\"id\", \"value\"]\n",
        "genre_feature[\"feature\"] = \"genre\"\n",
        "genre_feature.head()"
      ]
    },
    {
      "cell_type": "markdown",
      "metadata": {
        "id": "9g3-wQ6dpDHj"
      },
      "source": [
        "## Content"
      ]
    },
    {
      "cell_type": "code",
      "execution_count": 29,
      "metadata": {
        "id": "Vphaz4-IouBH"
      },
      "outputs": [],
      "source": [
        "content_feature = items.reindex(columns=[Columns.Item, \"content_type\"])\n",
        "content_feature.columns = [\"id\", \"value\"]\n",
        "content_feature[\"feature\"] = \"content_type\"\n",
        "item_features = pd.concat((genre_feature, content_feature))"
      ]
    },
    {
      "cell_type": "code",
      "execution_count": 30,
      "metadata": {
        "colab": {
          "base_uri": "https://localhost:8080/",
          "height": 0
        },
        "id": "q_oaJi-SpQLo",
        "outputId": "017d0f20-6b80-4261-c510-cbdacb198833"
      },
      "outputs": [
        {
          "output_type": "execute_result",
          "data": {
            "text/plain": [
              "          id       value       feature\n",
              "0      10711       драмы         genre\n",
              "0      10711  зарубежные         genre\n",
              "0      10711   детективы         genre\n",
              "0      10711   мелодрамы         genre\n",
              "1       2508  зарубежные         genre\n",
              "...      ...         ...           ...\n",
              "15958   6443      series  content_type\n",
              "15959   2367      series  content_type\n",
              "15960  10632      series  content_type\n",
              "15961   4538      series  content_type\n",
              "15962   3206      series  content_type\n",
              "\n",
              "[55193 rows x 3 columns]"
            ],
            "text/html": [
              "\n",
              "  <div id=\"df-19ccbb5c-f91a-41e6-acd6-70a6dfcb86bd\">\n",
              "    <div class=\"colab-df-container\">\n",
              "      <div>\n",
              "<style scoped>\n",
              "    .dataframe tbody tr th:only-of-type {\n",
              "        vertical-align: middle;\n",
              "    }\n",
              "\n",
              "    .dataframe tbody tr th {\n",
              "        vertical-align: top;\n",
              "    }\n",
              "\n",
              "    .dataframe thead th {\n",
              "        text-align: right;\n",
              "    }\n",
              "</style>\n",
              "<table border=\"1\" class=\"dataframe\">\n",
              "  <thead>\n",
              "    <tr style=\"text-align: right;\">\n",
              "      <th></th>\n",
              "      <th>id</th>\n",
              "      <th>value</th>\n",
              "      <th>feature</th>\n",
              "    </tr>\n",
              "  </thead>\n",
              "  <tbody>\n",
              "    <tr>\n",
              "      <th>0</th>\n",
              "      <td>10711</td>\n",
              "      <td>драмы</td>\n",
              "      <td>genre</td>\n",
              "    </tr>\n",
              "    <tr>\n",
              "      <th>0</th>\n",
              "      <td>10711</td>\n",
              "      <td>зарубежные</td>\n",
              "      <td>genre</td>\n",
              "    </tr>\n",
              "    <tr>\n",
              "      <th>0</th>\n",
              "      <td>10711</td>\n",
              "      <td>детективы</td>\n",
              "      <td>genre</td>\n",
              "    </tr>\n",
              "    <tr>\n",
              "      <th>0</th>\n",
              "      <td>10711</td>\n",
              "      <td>мелодрамы</td>\n",
              "      <td>genre</td>\n",
              "    </tr>\n",
              "    <tr>\n",
              "      <th>1</th>\n",
              "      <td>2508</td>\n",
              "      <td>зарубежные</td>\n",
              "      <td>genre</td>\n",
              "    </tr>\n",
              "    <tr>\n",
              "      <th>...</th>\n",
              "      <td>...</td>\n",
              "      <td>...</td>\n",
              "      <td>...</td>\n",
              "    </tr>\n",
              "    <tr>\n",
              "      <th>15958</th>\n",
              "      <td>6443</td>\n",
              "      <td>series</td>\n",
              "      <td>content_type</td>\n",
              "    </tr>\n",
              "    <tr>\n",
              "      <th>15959</th>\n",
              "      <td>2367</td>\n",
              "      <td>series</td>\n",
              "      <td>content_type</td>\n",
              "    </tr>\n",
              "    <tr>\n",
              "      <th>15960</th>\n",
              "      <td>10632</td>\n",
              "      <td>series</td>\n",
              "      <td>content_type</td>\n",
              "    </tr>\n",
              "    <tr>\n",
              "      <th>15961</th>\n",
              "      <td>4538</td>\n",
              "      <td>series</td>\n",
              "      <td>content_type</td>\n",
              "    </tr>\n",
              "    <tr>\n",
              "      <th>15962</th>\n",
              "      <td>3206</td>\n",
              "      <td>series</td>\n",
              "      <td>content_type</td>\n",
              "    </tr>\n",
              "  </tbody>\n",
              "</table>\n",
              "<p>55193 rows × 3 columns</p>\n",
              "</div>\n",
              "      <button class=\"colab-df-convert\" onclick=\"convertToInteractive('df-19ccbb5c-f91a-41e6-acd6-70a6dfcb86bd')\"\n",
              "              title=\"Convert this dataframe to an interactive table.\"\n",
              "              style=\"display:none;\">\n",
              "        \n",
              "  <svg xmlns=\"http://www.w3.org/2000/svg\" height=\"24px\"viewBox=\"0 0 24 24\"\n",
              "       width=\"24px\">\n",
              "    <path d=\"M0 0h24v24H0V0z\" fill=\"none\"/>\n",
              "    <path d=\"M18.56 5.44l.94 2.06.94-2.06 2.06-.94-2.06-.94-.94-2.06-.94 2.06-2.06.94zm-11 1L8.5 8.5l.94-2.06 2.06-.94-2.06-.94L8.5 2.5l-.94 2.06-2.06.94zm10 10l.94 2.06.94-2.06 2.06-.94-2.06-.94-.94-2.06-.94 2.06-2.06.94z\"/><path d=\"M17.41 7.96l-1.37-1.37c-.4-.4-.92-.59-1.43-.59-.52 0-1.04.2-1.43.59L10.3 9.45l-7.72 7.72c-.78.78-.78 2.05 0 2.83L4 21.41c.39.39.9.59 1.41.59.51 0 1.02-.2 1.41-.59l7.78-7.78 2.81-2.81c.8-.78.8-2.07 0-2.86zM5.41 20L4 18.59l7.72-7.72 1.47 1.35L5.41 20z\"/>\n",
              "  </svg>\n",
              "      </button>\n",
              "      \n",
              "  <style>\n",
              "    .colab-df-container {\n",
              "      display:flex;\n",
              "      flex-wrap:wrap;\n",
              "      gap: 12px;\n",
              "    }\n",
              "\n",
              "    .colab-df-convert {\n",
              "      background-color: #E8F0FE;\n",
              "      border: none;\n",
              "      border-radius: 50%;\n",
              "      cursor: pointer;\n",
              "      display: none;\n",
              "      fill: #1967D2;\n",
              "      height: 32px;\n",
              "      padding: 0 0 0 0;\n",
              "      width: 32px;\n",
              "    }\n",
              "\n",
              "    .colab-df-convert:hover {\n",
              "      background-color: #E2EBFA;\n",
              "      box-shadow: 0px 1px 2px rgba(60, 64, 67, 0.3), 0px 1px 3px 1px rgba(60, 64, 67, 0.15);\n",
              "      fill: #174EA6;\n",
              "    }\n",
              "\n",
              "    [theme=dark] .colab-df-convert {\n",
              "      background-color: #3B4455;\n",
              "      fill: #D2E3FC;\n",
              "    }\n",
              "\n",
              "    [theme=dark] .colab-df-convert:hover {\n",
              "      background-color: #434B5C;\n",
              "      box-shadow: 0px 1px 3px 1px rgba(0, 0, 0, 0.15);\n",
              "      filter: drop-shadow(0px 1px 2px rgba(0, 0, 0, 0.3));\n",
              "      fill: #FFFFFF;\n",
              "    }\n",
              "  </style>\n",
              "\n",
              "      <script>\n",
              "        const buttonEl =\n",
              "          document.querySelector('#df-19ccbb5c-f91a-41e6-acd6-70a6dfcb86bd button.colab-df-convert');\n",
              "        buttonEl.style.display =\n",
              "          google.colab.kernel.accessAllowed ? 'block' : 'none';\n",
              "\n",
              "        async function convertToInteractive(key) {\n",
              "          const element = document.querySelector('#df-19ccbb5c-f91a-41e6-acd6-70a6dfcb86bd');\n",
              "          const dataTable =\n",
              "            await google.colab.kernel.invokeFunction('convertToInteractive',\n",
              "                                                     [key], {});\n",
              "          if (!dataTable) return;\n",
              "\n",
              "          const docLinkHtml = 'Like what you see? Visit the ' +\n",
              "            '<a target=\"_blank\" href=https://colab.research.google.com/notebooks/data_table.ipynb>data table notebook</a>'\n",
              "            + ' to learn more about interactive tables.';\n",
              "          element.innerHTML = '';\n",
              "          dataTable['output_type'] = 'display_data';\n",
              "          await google.colab.output.renderOutput(dataTable, element);\n",
              "          const docLink = document.createElement('div');\n",
              "          docLink.innerHTML = docLinkHtml;\n",
              "          element.appendChild(docLink);\n",
              "        }\n",
              "      </script>\n",
              "    </div>\n",
              "  </div>\n",
              "  "
            ]
          },
          "metadata": {},
          "execution_count": 30
        }
      ],
      "source": [
        "item_features"
      ]
    },
    {
      "cell_type": "markdown",
      "metadata": {
        "id": "CCvbaNwEqgzM"
      },
      "source": [
        "# Metrics"
      ]
    },
    {
      "cell_type": "code",
      "execution_count": 31,
      "metadata": {
        "id": "3cZIAtWRqhSJ"
      },
      "outputs": [],
      "source": [
        "metrics_name = {\n",
        "    'Precision': Precision,\n",
        "    'Recall': Recall,\n",
        "    'MAP': MAP,\n",
        "}\n",
        "\n",
        "metrics = {}\n",
        "for metric_name, metric in metrics_name.items():\n",
        "    for k in range(1, 11):\n",
        "        metrics[f'{metric_name}@{k}'] = metric(k=k)"
      ]
    },
    {
      "cell_type": "markdown",
      "metadata": {
        "id": "uQh2PiYtqqpk"
      },
      "source": [
        "# Models"
      ]
    },
    {
      "cell_type": "code",
      "execution_count": 32,
      "metadata": {
        "id": "zipz6Yw5qo9D"
      },
      "outputs": [],
      "source": [
        "K_RECOS = 10\n",
        "RANDOM_STATE = 42\n",
        "NUM_THREADS = 8\n",
        "N_FACTORS = (20, 30)\n",
        "N_EPOCHS = (6, ) \n",
        "USER_ALPHA = [0, 0.1] \n",
        "ITEM_ALPHA = [0, 0.1] \n",
        "LEARNING_RATE = 0.05 "
      ]
    },
    {
      "cell_type": "code",
      "execution_count": 33,
      "metadata": {
        "id": "BoVQYAZEqo_q"
      },
      "outputs": [],
      "source": [
        "models = {\n",
        "    'popular': PopularModel(),\n",
        "}"
      ]
    },
    {
      "cell_type": "code",
      "execution_count": 34,
      "metadata": {
        "colab": {
          "base_uri": "https://localhost:8080/"
        },
        "id": "e8RARj57qpCB",
        "outputId": "2c3184ce-8e60-4d14-9f9d-6af88641ecdb"
      },
      "outputs": [
        {
          "output_type": "stream",
          "name": "stderr",
          "text": [
            "WARNING:implicit:GPU training requires factor size to be a multiple of 32. Increasing factors from 20 to 32.\n",
            "WARNING:implicit:GPU training requires factor size to be a multiple of 32. Increasing factors from 30 to 32.\n",
            "WARNING:implicit:GPU training requires factor size to be a multiple of 32. Increasing factors from 20 to 32.\n",
            "WARNING:implicit:GPU training requires factor size to be a multiple of 32. Increasing factors from 30 to 32.\n"
          ]
        }
      ],
      "source": [
        "implicit_models = {\n",
        "    'ALS': AlternatingLeastSquares,\n",
        "}\n",
        "\n",
        "for implicit_name, implicit_model in implicit_models.items():\n",
        "    for is_fitting_features in (True, False):\n",
        "        for n_factors in N_FACTORS:\n",
        "            models[f\"{implicit_name}_n_factors:{n_factors}_is_fitting_features:{is_fitting_features}\"] = (\n",
        "                ImplicitALSWrapperModel(\n",
        "                    model=implicit_model(\n",
        "                        factors=n_factors, \n",
        "                        random_state=RANDOM_STATE, \n",
        "                        num_threads=NUM_THREADS,\n",
        "                    ),\n",
        "                    fit_features_together=is_fitting_features,\n",
        "                )\n",
        "            )"
      ]
    },
    {
      "cell_type": "code",
      "execution_count": 35,
      "metadata": {
        "id": "RVevYLTwqhZi"
      },
      "outputs": [],
      "source": [
        "lightfm_losses = ('bpr', 'warp') \n",
        "\n",
        "for n_epoch in N_EPOCHS:\n",
        "  for user_alpha in USER_ALPHA:\n",
        "    for item_alpha in ITEM_ALPHA:\n",
        "      for loss in lightfm_losses:\n",
        "          for n_factors in N_FACTORS:\n",
        "              models[f\"LightFM_{loss}_n_factors:{n_factors}_user_alpha:{user_alpha}_item_alpha:{item_alpha}_n_epoch:{n_epoch}\"] = LightFMWrapperModel(\n",
        "                  LightFM(\n",
        "                      no_components=n_factors, \n",
        "                      loss=loss, \n",
        "                      random_state=RANDOM_STATE,\n",
        "                      learning_rate=LEARNING_RATE,\n",
        "                      user_alpha=user_alpha,\n",
        "                      item_alpha=item_alpha,\n",
        "                  ),\n",
        "                  epochs=n_epoch,\n",
        "                  num_threads=NUM_THREADS,\n",
        "              )"
      ]
    },
    {
      "cell_type": "code",
      "execution_count": 36,
      "metadata": {
        "colab": {
          "base_uri": "https://localhost:8080/"
        },
        "id": "UGGJzonPqhck",
        "outputId": "1b323399-ac6f-46f3-de22-c37aed38bd75"
      },
      "outputs": [
        {
          "output_type": "stream",
          "name": "stdout",
          "text": [
            "CPU times: user 1.72 s, sys: 28.8 ms, total: 1.75 s\n",
            "Wall time: 1.76 s\n"
          ]
        }
      ],
      "source": [
        "%%time\n",
        "dataset = Dataset.construct(\n",
        "    interactions_df=train,\n",
        "    user_features_df=user_features,\n",
        "    cat_user_features=[\"sex\", \"age\"],\n",
        "    item_features_df=item_features,\n",
        "    cat_item_features=[\"genre\", \"content_type\"],\n",
        ")"
      ]
    },
    {
      "cell_type": "code",
      "execution_count": 37,
      "metadata": {
        "id": "qRLh8FcBqhfJ"
      },
      "outputs": [],
      "source": [
        "test_users = test[Columns.User].unique()"
      ]
    },
    {
      "cell_type": "code",
      "execution_count": null,
      "metadata": {
        "colab": {
          "base_uri": "https://localhost:8080/"
        },
        "id": "9nzQRkPgqhmQ",
        "outputId": "325d572d-4590-4118-e08a-5d03cd234e66"
      },
      "outputs": [
        {
          "output_type": "stream",
          "name": "stdout",
          "text": [
            "Fitting model popular...\n",
            "Fitting model ALS_n_factors:20_is_fitting_features:True...\n",
            "Fitting model ALS_n_factors:30_is_fitting_features:True...\n",
            "Fitting model ALS_n_factors:20_is_fitting_features:False...\n",
            "Fitting model ALS_n_factors:30_is_fitting_features:False...\n",
            "Fitting model LightFM_bpr_n_factors:20_user_alpha:0_item_alpha:0_n_epoch:6...\n",
            "Fitting model LightFM_bpr_n_factors:30_user_alpha:0_item_alpha:0_n_epoch:6...\n",
            "Fitting model LightFM_warp_n_factors:20_user_alpha:0_item_alpha:0_n_epoch:6...\n",
            "Fitting model LightFM_warp_n_factors:30_user_alpha:0_item_alpha:0_n_epoch:6...\n",
            "Fitting model LightFM_bpr_n_factors:20_user_alpha:0_item_alpha:0.1_n_epoch:6...\n",
            "Fitting model LightFM_bpr_n_factors:30_user_alpha:0_item_alpha:0.1_n_epoch:6...\n",
            "Fitting model LightFM_warp_n_factors:20_user_alpha:0_item_alpha:0.1_n_epoch:6...\n",
            "Fitting model LightFM_warp_n_factors:30_user_alpha:0_item_alpha:0.1_n_epoch:6...\n",
            "Fitting model LightFM_bpr_n_factors:20_user_alpha:0.1_item_alpha:0_n_epoch:6...\n",
            "Fitting model LightFM_bpr_n_factors:30_user_alpha:0.1_item_alpha:0_n_epoch:6...\n",
            "Fitting model LightFM_warp_n_factors:20_user_alpha:0.1_item_alpha:0_n_epoch:6...\n",
            "Fitting model LightFM_warp_n_factors:30_user_alpha:0.1_item_alpha:0_n_epoch:6...\n",
            "Fitting model LightFM_bpr_n_factors:20_user_alpha:0.1_item_alpha:0.1_n_epoch:6...\n",
            "Fitting model LightFM_bpr_n_factors:30_user_alpha:0.1_item_alpha:0.1_n_epoch:6...\n",
            "Fitting model LightFM_warp_n_factors:20_user_alpha:0.1_item_alpha:0.1_n_epoch:6...\n",
            "Fitting model LightFM_warp_n_factors:30_user_alpha:0.1_item_alpha:0.1_n_epoch:6...\n",
            "CPU times: user 1h 35min 8s, sys: 24min 10s, total: 1h 59min 18s\n",
            "Wall time: 1h 5min 12s\n"
          ]
        }
      ],
      "source": [
        "%%time\n",
        "results = []\n",
        "for model_name, model in models.items():\n",
        "    print(f\"Fitting model {model_name}...\")\n",
        "    model_quality = {'model': model_name}\n",
        "\n",
        "    model.fit(dataset)\n",
        "    recos = model.recommend(\n",
        "        users=test_users,\n",
        "        dataset=dataset,\n",
        "        k=K_RECOS,\n",
        "        filter_viewed=True,\n",
        "    )\n",
        "    metric_values = calc_metrics(metrics, recos, test, train)\n",
        "    model_quality.update(metric_values)\n",
        "    results.append(model_quality)"
      ]
    },
    {
      "cell_type": "code",
      "execution_count": null,
      "metadata": {
        "id": "dkfr_CzfqhpO"
      },
      "outputs": [],
      "source": [
        "df_quality = pd.DataFrame(results).T\n",
        "\n",
        "df_quality.columns = df_quality.iloc[0]\n",
        "\n",
        "df_quality.drop('model', inplace=True)"
      ]
    },
    {
      "cell_type": "code",
      "execution_count": null,
      "metadata": {
        "colab": {
          "base_uri": "https://localhost:8080/",
          "height": 1000
        },
        "id": "0VnAPolyqhrc",
        "outputId": "a4f34056-3f63-45ea-f380-e5aea0938541"
      },
      "outputs": [
        {
          "output_type": "execute_result",
          "data": {
            "text/plain": [
              "<pandas.io.formats.style.Styler at 0x7f31dca1e550>"
            ],
            "text/html": [
              "<style type=\"text/css\">\n",
              "#T_d38b6_row0_col1, #T_d38b6_row0_col2, #T_d38b6_row1_col1, #T_d38b6_row1_col2, #T_d38b6_row2_col1, #T_d38b6_row2_col2, #T_d38b6_row3_col1, #T_d38b6_row3_col2, #T_d38b6_row4_col0, #T_d38b6_row5_col20, #T_d38b6_row6_col0, #T_d38b6_row7_col0, #T_d38b6_row8_col0, #T_d38b6_row9_col0, #T_d38b6_row10_col0, #T_d38b6_row11_col0, #T_d38b6_row12_col0, #T_d38b6_row13_col0, #T_d38b6_row14_col0, #T_d38b6_row15_col0, #T_d38b6_row16_col8, #T_d38b6_row17_col0, #T_d38b6_row18_col8, #T_d38b6_row19_col0, #T_d38b6_row20_col1, #T_d38b6_row20_col2, #T_d38b6_row21_col1, #T_d38b6_row21_col2, #T_d38b6_row22_col20, #T_d38b6_row23_col20, #T_d38b6_row24_col20, #T_d38b6_row25_col20, #T_d38b6_row26_col20, #T_d38b6_row27_col20, #T_d38b6_row28_col20, #T_d38b6_row29_col20 {\n",
              "  background-color: lightgreen;\n",
              "}\n",
              "</style>\n",
              "<table id=\"T_d38b6_\" class=\"dataframe\">\n",
              "  <thead>\n",
              "    <tr>\n",
              "      <th class=\"index_name level0\" >model</th>\n",
              "      <th class=\"col_heading level0 col0\" >popular</th>\n",
              "      <th class=\"col_heading level0 col1\" >ALS_n_factors:20_is_fitting_features:True</th>\n",
              "      <th class=\"col_heading level0 col2\" >ALS_n_factors:30_is_fitting_features:True</th>\n",
              "      <th class=\"col_heading level0 col3\" >ALS_n_factors:20_is_fitting_features:False</th>\n",
              "      <th class=\"col_heading level0 col4\" >ALS_n_factors:30_is_fitting_features:False</th>\n",
              "      <th class=\"col_heading level0 col5\" >LightFM_bpr_n_factors:20_user_alpha:0_item_alpha:0_n_epoch:6</th>\n",
              "      <th class=\"col_heading level0 col6\" >LightFM_bpr_n_factors:30_user_alpha:0_item_alpha:0_n_epoch:6</th>\n",
              "      <th class=\"col_heading level0 col7\" >LightFM_warp_n_factors:20_user_alpha:0_item_alpha:0_n_epoch:6</th>\n",
              "      <th class=\"col_heading level0 col8\" >LightFM_warp_n_factors:30_user_alpha:0_item_alpha:0_n_epoch:6</th>\n",
              "      <th class=\"col_heading level0 col9\" >LightFM_bpr_n_factors:20_user_alpha:0_item_alpha:0.1_n_epoch:6</th>\n",
              "      <th class=\"col_heading level0 col10\" >LightFM_bpr_n_factors:30_user_alpha:0_item_alpha:0.1_n_epoch:6</th>\n",
              "      <th class=\"col_heading level0 col11\" >LightFM_warp_n_factors:20_user_alpha:0_item_alpha:0.1_n_epoch:6</th>\n",
              "      <th class=\"col_heading level0 col12\" >LightFM_warp_n_factors:30_user_alpha:0_item_alpha:0.1_n_epoch:6</th>\n",
              "      <th class=\"col_heading level0 col13\" >LightFM_bpr_n_factors:20_user_alpha:0.1_item_alpha:0_n_epoch:6</th>\n",
              "      <th class=\"col_heading level0 col14\" >LightFM_bpr_n_factors:30_user_alpha:0.1_item_alpha:0_n_epoch:6</th>\n",
              "      <th class=\"col_heading level0 col15\" >LightFM_warp_n_factors:20_user_alpha:0.1_item_alpha:0_n_epoch:6</th>\n",
              "      <th class=\"col_heading level0 col16\" >LightFM_warp_n_factors:30_user_alpha:0.1_item_alpha:0_n_epoch:6</th>\n",
              "      <th class=\"col_heading level0 col17\" >LightFM_bpr_n_factors:20_user_alpha:0.1_item_alpha:0.1_n_epoch:6</th>\n",
              "      <th class=\"col_heading level0 col18\" >LightFM_bpr_n_factors:30_user_alpha:0.1_item_alpha:0.1_n_epoch:6</th>\n",
              "      <th class=\"col_heading level0 col19\" >LightFM_warp_n_factors:20_user_alpha:0.1_item_alpha:0.1_n_epoch:6</th>\n",
              "      <th class=\"col_heading level0 col20\" >LightFM_warp_n_factors:30_user_alpha:0.1_item_alpha:0.1_n_epoch:6</th>\n",
              "    </tr>\n",
              "  </thead>\n",
              "  <tbody>\n",
              "    <tr>\n",
              "      <th id=\"T_d38b6_level0_row0\" class=\"row_heading level0 row0\" >Precision@1</th>\n",
              "      <td id=\"T_d38b6_row0_col0\" class=\"data row0 col0\" >0.073308</td>\n",
              "      <td id=\"T_d38b6_row0_col1\" class=\"data row0 col1\" >0.085862</td>\n",
              "      <td id=\"T_d38b6_row0_col2\" class=\"data row0 col2\" >0.085862</td>\n",
              "      <td id=\"T_d38b6_row0_col3\" class=\"data row0 col3\" >0.062164</td>\n",
              "      <td id=\"T_d38b6_row0_col4\" class=\"data row0 col4\" >0.062164</td>\n",
              "      <td id=\"T_d38b6_row0_col5\" class=\"data row0 col5\" >0.025299</td>\n",
              "      <td id=\"T_d38b6_row0_col6\" class=\"data row0 col6\" >0.025722</td>\n",
              "      <td id=\"T_d38b6_row0_col7\" class=\"data row0 col7\" >0.080054</td>\n",
              "      <td id=\"T_d38b6_row0_col8\" class=\"data row0 col8\" >0.080469</td>\n",
              "      <td id=\"T_d38b6_row0_col9\" class=\"data row0 col9\" >0.000000</td>\n",
              "      <td id=\"T_d38b6_row0_col10\" class=\"data row0 col10\" >0.000000</td>\n",
              "      <td id=\"T_d38b6_row0_col11\" class=\"data row0 col11\" >0.000000</td>\n",
              "      <td id=\"T_d38b6_row0_col12\" class=\"data row0 col12\" >0.000050</td>\n",
              "      <td id=\"T_d38b6_row0_col13\" class=\"data row0 col13\" >0.004920</td>\n",
              "      <td id=\"T_d38b6_row0_col14\" class=\"data row0 col14\" >0.002191</td>\n",
              "      <td id=\"T_d38b6_row0_col15\" class=\"data row0 col15\" >0.000008</td>\n",
              "      <td id=\"T_d38b6_row0_col16\" class=\"data row0 col16\" >0.000025</td>\n",
              "      <td id=\"T_d38b6_row0_col17\" class=\"data row0 col17\" >0.000008</td>\n",
              "      <td id=\"T_d38b6_row0_col18\" class=\"data row0 col18\" >0.000000</td>\n",
              "      <td id=\"T_d38b6_row0_col19\" class=\"data row0 col19\" >0.062463</td>\n",
              "      <td id=\"T_d38b6_row0_col20\" class=\"data row0 col20\" >0.078552</td>\n",
              "    </tr>\n",
              "    <tr>\n",
              "      <th id=\"T_d38b6_level0_row1\" class=\"row_heading level0 row1\" >Recall@1</th>\n",
              "      <td id=\"T_d38b6_row1_col0\" class=\"data row1 col0\" >0.038149</td>\n",
              "      <td id=\"T_d38b6_row1_col1\" class=\"data row1 col1\" >0.044848</td>\n",
              "      <td id=\"T_d38b6_row1_col2\" class=\"data row1 col2\" >0.044848</td>\n",
              "      <td id=\"T_d38b6_row1_col3\" class=\"data row1 col3\" >0.031754</td>\n",
              "      <td id=\"T_d38b6_row1_col4\" class=\"data row1 col4\" >0.031754</td>\n",
              "      <td id=\"T_d38b6_row1_col5\" class=\"data row1 col5\" >0.013610</td>\n",
              "      <td id=\"T_d38b6_row1_col6\" class=\"data row1 col6\" >0.013408</td>\n",
              "      <td id=\"T_d38b6_row1_col7\" class=\"data row1 col7\" >0.040546</td>\n",
              "      <td id=\"T_d38b6_row1_col8\" class=\"data row1 col8\" >0.040927</td>\n",
              "      <td id=\"T_d38b6_row1_col9\" class=\"data row1 col9\" >0.000000</td>\n",
              "      <td id=\"T_d38b6_row1_col10\" class=\"data row1 col10\" >0.000000</td>\n",
              "      <td id=\"T_d38b6_row1_col11\" class=\"data row1 col11\" >0.000000</td>\n",
              "      <td id=\"T_d38b6_row1_col12\" class=\"data row1 col12\" >0.000007</td>\n",
              "      <td id=\"T_d38b6_row1_col13\" class=\"data row1 col13\" >0.002908</td>\n",
              "      <td id=\"T_d38b6_row1_col14\" class=\"data row1 col14\" >0.001160</td>\n",
              "      <td id=\"T_d38b6_row1_col15\" class=\"data row1 col15\" >0.000000</td>\n",
              "      <td id=\"T_d38b6_row1_col16\" class=\"data row1 col16\" >0.000012</td>\n",
              "      <td id=\"T_d38b6_row1_col17\" class=\"data row1 col17\" >0.000000</td>\n",
              "      <td id=\"T_d38b6_row1_col18\" class=\"data row1 col18\" >0.000000</td>\n",
              "      <td id=\"T_d38b6_row1_col19\" class=\"data row1 col19\" >0.031665</td>\n",
              "      <td id=\"T_d38b6_row1_col20\" class=\"data row1 col20\" >0.041690</td>\n",
              "    </tr>\n",
              "    <tr>\n",
              "      <th id=\"T_d38b6_level0_row2\" class=\"row_heading level0 row2\" >Precision@2</th>\n",
              "      <td id=\"T_d38b6_row2_col0\" class=\"data row2 col0\" >0.069263</td>\n",
              "      <td id=\"T_d38b6_row2_col1\" class=\"data row2 col1\" >0.073258</td>\n",
              "      <td id=\"T_d38b6_row2_col2\" class=\"data row2 col2\" >0.073258</td>\n",
              "      <td id=\"T_d38b6_row2_col3\" class=\"data row2 col3\" >0.055311</td>\n",
              "      <td id=\"T_d38b6_row2_col4\" class=\"data row2 col4\" >0.055311</td>\n",
              "      <td id=\"T_d38b6_row2_col5\" class=\"data row2 col5\" >0.019163</td>\n",
              "      <td id=\"T_d38b6_row2_col6\" class=\"data row2 col6\" >0.020076</td>\n",
              "      <td id=\"T_d38b6_row2_col7\" class=\"data row2 col7\" >0.067491</td>\n",
              "      <td id=\"T_d38b6_row2_col8\" class=\"data row2 col8\" >0.067939</td>\n",
              "      <td id=\"T_d38b6_row2_col9\" class=\"data row2 col9\" >0.000004</td>\n",
              "      <td id=\"T_d38b6_row2_col10\" class=\"data row2 col10\" >0.000004</td>\n",
              "      <td id=\"T_d38b6_row2_col11\" class=\"data row2 col11\" >0.000004</td>\n",
              "      <td id=\"T_d38b6_row2_col12\" class=\"data row2 col12\" >0.000083</td>\n",
              "      <td id=\"T_d38b6_row2_col13\" class=\"data row2 col13\" >0.004277</td>\n",
              "      <td id=\"T_d38b6_row2_col14\" class=\"data row2 col14\" >0.003456</td>\n",
              "      <td id=\"T_d38b6_row2_col15\" class=\"data row2 col15\" >0.000004</td>\n",
              "      <td id=\"T_d38b6_row2_col16\" class=\"data row2 col16\" >0.000012</td>\n",
              "      <td id=\"T_d38b6_row2_col17\" class=\"data row2 col17\" >0.000004</td>\n",
              "      <td id=\"T_d38b6_row2_col18\" class=\"data row2 col18\" >0.000000</td>\n",
              "      <td id=\"T_d38b6_row2_col19\" class=\"data row2 col19\" >0.058634</td>\n",
              "      <td id=\"T_d38b6_row2_col20\" class=\"data row2 col20\" >0.069752</td>\n",
              "    </tr>\n",
              "    <tr>\n",
              "      <th id=\"T_d38b6_level0_row3\" class=\"row_heading level0 row3\" >Recall@2</th>\n",
              "      <td id=\"T_d38b6_row3_col0\" class=\"data row3 col0\" >0.071011</td>\n",
              "      <td id=\"T_d38b6_row3_col1\" class=\"data row3 col1\" >0.074754</td>\n",
              "      <td id=\"T_d38b6_row3_col2\" class=\"data row3 col2\" >0.074754</td>\n",
              "      <td id=\"T_d38b6_row3_col3\" class=\"data row3 col3\" >0.055191</td>\n",
              "      <td id=\"T_d38b6_row3_col4\" class=\"data row3 col4\" >0.055191</td>\n",
              "      <td id=\"T_d38b6_row3_col5\" class=\"data row3 col5\" >0.020225</td>\n",
              "      <td id=\"T_d38b6_row3_col6\" class=\"data row3 col6\" >0.020416</td>\n",
              "      <td id=\"T_d38b6_row3_col7\" class=\"data row3 col7\" >0.066716</td>\n",
              "      <td id=\"T_d38b6_row3_col8\" class=\"data row3 col8\" >0.067415</td>\n",
              "      <td id=\"T_d38b6_row3_col9\" class=\"data row3 col9\" >0.000000</td>\n",
              "      <td id=\"T_d38b6_row3_col10\" class=\"data row3 col10\" >0.000002</td>\n",
              "      <td id=\"T_d38b6_row3_col11\" class=\"data row3 col11\" >0.000003</td>\n",
              "      <td id=\"T_d38b6_row3_col12\" class=\"data row3 col12\" >0.000052</td>\n",
              "      <td id=\"T_d38b6_row3_col13\" class=\"data row3 col13\" >0.004653</td>\n",
              "      <td id=\"T_d38b6_row3_col14\" class=\"data row3 col14\" >0.003948</td>\n",
              "      <td id=\"T_d38b6_row3_col15\" class=\"data row3 col15\" >0.000000</td>\n",
              "      <td id=\"T_d38b6_row3_col16\" class=\"data row3 col16\" >0.000012</td>\n",
              "      <td id=\"T_d38b6_row3_col17\" class=\"data row3 col17\" >0.000000</td>\n",
              "      <td id=\"T_d38b6_row3_col18\" class=\"data row3 col18\" >0.000000</td>\n",
              "      <td id=\"T_d38b6_row3_col19\" class=\"data row3 col19\" >0.058741</td>\n",
              "      <td id=\"T_d38b6_row3_col20\" class=\"data row3 col20\" >0.071784</td>\n",
              "    </tr>\n",
              "    <tr>\n",
              "      <th id=\"T_d38b6_level0_row4\" class=\"row_heading level0 row4\" >Precision@3</th>\n",
              "      <td id=\"T_d38b6_row4_col0\" class=\"data row4 col0\" >0.066225</td>\n",
              "      <td id=\"T_d38b6_row4_col1\" class=\"data row4 col1\" >0.062087</td>\n",
              "      <td id=\"T_d38b6_row4_col2\" class=\"data row4 col2\" >0.062087</td>\n",
              "      <td id=\"T_d38b6_row4_col3\" class=\"data row4 col3\" >0.051309</td>\n",
              "      <td id=\"T_d38b6_row4_col4\" class=\"data row4 col4\" >0.051309</td>\n",
              "      <td id=\"T_d38b6_row4_col5\" class=\"data row4 col5\" >0.015843</td>\n",
              "      <td id=\"T_d38b6_row4_col6\" class=\"data row4 col6\" >0.016902</td>\n",
              "      <td id=\"T_d38b6_row4_col7\" class=\"data row4 col7\" >0.059462</td>\n",
              "      <td id=\"T_d38b6_row4_col8\" class=\"data row4 col8\" >0.059982</td>\n",
              "      <td id=\"T_d38b6_row4_col9\" class=\"data row4 col9\" >0.000006</td>\n",
              "      <td id=\"T_d38b6_row4_col10\" class=\"data row4 col10\" >0.000008</td>\n",
              "      <td id=\"T_d38b6_row4_col11\" class=\"data row4 col11\" >0.000003</td>\n",
              "      <td id=\"T_d38b6_row4_col12\" class=\"data row4 col12\" >0.000089</td>\n",
              "      <td id=\"T_d38b6_row4_col13\" class=\"data row4 col13\" >0.004423</td>\n",
              "      <td id=\"T_d38b6_row4_col14\" class=\"data row4 col14\" >0.003112</td>\n",
              "      <td id=\"T_d38b6_row4_col15\" class=\"data row4 col15\" >0.000003</td>\n",
              "      <td id=\"T_d38b6_row4_col16\" class=\"data row4 col16\" >0.000014</td>\n",
              "      <td id=\"T_d38b6_row4_col17\" class=\"data row4 col17\" >0.000003</td>\n",
              "      <td id=\"T_d38b6_row4_col18\" class=\"data row4 col18\" >0.000000</td>\n",
              "      <td id=\"T_d38b6_row4_col19\" class=\"data row4 col19\" >0.057070</td>\n",
              "      <td id=\"T_d38b6_row4_col20\" class=\"data row4 col20\" >0.065929</td>\n",
              "    </tr>\n",
              "    <tr>\n",
              "      <th id=\"T_d38b6_level0_row5\" class=\"row_heading level0 row5\" >Recall@3</th>\n",
              "      <td id=\"T_d38b6_row5_col0\" class=\"data row5 col0\" >0.100400</td>\n",
              "      <td id=\"T_d38b6_row5_col1\" class=\"data row5 col1\" >0.093394</td>\n",
              "      <td id=\"T_d38b6_row5_col2\" class=\"data row5 col2\" >0.093394</td>\n",
              "      <td id=\"T_d38b6_row5_col3\" class=\"data row5 col3\" >0.075896</td>\n",
              "      <td id=\"T_d38b6_row5_col4\" class=\"data row5 col4\" >0.075896</td>\n",
              "      <td id=\"T_d38b6_row5_col5\" class=\"data row5 col5\" >0.024397</td>\n",
              "      <td id=\"T_d38b6_row5_col6\" class=\"data row5 col6\" >0.025435</td>\n",
              "      <td id=\"T_d38b6_row5_col7\" class=\"data row5 col7\" >0.087277</td>\n",
              "      <td id=\"T_d38b6_row5_col8\" class=\"data row5 col8\" >0.088542</td>\n",
              "      <td id=\"T_d38b6_row5_col9\" class=\"data row5 col9\" >0.000001</td>\n",
              "      <td id=\"T_d38b6_row5_col10\" class=\"data row5 col10\" >0.000005</td>\n",
              "      <td id=\"T_d38b6_row5_col11\" class=\"data row5 col11\" >0.000003</td>\n",
              "      <td id=\"T_d38b6_row5_col12\" class=\"data row5 col12\" >0.000103</td>\n",
              "      <td id=\"T_d38b6_row5_col13\" class=\"data row5 col13\" >0.007097</td>\n",
              "      <td id=\"T_d38b6_row5_col14\" class=\"data row5 col14\" >0.005061</td>\n",
              "      <td id=\"T_d38b6_row5_col15\" class=\"data row5 col15\" >0.000000</td>\n",
              "      <td id=\"T_d38b6_row5_col16\" class=\"data row5 col16\" >0.000014</td>\n",
              "      <td id=\"T_d38b6_row5_col17\" class=\"data row5 col17\" >0.000000</td>\n",
              "      <td id=\"T_d38b6_row5_col18\" class=\"data row5 col18\" >0.000000</td>\n",
              "      <td id=\"T_d38b6_row5_col19\" class=\"data row5 col19\" >0.086599</td>\n",
              "      <td id=\"T_d38b6_row5_col20\" class=\"data row5 col20\" >0.100448</td>\n",
              "    </tr>\n",
              "    <tr>\n",
              "      <th id=\"T_d38b6_level0_row6\" class=\"row_heading level0 row6\" >Precision@4</th>\n",
              "      <td id=\"T_d38b6_row6_col0\" class=\"data row6 col0\" >0.059383</td>\n",
              "      <td id=\"T_d38b6_row6_col1\" class=\"data row6 col1\" >0.054610</td>\n",
              "      <td id=\"T_d38b6_row6_col2\" class=\"data row6 col2\" >0.054610</td>\n",
              "      <td id=\"T_d38b6_row6_col3\" class=\"data row6 col3\" >0.047447</td>\n",
              "      <td id=\"T_d38b6_row6_col4\" class=\"data row6 col4\" >0.047447</td>\n",
              "      <td id=\"T_d38b6_row6_col5\" class=\"data row6 col5\" >0.013871</td>\n",
              "      <td id=\"T_d38b6_row6_col6\" class=\"data row6 col6\" >0.014782</td>\n",
              "      <td id=\"T_d38b6_row6_col7\" class=\"data row6 col7\" >0.053272</td>\n",
              "      <td id=\"T_d38b6_row6_col8\" class=\"data row6 col8\" >0.053859</td>\n",
              "      <td id=\"T_d38b6_row6_col9\" class=\"data row6 col9\" >0.000004</td>\n",
              "      <td id=\"T_d38b6_row6_col10\" class=\"data row6 col10\" >0.000019</td>\n",
              "      <td id=\"T_d38b6_row6_col11\" class=\"data row6 col11\" >0.000012</td>\n",
              "      <td id=\"T_d38b6_row6_col12\" class=\"data row6 col12\" >0.000085</td>\n",
              "      <td id=\"T_d38b6_row6_col13\" class=\"data row6 col13\" >0.004207</td>\n",
              "      <td id=\"T_d38b6_row6_col14\" class=\"data row6 col14\" >0.002941</td>\n",
              "      <td id=\"T_d38b6_row6_col15\" class=\"data row6 col15\" >0.000004</td>\n",
              "      <td id=\"T_d38b6_row6_col16\" class=\"data row6 col16\" >0.000017</td>\n",
              "      <td id=\"T_d38b6_row6_col17\" class=\"data row6 col17\" >0.000002</td>\n",
              "      <td id=\"T_d38b6_row6_col18\" class=\"data row6 col18\" >0.000002</td>\n",
              "      <td id=\"T_d38b6_row6_col19\" class=\"data row6 col19\" >0.051148</td>\n",
              "      <td id=\"T_d38b6_row6_col20\" class=\"data row6 col20\" >0.057283</td>\n",
              "    </tr>\n",
              "    <tr>\n",
              "      <th id=\"T_d38b6_level0_row7\" class=\"row_heading level0 row7\" >Recall@4</th>\n",
              "      <td id=\"T_d38b6_row7_col0\" class=\"data row7 col0\" >0.118878</td>\n",
              "      <td id=\"T_d38b6_row7_col1\" class=\"data row7 col1\" >0.108308</td>\n",
              "      <td id=\"T_d38b6_row7_col2\" class=\"data row7 col2\" >0.108308</td>\n",
              "      <td id=\"T_d38b6_row7_col3\" class=\"data row7 col3\" >0.092287</td>\n",
              "      <td id=\"T_d38b6_row7_col4\" class=\"data row7 col4\" >0.092287</td>\n",
              "      <td id=\"T_d38b6_row7_col5\" class=\"data row7 col5\" >0.027895</td>\n",
              "      <td id=\"T_d38b6_row7_col6\" class=\"data row7 col6\" >0.028815</td>\n",
              "      <td id=\"T_d38b6_row7_col7\" class=\"data row7 col7\" >0.103247</td>\n",
              "      <td id=\"T_d38b6_row7_col8\" class=\"data row7 col8\" >0.104795</td>\n",
              "      <td id=\"T_d38b6_row7_col9\" class=\"data row7 col9\" >0.000001</td>\n",
              "      <td id=\"T_d38b6_row7_col10\" class=\"data row7 col10\" >0.000026</td>\n",
              "      <td id=\"T_d38b6_row7_col11\" class=\"data row7 col11\" >0.000014</td>\n",
              "      <td id=\"T_d38b6_row7_col12\" class=\"data row7 col12\" >0.000142</td>\n",
              "      <td id=\"T_d38b6_row7_col13\" class=\"data row7 col13\" >0.008911</td>\n",
              "      <td id=\"T_d38b6_row7_col14\" class=\"data row7 col14\" >0.006309</td>\n",
              "      <td id=\"T_d38b6_row7_col15\" class=\"data row7 col15\" >0.000001</td>\n",
              "      <td id=\"T_d38b6_row7_col16\" class=\"data row7 col16\" >0.000016</td>\n",
              "      <td id=\"T_d38b6_row7_col17\" class=\"data row7 col17\" >0.000000</td>\n",
              "      <td id=\"T_d38b6_row7_col18\" class=\"data row7 col18\" >0.000004</td>\n",
              "      <td id=\"T_d38b6_row7_col19\" class=\"data row7 col19\" >0.103107</td>\n",
              "      <td id=\"T_d38b6_row7_col20\" class=\"data row7 col20\" >0.114805</td>\n",
              "    </tr>\n",
              "    <tr>\n",
              "      <th id=\"T_d38b6_level0_row8\" class=\"row_heading level0 row8\" >Precision@5</th>\n",
              "      <td id=\"T_d38b6_row8_col0\" class=\"data row8 col0\" >0.052735</td>\n",
              "      <td id=\"T_d38b6_row8_col1\" class=\"data row8 col1\" >0.048517</td>\n",
              "      <td id=\"T_d38b6_row8_col2\" class=\"data row8 col2\" >0.048517</td>\n",
              "      <td id=\"T_d38b6_row8_col3\" class=\"data row8 col3\" >0.043812</td>\n",
              "      <td id=\"T_d38b6_row8_col4\" class=\"data row8 col4\" >0.043812</td>\n",
              "      <td id=\"T_d38b6_row8_col5\" class=\"data row8 col5\" >0.012362</td>\n",
              "      <td id=\"T_d38b6_row8_col6\" class=\"data row8 col6\" >0.013324</td>\n",
              "      <td id=\"T_d38b6_row8_col7\" class=\"data row8 col7\" >0.048442</td>\n",
              "      <td id=\"T_d38b6_row8_col8\" class=\"data row8 col8\" >0.048968</td>\n",
              "      <td id=\"T_d38b6_row8_col9\" class=\"data row8 col9\" >0.000003</td>\n",
              "      <td id=\"T_d38b6_row8_col10\" class=\"data row8 col10\" >0.000035</td>\n",
              "      <td id=\"T_d38b6_row8_col11\" class=\"data row8 col11\" >0.000017</td>\n",
              "      <td id=\"T_d38b6_row8_col12\" class=\"data row8 col12\" >0.000086</td>\n",
              "      <td id=\"T_d38b6_row8_col13\" class=\"data row8 col13\" >0.003890</td>\n",
              "      <td id=\"T_d38b6_row8_col14\" class=\"data row8 col14\" >0.002561</td>\n",
              "      <td id=\"T_d38b6_row8_col15\" class=\"data row8 col15\" >0.000003</td>\n",
              "      <td id=\"T_d38b6_row8_col16\" class=\"data row8 col16\" >0.000020</td>\n",
              "      <td id=\"T_d38b6_row8_col17\" class=\"data row8 col17\" >0.000002</td>\n",
              "      <td id=\"T_d38b6_row8_col18\" class=\"data row8 col18\" >0.000002</td>\n",
              "      <td id=\"T_d38b6_row8_col19\" class=\"data row8 col19\" >0.041645</td>\n",
              "      <td id=\"T_d38b6_row8_col20\" class=\"data row8 col20\" >0.052307</td>\n",
              "    </tr>\n",
              "    <tr>\n",
              "      <th id=\"T_d38b6_level0_row9\" class=\"row_heading level0 row9\" >Recall@5</th>\n",
              "      <td id=\"T_d38b6_row9_col0\" class=\"data row9 col0\" >0.130473</td>\n",
              "      <td id=\"T_d38b6_row9_col1\" class=\"data row9 col1\" >0.118726</td>\n",
              "      <td id=\"T_d38b6_row9_col2\" class=\"data row9 col2\" >0.118726</td>\n",
              "      <td id=\"T_d38b6_row9_col3\" class=\"data row9 col3\" >0.105005</td>\n",
              "      <td id=\"T_d38b6_row9_col4\" class=\"data row9 col4\" >0.105005</td>\n",
              "      <td id=\"T_d38b6_row9_col5\" class=\"data row9 col5\" >0.030690</td>\n",
              "      <td id=\"T_d38b6_row9_col6\" class=\"data row9 col6\" >0.031978</td>\n",
              "      <td id=\"T_d38b6_row9_col7\" class=\"data row9 col7\" >0.116114</td>\n",
              "      <td id=\"T_d38b6_row9_col8\" class=\"data row9 col8\" >0.117826</td>\n",
              "      <td id=\"T_d38b6_row9_col9\" class=\"data row9 col9\" >0.000001</td>\n",
              "      <td id=\"T_d38b6_row9_col10\" class=\"data row9 col10\" >0.000059</td>\n",
              "      <td id=\"T_d38b6_row9_col11\" class=\"data row9 col11\" >0.000022</td>\n",
              "      <td id=\"T_d38b6_row9_col12\" class=\"data row9 col12\" >0.000175</td>\n",
              "      <td id=\"T_d38b6_row9_col13\" class=\"data row9 col13\" >0.010052</td>\n",
              "      <td id=\"T_d38b6_row9_col14\" class=\"data row9 col14\" >0.006703</td>\n",
              "      <td id=\"T_d38b6_row9_col15\" class=\"data row9 col15\" >0.000001</td>\n",
              "      <td id=\"T_d38b6_row9_col16\" class=\"data row9 col16\" >0.000030</td>\n",
              "      <td id=\"T_d38b6_row9_col17\" class=\"data row9 col17\" >0.000000</td>\n",
              "      <td id=\"T_d38b6_row9_col18\" class=\"data row9 col18\" >0.000004</td>\n",
              "      <td id=\"T_d38b6_row9_col19\" class=\"data row9 col19\" >0.104484</td>\n",
              "      <td id=\"T_d38b6_row9_col20\" class=\"data row9 col20\" >0.129606</td>\n",
              "    </tr>\n",
              "    <tr>\n",
              "      <th id=\"T_d38b6_level0_row10\" class=\"row_heading level0 row10\" >Precision@6</th>\n",
              "      <td id=\"T_d38b6_row10_col0\" class=\"data row10 col0\" >0.047377</td>\n",
              "      <td id=\"T_d38b6_row10_col1\" class=\"data row10 col1\" >0.043539</td>\n",
              "      <td id=\"T_d38b6_row10_col2\" class=\"data row10 col2\" >0.043539</td>\n",
              "      <td id=\"T_d38b6_row10_col3\" class=\"data row10 col3\" >0.040605</td>\n",
              "      <td id=\"T_d38b6_row10_col4\" class=\"data row10 col4\" >0.040605</td>\n",
              "      <td id=\"T_d38b6_row10_col5\" class=\"data row10 col5\" >0.011276</td>\n",
              "      <td id=\"T_d38b6_row10_col6\" class=\"data row10 col6\" >0.012215</td>\n",
              "      <td id=\"T_d38b6_row10_col7\" class=\"data row10 col7\" >0.044295</td>\n",
              "      <td id=\"T_d38b6_row10_col8\" class=\"data row10 col8\" >0.044788</td>\n",
              "      <td id=\"T_d38b6_row10_col9\" class=\"data row10 col9\" >0.000006</td>\n",
              "      <td id=\"T_d38b6_row10_col10\" class=\"data row10 col10\" >0.000037</td>\n",
              "      <td id=\"T_d38b6_row10_col11\" class=\"data row10 col11\" >0.000019</td>\n",
              "      <td id=\"T_d38b6_row10_col12\" class=\"data row10 col12\" >0.000093</td>\n",
              "      <td id=\"T_d38b6_row10_col13\" class=\"data row10 col13\" >0.003788</td>\n",
              "      <td id=\"T_d38b6_row10_col14\" class=\"data row10 col14\" >0.002192</td>\n",
              "      <td id=\"T_d38b6_row10_col15\" class=\"data row10 col15\" >0.000003</td>\n",
              "      <td id=\"T_d38b6_row10_col16\" class=\"data row10 col16\" >0.000018</td>\n",
              "      <td id=\"T_d38b6_row10_col17\" class=\"data row10 col17\" >0.000001</td>\n",
              "      <td id=\"T_d38b6_row10_col18\" class=\"data row10 col18\" >0.000001</td>\n",
              "      <td id=\"T_d38b6_row10_col19\" class=\"data row10 col19\" >0.035597</td>\n",
              "      <td id=\"T_d38b6_row10_col20\" class=\"data row10 col20\" >0.046834</td>\n",
              "    </tr>\n",
              "    <tr>\n",
              "      <th id=\"T_d38b6_level0_row11\" class=\"row_heading level0 row11\" >Recall@6</th>\n",
              "      <td id=\"T_d38b6_row11_col0\" class=\"data row11 col0\" >0.139350</td>\n",
              "      <td id=\"T_d38b6_row11_col1\" class=\"data row11 col1\" >0.126615</td>\n",
              "      <td id=\"T_d38b6_row11_col2\" class=\"data row11 col2\" >0.126615</td>\n",
              "      <td id=\"T_d38b6_row11_col3\" class=\"data row11 col3\" >0.115675</td>\n",
              "      <td id=\"T_d38b6_row11_col4\" class=\"data row11 col4\" >0.115675</td>\n",
              "      <td id=\"T_d38b6_row11_col5\" class=\"data row11 col5\" >0.033225</td>\n",
              "      <td id=\"T_d38b6_row11_col6\" class=\"data row11 col6\" >0.034831</td>\n",
              "      <td id=\"T_d38b6_row11_col7\" class=\"data row11 col7\" >0.126190</td>\n",
              "      <td id=\"T_d38b6_row11_col8\" class=\"data row11 col8\" >0.128034</td>\n",
              "      <td id=\"T_d38b6_row11_col9\" class=\"data row11 col9\" >0.000004</td>\n",
              "      <td id=\"T_d38b6_row11_col10\" class=\"data row11 col10\" >0.000067</td>\n",
              "      <td id=\"T_d38b6_row11_col11\" class=\"data row11 col11\" >0.000033</td>\n",
              "      <td id=\"T_d38b6_row11_col12\" class=\"data row11 col12\" >0.000221</td>\n",
              "      <td id=\"T_d38b6_row11_col13\" class=\"data row11 col13\" >0.011657</td>\n",
              "      <td id=\"T_d38b6_row11_col14\" class=\"data row11 col14\" >0.006854</td>\n",
              "      <td id=\"T_d38b6_row11_col15\" class=\"data row11 col15\" >0.000001</td>\n",
              "      <td id=\"T_d38b6_row11_col16\" class=\"data row11 col16\" >0.000034</td>\n",
              "      <td id=\"T_d38b6_row11_col17\" class=\"data row11 col17\" >0.000000</td>\n",
              "      <td id=\"T_d38b6_row11_col18\" class=\"data row11 col18\" >0.000004</td>\n",
              "      <td id=\"T_d38b6_row11_col19\" class=\"data row11 col19\" >0.106695</td>\n",
              "      <td id=\"T_d38b6_row11_col20\" class=\"data row11 col20\" >0.138107</td>\n",
              "    </tr>\n",
              "    <tr>\n",
              "      <th id=\"T_d38b6_level0_row12\" class=\"row_heading level0 row12\" >Precision@7</th>\n",
              "      <td id=\"T_d38b6_row12_col0\" class=\"data row12 col0\" >0.042434</td>\n",
              "      <td id=\"T_d38b6_row12_col1\" class=\"data row12 col1\" >0.039599</td>\n",
              "      <td id=\"T_d38b6_row12_col2\" class=\"data row12 col2\" >0.039599</td>\n",
              "      <td id=\"T_d38b6_row12_col3\" class=\"data row12 col3\" >0.037881</td>\n",
              "      <td id=\"T_d38b6_row12_col4\" class=\"data row12 col4\" >0.037881</td>\n",
              "      <td id=\"T_d38b6_row12_col5\" class=\"data row12 col5\" >0.010470</td>\n",
              "      <td id=\"T_d38b6_row12_col6\" class=\"data row12 col6\" >0.011322</td>\n",
              "      <td id=\"T_d38b6_row12_col7\" class=\"data row12 col7\" >0.040948</td>\n",
              "      <td id=\"T_d38b6_row12_col8\" class=\"data row12 col8\" >0.041358</td>\n",
              "      <td id=\"T_d38b6_row12_col9\" class=\"data row12 col9\" >0.000006</td>\n",
              "      <td id=\"T_d38b6_row12_col10\" class=\"data row12 col10\" >0.000047</td>\n",
              "      <td id=\"T_d38b6_row12_col11\" class=\"data row12 col11\" >0.000030</td>\n",
              "      <td id=\"T_d38b6_row12_col12\" class=\"data row12 col12\" >0.000091</td>\n",
              "      <td id=\"T_d38b6_row12_col13\" class=\"data row12 col13\" >0.004769</td>\n",
              "      <td id=\"T_d38b6_row12_col14\" class=\"data row12 col14\" >0.001927</td>\n",
              "      <td id=\"T_d38b6_row12_col15\" class=\"data row12 col15\" >0.000002</td>\n",
              "      <td id=\"T_d38b6_row12_col16\" class=\"data row12 col16\" >0.000018</td>\n",
              "      <td id=\"T_d38b6_row12_col17\" class=\"data row12 col17\" >0.000001</td>\n",
              "      <td id=\"T_d38b6_row12_col18\" class=\"data row12 col18\" >0.000001</td>\n",
              "      <td id=\"T_d38b6_row12_col19\" class=\"data row12 col19\" >0.031152</td>\n",
              "      <td id=\"T_d38b6_row12_col20\" class=\"data row12 col20\" >0.041695</td>\n",
              "    </tr>\n",
              "    <tr>\n",
              "      <th id=\"T_d38b6_level0_row13\" class=\"row_heading level0 row13\" >Recall@7</th>\n",
              "      <td id=\"T_d38b6_row13_col0\" class=\"data row13 col0\" >0.145047</td>\n",
              "      <td id=\"T_d38b6_row13_col1\" class=\"data row13 col1\" >0.133533</td>\n",
              "      <td id=\"T_d38b6_row13_col2\" class=\"data row13 col2\" >0.133533</td>\n",
              "      <td id=\"T_d38b6_row13_col3\" class=\"data row13 col3\" >0.124558</td>\n",
              "      <td id=\"T_d38b6_row13_col4\" class=\"data row13 col4\" >0.124558</td>\n",
              "      <td id=\"T_d38b6_row13_col5\" class=\"data row13 col5\" >0.035496</td>\n",
              "      <td id=\"T_d38b6_row13_col6\" class=\"data row13 col6\" >0.037400</td>\n",
              "      <td id=\"T_d38b6_row13_col7\" class=\"data row13 col7\" >0.135170</td>\n",
              "      <td id=\"T_d38b6_row13_col8\" class=\"data row13 col8\" >0.136719</td>\n",
              "      <td id=\"T_d38b6_row13_col9\" class=\"data row13 col9\" >0.000004</td>\n",
              "      <td id=\"T_d38b6_row13_col10\" class=\"data row13 col10\" >0.000117</td>\n",
              "      <td id=\"T_d38b6_row13_col11\" class=\"data row13 col11\" >0.000066</td>\n",
              "      <td id=\"T_d38b6_row13_col12\" class=\"data row13 col12\" >0.000249</td>\n",
              "      <td id=\"T_d38b6_row13_col13\" class=\"data row13 col13\" >0.017182</td>\n",
              "      <td id=\"T_d38b6_row13_col14\" class=\"data row13 col14\" >0.007013</td>\n",
              "      <td id=\"T_d38b6_row13_col15\" class=\"data row13 col15\" >0.000001</td>\n",
              "      <td id=\"T_d38b6_row13_col16\" class=\"data row13 col16\" >0.000035</td>\n",
              "      <td id=\"T_d38b6_row13_col17\" class=\"data row13 col17\" >0.000000</td>\n",
              "      <td id=\"T_d38b6_row13_col18\" class=\"data row13 col18\" >0.000004</td>\n",
              "      <td id=\"T_d38b6_row13_col19\" class=\"data row13 col19\" >0.108535</td>\n",
              "      <td id=\"T_d38b6_row13_col20\" class=\"data row13 col20\" >0.142871</td>\n",
              "    </tr>\n",
              "    <tr>\n",
              "      <th id=\"T_d38b6_level0_row14\" class=\"row_heading level0 row14\" >Precision@8</th>\n",
              "      <td id=\"T_d38b6_row14_col0\" class=\"data row14 col0\" >0.038850</td>\n",
              "      <td id=\"T_d38b6_row14_col1\" class=\"data row14 col1\" >0.036518</td>\n",
              "      <td id=\"T_d38b6_row14_col2\" class=\"data row14 col2\" >0.036518</td>\n",
              "      <td id=\"T_d38b6_row14_col3\" class=\"data row14 col3\" >0.035642</td>\n",
              "      <td id=\"T_d38b6_row14_col4\" class=\"data row14 col4\" >0.035642</td>\n",
              "      <td id=\"T_d38b6_row14_col5\" class=\"data row14 col5\" >0.009816</td>\n",
              "      <td id=\"T_d38b6_row14_col6\" class=\"data row14 col6\" >0.010630</td>\n",
              "      <td id=\"T_d38b6_row14_col7\" class=\"data row14 col7\" >0.038216</td>\n",
              "      <td id=\"T_d38b6_row14_col8\" class=\"data row14 col8\" >0.038550</td>\n",
              "      <td id=\"T_d38b6_row14_col9\" class=\"data row14 col9\" >0.000005</td>\n",
              "      <td id=\"T_d38b6_row14_col10\" class=\"data row14 col10\" >0.000080</td>\n",
              "      <td id=\"T_d38b6_row14_col11\" class=\"data row14 col11\" >0.000041</td>\n",
              "      <td id=\"T_d38b6_row14_col12\" class=\"data row14 col12\" >0.000087</td>\n",
              "      <td id=\"T_d38b6_row14_col13\" class=\"data row14 col13\" >0.005960</td>\n",
              "      <td id=\"T_d38b6_row14_col14\" class=\"data row14 col14\" >0.001751</td>\n",
              "      <td id=\"T_d38b6_row14_col15\" class=\"data row14 col15\" >0.000002</td>\n",
              "      <td id=\"T_d38b6_row14_col16\" class=\"data row14 col16\" >0.000019</td>\n",
              "      <td id=\"T_d38b6_row14_col17\" class=\"data row14 col17\" >0.000002</td>\n",
              "      <td id=\"T_d38b6_row14_col18\" class=\"data row14 col18\" >0.000001</td>\n",
              "      <td id=\"T_d38b6_row14_col19\" class=\"data row14 col19\" >0.027769</td>\n",
              "      <td id=\"T_d38b6_row14_col20\" class=\"data row14 col20\" >0.038130</td>\n",
              "    </tr>\n",
              "    <tr>\n",
              "      <th id=\"T_d38b6_level0_row15\" class=\"row_heading level0 row15\" >Recall@8</th>\n",
              "      <td id=\"T_d38b6_row15_col0\" class=\"data row15 col0\" >0.151110</td>\n",
              "      <td id=\"T_d38b6_row15_col1\" class=\"data row15 col1\" >0.139843</td>\n",
              "      <td id=\"T_d38b6_row15_col2\" class=\"data row15 col2\" >0.139843</td>\n",
              "      <td id=\"T_d38b6_row15_col3\" class=\"data row15 col3\" >0.132469</td>\n",
              "      <td id=\"T_d38b6_row15_col4\" class=\"data row15 col4\" >0.132469</td>\n",
              "      <td id=\"T_d38b6_row15_col5\" class=\"data row15 col5\" >0.037629</td>\n",
              "      <td id=\"T_d38b6_row15_col6\" class=\"data row15 col6\" >0.039782</td>\n",
              "      <td id=\"T_d38b6_row15_col7\" class=\"data row15 col7\" >0.143272</td>\n",
              "      <td id=\"T_d38b6_row15_col8\" class=\"data row15 col8\" >0.144447</td>\n",
              "      <td id=\"T_d38b6_row15_col9\" class=\"data row15 col9\" >0.000004</td>\n",
              "      <td id=\"T_d38b6_row15_col10\" class=\"data row15 col10\" >0.000227</td>\n",
              "      <td id=\"T_d38b6_row15_col11\" class=\"data row15 col11\" >0.000099</td>\n",
              "      <td id=\"T_d38b6_row15_col12\" class=\"data row15 col12\" >0.000268</td>\n",
              "      <td id=\"T_d38b6_row15_col13\" class=\"data row15 col13\" >0.024222</td>\n",
              "      <td id=\"T_d38b6_row15_col14\" class=\"data row15 col14\" >0.007280</td>\n",
              "      <td id=\"T_d38b6_row15_col15\" class=\"data row15 col15\" >0.000001</td>\n",
              "      <td id=\"T_d38b6_row15_col16\" class=\"data row15 col16\" >0.000043</td>\n",
              "      <td id=\"T_d38b6_row15_col17\" class=\"data row15 col17\" >0.000001</td>\n",
              "      <td id=\"T_d38b6_row15_col18\" class=\"data row15 col18\" >0.000004</td>\n",
              "      <td id=\"T_d38b6_row15_col19\" class=\"data row15 col19\" >0.110086</td>\n",
              "      <td id=\"T_d38b6_row15_col20\" class=\"data row15 col20\" >0.148829</td>\n",
              "    </tr>\n",
              "    <tr>\n",
              "      <th id=\"T_d38b6_level0_row16\" class=\"row_heading level0 row16\" >Precision@9</th>\n",
              "      <td id=\"T_d38b6_row16_col0\" class=\"data row16 col0\" >0.035987</td>\n",
              "      <td id=\"T_d38b6_row16_col1\" class=\"data row16 col1\" >0.034040</td>\n",
              "      <td id=\"T_d38b6_row16_col2\" class=\"data row16 col2\" >0.034040</td>\n",
              "      <td id=\"T_d38b6_row16_col3\" class=\"data row16 col3\" >0.033711</td>\n",
              "      <td id=\"T_d38b6_row16_col4\" class=\"data row16 col4\" >0.033711</td>\n",
              "      <td id=\"T_d38b6_row16_col5\" class=\"data row16 col5\" >0.009257</td>\n",
              "      <td id=\"T_d38b6_row16_col6\" class=\"data row16 col6\" >0.010054</td>\n",
              "      <td id=\"T_d38b6_row16_col7\" class=\"data row16 col7\" >0.035974</td>\n",
              "      <td id=\"T_d38b6_row16_col8\" class=\"data row16 col8\" >0.036199</td>\n",
              "      <td id=\"T_d38b6_row16_col9\" class=\"data row16 col9\" >0.000005</td>\n",
              "      <td id=\"T_d38b6_row16_col10\" class=\"data row16 col10\" >0.000108</td>\n",
              "      <td id=\"T_d38b6_row16_col11\" class=\"data row16 col11\" >0.000056</td>\n",
              "      <td id=\"T_d38b6_row16_col12\" class=\"data row16 col12\" >0.000081</td>\n",
              "      <td id=\"T_d38b6_row16_col13\" class=\"data row16 col13\" >0.006886</td>\n",
              "      <td id=\"T_d38b6_row16_col14\" class=\"data row16 col14\" >0.001764</td>\n",
              "      <td id=\"T_d38b6_row16_col15\" class=\"data row16 col15\" >0.000002</td>\n",
              "      <td id=\"T_d38b6_row16_col16\" class=\"data row16 col16\" >0.000017</td>\n",
              "      <td id=\"T_d38b6_row16_col17\" class=\"data row16 col17\" >0.000002</td>\n",
              "      <td id=\"T_d38b6_row16_col18\" class=\"data row16 col18\" >0.000001</td>\n",
              "      <td id=\"T_d38b6_row16_col19\" class=\"data row16 col19\" >0.025357</td>\n",
              "      <td id=\"T_d38b6_row16_col20\" class=\"data row16 col20\" >0.035417</td>\n",
              "    </tr>\n",
              "    <tr>\n",
              "      <th id=\"T_d38b6_level0_row17\" class=\"row_heading level0 row17\" >Recall@9</th>\n",
              "      <td id=\"T_d38b6_row17_col0\" class=\"data row17 col0\" >0.157137</td>\n",
              "      <td id=\"T_d38b6_row17_col1\" class=\"data row17 col1\" >0.146056</td>\n",
              "      <td id=\"T_d38b6_row17_col2\" class=\"data row17 col2\" >0.146056</td>\n",
              "      <td id=\"T_d38b6_row17_col3\" class=\"data row17 col3\" >0.139683</td>\n",
              "      <td id=\"T_d38b6_row17_col4\" class=\"data row17 col4\" >0.139683</td>\n",
              "      <td id=\"T_d38b6_row17_col5\" class=\"data row17 col5\" >0.039525</td>\n",
              "      <td id=\"T_d38b6_row17_col6\" class=\"data row17 col6\" >0.041981</td>\n",
              "      <td id=\"T_d38b6_row17_col7\" class=\"data row17 col7\" >0.150835</td>\n",
              "      <td id=\"T_d38b6_row17_col8\" class=\"data row17 col8\" >0.151699</td>\n",
              "      <td id=\"T_d38b6_row17_col9\" class=\"data row17 col9\" >0.000004</td>\n",
              "      <td id=\"T_d38b6_row17_col10\" class=\"data row17 col10\" >0.000369</td>\n",
              "      <td id=\"T_d38b6_row17_col11\" class=\"data row17 col11\" >0.000166</td>\n",
              "      <td id=\"T_d38b6_row17_col12\" class=\"data row17 col12\" >0.000278</td>\n",
              "      <td id=\"T_d38b6_row17_col13\" class=\"data row17 col13\" >0.031415</td>\n",
              "      <td id=\"T_d38b6_row17_col14\" class=\"data row17 col14\" >0.008377</td>\n",
              "      <td id=\"T_d38b6_row17_col15\" class=\"data row17 col15\" >0.000001</td>\n",
              "      <td id=\"T_d38b6_row17_col16\" class=\"data row17 col16\" >0.000043</td>\n",
              "      <td id=\"T_d38b6_row17_col17\" class=\"data row17 col17\" >0.000001</td>\n",
              "      <td id=\"T_d38b6_row17_col18\" class=\"data row17 col18\" >0.000004</td>\n",
              "      <td id=\"T_d38b6_row17_col19\" class=\"data row17 col19\" >0.112497</td>\n",
              "      <td id=\"T_d38b6_row17_col20\" class=\"data row17 col20\" >0.154944</td>\n",
              "    </tr>\n",
              "    <tr>\n",
              "      <th id=\"T_d38b6_level0_row18\" class=\"row_heading level0 row18\" >Precision@10</th>\n",
              "      <td id=\"T_d38b6_row18_col0\" class=\"data row18 col0\" >0.033708</td>\n",
              "      <td id=\"T_d38b6_row18_col1\" class=\"data row18 col1\" >0.031987</td>\n",
              "      <td id=\"T_d38b6_row18_col2\" class=\"data row18 col2\" >0.031987</td>\n",
              "      <td id=\"T_d38b6_row18_col3\" class=\"data row18 col3\" >0.032143</td>\n",
              "      <td id=\"T_d38b6_row18_col4\" class=\"data row18 col4\" >0.032143</td>\n",
              "      <td id=\"T_d38b6_row18_col5\" class=\"data row18 col5\" >0.008776</td>\n",
              "      <td id=\"T_d38b6_row18_col6\" class=\"data row18 col6\" >0.009558</td>\n",
              "      <td id=\"T_d38b6_row18_col7\" class=\"data row18 col7\" >0.034064</td>\n",
              "      <td id=\"T_d38b6_row18_col8\" class=\"data row18 col8\" >0.034231</td>\n",
              "      <td id=\"T_d38b6_row18_col9\" class=\"data row18 col9\" >0.000004</td>\n",
              "      <td id=\"T_d38b6_row18_col10\" class=\"data row18 col10\" >0.000129</td>\n",
              "      <td id=\"T_d38b6_row18_col11\" class=\"data row18 col11\" >0.000064</td>\n",
              "      <td id=\"T_d38b6_row18_col12\" class=\"data row18 col12\" >0.000079</td>\n",
              "      <td id=\"T_d38b6_row18_col13\" class=\"data row18 col13\" >0.007646</td>\n",
              "      <td id=\"T_d38b6_row18_col14\" class=\"data row18 col14\" >0.001782</td>\n",
              "      <td id=\"T_d38b6_row18_col15\" class=\"data row18 col15\" >0.000003</td>\n",
              "      <td id=\"T_d38b6_row18_col16\" class=\"data row18 col16\" >0.000018</td>\n",
              "      <td id=\"T_d38b6_row18_col17\" class=\"data row18 col17\" >0.000002</td>\n",
              "      <td id=\"T_d38b6_row18_col18\" class=\"data row18 col18\" >0.000002</td>\n",
              "      <td id=\"T_d38b6_row18_col19\" class=\"data row18 col19\" >0.022873</td>\n",
              "      <td id=\"T_d38b6_row18_col20\" class=\"data row18 col20\" >0.033278</td>\n",
              "    </tr>\n",
              "    <tr>\n",
              "      <th id=\"T_d38b6_level0_row19\" class=\"row_heading level0 row19\" >Recall@10</th>\n",
              "      <td id=\"T_d38b6_row19_col0\" class=\"data row19 col0\" >0.163348</td>\n",
              "      <td id=\"T_d38b6_row19_col1\" class=\"data row19 col1\" >0.151943</td>\n",
              "      <td id=\"T_d38b6_row19_col2\" class=\"data row19 col2\" >0.151943</td>\n",
              "      <td id=\"T_d38b6_row19_col3\" class=\"data row19 col3\" >0.146899</td>\n",
              "      <td id=\"T_d38b6_row19_col4\" class=\"data row19 col4\" >0.146899</td>\n",
              "      <td id=\"T_d38b6_row19_col5\" class=\"data row19 col5\" >0.041289</td>\n",
              "      <td id=\"T_d38b6_row19_col6\" class=\"data row19 col6\" >0.044008</td>\n",
              "      <td id=\"T_d38b6_row19_col7\" class=\"data row19 col7\" >0.158042</td>\n",
              "      <td id=\"T_d38b6_row19_col8\" class=\"data row19 col8\" >0.158515</td>\n",
              "      <td id=\"T_d38b6_row19_col9\" class=\"data row19 col9\" >0.000004</td>\n",
              "      <td id=\"T_d38b6_row19_col10\" class=\"data row19 col10\" >0.000478</td>\n",
              "      <td id=\"T_d38b6_row19_col11\" class=\"data row19 col11\" >0.000212</td>\n",
              "      <td id=\"T_d38b6_row19_col12\" class=\"data row19 col12\" >0.000293</td>\n",
              "      <td id=\"T_d38b6_row19_col13\" class=\"data row19 col13\" >0.038941</td>\n",
              "      <td id=\"T_d38b6_row19_col14\" class=\"data row19 col14\" >0.009483</td>\n",
              "      <td id=\"T_d38b6_row19_col15\" class=\"data row19 col15\" >0.000003</td>\n",
              "      <td id=\"T_d38b6_row19_col16\" class=\"data row19 col16\" >0.000060</td>\n",
              "      <td id=\"T_d38b6_row19_col17\" class=\"data row19 col17\" >0.000001</td>\n",
              "      <td id=\"T_d38b6_row19_col18\" class=\"data row19 col18\" >0.000005</td>\n",
              "      <td id=\"T_d38b6_row19_col19\" class=\"data row19 col19\" >0.112646</td>\n",
              "      <td id=\"T_d38b6_row19_col20\" class=\"data row19 col20\" >0.161602</td>\n",
              "    </tr>\n",
              "    <tr>\n",
              "      <th id=\"T_d38b6_level0_row20\" class=\"row_heading level0 row20\" >MAP@1</th>\n",
              "      <td id=\"T_d38b6_row20_col0\" class=\"data row20 col0\" >0.038149</td>\n",
              "      <td id=\"T_d38b6_row20_col1\" class=\"data row20 col1\" >0.044848</td>\n",
              "      <td id=\"T_d38b6_row20_col2\" class=\"data row20 col2\" >0.044848</td>\n",
              "      <td id=\"T_d38b6_row20_col3\" class=\"data row20 col3\" >0.031754</td>\n",
              "      <td id=\"T_d38b6_row20_col4\" class=\"data row20 col4\" >0.031754</td>\n",
              "      <td id=\"T_d38b6_row20_col5\" class=\"data row20 col5\" >0.013610</td>\n",
              "      <td id=\"T_d38b6_row20_col6\" class=\"data row20 col6\" >0.013408</td>\n",
              "      <td id=\"T_d38b6_row20_col7\" class=\"data row20 col7\" >0.040546</td>\n",
              "      <td id=\"T_d38b6_row20_col8\" class=\"data row20 col8\" >0.040927</td>\n",
              "      <td id=\"T_d38b6_row20_col9\" class=\"data row20 col9\" >0.000000</td>\n",
              "      <td id=\"T_d38b6_row20_col10\" class=\"data row20 col10\" >0.000000</td>\n",
              "      <td id=\"T_d38b6_row20_col11\" class=\"data row20 col11\" >0.000000</td>\n",
              "      <td id=\"T_d38b6_row20_col12\" class=\"data row20 col12\" >0.000007</td>\n",
              "      <td id=\"T_d38b6_row20_col13\" class=\"data row20 col13\" >0.002908</td>\n",
              "      <td id=\"T_d38b6_row20_col14\" class=\"data row20 col14\" >0.001160</td>\n",
              "      <td id=\"T_d38b6_row20_col15\" class=\"data row20 col15\" >0.000000</td>\n",
              "      <td id=\"T_d38b6_row20_col16\" class=\"data row20 col16\" >0.000012</td>\n",
              "      <td id=\"T_d38b6_row20_col17\" class=\"data row20 col17\" >0.000000</td>\n",
              "      <td id=\"T_d38b6_row20_col18\" class=\"data row20 col18\" >0.000000</td>\n",
              "      <td id=\"T_d38b6_row20_col19\" class=\"data row20 col19\" >0.031665</td>\n",
              "      <td id=\"T_d38b6_row20_col20\" class=\"data row20 col20\" >0.041690</td>\n",
              "    </tr>\n",
              "    <tr>\n",
              "      <th id=\"T_d38b6_level0_row21\" class=\"row_heading level0 row21\" >MAP@2</th>\n",
              "      <td id=\"T_d38b6_row21_col0\" class=\"data row21 col0\" >0.055259</td>\n",
              "      <td id=\"T_d38b6_row21_col1\" class=\"data row21 col1\" >0.060555</td>\n",
              "      <td id=\"T_d38b6_row21_col2\" class=\"data row21 col2\" >0.060555</td>\n",
              "      <td id=\"T_d38b6_row21_col3\" class=\"data row21 col3\" >0.043977</td>\n",
              "      <td id=\"T_d38b6_row21_col4\" class=\"data row21 col4\" >0.043977</td>\n",
              "      <td id=\"T_d38b6_row21_col5\" class=\"data row21 col5\" >0.017017</td>\n",
              "      <td id=\"T_d38b6_row21_col6\" class=\"data row21 col6\" >0.017023</td>\n",
              "      <td id=\"T_d38b6_row21_col7\" class=\"data row21 col7\" >0.054315</td>\n",
              "      <td id=\"T_d38b6_row21_col8\" class=\"data row21 col8\" >0.054841</td>\n",
              "      <td id=\"T_d38b6_row21_col9\" class=\"data row21 col9\" >0.000000</td>\n",
              "      <td id=\"T_d38b6_row21_col10\" class=\"data row21 col10\" >0.000001</td>\n",
              "      <td id=\"T_d38b6_row21_col11\" class=\"data row21 col11\" >0.000001</td>\n",
              "      <td id=\"T_d38b6_row21_col12\" class=\"data row21 col12\" >0.000029</td>\n",
              "      <td id=\"T_d38b6_row21_col13\" class=\"data row21 col13\" >0.003810</td>\n",
              "      <td id=\"T_d38b6_row21_col14\" class=\"data row21 col14\" >0.002585</td>\n",
              "      <td id=\"T_d38b6_row21_col15\" class=\"data row21 col15\" >0.000000</td>\n",
              "      <td id=\"T_d38b6_row21_col16\" class=\"data row21 col16\" >0.000012</td>\n",
              "      <td id=\"T_d38b6_row21_col17\" class=\"data row21 col17\" >0.000000</td>\n",
              "      <td id=\"T_d38b6_row21_col18\" class=\"data row21 col18\" >0.000000</td>\n",
              "      <td id=\"T_d38b6_row21_col19\" class=\"data row21 col19\" >0.045706</td>\n",
              "      <td id=\"T_d38b6_row21_col20\" class=\"data row21 col20\" >0.057444</td>\n",
              "    </tr>\n",
              "    <tr>\n",
              "      <th id=\"T_d38b6_level0_row22\" class=\"row_heading level0 row22\" >MAP@3</th>\n",
              "      <td id=\"T_d38b6_row22_col0\" class=\"data row22 col0\" >0.065739</td>\n",
              "      <td id=\"T_d38b6_row22_col1\" class=\"data row22 col1\" >0.067311</td>\n",
              "      <td id=\"T_d38b6_row22_col2\" class=\"data row22 col2\" >0.067311</td>\n",
              "      <td id=\"T_d38b6_row22_col3\" class=\"data row22 col3\" >0.051367</td>\n",
              "      <td id=\"T_d38b6_row22_col4\" class=\"data row22 col4\" >0.051367</td>\n",
              "      <td id=\"T_d38b6_row22_col5\" class=\"data row22 col5\" >0.018478</td>\n",
              "      <td id=\"T_d38b6_row22_col6\" class=\"data row22 col6\" >0.018787</td>\n",
              "      <td id=\"T_d38b6_row22_col7\" class=\"data row22 col7\" >0.061729</td>\n",
              "      <td id=\"T_d38b6_row22_col8\" class=\"data row22 col8\" >0.062437</td>\n",
              "      <td id=\"T_d38b6_row22_col9\" class=\"data row22 col9\" >0.000001</td>\n",
              "      <td id=\"T_d38b6_row22_col10\" class=\"data row22 col10\" >0.000002</td>\n",
              "      <td id=\"T_d38b6_row22_col11\" class=\"data row22 col11\" >0.000001</td>\n",
              "      <td id=\"T_d38b6_row22_col12\" class=\"data row22 col12\" >0.000046</td>\n",
              "      <td id=\"T_d38b6_row22_col13\" class=\"data row22 col13\" >0.004666</td>\n",
              "      <td id=\"T_d38b6_row22_col14\" class=\"data row22 col14\" >0.002991</td>\n",
              "      <td id=\"T_d38b6_row22_col15\" class=\"data row22 col15\" >0.000000</td>\n",
              "      <td id=\"T_d38b6_row22_col16\" class=\"data row22 col16\" >0.000012</td>\n",
              "      <td id=\"T_d38b6_row22_col17\" class=\"data row22 col17\" >0.000000</td>\n",
              "      <td id=\"T_d38b6_row22_col18\" class=\"data row22 col18\" >0.000000</td>\n",
              "      <td id=\"T_d38b6_row22_col19\" class=\"data row22 col19\" >0.055554</td>\n",
              "      <td id=\"T_d38b6_row22_col20\" class=\"data row22 col20\" >0.067670</td>\n",
              "    </tr>\n",
              "    <tr>\n",
              "      <th id=\"T_d38b6_level0_row23\" class=\"row_heading level0 row23\" >MAP@4</th>\n",
              "      <td id=\"T_d38b6_row23_col0\" class=\"data row23 col0\" >0.070952</td>\n",
              "      <td id=\"T_d38b6_row23_col1\" class=\"data row23 col1\" >0.071489</td>\n",
              "      <td id=\"T_d38b6_row23_col2\" class=\"data row23 col2\" >0.071489</td>\n",
              "      <td id=\"T_d38b6_row23_col3\" class=\"data row23 col3\" >0.055874</td>\n",
              "      <td id=\"T_d38b6_row23_col4\" class=\"data row23 col4\" >0.055874</td>\n",
              "      <td id=\"T_d38b6_row23_col5\" class=\"data row23 col5\" >0.019411</td>\n",
              "      <td id=\"T_d38b6_row23_col6\" class=\"data row23 col6\" >0.019697</td>\n",
              "      <td id=\"T_d38b6_row23_col7\" class=\"data row23 col7\" >0.066165</td>\n",
              "      <td id=\"T_d38b6_row23_col8\" class=\"data row23 col8\" >0.066952</td>\n",
              "      <td id=\"T_d38b6_row23_col9\" class=\"data row23 col9\" >0.000001</td>\n",
              "      <td id=\"T_d38b6_row23_col10\" class=\"data row23 col10\" >0.000007</td>\n",
              "      <td id=\"T_d38b6_row23_col11\" class=\"data row23 col11\" >0.000004</td>\n",
              "      <td id=\"T_d38b6_row23_col12\" class=\"data row23 col12\" >0.000056</td>\n",
              "      <td id=\"T_d38b6_row23_col13\" class=\"data row23 col13\" >0.005151</td>\n",
              "      <td id=\"T_d38b6_row23_col14\" class=\"data row23 col14\" >0.003338</td>\n",
              "      <td id=\"T_d38b6_row23_col15\" class=\"data row23 col15\" >0.000000</td>\n",
              "      <td id=\"T_d38b6_row23_col16\" class=\"data row23 col16\" >0.000013</td>\n",
              "      <td id=\"T_d38b6_row23_col17\" class=\"data row23 col17\" >0.000000</td>\n",
              "      <td id=\"T_d38b6_row23_col18\" class=\"data row23 col18\" >0.000001</td>\n",
              "      <td id=\"T_d38b6_row23_col19\" class=\"data row23 col19\" >0.060022</td>\n",
              "      <td id=\"T_d38b6_row23_col20\" class=\"data row23 col20\" >0.071791</td>\n",
              "    </tr>\n",
              "    <tr>\n",
              "      <th id=\"T_d38b6_level0_row24\" class=\"row_heading level0 row24\" >MAP@5</th>\n",
              "      <td id=\"T_d38b6_row24_col0\" class=\"data row24 col0\" >0.073690</td>\n",
              "      <td id=\"T_d38b6_row24_col1\" class=\"data row24 col1\" >0.073896</td>\n",
              "      <td id=\"T_d38b6_row24_col2\" class=\"data row24 col2\" >0.073896</td>\n",
              "      <td id=\"T_d38b6_row24_col3\" class=\"data row24 col3\" >0.058758</td>\n",
              "      <td id=\"T_d38b6_row24_col4\" class=\"data row24 col4\" >0.058758</td>\n",
              "      <td id=\"T_d38b6_row24_col5\" class=\"data row24 col5\" >0.020007</td>\n",
              "      <td id=\"T_d38b6_row24_col6\" class=\"data row24 col6\" >0.020377</td>\n",
              "      <td id=\"T_d38b6_row24_col7\" class=\"data row24 col7\" >0.069096</td>\n",
              "      <td id=\"T_d38b6_row24_col8\" class=\"data row24 col8\" >0.069930</td>\n",
              "      <td id=\"T_d38b6_row24_col9\" class=\"data row24 col9\" >0.000001</td>\n",
              "      <td id=\"T_d38b6_row24_col10\" class=\"data row24 col10\" >0.000014</td>\n",
              "      <td id=\"T_d38b6_row24_col11\" class=\"data row24 col11\" >0.000006</td>\n",
              "      <td id=\"T_d38b6_row24_col12\" class=\"data row24 col12\" >0.000063</td>\n",
              "      <td id=\"T_d38b6_row24_col13\" class=\"data row24 col13\" >0.005398</td>\n",
              "      <td id=\"T_d38b6_row24_col14\" class=\"data row24 col14\" >0.003431</td>\n",
              "      <td id=\"T_d38b6_row24_col15\" class=\"data row24 col15\" >0.000000</td>\n",
              "      <td id=\"T_d38b6_row24_col16\" class=\"data row24 col16\" >0.000016</td>\n",
              "      <td id=\"T_d38b6_row24_col17\" class=\"data row24 col17\" >0.000000</td>\n",
              "      <td id=\"T_d38b6_row24_col18\" class=\"data row24 col18\" >0.000001</td>\n",
              "      <td id=\"T_d38b6_row24_col19\" class=\"data row24 col19\" >0.060326</td>\n",
              "      <td id=\"T_d38b6_row24_col20\" class=\"data row24 col20\" >0.075181</td>\n",
              "    </tr>\n",
              "    <tr>\n",
              "      <th id=\"T_d38b6_level0_row25\" class=\"row_heading level0 row25\" >MAP@6</th>\n",
              "      <td id=\"T_d38b6_row25_col0\" class=\"data row25 col0\" >0.075472</td>\n",
              "      <td id=\"T_d38b6_row25_col1\" class=\"data row25 col1\" >0.075461</td>\n",
              "      <td id=\"T_d38b6_row25_col2\" class=\"data row25 col2\" >0.075461</td>\n",
              "      <td id=\"T_d38b6_row25_col3\" class=\"data row25 col3\" >0.060793</td>\n",
              "      <td id=\"T_d38b6_row25_col4\" class=\"data row25 col4\" >0.060793</td>\n",
              "      <td id=\"T_d38b6_row25_col5\" class=\"data row25 col5\" >0.020462</td>\n",
              "      <td id=\"T_d38b6_row25_col6\" class=\"data row25 col6\" >0.020891</td>\n",
              "      <td id=\"T_d38b6_row25_col7\" class=\"data row25 col7\" >0.071049</td>\n",
              "      <td id=\"T_d38b6_row25_col8\" class=\"data row25 col8\" >0.071915</td>\n",
              "      <td id=\"T_d38b6_row25_col9\" class=\"data row25 col9\" >0.000001</td>\n",
              "      <td id=\"T_d38b6_row25_col10\" class=\"data row25 col10\" >0.000015</td>\n",
              "      <td id=\"T_d38b6_row25_col11\" class=\"data row25 col11\" >0.000008</td>\n",
              "      <td id=\"T_d38b6_row25_col12\" class=\"data row25 col12\" >0.000070</td>\n",
              "      <td id=\"T_d38b6_row25_col13\" class=\"data row25 col13\" >0.005676</td>\n",
              "      <td id=\"T_d38b6_row25_col14\" class=\"data row25 col14\" >0.003458</td>\n",
              "      <td id=\"T_d38b6_row25_col15\" class=\"data row25 col15\" >0.000000</td>\n",
              "      <td id=\"T_d38b6_row25_col16\" class=\"data row25 col16\" >0.000016</td>\n",
              "      <td id=\"T_d38b6_row25_col17\" class=\"data row25 col17\" >0.000000</td>\n",
              "      <td id=\"T_d38b6_row25_col18\" class=\"data row25 col18\" >0.000001</td>\n",
              "      <td id=\"T_d38b6_row25_col19\" class=\"data row25 col19\" >0.060743</td>\n",
              "      <td id=\"T_d38b6_row25_col20\" class=\"data row25 col20\" >0.076876</td>\n",
              "    </tr>\n",
              "    <tr>\n",
              "      <th id=\"T_d38b6_level0_row26\" class=\"row_heading level0 row26\" >MAP@7</th>\n",
              "      <td id=\"T_d38b6_row26_col0\" class=\"data row26 col0\" >0.076457</td>\n",
              "      <td id=\"T_d38b6_row26_col1\" class=\"data row26 col1\" >0.076642</td>\n",
              "      <td id=\"T_d38b6_row26_col2\" class=\"data row26 col2\" >0.076642</td>\n",
              "      <td id=\"T_d38b6_row26_col3\" class=\"data row26 col3\" >0.062283</td>\n",
              "      <td id=\"T_d38b6_row26_col4\" class=\"data row26 col4\" >0.062283</td>\n",
              "      <td id=\"T_d38b6_row26_col5\" class=\"data row26 col5\" >0.020811</td>\n",
              "      <td id=\"T_d38b6_row26_col6\" class=\"data row26 col6\" >0.021298</td>\n",
              "      <td id=\"T_d38b6_row26_col7\" class=\"data row26 col7\" >0.072544</td>\n",
              "      <td id=\"T_d38b6_row26_col8\" class=\"data row26 col8\" >0.073372</td>\n",
              "      <td id=\"T_d38b6_row26_col9\" class=\"data row26 col9\" >0.000001</td>\n",
              "      <td id=\"T_d38b6_row26_col10\" class=\"data row26 col10\" >0.000022</td>\n",
              "      <td id=\"T_d38b6_row26_col11\" class=\"data row26 col11\" >0.000012</td>\n",
              "      <td id=\"T_d38b6_row26_col12\" class=\"data row26 col12\" >0.000074</td>\n",
              "      <td id=\"T_d38b6_row26_col13\" class=\"data row26 col13\" >0.006493</td>\n",
              "      <td id=\"T_d38b6_row26_col14\" class=\"data row26 col14\" >0.003481</td>\n",
              "      <td id=\"T_d38b6_row26_col15\" class=\"data row26 col15\" >0.000000</td>\n",
              "      <td id=\"T_d38b6_row26_col16\" class=\"data row26 col16\" >0.000016</td>\n",
              "      <td id=\"T_d38b6_row26_col17\" class=\"data row26 col17\" >0.000000</td>\n",
              "      <td id=\"T_d38b6_row26_col18\" class=\"data row26 col18\" >0.000001</td>\n",
              "      <td id=\"T_d38b6_row26_col19\" class=\"data row26 col19\" >0.061047</td>\n",
              "      <td id=\"T_d38b6_row26_col20\" class=\"data row26 col20\" >0.077694</td>\n",
              "    </tr>\n",
              "    <tr>\n",
              "      <th id=\"T_d38b6_level0_row27\" class=\"row_heading level0 row27\" >MAP@8</th>\n",
              "      <td id=\"T_d38b6_row27_col0\" class=\"data row27 col0\" >0.077396</td>\n",
              "      <td id=\"T_d38b6_row27_col1\" class=\"data row27 col1\" >0.077597</td>\n",
              "      <td id=\"T_d38b6_row27_col2\" class=\"data row27 col2\" >0.077597</td>\n",
              "      <td id=\"T_d38b6_row27_col3\" class=\"data row27 col3\" >0.063458</td>\n",
              "      <td id=\"T_d38b6_row27_col4\" class=\"data row27 col4\" >0.063458</td>\n",
              "      <td id=\"T_d38b6_row27_col5\" class=\"data row27 col5\" >0.021100</td>\n",
              "      <td id=\"T_d38b6_row27_col6\" class=\"data row27 col6\" >0.021625</td>\n",
              "      <td id=\"T_d38b6_row27_col7\" class=\"data row27 col7\" >0.073740</td>\n",
              "      <td id=\"T_d38b6_row27_col8\" class=\"data row27 col8\" >0.074514</td>\n",
              "      <td id=\"T_d38b6_row27_col9\" class=\"data row27 col9\" >0.000001</td>\n",
              "      <td id=\"T_d38b6_row27_col10\" class=\"data row27 col10\" >0.000036</td>\n",
              "      <td id=\"T_d38b6_row27_col11\" class=\"data row27 col11\" >0.000016</td>\n",
              "      <td id=\"T_d38b6_row27_col12\" class=\"data row27 col12\" >0.000077</td>\n",
              "      <td id=\"T_d38b6_row27_col13\" class=\"data row27 col13\" >0.007415</td>\n",
              "      <td id=\"T_d38b6_row27_col14\" class=\"data row27 col14\" >0.003517</td>\n",
              "      <td id=\"T_d38b6_row27_col15\" class=\"data row27 col15\" >0.000000</td>\n",
              "      <td id=\"T_d38b6_row27_col16\" class=\"data row27 col16\" >0.000017</td>\n",
              "      <td id=\"T_d38b6_row27_col17\" class=\"data row27 col17\" >0.000000</td>\n",
              "      <td id=\"T_d38b6_row27_col18\" class=\"data row27 col18\" >0.000001</td>\n",
              "      <td id=\"T_d38b6_row27_col19\" class=\"data row27 col19\" >0.061262</td>\n",
              "      <td id=\"T_d38b6_row27_col20\" class=\"data row27 col20\" >0.078594</td>\n",
              "    </tr>\n",
              "    <tr>\n",
              "      <th id=\"T_d38b6_level0_row28\" class=\"row_heading level0 row28\" >MAP@9</th>\n",
              "      <td id=\"T_d38b6_row28_col0\" class=\"data row28 col0\" >0.078203</td>\n",
              "      <td id=\"T_d38b6_row28_col1\" class=\"data row28 col1\" >0.078415</td>\n",
              "      <td id=\"T_d38b6_row28_col2\" class=\"data row28 col2\" >0.078415</td>\n",
              "      <td id=\"T_d38b6_row28_col3\" class=\"data row28 col3\" >0.064420</td>\n",
              "      <td id=\"T_d38b6_row28_col4\" class=\"data row28 col4\" >0.064420</td>\n",
              "      <td id=\"T_d38b6_row28_col5\" class=\"data row28 col5\" >0.021331</td>\n",
              "      <td id=\"T_d38b6_row28_col6\" class=\"data row28 col6\" >0.021893</td>\n",
              "      <td id=\"T_d38b6_row28_col7\" class=\"data row28 col7\" >0.074753</td>\n",
              "      <td id=\"T_d38b6_row28_col8\" class=\"data row28 col8\" >0.075481</td>\n",
              "      <td id=\"T_d38b6_row28_col9\" class=\"data row28 col9\" >0.000001</td>\n",
              "      <td id=\"T_d38b6_row28_col10\" class=\"data row28 col10\" >0.000052</td>\n",
              "      <td id=\"T_d38b6_row28_col11\" class=\"data row28 col11\" >0.000024</td>\n",
              "      <td id=\"T_d38b6_row28_col12\" class=\"data row28 col12\" >0.000078</td>\n",
              "      <td id=\"T_d38b6_row28_col13\" class=\"data row28 col13\" >0.008256</td>\n",
              "      <td id=\"T_d38b6_row28_col14\" class=\"data row28 col14\" >0.003648</td>\n",
              "      <td id=\"T_d38b6_row28_col15\" class=\"data row28 col15\" >0.000000</td>\n",
              "      <td id=\"T_d38b6_row28_col16\" class=\"data row28 col16\" >0.000017</td>\n",
              "      <td id=\"T_d38b6_row28_col17\" class=\"data row28 col17\" >0.000000</td>\n",
              "      <td id=\"T_d38b6_row28_col18\" class=\"data row28 col18\" >0.000001</td>\n",
              "      <td id=\"T_d38b6_row28_col19\" class=\"data row28 col19\" >0.061560</td>\n",
              "      <td id=\"T_d38b6_row28_col20\" class=\"data row28 col20\" >0.079440</td>\n",
              "    </tr>\n",
              "    <tr>\n",
              "      <th id=\"T_d38b6_level0_row29\" class=\"row_heading level0 row29\" >MAP@10</th>\n",
              "      <td id=\"T_d38b6_row29_col0\" class=\"data row29 col0\" >0.078957</td>\n",
              "      <td id=\"T_d38b6_row29_col1\" class=\"data row29 col1\" >0.079127</td>\n",
              "      <td id=\"T_d38b6_row29_col2\" class=\"data row29 col2\" >0.079127</td>\n",
              "      <td id=\"T_d38b6_row29_col3\" class=\"data row29 col3\" >0.065291</td>\n",
              "      <td id=\"T_d38b6_row29_col4\" class=\"data row29 col4\" >0.065291</td>\n",
              "      <td id=\"T_d38b6_row29_col5\" class=\"data row29 col5\" >0.021522</td>\n",
              "      <td id=\"T_d38b6_row29_col6\" class=\"data row29 col6\" >0.022122</td>\n",
              "      <td id=\"T_d38b6_row29_col7\" class=\"data row29 col7\" >0.075609</td>\n",
              "      <td id=\"T_d38b6_row29_col8\" class=\"data row29 col8\" >0.076309</td>\n",
              "      <td id=\"T_d38b6_row29_col9\" class=\"data row29 col9\" >0.000001</td>\n",
              "      <td id=\"T_d38b6_row29_col10\" class=\"data row29 col10\" >0.000063</td>\n",
              "      <td id=\"T_d38b6_row29_col11\" class=\"data row29 col11\" >0.000028</td>\n",
              "      <td id=\"T_d38b6_row29_col12\" class=\"data row29 col12\" >0.000079</td>\n",
              "      <td id=\"T_d38b6_row29_col13\" class=\"data row29 col13\" >0.009044</td>\n",
              "      <td id=\"T_d38b6_row29_col14\" class=\"data row29 col14\" >0.003772</td>\n",
              "      <td id=\"T_d38b6_row29_col15\" class=\"data row29 col15\" >0.000001</td>\n",
              "      <td id=\"T_d38b6_row29_col16\" class=\"data row29 col16\" >0.000019</td>\n",
              "      <td id=\"T_d38b6_row29_col17\" class=\"data row29 col17\" >0.000000</td>\n",
              "      <td id=\"T_d38b6_row29_col18\" class=\"data row29 col18\" >0.000001</td>\n",
              "      <td id=\"T_d38b6_row29_col19\" class=\"data row29 col19\" >0.061577</td>\n",
              "      <td id=\"T_d38b6_row29_col20\" class=\"data row29 col20\" >0.080235</td>\n",
              "    </tr>\n",
              "  </tbody>\n",
              "</table>\n"
            ]
          },
          "metadata": {},
          "execution_count": 66
        }
      ],
      "source": [
        "df_quality.style.highlight_max(color='lightgreen', axis=1)"
      ]
    },
    {
      "cell_type": "markdown",
      "source": [
        "## Approximate Nearest Neighbors"
      ],
      "metadata": {
        "id": "NV82FsoF2NpY"
      }
    },
    {
      "cell_type": "code",
      "source": [
        "user_embeddings, item_embeddings = model.get_vectors(dataset)\n",
        "\n",
        "user_embeddings.shape, item_embeddings.shape"
      ],
      "metadata": {
        "colab": {
          "base_uri": "https://localhost:8080/"
        },
        "id": "SN0iE2wG2OT0",
        "outputId": "e8baa8d9-dfca-4201-8eda-9b32f8e76d6a"
      },
      "execution_count": 40,
      "outputs": [
        {
          "output_type": "execute_result",
          "data": {
            "text/plain": [
              "((896791, 32), (15565, 32))"
            ]
          },
          "metadata": {},
          "execution_count": 40
        }
      ]
    },
    {
      "cell_type": "code",
      "source": [
        "def augment_inner_product(factors):\n",
        "    normed_factors = np.linalg.norm(factors, axis=1)\n",
        "    max_norm = normed_factors.max()\n",
        "    \n",
        "    extra_dim = np.sqrt(max_norm ** 2 - normed_factors ** 2).reshape(-1, 1)\n",
        "    augmented_factors = np.append(factors, extra_dim, axis=1)\n",
        "    return max_norm, augmented_factors"
      ],
      "metadata": {
        "id": "sECMPmEV2Wgb"
      },
      "execution_count": 41,
      "outputs": []
    },
    {
      "cell_type": "code",
      "source": [
        "print('Pre shape items: ', item_embeddings.shape)\n",
        "\n",
        "max_norm, augmented_item_embeddings = augment_inner_product(item_embeddings)\n",
        "\n",
        "print('Shape items after augmented: ', augmented_item_embeddings.shape)"
      ],
      "metadata": {
        "colab": {
          "base_uri": "https://localhost:8080/"
        },
        "id": "1bWY09M72X3o",
        "outputId": "04cde4ff-56c4-48f7-f9ac-c99594767a5d"
      },
      "execution_count": 42,
      "outputs": [
        {
          "output_type": "stream",
          "name": "stdout",
          "text": [
            "Pre shape items:  (15565, 32)\n",
            "Shape items after augmented:  (15565, 33)\n"
          ]
        }
      ]
    },
    {
      "cell_type": "code",
      "source": [
        "extra_zero = np.zeros((user_embeddings.shape[0], 1))\n",
        "augmented_user_embeddings = np.append(user_embeddings, extra_zero, axis=1)\n",
        "\n",
        "print('Shape users after augmented: ', augmented_user_embeddings.shape)"
      ],
      "metadata": {
        "colab": {
          "base_uri": "https://localhost:8080/"
        },
        "id": "IlhVCs2C2sVV",
        "outputId": "fc203ab2-1526-46e9-8aef-8fa91494616e"
      },
      "execution_count": 43,
      "outputs": [
        {
          "output_type": "stream",
          "name": "stdout",
          "text": [
            "Shape users after augmented:  (896791, 33)\n"
          ]
        }
      ]
    },
    {
      "cell_type": "markdown",
      "source": [
        "### Examples of user embeddings and item embeddings"
      ],
      "metadata": {
        "id": "rjDb34oc3NfX"
      }
    },
    {
      "cell_type": "code",
      "source": [
        "user_id = 30\n",
        "\n",
        "print('User embeddings for ', user_id)\n",
        "user_embeddings[user_id]"
      ],
      "metadata": {
        "colab": {
          "base_uri": "https://localhost:8080/"
        },
        "id": "eJ9OMBzW3Sba",
        "outputId": "50ff74d5-9dff-4924-b233-90abbf514f09"
      },
      "execution_count": 44,
      "outputs": [
        {
          "output_type": "stream",
          "name": "stdout",
          "text": [
            "User embeddings for  30\n"
          ]
        },
        {
          "output_type": "execute_result",
          "data": {
            "text/plain": [
              "array([-7.02635677e-36,  1.00000000e+00,  0.00000000e+00,  0.00000000e+00,\n",
              "        0.00000000e+00,  0.00000000e+00,  0.00000000e+00,  0.00000000e+00,\n",
              "        0.00000000e+00,  0.00000000e+00,  0.00000000e+00,  0.00000000e+00,\n",
              "        0.00000000e+00,  0.00000000e+00,  0.00000000e+00,  0.00000000e+00,\n",
              "        0.00000000e+00,  0.00000000e+00,  0.00000000e+00,  0.00000000e+00,\n",
              "        0.00000000e+00,  0.00000000e+00,  0.00000000e+00,  0.00000000e+00,\n",
              "        0.00000000e+00,  0.00000000e+00,  0.00000000e+00,  0.00000000e+00,\n",
              "        0.00000000e+00,  0.00000000e+00,  0.00000000e+00,  0.00000000e+00])"
            ]
          },
          "metadata": {},
          "execution_count": 44
        }
      ]
    },
    {
      "cell_type": "code",
      "source": [
        "print('User augmented embeddings for ', user_id)\n",
        "augmented_user_embeddings[user_id]"
      ],
      "metadata": {
        "colab": {
          "base_uri": "https://localhost:8080/"
        },
        "id": "WxiPsT-73om0",
        "outputId": "d7bf6683-64b7-4093-e34f-02e4a1b80b2d"
      },
      "execution_count": 45,
      "outputs": [
        {
          "output_type": "stream",
          "name": "stdout",
          "text": [
            "User augmented embeddings for  30\n"
          ]
        },
        {
          "output_type": "execute_result",
          "data": {
            "text/plain": [
              "array([-7.02635677e-36,  1.00000000e+00,  0.00000000e+00,  0.00000000e+00,\n",
              "        0.00000000e+00,  0.00000000e+00,  0.00000000e+00,  0.00000000e+00,\n",
              "        0.00000000e+00,  0.00000000e+00,  0.00000000e+00,  0.00000000e+00,\n",
              "        0.00000000e+00,  0.00000000e+00,  0.00000000e+00,  0.00000000e+00,\n",
              "        0.00000000e+00,  0.00000000e+00,  0.00000000e+00,  0.00000000e+00,\n",
              "        0.00000000e+00,  0.00000000e+00,  0.00000000e+00,  0.00000000e+00,\n",
              "        0.00000000e+00,  0.00000000e+00,  0.00000000e+00,  0.00000000e+00,\n",
              "        0.00000000e+00,  0.00000000e+00,  0.00000000e+00,  0.00000000e+00,\n",
              "        0.00000000e+00])"
            ]
          },
          "metadata": {},
          "execution_count": 45
        }
      ]
    },
    {
      "cell_type": "code",
      "source": [
        "item_id = 0\n",
        "\n",
        "print('Item embeddings for ', item_id)\n",
        "item_embeddings[item_id]"
      ],
      "metadata": {
        "colab": {
          "base_uri": "https://localhost:8080/"
        },
        "id": "L1MBLJpg348r",
        "outputId": "76012afb-33c0-4dc9-b607-b9484d10ce5d"
      },
      "execution_count": 46,
      "outputs": [
        {
          "output_type": "stream",
          "name": "stdout",
          "text": [
            "Item embeddings for  0\n"
          ]
        },
        {
          "output_type": "execute_result",
          "data": {
            "text/plain": [
              "array([ 1.00000000e+00, -7.31829641e-05,  0.00000000e+00,  0.00000000e+00,\n",
              "        0.00000000e+00,  0.00000000e+00,  0.00000000e+00,  0.00000000e+00,\n",
              "        0.00000000e+00,  0.00000000e+00,  0.00000000e+00,  0.00000000e+00,\n",
              "        0.00000000e+00,  0.00000000e+00,  0.00000000e+00,  0.00000000e+00,\n",
              "        0.00000000e+00,  0.00000000e+00,  0.00000000e+00,  0.00000000e+00,\n",
              "        0.00000000e+00,  0.00000000e+00,  0.00000000e+00,  0.00000000e+00,\n",
              "        0.00000000e+00,  0.00000000e+00,  0.00000000e+00,  0.00000000e+00,\n",
              "        0.00000000e+00,  0.00000000e+00,  0.00000000e+00,  0.00000000e+00])"
            ]
          },
          "metadata": {},
          "execution_count": 46
        }
      ]
    },
    {
      "cell_type": "code",
      "source": [
        "print('Item augmented embeddings for ', item_id)\n",
        "augmented_item_embeddings[item_id]"
      ],
      "metadata": {
        "colab": {
          "base_uri": "https://localhost:8080/"
        },
        "id": "6fGbpPsd4SRb",
        "outputId": "32048ad9-960f-4c84-e996-d920de07efee"
      },
      "execution_count": 47,
      "outputs": [
        {
          "output_type": "stream",
          "name": "stdout",
          "text": [
            "Item augmented embeddings for  0\n"
          ]
        },
        {
          "output_type": "execute_result",
          "data": {
            "text/plain": [
              "array([ 1.00000000e+00, -7.31829641e-05,  0.00000000e+00,  0.00000000e+00,\n",
              "        0.00000000e+00,  0.00000000e+00,  0.00000000e+00,  0.00000000e+00,\n",
              "        0.00000000e+00,  0.00000000e+00,  0.00000000e+00,  0.00000000e+00,\n",
              "        0.00000000e+00,  0.00000000e+00,  0.00000000e+00,  0.00000000e+00,\n",
              "        0.00000000e+00,  0.00000000e+00,  0.00000000e+00,  0.00000000e+00,\n",
              "        0.00000000e+00,  0.00000000e+00,  0.00000000e+00,  0.00000000e+00,\n",
              "        0.00000000e+00,  0.00000000e+00,  0.00000000e+00,  0.00000000e+00,\n",
              "        0.00000000e+00,  0.00000000e+00,  0.00000000e+00,  0.00000000e+00,\n",
              "        7.95802230e-05])"
            ]
          },
          "metadata": {},
          "execution_count": 47
        }
      ]
    },
    {
      "cell_type": "code",
      "source": [
        "#set index parameters\n",
        "M = 48\n",
        "efC = 100\n",
        "\n",
        "num_threads = 4\n",
        "index_time_params = {'M': M, 'indexThreadQty': num_threads, 'efConstruction': efC, 'post' : 0}\n",
        "\n",
        "print('Index-time parameters', index_time_params)"
      ],
      "metadata": {
        "colab": {
          "base_uri": "https://localhost:8080/"
        },
        "id": "XdNhw3Qr4zs_",
        "outputId": "2c7000b5-4e2d-43b6-fc8c-c26fb5abf849"
      },
      "execution_count": 48,
      "outputs": [
        {
          "output_type": "stream",
          "name": "stdout",
          "text": [
            "Index-time parameters {'M': 48, 'indexThreadQty': 4, 'efConstruction': 100, 'post': 0}\n"
          ]
        }
      ]
    },
    {
      "cell_type": "code",
      "source": [
        "K = 10   #number of neighbors \n",
        "\n",
        "space_name = 'negdotprod'   #used for brute-force search"
      ],
      "metadata": {
        "id": "il1xnwXd4_Ls"
      },
      "execution_count": 49,
      "outputs": []
    },
    {
      "cell_type": "code",
      "source": [
        "#intitialize the library, specify the space, the type of the vector and add data points \n",
        "index = nmslib.init(method='hnsw', space=space_name, data_type=nmslib.DataType.DENSE_VECTOR) \n",
        "index.addDataPointBatch(augmented_item_embeddings) "
      ],
      "metadata": {
        "colab": {
          "base_uri": "https://localhost:8080/"
        },
        "id": "RdnxX0Yb5LxW",
        "outputId": "c2a29efb-83f8-493e-a532-1523b066a27e"
      },
      "execution_count": 50,
      "outputs": [
        {
          "output_type": "execute_result",
          "data": {
            "text/plain": [
              "15565"
            ]
          },
          "metadata": {},
          "execution_count": 50
        }
      ]
    },
    {
      "cell_type": "code",
      "source": [
        "#create an index\n",
        "start = time.time()\n",
        "index_time_params = {'M': M, 'indexThreadQty': num_threads, 'efConstruction': efC}\n",
        "index.createIndex(index_time_params) \n",
        "end = time.time() \n",
        "\n",
        "print('Index-time parameters', index_time_params)\n",
        "\n",
        "print('Indexing time = %f' % (end-start))"
      ],
      "metadata": {
        "colab": {
          "base_uri": "https://localhost:8080/"
        },
        "id": "CY-dk6se5Z70",
        "outputId": "a21a2e97-5d1b-41ec-a3e8-a6b40dfd467f"
      },
      "execution_count": 51,
      "outputs": [
        {
          "output_type": "stream",
          "name": "stdout",
          "text": [
            "Index-time parameters {'M': 48, 'indexThreadQty': 4, 'efConstruction': 100}\n",
            "Indexing time = 23.432128\n"
          ]
        }
      ]
    },
    {
      "cell_type": "code",
      "source": [
        "#setting query-time parameters\n",
        "efS = 100\n",
        "query_time_params = {'efSearch': efS}\n",
        "\n",
        "print('Setting query-time parameters', query_time_params) \n",
        "\n",
        "index.setQueryTimeParams(query_time_params)"
      ],
      "metadata": {
        "colab": {
          "base_uri": "https://localhost:8080/"
        },
        "id": "aIL-VxRb5ntO",
        "outputId": "44f7f039-ed90-409c-f628-00df3e935065"
      },
      "execution_count": 52,
      "outputs": [
        {
          "output_type": "stream",
          "name": "stdout",
          "text": [
            "Setting query-time parameters {'efSearch': 100}\n"
          ]
        }
      ]
    },
    {
      "cell_type": "code",
      "source": [
        "query_matrix = augmented_user_embeddings[:1000, :]"
      ],
      "metadata": {
        "id": "7yRQFuRf5ukB"
      },
      "execution_count": 53,
      "outputs": []
    },
    {
      "cell_type": "code",
      "source": [
        "# Querying\n",
        "query_qty = query_matrix.shape[0]\n",
        "start = time.time() \n",
        "nbrs = index.knnQueryBatch(query_matrix, k = K, num_threads = num_threads)\n",
        "end = time.time() \n",
        "\n",
        "print('kNN time total=%f (sec), per query=%f (sec), per query adjusted for thread number=%f (sec)' % \n",
        "      (end-start, float(end-start)/query_qty, num_threads*float(end-start)/query_qty)) "
      ],
      "metadata": {
        "colab": {
          "base_uri": "https://localhost:8080/"
        },
        "id": "GdGZGsy35wnB",
        "outputId": "66ee5d67-39e3-4d76-bec4-9cb991f93c18"
      },
      "execution_count": 54,
      "outputs": [
        {
          "output_type": "stream",
          "name": "stdout",
          "text": [
            "kNN time total=0.099473 (sec), per query=0.000099 (sec), per query adjusted for thread number=0.000398 (sec)\n"
          ]
        }
      ]
    },
    {
      "cell_type": "code",
      "source": [
        "nbrs[0]"
      ],
      "metadata": {
        "colab": {
          "base_uri": "https://localhost:8080/"
        },
        "id": "sGO5Brgo53Bz",
        "outputId": "21badfce-3fd4-4036-8def-188936e0997d"
      },
      "execution_count": 55,
      "outputs": [
        {
          "output_type": "execute_result",
          "data": {
            "text/plain": [
              "(array([ 3507,   133, 13880,  1732,  1710,  3554,    93,  1801, 13842,\n",
              "         2987], dtype=int32),\n",
              " array([0.00016064, 0.0001668 , 0.00017086, 0.00017226, 0.00017367,\n",
              "        0.00017454, 0.00017495, 0.00017515, 0.00017515, 0.00017675],\n",
              "       dtype=float32))"
            ]
          },
          "metadata": {},
          "execution_count": 55
        }
      ]
    }
  ],
  "metadata": {
    "accelerator": "GPU",
    "colab": {
      "provenance": [],
      "collapsed_sections": [
        "qPuLMq1PGtK5",
        "r8N-oliaoGWf",
        "5lz5hlhbo1MX",
        "9g3-wQ6dpDHj"
      ]
    },
    "gpuClass": "standard",
    "kernelspec": {
      "display_name": "Python 3",
      "name": "python3"
    },
    "language_info": {
      "name": "python"
    }
  },
  "nbformat": 4,
  "nbformat_minor": 0
}
