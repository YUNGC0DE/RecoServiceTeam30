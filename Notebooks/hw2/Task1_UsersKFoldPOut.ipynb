{
 "cells": [
  {
   "cell_type": "markdown",
   "id": "48e14daf-f8c9-4c8e-a244-0b229b5f648f",
   "metadata": {},
   "source": [
    "## UsersKFoldLeavePOut validation"
   ]
  },
  {
   "cell_type": "markdown",
   "id": "16dc5a25-b78a-4182-97bc-1aed5dc6cad5",
   "metadata": {},
   "source": [
    "https://drive.google.com/uc?id=1GIa7RQOTXqvvwFFckfTVVNrtTYvlQwzj## Homework\n",
    "\n",
    "Исходные данные - Yandex Cup 2022 RecSys:\n",
    "- Описание соревнования - https://contest.yandex.ru/yacup/contest/41618/problems/\n",
    "- Данные - https://disk.yandex.ru/d/SI1aAooPn9i8TA\n",
    "- Описание данных - в архиве likes_data.zip три файла:\n",
    "  - train - обучающий набор данных. Каждая строка - последовательность id треков, которые лайкнул один пользователь. Гарантируется, что лайки даны в той последовательности, в которой их ставил пользователь.\n",
    "  - test - набор тестовых данных. Имеет точно такой же формат, но в каждой строке не хватает последнего лайка, который надо предсказать.\n",
    "  - track_artists.csv - информация о исполнителях треков. Гарантируется, что у каждого трека есть ровно один исполнитель. Для треков, у которых фактически несколько исполнителей, мы оставили того, который считается основным исполнителем трека.\n",
    "- Описание сабмита - в качестве решения необходимо отправить файл, в котором для каждого пользователя из test в отдельной строке будет не более 100 треков, разделенных пробелом. Гарантируется, что у каждого пользователя будет только 1 лайк в тесте\n",
    "- Метрика - MRR@100"
   ]
  },
  {
   "cell_type": "code",
   "execution_count": 3,
   "id": "54c4681a-119f-4292-8696-c02b53654e43",
   "metadata": {},
   "outputs": [],
   "source": [
    "import numpy as np\n",
    "import pandas as pd"
   ]
  },
  {
   "cell_type": "code",
   "execution_count": 13,
   "id": "86a65581-71c2-46d6-a883-9d2ca5fe022e",
   "metadata": {},
   "outputs": [],
   "source": [
    "LIMIT = 1_000_00"
   ]
  },
  {
   "cell_type": "code",
   "execution_count": 14,
   "id": "2f4560ec-9ca9-4236-a2ff-b5a44a7271db",
   "metadata": {},
   "outputs": [],
   "source": [
    "data = []\n",
    "\n",
    "with open('train', 'r') as f:\n",
    "    for i, line in zip(range(LIMIT), f):\n",
    "        data.extend([dict(user_id=i, item_id=int(item_id))\n",
    "                     for item_id in reversed(line.split())])"
   ]
  },
  {
   "cell_type": "code",
   "execution_count": 15,
   "id": "2e317556-4f80-4a1d-98df-285b3aa7e6d4",
   "metadata": {},
   "outputs": [
    {
     "data": {
      "text/html": [
       "<div>\n",
       "<style scoped>\n",
       "    .dataframe tbody tr th:only-of-type {\n",
       "        vertical-align: middle;\n",
       "    }\n",
       "\n",
       "    .dataframe tbody tr th {\n",
       "        vertical-align: top;\n",
       "    }\n",
       "\n",
       "    .dataframe thead th {\n",
       "        text-align: right;\n",
       "    }\n",
       "</style>\n",
       "<table border=\"1\" class=\"dataframe\">\n",
       "  <thead>\n",
       "    <tr style=\"text-align: right;\">\n",
       "      <th></th>\n",
       "      <th>user_id</th>\n",
       "      <th>item_id</th>\n",
       "    </tr>\n",
       "  </thead>\n",
       "  <tbody>\n",
       "    <tr>\n",
       "      <th>0</th>\n",
       "      <td>0</td>\n",
       "      <td>333396</td>\n",
       "    </tr>\n",
       "    <tr>\n",
       "      <th>1</th>\n",
       "      <td>0</td>\n",
       "      <td>267089</td>\n",
       "    </tr>\n",
       "    <tr>\n",
       "      <th>2</th>\n",
       "      <td>0</td>\n",
       "      <td>155959</td>\n",
       "    </tr>\n",
       "    <tr>\n",
       "      <th>3</th>\n",
       "      <td>0</td>\n",
       "      <td>353335</td>\n",
       "    </tr>\n",
       "    <tr>\n",
       "      <th>4</th>\n",
       "      <td>0</td>\n",
       "      <td>414000</td>\n",
       "    </tr>\n",
       "  </tbody>\n",
       "</table>\n",
       "</div>"
      ],
      "text/plain": [
       "   user_id  item_id\n",
       "0        0   333396\n",
       "1        0   267089\n",
       "2        0   155959\n",
       "3        0   353335\n",
       "4        0   414000"
      ]
     },
     "execution_count": 15,
     "metadata": {},
     "output_type": "execute_result"
    }
   ],
   "source": [
    "data = pd.DataFrame(data, columns=['user_id', 'item_id'])\n",
    "data.head()"
   ]
  },
  {
   "cell_type": "code",
   "execution_count": 16,
   "id": "e086677a-6d14-40f6-baf8-b0b0a72cf9b2",
   "metadata": {},
   "outputs": [],
   "source": [
    "class UsersKFoldPOut():\n",
    "    \"\"\"\n",
    "    Users `K` fold `P` out validation schema.\n",
    "    \n",
    "    Attributes:\n",
    "        - n_folds: count of folds.\n",
    "        - p: leave at least P interactions in the test for each user\n",
    "        - random_seed: random seed.\n",
    "        - user_column: user's column.\n",
    "    \"\"\"\n",
    "    \n",
    "    def __init__(self,\n",
    "                 n_folds: int,\n",
    "                 p: int,\n",
    "                 random_seed=23,\n",
    "                 user_column='user_id'\n",
    "                 ):\n",
    "        \n",
    "        self.n_folds = n_folds\n",
    "        self.random_seed = random_seed\n",
    "        self.user_column = user_column \n",
    "        self.p = p\n",
    "    \n",
    "    def split(self, df):\n",
    "        users = df[self.user_column].unique()\n",
    "        users_count = len(users)\n",
    "        \n",
    "        np.random.seed(self.random_seed)\n",
    "        np.random.shuffle(users)\n",
    "        \n",
    "        fold_sizes = np.full(\n",
    "            self.n_folds,\n",
    "            users_count // self.n_folds,\n",
    "            dtype=int\n",
    "        )\n",
    "        \n",
    "        fold_sizes[:users_count % self.n_folds] += 1\n",
    "        \n",
    "        current = 0\n",
    "        like_order = df.groupby(self.user_column).cumcount()\n",
    "        \n",
    "        for fold_size in fold_sizes:\n",
    "            start, stop = current, current + fold_size\n",
    "            test_fold_users = users[start:stop]\n",
    "            test_mask = df[self.user_column].isin(test_fold_users) & (like_order < self.p)\n",
    "            train_mask = ~df[self.user_column].isin(test_fold_users)\n",
    "            \n",
    "            yield train_mask, test_mask"
   ]
  },
  {
   "cell_type": "code",
   "execution_count": 17,
   "id": "9279d42c-f372-4925-9c44-de766a80962d",
   "metadata": {},
   "outputs": [
    {
     "name": "stdout",
     "output_type": "stream",
     "text": [
      "Fold#0 | Train: 5427560, Test: 166670\n",
      "Fold#1 | Train: 5427571, Test: 166665\n",
      "Fold#2 | Train: 5427571, Test: 166665\n"
     ]
    }
   ],
   "source": [
    "p = 5\n",
    "cv = UsersKFoldPOut(n_folds=3, p=p)\n",
    "\n",
    "for i, (train_mask, test_mask) in enumerate(cv.split(data)):\n",
    "    train = data[train_mask]\n",
    "    test = data[test_mask]\n",
    "    \n",
    "    print(f'Fold#{i} | Train: {train.shape[0]}, Test: {test.shape[0]}')\n",
    "\n",
    "    assert len(set(train['user_id'].unique()).intersection(test['user_id'].unique())) == 0, 'Intersection of train&test detected.'\n",
    "    assert test.groupby('user_id').count().max()[0] <= p, 'Test part has more than p items'"
   ]
  },
  {
   "cell_type": "code",
   "execution_count": null,
   "id": "5b1661f1-ec13-4846-98be-506e9c5b1c07",
   "metadata": {},
   "outputs": [],
   "source": []
  }
 ],
 "metadata": {
  "kernelspec": {
   "display_name": "Python 3 (ipykernel)",
   "language": "python",
   "name": "python3"
  },
  "language_info": {
   "codemirror_mode": {
    "name": "ipython",
    "version": 3
   },
   "file_extension": ".py",
   "mimetype": "text/x-python",
   "name": "python",
   "nbconvert_exporter": "python",
   "pygments_lexer": "ipython3",
   "version": "3.9.12"
  }
 },
 "nbformat": 4,
 "nbformat_minor": 5
}
