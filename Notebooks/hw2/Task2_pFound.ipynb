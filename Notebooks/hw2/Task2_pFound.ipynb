{
 "cells": [
  {
   "cell_type": "code",
   "execution_count": 1,
   "metadata": {},
   "outputs": [],
   "source": [
    "import pandas as pd\n",
    "\n",
    "import time"
   ]
  },
  {
   "cell_type": "code",
   "execution_count": 2,
   "metadata": {},
   "outputs": [],
   "source": [
    "url_qid_query='https://drive.google.com/uc?id=1GIa7RQOTXqvvwFFckfTVVNrtTYvlQwzj'\n",
    "url_qid_url_rating='https://drive.google.com/uc?id=1kONAJPwnwGhuI7meaHKxEg0P7IDeeKkD' \n",
    "url_hostid_url='https://drive.google.com/uc?id=1iw3hNptjKkWHqErjU-pkoRl6ZBnaA0Ke' "
   ]
  },
  {
   "cell_type": "code",
   "execution_count": 3,
   "metadata": {},
   "outputs": [],
   "source": [
    "qid_query = pd.read_csv(url_qid_query, sep=\"\\t\", names=[\"qid\", \"query\"])\n",
    "qid_url_rating = pd.read_csv(url_qid_url_rating, sep=\"\\t\", names=[\"qid\", \"url\", \"rating\"])\n",
    "hostid_url = pd.read_csv(url_hostid_url, sep=\"\\t\", names=[\"hostid\", \"url\"])\n",
    "\n",
    "# делаем join двух таблиц, чтобы было просто брать url с максимальным рейтингом\n",
    "qid_url_rating_hostid = pd.merge(qid_url_rating, hostid_url, on=\"url\")"
   ]
  },
  {
   "cell_type": "markdown",
   "metadata": {},
   "source": [
    "## pFound c циклом от Yandex Cup"
   ]
  },
  {
   "cell_type": "code",
   "execution_count": 4,
   "metadata": {},
   "outputs": [],
   "source": [
    "def plook(ind, rels):\n",
    "  if ind == 0:\n",
    "    return 1\n",
    "\n",
    "  return plook(ind-1, rels)*(1-rels[ind-1])*(1-0.15)"
   ]
  },
  {
   "cell_type": "code",
   "execution_count": 5,
   "metadata": {},
   "outputs": [],
   "source": [
    "def pfound(group):\n",
    "    \n",
    "  max_by_host = group.groupby(\"hostid\")[\"rating\"].max() # максимальный рейтинг хоста\n",
    "\n",
    "  top10 = max_by_host.sort_values(ascending=False)[:10] # берем топ10 урлов с наивысшим рейтингом\n",
    "  \n",
    "  pfound = 0\n",
    "  for ind, val in enumerate(top10):\n",
    "    pfound += val*plook(ind, top10.values)\n",
    "   \n",
    "  return pfound"
   ]
  },
  {
   "cell_type": "code",
   "execution_count": 6,
   "metadata": {},
   "outputs": [
    {
     "name": "stdout",
     "output_type": "stream",
     "text": [
      "Time:  0.0940392017364502\n",
      "Mean pFound:  0.4603173929969001\n"
     ]
    }
   ],
   "source": [
    "start_time = time.time()\n",
    "\n",
    "qid_pfound = qid_url_rating_hostid.groupby('qid').apply(pfound) # группируем по qid и вычисляем pfound\n",
    "qid_max = qid_pfound.idxmax() # берем qid с максимальным pfound\n",
    "\n",
    "print(\"Time: \", time.time() - start_time)\n",
    "\n",
    "print(\"Mean pFound: \", qid_pfound.mean()) "
   ]
  },
  {
   "cell_type": "markdown",
   "metadata": {},
   "source": [
    "## pFound с pandas"
   ]
  },
  {
   "cell_type": "code",
   "execution_count": 7,
   "metadata": {},
   "outputs": [],
   "source": [
    "def pFound_pandas(df, k, pBreak):\n",
    "    # df - DataFrame(qid, url, rating, hostid), k - количество документов, pBreak - вероятность остановки просмотра\n",
    "    \n",
    "    # максимальный рейтинг host для каждого qid\n",
    "    df_max_raiting = df.groupby(['qid', 'hostid'])[\"rating\"].max().reset_index() \n",
    "    \n",
    "    # берет топ k элментов по максимальному rating\n",
    "    df_top_k = df_max_raiting.sort_values(['qid', 'rating'], ascending=False).groupby('qid').head(k)\n",
    "\n",
    "    # нумерация hostid для каждого qid\n",
    "    df_top_k['index'] = df_top_k.groupby('qid').cumcount() + 1\n",
    "    \n",
    "    # рассчитываем (1 - pRel[i - 1])*(1 - pBreak) \n",
    "    df_top_k['mult'] = ((1 - df_top_k['rating']).shift(periods=1)) * (1 - pBreak)\n",
    "    \n",
    "    # для каждого hostid с индексом 1 произведение равно 1\n",
    "    df_top_k.loc[df_top_k['index'] == 1, 'mult'] = 1\n",
    "    \n",
    "    # рассчитываем pLook\n",
    "    df_top_k['pLook'] = df_top_k.groupby('qid')['mult'].cumprod()\n",
    "    \n",
    "    # рассчитываем pFound\n",
    "    df_top_k['pFound'] = df_top_k['pLook'] * df_top_k['rating']\n",
    "\n",
    "    #возвращаем pFound mean\n",
    "    return df_top_k.groupby('qid')['pFound'].sum().mean()\n"
   ]
  },
  {
   "cell_type": "code",
   "execution_count": 8,
   "metadata": {},
   "outputs": [
    {
     "name": "stdout",
     "output_type": "stream",
     "text": [
      "Time:  0.05469512939453125\n",
      "Mean pFound:  0.4603173929969002\n"
     ]
    }
   ],
   "source": [
    "start_time = time.time()\n",
    "mean = pFound_pandas(qid_url_rating_hostid, 10, 0.15)\n",
    "print(\"Time: \", time.time() - start_time)\n",
    "\n",
    "print(\"Mean pFound: \", mean) "
   ]
  },
  {
   "cell_type": "code",
   "execution_count": null,
   "metadata": {},
   "outputs": [],
   "source": []
  }
 ],
 "metadata": {
  "kernelspec": {
   "display_name": "Python 3",
   "language": "python",
   "name": "python3"
  },
  "language_info": {
   "codemirror_mode": {
    "name": "ipython",
    "version": 3
   },
   "file_extension": ".py",
   "mimetype": "text/x-python",
   "name": "python",
   "nbconvert_exporter": "python",
   "pygments_lexer": "ipython3",
   "version": "3.7.6"
  }
 },
 "nbformat": 4,
 "nbformat_minor": 4
}
