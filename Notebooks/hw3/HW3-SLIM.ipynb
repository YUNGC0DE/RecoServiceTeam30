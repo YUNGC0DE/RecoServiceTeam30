{
 "cells": [
  {
   "cell_type": "code",
   "execution_count": 2,
   "id": "becbe918-cb47-414d-b46f-e512d9134af8",
   "metadata": {},
   "outputs": [],
   "source": [
    "from SLIM import SLIM, SLIMatrix"
   ]
  },
  {
   "cell_type": "code",
   "execution_count": 3,
   "id": "0949483a-594e-4a2b-a02d-10d464163e17",
   "metadata": {},
   "outputs": [],
   "source": [
    "import pandas as pd\n",
    "import numpy as np"
   ]
  },
  {
   "cell_type": "code",
   "execution_count": 4,
   "id": "2fdea9c8-bcdf-44ae-a166-ef3484e3db0b",
   "metadata": {},
   "outputs": [],
   "source": [
    "import scipy as sp\n",
    "import joblib\n",
    "import requests\n",
    "from tqdm.auto import tqdm\n",
    "\n",
    "from rectools import Columns\n",
    "from rectools.models.popular import PopularModel\n",
    "from rectools.dataset import Interactions, Dataset\n",
    "from rectools.model_selection import TimeRangeSplitter\n",
    "from rectools.metrics import Precision, Recall, MeanInvUserFreq, Serendipity, calc_metrics, MAP\n",
    "from implicit.nearest_neighbours import CosineRecommender, TFIDFRecommender, BM25Recommender, ItemItemRecommender\n",
    "\n",
    "from typing import Dict\n",
    "from collections import Counter\n",
    "\n",
    "from sklearn.preprocessing import MinMaxScaler"
   ]
  },
  {
   "cell_type": "code",
   "execution_count": 5,
   "id": "8aeee2f1-e4e6-4874-b70f-df8513614e50",
   "metadata": {},
   "outputs": [],
   "source": [
    "import requests\n",
    "from copy import deepcopy\n",
    "import pandas as pd\n",
    "from pandas.api.types import CategoricalDtype\n",
    "import numpy as np\n",
    "from tqdm.auto import tqdm\n",
    "\n",
    "from rectools import Columns\n",
    "from rectools.dataset import Dataset, Interactions\n",
    "from rectools.models.popular import PopularModel, Popularity\n",
    "from rectools.models.popular_in_category import PopularInCategoryModel, RatioStrategy, MixingStrategy\n",
    "from rectools.model_selection import TimeRangeSplitter\n",
    "from rectools.metrics import MAP, Recall, calc_metrics\n",
    "\n",
    "from scipy.stats import mode\n",
    "import scipy.sparse as sps\n",
    "from scipy.sparse import csr_matrix\n",
    "\n",
    "from sklearn.linear_model import ElasticNet\n",
    "\n",
    "from itertools import product"
   ]
  },
  {
   "cell_type": "code",
   "execution_count": 6,
   "id": "20b479a5-1d20-4de0-bf8d-bb5842cf4075",
   "metadata": {},
   "outputs": [],
   "source": [
    "import helpers"
   ]
  },
  {
   "cell_type": "code",
   "execution_count": 7,
   "id": "f64e69d0-1a46-4521-bccb-3daeb2356706",
   "metadata": {},
   "outputs": [],
   "source": [
    "datasets = helpers.load_datasets('kion_train')"
   ]
  },
  {
   "cell_type": "code",
   "execution_count": 8,
   "id": "0663a2ab-e116-4068-96dd-ec7f4d7008a9",
   "metadata": {},
   "outputs": [],
   "source": [
    "users, items, interactions = datasets.users, datasets.items, datasets.interactions\n",
    "users = users[:50000].reset_index(drop=True)\n",
    "interactions = interactions[interactions['user_id'].isin(users['user_id'])].reset_index(drop=True)\n",
    "items = items[items['item_id'].isin(interactions['item_id'])].reset_index(drop=True)"
   ]
  },
  {
   "cell_type": "code",
   "execution_count": 9,
   "id": "84fd1faf-d002-4150-8eb9-49d59d5f5ce8",
   "metadata": {},
   "outputs": [],
   "source": [
    "def create_interaction_matrix(df, user_column='user_id', item_column='item_id'):\n",
    "    users = CategoricalDtype(sorted(df[user_column].unique()), ordered=True)\n",
    "    items = CategoricalDtype(sorted(df[item_column].unique()), ordered=True)\n",
    "    df['score'] = 5\n",
    "    row = df[user_column].astype(users).cat.codes\n",
    "    col = df[item_column].astype(items).cat.codes\n",
    "    sparse_matrix = csr_matrix((df['score'], (row, col)), \\\n",
    "                               shape=(users.categories.size, items.categories.size))\n",
    "    return sparse_matrix"
   ]
  },
  {
   "cell_type": "code",
   "execution_count": 10,
   "id": "196606bb-cde3-460b-be17-1601279d8fef",
   "metadata": {},
   "outputs": [],
   "source": [
    "metrics = {\n",
    "    \"map@10\": MAP(k=10),\n",
    "    \"prec@10\": Precision(k=10),\n",
    "    \"recall@10\": Recall(k=10),\n",
    "    \"novelty\": MeanInvUserFreq(k=10),\n",
    "    \"serendipity\": Serendipity(k=10),\n",
    "}"
   ]
  },
  {
   "cell_type": "code",
   "execution_count": 11,
   "id": "1cf71e9a-ee6b-4fa7-99d4-74257a27deef",
   "metadata": {},
   "outputs": [],
   "source": [
    "n_folds = 4\n",
    "unit = \"W\"\n",
    "n_units = 1\n",
    "\n",
    "last_date = interactions['datetime'].max().normalize()\n",
    "start_date = last_date - pd.Timedelta(n_folds * n_units + 1, unit=unit)\n",
    "periods = n_folds + 1\n",
    "freq = f\"{n_units}{unit}\"\n",
    "\n",
    "date_range = pd.date_range(start=start_date, periods=periods, freq=freq, tz=last_date.tz)"
   ]
  },
  {
   "cell_type": "code",
   "execution_count": 12,
   "id": "39420149-4068-4b1e-8783-ede37d102e59",
   "metadata": {},
   "outputs": [],
   "source": [
    "cv = TimeRangeSplitter(\n",
    "    date_range=date_range,\n",
    "    filter_already_seen=True,\n",
    "    filter_cold_items=True,\n",
    "    filter_cold_users=True,\n",
    ")"
   ]
  },
  {
   "cell_type": "markdown",
   "id": "988643eb-9aa3-48c7-a27d-ef767b1940f6",
   "metadata": {},
   "source": [
    "## А ЗДЕСЬ БЫЛА ПОПЫТКА ПОТЮНИТЬ SLIM, НО У МЕНЯ ПОСТОЯННО УМИРАЛО ЯДРО НОУТБУКОВ"
   ]
  },
  {
   "cell_type": "code",
   "execution_count": 13,
   "id": "7d25e747-7e21-448a-b76b-6cae6f73daed",
   "metadata": {},
   "outputs": [],
   "source": [
    "from tqdm.auto import tqdm\n",
    "\n",
    "\n",
    "interactions_df = Interactions(interactions)\n",
    "\n",
    "def objective(trial):\n",
    "    fold_iterator = cv.split(interactions_df, collect_fold_stats=True)\n",
    "    \n",
    "    buff = []\n",
    "    \n",
    "    for i_fold, (train_indices, test_indices, fold_info) in enumerate(fold_iterator):\n",
    "        \n",
    "        print(f\"\\n==================== Fold {i_fold}\")\n",
    "        print(fold_info)\n",
    "        \n",
    "        df_train = interactions_df.df.iloc[train_indices].copy()\n",
    "        df_test = interactions_df.df.iloc[test_indices].copy()\n",
    "        \n",
    "        catalog = df_train['item_id'].unique()\n",
    "        \n",
    "        nnbrs = trial.suggest_int('nnbrs', 0, 60)\n",
    "        simtype = trial.suggest_categorical('simtype', ['cos', 'jac', 'dotp'])\n",
    "        algo = trial.suggest_categorical('algo', ['admm', 'cd'])\n",
    "        niters = trial.suggest_int('niters', 50, 70)\n",
    "        l1r = trial.suggest_float('l1r', 0.1, 1)\n",
    "        l2r = trial.suggest_float('l2r', 0.1, 1)\n",
    "        \n",
    "        params = {\n",
    "            'algo': algo,\n",
    "            'simtype': simtype,\n",
    "            'niters': niters,\n",
    "            'nthreads': 2,\n",
    "            'l1r': round(l1r, 3),\n",
    "            'l2r': round(l2r, 3),\n",
    "        }\n",
    "        \n",
    "        print(params)\n",
    "        \n",
    "        interaction_matrix_train = create_interaction_matrix(df_train)\n",
    "        trainmat = SLIMatrix(interaction_matrix_train)\n",
    "        \n",
    "        model = SLIM()\n",
    "        model.train(params, trainmat)\n",
    "        \n",
    "        test = df_test[['user_id', 'item_id']]\n",
    "        test['score'] = 5\n",
    "        \n",
    "        nrcmds = trial.suggest_int('nrcmds', 10, 50)\n",
    "        \n",
    "        testmat = SLIMatrix(test, oldmat=model)\n",
    "        pred = model.predict(testmat, nrcmds=nrcmds)\n",
    "        \n",
    "        dataset = Dataset.construct(\n",
    "            interactions_df=df_train,\n",
    "            user_features_df=None,\n",
    "            item_features_df=None\n",
    "        )\n",
    "        popular = PopularModel()\n",
    "        popular.fit(dataset)\n",
    "        \n",
    "        recos_popular = popular.recommend(\n",
    "            users=df_train[Columns.User].unique(),\n",
    "            dataset=dataset,\n",
    "            k=10,\n",
    "            filter_viewed=True,\n",
    "        )\n",
    "        recos_popular = recos_popular[recos_popular['rank'] <= 10]\n",
    "\n",
    "        user_ids = list(pred.keys())\n",
    "        item_ids = list(v.tolist() for v in pred.values())\n",
    "        pred_df = pd.DataFrame({'user_id': user_ids, 'item_id': item_ids})\n",
    "        pred_df = pred_df.explode('item_id')\n",
    "        pred_df.drop_duplicates(inplace=True)\n",
    "\n",
    "        count_recs_by_users = pred_df.user_id.value_counts()\n",
    "        users_without_recos = list(count_recs_by_users[count_recs_by_users < 10].index)\n",
    "\n",
    "        completion = recos_popular[recos_popular['user_id'].isin(users_without_recos)]\n",
    "        pred_df = pd.concat([pred_df, completion[['user_id', 'item_id']]], ignore_index=True)\n",
    "\n",
    "        failed_ids = set(recos_popular['user_id']) - set(pred_df['user_id'])\n",
    "        pred_df = pd.concat(\n",
    "            [\n",
    "                pred_df,\n",
    "                recos_popular[recos_popular['user_id'].isin(failed_ids)][['user_id', 'item_id']]\n",
    "            ]\n",
    "        )\n",
    "\n",
    "        pred_df['rank'] = pred_df.groupby('user_id').cumcount() + 1\n",
    "        pred_df = pred_df[pred_df['rank'] <= 10]\n",
    "\n",
    "        f_metrics = calc_metrics(\n",
    "            metrics,\n",
    "            reco=pred_df,\n",
    "            interactions=df_test,\n",
    "            prev_interactions=df_train,\n",
    "            catalog=catalog\n",
    "        )\n",
    "        \n",
    "        print(f_metrics)\n",
    "\n",
    "        buff.append(f_metrics['map@10'])\n",
    "        \n",
    "    return np.array(buff).mean()"
   ]
  },
  {
   "cell_type": "code",
   "execution_count": 14,
   "id": "1124d627-096d-4fa9-89df-a41d918d7313",
   "metadata": {},
   "outputs": [],
   "source": [
    "import optuna"
   ]
  },
  {
   "cell_type": "code",
   "execution_count": 15,
   "id": "adc7ff88-56f4-48f3-9b99-f96df445fc0a",
   "metadata": {},
   "outputs": [
    {
     "name": "stderr",
     "output_type": "stream",
     "text": [
      "\u001b[32m[I 2022-12-09 15:18:40,546]\u001b[0m A new study created in RDB with name: no-name-9896dece-d963-4ace-a906-674bf82f038e\u001b[0m\n"
     ]
    }
   ],
   "source": [
    "study = optuna.create_study(direction=\"maximize\", storage='sqlite:///slim.db')"
   ]
  },
  {
   "cell_type": "code",
   "execution_count": null,
   "id": "8a632596-0872-43e4-a6e1-d8f7a6d850cb",
   "metadata": {},
   "outputs": [
    {
     "name": "stdout",
     "output_type": "stream",
     "text": [
      "\n",
      "==================== Fold 0\n",
      "{'Start date': Timestamp('2021-07-18 00:00:00', freq='W-SUN'), 'End date': Timestamp('2021-07-25 00:00:00', freq='W-SUN'), 'Train': 169161, 'Train users': 31982, 'Train items': 6968, 'Test': 11257, 'Test users': 4190, 'Test items': 2342}\n",
      "{'algo': 'cd', 'simtype': 'dotp', 'niters': 67, 'nthreads': 2, 'l1r': 0.249, 'l2r': 0.919}\n",
      "Learning takes 10.616 secs.\n",
      "6642 of the events fall out of the range of oldmat. Partial entries collected.\n"
     ]
    },
    {
     "name": "stderr",
     "output_type": "stream",
     "text": [
      "/tmp/ipykernel_26296/3178821140.py:46: SettingWithCopyWarning: \n",
      "A value is trying to be set on a copy of a slice from a DataFrame.\n",
      "Try using .loc[row_indexer,col_indexer] = value instead\n",
      "\n",
      "See the caveats in the documentation: https://pandas.pydata.org/pandas-docs/stable/user_guide/indexing.html#returning-a-view-versus-a-copy\n",
      "  test['score'] = 5\n"
     ]
    },
    {
     "name": "stdout",
     "output_type": "stream",
     "text": [
      "{'prec@10': 0.012792362768496419, 'recall@10': 0.09994658483918627, 'map@10': 0.034867743809271254, 'novelty': 4.539872203707487, 'serendipity': 2.3334020909151255e-08}\n",
      "\n",
      "==================== Fold 1\n",
      "{'Start date': Timestamp('2021-07-25 00:00:00', freq='W-SUN'), 'End date': Timestamp('2021-08-01 00:00:00', freq='W-SUN'), 'Train': 185626, 'Train users': 34257, 'Train items': 7124, 'Test': 12258, 'Test users': 4592, 'Test items': 2368}\n",
      "{'algo': 'cd', 'simtype': 'dotp', 'niters': 67, 'nthreads': 2, 'l1r': 0.249, 'l2r': 0.919}\n",
      "Learning takes 12.728 secs.\n",
      "7277 of the events fall out of the range of oldmat. Partial entries collected.\n"
     ]
    },
    {
     "name": "stderr",
     "output_type": "stream",
     "text": [
      "/tmp/ipykernel_26296/3178821140.py:46: SettingWithCopyWarning: \n",
      "A value is trying to be set on a copy of a slice from a DataFrame.\n",
      "Try using .loc[row_indexer,col_indexer] = value instead\n",
      "\n",
      "See the caveats in the documentation: https://pandas.pydata.org/pandas-docs/stable/user_guide/indexing.html#returning-a-view-versus-a-copy\n",
      "  test['score'] = 5\n"
     ]
    },
    {
     "name": "stdout",
     "output_type": "stream",
     "text": [
      "{'prec@10': 0.01367595818815331, 'recall@10': 0.10624818524970964, 'map@10': 0.03593756481251037, 'novelty': 4.553769038509297, 'serendipity': 4.466355208459775e-08}\n",
      "\n",
      "==================== Fold 2\n",
      "{'Start date': Timestamp('2021-08-01 00:00:00', freq='W-SUN'), 'End date': Timestamp('2021-08-08 00:00:00', freq='W-SUN'), 'Train': 203620, 'Train users': 36692, 'Train items': 7248, 'Test': 12410, 'Test users': 4719, 'Test items': 2308}\n",
      "{'algo': 'cd', 'simtype': 'dotp', 'niters': 67, 'nthreads': 2, 'l1r': 0.249, 'l2r': 0.919}\n",
      "Learning takes 13.977 secs.\n",
      "7293 of the events fall out of the range of oldmat. Partial entries collected.\n"
     ]
    },
    {
     "name": "stderr",
     "output_type": "stream",
     "text": [
      "/tmp/ipykernel_26296/3178821140.py:46: SettingWithCopyWarning: \n",
      "A value is trying to be set on a copy of a slice from a DataFrame.\n",
      "Try using .loc[row_indexer,col_indexer] = value instead\n",
      "\n",
      "See the caveats in the documentation: https://pandas.pydata.org/pandas-docs/stable/user_guide/indexing.html#returning-a-view-versus-a-copy\n",
      "  test['score'] = 5\n"
     ]
    },
    {
     "name": "stdout",
     "output_type": "stream",
     "text": [
      "{'prec@10': 0.01184573002754821, 'recall@10': 0.08940201212928486, 'map@10': 0.031219723037904854, 'novelty': 4.514619238980268, 'serendipity': 3.534583811930851e-08}\n",
      "\n",
      "==================== Fold 3\n",
      "{'Start date': Timestamp('2021-08-08 00:00:00', freq='W-SUN'), 'End date': Timestamp('2021-08-15 00:00:00', freq='W-SUN'), 'Train': 221881, 'Train users': 39079, 'Train items': 7469, 'Test': 13046, 'Test users': 4855, 'Test items': 2431}\n",
      "{'algo': 'cd', 'simtype': 'dotp', 'niters': 67, 'nthreads': 2, 'l1r': 0.249, 'l2r': 0.919}\n",
      "Learning takes 15.754 secs.\n",
      "7225 of the events fall out of the range of oldmat. Partial entries collected.\n"
     ]
    },
    {
     "name": "stderr",
     "output_type": "stream",
     "text": [
      "/tmp/ipykernel_26296/3178821140.py:46: SettingWithCopyWarning: \n",
      "A value is trying to be set on a copy of a slice from a DataFrame.\n",
      "Try using .loc[row_indexer,col_indexer] = value instead\n",
      "\n",
      "See the caveats in the documentation: https://pandas.pydata.org/pandas-docs/stable/user_guide/indexing.html#returning-a-view-versus-a-copy\n",
      "  test['score'] = 5\n",
      "\u001b[32m[I 2022-12-09 15:19:43,397]\u001b[0m Trial 0 finished with value: 0.033751660979454444 and parameters: {'nnbrs': 58, 'simtype': 'dotp', 'algo': 'cd', 'niters': 67, 'l1r': 0.24898769321789194, 'l2r': 0.9193556382555251, 'nrcmds': 41}. Best is trial 0 with value: 0.033751660979454444.\u001b[0m\n"
     ]
    }
   ],
   "source": [
    "study.optimize(objective, n_trials=50, timeout=1000)"
   ]
  },
  {
   "cell_type": "code",
   "execution_count": null,
   "id": "be7c7336-94bc-4548-8a1b-f11744f57eab",
   "metadata": {},
   "outputs": [],
   "source": []
  },
  {
   "cell_type": "code",
   "execution_count": null,
   "id": "a70c7180-21ee-433c-a0a5-c6841c5c3704",
   "metadata": {},
   "outputs": [],
   "source": []
  }
 ],
 "metadata": {
  "kernelspec": {
   "display_name": "Python 3 (ipykernel)",
   "language": "python",
   "name": "python3"
  },
  "language_info": {
   "codemirror_mode": {
    "name": "ipython",
    "version": 3
   },
   "file_extension": ".py",
   "mimetype": "text/x-python",
   "name": "python",
   "nbconvert_exporter": "python",
   "pygments_lexer": "ipython3",
   "version": "3.9.15"
  }
 },
 "nbformat": 4,
 "nbformat_minor": 5
}
