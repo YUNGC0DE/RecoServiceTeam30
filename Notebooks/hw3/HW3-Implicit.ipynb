{
 "cells": [
  {
   "cell_type": "code",
   "execution_count": 1,
   "id": "760e455c-ac9e-4cba-832f-caa25e80a9f7",
   "metadata": {},
   "outputs": [],
   "source": [
    "import helpers"
   ]
  },
  {
   "cell_type": "code",
   "execution_count": 2,
   "id": "039ddd02-a699-4387-8e87-7e36129b706f",
   "metadata": {},
   "outputs": [],
   "source": [
    "import pandas as pd\n",
    "import numpy as np\n",
    "import scipy as sp\n",
    "import joblib\n",
    "import requests\n",
    "from tqdm.auto import tqdm\n",
    "\n",
    "from rectools import Columns\n",
    "from rectools.models.popular import PopularModel\n",
    "from rectools.dataset import Interactions, Dataset\n",
    "from rectools.model_selection import TimeRangeSplitter\n",
    "from rectools.metrics import Precision, Recall, MeanInvUserFreq, Serendipity, calc_metrics, MAP\n",
    "from implicit.nearest_neighbours import CosineRecommender, TFIDFRecommender, BM25Recommender, ItemItemRecommender\n",
    "\n",
    "from typing import Dict\n",
    "from collections import Counter\n",
    "\n",
    "from sklearn.preprocessing import MinMaxScaler"
   ]
  },
  {
   "cell_type": "code",
   "execution_count": 3,
   "id": "a9475fb0-aa26-428a-8297-c97e1470f4bd",
   "metadata": {},
   "outputs": [],
   "source": [
    "datasets = helpers.load_datasets('kion_train')"
   ]
  },
  {
   "cell_type": "code",
   "execution_count": 4,
   "id": "83038640-0cfb-4803-b05a-6cc3e1a43e58",
   "metadata": {},
   "outputs": [],
   "source": [
    "users, items, interactions = datasets.users, datasets.items, datasets.interactions\n",
    "users = users[:150000].reset_index(drop=True)\n",
    "users = users.reset_index(drop=True)\n",
    "interactions = interactions[interactions['user_id'].isin(users['user_id'])].reset_index(drop=True)\n",
    "items = items[items['item_id'].isin(interactions['item_id'])].reset_index(drop=True)"
   ]
  },
  {
   "cell_type": "code",
   "execution_count": 30,
   "id": "e7bb9379-8af9-4b77-a425-56bb52d44290",
   "metadata": {},
   "outputs": [],
   "source": [
    "n_folds = 1\n",
    "n_units = 1\n",
    "unit = 'W'"
   ]
  },
  {
   "cell_type": "code",
   "execution_count": 31,
   "id": "4f082bf2-cc1e-40b3-979d-1081247c3c66",
   "metadata": {},
   "outputs": [],
   "source": [
    "last_date = datasets.interactions['datetime'].max().normalize()\n",
    "cv = helpers.get_crossval_splitter(last_date, n_folds, n_units, unit)"
   ]
  },
  {
   "cell_type": "code",
   "execution_count": 18,
   "id": "6d04158d-d4cb-4caa-8358-2b4f34422b24",
   "metadata": {},
   "outputs": [],
   "source": [
    "(\n",
    "    train_ids,\n",
    "    test_ids,\n",
    "    fold_info\n",
    ") = cv.split(Interactions(df=interactions), collect_fold_stats=True).__next__()"
   ]
  },
  {
   "cell_type": "code",
   "execution_count": 5,
   "id": "00f3efce-1175-4bf8-84cf-9692f5595b26",
   "metadata": {},
   "outputs": [],
   "source": [
    "train = interactions\n",
    "test = interactions.loc[test_ids]\n",
    "\n",
    "u_mappings = helpers.get_mappings(train, 'user_id')\n",
    "i_mappings = helpers.get_mappings(train, 'item_id')\n",
    "\n",
    "users_mapping, users_inv_mapping = u_mappings.direct, u_mappings.reverse\n",
    "items_mapping, items_inv_mapping = i_mappings.direct, i_mappings.reverse\n",
    "\n",
    "interaction_matrix = helpers.get_coo_mat(\n",
    "    train,\n",
    "    weights_column='weight',\n",
    "    users_mapping=u_mappings,\n",
    "    items_mapping=i_mappings,\n",
    ")"
   ]
  },
  {
   "cell_type": "code",
   "execution_count": 6,
   "id": "76d1f1b0-5071-4368-b242-787acbff99bf",
   "metadata": {},
   "outputs": [
    {
     "data": {
      "text/plain": [
       "<962179x15706 sparse matrix of type '<class 'numpy.int64'>'\n",
       "\twith 5476251 stored elements in COOrdinate format>"
      ]
     },
     "execution_count": 6,
     "metadata": {},
     "output_type": "execute_result"
    }
   ],
   "source": [
    "interaction_matrix"
   ]
  },
  {
   "cell_type": "code",
   "execution_count": 9,
   "id": "c6084f9c-366b-4146-829f-4242b47df47e",
   "metadata": {},
   "outputs": [],
   "source": [
    "catalog = train['item_id'].unique()\n",
    "metrics = {\n",
    "    \"map@10\": MAP(k=10),\n",
    "    \"prec@10\": Precision(k=10),\n",
    "    \"recall@10\": Recall(k=10),\n",
    "    \"novelty\": MeanInvUserFreq(k=10),\n",
    "    \"serendipity\": Serendipity(k=10),\n",
    "}"
   ]
  },
  {
   "cell_type": "markdown",
   "id": "cc96db12-0f6f-4a4f-a4ca-239ab66d4c46",
   "metadata": {},
   "source": [
    "## Cosine Recommender"
   ]
  },
  {
   "cell_type": "code",
   "execution_count": 7,
   "id": "0b2974b4-5a78-4fe3-85e1-ca80338cb157",
   "metadata": {},
   "outputs": [
    {
     "data": {
      "application/vnd.jupyter.widget-view+json": {
       "model_id": "30b8f47e54314b0bb06551e1364d693d",
       "version_major": 2,
       "version_minor": 0
      },
      "text/plain": [
       "  0%|          | 0/962179 [00:00<?, ?it/s]"
      ]
     },
     "metadata": {},
     "output_type": "display_data"
    }
   ],
   "source": [
    "userknn = CosineRecommender(K=60)\n",
    "userknn.fit(interaction_matrix)"
   ]
  },
  {
   "cell_type": "code",
   "execution_count": 10,
   "id": "f0424c44-989d-45ac-a808-19266d90ac91",
   "metadata": {},
   "outputs": [],
   "source": [
    "import joblib\n",
    "\n",
    "with open('cosine-k60.joblib', 'wb') as f:\n",
    "    joblib.dump(userknn, f)"
   ]
  },
  {
   "cell_type": "code",
   "execution_count": 11,
   "id": "fb03e3d7-357d-48b9-aa58-98bf74ec0c9b",
   "metadata": {},
   "outputs": [],
   "source": [
    "with open('users-mappings.joblib', 'wb') as f:\n",
    "    joblib.dump(users_mapping, f)\n",
    "    \n",
    "with open('items-mappings.joblib', 'wb') as f:\n",
    "    joblib.dump(items_mapping, f)"
   ]
  },
  {
   "cell_type": "code",
   "execution_count": 10,
   "id": "12b89c06-9b76-4649-ad93-e0729c052d8e",
   "metadata": {},
   "outputs": [
    {
     "data": {
      "application/vnd.jupyter.widget-view+json": {
       "model_id": "3dfef46caead41ec90cc044c0533f3fc",
       "version_major": 2,
       "version_minor": 0
      },
      "text/plain": [
       "  0%|          | 0/117161 [00:00<?, ?it/s]"
      ]
     },
     "metadata": {},
     "output_type": "display_data"
    }
   ],
   "source": [
    "userknn = CosineRecommender(K=10)\n",
    "userknn.fit(interaction_matrix)\n",
    "\n",
    "mapper = helpers.get_implicit_recommendations_mapper(\n",
    "    userknn,\n",
    "    N=10,\n",
    "    user_mapping=u_mappings,\n",
    ")\n",
    "\n",
    "\n",
    "recs = pd.DataFrame({\n",
    "    'user_id': test['user_id'].unique()\n",
    "})\n",
    "\n",
    "recs['similar_user_id'], recs['similarity'] = zip(*recs['user_id'].map(mapper))\n",
    "recs = recs.set_index('user_id').apply(pd.Series.explode).reset_index()\n",
    "recs = recs[~(recs['similarity'] >= 1)]\n",
    "\n",
    "recs = helpers.join_watched(recs, train, use_dask=False)\n",
    "recs = helpers.rank_from_sim(recs, train)\n",
    "\n",
    "recs = recs[recs['rank'] < 11]\n",
    "\n",
    "cosine_metrics = calc_metrics(\n",
    "    metrics,\n",
    "    reco=recs,\n",
    "    interactions=test,\n",
    "    prev_interactions=train,\n",
    "    catalog=catalog\n",
    ")"
   ]
  },
  {
   "cell_type": "code",
   "execution_count": 11,
   "id": "bef16185-afdf-457d-a8c3-c5ffc961ebaa",
   "metadata": {},
   "outputs": [
    {
     "data": {
      "text/html": [
       "<div>\n",
       "<style scoped>\n",
       "    .dataframe tbody tr th:only-of-type {\n",
       "        vertical-align: middle;\n",
       "    }\n",
       "\n",
       "    .dataframe tbody tr th {\n",
       "        vertical-align: top;\n",
       "    }\n",
       "\n",
       "    .dataframe thead th {\n",
       "        text-align: right;\n",
       "    }\n",
       "</style>\n",
       "<table border=\"1\" class=\"dataframe\">\n",
       "  <thead>\n",
       "    <tr style=\"text-align: right;\">\n",
       "      <th></th>\n",
       "      <th>user_id</th>\n",
       "      <th>similar_user_id</th>\n",
       "      <th>similarity</th>\n",
       "      <th>item_id</th>\n",
       "      <th>idf</th>\n",
       "      <th>rank_idf</th>\n",
       "      <th>rank</th>\n",
       "    </tr>\n",
       "  </thead>\n",
       "  <tbody>\n",
       "    <tr>\n",
       "      <th>0</th>\n",
       "      <td>1097337</td>\n",
       "      <td>769706</td>\n",
       "      <td>0.923201</td>\n",
       "      <td>7102</td>\n",
       "      <td>NaN</td>\n",
       "      <td>NaN</td>\n",
       "      <td>1</td>\n",
       "    </tr>\n",
       "    <tr>\n",
       "      <th>1</th>\n",
       "      <td>1097337</td>\n",
       "      <td>769706</td>\n",
       "      <td>0.923201</td>\n",
       "      <td>9728</td>\n",
       "      <td>NaN</td>\n",
       "      <td>NaN</td>\n",
       "      <td>2</td>\n",
       "    </tr>\n",
       "    <tr>\n",
       "      <th>2</th>\n",
       "      <td>1097337</td>\n",
       "      <td>769706</td>\n",
       "      <td>0.923201</td>\n",
       "      <td>15297</td>\n",
       "      <td>NaN</td>\n",
       "      <td>NaN</td>\n",
       "      <td>3</td>\n",
       "    </tr>\n",
       "    <tr>\n",
       "      <th>3</th>\n",
       "      <td>1097337</td>\n",
       "      <td>769706</td>\n",
       "      <td>0.923201</td>\n",
       "      <td>496</td>\n",
       "      <td>NaN</td>\n",
       "      <td>NaN</td>\n",
       "      <td>4</td>\n",
       "    </tr>\n",
       "    <tr>\n",
       "      <th>4</th>\n",
       "      <td>1097337</td>\n",
       "      <td>769706</td>\n",
       "      <td>0.923201</td>\n",
       "      <td>142</td>\n",
       "      <td>NaN</td>\n",
       "      <td>NaN</td>\n",
       "      <td>5</td>\n",
       "    </tr>\n",
       "    <tr>\n",
       "      <th>...</th>\n",
       "      <td>...</td>\n",
       "      <td>...</td>\n",
       "      <td>...</td>\n",
       "      <td>...</td>\n",
       "      <td>...</td>\n",
       "      <td>...</td>\n",
       "      <td>...</td>\n",
       "    </tr>\n",
       "    <tr>\n",
       "      <th>325660</th>\n",
       "      <td>53</td>\n",
       "      <td>762781</td>\n",
       "      <td>0.744246</td>\n",
       "      <td>1942</td>\n",
       "      <td>NaN</td>\n",
       "      <td>NaN</td>\n",
       "      <td>6</td>\n",
       "    </tr>\n",
       "    <tr>\n",
       "      <th>325661</th>\n",
       "      <td>53</td>\n",
       "      <td>762781</td>\n",
       "      <td>0.744246</td>\n",
       "      <td>1399</td>\n",
       "      <td>NaN</td>\n",
       "      <td>NaN</td>\n",
       "      <td>7</td>\n",
       "    </tr>\n",
       "    <tr>\n",
       "      <th>325662</th>\n",
       "      <td>53</td>\n",
       "      <td>762781</td>\n",
       "      <td>0.744246</td>\n",
       "      <td>12418</td>\n",
       "      <td>NaN</td>\n",
       "      <td>NaN</td>\n",
       "      <td>8</td>\n",
       "    </tr>\n",
       "    <tr>\n",
       "      <th>325663</th>\n",
       "      <td>53</td>\n",
       "      <td>762781</td>\n",
       "      <td>0.744246</td>\n",
       "      <td>14470</td>\n",
       "      <td>NaN</td>\n",
       "      <td>NaN</td>\n",
       "      <td>9</td>\n",
       "    </tr>\n",
       "    <tr>\n",
       "      <th>325664</th>\n",
       "      <td>53</td>\n",
       "      <td>762781</td>\n",
       "      <td>0.744246</td>\n",
       "      <td>15394</td>\n",
       "      <td>NaN</td>\n",
       "      <td>NaN</td>\n",
       "      <td>10</td>\n",
       "    </tr>\n",
       "  </tbody>\n",
       "</table>\n",
       "<p>101903 rows × 7 columns</p>\n",
       "</div>"
      ],
      "text/plain": [
       "        user_id  similar_user_id similarity item_id  idf rank_idf  rank\n",
       "0       1097337           769706   0.923201    7102  NaN      NaN     1\n",
       "1       1097337           769706   0.923201    9728  NaN      NaN     2\n",
       "2       1097337           769706   0.923201   15297  NaN      NaN     3\n",
       "3       1097337           769706   0.923201     496  NaN      NaN     4\n",
       "4       1097337           769706   0.923201     142  NaN      NaN     5\n",
       "...         ...              ...        ...     ...  ...      ...   ...\n",
       "325660       53           762781   0.744246    1942  NaN      NaN     6\n",
       "325661       53           762781   0.744246    1399  NaN      NaN     7\n",
       "325662       53           762781   0.744246   12418  NaN      NaN     8\n",
       "325663       53           762781   0.744246   14470  NaN      NaN     9\n",
       "325664       53           762781   0.744246   15394  NaN      NaN    10\n",
       "\n",
       "[101903 rows x 7 columns]"
      ]
     },
     "execution_count": 11,
     "metadata": {},
     "output_type": "execute_result"
    }
   ],
   "source": [
    "recs"
   ]
  },
  {
   "cell_type": "code",
   "execution_count": 15,
   "id": "a032bfa4-6864-48ab-ad20-4b114705b6d7",
   "metadata": {},
   "outputs": [
    {
     "data": {
      "text/plain": [
       "(3841, 7)"
      ]
     },
     "execution_count": 15,
     "metadata": {},
     "output_type": "execute_result"
    }
   ],
   "source": [
    "recs.shape"
   ]
  },
  {
   "cell_type": "markdown",
   "id": "c8271b13-ed67-4338-b80e-23a18bcd236f",
   "metadata": {},
   "source": [
    "## TFIDF"
   ]
  },
  {
   "cell_type": "code",
   "execution_count": 53,
   "id": "5a99e89f-cafd-475c-8641-74237a70057c",
   "metadata": {},
   "outputs": [
    {
     "data": {
      "application/vnd.jupyter.widget-view+json": {
       "model_id": "91452c5573d24850810512fa9c83ba7c",
       "version_major": 2,
       "version_minor": 0
      },
      "text/plain": [
       "  0%|          | 0/117161 [00:00<?, ?it/s]"
      ]
     },
     "metadata": {},
     "output_type": "display_data"
    }
   ],
   "source": [
    "userknn = TFIDFRecommender(K=10)\n",
    "userknn.fit(interaction_matrix)\n",
    "\n",
    "mapper = helpers.get_implicit_recommendations_mapper(\n",
    "    userknn,\n",
    "    N=10,\n",
    "    user_mapping=u_mappings,\n",
    ")\n",
    "\n",
    "\n",
    "recs = pd.DataFrame({\n",
    "    'user_id': test['user_id'].unique()\n",
    "})\n",
    "\n",
    "recs['similar_user_id'], recs['similarity'] = zip(*recs['user_id'].map(mapper))\n",
    "recs = recs.set_index('user_id').apply(pd.Series.explode).reset_index()\n",
    "recs = recs[~(recs['similarity'] >= 1)]\n",
    "\n",
    "recs = helpers.join_watched(recs, train, use_dask=False)\n",
    "recs = helpers.rank_from_sim(recs, train)\n",
    "\n",
    "recs = recs[recs['rank'] < 11]\n",
    "\n",
    "tfidf_metrics = calc_metrics(\n",
    "    metrics,\n",
    "    reco=recs,\n",
    "    interactions=test,\n",
    "    prev_interactions=train,\n",
    "    catalog=catalog\n",
    ")"
   ]
  },
  {
   "cell_type": "code",
   "execution_count": 54,
   "id": "f2b52291-5dfd-45a2-ae2b-f1e3d0bef2f7",
   "metadata": {},
   "outputs": [
    {
     "data": {
      "application/vnd.jupyter.widget-view+json": {
       "model_id": "3591115b0b244db38d1f2d22645254c8",
       "version_major": 2,
       "version_minor": 0
      },
      "text/plain": [
       "  0%|          | 0/117161 [00:00<?, ?it/s]"
      ]
     },
     "metadata": {},
     "output_type": "display_data"
    }
   ],
   "source": [
    "userknn = BM25Recommender(K=10)\n",
    "userknn.fit(interaction_matrix)\n",
    "\n",
    "mapper = helpers.get_implicit_recommendations_mapper(\n",
    "    userknn,\n",
    "    N=10,\n",
    "    user_mapping=u_mappings,\n",
    ")\n",
    "\n",
    "\n",
    "recs = pd.DataFrame({\n",
    "    'user_id': test['user_id'].unique()\n",
    "})\n",
    "\n",
    "recs['similar_user_id'], recs['similarity'] = zip(*recs['user_id'].map(mapper))\n",
    "recs = recs.set_index('user_id').apply(pd.Series.explode).reset_index()\n",
    "# recs = recs[~(recs['similarity'] >= 1)]\n",
    "recs = recs.drop_duplicates()\n",
    "recs = recs[recs['user_id'] != recs['similar_user_id']]\n",
    "recs['rank'] = recs.groupby('user_id').cumcount() + 1\n",
    "\n",
    "recs = helpers.join_watched(recs, train, use_dask=False)\n",
    "recs = helpers.rank_from_sim(recs, train)\n",
    "\n",
    "recs = recs[recs['rank'] < 11]\n",
    "\n",
    "bm25_metrics = calc_metrics(\n",
    "    metrics,\n",
    "    reco=recs,\n",
    "    interactions=test,\n",
    "    prev_interactions=train,\n",
    "    catalog=catalog\n",
    ")"
   ]
  },
  {
   "cell_type": "code",
   "execution_count": 55,
   "id": "02a6b877-0ad4-41bc-8626-f409182e2a47",
   "metadata": {},
   "outputs": [],
   "source": [
    "metrics_df = pd.DataFrame([cosine_metrics, tfidf_metrics, bm25_metrics], index=['cosine', 'tfidf', 'bm25'])"
   ]
  },
  {
   "cell_type": "code",
   "execution_count": 56,
   "id": "41314f21-3f31-4546-95c4-b2de93a3f4eb",
   "metadata": {},
   "outputs": [
    {
     "data": {
      "text/html": [
       "<div>\n",
       "<style scoped>\n",
       "    .dataframe tbody tr th:only-of-type {\n",
       "        vertical-align: middle;\n",
       "    }\n",
       "\n",
       "    .dataframe tbody tr th {\n",
       "        vertical-align: top;\n",
       "    }\n",
       "\n",
       "    .dataframe thead th {\n",
       "        text-align: right;\n",
       "    }\n",
       "</style>\n",
       "<table border=\"1\" class=\"dataframe\">\n",
       "  <thead>\n",
       "    <tr style=\"text-align: right;\">\n",
       "      <th></th>\n",
       "      <th>prec@10</th>\n",
       "      <th>recall@10</th>\n",
       "      <th>map@10</th>\n",
       "      <th>novelty</th>\n",
       "      <th>serendipity</th>\n",
       "    </tr>\n",
       "  </thead>\n",
       "  <tbody>\n",
       "    <tr>\n",
       "      <th>cosine</th>\n",
       "      <td>0.004874</td>\n",
       "      <td>0.023246</td>\n",
       "      <td>0.005322</td>\n",
       "      <td>7.140111</td>\n",
       "      <td>0.000053</td>\n",
       "    </tr>\n",
       "    <tr>\n",
       "      <th>tfidf</th>\n",
       "      <td>0.005845</td>\n",
       "      <td>0.028124</td>\n",
       "      <td>0.007006</td>\n",
       "      <td>7.033803</td>\n",
       "      <td>0.000051</td>\n",
       "    </tr>\n",
       "    <tr>\n",
       "      <th>bm25</th>\n",
       "      <td>0.008934</td>\n",
       "      <td>0.044729</td>\n",
       "      <td>0.012968</td>\n",
       "      <td>8.423886</td>\n",
       "      <td>0.000100</td>\n",
       "    </tr>\n",
       "  </tbody>\n",
       "</table>\n",
       "</div>"
      ],
      "text/plain": [
       "         prec@10  recall@10    map@10   novelty  serendipity\n",
       "cosine  0.004874   0.023246  0.005322  7.140111     0.000053\n",
       "tfidf   0.005845   0.028124  0.007006  7.033803     0.000051\n",
       "bm25    0.008934   0.044729  0.012968  8.423886     0.000100"
      ]
     },
     "execution_count": 56,
     "metadata": {},
     "output_type": "execute_result"
    }
   ],
   "source": [
    "metrics_df"
   ]
  },
  {
   "cell_type": "code",
   "execution_count": 40,
   "id": "14b19f0b-53e3-4574-ae16-bff18a6f6c1a",
   "metadata": {},
   "outputs": [
    {
     "data": {
      "text/html": [
       "<div>\n",
       "<style scoped>\n",
       "    .dataframe tbody tr th:only-of-type {\n",
       "        vertical-align: middle;\n",
       "    }\n",
       "\n",
       "    .dataframe tbody tr th {\n",
       "        vertical-align: top;\n",
       "    }\n",
       "\n",
       "    .dataframe thead th {\n",
       "        text-align: right;\n",
       "    }\n",
       "</style>\n",
       "<table border=\"1\" class=\"dataframe\">\n",
       "  <thead>\n",
       "    <tr style=\"text-align: right;\">\n",
       "      <th></th>\n",
       "      <th>prec@10</th>\n",
       "      <th>recall@10</th>\n",
       "      <th>map@10</th>\n",
       "      <th>novelty</th>\n",
       "      <th>serendipity</th>\n",
       "    </tr>\n",
       "  </thead>\n",
       "  <tbody>\n",
       "    <tr>\n",
       "      <th>cosine</th>\n",
       "      <td>0.005108</td>\n",
       "      <td>0.024167</td>\n",
       "      <td>0.005506</td>\n",
       "      <td>7.043247</td>\n",
       "      <td>0.000044</td>\n",
       "    </tr>\n",
       "    <tr>\n",
       "      <th>tfidf</th>\n",
       "      <td>0.006674</td>\n",
       "      <td>0.033422</td>\n",
       "      <td>0.007943</td>\n",
       "      <td>6.952556</td>\n",
       "      <td>0.000042</td>\n",
       "    </tr>\n",
       "    <tr>\n",
       "      <th>bm25</th>\n",
       "      <td>0.007745</td>\n",
       "      <td>0.038111</td>\n",
       "      <td>0.011041</td>\n",
       "      <td>8.412787</td>\n",
       "      <td>0.000057</td>\n",
       "    </tr>\n",
       "  </tbody>\n",
       "</table>\n",
       "</div>"
      ],
      "text/plain": [
       "         prec@10  recall@10    map@10   novelty  serendipity\n",
       "cosine  0.005108   0.024167  0.005506  7.043247     0.000044\n",
       "tfidf   0.006674   0.033422  0.007943  6.952556     0.000042\n",
       "bm25    0.007745   0.038111  0.011041  8.412787     0.000057"
      ]
     },
     "execution_count": 40,
     "metadata": {},
     "output_type": "execute_result"
    }
   ],
   "source": [
    "metrics_df"
   ]
  },
  {
   "attachments": {
    "1e638262-422b-4fbf-95e0-3dc2f311251b.png": {
     "image/png": "[encoded data removed]"
    }
   },
   "cell_type": "markdown",
   "id": "48645832-de06-4bf1-a965-77a45590d827",
   "metadata": {},
   "source": [
    "![image.png](attachment:1e638262-422b-4fbf-95e0-3dc2f311251b.png)"
   ]
  },
  {
   "cell_type": "markdown",
   "id": "9c017419-12aa-4f6f-8bd2-217058bc7655",
   "metadata": {},
   "source": [
    "prec@10\t| recall@10\tmap@10\tnovelty\tserendipity\n",
    "cosine\t0.005108\t0.024167\t0.005506\t7.043247\t0.000044\n",
    "tfidf\t0.006674\t0.033422\t0.007943\t6.952556\t0.000042\n",
    "bm25\t0.007745\t0.038111\t0.011041\t8.412787\t0.000057"
   ]
  },
  {
   "cell_type": "code",
   "execution_count": 30,
   "id": "9a8025b9-d4e8-471a-8bb3-c3fa4a354681",
   "metadata": {},
   "outputs": [],
   "source": [
    "class UserKnn():\n",
    "    \"\"\"Class for fit-perdict UserKNN model \n",
    "       based on ItemKNN model from implicit.nearest_neighbours\n",
    "    \"\"\"\n",
    "    \n",
    "    def __init__(self, model: ItemItemRecommender, N_users: int = 50):\n",
    "        self.N_users = N_users\n",
    "        self.model = model\n",
    "        self.is_fitted = False\n",
    "        \n",
    "    def get_mappings(self, train):\n",
    "        self.users_inv_mapping = dict(enumerate(train['user_id'].unique()))\n",
    "        self.users_mapping = {v: k for k, v in self.users_inv_mapping.items()}\n",
    "        \n",
    "        self.items_inv_mapping = dict(enumerate(train['item_id'].unique()))\n",
    "        self.items_mapping = {v: k for k, v in self.items_inv_mapping.items()}\n",
    "    \n",
    "    def get_matrix(self, df: pd.DataFrame, \n",
    "                   user_col: str = 'user_id', \n",
    "                   item_col: str = 'item_id', \n",
    "                   weight_col: str = None, \n",
    "                   users_mapping: Dict[int, int] = None, \n",
    "                   items_mapping: Dict[int, int] = None):\n",
    "    \n",
    "        if weight_col:\n",
    "            weights = df[weight_col].astype(np.float32)\n",
    "        else:\n",
    "            weights = np.ones(len(df), dtype=np.float32)\n",
    "\n",
    "        interaction_matrix = sp.sparse.coo_matrix((\n",
    "            weights, \n",
    "            (\n",
    "                df[user_col].map(self.users_mapping.get), \n",
    "                df[item_col].map(self.items_mapping.get)\n",
    "            )\n",
    "            ))\n",
    "        \n",
    "        self.watched = df.groupby(user_col).agg({item_col: list})\n",
    "        return interaction_matrix\n",
    "        \n",
    "    def idf(self, n: int, x: float):\n",
    "        return np.log((1 + n) / (1 + x) + 1)\n",
    "        \n",
    "    def _count_item_idf(self, df: pd.DataFrame):\n",
    "        item_cnt = Counter(df['item_id'].values)\n",
    "        item_idf = pd.DataFrame.from_dict(item_cnt, orient='index', columns=['doc_freq']).reset_index()\n",
    "        item_idf['idf'] = item_idf['doc_freq'].apply(lambda x: self.idf(self.n, x))\n",
    "        self.item_idf = item_idf \n",
    "    \n",
    "    def fit(self, train: pd.DataFrame):\n",
    "        self.user_knn = self.model\n",
    "        self.get_mappings(train)\n",
    "        self.weights_matrix = self.get_matrix(train, users_mapping=self.users_mapping, \n",
    "                                             items_mapping=self.items_mapping)\n",
    "        \n",
    "        self.n = train.shape[0]\n",
    "        self._count_item_idf(train)\n",
    "        \n",
    "        self.user_knn.fit(self.weights_matrix)\n",
    "        self.is_fitted = True\n",
    "\n",
    "    def _generate_recs_mapper(self, model: ItemItemRecommender, user_mapping: Dict[int, int], \n",
    "                              user_inv_mapping: Dict[int, int], N: int):\n",
    "        def _recs_mapper(user):\n",
    "            user_id = user_mapping[user]\n",
    "            recs = model.similar_items(user_id, N=N)\n",
    "            return [user_inv_mapping[user] for user, _ in recs], [sim for _, sim in recs]\n",
    "        return _recs_mapper\n",
    "    \n",
    "    def predict(self, test: pd.DataFrame, N_recs: int = 10):\n",
    "        \n",
    "        if not self.is_fitted:\n",
    "            raise ValueError(\"Please call fit before predict\")\n",
    "        \n",
    "        mapper = self._generate_recs_mapper(\n",
    "            model=self.user_knn, \n",
    "            user_mapping=self.users_mapping,\n",
    "            user_inv_mapping=self.users_inv_mapping,\n",
    "            N=self.N_users\n",
    "        )\n",
    "\n",
    "        recs = pd.DataFrame({'user_id': test['user_id'].unique()})\n",
    "        recs['sim_user_id'], recs['sim'] = zip(*recs['user_id'].map(mapper))\n",
    "        recs = recs.set_index('user_id').apply(pd.Series.explode).reset_index()\n",
    "        \n",
    "        recs = recs.merge(self.watched, left_on=['sim_user_id'], right_on=['user_id'], how='left')\\\n",
    "                    .explode('item_id')\\\n",
    "                    .sort_values(['user_id', 'sim'], ascending=False)\\\n",
    "                    .drop_duplicates(['user_id', 'item_id'], keep='first')\\\n",
    "                    .merge(self.item_idf, left_on='item_id', right_on='index', how='left')\n",
    "        \n",
    "        recs['score'] = recs['sim'] * recs['idf']\n",
    "        recs = recs.sort_values(['user_id', 'score'], ascending=False)\n",
    "        recs['rank'] = recs.groupby('user_id').cumcount() + 1 \n",
    "        return recs[recs['rank'] <= N_recs][['user_id', 'item_id', 'score', 'rank']]"
   ]
  },
  {
   "cell_type": "code",
   "execution_count": 58,
   "id": "687a9de0-8457-416b-a06b-ac921ef50614",
   "metadata": {},
   "outputs": [],
   "source": [
    "import optuna"
   ]
  },
  {
   "cell_type": "code",
   "execution_count": 59,
   "id": "d3689581-573c-4692-8345-1b3f490714b9",
   "metadata": {},
   "outputs": [],
   "source": [
    "interactions_df = Interactions(interactions)"
   ]
  },
  {
   "cell_type": "code",
   "execution_count": 60,
   "id": "34269d78-3d3f-4f37-85c9-070486f8d28c",
   "metadata": {},
   "outputs": [],
   "source": [
    "models_map = {\n",
    "    'cosine': CosineRecommender,\n",
    "    'bm25': BM25Recommender,\n",
    "    'tfidf': TFIDFRecommender,\n",
    "}"
   ]
  },
  {
   "cell_type": "code",
   "execution_count": 61,
   "id": "5f010389-e88c-4152-92b6-faf9e4818afd",
   "metadata": {},
   "outputs": [],
   "source": [
    "n_folds = 4\n",
    "unit = \"W\"\n",
    "n_units = 1\n",
    "\n",
    "last_date = interactions['datetime'].max().normalize()\n",
    "start_date = last_date - pd.Timedelta(n_folds * n_units + 1, unit=unit)\n",
    "periods = n_folds + 1\n",
    "freq = f\"{n_units}{unit}\"\n",
    "\n",
    "date_range = pd.date_range(start=start_date, periods=periods, freq=freq, tz=last_date.tz)\n",
    "\n",
    "cv = TimeRangeSplitter(\n",
    "    date_range=date_range,\n",
    "    filter_already_seen=True,\n",
    "    filter_cold_items=True,\n",
    "    filter_cold_users=True,\n",
    ")"
   ]
  },
  {
   "cell_type": "code",
   "execution_count": 62,
   "id": "a5926fe2-d122-4bf4-b7af-4309366b2e0b",
   "metadata": {},
   "outputs": [
    {
     "name": "stderr",
     "output_type": "stream",
     "text": [
      "\u001b[32m[I 2022-12-07 15:28:48,983]\u001b[0m A new study created in RDB with name: no-name-541219ca-9c4f-489c-bba0-49c2d2362221\u001b[0m\n"
     ]
    }
   ],
   "source": [
    "study = optuna.create_study(direction=\"maximize\", storage='sqlite:///userknn.db')\n",
    "## 50k: no-name-e25c6236-adab-4199-a484-a34dc4a85346\n",
    "## 150k: no-name-541219ca-9c4f-489c-bba0-49c2d2362221"
   ]
  },
  {
   "cell_type": "code",
   "execution_count": 21,
   "id": "595eafd1-e3e8-4917-ac5a-d1aad35001e9",
   "metadata": {},
   "outputs": [],
   "source": [
    "objective = helpers.get_objective_for_optuna(cv, interactions_df,\n",
    "                                             models_map, UserKnn, metrics)"
   ]
  },
  {
   "cell_type": "code",
   "execution_count": 63,
   "id": "7289560f-ef6e-4e9e-be63-7c7d3a4f011d",
   "metadata": {},
   "outputs": [
    {
     "name": "stdout",
     "output_type": "stream",
     "text": [
      "\n",
      "==================== Fold 0\n",
      "{'Start date': Timestamp('2021-07-18 00:00:00', freq='W-SUN'), 'End date': Timestamp('2021-07-25 00:00:00', freq='W-SUN'), 'Train': 507101, 'Train users': 96298, 'Train items': 9563, 'Test': 33870, 'Test users': 12727, 'Test items': 3629}\n"
     ]
    },
    {
     "data": {
      "application/vnd.jupyter.widget-view+json": {
       "model_id": "f98a0f949a454e6ba8c8ab9a60590069",
       "version_major": 2,
       "version_minor": 0
      },
      "text/plain": [
       "  0%|          | 0/96298 [00:00<?, ?it/s]"
      ]
     },
     "metadata": {},
     "output_type": "display_data"
    },
    {
     "name": "stdout",
     "output_type": "stream",
     "text": [
      "\n",
      "==================== Fold 1\n",
      "{'Start date': Timestamp('2021-07-25 00:00:00', freq='W-SUN'), 'End date': Timestamp('2021-08-01 00:00:00', freq='W-SUN'), 'Train': 555103, 'Train users': 102785, 'Train items': 9736, 'Test': 36409, 'Test users': 13695, 'Test items': 3632}\n"
     ]
    },
    {
     "data": {
      "application/vnd.jupyter.widget-view+json": {
       "model_id": "701ec0899bca4fda91316b86e20ae455",
       "version_major": 2,
       "version_minor": 0
      },
      "text/plain": [
       "  0%|          | 0/102785 [00:00<?, ?it/s]"
      ]
     },
     "metadata": {},
     "output_type": "display_data"
    },
    {
     "name": "stdout",
     "output_type": "stream",
     "text": [
      "\n",
      "==================== Fold 2\n",
      "{'Start date': Timestamp('2021-08-01 00:00:00', freq='W-SUN'), 'End date': Timestamp('2021-08-08 00:00:00', freq='W-SUN'), 'Train': 607865, 'Train users': 110035, 'Train items': 9909, 'Test': 37349, 'Test users': 14158, 'Test items': 3497}\n"
     ]
    },
    {
     "data": {
      "application/vnd.jupyter.widget-view+json": {
       "model_id": "75fac7f246d148269b01bad3a1d2ef87",
       "version_major": 2,
       "version_minor": 0
      },
      "text/plain": [
       "  0%|          | 0/110035 [00:00<?, ?it/s]"
      ]
     },
     "metadata": {},
     "output_type": "display_data"
    },
    {
     "name": "stdout",
     "output_type": "stream",
     "text": [
      "\n",
      "==================== Fold 3\n",
      "{'Start date': Timestamp('2021-08-08 00:00:00', freq='W-SUN'), 'End date': Timestamp('2021-08-15 00:00:00', freq='W-SUN'), 'Train': 662260, 'Train users': 117161, 'Train items': 10124, 'Test': 39661, 'Test users': 14731, 'Test items': 3642}\n"
     ]
    },
    {
     "data": {
      "application/vnd.jupyter.widget-view+json": {
       "model_id": "a4941c435fd64010bc168e1ec5003c31",
       "version_major": 2,
       "version_minor": 0
      },
      "text/plain": [
       "  0%|          | 0/117161 [00:00<?, ?it/s]"
      ]
     },
     "metadata": {},
     "output_type": "display_data"
    },
    {
     "name": "stderr",
     "output_type": "stream",
     "text": [
      "\u001b[32m[I 2022-12-07 15:30:38,658]\u001b[0m Trial 0 finished with value: 0.02124166531071164 and parameters: {'n_users': 36, 'model_name': 'cosine', 'all_days': False, 'days': 6}. Best is trial 0 with value: 0.02124166531071164.\u001b[0m\n"
     ]
    },
    {
     "name": "stdout",
     "output_type": "stream",
     "text": [
      "\n",
      "==================== Fold 0\n",
      "{'Start date': Timestamp('2021-07-18 00:00:00', freq='W-SUN'), 'End date': Timestamp('2021-07-25 00:00:00', freq='W-SUN'), 'Train': 507101, 'Train users': 96298, 'Train items': 9563, 'Test': 33870, 'Test users': 12727, 'Test items': 3629}\n"
     ]
    },
    {
     "data": {
      "application/vnd.jupyter.widget-view+json": {
       "model_id": "b596c2aaa8ce45478ac8f29d0b223e12",
       "version_major": 2,
       "version_minor": 0
      },
      "text/plain": [
       "  0%|          | 0/96298 [00:00<?, ?it/s]"
      ]
     },
     "metadata": {},
     "output_type": "display_data"
    },
    {
     "name": "stdout",
     "output_type": "stream",
     "text": [
      "\n",
      "==================== Fold 1\n",
      "{'Start date': Timestamp('2021-07-25 00:00:00', freq='W-SUN'), 'End date': Timestamp('2021-08-01 00:00:00', freq='W-SUN'), 'Train': 555103, 'Train users': 102785, 'Train items': 9736, 'Test': 36409, 'Test users': 13695, 'Test items': 3632}\n"
     ]
    },
    {
     "data": {
      "application/vnd.jupyter.widget-view+json": {
       "model_id": "5d3340ca3df54f8391efec15af8f723d",
       "version_major": 2,
       "version_minor": 0
      },
      "text/plain": [
       "  0%|          | 0/102785 [00:00<?, ?it/s]"
      ]
     },
     "metadata": {},
     "output_type": "display_data"
    },
    {
     "name": "stdout",
     "output_type": "stream",
     "text": [
      "\n",
      "==================== Fold 2\n",
      "{'Start date': Timestamp('2021-08-01 00:00:00', freq='W-SUN'), 'End date': Timestamp('2021-08-08 00:00:00', freq='W-SUN'), 'Train': 607865, 'Train users': 110035, 'Train items': 9909, 'Test': 37349, 'Test users': 14158, 'Test items': 3497}\n"
     ]
    },
    {
     "data": {
      "application/vnd.jupyter.widget-view+json": {
       "model_id": "78407f3202b94a4da00015f5546edf0a",
       "version_major": 2,
       "version_minor": 0
      },
      "text/plain": [
       "  0%|          | 0/110035 [00:00<?, ?it/s]"
      ]
     },
     "metadata": {},
     "output_type": "display_data"
    },
    {
     "name": "stdout",
     "output_type": "stream",
     "text": [
      "\n",
      "==================== Fold 3\n",
      "{'Start date': Timestamp('2021-08-08 00:00:00', freq='W-SUN'), 'End date': Timestamp('2021-08-15 00:00:00', freq='W-SUN'), 'Train': 662260, 'Train users': 117161, 'Train items': 10124, 'Test': 39661, 'Test users': 14731, 'Test items': 3642}\n"
     ]
    },
    {
     "data": {
      "application/vnd.jupyter.widget-view+json": {
       "model_id": "d626fd6497e64e73a139a38a9df3294e",
       "version_major": 2,
       "version_minor": 0
      },
      "text/plain": [
       "  0%|          | 0/117161 [00:00<?, ?it/s]"
      ]
     },
     "metadata": {},
     "output_type": "display_data"
    },
    {
     "name": "stderr",
     "output_type": "stream",
     "text": [
      "\u001b[32m[I 2022-12-07 15:31:12,772]\u001b[0m Trial 1 finished with value: 0.025924634051919925 and parameters: {'n_users': 12, 'model_name': 'tfidf', 'all_days': True, 'days': 2}. Best is trial 1 with value: 0.025924634051919925.\u001b[0m\n"
     ]
    },
    {
     "name": "stdout",
     "output_type": "stream",
     "text": [
      "\n",
      "==================== Fold 0\n",
      "{'Start date': Timestamp('2021-07-18 00:00:00', freq='W-SUN'), 'End date': Timestamp('2021-07-25 00:00:00', freq='W-SUN'), 'Train': 507101, 'Train users': 96298, 'Train items': 9563, 'Test': 33870, 'Test users': 12727, 'Test items': 3629}\n"
     ]
    },
    {
     "data": {
      "application/vnd.jupyter.widget-view+json": {
       "model_id": "c67cd27c97954cea9fa00d62207d0d4d",
       "version_major": 2,
       "version_minor": 0
      },
      "text/plain": [
       "  0%|          | 0/96298 [00:00<?, ?it/s]"
      ]
     },
     "metadata": {},
     "output_type": "display_data"
    },
    {
     "name": "stdout",
     "output_type": "stream",
     "text": [
      "\n",
      "==================== Fold 1\n",
      "{'Start date': Timestamp('2021-07-25 00:00:00', freq='W-SUN'), 'End date': Timestamp('2021-08-01 00:00:00', freq='W-SUN'), 'Train': 555103, 'Train users': 102785, 'Train items': 9736, 'Test': 36409, 'Test users': 13695, 'Test items': 3632}\n"
     ]
    },
    {
     "data": {
      "application/vnd.jupyter.widget-view+json": {
       "model_id": "52b22b9e078144a69055a934328c7551",
       "version_major": 2,
       "version_minor": 0
      },
      "text/plain": [
       "  0%|          | 0/102785 [00:00<?, ?it/s]"
      ]
     },
     "metadata": {},
     "output_type": "display_data"
    },
    {
     "name": "stdout",
     "output_type": "stream",
     "text": [
      "\n",
      "==================== Fold 2\n",
      "{'Start date': Timestamp('2021-08-01 00:00:00', freq='W-SUN'), 'End date': Timestamp('2021-08-08 00:00:00', freq='W-SUN'), 'Train': 607865, 'Train users': 110035, 'Train items': 9909, 'Test': 37349, 'Test users': 14158, 'Test items': 3497}\n"
     ]
    },
    {
     "data": {
      "application/vnd.jupyter.widget-view+json": {
       "model_id": "c98ada8d50ba41af96ec398d9fe7fc78",
       "version_major": 2,
       "version_minor": 0
      },
      "text/plain": [
       "  0%|          | 0/110035 [00:00<?, ?it/s]"
      ]
     },
     "metadata": {},
     "output_type": "display_data"
    },
    {
     "name": "stdout",
     "output_type": "stream",
     "text": [
      "\n",
      "==================== Fold 3\n",
      "{'Start date': Timestamp('2021-08-08 00:00:00', freq='W-SUN'), 'End date': Timestamp('2021-08-15 00:00:00', freq='W-SUN'), 'Train': 662260, 'Train users': 117161, 'Train items': 10124, 'Test': 39661, 'Test users': 14731, 'Test items': 3642}\n"
     ]
    },
    {
     "data": {
      "application/vnd.jupyter.widget-view+json": {
       "model_id": "bc6e3d8d9c884b008fd06f167cc32958",
       "version_major": 2,
       "version_minor": 0
      },
      "text/plain": [
       "  0%|          | 0/117161 [00:00<?, ?it/s]"
      ]
     },
     "metadata": {},
     "output_type": "display_data"
    },
    {
     "name": "stderr",
     "output_type": "stream",
     "text": [
      "\u001b[32m[I 2022-12-07 15:31:53,800]\u001b[0m Trial 2 finished with value: 0.019551203399764586 and parameters: {'n_users': 32, 'model_name': 'tfidf', 'all_days': True, 'days': 9}. Best is trial 1 with value: 0.025924634051919925.\u001b[0m\n"
     ]
    },
    {
     "name": "stdout",
     "output_type": "stream",
     "text": [
      "\n",
      "==================== Fold 0\n",
      "{'Start date': Timestamp('2021-07-18 00:00:00', freq='W-SUN'), 'End date': Timestamp('2021-07-25 00:00:00', freq='W-SUN'), 'Train': 507101, 'Train users': 96298, 'Train items': 9563, 'Test': 33870, 'Test users': 12727, 'Test items': 3629}\n"
     ]
    },
    {
     "data": {
      "application/vnd.jupyter.widget-view+json": {
       "model_id": "8a96ff74fd404aad958a5d38ad9c79ca",
       "version_major": 2,
       "version_minor": 0
      },
      "text/plain": [
       "  0%|          | 0/96298 [00:00<?, ?it/s]"
      ]
     },
     "metadata": {},
     "output_type": "display_data"
    },
    {
     "name": "stdout",
     "output_type": "stream",
     "text": [
      "\n",
      "==================== Fold 1\n",
      "{'Start date': Timestamp('2021-07-25 00:00:00', freq='W-SUN'), 'End date': Timestamp('2021-08-01 00:00:00', freq='W-SUN'), 'Train': 555103, 'Train users': 102785, 'Train items': 9736, 'Test': 36409, 'Test users': 13695, 'Test items': 3632}\n"
     ]
    },
    {
     "data": {
      "application/vnd.jupyter.widget-view+json": {
       "model_id": "5813ebefdcbf4de0abd5a999c6eb6f4d",
       "version_major": 2,
       "version_minor": 0
      },
      "text/plain": [
       "  0%|          | 0/102785 [00:00<?, ?it/s]"
      ]
     },
     "metadata": {},
     "output_type": "display_data"
    },
    {
     "name": "stdout",
     "output_type": "stream",
     "text": [
      "\n",
      "==================== Fold 2\n",
      "{'Start date': Timestamp('2021-08-01 00:00:00', freq='W-SUN'), 'End date': Timestamp('2021-08-08 00:00:00', freq='W-SUN'), 'Train': 607865, 'Train users': 110035, 'Train items': 9909, 'Test': 37349, 'Test users': 14158, 'Test items': 3497}\n"
     ]
    },
    {
     "data": {
      "application/vnd.jupyter.widget-view+json": {
       "model_id": "ec6921e31b664a4193296874628836e3",
       "version_major": 2,
       "version_minor": 0
      },
      "text/plain": [
       "  0%|          | 0/110035 [00:00<?, ?it/s]"
      ]
     },
     "metadata": {},
     "output_type": "display_data"
    },
    {
     "name": "stdout",
     "output_type": "stream",
     "text": [
      "\n",
      "==================== Fold 3\n",
      "{'Start date': Timestamp('2021-08-08 00:00:00', freq='W-SUN'), 'End date': Timestamp('2021-08-15 00:00:00', freq='W-SUN'), 'Train': 662260, 'Train users': 117161, 'Train items': 10124, 'Test': 39661, 'Test users': 14731, 'Test items': 3642}\n"
     ]
    },
    {
     "data": {
      "application/vnd.jupyter.widget-view+json": {
       "model_id": "9e76c4accccf4e458351c58463dd554b",
       "version_major": 2,
       "version_minor": 0
      },
      "text/plain": [
       "  0%|          | 0/117161 [00:00<?, ?it/s]"
      ]
     },
     "metadata": {},
     "output_type": "display_data"
    },
    {
     "name": "stderr",
     "output_type": "stream",
     "text": [
      "\u001b[32m[I 2022-12-07 15:32:25,731]\u001b[0m Trial 3 finished with value: 0.019387685103708613 and parameters: {'n_users': 14, 'model_name': 'bm25', 'all_days': False, 'days': 17}. Best is trial 1 with value: 0.025924634051919925.\u001b[0m\n"
     ]
    },
    {
     "name": "stdout",
     "output_type": "stream",
     "text": [
      "\n",
      "==================== Fold 0\n",
      "{'Start date': Timestamp('2021-07-18 00:00:00', freq='W-SUN'), 'End date': Timestamp('2021-07-25 00:00:00', freq='W-SUN'), 'Train': 507101, 'Train users': 96298, 'Train items': 9563, 'Test': 33870, 'Test users': 12727, 'Test items': 3629}\n"
     ]
    },
    {
     "data": {
      "application/vnd.jupyter.widget-view+json": {
       "model_id": "c0d50877371544869bb419566363e23f",
       "version_major": 2,
       "version_minor": 0
      },
      "text/plain": [
       "  0%|          | 0/96298 [00:00<?, ?it/s]"
      ]
     },
     "metadata": {},
     "output_type": "display_data"
    },
    {
     "name": "stdout",
     "output_type": "stream",
     "text": [
      "\n",
      "==================== Fold 1\n",
      "{'Start date': Timestamp('2021-07-25 00:00:00', freq='W-SUN'), 'End date': Timestamp('2021-08-01 00:00:00', freq='W-SUN'), 'Train': 555103, 'Train users': 102785, 'Train items': 9736, 'Test': 36409, 'Test users': 13695, 'Test items': 3632}\n"
     ]
    },
    {
     "data": {
      "application/vnd.jupyter.widget-view+json": {
       "model_id": "e1a5567e0cec4ad290f6883fb5155427",
       "version_major": 2,
       "version_minor": 0
      },
      "text/plain": [
       "  0%|          | 0/102785 [00:00<?, ?it/s]"
      ]
     },
     "metadata": {},
     "output_type": "display_data"
    },
    {
     "name": "stdout",
     "output_type": "stream",
     "text": [
      "\n",
      "==================== Fold 2\n",
      "{'Start date': Timestamp('2021-08-01 00:00:00', freq='W-SUN'), 'End date': Timestamp('2021-08-08 00:00:00', freq='W-SUN'), 'Train': 607865, 'Train users': 110035, 'Train items': 9909, 'Test': 37349, 'Test users': 14158, 'Test items': 3497}\n"
     ]
    },
    {
     "data": {
      "application/vnd.jupyter.widget-view+json": {
       "model_id": "689ce5da507a416383ce5f5c9e10266d",
       "version_major": 2,
       "version_minor": 0
      },
      "text/plain": [
       "  0%|          | 0/110035 [00:00<?, ?it/s]"
      ]
     },
     "metadata": {},
     "output_type": "display_data"
    },
    {
     "name": "stdout",
     "output_type": "stream",
     "text": [
      "\n",
      "==================== Fold 3\n",
      "{'Start date': Timestamp('2021-08-08 00:00:00', freq='W-SUN'), 'End date': Timestamp('2021-08-15 00:00:00', freq='W-SUN'), 'Train': 662260, 'Train users': 117161, 'Train items': 10124, 'Test': 39661, 'Test users': 14731, 'Test items': 3642}\n"
     ]
    },
    {
     "data": {
      "application/vnd.jupyter.widget-view+json": {
       "model_id": "841309ec4d064297949770d8fbecd882",
       "version_major": 2,
       "version_minor": 0
      },
      "text/plain": [
       "  0%|          | 0/117161 [00:00<?, ?it/s]"
      ]
     },
     "metadata": {},
     "output_type": "display_data"
    },
    {
     "name": "stderr",
     "output_type": "stream",
     "text": [
      "\u001b[32m[I 2022-12-07 15:32:57,110]\u001b[0m Trial 4 finished with value: 0.027862191193479224 and parameters: {'n_users': 11, 'model_name': 'cosine', 'all_days': True, 'days': 24}. Best is trial 4 with value: 0.027862191193479224.\u001b[0m\n"
     ]
    },
    {
     "name": "stdout",
     "output_type": "stream",
     "text": [
      "\n",
      "==================== Fold 0\n",
      "{'Start date': Timestamp('2021-07-18 00:00:00', freq='W-SUN'), 'End date': Timestamp('2021-07-25 00:00:00', freq='W-SUN'), 'Train': 507101, 'Train users': 96298, 'Train items': 9563, 'Test': 33870, 'Test users': 12727, 'Test items': 3629}\n"
     ]
    },
    {
     "data": {
      "application/vnd.jupyter.widget-view+json": {
       "model_id": "35213a097fec4519abfa2b2e8049871c",
       "version_major": 2,
       "version_minor": 0
      },
      "text/plain": [
       "  0%|          | 0/96298 [00:00<?, ?it/s]"
      ]
     },
     "metadata": {},
     "output_type": "display_data"
    },
    {
     "name": "stdout",
     "output_type": "stream",
     "text": [
      "\n",
      "==================== Fold 1\n",
      "{'Start date': Timestamp('2021-07-25 00:00:00', freq='W-SUN'), 'End date': Timestamp('2021-08-01 00:00:00', freq='W-SUN'), 'Train': 555103, 'Train users': 102785, 'Train items': 9736, 'Test': 36409, 'Test users': 13695, 'Test items': 3632}\n"
     ]
    },
    {
     "data": {
      "application/vnd.jupyter.widget-view+json": {
       "model_id": "2a133767361144dd9a002fc1e5f0afe0",
       "version_major": 2,
       "version_minor": 0
      },
      "text/plain": [
       "  0%|          | 0/102785 [00:00<?, ?it/s]"
      ]
     },
     "metadata": {},
     "output_type": "display_data"
    },
    {
     "name": "stdout",
     "output_type": "stream",
     "text": [
      "\n",
      "==================== Fold 2\n",
      "{'Start date': Timestamp('2021-08-01 00:00:00', freq='W-SUN'), 'End date': Timestamp('2021-08-08 00:00:00', freq='W-SUN'), 'Train': 607865, 'Train users': 110035, 'Train items': 9909, 'Test': 37349, 'Test users': 14158, 'Test items': 3497}\n"
     ]
    },
    {
     "data": {
      "application/vnd.jupyter.widget-view+json": {
       "model_id": "7e5e4d5789644538b95f228099c7676a",
       "version_major": 2,
       "version_minor": 0
      },
      "text/plain": [
       "  0%|          | 0/110035 [00:00<?, ?it/s]"
      ]
     },
     "metadata": {},
     "output_type": "display_data"
    },
    {
     "name": "stdout",
     "output_type": "stream",
     "text": [
      "\n",
      "==================== Fold 3\n",
      "{'Start date': Timestamp('2021-08-08 00:00:00', freq='W-SUN'), 'End date': Timestamp('2021-08-15 00:00:00', freq='W-SUN'), 'Train': 662260, 'Train users': 117161, 'Train items': 10124, 'Test': 39661, 'Test users': 14731, 'Test items': 3642}\n"
     ]
    },
    {
     "data": {
      "application/vnd.jupyter.widget-view+json": {
       "model_id": "8db397a06e784a0c9740ea1433f23854",
       "version_major": 2,
       "version_minor": 0
      },
      "text/plain": [
       "  0%|          | 0/117161 [00:00<?, ?it/s]"
      ]
     },
     "metadata": {},
     "output_type": "display_data"
    },
    {
     "name": "stderr",
     "output_type": "stream",
     "text": [
      "\u001b[32m[I 2022-12-07 15:33:41,759]\u001b[0m Trial 5 finished with value: 0.013461959080187992 and parameters: {'n_users': 37, 'model_name': 'bm25', 'all_days': True, 'days': 18}. Best is trial 4 with value: 0.027862191193479224.\u001b[0m\n"
     ]
    },
    {
     "name": "stdout",
     "output_type": "stream",
     "text": [
      "\n",
      "==================== Fold 0\n",
      "{'Start date': Timestamp('2021-07-18 00:00:00', freq='W-SUN'), 'End date': Timestamp('2021-07-25 00:00:00', freq='W-SUN'), 'Train': 507101, 'Train users': 96298, 'Train items': 9563, 'Test': 33870, 'Test users': 12727, 'Test items': 3629}\n"
     ]
    },
    {
     "data": {
      "application/vnd.jupyter.widget-view+json": {
       "model_id": "fce7d26217f94a97ab23315cb98a37f2",
       "version_major": 2,
       "version_minor": 0
      },
      "text/plain": [
       "  0%|          | 0/96298 [00:00<?, ?it/s]"
      ]
     },
     "metadata": {},
     "output_type": "display_data"
    },
    {
     "name": "stdout",
     "output_type": "stream",
     "text": [
      "\n",
      "==================== Fold 1\n",
      "{'Start date': Timestamp('2021-07-25 00:00:00', freq='W-SUN'), 'End date': Timestamp('2021-08-01 00:00:00', freq='W-SUN'), 'Train': 555103, 'Train users': 102785, 'Train items': 9736, 'Test': 36409, 'Test users': 13695, 'Test items': 3632}\n"
     ]
    },
    {
     "data": {
      "application/vnd.jupyter.widget-view+json": {
       "model_id": "2d14f340ad8b4d6ab995ae111777a509",
       "version_major": 2,
       "version_minor": 0
      },
      "text/plain": [
       "  0%|          | 0/102785 [00:00<?, ?it/s]"
      ]
     },
     "metadata": {},
     "output_type": "display_data"
    },
    {
     "name": "stdout",
     "output_type": "stream",
     "text": [
      "\n",
      "==================== Fold 2\n",
      "{'Start date': Timestamp('2021-08-01 00:00:00', freq='W-SUN'), 'End date': Timestamp('2021-08-08 00:00:00', freq='W-SUN'), 'Train': 607865, 'Train users': 110035, 'Train items': 9909, 'Test': 37349, 'Test users': 14158, 'Test items': 3497}\n"
     ]
    },
    {
     "data": {
      "application/vnd.jupyter.widget-view+json": {
       "model_id": "8a06fb612b984610812f0513a16d3afd",
       "version_major": 2,
       "version_minor": 0
      },
      "text/plain": [
       "  0%|          | 0/110035 [00:00<?, ?it/s]"
      ]
     },
     "metadata": {},
     "output_type": "display_data"
    },
    {
     "name": "stdout",
     "output_type": "stream",
     "text": [
      "\n",
      "==================== Fold 3\n",
      "{'Start date': Timestamp('2021-08-08 00:00:00', freq='W-SUN'), 'End date': Timestamp('2021-08-15 00:00:00', freq='W-SUN'), 'Train': 662260, 'Train users': 117161, 'Train items': 10124, 'Test': 39661, 'Test users': 14731, 'Test items': 3642}\n"
     ]
    },
    {
     "data": {
      "application/vnd.jupyter.widget-view+json": {
       "model_id": "df5d342407dc44158009f60abb45bf59",
       "version_major": 2,
       "version_minor": 0
      },
      "text/plain": [
       "  0%|          | 0/117161 [00:00<?, ?it/s]"
      ]
     },
     "metadata": {},
     "output_type": "display_data"
    },
    {
     "name": "stderr",
     "output_type": "stream",
     "text": [
      "\u001b[32m[I 2022-12-07 15:34:16,294]\u001b[0m Trial 6 finished with value: 0.017576669123618348 and parameters: {'n_users': 18, 'model_name': 'bm25', 'all_days': False, 'days': 17}. Best is trial 4 with value: 0.027862191193479224.\u001b[0m\n"
     ]
    },
    {
     "name": "stdout",
     "output_type": "stream",
     "text": [
      "\n",
      "==================== Fold 0\n",
      "{'Start date': Timestamp('2021-07-18 00:00:00', freq='W-SUN'), 'End date': Timestamp('2021-07-25 00:00:00', freq='W-SUN'), 'Train': 507101, 'Train users': 96298, 'Train items': 9563, 'Test': 33870, 'Test users': 12727, 'Test items': 3629}\n"
     ]
    },
    {
     "data": {
      "application/vnd.jupyter.widget-view+json": {
       "model_id": "47c5a26cd5054e6993f668817175001e",
       "version_major": 2,
       "version_minor": 0
      },
      "text/plain": [
       "  0%|          | 0/96298 [00:00<?, ?it/s]"
      ]
     },
     "metadata": {},
     "output_type": "display_data"
    },
    {
     "name": "stdout",
     "output_type": "stream",
     "text": [
      "\n",
      "==================== Fold 1\n",
      "{'Start date': Timestamp('2021-07-25 00:00:00', freq='W-SUN'), 'End date': Timestamp('2021-08-01 00:00:00', freq='W-SUN'), 'Train': 555103, 'Train users': 102785, 'Train items': 9736, 'Test': 36409, 'Test users': 13695, 'Test items': 3632}\n"
     ]
    },
    {
     "data": {
      "application/vnd.jupyter.widget-view+json": {
       "model_id": "c660a678265f437589387f6285c620b3",
       "version_major": 2,
       "version_minor": 0
      },
      "text/plain": [
       "  0%|          | 0/102785 [00:00<?, ?it/s]"
      ]
     },
     "metadata": {},
     "output_type": "display_data"
    },
    {
     "name": "stdout",
     "output_type": "stream",
     "text": [
      "\n",
      "==================== Fold 2\n",
      "{'Start date': Timestamp('2021-08-01 00:00:00', freq='W-SUN'), 'End date': Timestamp('2021-08-08 00:00:00', freq='W-SUN'), 'Train': 607865, 'Train users': 110035, 'Train items': 9909, 'Test': 37349, 'Test users': 14158, 'Test items': 3497}\n"
     ]
    },
    {
     "data": {
      "application/vnd.jupyter.widget-view+json": {
       "model_id": "19be4706394d4ddeb85ed85a803d511c",
       "version_major": 2,
       "version_minor": 0
      },
      "text/plain": [
       "  0%|          | 0/110035 [00:00<?, ?it/s]"
      ]
     },
     "metadata": {},
     "output_type": "display_data"
    },
    {
     "name": "stdout",
     "output_type": "stream",
     "text": [
      "\n",
      "==================== Fold 3\n",
      "{'Start date': Timestamp('2021-08-08 00:00:00', freq='W-SUN'), 'End date': Timestamp('2021-08-15 00:00:00', freq='W-SUN'), 'Train': 662260, 'Train users': 117161, 'Train items': 10124, 'Test': 39661, 'Test users': 14731, 'Test items': 3642}\n"
     ]
    },
    {
     "data": {
      "application/vnd.jupyter.widget-view+json": {
       "model_id": "7574fe7b4e784f6f8dcd8d85573a208e",
       "version_major": 2,
       "version_minor": 0
      },
      "text/plain": [
       "  0%|          | 0/117161 [00:00<?, ?it/s]"
      ]
     },
     "metadata": {},
     "output_type": "display_data"
    },
    {
     "name": "stderr",
     "output_type": "stream",
     "text": [
      "\u001b[32m[I 2022-12-07 15:34:52,435]\u001b[0m Trial 7 finished with value: 0.022552389241878384 and parameters: {'n_users': 28, 'model_name': 'cosine', 'all_days': False, 'days': 18}. Best is trial 4 with value: 0.027862191193479224.\u001b[0m\n"
     ]
    },
    {
     "name": "stdout",
     "output_type": "stream",
     "text": [
      "\n",
      "==================== Fold 0\n",
      "{'Start date': Timestamp('2021-07-18 00:00:00', freq='W-SUN'), 'End date': Timestamp('2021-07-25 00:00:00', freq='W-SUN'), 'Train': 507101, 'Train users': 96298, 'Train items': 9563, 'Test': 33870, 'Test users': 12727, 'Test items': 3629}\n"
     ]
    },
    {
     "data": {
      "application/vnd.jupyter.widget-view+json": {
       "model_id": "12c5e421f16949de80b642596ef33967",
       "version_major": 2,
       "version_minor": 0
      },
      "text/plain": [
       "  0%|          | 0/96298 [00:00<?, ?it/s]"
      ]
     },
     "metadata": {},
     "output_type": "display_data"
    },
    {
     "name": "stdout",
     "output_type": "stream",
     "text": [
      "\n",
      "==================== Fold 1\n",
      "{'Start date': Timestamp('2021-07-25 00:00:00', freq='W-SUN'), 'End date': Timestamp('2021-08-01 00:00:00', freq='W-SUN'), 'Train': 555103, 'Train users': 102785, 'Train items': 9736, 'Test': 36409, 'Test users': 13695, 'Test items': 3632}\n"
     ]
    },
    {
     "data": {
      "application/vnd.jupyter.widget-view+json": {
       "model_id": "67bba3a0588f46cfabebee96612c1d42",
       "version_major": 2,
       "version_minor": 0
      },
      "text/plain": [
       "  0%|          | 0/102785 [00:00<?, ?it/s]"
      ]
     },
     "metadata": {},
     "output_type": "display_data"
    },
    {
     "name": "stdout",
     "output_type": "stream",
     "text": [
      "\n",
      "==================== Fold 2\n",
      "{'Start date': Timestamp('2021-08-01 00:00:00', freq='W-SUN'), 'End date': Timestamp('2021-08-08 00:00:00', freq='W-SUN'), 'Train': 607865, 'Train users': 110035, 'Train items': 9909, 'Test': 37349, 'Test users': 14158, 'Test items': 3497}\n"
     ]
    },
    {
     "data": {
      "application/vnd.jupyter.widget-view+json": {
       "model_id": "cedc769539e143e58c2aabaadddb32ca",
       "version_major": 2,
       "version_minor": 0
      },
      "text/plain": [
       "  0%|          | 0/110035 [00:00<?, ?it/s]"
      ]
     },
     "metadata": {},
     "output_type": "display_data"
    },
    {
     "name": "stdout",
     "output_type": "stream",
     "text": [
      "\n",
      "==================== Fold 3\n",
      "{'Start date': Timestamp('2021-08-08 00:00:00', freq='W-SUN'), 'End date': Timestamp('2021-08-15 00:00:00', freq='W-SUN'), 'Train': 662260, 'Train users': 117161, 'Train items': 10124, 'Test': 39661, 'Test users': 14731, 'Test items': 3642}\n"
     ]
    },
    {
     "data": {
      "application/vnd.jupyter.widget-view+json": {
       "model_id": "f831a35ea0034ae1befc3c97ce18462a",
       "version_major": 2,
       "version_minor": 0
      },
      "text/plain": [
       "  0%|          | 0/117161 [00:00<?, ?it/s]"
      ]
     },
     "metadata": {},
     "output_type": "display_data"
    },
    {
     "name": "stderr",
     "output_type": "stream",
     "text": [
      "\u001b[32m[I 2022-12-07 15:35:23,555]\u001b[0m Trial 8 finished with value: 0.026796576968845808 and parameters: {'n_users': 15, 'model_name': 'cosine', 'all_days': False, 'days': 16}. Best is trial 4 with value: 0.027862191193479224.\u001b[0m\n"
     ]
    },
    {
     "name": "stdout",
     "output_type": "stream",
     "text": [
      "\n",
      "==================== Fold 0\n",
      "{'Start date': Timestamp('2021-07-18 00:00:00', freq='W-SUN'), 'End date': Timestamp('2021-07-25 00:00:00', freq='W-SUN'), 'Train': 507101, 'Train users': 96298, 'Train items': 9563, 'Test': 33870, 'Test users': 12727, 'Test items': 3629}\n"
     ]
    },
    {
     "data": {
      "application/vnd.jupyter.widget-view+json": {
       "model_id": "e33e1042302a401e8eabb4e7a388dde6",
       "version_major": 2,
       "version_minor": 0
      },
      "text/plain": [
       "  0%|          | 0/96298 [00:00<?, ?it/s]"
      ]
     },
     "metadata": {},
     "output_type": "display_data"
    },
    {
     "name": "stdout",
     "output_type": "stream",
     "text": [
      "\n",
      "==================== Fold 1\n",
      "{'Start date': Timestamp('2021-07-25 00:00:00', freq='W-SUN'), 'End date': Timestamp('2021-08-01 00:00:00', freq='W-SUN'), 'Train': 555103, 'Train users': 102785, 'Train items': 9736, 'Test': 36409, 'Test users': 13695, 'Test items': 3632}\n"
     ]
    },
    {
     "data": {
      "application/vnd.jupyter.widget-view+json": {
       "model_id": "1eac3c8eacec45888275b7c2a8f5ca0d",
       "version_major": 2,
       "version_minor": 0
      },
      "text/plain": [
       "  0%|          | 0/102785 [00:00<?, ?it/s]"
      ]
     },
     "metadata": {},
     "output_type": "display_data"
    },
    {
     "name": "stdout",
     "output_type": "stream",
     "text": [
      "\n",
      "==================== Fold 2\n",
      "{'Start date': Timestamp('2021-08-01 00:00:00', freq='W-SUN'), 'End date': Timestamp('2021-08-08 00:00:00', freq='W-SUN'), 'Train': 607865, 'Train users': 110035, 'Train items': 9909, 'Test': 37349, 'Test users': 14158, 'Test items': 3497}\n"
     ]
    },
    {
     "data": {
      "application/vnd.jupyter.widget-view+json": {
       "model_id": "6c474ea6f064420aa986207eeaf95d96",
       "version_major": 2,
       "version_minor": 0
      },
      "text/plain": [
       "  0%|          | 0/110035 [00:00<?, ?it/s]"
      ]
     },
     "metadata": {},
     "output_type": "display_data"
    },
    {
     "name": "stdout",
     "output_type": "stream",
     "text": [
      "\n",
      "==================== Fold 3\n",
      "{'Start date': Timestamp('2021-08-08 00:00:00', freq='W-SUN'), 'End date': Timestamp('2021-08-15 00:00:00', freq='W-SUN'), 'Train': 662260, 'Train users': 117161, 'Train items': 10124, 'Test': 39661, 'Test users': 14731, 'Test items': 3642}\n"
     ]
    },
    {
     "data": {
      "application/vnd.jupyter.widget-view+json": {
       "model_id": "0806e5188aa6487f90653799537f6380",
       "version_major": 2,
       "version_minor": 0
      },
      "text/plain": [
       "  0%|          | 0/117161 [00:00<?, ?it/s]"
      ]
     },
     "metadata": {},
     "output_type": "display_data"
    },
    {
     "name": "stderr",
     "output_type": "stream",
     "text": [
      "\u001b[32m[I 2022-12-07 15:35:54,838]\u001b[0m Trial 9 finished with value: 0.026586803045192415 and parameters: {'n_users': 16, 'model_name': 'cosine', 'all_days': False, 'days': 14}. Best is trial 4 with value: 0.027862191193479224.\u001b[0m\n"
     ]
    },
    {
     "name": "stdout",
     "output_type": "stream",
     "text": [
      "\n",
      "==================== Fold 0\n",
      "{'Start date': Timestamp('2021-07-18 00:00:00', freq='W-SUN'), 'End date': Timestamp('2021-07-25 00:00:00', freq='W-SUN'), 'Train': 507101, 'Train users': 96298, 'Train items': 9563, 'Test': 33870, 'Test users': 12727, 'Test items': 3629}\n"
     ]
    },
    {
     "data": {
      "application/vnd.jupyter.widget-view+json": {
       "model_id": "b5b2039ef0194344a5f0ac95f23b8610",
       "version_major": 2,
       "version_minor": 0
      },
      "text/plain": [
       "  0%|          | 0/96298 [00:00<?, ?it/s]"
      ]
     },
     "metadata": {},
     "output_type": "display_data"
    },
    {
     "name": "stdout",
     "output_type": "stream",
     "text": [
      "\n",
      "==================== Fold 1\n",
      "{'Start date': Timestamp('2021-07-25 00:00:00', freq='W-SUN'), 'End date': Timestamp('2021-08-01 00:00:00', freq='W-SUN'), 'Train': 555103, 'Train users': 102785, 'Train items': 9736, 'Test': 36409, 'Test users': 13695, 'Test items': 3632}\n"
     ]
    },
    {
     "data": {
      "application/vnd.jupyter.widget-view+json": {
       "model_id": "5144004ccb31462a924dd2e8b1a88e07",
       "version_major": 2,
       "version_minor": 0
      },
      "text/plain": [
       "  0%|          | 0/102785 [00:00<?, ?it/s]"
      ]
     },
     "metadata": {},
     "output_type": "display_data"
    },
    {
     "name": "stdout",
     "output_type": "stream",
     "text": [
      "\n",
      "==================== Fold 2\n",
      "{'Start date': Timestamp('2021-08-01 00:00:00', freq='W-SUN'), 'End date': Timestamp('2021-08-08 00:00:00', freq='W-SUN'), 'Train': 607865, 'Train users': 110035, 'Train items': 9909, 'Test': 37349, 'Test users': 14158, 'Test items': 3497}\n"
     ]
    },
    {
     "data": {
      "application/vnd.jupyter.widget-view+json": {
       "model_id": "6bc20f1ec39c4078bb4cd038abe3a563",
       "version_major": 2,
       "version_minor": 0
      },
      "text/plain": [
       "  0%|          | 0/110035 [00:00<?, ?it/s]"
      ]
     },
     "metadata": {},
     "output_type": "display_data"
    },
    {
     "name": "stdout",
     "output_type": "stream",
     "text": [
      "\n",
      "==================== Fold 3\n",
      "{'Start date': Timestamp('2021-08-08 00:00:00', freq='W-SUN'), 'End date': Timestamp('2021-08-15 00:00:00', freq='W-SUN'), 'Train': 662260, 'Train users': 117161, 'Train items': 10124, 'Test': 39661, 'Test users': 14731, 'Test items': 3642}\n"
     ]
    },
    {
     "data": {
      "application/vnd.jupyter.widget-view+json": {
       "model_id": "52e1d1f7fc084328b0642192c4e572fb",
       "version_major": 2,
       "version_minor": 0
      },
      "text/plain": [
       "  0%|          | 0/117161 [00:00<?, ?it/s]"
      ]
     },
     "metadata": {},
     "output_type": "display_data"
    },
    {
     "name": "stderr",
     "output_type": "stream",
     "text": [
      "\u001b[32m[I 2022-12-07 15:36:36,335]\u001b[0m Trial 10 finished with value: 0.019036451841091866 and parameters: {'n_users': 45, 'model_name': 'cosine', 'all_days': True, 'days': 28}. Best is trial 4 with value: 0.027862191193479224.\u001b[0m\n"
     ]
    },
    {
     "name": "stdout",
     "output_type": "stream",
     "text": [
      "\n",
      "==================== Fold 0\n",
      "{'Start date': Timestamp('2021-07-18 00:00:00', freq='W-SUN'), 'End date': Timestamp('2021-07-25 00:00:00', freq='W-SUN'), 'Train': 507101, 'Train users': 96298, 'Train items': 9563, 'Test': 33870, 'Test users': 12727, 'Test items': 3629}\n"
     ]
    },
    {
     "data": {
      "application/vnd.jupyter.widget-view+json": {
       "model_id": "2b71786fea4e409b8cc9bc7fed23037b",
       "version_major": 2,
       "version_minor": 0
      },
      "text/plain": [
       "  0%|          | 0/96298 [00:00<?, ?it/s]"
      ]
     },
     "metadata": {},
     "output_type": "display_data"
    },
    {
     "name": "stdout",
     "output_type": "stream",
     "text": [
      "\n",
      "==================== Fold 1\n",
      "{'Start date': Timestamp('2021-07-25 00:00:00', freq='W-SUN'), 'End date': Timestamp('2021-08-01 00:00:00', freq='W-SUN'), 'Train': 555103, 'Train users': 102785, 'Train items': 9736, 'Test': 36409, 'Test users': 13695, 'Test items': 3632}\n"
     ]
    },
    {
     "data": {
      "application/vnd.jupyter.widget-view+json": {
       "model_id": "58be9bb1469b4a87b9e3063581f8c7b2",
       "version_major": 2,
       "version_minor": 0
      },
      "text/plain": [
       "  0%|          | 0/102785 [00:00<?, ?it/s]"
      ]
     },
     "metadata": {},
     "output_type": "display_data"
    },
    {
     "name": "stdout",
     "output_type": "stream",
     "text": [
      "\n",
      "==================== Fold 2\n",
      "{'Start date': Timestamp('2021-08-01 00:00:00', freq='W-SUN'), 'End date': Timestamp('2021-08-08 00:00:00', freq='W-SUN'), 'Train': 607865, 'Train users': 110035, 'Train items': 9909, 'Test': 37349, 'Test users': 14158, 'Test items': 3497}\n"
     ]
    },
    {
     "data": {
      "application/vnd.jupyter.widget-view+json": {
       "model_id": "ac8ef4f4ae80405fb5b452c39c568f04",
       "version_major": 2,
       "version_minor": 0
      },
      "text/plain": [
       "  0%|          | 0/110035 [00:00<?, ?it/s]"
      ]
     },
     "metadata": {},
     "output_type": "display_data"
    },
    {
     "name": "stdout",
     "output_type": "stream",
     "text": [
      "\n",
      "==================== Fold 3\n",
      "{'Start date': Timestamp('2021-08-08 00:00:00', freq='W-SUN'), 'End date': Timestamp('2021-08-15 00:00:00', freq='W-SUN'), 'Train': 662260, 'Train users': 117161, 'Train items': 10124, 'Test': 39661, 'Test users': 14731, 'Test items': 3642}\n"
     ]
    },
    {
     "data": {
      "application/vnd.jupyter.widget-view+json": {
       "model_id": "9ed281fdb0af46ebab654c733305ee6e",
       "version_major": 2,
       "version_minor": 0
      },
      "text/plain": [
       "  0%|          | 0/117161 [00:00<?, ?it/s]"
      ]
     },
     "metadata": {},
     "output_type": "display_data"
    },
    {
     "name": "stderr",
     "output_type": "stream",
     "text": [
      "\u001b[32m[I 2022-12-07 15:37:12,890]\u001b[0m Trial 11 finished with value: 0.023219988508554078 and parameters: {'n_users': 23, 'model_name': 'cosine', 'all_days': True, 'days': 26}. Best is trial 4 with value: 0.027862191193479224.\u001b[0m\n"
     ]
    },
    {
     "name": "stdout",
     "output_type": "stream",
     "text": [
      "\n",
      "==================== Fold 0\n",
      "{'Start date': Timestamp('2021-07-18 00:00:00', freq='W-SUN'), 'End date': Timestamp('2021-07-25 00:00:00', freq='W-SUN'), 'Train': 507101, 'Train users': 96298, 'Train items': 9563, 'Test': 33870, 'Test users': 12727, 'Test items': 3629}\n"
     ]
    },
    {
     "data": {
      "application/vnd.jupyter.widget-view+json": {
       "model_id": "f8031b4697c14af399d1cfa6e8f2b6a3",
       "version_major": 2,
       "version_minor": 0
      },
      "text/plain": [
       "  0%|          | 0/96298 [00:00<?, ?it/s]"
      ]
     },
     "metadata": {},
     "output_type": "display_data"
    },
    {
     "name": "stdout",
     "output_type": "stream",
     "text": [
      "\n",
      "==================== Fold 1\n",
      "{'Start date': Timestamp('2021-07-25 00:00:00', freq='W-SUN'), 'End date': Timestamp('2021-08-01 00:00:00', freq='W-SUN'), 'Train': 555103, 'Train users': 102785, 'Train items': 9736, 'Test': 36409, 'Test users': 13695, 'Test items': 3632}\n"
     ]
    },
    {
     "data": {
      "application/vnd.jupyter.widget-view+json": {
       "model_id": "9430f156980a4c80bf62d217dbc20bd4",
       "version_major": 2,
       "version_minor": 0
      },
      "text/plain": [
       "  0%|          | 0/102785 [00:00<?, ?it/s]"
      ]
     },
     "metadata": {},
     "output_type": "display_data"
    },
    {
     "name": "stdout",
     "output_type": "stream",
     "text": [
      "\n",
      "==================== Fold 2\n",
      "{'Start date': Timestamp('2021-08-01 00:00:00', freq='W-SUN'), 'End date': Timestamp('2021-08-08 00:00:00', freq='W-SUN'), 'Train': 607865, 'Train users': 110035, 'Train items': 9909, 'Test': 37349, 'Test users': 14158, 'Test items': 3497}\n"
     ]
    },
    {
     "data": {
      "application/vnd.jupyter.widget-view+json": {
       "model_id": "cf27ac94b30a433393367d5e2523e6cf",
       "version_major": 2,
       "version_minor": 0
      },
      "text/plain": [
       "  0%|          | 0/110035 [00:00<?, ?it/s]"
      ]
     },
     "metadata": {},
     "output_type": "display_data"
    },
    {
     "name": "stdout",
     "output_type": "stream",
     "text": [
      "\n",
      "==================== Fold 3\n",
      "{'Start date': Timestamp('2021-08-08 00:00:00', freq='W-SUN'), 'End date': Timestamp('2021-08-15 00:00:00', freq='W-SUN'), 'Train': 662260, 'Train users': 117161, 'Train items': 10124, 'Test': 39661, 'Test users': 14731, 'Test items': 3642}\n"
     ]
    },
    {
     "data": {
      "application/vnd.jupyter.widget-view+json": {
       "model_id": "d8842696746c476c98b64a3d7e29df3b",
       "version_major": 2,
       "version_minor": 0
      },
      "text/plain": [
       "  0%|          | 0/117161 [00:00<?, ?it/s]"
      ]
     },
     "metadata": {},
     "output_type": "display_data"
    },
    {
     "name": "stderr",
     "output_type": "stream",
     "text": [
      "\u001b[32m[I 2022-12-07 15:37:46,445]\u001b[0m Trial 12 finished with value: 0.02960096673947527 and parameters: {'n_users': 10, 'model_name': 'cosine', 'all_days': False, 'days': 24}. Best is trial 12 with value: 0.02960096673947527.\u001b[0m\n"
     ]
    },
    {
     "name": "stdout",
     "output_type": "stream",
     "text": [
      "\n",
      "==================== Fold 0\n",
      "{'Start date': Timestamp('2021-07-18 00:00:00', freq='W-SUN'), 'End date': Timestamp('2021-07-25 00:00:00', freq='W-SUN'), 'Train': 507101, 'Train users': 96298, 'Train items': 9563, 'Test': 33870, 'Test users': 12727, 'Test items': 3629}\n"
     ]
    },
    {
     "data": {
      "application/vnd.jupyter.widget-view+json": {
       "model_id": "2020a46a7fe841c6a599dca744d6eefe",
       "version_major": 2,
       "version_minor": 0
      },
      "text/plain": [
       "  0%|          | 0/96298 [00:00<?, ?it/s]"
      ]
     },
     "metadata": {},
     "output_type": "display_data"
    },
    {
     "name": "stdout",
     "output_type": "stream",
     "text": [
      "\n",
      "==================== Fold 1\n",
      "{'Start date': Timestamp('2021-07-25 00:00:00', freq='W-SUN'), 'End date': Timestamp('2021-08-01 00:00:00', freq='W-SUN'), 'Train': 555103, 'Train users': 102785, 'Train items': 9736, 'Test': 36409, 'Test users': 13695, 'Test items': 3632}\n"
     ]
    },
    {
     "data": {
      "application/vnd.jupyter.widget-view+json": {
       "model_id": "aaff201c67ed411db5aa0b6e53ca4c23",
       "version_major": 2,
       "version_minor": 0
      },
      "text/plain": [
       "  0%|          | 0/102785 [00:00<?, ?it/s]"
      ]
     },
     "metadata": {},
     "output_type": "display_data"
    },
    {
     "name": "stdout",
     "output_type": "stream",
     "text": [
      "\n",
      "==================== Fold 2\n",
      "{'Start date': Timestamp('2021-08-01 00:00:00', freq='W-SUN'), 'End date': Timestamp('2021-08-08 00:00:00', freq='W-SUN'), 'Train': 607865, 'Train users': 110035, 'Train items': 9909, 'Test': 37349, 'Test users': 14158, 'Test items': 3497}\n"
     ]
    },
    {
     "data": {
      "application/vnd.jupyter.widget-view+json": {
       "model_id": "3fc032c5ca81493a943a569fce60e246",
       "version_major": 2,
       "version_minor": 0
      },
      "text/plain": [
       "  0%|          | 0/110035 [00:00<?, ?it/s]"
      ]
     },
     "metadata": {},
     "output_type": "display_data"
    },
    {
     "name": "stdout",
     "output_type": "stream",
     "text": [
      "\n",
      "==================== Fold 3\n",
      "{'Start date': Timestamp('2021-08-08 00:00:00', freq='W-SUN'), 'End date': Timestamp('2021-08-15 00:00:00', freq='W-SUN'), 'Train': 662260, 'Train users': 117161, 'Train items': 10124, 'Test': 39661, 'Test users': 14731, 'Test items': 3642}\n"
     ]
    },
    {
     "data": {
      "application/vnd.jupyter.widget-view+json": {
       "model_id": "1fe2dde5db8d4aa4aaa1d57c47d4e43f",
       "version_major": 2,
       "version_minor": 0
      },
      "text/plain": [
       "  0%|          | 0/117161 [00:00<?, ?it/s]"
      ]
     },
     "metadata": {},
     "output_type": "display_data"
    },
    {
     "name": "stderr",
     "output_type": "stream",
     "text": [
      "\u001b[32m[I 2022-12-07 15:38:20,099]\u001b[0m Trial 13 finished with value: 0.028572046615789458 and parameters: {'n_users': 10, 'model_name': 'cosine', 'all_days': True, 'days': 23}. Best is trial 12 with value: 0.02960096673947527.\u001b[0m\n"
     ]
    },
    {
     "name": "stdout",
     "output_type": "stream",
     "text": [
      "\n",
      "==================== Fold 0\n",
      "{'Start date': Timestamp('2021-07-18 00:00:00', freq='W-SUN'), 'End date': Timestamp('2021-07-25 00:00:00', freq='W-SUN'), 'Train': 507101, 'Train users': 96298, 'Train items': 9563, 'Test': 33870, 'Test users': 12727, 'Test items': 3629}\n"
     ]
    },
    {
     "data": {
      "application/vnd.jupyter.widget-view+json": {
       "model_id": "cf4ad8de1f8346cba5b95be3783d355c",
       "version_major": 2,
       "version_minor": 0
      },
      "text/plain": [
       "  0%|          | 0/96298 [00:00<?, ?it/s]"
      ]
     },
     "metadata": {},
     "output_type": "display_data"
    },
    {
     "name": "stdout",
     "output_type": "stream",
     "text": [
      "\n",
      "==================== Fold 1\n",
      "{'Start date': Timestamp('2021-07-25 00:00:00', freq='W-SUN'), 'End date': Timestamp('2021-08-01 00:00:00', freq='W-SUN'), 'Train': 555103, 'Train users': 102785, 'Train items': 9736, 'Test': 36409, 'Test users': 13695, 'Test items': 3632}\n"
     ]
    },
    {
     "data": {
      "application/vnd.jupyter.widget-view+json": {
       "model_id": "fef9d9635d9247d3bbbd4d234874ff37",
       "version_major": 2,
       "version_minor": 0
      },
      "text/plain": [
       "  0%|          | 0/102785 [00:00<?, ?it/s]"
      ]
     },
     "metadata": {},
     "output_type": "display_data"
    },
    {
     "name": "stdout",
     "output_type": "stream",
     "text": [
      "\n",
      "==================== Fold 2\n",
      "{'Start date': Timestamp('2021-08-01 00:00:00', freq='W-SUN'), 'End date': Timestamp('2021-08-08 00:00:00', freq='W-SUN'), 'Train': 607865, 'Train users': 110035, 'Train items': 9909, 'Test': 37349, 'Test users': 14158, 'Test items': 3497}\n"
     ]
    },
    {
     "data": {
      "application/vnd.jupyter.widget-view+json": {
       "model_id": "874c655615d640fb99e9592a81514f5c",
       "version_major": 2,
       "version_minor": 0
      },
      "text/plain": [
       "  0%|          | 0/110035 [00:00<?, ?it/s]"
      ]
     },
     "metadata": {},
     "output_type": "display_data"
    },
    {
     "name": "stdout",
     "output_type": "stream",
     "text": [
      "\n",
      "==================== Fold 3\n",
      "{'Start date': Timestamp('2021-08-08 00:00:00', freq='W-SUN'), 'End date': Timestamp('2021-08-15 00:00:00', freq='W-SUN'), 'Train': 662260, 'Train users': 117161, 'Train items': 10124, 'Test': 39661, 'Test users': 14731, 'Test items': 3642}\n"
     ]
    },
    {
     "data": {
      "application/vnd.jupyter.widget-view+json": {
       "model_id": "71d10fa278d84be29b07c7ea31a8b87e",
       "version_major": 2,
       "version_minor": 0
      },
      "text/plain": [
       "  0%|          | 0/117161 [00:00<?, ?it/s]"
      ]
     },
     "metadata": {},
     "output_type": "display_data"
    },
    {
     "name": "stderr",
     "output_type": "stream",
     "text": [
      "\u001b[32m[I 2022-12-07 15:38:58,074]\u001b[0m Trial 14 finished with value: 0.02284137959583447 and parameters: {'n_users': 21, 'model_name': 'tfidf', 'all_days': False, 'days': 22}. Best is trial 12 with value: 0.02960096673947527.\u001b[0m\n"
     ]
    },
    {
     "name": "stdout",
     "output_type": "stream",
     "text": [
      "\n",
      "==================== Fold 0\n",
      "{'Start date': Timestamp('2021-07-18 00:00:00', freq='W-SUN'), 'End date': Timestamp('2021-07-25 00:00:00', freq='W-SUN'), 'Train': 507101, 'Train users': 96298, 'Train items': 9563, 'Test': 33870, 'Test users': 12727, 'Test items': 3629}\n"
     ]
    },
    {
     "data": {
      "application/vnd.jupyter.widget-view+json": {
       "model_id": "f8e1ae719fb54023986ed19abdb5b4ba",
       "version_major": 2,
       "version_minor": 0
      },
      "text/plain": [
       "  0%|          | 0/96298 [00:00<?, ?it/s]"
      ]
     },
     "metadata": {},
     "output_type": "display_data"
    },
    {
     "name": "stdout",
     "output_type": "stream",
     "text": [
      "\n",
      "==================== Fold 1\n",
      "{'Start date': Timestamp('2021-07-25 00:00:00', freq='W-SUN'), 'End date': Timestamp('2021-08-01 00:00:00', freq='W-SUN'), 'Train': 555103, 'Train users': 102785, 'Train items': 9736, 'Test': 36409, 'Test users': 13695, 'Test items': 3632}\n"
     ]
    },
    {
     "data": {
      "application/vnd.jupyter.widget-view+json": {
       "model_id": "5d01eb1f2dd349ceaf3d8ad5c051b494",
       "version_major": 2,
       "version_minor": 0
      },
      "text/plain": [
       "  0%|          | 0/102785 [00:00<?, ?it/s]"
      ]
     },
     "metadata": {},
     "output_type": "display_data"
    },
    {
     "name": "stdout",
     "output_type": "stream",
     "text": [
      "\n",
      "==================== Fold 2\n",
      "{'Start date': Timestamp('2021-08-01 00:00:00', freq='W-SUN'), 'End date': Timestamp('2021-08-08 00:00:00', freq='W-SUN'), 'Train': 607865, 'Train users': 110035, 'Train items': 9909, 'Test': 37349, 'Test users': 14158, 'Test items': 3497}\n"
     ]
    },
    {
     "data": {
      "application/vnd.jupyter.widget-view+json": {
       "model_id": "21560ba1f5ec4f8bb7ee853f091a9787",
       "version_major": 2,
       "version_minor": 0
      },
      "text/plain": [
       "  0%|          | 0/110035 [00:00<?, ?it/s]"
      ]
     },
     "metadata": {},
     "output_type": "display_data"
    },
    {
     "name": "stdout",
     "output_type": "stream",
     "text": [
      "\n",
      "==================== Fold 3\n",
      "{'Start date': Timestamp('2021-08-08 00:00:00', freq='W-SUN'), 'End date': Timestamp('2021-08-15 00:00:00', freq='W-SUN'), 'Train': 662260, 'Train users': 117161, 'Train items': 10124, 'Test': 39661, 'Test users': 14731, 'Test items': 3642}\n"
     ]
    },
    {
     "data": {
      "application/vnd.jupyter.widget-view+json": {
       "model_id": "63d0c61ff7af4393ad28cf7ebc2ca49d",
       "version_major": 2,
       "version_minor": 0
      },
      "text/plain": [
       "  0%|          | 0/117161 [00:00<?, ?it/s]"
      ]
     },
     "metadata": {},
     "output_type": "display_data"
    },
    {
     "name": "stderr",
     "output_type": "stream",
     "text": [
      "\u001b[32m[I 2022-12-07 15:39:30,844]\u001b[0m Trial 15 finished with value: 0.028597689830466868 and parameters: {'n_users': 10, 'model_name': 'cosine', 'all_days': True, 'days': 22}. Best is trial 12 with value: 0.02960096673947527.\u001b[0m\n"
     ]
    },
    {
     "name": "stdout",
     "output_type": "stream",
     "text": [
      "\n",
      "==================== Fold 0\n",
      "{'Start date': Timestamp('2021-07-18 00:00:00', freq='W-SUN'), 'End date': Timestamp('2021-07-25 00:00:00', freq='W-SUN'), 'Train': 507101, 'Train users': 96298, 'Train items': 9563, 'Test': 33870, 'Test users': 12727, 'Test items': 3629}\n"
     ]
    },
    {
     "data": {
      "application/vnd.jupyter.widget-view+json": {
       "model_id": "21c56e5569ed4aab9b54d29958c20f1c",
       "version_major": 2,
       "version_minor": 0
      },
      "text/plain": [
       "  0%|          | 0/96298 [00:00<?, ?it/s]"
      ]
     },
     "metadata": {},
     "output_type": "display_data"
    },
    {
     "name": "stdout",
     "output_type": "stream",
     "text": [
      "\n",
      "==================== Fold 1\n",
      "{'Start date': Timestamp('2021-07-25 00:00:00', freq='W-SUN'), 'End date': Timestamp('2021-08-01 00:00:00', freq='W-SUN'), 'Train': 555103, 'Train users': 102785, 'Train items': 9736, 'Test': 36409, 'Test users': 13695, 'Test items': 3632}\n"
     ]
    },
    {
     "data": {
      "application/vnd.jupyter.widget-view+json": {
       "model_id": "bf672ad6947d44cbbd3389dc6abb97fd",
       "version_major": 2,
       "version_minor": 0
      },
      "text/plain": [
       "  0%|          | 0/102785 [00:00<?, ?it/s]"
      ]
     },
     "metadata": {},
     "output_type": "display_data"
    },
    {
     "name": "stdout",
     "output_type": "stream",
     "text": [
      "\n",
      "==================== Fold 2\n",
      "{'Start date': Timestamp('2021-08-01 00:00:00', freq='W-SUN'), 'End date': Timestamp('2021-08-08 00:00:00', freq='W-SUN'), 'Train': 607865, 'Train users': 110035, 'Train items': 9909, 'Test': 37349, 'Test users': 14158, 'Test items': 3497}\n"
     ]
    },
    {
     "data": {
      "application/vnd.jupyter.widget-view+json": {
       "model_id": "dd6b472548ec4cb48301a7153ecab1ca",
       "version_major": 2,
       "version_minor": 0
      },
      "text/plain": [
       "  0%|          | 0/110035 [00:00<?, ?it/s]"
      ]
     },
     "metadata": {},
     "output_type": "display_data"
    },
    {
     "name": "stdout",
     "output_type": "stream",
     "text": [
      "\n",
      "==================== Fold 3\n",
      "{'Start date': Timestamp('2021-08-08 00:00:00', freq='W-SUN'), 'End date': Timestamp('2021-08-15 00:00:00', freq='W-SUN'), 'Train': 662260, 'Train users': 117161, 'Train items': 10124, 'Test': 39661, 'Test users': 14731, 'Test items': 3642}\n"
     ]
    },
    {
     "data": {
      "application/vnd.jupyter.widget-view+json": {
       "model_id": "370d9aadd60745f38767a03cf7562777",
       "version_major": 2,
       "version_minor": 0
      },
      "text/plain": [
       "  0%|          | 0/117161 [00:00<?, ?it/s]"
      ]
     },
     "metadata": {},
     "output_type": "display_data"
    },
    {
     "name": "stderr",
     "output_type": "stream",
     "text": [
      "\u001b[32m[I 2022-12-07 15:40:14,704]\u001b[0m Trial 16 finished with value: 0.018472511244102815 and parameters: {'n_users': 50, 'model_name': 'cosine', 'all_days': True, 'days': 21}. Best is trial 12 with value: 0.02960096673947527.\u001b[0m\n"
     ]
    },
    {
     "name": "stdout",
     "output_type": "stream",
     "text": [
      "\n",
      "==================== Fold 0\n",
      "{'Start date': Timestamp('2021-07-18 00:00:00', freq='W-SUN'), 'End date': Timestamp('2021-07-25 00:00:00', freq='W-SUN'), 'Train': 507101, 'Train users': 96298, 'Train items': 9563, 'Test': 33870, 'Test users': 12727, 'Test items': 3629}\n"
     ]
    },
    {
     "data": {
      "application/vnd.jupyter.widget-view+json": {
       "model_id": "8c04d03fd8ab46bca15b784b16920c8f",
       "version_major": 2,
       "version_minor": 0
      },
      "text/plain": [
       "  0%|          | 0/96298 [00:00<?, ?it/s]"
      ]
     },
     "metadata": {},
     "output_type": "display_data"
    },
    {
     "name": "stdout",
     "output_type": "stream",
     "text": [
      "\n",
      "==================== Fold 1\n",
      "{'Start date': Timestamp('2021-07-25 00:00:00', freq='W-SUN'), 'End date': Timestamp('2021-08-01 00:00:00', freq='W-SUN'), 'Train': 555103, 'Train users': 102785, 'Train items': 9736, 'Test': 36409, 'Test users': 13695, 'Test items': 3632}\n"
     ]
    },
    {
     "data": {
      "application/vnd.jupyter.widget-view+json": {
       "model_id": "fe210d4bc40a43df94bd12ef28a6c8bb",
       "version_major": 2,
       "version_minor": 0
      },
      "text/plain": [
       "  0%|          | 0/102785 [00:00<?, ?it/s]"
      ]
     },
     "metadata": {},
     "output_type": "display_data"
    },
    {
     "name": "stdout",
     "output_type": "stream",
     "text": [
      "\n",
      "==================== Fold 2\n",
      "{'Start date': Timestamp('2021-08-01 00:00:00', freq='W-SUN'), 'End date': Timestamp('2021-08-08 00:00:00', freq='W-SUN'), 'Train': 607865, 'Train users': 110035, 'Train items': 9909, 'Test': 37349, 'Test users': 14158, 'Test items': 3497}\n"
     ]
    },
    {
     "data": {
      "application/vnd.jupyter.widget-view+json": {
       "model_id": "99b5e661cb234b70bc195c9e42aeac5b",
       "version_major": 2,
       "version_minor": 0
      },
      "text/plain": [
       "  0%|          | 0/110035 [00:00<?, ?it/s]"
      ]
     },
     "metadata": {},
     "output_type": "display_data"
    },
    {
     "name": "stdout",
     "output_type": "stream",
     "text": [
      "\n",
      "==================== Fold 3\n",
      "{'Start date': Timestamp('2021-08-08 00:00:00', freq='W-SUN'), 'End date': Timestamp('2021-08-15 00:00:00', freq='W-SUN'), 'Train': 662260, 'Train users': 117161, 'Train items': 10124, 'Test': 39661, 'Test users': 14731, 'Test items': 3642}\n"
     ]
    },
    {
     "data": {
      "application/vnd.jupyter.widget-view+json": {
       "model_id": "d69bde92670c4ec3a0c5f5e98721c37a",
       "version_major": 2,
       "version_minor": 0
      },
      "text/plain": [
       "  0%|          | 0/117161 [00:00<?, ?it/s]"
      ]
     },
     "metadata": {},
     "output_type": "display_data"
    },
    {
     "name": "stderr",
     "output_type": "stream",
     "text": [
      "\u001b[32m[I 2022-12-07 15:40:51,743]\u001b[0m Trial 17 finished with value: 0.024105155964803556 and parameters: {'n_users': 23, 'model_name': 'cosine', 'all_days': False, 'days': 11}. Best is trial 12 with value: 0.02960096673947527.\u001b[0m\n"
     ]
    },
    {
     "name": "stdout",
     "output_type": "stream",
     "text": [
      "\n",
      "==================== Fold 0\n",
      "{'Start date': Timestamp('2021-07-18 00:00:00', freq='W-SUN'), 'End date': Timestamp('2021-07-25 00:00:00', freq='W-SUN'), 'Train': 507101, 'Train users': 96298, 'Train items': 9563, 'Test': 33870, 'Test users': 12727, 'Test items': 3629}\n"
     ]
    },
    {
     "data": {
      "application/vnd.jupyter.widget-view+json": {
       "model_id": "6046beb0276e4c83ba581efe740f9763",
       "version_major": 2,
       "version_minor": 0
      },
      "text/plain": [
       "  0%|          | 0/96298 [00:00<?, ?it/s]"
      ]
     },
     "metadata": {},
     "output_type": "display_data"
    },
    {
     "name": "stdout",
     "output_type": "stream",
     "text": [
      "\n",
      "==================== Fold 1\n",
      "{'Start date': Timestamp('2021-07-25 00:00:00', freq='W-SUN'), 'End date': Timestamp('2021-08-01 00:00:00', freq='W-SUN'), 'Train': 555103, 'Train users': 102785, 'Train items': 9736, 'Test': 36409, 'Test users': 13695, 'Test items': 3632}\n"
     ]
    },
    {
     "data": {
      "application/vnd.jupyter.widget-view+json": {
       "model_id": "8b2a617b95d4467e82c8c8b35f8e4d1d",
       "version_major": 2,
       "version_minor": 0
      },
      "text/plain": [
       "  0%|          | 0/102785 [00:00<?, ?it/s]"
      ]
     },
     "metadata": {},
     "output_type": "display_data"
    },
    {
     "name": "stdout",
     "output_type": "stream",
     "text": [
      "\n",
      "==================== Fold 2\n",
      "{'Start date': Timestamp('2021-08-01 00:00:00', freq='W-SUN'), 'End date': Timestamp('2021-08-08 00:00:00', freq='W-SUN'), 'Train': 607865, 'Train users': 110035, 'Train items': 9909, 'Test': 37349, 'Test users': 14158, 'Test items': 3497}\n"
     ]
    },
    {
     "data": {
      "application/vnd.jupyter.widget-view+json": {
       "model_id": "ed30a95164ae47188881a58e243b3cc2",
       "version_major": 2,
       "version_minor": 0
      },
      "text/plain": [
       "  0%|          | 0/110035 [00:00<?, ?it/s]"
      ]
     },
     "metadata": {},
     "output_type": "display_data"
    },
    {
     "name": "stdout",
     "output_type": "stream",
     "text": [
      "\n",
      "==================== Fold 3\n",
      "{'Start date': Timestamp('2021-08-08 00:00:00', freq='W-SUN'), 'End date': Timestamp('2021-08-15 00:00:00', freq='W-SUN'), 'Train': 662260, 'Train users': 117161, 'Train items': 10124, 'Test': 39661, 'Test users': 14731, 'Test items': 3642}\n"
     ]
    },
    {
     "data": {
      "application/vnd.jupyter.widget-view+json": {
       "model_id": "db2f5ac6ead143c7b776ab2615f65426",
       "version_major": 2,
       "version_minor": 0
      },
      "text/plain": [
       "  0%|          | 0/117161 [00:00<?, ?it/s]"
      ]
     },
     "metadata": {},
     "output_type": "display_data"
    },
    {
     "name": "stderr",
     "output_type": "stream",
     "text": [
      "\u001b[32m[I 2022-12-07 15:41:31,186]\u001b[0m Trial 18 finished with value: 0.02100605057056578 and parameters: {'n_users': 27, 'model_name': 'tfidf', 'all_days': False, 'days': 28}. Best is trial 12 with value: 0.02960096673947527.\u001b[0m\n"
     ]
    },
    {
     "name": "stdout",
     "output_type": "stream",
     "text": [
      "\n",
      "==================== Fold 0\n",
      "{'Start date': Timestamp('2021-07-18 00:00:00', freq='W-SUN'), 'End date': Timestamp('2021-07-25 00:00:00', freq='W-SUN'), 'Train': 507101, 'Train users': 96298, 'Train items': 9563, 'Test': 33870, 'Test users': 12727, 'Test items': 3629}\n"
     ]
    },
    {
     "data": {
      "application/vnd.jupyter.widget-view+json": {
       "model_id": "d2506869742a49ff858f2eec22643e84",
       "version_major": 2,
       "version_minor": 0
      },
      "text/plain": [
       "  0%|          | 0/96298 [00:00<?, ?it/s]"
      ]
     },
     "metadata": {},
     "output_type": "display_data"
    },
    {
     "name": "stdout",
     "output_type": "stream",
     "text": [
      "\n",
      "==================== Fold 1\n",
      "{'Start date': Timestamp('2021-07-25 00:00:00', freq='W-SUN'), 'End date': Timestamp('2021-08-01 00:00:00', freq='W-SUN'), 'Train': 555103, 'Train users': 102785, 'Train items': 9736, 'Test': 36409, 'Test users': 13695, 'Test items': 3632}\n"
     ]
    },
    {
     "data": {
      "application/vnd.jupyter.widget-view+json": {
       "model_id": "2f186adfb22f4eae86d6374a174cc2c2",
       "version_major": 2,
       "version_minor": 0
      },
      "text/plain": [
       "  0%|          | 0/102785 [00:00<?, ?it/s]"
      ]
     },
     "metadata": {},
     "output_type": "display_data"
    },
    {
     "name": "stdout",
     "output_type": "stream",
     "text": [
      "\n",
      "==================== Fold 2\n",
      "{'Start date': Timestamp('2021-08-01 00:00:00', freq='W-SUN'), 'End date': Timestamp('2021-08-08 00:00:00', freq='W-SUN'), 'Train': 607865, 'Train users': 110035, 'Train items': 9909, 'Test': 37349, 'Test users': 14158, 'Test items': 3497}\n"
     ]
    },
    {
     "data": {
      "application/vnd.jupyter.widget-view+json": {
       "model_id": "edd17fabcb784641a98714099065ce6f",
       "version_major": 2,
       "version_minor": 0
      },
      "text/plain": [
       "  0%|          | 0/110035 [00:00<?, ?it/s]"
      ]
     },
     "metadata": {},
     "output_type": "display_data"
    },
    {
     "name": "stdout",
     "output_type": "stream",
     "text": [
      "\n",
      "==================== Fold 3\n",
      "{'Start date': Timestamp('2021-08-08 00:00:00', freq='W-SUN'), 'End date': Timestamp('2021-08-15 00:00:00', freq='W-SUN'), 'Train': 662260, 'Train users': 117161, 'Train items': 10124, 'Test': 39661, 'Test users': 14731, 'Test items': 3642}\n"
     ]
    },
    {
     "data": {
      "application/vnd.jupyter.widget-view+json": {
       "model_id": "ecc2d9e009d74397ae3deb95c1c9b3ce",
       "version_major": 2,
       "version_minor": 0
      },
      "text/plain": [
       "  0%|          | 0/117161 [00:00<?, ?it/s]"
      ]
     },
     "metadata": {},
     "output_type": "display_data"
    },
    {
     "name": "stderr",
     "output_type": "stream",
     "text": [
      "\u001b[32m[I 2022-12-07 15:42:08,365]\u001b[0m Trial 19 finished with value: 0.01715164299323037 and parameters: {'n_users': 18, 'model_name': 'bm25', 'all_days': True, 'days': 20}. Best is trial 12 with value: 0.02960096673947527.\u001b[0m\n"
     ]
    },
    {
     "name": "stdout",
     "output_type": "stream",
     "text": [
      "\n",
      "==================== Fold 0\n",
      "{'Start date': Timestamp('2021-07-18 00:00:00', freq='W-SUN'), 'End date': Timestamp('2021-07-25 00:00:00', freq='W-SUN'), 'Train': 507101, 'Train users': 96298, 'Train items': 9563, 'Test': 33870, 'Test users': 12727, 'Test items': 3629}\n"
     ]
    },
    {
     "data": {
      "application/vnd.jupyter.widget-view+json": {
       "model_id": "bd5ac222067645d6b9d495f0ae3e8797",
       "version_major": 2,
       "version_minor": 0
      },
      "text/plain": [
       "  0%|          | 0/96298 [00:00<?, ?it/s]"
      ]
     },
     "metadata": {},
     "output_type": "display_data"
    },
    {
     "name": "stdout",
     "output_type": "stream",
     "text": [
      "\n",
      "==================== Fold 1\n",
      "{'Start date': Timestamp('2021-07-25 00:00:00', freq='W-SUN'), 'End date': Timestamp('2021-08-01 00:00:00', freq='W-SUN'), 'Train': 555103, 'Train users': 102785, 'Train items': 9736, 'Test': 36409, 'Test users': 13695, 'Test items': 3632}\n"
     ]
    },
    {
     "data": {
      "application/vnd.jupyter.widget-view+json": {
       "model_id": "262956fd899c477cb63c3bbbe81924ff",
       "version_major": 2,
       "version_minor": 0
      },
      "text/plain": [
       "  0%|          | 0/102785 [00:00<?, ?it/s]"
      ]
     },
     "metadata": {},
     "output_type": "display_data"
    },
    {
     "name": "stdout",
     "output_type": "stream",
     "text": [
      "\n",
      "==================== Fold 2\n",
      "{'Start date': Timestamp('2021-08-01 00:00:00', freq='W-SUN'), 'End date': Timestamp('2021-08-08 00:00:00', freq='W-SUN'), 'Train': 607865, 'Train users': 110035, 'Train items': 9909, 'Test': 37349, 'Test users': 14158, 'Test items': 3497}\n"
     ]
    },
    {
     "data": {
      "application/vnd.jupyter.widget-view+json": {
       "model_id": "ce9680bb81ae4673bd01292532781dc5",
       "version_major": 2,
       "version_minor": 0
      },
      "text/plain": [
       "  0%|          | 0/110035 [00:00<?, ?it/s]"
      ]
     },
     "metadata": {},
     "output_type": "display_data"
    },
    {
     "name": "stdout",
     "output_type": "stream",
     "text": [
      "\n",
      "==================== Fold 3\n",
      "{'Start date': Timestamp('2021-08-08 00:00:00', freq='W-SUN'), 'End date': Timestamp('2021-08-15 00:00:00', freq='W-SUN'), 'Train': 662260, 'Train users': 117161, 'Train items': 10124, 'Test': 39661, 'Test users': 14731, 'Test items': 3642}\n"
     ]
    },
    {
     "data": {
      "application/vnd.jupyter.widget-view+json": {
       "model_id": "fd81c0378aaa4200a9910f298b9985a3",
       "version_major": 2,
       "version_minor": 0
      },
      "text/plain": [
       "  0%|          | 0/117161 [00:00<?, ?it/s]"
      ]
     },
     "metadata": {},
     "output_type": "display_data"
    },
    {
     "name": "stderr",
     "output_type": "stream",
     "text": [
      "\u001b[32m[I 2022-12-07 15:42:44,751]\u001b[0m Trial 20 finished with value: 0.02381570089461192 and parameters: {'n_users': 21, 'model_name': 'cosine', 'all_days': True, 'days': 25}. Best is trial 12 with value: 0.02960096673947527.\u001b[0m\n"
     ]
    },
    {
     "name": "stdout",
     "output_type": "stream",
     "text": [
      "\n",
      "==================== Fold 0\n",
      "{'Start date': Timestamp('2021-07-18 00:00:00', freq='W-SUN'), 'End date': Timestamp('2021-07-25 00:00:00', freq='W-SUN'), 'Train': 507101, 'Train users': 96298, 'Train items': 9563, 'Test': 33870, 'Test users': 12727, 'Test items': 3629}\n"
     ]
    },
    {
     "data": {
      "application/vnd.jupyter.widget-view+json": {
       "model_id": "705c8b1bf6c1404ba5b3c29a66f6df42",
       "version_major": 2,
       "version_minor": 0
      },
      "text/plain": [
       "  0%|          | 0/96298 [00:00<?, ?it/s]"
      ]
     },
     "metadata": {},
     "output_type": "display_data"
    },
    {
     "name": "stdout",
     "output_type": "stream",
     "text": [
      "\n",
      "==================== Fold 1\n",
      "{'Start date': Timestamp('2021-07-25 00:00:00', freq='W-SUN'), 'End date': Timestamp('2021-08-01 00:00:00', freq='W-SUN'), 'Train': 555103, 'Train users': 102785, 'Train items': 9736, 'Test': 36409, 'Test users': 13695, 'Test items': 3632}\n"
     ]
    },
    {
     "data": {
      "application/vnd.jupyter.widget-view+json": {
       "model_id": "ab5b1208eba9451d9e89f197da1d28af",
       "version_major": 2,
       "version_minor": 0
      },
      "text/plain": [
       "  0%|          | 0/102785 [00:00<?, ?it/s]"
      ]
     },
     "metadata": {},
     "output_type": "display_data"
    },
    {
     "name": "stdout",
     "output_type": "stream",
     "text": [
      "\n",
      "==================== Fold 2\n",
      "{'Start date': Timestamp('2021-08-01 00:00:00', freq='W-SUN'), 'End date': Timestamp('2021-08-08 00:00:00', freq='W-SUN'), 'Train': 607865, 'Train users': 110035, 'Train items': 9909, 'Test': 37349, 'Test users': 14158, 'Test items': 3497}\n"
     ]
    },
    {
     "data": {
      "application/vnd.jupyter.widget-view+json": {
       "model_id": "98feb04f02ec4f2381667c76fe04e05f",
       "version_major": 2,
       "version_minor": 0
      },
      "text/plain": [
       "  0%|          | 0/110035 [00:00<?, ?it/s]"
      ]
     },
     "metadata": {},
     "output_type": "display_data"
    },
    {
     "name": "stdout",
     "output_type": "stream",
     "text": [
      "\n",
      "==================== Fold 3\n",
      "{'Start date': Timestamp('2021-08-08 00:00:00', freq='W-SUN'), 'End date': Timestamp('2021-08-15 00:00:00', freq='W-SUN'), 'Train': 662260, 'Train users': 117161, 'Train items': 10124, 'Test': 39661, 'Test users': 14731, 'Test items': 3642}\n"
     ]
    },
    {
     "data": {
      "application/vnd.jupyter.widget-view+json": {
       "model_id": "b676c8dc865349b78a0c7f9218b59448",
       "version_major": 2,
       "version_minor": 0
      },
      "text/plain": [
       "  0%|          | 0/117161 [00:00<?, ?it/s]"
      ]
     },
     "metadata": {},
     "output_type": "display_data"
    },
    {
     "name": "stderr",
     "output_type": "stream",
     "text": [
      "\u001b[32m[I 2022-12-07 15:43:17,805]\u001b[0m Trial 21 finished with value: 0.02854986544978305 and parameters: {'n_users': 10, 'model_name': 'cosine', 'all_days': True, 'days': 23}. Best is trial 12 with value: 0.02960096673947527.\u001b[0m\n"
     ]
    },
    {
     "name": "stdout",
     "output_type": "stream",
     "text": [
      "\n",
      "==================== Fold 0\n",
      "{'Start date': Timestamp('2021-07-18 00:00:00', freq='W-SUN'), 'End date': Timestamp('2021-07-25 00:00:00', freq='W-SUN'), 'Train': 507101, 'Train users': 96298, 'Train items': 9563, 'Test': 33870, 'Test users': 12727, 'Test items': 3629}\n"
     ]
    },
    {
     "data": {
      "application/vnd.jupyter.widget-view+json": {
       "model_id": "1f921e9b8e9b4376a57f312b1eddc6af",
       "version_major": 2,
       "version_minor": 0
      },
      "text/plain": [
       "  0%|          | 0/96298 [00:00<?, ?it/s]"
      ]
     },
     "metadata": {},
     "output_type": "display_data"
    },
    {
     "name": "stdout",
     "output_type": "stream",
     "text": [
      "\n",
      "==================== Fold 1\n",
      "{'Start date': Timestamp('2021-07-25 00:00:00', freq='W-SUN'), 'End date': Timestamp('2021-08-01 00:00:00', freq='W-SUN'), 'Train': 555103, 'Train users': 102785, 'Train items': 9736, 'Test': 36409, 'Test users': 13695, 'Test items': 3632}\n"
     ]
    },
    {
     "data": {
      "application/vnd.jupyter.widget-view+json": {
       "model_id": "8290d6f2d70b4efaa9426c75cc1b198a",
       "version_major": 2,
       "version_minor": 0
      },
      "text/plain": [
       "  0%|          | 0/102785 [00:00<?, ?it/s]"
      ]
     },
     "metadata": {},
     "output_type": "display_data"
    },
    {
     "name": "stdout",
     "output_type": "stream",
     "text": [
      "\n",
      "==================== Fold 2\n",
      "{'Start date': Timestamp('2021-08-01 00:00:00', freq='W-SUN'), 'End date': Timestamp('2021-08-08 00:00:00', freq='W-SUN'), 'Train': 607865, 'Train users': 110035, 'Train items': 9909, 'Test': 37349, 'Test users': 14158, 'Test items': 3497}\n"
     ]
    },
    {
     "data": {
      "application/vnd.jupyter.widget-view+json": {
       "model_id": "fa09857040394bb3b3d978426555daa1",
       "version_major": 2,
       "version_minor": 0
      },
      "text/plain": [
       "  0%|          | 0/110035 [00:00<?, ?it/s]"
      ]
     },
     "metadata": {},
     "output_type": "display_data"
    },
    {
     "name": "stdout",
     "output_type": "stream",
     "text": [
      "\n",
      "==================== Fold 3\n",
      "{'Start date': Timestamp('2021-08-08 00:00:00', freq='W-SUN'), 'End date': Timestamp('2021-08-15 00:00:00', freq='W-SUN'), 'Train': 662260, 'Train users': 117161, 'Train items': 10124, 'Test': 39661, 'Test users': 14731, 'Test items': 3642}\n"
     ]
    },
    {
     "data": {
      "application/vnd.jupyter.widget-view+json": {
       "model_id": "8e23445419534f6fbe882dbb0faabbd6",
       "version_major": 2,
       "version_minor": 0
      },
      "text/plain": [
       "  0%|          | 0/117161 [00:00<?, ?it/s]"
      ]
     },
     "metadata": {},
     "output_type": "display_data"
    },
    {
     "name": "stderr",
     "output_type": "stream",
     "text": [
      "\u001b[32m[I 2022-12-07 15:43:51,127]\u001b[0m Trial 22 finished with value: 0.028560311244575406 and parameters: {'n_users': 10, 'model_name': 'cosine', 'all_days': True, 'days': 20}. Best is trial 12 with value: 0.02960096673947527.\u001b[0m\n"
     ]
    },
    {
     "name": "stdout",
     "output_type": "stream",
     "text": [
      "\n",
      "==================== Fold 0\n",
      "{'Start date': Timestamp('2021-07-18 00:00:00', freq='W-SUN'), 'End date': Timestamp('2021-07-25 00:00:00', freq='W-SUN'), 'Train': 507101, 'Train users': 96298, 'Train items': 9563, 'Test': 33870, 'Test users': 12727, 'Test items': 3629}\n"
     ]
    },
    {
     "data": {
      "application/vnd.jupyter.widget-view+json": {
       "model_id": "f3997a0130354db58e6ee7cd585e34a7",
       "version_major": 2,
       "version_minor": 0
      },
      "text/plain": [
       "  0%|          | 0/96298 [00:00<?, ?it/s]"
      ]
     },
     "metadata": {},
     "output_type": "display_data"
    },
    {
     "name": "stdout",
     "output_type": "stream",
     "text": [
      "\n",
      "==================== Fold 1\n",
      "{'Start date': Timestamp('2021-07-25 00:00:00', freq='W-SUN'), 'End date': Timestamp('2021-08-01 00:00:00', freq='W-SUN'), 'Train': 555103, 'Train users': 102785, 'Train items': 9736, 'Test': 36409, 'Test users': 13695, 'Test items': 3632}\n"
     ]
    },
    {
     "data": {
      "application/vnd.jupyter.widget-view+json": {
       "model_id": "66eebf170e1c46b68dbafea3f0d02a20",
       "version_major": 2,
       "version_minor": 0
      },
      "text/plain": [
       "  0%|          | 0/102785 [00:00<?, ?it/s]"
      ]
     },
     "metadata": {},
     "output_type": "display_data"
    },
    {
     "name": "stdout",
     "output_type": "stream",
     "text": [
      "\n",
      "==================== Fold 2\n",
      "{'Start date': Timestamp('2021-08-01 00:00:00', freq='W-SUN'), 'End date': Timestamp('2021-08-08 00:00:00', freq='W-SUN'), 'Train': 607865, 'Train users': 110035, 'Train items': 9909, 'Test': 37349, 'Test users': 14158, 'Test items': 3497}\n"
     ]
    },
    {
     "data": {
      "application/vnd.jupyter.widget-view+json": {
       "model_id": "e1f69cf6b395442f8ce335c27dae2a8f",
       "version_major": 2,
       "version_minor": 0
      },
      "text/plain": [
       "  0%|          | 0/110035 [00:00<?, ?it/s]"
      ]
     },
     "metadata": {},
     "output_type": "display_data"
    },
    {
     "name": "stdout",
     "output_type": "stream",
     "text": [
      "\n",
      "==================== Fold 3\n",
      "{'Start date': Timestamp('2021-08-08 00:00:00', freq='W-SUN'), 'End date': Timestamp('2021-08-15 00:00:00', freq='W-SUN'), 'Train': 662260, 'Train users': 117161, 'Train items': 10124, 'Test': 39661, 'Test users': 14731, 'Test items': 3642}\n"
     ]
    },
    {
     "data": {
      "application/vnd.jupyter.widget-view+json": {
       "model_id": "bc88e11d2d864c8a9891185b59962226",
       "version_major": 2,
       "version_minor": 0
      },
      "text/plain": [
       "  0%|          | 0/117161 [00:00<?, ?it/s]"
      ]
     },
     "metadata": {},
     "output_type": "display_data"
    },
    {
     "name": "stderr",
     "output_type": "stream",
     "text": [
      "\u001b[32m[I 2022-12-07 15:44:25,525]\u001b[0m Trial 23 finished with value: 0.02633063624894105 and parameters: {'n_users': 14, 'model_name': 'cosine', 'all_days': True, 'days': 13}. Best is trial 12 with value: 0.02960096673947527.\u001b[0m\n"
     ]
    },
    {
     "name": "stdout",
     "output_type": "stream",
     "text": [
      "\n",
      "==================== Fold 0\n",
      "{'Start date': Timestamp('2021-07-18 00:00:00', freq='W-SUN'), 'End date': Timestamp('2021-07-25 00:00:00', freq='W-SUN'), 'Train': 507101, 'Train users': 96298, 'Train items': 9563, 'Test': 33870, 'Test users': 12727, 'Test items': 3629}\n"
     ]
    },
    {
     "data": {
      "application/vnd.jupyter.widget-view+json": {
       "model_id": "c470a2ef58de476fa875dfd4988ac4e7",
       "version_major": 2,
       "version_minor": 0
      },
      "text/plain": [
       "  0%|          | 0/96298 [00:00<?, ?it/s]"
      ]
     },
     "metadata": {},
     "output_type": "display_data"
    },
    {
     "name": "stdout",
     "output_type": "stream",
     "text": [
      "\n",
      "==================== Fold 1\n",
      "{'Start date': Timestamp('2021-07-25 00:00:00', freq='W-SUN'), 'End date': Timestamp('2021-08-01 00:00:00', freq='W-SUN'), 'Train': 555103, 'Train users': 102785, 'Train items': 9736, 'Test': 36409, 'Test users': 13695, 'Test items': 3632}\n"
     ]
    },
    {
     "data": {
      "application/vnd.jupyter.widget-view+json": {
       "model_id": "65a9bfbfaddd4a2f85aebf2cbdd8459a",
       "version_major": 2,
       "version_minor": 0
      },
      "text/plain": [
       "  0%|          | 0/102785 [00:00<?, ?it/s]"
      ]
     },
     "metadata": {},
     "output_type": "display_data"
    },
    {
     "name": "stdout",
     "output_type": "stream",
     "text": [
      "\n",
      "==================== Fold 2\n",
      "{'Start date': Timestamp('2021-08-01 00:00:00', freq='W-SUN'), 'End date': Timestamp('2021-08-08 00:00:00', freq='W-SUN'), 'Train': 607865, 'Train users': 110035, 'Train items': 9909, 'Test': 37349, 'Test users': 14158, 'Test items': 3497}\n"
     ]
    },
    {
     "data": {
      "application/vnd.jupyter.widget-view+json": {
       "model_id": "a40f2469833f41e9927edbc79c163ebe",
       "version_major": 2,
       "version_minor": 0
      },
      "text/plain": [
       "  0%|          | 0/110035 [00:00<?, ?it/s]"
      ]
     },
     "metadata": {},
     "output_type": "display_data"
    },
    {
     "name": "stdout",
     "output_type": "stream",
     "text": [
      "\n",
      "==================== Fold 3\n",
      "{'Start date': Timestamp('2021-08-08 00:00:00', freq='W-SUN'), 'End date': Timestamp('2021-08-15 00:00:00', freq='W-SUN'), 'Train': 662260, 'Train users': 117161, 'Train items': 10124, 'Test': 39661, 'Test users': 14731, 'Test items': 3642}\n"
     ]
    },
    {
     "data": {
      "application/vnd.jupyter.widget-view+json": {
       "model_id": "8e5c3d88767a4ed3b8f9835c7e241c12",
       "version_major": 2,
       "version_minor": 0
      },
      "text/plain": [
       "  0%|          | 0/117161 [00:00<?, ?it/s]"
      ]
     },
     "metadata": {},
     "output_type": "display_data"
    },
    {
     "name": "stderr",
     "output_type": "stream",
     "text": [
      "\u001b[32m[I 2022-12-07 15:45:00,219]\u001b[0m Trial 24 finished with value: 0.025247172826098833 and parameters: {'n_users': 17, 'model_name': 'cosine', 'all_days': True, 'days': 26}. Best is trial 12 with value: 0.02960096673947527.\u001b[0m\n"
     ]
    },
    {
     "name": "stdout",
     "output_type": "stream",
     "text": [
      "\n",
      "==================== Fold 0\n",
      "{'Start date': Timestamp('2021-07-18 00:00:00', freq='W-SUN'), 'End date': Timestamp('2021-07-25 00:00:00', freq='W-SUN'), 'Train': 507101, 'Train users': 96298, 'Train items': 9563, 'Test': 33870, 'Test users': 12727, 'Test items': 3629}\n"
     ]
    },
    {
     "data": {
      "application/vnd.jupyter.widget-view+json": {
       "model_id": "505f902d6e5b4624904236a41b34977a",
       "version_major": 2,
       "version_minor": 0
      },
      "text/plain": [
       "  0%|          | 0/96298 [00:00<?, ?it/s]"
      ]
     },
     "metadata": {},
     "output_type": "display_data"
    },
    {
     "name": "stdout",
     "output_type": "stream",
     "text": [
      "\n",
      "==================== Fold 1\n",
      "{'Start date': Timestamp('2021-07-25 00:00:00', freq='W-SUN'), 'End date': Timestamp('2021-08-01 00:00:00', freq='W-SUN'), 'Train': 555103, 'Train users': 102785, 'Train items': 9736, 'Test': 36409, 'Test users': 13695, 'Test items': 3632}\n"
     ]
    },
    {
     "data": {
      "application/vnd.jupyter.widget-view+json": {
       "model_id": "b622c58e077e4052801c325b93d39c6f",
       "version_major": 2,
       "version_minor": 0
      },
      "text/plain": [
       "  0%|          | 0/102785 [00:00<?, ?it/s]"
      ]
     },
     "metadata": {},
     "output_type": "display_data"
    },
    {
     "name": "stdout",
     "output_type": "stream",
     "text": [
      "\n",
      "==================== Fold 2\n",
      "{'Start date': Timestamp('2021-08-01 00:00:00', freq='W-SUN'), 'End date': Timestamp('2021-08-08 00:00:00', freq='W-SUN'), 'Train': 607865, 'Train users': 110035, 'Train items': 9909, 'Test': 37349, 'Test users': 14158, 'Test items': 3497}\n"
     ]
    },
    {
     "data": {
      "application/vnd.jupyter.widget-view+json": {
       "model_id": "9e661bb2c13942a084957a32a23398fd",
       "version_major": 2,
       "version_minor": 0
      },
      "text/plain": [
       "  0%|          | 0/110035 [00:00<?, ?it/s]"
      ]
     },
     "metadata": {},
     "output_type": "display_data"
    },
    {
     "name": "stdout",
     "output_type": "stream",
     "text": [
      "\n",
      "==================== Fold 3\n",
      "{'Start date': Timestamp('2021-08-08 00:00:00', freq='W-SUN'), 'End date': Timestamp('2021-08-15 00:00:00', freq='W-SUN'), 'Train': 662260, 'Train users': 117161, 'Train items': 10124, 'Test': 39661, 'Test users': 14731, 'Test items': 3642}\n"
     ]
    },
    {
     "data": {
      "application/vnd.jupyter.widget-view+json": {
       "model_id": "f3102539743f47da98cc8e9cf41436b6",
       "version_major": 2,
       "version_minor": 0
      },
      "text/plain": [
       "  0%|          | 0/117161 [00:00<?, ?it/s]"
      ]
     },
     "metadata": {},
     "output_type": "display_data"
    },
    {
     "name": "stderr",
     "output_type": "stream",
     "text": [
      "\u001b[32m[I 2022-12-07 15:45:33,966]\u001b[0m Trial 25 finished with value: 0.028524269437546535 and parameters: {'n_users': 10, 'model_name': 'cosine', 'all_days': True, 'days': 23}. Best is trial 12 with value: 0.02960096673947527.\u001b[0m\n"
     ]
    },
    {
     "name": "stdout",
     "output_type": "stream",
     "text": [
      "\n",
      "==================== Fold 0\n",
      "{'Start date': Timestamp('2021-07-18 00:00:00', freq='W-SUN'), 'End date': Timestamp('2021-07-25 00:00:00', freq='W-SUN'), 'Train': 507101, 'Train users': 96298, 'Train items': 9563, 'Test': 33870, 'Test users': 12727, 'Test items': 3629}\n"
     ]
    },
    {
     "data": {
      "application/vnd.jupyter.widget-view+json": {
       "model_id": "8da848e7024144458c142f985d19792c",
       "version_major": 2,
       "version_minor": 0
      },
      "text/plain": [
       "  0%|          | 0/96298 [00:00<?, ?it/s]"
      ]
     },
     "metadata": {},
     "output_type": "display_data"
    },
    {
     "name": "stdout",
     "output_type": "stream",
     "text": [
      "\n",
      "==================== Fold 1\n",
      "{'Start date': Timestamp('2021-07-25 00:00:00', freq='W-SUN'), 'End date': Timestamp('2021-08-01 00:00:00', freq='W-SUN'), 'Train': 555103, 'Train users': 102785, 'Train items': 9736, 'Test': 36409, 'Test users': 13695, 'Test items': 3632}\n"
     ]
    },
    {
     "data": {
      "application/vnd.jupyter.widget-view+json": {
       "model_id": "e7ef08b91a7f4ec1858c1867687d2c9b",
       "version_major": 2,
       "version_minor": 0
      },
      "text/plain": [
       "  0%|          | 0/102785 [00:00<?, ?it/s]"
      ]
     },
     "metadata": {},
     "output_type": "display_data"
    },
    {
     "name": "stdout",
     "output_type": "stream",
     "text": [
      "\n",
      "==================== Fold 2\n",
      "{'Start date': Timestamp('2021-08-01 00:00:00', freq='W-SUN'), 'End date': Timestamp('2021-08-08 00:00:00', freq='W-SUN'), 'Train': 607865, 'Train users': 110035, 'Train items': 9909, 'Test': 37349, 'Test users': 14158, 'Test items': 3497}\n"
     ]
    },
    {
     "data": {
      "application/vnd.jupyter.widget-view+json": {
       "model_id": "9ca86503d120432dab81c637d7bb516f",
       "version_major": 2,
       "version_minor": 0
      },
      "text/plain": [
       "  0%|          | 0/110035 [00:00<?, ?it/s]"
      ]
     },
     "metadata": {},
     "output_type": "display_data"
    },
    {
     "name": "stdout",
     "output_type": "stream",
     "text": [
      "\n",
      "==================== Fold 3\n",
      "{'Start date': Timestamp('2021-08-08 00:00:00', freq='W-SUN'), 'End date': Timestamp('2021-08-15 00:00:00', freq='W-SUN'), 'Train': 662260, 'Train users': 117161, 'Train items': 10124, 'Test': 39661, 'Test users': 14731, 'Test items': 3642}\n"
     ]
    },
    {
     "data": {
      "application/vnd.jupyter.widget-view+json": {
       "model_id": "a4ae0c286978493faef598d790c0d7e6",
       "version_major": 2,
       "version_minor": 0
      },
      "text/plain": [
       "  0%|          | 0/117161 [00:00<?, ?it/s]"
      ]
     },
     "metadata": {},
     "output_type": "display_data"
    },
    {
     "name": "stderr",
     "output_type": "stream",
     "text": [
      "\u001b[32m[I 2022-12-07 15:46:08,851]\u001b[0m Trial 26 finished with value: 0.028002923320707855 and parameters: {'n_users': 13, 'model_name': 'cosine', 'all_days': False, 'days': 20}. Best is trial 12 with value: 0.02960096673947527.\u001b[0m\n"
     ]
    },
    {
     "name": "stdout",
     "output_type": "stream",
     "text": [
      "\n",
      "==================== Fold 0\n",
      "{'Start date': Timestamp('2021-07-18 00:00:00', freq='W-SUN'), 'End date': Timestamp('2021-07-25 00:00:00', freq='W-SUN'), 'Train': 507101, 'Train users': 96298, 'Train items': 9563, 'Test': 33870, 'Test users': 12727, 'Test items': 3629}\n"
     ]
    },
    {
     "data": {
      "application/vnd.jupyter.widget-view+json": {
       "model_id": "deefe922486c4f979b9c0299fe68b21d",
       "version_major": 2,
       "version_minor": 0
      },
      "text/plain": [
       "  0%|          | 0/96298 [00:00<?, ?it/s]"
      ]
     },
     "metadata": {},
     "output_type": "display_data"
    },
    {
     "name": "stdout",
     "output_type": "stream",
     "text": [
      "\n",
      "==================== Fold 1\n",
      "{'Start date': Timestamp('2021-07-25 00:00:00', freq='W-SUN'), 'End date': Timestamp('2021-08-01 00:00:00', freq='W-SUN'), 'Train': 555103, 'Train users': 102785, 'Train items': 9736, 'Test': 36409, 'Test users': 13695, 'Test items': 3632}\n"
     ]
    },
    {
     "data": {
      "application/vnd.jupyter.widget-view+json": {
       "model_id": "5b306b74c5f549c1bccaf3ea1451bc98",
       "version_major": 2,
       "version_minor": 0
      },
      "text/plain": [
       "  0%|          | 0/102785 [00:00<?, ?it/s]"
      ]
     },
     "metadata": {},
     "output_type": "display_data"
    },
    {
     "name": "stdout",
     "output_type": "stream",
     "text": [
      "\n",
      "==================== Fold 2\n",
      "{'Start date': Timestamp('2021-08-01 00:00:00', freq='W-SUN'), 'End date': Timestamp('2021-08-08 00:00:00', freq='W-SUN'), 'Train': 607865, 'Train users': 110035, 'Train items': 9909, 'Test': 37349, 'Test users': 14158, 'Test items': 3497}\n"
     ]
    },
    {
     "data": {
      "application/vnd.jupyter.widget-view+json": {
       "model_id": "080447f3291d487ab61082316c8b460b",
       "version_major": 2,
       "version_minor": 0
      },
      "text/plain": [
       "  0%|          | 0/110035 [00:00<?, ?it/s]"
      ]
     },
     "metadata": {},
     "output_type": "display_data"
    },
    {
     "name": "stdout",
     "output_type": "stream",
     "text": [
      "\n",
      "==================== Fold 3\n",
      "{'Start date': Timestamp('2021-08-08 00:00:00', freq='W-SUN'), 'End date': Timestamp('2021-08-15 00:00:00', freq='W-SUN'), 'Train': 662260, 'Train users': 117161, 'Train items': 10124, 'Test': 39661, 'Test users': 14731, 'Test items': 3642}\n"
     ]
    },
    {
     "data": {
      "application/vnd.jupyter.widget-view+json": {
       "model_id": "e50103df49174bda8d25775f83bd45b6",
       "version_major": 2,
       "version_minor": 0
      },
      "text/plain": [
       "  0%|          | 0/117161 [00:00<?, ?it/s]"
      ]
     },
     "metadata": {},
     "output_type": "display_data"
    },
    {
     "name": "stderr",
     "output_type": "stream",
     "text": [
      "\u001b[32m[I 2022-12-07 15:46:42,994]\u001b[0m Trial 27 finished with value: 0.02449189713200104 and parameters: {'n_users': 19, 'model_name': 'cosine', 'all_days': True, 'days': 26}. Best is trial 12 with value: 0.02960096673947527.\u001b[0m\n"
     ]
    }
   ],
   "source": [
    "study.optimize(objective, n_trials=30, timeout=1000)"
   ]
  },
  {
   "cell_type": "code",
   "execution_count": 65,
   "id": "90ff9894-9f86-49c1-a904-e53b7d21f0dd",
   "metadata": {},
   "outputs": [
    {
     "data": {
      "text/html": [
       "<div>\n",
       "<style scoped>\n",
       "    .dataframe tbody tr th:only-of-type {\n",
       "        vertical-align: middle;\n",
       "    }\n",
       "\n",
       "    .dataframe tbody tr th {\n",
       "        vertical-align: top;\n",
       "    }\n",
       "\n",
       "    .dataframe thead th {\n",
       "        text-align: right;\n",
       "    }\n",
       "</style>\n",
       "<table border=\"1\" class=\"dataframe\">\n",
       "  <thead>\n",
       "    <tr style=\"text-align: right;\">\n",
       "      <th></th>\n",
       "      <th>params_model_name</th>\n",
       "      <th>params_n_users</th>\n",
       "      <th>value</th>\n",
       "    </tr>\n",
       "  </thead>\n",
       "  <tbody>\n",
       "    <tr>\n",
       "      <th>12</th>\n",
       "      <td>cosine</td>\n",
       "      <td>10</td>\n",
       "      <td>0.029601</td>\n",
       "    </tr>\n",
       "    <tr>\n",
       "      <th>15</th>\n",
       "      <td>cosine</td>\n",
       "      <td>10</td>\n",
       "      <td>0.028598</td>\n",
       "    </tr>\n",
       "    <tr>\n",
       "      <th>13</th>\n",
       "      <td>cosine</td>\n",
       "      <td>10</td>\n",
       "      <td>0.028572</td>\n",
       "    </tr>\n",
       "    <tr>\n",
       "      <th>22</th>\n",
       "      <td>cosine</td>\n",
       "      <td>10</td>\n",
       "      <td>0.028560</td>\n",
       "    </tr>\n",
       "    <tr>\n",
       "      <th>21</th>\n",
       "      <td>cosine</td>\n",
       "      <td>10</td>\n",
       "      <td>0.028550</td>\n",
       "    </tr>\n",
       "    <tr>\n",
       "      <th>25</th>\n",
       "      <td>cosine</td>\n",
       "      <td>10</td>\n",
       "      <td>0.028524</td>\n",
       "    </tr>\n",
       "    <tr>\n",
       "      <th>26</th>\n",
       "      <td>cosine</td>\n",
       "      <td>13</td>\n",
       "      <td>0.028003</td>\n",
       "    </tr>\n",
       "    <tr>\n",
       "      <th>4</th>\n",
       "      <td>cosine</td>\n",
       "      <td>11</td>\n",
       "      <td>0.027862</td>\n",
       "    </tr>\n",
       "    <tr>\n",
       "      <th>8</th>\n",
       "      <td>cosine</td>\n",
       "      <td>15</td>\n",
       "      <td>0.026797</td>\n",
       "    </tr>\n",
       "    <tr>\n",
       "      <th>9</th>\n",
       "      <td>cosine</td>\n",
       "      <td>16</td>\n",
       "      <td>0.026587</td>\n",
       "    </tr>\n",
       "    <tr>\n",
       "      <th>23</th>\n",
       "      <td>cosine</td>\n",
       "      <td>14</td>\n",
       "      <td>0.026331</td>\n",
       "    </tr>\n",
       "    <tr>\n",
       "      <th>1</th>\n",
       "      <td>tfidf</td>\n",
       "      <td>12</td>\n",
       "      <td>0.025925</td>\n",
       "    </tr>\n",
       "    <tr>\n",
       "      <th>24</th>\n",
       "      <td>cosine</td>\n",
       "      <td>17</td>\n",
       "      <td>0.025247</td>\n",
       "    </tr>\n",
       "    <tr>\n",
       "      <th>27</th>\n",
       "      <td>cosine</td>\n",
       "      <td>19</td>\n",
       "      <td>0.024492</td>\n",
       "    </tr>\n",
       "    <tr>\n",
       "      <th>17</th>\n",
       "      <td>cosine</td>\n",
       "      <td>23</td>\n",
       "      <td>0.024105</td>\n",
       "    </tr>\n",
       "    <tr>\n",
       "      <th>20</th>\n",
       "      <td>cosine</td>\n",
       "      <td>21</td>\n",
       "      <td>0.023816</td>\n",
       "    </tr>\n",
       "    <tr>\n",
       "      <th>11</th>\n",
       "      <td>cosine</td>\n",
       "      <td>23</td>\n",
       "      <td>0.023220</td>\n",
       "    </tr>\n",
       "    <tr>\n",
       "      <th>14</th>\n",
       "      <td>tfidf</td>\n",
       "      <td>21</td>\n",
       "      <td>0.022841</td>\n",
       "    </tr>\n",
       "    <tr>\n",
       "      <th>7</th>\n",
       "      <td>cosine</td>\n",
       "      <td>28</td>\n",
       "      <td>0.022552</td>\n",
       "    </tr>\n",
       "    <tr>\n",
       "      <th>0</th>\n",
       "      <td>cosine</td>\n",
       "      <td>36</td>\n",
       "      <td>0.021242</td>\n",
       "    </tr>\n",
       "    <tr>\n",
       "      <th>18</th>\n",
       "      <td>tfidf</td>\n",
       "      <td>27</td>\n",
       "      <td>0.021006</td>\n",
       "    </tr>\n",
       "    <tr>\n",
       "      <th>2</th>\n",
       "      <td>tfidf</td>\n",
       "      <td>32</td>\n",
       "      <td>0.019551</td>\n",
       "    </tr>\n",
       "    <tr>\n",
       "      <th>3</th>\n",
       "      <td>bm25</td>\n",
       "      <td>14</td>\n",
       "      <td>0.019388</td>\n",
       "    </tr>\n",
       "    <tr>\n",
       "      <th>10</th>\n",
       "      <td>cosine</td>\n",
       "      <td>45</td>\n",
       "      <td>0.019036</td>\n",
       "    </tr>\n",
       "    <tr>\n",
       "      <th>16</th>\n",
       "      <td>cosine</td>\n",
       "      <td>50</td>\n",
       "      <td>0.018473</td>\n",
       "    </tr>\n",
       "    <tr>\n",
       "      <th>6</th>\n",
       "      <td>bm25</td>\n",
       "      <td>18</td>\n",
       "      <td>0.017577</td>\n",
       "    </tr>\n",
       "    <tr>\n",
       "      <th>19</th>\n",
       "      <td>bm25</td>\n",
       "      <td>18</td>\n",
       "      <td>0.017152</td>\n",
       "    </tr>\n",
       "    <tr>\n",
       "      <th>5</th>\n",
       "      <td>bm25</td>\n",
       "      <td>37</td>\n",
       "      <td>0.013462</td>\n",
       "    </tr>\n",
       "  </tbody>\n",
       "</table>\n",
       "</div>"
      ],
      "text/plain": [
       "   params_model_name  params_n_users     value\n",
       "12            cosine              10  0.029601\n",
       "15            cosine              10  0.028598\n",
       "13            cosine              10  0.028572\n",
       "22            cosine              10  0.028560\n",
       "21            cosine              10  0.028550\n",
       "25            cosine              10  0.028524\n",
       "26            cosine              13  0.028003\n",
       "4             cosine              11  0.027862\n",
       "8             cosine              15  0.026797\n",
       "9             cosine              16  0.026587\n",
       "23            cosine              14  0.026331\n",
       "1              tfidf              12  0.025925\n",
       "24            cosine              17  0.025247\n",
       "27            cosine              19  0.024492\n",
       "17            cosine              23  0.024105\n",
       "20            cosine              21  0.023816\n",
       "11            cosine              23  0.023220\n",
       "14             tfidf              21  0.022841\n",
       "7             cosine              28  0.022552\n",
       "0             cosine              36  0.021242\n",
       "18             tfidf              27  0.021006\n",
       "2              tfidf              32  0.019551\n",
       "3               bm25              14  0.019388\n",
       "10            cosine              45  0.019036\n",
       "16            cosine              50  0.018473\n",
       "6               bm25              18  0.017577\n",
       "19              bm25              18  0.017152\n",
       "5               bm25              37  0.013462"
      ]
     },
     "execution_count": 65,
     "metadata": {},
     "output_type": "execute_result"
    }
   ],
   "source": [
    "trials_df = study.trials_dataframe()\n",
    "trials_df[['params_model_name', 'params_n_users', 'value']].sort_values(['value'], ascending=False)"
   ]
  },
  {
   "cell_type": "code",
   "execution_count": 84,
   "id": "7dddd370-681b-4f21-8fd5-7cfd66125dfd",
   "metadata": {},
   "outputs": [
    {
     "data": {
      "text/plain": [
       "0.004343470405132799"
      ]
     },
     "execution_count": 84,
     "metadata": {},
     "output_type": "execute_result"
    }
   ],
   "source": [
    "MAP10_BASELINE_50k = study.best_trial.value\n",
    "MAP10_BASELINE_50k"
   ]
  },
  {
   "cell_type": "markdown",
   "id": "b99c7a40-24d8-4372-844f-07b9e66bea6e",
   "metadata": {},
   "source": [
    " # MAP10_50K: 0.004343470405132799"
   ]
  },
  {
   "cell_type": "code",
   "execution_count": 22,
   "id": "a72a06b5-18a7-49f2-bdcc-a489f60b4ccb",
   "metadata": {},
   "outputs": [],
   "source": [
    "def popular_number_of_items_days(\n",
    "    df: pd.DataFrame, k: int = 10, days: int = 14, all_time: bool = False\n",
    ") -> np.array:\n",
    "    \"\"\"\n",
    "    Return a np.array of top@k most popular items for last N days\n",
    "    \"\"\"\n",
    "    if all_time is True:\n",
    "        recommendations = df.loc[:, \"item_id\"].value_counts().head(k).index.values\n",
    "    else:\n",
    "        min_date = df[\"datetime\"].max().normalize() - pd.DateOffset(days)\n",
    "        recommendations = (\n",
    "            df.loc[df[\"datetime\"] > min_date, \"item_id\"]\n",
    "            .value_counts()\n",
    "            .head(k)\n",
    "            .index.values\n",
    "        )\n",
    "    return list(recommendations)"
   ]
  },
  {
   "cell_type": "code",
   "execution_count": 23,
   "id": "6d5a84ad-4e7c-4102-8c39-6c65079692ec",
   "metadata": {},
   "outputs": [],
   "source": [
    "from userknn_techniques.v1 import my_UserKnn"
   ]
  },
  {
   "cell_type": "code",
   "execution_count": 36,
   "id": "0b74a140-c5ed-4b35-8cec-0f52cff1c53a",
   "metadata": {},
   "outputs": [],
   "source": [
    "def objective(trial):\n",
    "    fold_iterator = cv.split(interactions_df, collect_fold_stats=True)\n",
    "\n",
    "    map10_buffer = []\n",
    "\n",
    "    for i_fold, (train_ids, test_ids, fold_info) in enumerate(fold_iterator):\n",
    "        print(f\"\\n==================== Fold {i_fold}\")\n",
    "        print(fold_info)\n",
    "\n",
    "        df_train = interactions_df.df.iloc[train_ids].copy()\n",
    "        df_test = interactions_df.df.iloc[test_ids].copy()\n",
    "\n",
    "        catalog = df_train['item_id'].unique()\n",
    "\n",
    "        n_user = trial.suggest_int('n_users', 10, 50)\n",
    "        model_name = trial.suggest_categorical('model_name', ['cosine', 'bm25', 'tfidf'])\n",
    "        all_time = trial.suggest_categorical('all_days', [True, False])\n",
    "        days = trial.suggest_int('days', 1, 28)\n",
    "        \n",
    "        pop_items = popular_number_of_items_days(\n",
    "            df_train, k=10, days=days, all_time=all_time\n",
    "        )\n",
    "\n",
    "        ModelType = models_map[model_name]\n",
    "\n",
    "        userknn_model = my_UserKnn(model=ModelType(K=n_user),\n",
    "                                   pop_items=pop_items, N_users=n_user)\n",
    "        userknn_model.fit(df_train)\n",
    "\n",
    "        recos = userknn_model.predict(df_test)\n",
    "\n",
    "        metric_values = calc_metrics(\n",
    "            metrics,\n",
    "            reco=recos,\n",
    "            interactions=df_test,\n",
    "            prev_interactions=df_train,\n",
    "            catalog=catalog,\n",
    "        )\n",
    "\n",
    "        fold = {\"fold\": i_fold, \"model\": model_name, 'n_users': n_user}\n",
    "        fold.update(metric_values)\n",
    "\n",
    "        map10_buffer.append(metric_values['map@10'])\n",
    "\n",
    "    return np.array(map10_buffer).mean()"
   ]
  },
  {
   "cell_type": "code",
   "execution_count": 39,
   "id": "29fa4c38-28e1-498e-831d-96a47c614a88",
   "metadata": {},
   "outputs": [
    {
     "name": "stderr",
     "output_type": "stream",
     "text": [
      "\u001b[32m[I 2022-12-07 15:09:01,528]\u001b[0m A new study created in RDB with name: no-name-e9cbcd21-6e9b-462b-a424-3f0299c1b099\u001b[0m\n"
     ]
    }
   ],
   "source": [
    "study2 = optuna.create_study(direction=\"maximize\",\n",
    "                             storage='sqlite:///userknn.db')\n",
    "# no-name-e9cbcd21-6e9b-462b-a424-3f0299c1b099"
   ]
  },
  {
   "cell_type": "code",
   "execution_count": 40,
   "id": "92f7c680-c35b-49fe-98ec-aad839fd2375",
   "metadata": {},
   "outputs": [
    {
     "name": "stdout",
     "output_type": "stream",
     "text": [
      "\n",
      "==================== Fold 0\n",
      "{'Start date': Timestamp('2021-07-18 00:00:00', freq='W-SUN'), 'End date': Timestamp('2021-07-25 00:00:00', freq='W-SUN'), 'Train': 169161, 'Train users': 31982, 'Train items': 6968, 'Test': 11257, 'Test users': 4190, 'Test items': 2342}\n"
     ]
    },
    {
     "data": {
      "application/vnd.jupyter.widget-view+json": {
       "model_id": "cf894dcba5ca44ac995f5ba5fb6cf42b",
       "version_major": 2,
       "version_minor": 0
      },
      "text/plain": [
       "  0%|          | 0/31982 [00:00<?, ?it/s]"
      ]
     },
     "metadata": {},
     "output_type": "display_data"
    },
    {
     "name": "stdout",
     "output_type": "stream",
     "text": [
      "\n",
      "==================== Fold 1\n",
      "{'Start date': Timestamp('2021-07-25 00:00:00', freq='W-SUN'), 'End date': Timestamp('2021-08-01 00:00:00', freq='W-SUN'), 'Train': 185626, 'Train users': 34257, 'Train items': 7124, 'Test': 12258, 'Test users': 4592, 'Test items': 2368}\n"
     ]
    },
    {
     "data": {
      "application/vnd.jupyter.widget-view+json": {
       "model_id": "e622763360c84e938a1f52b78f395da4",
       "version_major": 2,
       "version_minor": 0
      },
      "text/plain": [
       "  0%|          | 0/34257 [00:00<?, ?it/s]"
      ]
     },
     "metadata": {},
     "output_type": "display_data"
    },
    {
     "name": "stdout",
     "output_type": "stream",
     "text": [
      "\n",
      "==================== Fold 2\n",
      "{'Start date': Timestamp('2021-08-01 00:00:00', freq='W-SUN'), 'End date': Timestamp('2021-08-08 00:00:00', freq='W-SUN'), 'Train': 203620, 'Train users': 36692, 'Train items': 7248, 'Test': 12410, 'Test users': 4719, 'Test items': 2308}\n"
     ]
    },
    {
     "data": {
      "application/vnd.jupyter.widget-view+json": {
       "model_id": "e010c4de5ed2478090a6369495fc447c",
       "version_major": 2,
       "version_minor": 0
      },
      "text/plain": [
       "  0%|          | 0/36692 [00:00<?, ?it/s]"
      ]
     },
     "metadata": {},
     "output_type": "display_data"
    },
    {
     "name": "stdout",
     "output_type": "stream",
     "text": [
      "\n",
      "==================== Fold 3\n",
      "{'Start date': Timestamp('2021-08-08 00:00:00', freq='W-SUN'), 'End date': Timestamp('2021-08-15 00:00:00', freq='W-SUN'), 'Train': 221881, 'Train users': 39079, 'Train items': 7469, 'Test': 13046, 'Test users': 4855, 'Test items': 2431}\n"
     ]
    },
    {
     "data": {
      "application/vnd.jupyter.widget-view+json": {
       "model_id": "9cd877f9b1cf40a9ace3b4858bb83e42",
       "version_major": 2,
       "version_minor": 0
      },
      "text/plain": [
       "  0%|          | 0/39079 [00:00<?, ?it/s]"
      ]
     },
     "metadata": {},
     "output_type": "display_data"
    },
    {
     "name": "stderr",
     "output_type": "stream",
     "text": [
      "\u001b[32m[I 2022-12-07 15:09:13,165]\u001b[0m Trial 15 finished with value: 0.014464203638734192 and parameters: {'n_users': 45, 'model_name': 'tfidf', 'all_days': True, 'days': 21}. Best is trial 15 with value: 0.014464203638734192.\u001b[0m\n"
     ]
    },
    {
     "name": "stdout",
     "output_type": "stream",
     "text": [
      "\n",
      "==================== Fold 0\n",
      "{'Start date': Timestamp('2021-07-18 00:00:00', freq='W-SUN'), 'End date': Timestamp('2021-07-25 00:00:00', freq='W-SUN'), 'Train': 169161, 'Train users': 31982, 'Train items': 6968, 'Test': 11257, 'Test users': 4190, 'Test items': 2342}\n"
     ]
    },
    {
     "data": {
      "application/vnd.jupyter.widget-view+json": {
       "model_id": "8007355740e4471894052d1d1a5b68a0",
       "version_major": 2,
       "version_minor": 0
      },
      "text/plain": [
       "  0%|          | 0/31982 [00:00<?, ?it/s]"
      ]
     },
     "metadata": {},
     "output_type": "display_data"
    },
    {
     "name": "stdout",
     "output_type": "stream",
     "text": [
      "\n",
      "==================== Fold 1\n",
      "{'Start date': Timestamp('2021-07-25 00:00:00', freq='W-SUN'), 'End date': Timestamp('2021-08-01 00:00:00', freq='W-SUN'), 'Train': 185626, 'Train users': 34257, 'Train items': 7124, 'Test': 12258, 'Test users': 4592, 'Test items': 2368}\n"
     ]
    },
    {
     "data": {
      "application/vnd.jupyter.widget-view+json": {
       "model_id": "37e6fae5fb2141d9ac2dc7627c8451ba",
       "version_major": 2,
       "version_minor": 0
      },
      "text/plain": [
       "  0%|          | 0/34257 [00:00<?, ?it/s]"
      ]
     },
     "metadata": {},
     "output_type": "display_data"
    },
    {
     "name": "stdout",
     "output_type": "stream",
     "text": [
      "\n",
      "==================== Fold 2\n",
      "{'Start date': Timestamp('2021-08-01 00:00:00', freq='W-SUN'), 'End date': Timestamp('2021-08-08 00:00:00', freq='W-SUN'), 'Train': 203620, 'Train users': 36692, 'Train items': 7248, 'Test': 12410, 'Test users': 4719, 'Test items': 2308}\n"
     ]
    },
    {
     "data": {
      "application/vnd.jupyter.widget-view+json": {
       "model_id": "3693747a07a84e6199bef62cd9eda023",
       "version_major": 2,
       "version_minor": 0
      },
      "text/plain": [
       "  0%|          | 0/36692 [00:00<?, ?it/s]"
      ]
     },
     "metadata": {},
     "output_type": "display_data"
    },
    {
     "name": "stdout",
     "output_type": "stream",
     "text": [
      "\n",
      "==================== Fold 3\n",
      "{'Start date': Timestamp('2021-08-08 00:00:00', freq='W-SUN'), 'End date': Timestamp('2021-08-15 00:00:00', freq='W-SUN'), 'Train': 221881, 'Train users': 39079, 'Train items': 7469, 'Test': 13046, 'Test users': 4855, 'Test items': 2431}\n"
     ]
    },
    {
     "data": {
      "application/vnd.jupyter.widget-view+json": {
       "model_id": "ad9fb5802172419d89dbf93ede71d634",
       "version_major": 2,
       "version_minor": 0
      },
      "text/plain": [
       "  0%|          | 0/39079 [00:00<?, ?it/s]"
      ]
     },
     "metadata": {},
     "output_type": "display_data"
    },
    {
     "name": "stderr",
     "output_type": "stream",
     "text": [
      "\u001b[32m[I 2022-12-07 15:09:24,284]\u001b[0m Trial 16 finished with value: 0.01395895858399979 and parameters: {'n_users': 50, 'model_name': 'tfidf', 'all_days': True, 'days': 22}. Best is trial 15 with value: 0.014464203638734192.\u001b[0m\n"
     ]
    },
    {
     "name": "stdout",
     "output_type": "stream",
     "text": [
      "\n",
      "==================== Fold 0\n",
      "{'Start date': Timestamp('2021-07-18 00:00:00', freq='W-SUN'), 'End date': Timestamp('2021-07-25 00:00:00', freq='W-SUN'), 'Train': 169161, 'Train users': 31982, 'Train items': 6968, 'Test': 11257, 'Test users': 4190, 'Test items': 2342}\n"
     ]
    },
    {
     "data": {
      "application/vnd.jupyter.widget-view+json": {
       "model_id": "131a8d122f364a8689c6ad59280e40c4",
       "version_major": 2,
       "version_minor": 0
      },
      "text/plain": [
       "  0%|          | 0/31982 [00:00<?, ?it/s]"
      ]
     },
     "metadata": {},
     "output_type": "display_data"
    },
    {
     "name": "stdout",
     "output_type": "stream",
     "text": [
      "\n",
      "==================== Fold 1\n",
      "{'Start date': Timestamp('2021-07-25 00:00:00', freq='W-SUN'), 'End date': Timestamp('2021-08-01 00:00:00', freq='W-SUN'), 'Train': 185626, 'Train users': 34257, 'Train items': 7124, 'Test': 12258, 'Test users': 4592, 'Test items': 2368}\n"
     ]
    },
    {
     "data": {
      "application/vnd.jupyter.widget-view+json": {
       "model_id": "b330f2eaa7aa4aa892af000881e76968",
       "version_major": 2,
       "version_minor": 0
      },
      "text/plain": [
       "  0%|          | 0/34257 [00:00<?, ?it/s]"
      ]
     },
     "metadata": {},
     "output_type": "display_data"
    },
    {
     "name": "stdout",
     "output_type": "stream",
     "text": [
      "\n",
      "==================== Fold 2\n",
      "{'Start date': Timestamp('2021-08-01 00:00:00', freq='W-SUN'), 'End date': Timestamp('2021-08-08 00:00:00', freq='W-SUN'), 'Train': 203620, 'Train users': 36692, 'Train items': 7248, 'Test': 12410, 'Test users': 4719, 'Test items': 2308}\n"
     ]
    },
    {
     "data": {
      "application/vnd.jupyter.widget-view+json": {
       "model_id": "5b11c874c5194e5993acd2927a7c8464",
       "version_major": 2,
       "version_minor": 0
      },
      "text/plain": [
       "  0%|          | 0/36692 [00:00<?, ?it/s]"
      ]
     },
     "metadata": {},
     "output_type": "display_data"
    },
    {
     "name": "stdout",
     "output_type": "stream",
     "text": [
      "\n",
      "==================== Fold 3\n",
      "{'Start date': Timestamp('2021-08-08 00:00:00', freq='W-SUN'), 'End date': Timestamp('2021-08-15 00:00:00', freq='W-SUN'), 'Train': 221881, 'Train users': 39079, 'Train items': 7469, 'Test': 13046, 'Test users': 4855, 'Test items': 2431}\n"
     ]
    },
    {
     "data": {
      "application/vnd.jupyter.widget-view+json": {
       "model_id": "5dedcc6555314d15afef5a188cd92e6b",
       "version_major": 2,
       "version_minor": 0
      },
      "text/plain": [
       "  0%|          | 0/39079 [00:00<?, ?it/s]"
      ]
     },
     "metadata": {},
     "output_type": "display_data"
    },
    {
     "name": "stderr",
     "output_type": "stream",
     "text": [
      "\u001b[32m[I 2022-12-07 15:09:35,570]\u001b[0m Trial 17 finished with value: 0.013969082784523528 and parameters: {'n_users': 50, 'model_name': 'tfidf', 'all_days': True, 'days': 22}. Best is trial 15 with value: 0.014464203638734192.\u001b[0m\n"
     ]
    },
    {
     "name": "stdout",
     "output_type": "stream",
     "text": [
      "\n",
      "==================== Fold 0\n",
      "{'Start date': Timestamp('2021-07-18 00:00:00', freq='W-SUN'), 'End date': Timestamp('2021-07-25 00:00:00', freq='W-SUN'), 'Train': 169161, 'Train users': 31982, 'Train items': 6968, 'Test': 11257, 'Test users': 4190, 'Test items': 2342}\n"
     ]
    },
    {
     "data": {
      "application/vnd.jupyter.widget-view+json": {
       "model_id": "83a07a955040487ebfc08c2acbc8dc2f",
       "version_major": 2,
       "version_minor": 0
      },
      "text/plain": [
       "  0%|          | 0/31982 [00:00<?, ?it/s]"
      ]
     },
     "metadata": {},
     "output_type": "display_data"
    },
    {
     "name": "stdout",
     "output_type": "stream",
     "text": [
      "\n",
      "==================== Fold 1\n",
      "{'Start date': Timestamp('2021-07-25 00:00:00', freq='W-SUN'), 'End date': Timestamp('2021-08-01 00:00:00', freq='W-SUN'), 'Train': 185626, 'Train users': 34257, 'Train items': 7124, 'Test': 12258, 'Test users': 4592, 'Test items': 2368}\n"
     ]
    },
    {
     "data": {
      "application/vnd.jupyter.widget-view+json": {
       "model_id": "ccba248fe9404d04a8651c27a05ad55a",
       "version_major": 2,
       "version_minor": 0
      },
      "text/plain": [
       "  0%|          | 0/34257 [00:00<?, ?it/s]"
      ]
     },
     "metadata": {},
     "output_type": "display_data"
    },
    {
     "name": "stdout",
     "output_type": "stream",
     "text": [
      "\n",
      "==================== Fold 2\n",
      "{'Start date': Timestamp('2021-08-01 00:00:00', freq='W-SUN'), 'End date': Timestamp('2021-08-08 00:00:00', freq='W-SUN'), 'Train': 203620, 'Train users': 36692, 'Train items': 7248, 'Test': 12410, 'Test users': 4719, 'Test items': 2308}\n"
     ]
    },
    {
     "data": {
      "application/vnd.jupyter.widget-view+json": {
       "model_id": "7a638fda67ef43f0a7de521a46cb0ca2",
       "version_major": 2,
       "version_minor": 0
      },
      "text/plain": [
       "  0%|          | 0/36692 [00:00<?, ?it/s]"
      ]
     },
     "metadata": {},
     "output_type": "display_data"
    },
    {
     "name": "stdout",
     "output_type": "stream",
     "text": [
      "\n",
      "==================== Fold 3\n",
      "{'Start date': Timestamp('2021-08-08 00:00:00', freq='W-SUN'), 'End date': Timestamp('2021-08-15 00:00:00', freq='W-SUN'), 'Train': 221881, 'Train users': 39079, 'Train items': 7469, 'Test': 13046, 'Test users': 4855, 'Test items': 2431}\n"
     ]
    },
    {
     "data": {
      "application/vnd.jupyter.widget-view+json": {
       "model_id": "bb4decbabac94d41ac36954dc1ab24d6",
       "version_major": 2,
       "version_minor": 0
      },
      "text/plain": [
       "  0%|          | 0/39079 [00:00<?, ?it/s]"
      ]
     },
     "metadata": {},
     "output_type": "display_data"
    },
    {
     "name": "stderr",
     "output_type": "stream",
     "text": [
      "\u001b[32m[I 2022-12-07 15:09:45,752]\u001b[0m Trial 18 finished with value: 0.014699178717932006 and parameters: {'n_users': 43, 'model_name': 'tfidf', 'all_days': True, 'days': 21}. Best is trial 18 with value: 0.014699178717932006.\u001b[0m\n"
     ]
    },
    {
     "name": "stdout",
     "output_type": "stream",
     "text": [
      "\n",
      "==================== Fold 0\n",
      "{'Start date': Timestamp('2021-07-18 00:00:00', freq='W-SUN'), 'End date': Timestamp('2021-07-25 00:00:00', freq='W-SUN'), 'Train': 169161, 'Train users': 31982, 'Train items': 6968, 'Test': 11257, 'Test users': 4190, 'Test items': 2342}\n"
     ]
    },
    {
     "data": {
      "application/vnd.jupyter.widget-view+json": {
       "model_id": "e883e6c9478f4deca7febd75331fbcdc",
       "version_major": 2,
       "version_minor": 0
      },
      "text/plain": [
       "  0%|          | 0/31982 [00:00<?, ?it/s]"
      ]
     },
     "metadata": {},
     "output_type": "display_data"
    },
    {
     "name": "stdout",
     "output_type": "stream",
     "text": [
      "\n",
      "==================== Fold 1\n",
      "{'Start date': Timestamp('2021-07-25 00:00:00', freq='W-SUN'), 'End date': Timestamp('2021-08-01 00:00:00', freq='W-SUN'), 'Train': 185626, 'Train users': 34257, 'Train items': 7124, 'Test': 12258, 'Test users': 4592, 'Test items': 2368}\n"
     ]
    },
    {
     "data": {
      "application/vnd.jupyter.widget-view+json": {
       "model_id": "b950405e25884187a2cf75729abad14f",
       "version_major": 2,
       "version_minor": 0
      },
      "text/plain": [
       "  0%|          | 0/34257 [00:00<?, ?it/s]"
      ]
     },
     "metadata": {},
     "output_type": "display_data"
    },
    {
     "name": "stdout",
     "output_type": "stream",
     "text": [
      "\n",
      "==================== Fold 2\n",
      "{'Start date': Timestamp('2021-08-01 00:00:00', freq='W-SUN'), 'End date': Timestamp('2021-08-08 00:00:00', freq='W-SUN'), 'Train': 203620, 'Train users': 36692, 'Train items': 7248, 'Test': 12410, 'Test users': 4719, 'Test items': 2308}\n"
     ]
    },
    {
     "data": {
      "application/vnd.jupyter.widget-view+json": {
       "model_id": "29ad1261ca964e59a5161cdea5abf09e",
       "version_major": 2,
       "version_minor": 0
      },
      "text/plain": [
       "  0%|          | 0/36692 [00:00<?, ?it/s]"
      ]
     },
     "metadata": {},
     "output_type": "display_data"
    },
    {
     "name": "stdout",
     "output_type": "stream",
     "text": [
      "\n",
      "==================== Fold 3\n",
      "{'Start date': Timestamp('2021-08-08 00:00:00', freq='W-SUN'), 'End date': Timestamp('2021-08-15 00:00:00', freq='W-SUN'), 'Train': 221881, 'Train users': 39079, 'Train items': 7469, 'Test': 13046, 'Test users': 4855, 'Test items': 2431}\n"
     ]
    },
    {
     "data": {
      "application/vnd.jupyter.widget-view+json": {
       "model_id": "476e821230ac4719be4b3edd89b21533",
       "version_major": 2,
       "version_minor": 0
      },
      "text/plain": [
       "  0%|          | 0/39079 [00:00<?, ?it/s]"
      ]
     },
     "metadata": {},
     "output_type": "display_data"
    },
    {
     "name": "stderr",
     "output_type": "stream",
     "text": [
      "\u001b[32m[I 2022-12-07 15:09:55,821]\u001b[0m Trial 19 finished with value: 0.014960961103699032 and parameters: {'n_users': 41, 'model_name': 'tfidf', 'all_days': True, 'days': 13}. Best is trial 19 with value: 0.014960961103699032.\u001b[0m\n"
     ]
    },
    {
     "name": "stdout",
     "output_type": "stream",
     "text": [
      "\n",
      "==================== Fold 0\n",
      "{'Start date': Timestamp('2021-07-18 00:00:00', freq='W-SUN'), 'End date': Timestamp('2021-07-25 00:00:00', freq='W-SUN'), 'Train': 169161, 'Train users': 31982, 'Train items': 6968, 'Test': 11257, 'Test users': 4190, 'Test items': 2342}\n"
     ]
    },
    {
     "data": {
      "application/vnd.jupyter.widget-view+json": {
       "model_id": "4be3f9fc6691422bbcda9194368a190f",
       "version_major": 2,
       "version_minor": 0
      },
      "text/plain": [
       "  0%|          | 0/31982 [00:00<?, ?it/s]"
      ]
     },
     "metadata": {},
     "output_type": "display_data"
    },
    {
     "name": "stdout",
     "output_type": "stream",
     "text": [
      "\n",
      "==================== Fold 1\n",
      "{'Start date': Timestamp('2021-07-25 00:00:00', freq='W-SUN'), 'End date': Timestamp('2021-08-01 00:00:00', freq='W-SUN'), 'Train': 185626, 'Train users': 34257, 'Train items': 7124, 'Test': 12258, 'Test users': 4592, 'Test items': 2368}\n"
     ]
    },
    {
     "data": {
      "application/vnd.jupyter.widget-view+json": {
       "model_id": "ad8515eabde647d49cdb421934a63b90",
       "version_major": 2,
       "version_minor": 0
      },
      "text/plain": [
       "  0%|          | 0/34257 [00:00<?, ?it/s]"
      ]
     },
     "metadata": {},
     "output_type": "display_data"
    },
    {
     "name": "stdout",
     "output_type": "stream",
     "text": [
      "\n",
      "==================== Fold 2\n",
      "{'Start date': Timestamp('2021-08-01 00:00:00', freq='W-SUN'), 'End date': Timestamp('2021-08-08 00:00:00', freq='W-SUN'), 'Train': 203620, 'Train users': 36692, 'Train items': 7248, 'Test': 12410, 'Test users': 4719, 'Test items': 2308}\n"
     ]
    },
    {
     "data": {
      "application/vnd.jupyter.widget-view+json": {
       "model_id": "deee786a5efc43d8b06f2d7e564d9eb7",
       "version_major": 2,
       "version_minor": 0
      },
      "text/plain": [
       "  0%|          | 0/36692 [00:00<?, ?it/s]"
      ]
     },
     "metadata": {},
     "output_type": "display_data"
    },
    {
     "name": "stdout",
     "output_type": "stream",
     "text": [
      "\n",
      "==================== Fold 3\n",
      "{'Start date': Timestamp('2021-08-08 00:00:00', freq='W-SUN'), 'End date': Timestamp('2021-08-15 00:00:00', freq='W-SUN'), 'Train': 221881, 'Train users': 39079, 'Train items': 7469, 'Test': 13046, 'Test users': 4855, 'Test items': 2431}\n"
     ]
    },
    {
     "data": {
      "application/vnd.jupyter.widget-view+json": {
       "model_id": "a1b6a7d9c2014187bc504b874dd06b9d",
       "version_major": 2,
       "version_minor": 0
      },
      "text/plain": [
       "  0%|          | 0/39079 [00:00<?, ?it/s]"
      ]
     },
     "metadata": {},
     "output_type": "display_data"
    },
    {
     "name": "stderr",
     "output_type": "stream",
     "text": [
      "\u001b[32m[I 2022-12-07 15:10:07,129]\u001b[0m Trial 20 finished with value: 0.010482041465816144 and parameters: {'n_users': 40, 'model_name': 'bm25', 'all_days': False, 'days': 7}. Best is trial 19 with value: 0.014960961103699032.\u001b[0m\n"
     ]
    },
    {
     "name": "stdout",
     "output_type": "stream",
     "text": [
      "\n",
      "==================== Fold 0\n",
      "{'Start date': Timestamp('2021-07-18 00:00:00', freq='W-SUN'), 'End date': Timestamp('2021-07-25 00:00:00', freq='W-SUN'), 'Train': 169161, 'Train users': 31982, 'Train items': 6968, 'Test': 11257, 'Test users': 4190, 'Test items': 2342}\n"
     ]
    },
    {
     "data": {
      "application/vnd.jupyter.widget-view+json": {
       "model_id": "7f00dfa01c82471da42dc1286d3b5be9",
       "version_major": 2,
       "version_minor": 0
      },
      "text/plain": [
       "  0%|          | 0/31982 [00:00<?, ?it/s]"
      ]
     },
     "metadata": {},
     "output_type": "display_data"
    },
    {
     "name": "stdout",
     "output_type": "stream",
     "text": [
      "\n",
      "==================== Fold 1\n",
      "{'Start date': Timestamp('2021-07-25 00:00:00', freq='W-SUN'), 'End date': Timestamp('2021-08-01 00:00:00', freq='W-SUN'), 'Train': 185626, 'Train users': 34257, 'Train items': 7124, 'Test': 12258, 'Test users': 4592, 'Test items': 2368}\n"
     ]
    },
    {
     "data": {
      "application/vnd.jupyter.widget-view+json": {
       "model_id": "446bad160d3a40bda56c46403c343238",
       "version_major": 2,
       "version_minor": 0
      },
      "text/plain": [
       "  0%|          | 0/34257 [00:00<?, ?it/s]"
      ]
     },
     "metadata": {},
     "output_type": "display_data"
    },
    {
     "name": "stdout",
     "output_type": "stream",
     "text": [
      "\n",
      "==================== Fold 2\n",
      "{'Start date': Timestamp('2021-08-01 00:00:00', freq='W-SUN'), 'End date': Timestamp('2021-08-08 00:00:00', freq='W-SUN'), 'Train': 203620, 'Train users': 36692, 'Train items': 7248, 'Test': 12410, 'Test users': 4719, 'Test items': 2308}\n"
     ]
    },
    {
     "data": {
      "application/vnd.jupyter.widget-view+json": {
       "model_id": "3ee7bd4ea63747abb0a276c79fbb86d4",
       "version_major": 2,
       "version_minor": 0
      },
      "text/plain": [
       "  0%|          | 0/36692 [00:00<?, ?it/s]"
      ]
     },
     "metadata": {},
     "output_type": "display_data"
    },
    {
     "name": "stdout",
     "output_type": "stream",
     "text": [
      "\n",
      "==================== Fold 3\n",
      "{'Start date': Timestamp('2021-08-08 00:00:00', freq='W-SUN'), 'End date': Timestamp('2021-08-15 00:00:00', freq='W-SUN'), 'Train': 221881, 'Train users': 39079, 'Train items': 7469, 'Test': 13046, 'Test users': 4855, 'Test items': 2431}\n"
     ]
    },
    {
     "data": {
      "application/vnd.jupyter.widget-view+json": {
       "model_id": "1846b721933e428f9d83bcfd06e4be80",
       "version_major": 2,
       "version_minor": 0
      },
      "text/plain": [
       "  0%|          | 0/39079 [00:00<?, ?it/s]"
      ]
     },
     "metadata": {},
     "output_type": "display_data"
    },
    {
     "name": "stderr",
     "output_type": "stream",
     "text": [
      "\u001b[32m[I 2022-12-07 15:10:17,034]\u001b[0m Trial 21 finished with value: 0.015096600280861091 and parameters: {'n_users': 40, 'model_name': 'tfidf', 'all_days': True, 'days': 12}. Best is trial 21 with value: 0.015096600280861091.\u001b[0m\n"
     ]
    },
    {
     "name": "stdout",
     "output_type": "stream",
     "text": [
      "\n",
      "==================== Fold 0\n",
      "{'Start date': Timestamp('2021-07-18 00:00:00', freq='W-SUN'), 'End date': Timestamp('2021-07-25 00:00:00', freq='W-SUN'), 'Train': 169161, 'Train users': 31982, 'Train items': 6968, 'Test': 11257, 'Test users': 4190, 'Test items': 2342}\n"
     ]
    },
    {
     "data": {
      "application/vnd.jupyter.widget-view+json": {
       "model_id": "bbcd16e7fc3a452e89e966d73313d8d6",
       "version_major": 2,
       "version_minor": 0
      },
      "text/plain": [
       "  0%|          | 0/31982 [00:00<?, ?it/s]"
      ]
     },
     "metadata": {},
     "output_type": "display_data"
    },
    {
     "name": "stdout",
     "output_type": "stream",
     "text": [
      "\n",
      "==================== Fold 1\n",
      "{'Start date': Timestamp('2021-07-25 00:00:00', freq='W-SUN'), 'End date': Timestamp('2021-08-01 00:00:00', freq='W-SUN'), 'Train': 185626, 'Train users': 34257, 'Train items': 7124, 'Test': 12258, 'Test users': 4592, 'Test items': 2368}\n"
     ]
    },
    {
     "data": {
      "application/vnd.jupyter.widget-view+json": {
       "model_id": "9adb98f81431492e90dce19307051458",
       "version_major": 2,
       "version_minor": 0
      },
      "text/plain": [
       "  0%|          | 0/34257 [00:00<?, ?it/s]"
      ]
     },
     "metadata": {},
     "output_type": "display_data"
    },
    {
     "name": "stdout",
     "output_type": "stream",
     "text": [
      "\n",
      "==================== Fold 2\n",
      "{'Start date': Timestamp('2021-08-01 00:00:00', freq='W-SUN'), 'End date': Timestamp('2021-08-08 00:00:00', freq='W-SUN'), 'Train': 203620, 'Train users': 36692, 'Train items': 7248, 'Test': 12410, 'Test users': 4719, 'Test items': 2308}\n"
     ]
    },
    {
     "data": {
      "application/vnd.jupyter.widget-view+json": {
       "model_id": "70f05219cc684fd7b3d20c9fa8356e7e",
       "version_major": 2,
       "version_minor": 0
      },
      "text/plain": [
       "  0%|          | 0/36692 [00:00<?, ?it/s]"
      ]
     },
     "metadata": {},
     "output_type": "display_data"
    },
    {
     "name": "stdout",
     "output_type": "stream",
     "text": [
      "\n",
      "==================== Fold 3\n",
      "{'Start date': Timestamp('2021-08-08 00:00:00', freq='W-SUN'), 'End date': Timestamp('2021-08-15 00:00:00', freq='W-SUN'), 'Train': 221881, 'Train users': 39079, 'Train items': 7469, 'Test': 13046, 'Test users': 4855, 'Test items': 2431}\n"
     ]
    },
    {
     "data": {
      "application/vnd.jupyter.widget-view+json": {
       "model_id": "2d1859cd663a490992c31c849c9f1bcb",
       "version_major": 2,
       "version_minor": 0
      },
      "text/plain": [
       "  0%|          | 0/39079 [00:00<?, ?it/s]"
      ]
     },
     "metadata": {},
     "output_type": "display_data"
    },
    {
     "name": "stderr",
     "output_type": "stream",
     "text": [
      "\u001b[32m[I 2022-12-07 15:10:26,617]\u001b[0m Trial 22 finished with value: 0.015369363586006537 and parameters: {'n_users': 38, 'model_name': 'tfidf', 'all_days': True, 'days': 9}. Best is trial 22 with value: 0.015369363586006537.\u001b[0m\n"
     ]
    },
    {
     "name": "stdout",
     "output_type": "stream",
     "text": [
      "\n",
      "==================== Fold 0\n",
      "{'Start date': Timestamp('2021-07-18 00:00:00', freq='W-SUN'), 'End date': Timestamp('2021-07-25 00:00:00', freq='W-SUN'), 'Train': 169161, 'Train users': 31982, 'Train items': 6968, 'Test': 11257, 'Test users': 4190, 'Test items': 2342}\n"
     ]
    },
    {
     "data": {
      "application/vnd.jupyter.widget-view+json": {
       "model_id": "92395d36c143412bb8e90411a080db5d",
       "version_major": 2,
       "version_minor": 0
      },
      "text/plain": [
       "  0%|          | 0/31982 [00:00<?, ?it/s]"
      ]
     },
     "metadata": {},
     "output_type": "display_data"
    },
    {
     "name": "stdout",
     "output_type": "stream",
     "text": [
      "\n",
      "==================== Fold 1\n",
      "{'Start date': Timestamp('2021-07-25 00:00:00', freq='W-SUN'), 'End date': Timestamp('2021-08-01 00:00:00', freq='W-SUN'), 'Train': 185626, 'Train users': 34257, 'Train items': 7124, 'Test': 12258, 'Test users': 4592, 'Test items': 2368}\n"
     ]
    },
    {
     "data": {
      "application/vnd.jupyter.widget-view+json": {
       "model_id": "d91cb5effb904abf99cae36159029839",
       "version_major": 2,
       "version_minor": 0
      },
      "text/plain": [
       "  0%|          | 0/34257 [00:00<?, ?it/s]"
      ]
     },
     "metadata": {},
     "output_type": "display_data"
    },
    {
     "name": "stdout",
     "output_type": "stream",
     "text": [
      "\n",
      "==================== Fold 2\n",
      "{'Start date': Timestamp('2021-08-01 00:00:00', freq='W-SUN'), 'End date': Timestamp('2021-08-08 00:00:00', freq='W-SUN'), 'Train': 203620, 'Train users': 36692, 'Train items': 7248, 'Test': 12410, 'Test users': 4719, 'Test items': 2308}\n"
     ]
    },
    {
     "data": {
      "application/vnd.jupyter.widget-view+json": {
       "model_id": "8226ccf2200d46ab999d78d3c90482bd",
       "version_major": 2,
       "version_minor": 0
      },
      "text/plain": [
       "  0%|          | 0/36692 [00:00<?, ?it/s]"
      ]
     },
     "metadata": {},
     "output_type": "display_data"
    },
    {
     "name": "stdout",
     "output_type": "stream",
     "text": [
      "\n",
      "==================== Fold 3\n",
      "{'Start date': Timestamp('2021-08-08 00:00:00', freq='W-SUN'), 'End date': Timestamp('2021-08-15 00:00:00', freq='W-SUN'), 'Train': 221881, 'Train users': 39079, 'Train items': 7469, 'Test': 13046, 'Test users': 4855, 'Test items': 2431}\n"
     ]
    },
    {
     "data": {
      "application/vnd.jupyter.widget-view+json": {
       "model_id": "4ff7fe2d56ed43bbb4453938ea250470",
       "version_major": 2,
       "version_minor": 0
      },
      "text/plain": [
       "  0%|          | 0/39079 [00:00<?, ?it/s]"
      ]
     },
     "metadata": {},
     "output_type": "display_data"
    },
    {
     "name": "stderr",
     "output_type": "stream",
     "text": [
      "\u001b[32m[I 2022-12-07 15:10:37,305]\u001b[0m Trial 23 finished with value: 0.01071848669280935 and parameters: {'n_users': 37, 'model_name': 'bm25', 'all_days': False, 'days': 2}. Best is trial 22 with value: 0.015369363586006537.\u001b[0m\n"
     ]
    },
    {
     "name": "stdout",
     "output_type": "stream",
     "text": [
      "\n",
      "==================== Fold 0\n",
      "{'Start date': Timestamp('2021-07-18 00:00:00', freq='W-SUN'), 'End date': Timestamp('2021-07-25 00:00:00', freq='W-SUN'), 'Train': 169161, 'Train users': 31982, 'Train items': 6968, 'Test': 11257, 'Test users': 4190, 'Test items': 2342}\n"
     ]
    },
    {
     "data": {
      "application/vnd.jupyter.widget-view+json": {
       "model_id": "510c4a2fb5354befae38f1cb7fefee09",
       "version_major": 2,
       "version_minor": 0
      },
      "text/plain": [
       "  0%|          | 0/31982 [00:00<?, ?it/s]"
      ]
     },
     "metadata": {},
     "output_type": "display_data"
    },
    {
     "name": "stdout",
     "output_type": "stream",
     "text": [
      "\n",
      "==================== Fold 1\n",
      "{'Start date': Timestamp('2021-07-25 00:00:00', freq='W-SUN'), 'End date': Timestamp('2021-08-01 00:00:00', freq='W-SUN'), 'Train': 185626, 'Train users': 34257, 'Train items': 7124, 'Test': 12258, 'Test users': 4592, 'Test items': 2368}\n"
     ]
    },
    {
     "data": {
      "application/vnd.jupyter.widget-view+json": {
       "model_id": "fad4bbcf0f8d487d9cb2aa6c47121a9e",
       "version_major": 2,
       "version_minor": 0
      },
      "text/plain": [
       "  0%|          | 0/34257 [00:00<?, ?it/s]"
      ]
     },
     "metadata": {},
     "output_type": "display_data"
    },
    {
     "name": "stdout",
     "output_type": "stream",
     "text": [
      "\n",
      "==================== Fold 2\n",
      "{'Start date': Timestamp('2021-08-01 00:00:00', freq='W-SUN'), 'End date': Timestamp('2021-08-08 00:00:00', freq='W-SUN'), 'Train': 203620, 'Train users': 36692, 'Train items': 7248, 'Test': 12410, 'Test users': 4719, 'Test items': 2308}\n"
     ]
    },
    {
     "data": {
      "application/vnd.jupyter.widget-view+json": {
       "model_id": "e7439e1145894ea8902a66e2e215725d",
       "version_major": 2,
       "version_minor": 0
      },
      "text/plain": [
       "  0%|          | 0/36692 [00:00<?, ?it/s]"
      ]
     },
     "metadata": {},
     "output_type": "display_data"
    },
    {
     "name": "stdout",
     "output_type": "stream",
     "text": [
      "\n",
      "==================== Fold 3\n",
      "{'Start date': Timestamp('2021-08-08 00:00:00', freq='W-SUN'), 'End date': Timestamp('2021-08-15 00:00:00', freq='W-SUN'), 'Train': 221881, 'Train users': 39079, 'Train items': 7469, 'Test': 13046, 'Test users': 4855, 'Test items': 2431}\n"
     ]
    },
    {
     "data": {
      "application/vnd.jupyter.widget-view+json": {
       "model_id": "b3cd057cae7b490892ea7cdb17d825e1",
       "version_major": 2,
       "version_minor": 0
      },
      "text/plain": [
       "  0%|          | 0/39079 [00:00<?, ?it/s]"
      ]
     },
     "metadata": {},
     "output_type": "display_data"
    },
    {
     "name": "stderr",
     "output_type": "stream",
     "text": [
      "\u001b[32m[I 2022-12-07 15:10:44,990]\u001b[0m Trial 24 finished with value: 0.02213023780453928 and parameters: {'n_users': 21, 'model_name': 'cosine', 'all_days': True, 'days': 12}. Best is trial 24 with value: 0.02213023780453928.\u001b[0m\n"
     ]
    },
    {
     "name": "stdout",
     "output_type": "stream",
     "text": [
      "\n",
      "==================== Fold 0\n",
      "{'Start date': Timestamp('2021-07-18 00:00:00', freq='W-SUN'), 'End date': Timestamp('2021-07-25 00:00:00', freq='W-SUN'), 'Train': 169161, 'Train users': 31982, 'Train items': 6968, 'Test': 11257, 'Test users': 4190, 'Test items': 2342}\n"
     ]
    },
    {
     "data": {
      "application/vnd.jupyter.widget-view+json": {
       "model_id": "ca8156176f8246c6b5f80e9bcdf1b2ff",
       "version_major": 2,
       "version_minor": 0
      },
      "text/plain": [
       "  0%|          | 0/31982 [00:00<?, ?it/s]"
      ]
     },
     "metadata": {},
     "output_type": "display_data"
    },
    {
     "name": "stdout",
     "output_type": "stream",
     "text": [
      "\n",
      "==================== Fold 1\n",
      "{'Start date': Timestamp('2021-07-25 00:00:00', freq='W-SUN'), 'End date': Timestamp('2021-08-01 00:00:00', freq='W-SUN'), 'Train': 185626, 'Train users': 34257, 'Train items': 7124, 'Test': 12258, 'Test users': 4592, 'Test items': 2368}\n"
     ]
    },
    {
     "data": {
      "application/vnd.jupyter.widget-view+json": {
       "model_id": "9179e5b4df3945b5944cf71d542eb5c2",
       "version_major": 2,
       "version_minor": 0
      },
      "text/plain": [
       "  0%|          | 0/34257 [00:00<?, ?it/s]"
      ]
     },
     "metadata": {},
     "output_type": "display_data"
    },
    {
     "name": "stdout",
     "output_type": "stream",
     "text": [
      "\n",
      "==================== Fold 2\n",
      "{'Start date': Timestamp('2021-08-01 00:00:00', freq='W-SUN'), 'End date': Timestamp('2021-08-08 00:00:00', freq='W-SUN'), 'Train': 203620, 'Train users': 36692, 'Train items': 7248, 'Test': 12410, 'Test users': 4719, 'Test items': 2308}\n"
     ]
    },
    {
     "data": {
      "application/vnd.jupyter.widget-view+json": {
       "model_id": "a4a2a69ac04545a282dbd1ebbc02d7fb",
       "version_major": 2,
       "version_minor": 0
      },
      "text/plain": [
       "  0%|          | 0/36692 [00:00<?, ?it/s]"
      ]
     },
     "metadata": {},
     "output_type": "display_data"
    },
    {
     "name": "stdout",
     "output_type": "stream",
     "text": [
      "\n",
      "==================== Fold 3\n",
      "{'Start date': Timestamp('2021-08-08 00:00:00', freq='W-SUN'), 'End date': Timestamp('2021-08-15 00:00:00', freq='W-SUN'), 'Train': 221881, 'Train users': 39079, 'Train items': 7469, 'Test': 13046, 'Test users': 4855, 'Test items': 2431}\n"
     ]
    },
    {
     "data": {
      "application/vnd.jupyter.widget-view+json": {
       "model_id": "90ce85419f9f4f91afc05c37e66b1890",
       "version_major": 2,
       "version_minor": 0
      },
      "text/plain": [
       "  0%|          | 0/39079 [00:00<?, ?it/s]"
      ]
     },
     "metadata": {},
     "output_type": "display_data"
    },
    {
     "name": "stderr",
     "output_type": "stream",
     "text": [
      "\u001b[32m[I 2022-12-07 15:10:52,479]\u001b[0m Trial 25 finished with value: 0.022099263295418285 and parameters: {'n_users': 21, 'model_name': 'cosine', 'all_days': True, 'days': 8}. Best is trial 24 with value: 0.02213023780453928.\u001b[0m\n"
     ]
    },
    {
     "name": "stdout",
     "output_type": "stream",
     "text": [
      "\n",
      "==================== Fold 0\n",
      "{'Start date': Timestamp('2021-07-18 00:00:00', freq='W-SUN'), 'End date': Timestamp('2021-07-25 00:00:00', freq='W-SUN'), 'Train': 169161, 'Train users': 31982, 'Train items': 6968, 'Test': 11257, 'Test users': 4190, 'Test items': 2342}\n"
     ]
    },
    {
     "data": {
      "application/vnd.jupyter.widget-view+json": {
       "model_id": "9b59297c9da749a7b86e9f662f200d63",
       "version_major": 2,
       "version_minor": 0
      },
      "text/plain": [
       "  0%|          | 0/31982 [00:00<?, ?it/s]"
      ]
     },
     "metadata": {},
     "output_type": "display_data"
    },
    {
     "name": "stdout",
     "output_type": "stream",
     "text": [
      "\n",
      "==================== Fold 1\n",
      "{'Start date': Timestamp('2021-07-25 00:00:00', freq='W-SUN'), 'End date': Timestamp('2021-08-01 00:00:00', freq='W-SUN'), 'Train': 185626, 'Train users': 34257, 'Train items': 7124, 'Test': 12258, 'Test users': 4592, 'Test items': 2368}\n"
     ]
    },
    {
     "data": {
      "application/vnd.jupyter.widget-view+json": {
       "model_id": "300af24acc144661b005bd6427c10a80",
       "version_major": 2,
       "version_minor": 0
      },
      "text/plain": [
       "  0%|          | 0/34257 [00:00<?, ?it/s]"
      ]
     },
     "metadata": {},
     "output_type": "display_data"
    },
    {
     "name": "stdout",
     "output_type": "stream",
     "text": [
      "\n",
      "==================== Fold 2\n",
      "{'Start date': Timestamp('2021-08-01 00:00:00', freq='W-SUN'), 'End date': Timestamp('2021-08-08 00:00:00', freq='W-SUN'), 'Train': 203620, 'Train users': 36692, 'Train items': 7248, 'Test': 12410, 'Test users': 4719, 'Test items': 2308}\n"
     ]
    },
    {
     "data": {
      "application/vnd.jupyter.widget-view+json": {
       "model_id": "f698570be8cf4f0aa2e53dd33cf85844",
       "version_major": 2,
       "version_minor": 0
      },
      "text/plain": [
       "  0%|          | 0/36692 [00:00<?, ?it/s]"
      ]
     },
     "metadata": {},
     "output_type": "display_data"
    },
    {
     "name": "stdout",
     "output_type": "stream",
     "text": [
      "\n",
      "==================== Fold 3\n",
      "{'Start date': Timestamp('2021-08-08 00:00:00', freq='W-SUN'), 'End date': Timestamp('2021-08-15 00:00:00', freq='W-SUN'), 'Train': 221881, 'Train users': 39079, 'Train items': 7469, 'Test': 13046, 'Test users': 4855, 'Test items': 2431}\n"
     ]
    },
    {
     "data": {
      "application/vnd.jupyter.widget-view+json": {
       "model_id": "b86af9af075747f096edbf4777e4d5b0",
       "version_major": 2,
       "version_minor": 0
      },
      "text/plain": [
       "  0%|          | 0/39079 [00:00<?, ?it/s]"
      ]
     },
     "metadata": {},
     "output_type": "display_data"
    },
    {
     "name": "stderr",
     "output_type": "stream",
     "text": [
      "\u001b[32m[I 2022-12-07 15:11:00,173]\u001b[0m Trial 26 finished with value: 0.02210303505578016 and parameters: {'n_users': 21, 'model_name': 'cosine', 'all_days': True, 'days': 8}. Best is trial 24 with value: 0.02213023780453928.\u001b[0m\n"
     ]
    },
    {
     "name": "stdout",
     "output_type": "stream",
     "text": [
      "\n",
      "==================== Fold 0\n",
      "{'Start date': Timestamp('2021-07-18 00:00:00', freq='W-SUN'), 'End date': Timestamp('2021-07-25 00:00:00', freq='W-SUN'), 'Train': 169161, 'Train users': 31982, 'Train items': 6968, 'Test': 11257, 'Test users': 4190, 'Test items': 2342}\n"
     ]
    },
    {
     "data": {
      "application/vnd.jupyter.widget-view+json": {
       "model_id": "c565ba418b2f43fc9a79d35742d47c4e",
       "version_major": 2,
       "version_minor": 0
      },
      "text/plain": [
       "  0%|          | 0/31982 [00:00<?, ?it/s]"
      ]
     },
     "metadata": {},
     "output_type": "display_data"
    },
    {
     "name": "stdout",
     "output_type": "stream",
     "text": [
      "\n",
      "==================== Fold 1\n",
      "{'Start date': Timestamp('2021-07-25 00:00:00', freq='W-SUN'), 'End date': Timestamp('2021-08-01 00:00:00', freq='W-SUN'), 'Train': 185626, 'Train users': 34257, 'Train items': 7124, 'Test': 12258, 'Test users': 4592, 'Test items': 2368}\n"
     ]
    },
    {
     "data": {
      "application/vnd.jupyter.widget-view+json": {
       "model_id": "49e6f1b92d1f492daae53a0a2bed6976",
       "version_major": 2,
       "version_minor": 0
      },
      "text/plain": [
       "  0%|          | 0/34257 [00:00<?, ?it/s]"
      ]
     },
     "metadata": {},
     "output_type": "display_data"
    },
    {
     "name": "stdout",
     "output_type": "stream",
     "text": [
      "\n",
      "==================== Fold 2\n",
      "{'Start date': Timestamp('2021-08-01 00:00:00', freq='W-SUN'), 'End date': Timestamp('2021-08-08 00:00:00', freq='W-SUN'), 'Train': 203620, 'Train users': 36692, 'Train items': 7248, 'Test': 12410, 'Test users': 4719, 'Test items': 2308}\n"
     ]
    },
    {
     "data": {
      "application/vnd.jupyter.widget-view+json": {
       "model_id": "265e6002bf274723a2a3c7a9ca65005d",
       "version_major": 2,
       "version_minor": 0
      },
      "text/plain": [
       "  0%|          | 0/36692 [00:00<?, ?it/s]"
      ]
     },
     "metadata": {},
     "output_type": "display_data"
    },
    {
     "name": "stdout",
     "output_type": "stream",
     "text": [
      "\n",
      "==================== Fold 3\n",
      "{'Start date': Timestamp('2021-08-08 00:00:00', freq='W-SUN'), 'End date': Timestamp('2021-08-15 00:00:00', freq='W-SUN'), 'Train': 221881, 'Train users': 39079, 'Train items': 7469, 'Test': 13046, 'Test users': 4855, 'Test items': 2431}\n"
     ]
    },
    {
     "data": {
      "application/vnd.jupyter.widget-view+json": {
       "model_id": "8dd008b7b2354be89dc1bec79947a66a",
       "version_major": 2,
       "version_minor": 0
      },
      "text/plain": [
       "  0%|          | 0/39079 [00:00<?, ?it/s]"
      ]
     },
     "metadata": {},
     "output_type": "display_data"
    },
    {
     "name": "stderr",
     "output_type": "stream",
     "text": [
      "\u001b[32m[I 2022-12-07 15:11:07,563]\u001b[0m Trial 27 finished with value: 0.02214328523336606 and parameters: {'n_users': 21, 'model_name': 'cosine', 'all_days': True, 'days': 5}. Best is trial 27 with value: 0.02214328523336606.\u001b[0m\n"
     ]
    },
    {
     "name": "stdout",
     "output_type": "stream",
     "text": [
      "\n",
      "==================== Fold 0\n",
      "{'Start date': Timestamp('2021-07-18 00:00:00', freq='W-SUN'), 'End date': Timestamp('2021-07-25 00:00:00', freq='W-SUN'), 'Train': 169161, 'Train users': 31982, 'Train items': 6968, 'Test': 11257, 'Test users': 4190, 'Test items': 2342}\n"
     ]
    },
    {
     "data": {
      "application/vnd.jupyter.widget-view+json": {
       "model_id": "2a171eb051904477b4da76ba080c03da",
       "version_major": 2,
       "version_minor": 0
      },
      "text/plain": [
       "  0%|          | 0/31982 [00:00<?, ?it/s]"
      ]
     },
     "metadata": {},
     "output_type": "display_data"
    },
    {
     "name": "stdout",
     "output_type": "stream",
     "text": [
      "\n",
      "==================== Fold 1\n",
      "{'Start date': Timestamp('2021-07-25 00:00:00', freq='W-SUN'), 'End date': Timestamp('2021-08-01 00:00:00', freq='W-SUN'), 'Train': 185626, 'Train users': 34257, 'Train items': 7124, 'Test': 12258, 'Test users': 4592, 'Test items': 2368}\n"
     ]
    },
    {
     "data": {
      "application/vnd.jupyter.widget-view+json": {
       "model_id": "415fd7cc67d54d9ba87ecc7cae479346",
       "version_major": 2,
       "version_minor": 0
      },
      "text/plain": [
       "  0%|          | 0/34257 [00:00<?, ?it/s]"
      ]
     },
     "metadata": {},
     "output_type": "display_data"
    },
    {
     "name": "stdout",
     "output_type": "stream",
     "text": [
      "\n",
      "==================== Fold 2\n",
      "{'Start date': Timestamp('2021-08-01 00:00:00', freq='W-SUN'), 'End date': Timestamp('2021-08-08 00:00:00', freq='W-SUN'), 'Train': 203620, 'Train users': 36692, 'Train items': 7248, 'Test': 12410, 'Test users': 4719, 'Test items': 2308}\n"
     ]
    },
    {
     "data": {
      "application/vnd.jupyter.widget-view+json": {
       "model_id": "994928260f6f416fb80dbbad0b928717",
       "version_major": 2,
       "version_minor": 0
      },
      "text/plain": [
       "  0%|          | 0/36692 [00:00<?, ?it/s]"
      ]
     },
     "metadata": {},
     "output_type": "display_data"
    },
    {
     "name": "stdout",
     "output_type": "stream",
     "text": [
      "\n",
      "==================== Fold 3\n",
      "{'Start date': Timestamp('2021-08-08 00:00:00', freq='W-SUN'), 'End date': Timestamp('2021-08-15 00:00:00', freq='W-SUN'), 'Train': 221881, 'Train users': 39079, 'Train items': 7469, 'Test': 13046, 'Test users': 4855, 'Test items': 2431}\n"
     ]
    },
    {
     "data": {
      "application/vnd.jupyter.widget-view+json": {
       "model_id": "1439e802f08c46769d081b1408bee3b7",
       "version_major": 2,
       "version_minor": 0
      },
      "text/plain": [
       "  0%|          | 0/39079 [00:00<?, ?it/s]"
      ]
     },
     "metadata": {},
     "output_type": "display_data"
    },
    {
     "name": "stderr",
     "output_type": "stream",
     "text": [
      "\u001b[32m[I 2022-12-07 15:11:14,997]\u001b[0m Trial 28 finished with value: 0.022134804895558725 and parameters: {'n_users': 21, 'model_name': 'cosine', 'all_days': True, 'days': 4}. Best is trial 27 with value: 0.02214328523336606.\u001b[0m\n"
     ]
    },
    {
     "name": "stdout",
     "output_type": "stream",
     "text": [
      "\n",
      "==================== Fold 0\n",
      "{'Start date': Timestamp('2021-07-18 00:00:00', freq='W-SUN'), 'End date': Timestamp('2021-07-25 00:00:00', freq='W-SUN'), 'Train': 169161, 'Train users': 31982, 'Train items': 6968, 'Test': 11257, 'Test users': 4190, 'Test items': 2342}\n"
     ]
    },
    {
     "data": {
      "application/vnd.jupyter.widget-view+json": {
       "model_id": "ad75029e28224a70b50c009cd79ea9b6",
       "version_major": 2,
       "version_minor": 0
      },
      "text/plain": [
       "  0%|          | 0/31982 [00:00<?, ?it/s]"
      ]
     },
     "metadata": {},
     "output_type": "display_data"
    },
    {
     "name": "stdout",
     "output_type": "stream",
     "text": [
      "\n",
      "==================== Fold 1\n",
      "{'Start date': Timestamp('2021-07-25 00:00:00', freq='W-SUN'), 'End date': Timestamp('2021-08-01 00:00:00', freq='W-SUN'), 'Train': 185626, 'Train users': 34257, 'Train items': 7124, 'Test': 12258, 'Test users': 4592, 'Test items': 2368}\n"
     ]
    },
    {
     "data": {
      "application/vnd.jupyter.widget-view+json": {
       "model_id": "a96d975c38794c1fa94cdeb4853510bd",
       "version_major": 2,
       "version_minor": 0
      },
      "text/plain": [
       "  0%|          | 0/34257 [00:00<?, ?it/s]"
      ]
     },
     "metadata": {},
     "output_type": "display_data"
    },
    {
     "name": "stdout",
     "output_type": "stream",
     "text": [
      "\n",
      "==================== Fold 2\n",
      "{'Start date': Timestamp('2021-08-01 00:00:00', freq='W-SUN'), 'End date': Timestamp('2021-08-08 00:00:00', freq='W-SUN'), 'Train': 203620, 'Train users': 36692, 'Train items': 7248, 'Test': 12410, 'Test users': 4719, 'Test items': 2308}\n"
     ]
    },
    {
     "data": {
      "application/vnd.jupyter.widget-view+json": {
       "model_id": "aeb60b64ac5041f48062a4b9a4b82c0b",
       "version_major": 2,
       "version_minor": 0
      },
      "text/plain": [
       "  0%|          | 0/36692 [00:00<?, ?it/s]"
      ]
     },
     "metadata": {},
     "output_type": "display_data"
    },
    {
     "name": "stdout",
     "output_type": "stream",
     "text": [
      "\n",
      "==================== Fold 3\n",
      "{'Start date': Timestamp('2021-08-08 00:00:00', freq='W-SUN'), 'End date': Timestamp('2021-08-15 00:00:00', freq='W-SUN'), 'Train': 221881, 'Train users': 39079, 'Train items': 7469, 'Test': 13046, 'Test users': 4855, 'Test items': 2431}\n"
     ]
    },
    {
     "data": {
      "application/vnd.jupyter.widget-view+json": {
       "model_id": "278d92fc9e6d46feb7d8b845ab184243",
       "version_major": 2,
       "version_minor": 0
      },
      "text/plain": [
       "  0%|          | 0/39079 [00:00<?, ?it/s]"
      ]
     },
     "metadata": {},
     "output_type": "display_data"
    },
    {
     "name": "stderr",
     "output_type": "stream",
     "text": [
      "\u001b[32m[I 2022-12-07 15:11:22,415]\u001b[0m Trial 29 finished with value: 0.0232005199520116 and parameters: {'n_users': 21, 'model_name': 'cosine', 'all_days': False, 'days': 2}. Best is trial 29 with value: 0.0232005199520116.\u001b[0m\n"
     ]
    },
    {
     "name": "stdout",
     "output_type": "stream",
     "text": [
      "\n",
      "==================== Fold 0\n",
      "{'Start date': Timestamp('2021-07-18 00:00:00', freq='W-SUN'), 'End date': Timestamp('2021-07-25 00:00:00', freq='W-SUN'), 'Train': 169161, 'Train users': 31982, 'Train items': 6968, 'Test': 11257, 'Test users': 4190, 'Test items': 2342}\n"
     ]
    },
    {
     "data": {
      "application/vnd.jupyter.widget-view+json": {
       "model_id": "d662797760dc4cc1aa97efe37ae1a1fe",
       "version_major": 2,
       "version_minor": 0
      },
      "text/plain": [
       "  0%|          | 0/31982 [00:00<?, ?it/s]"
      ]
     },
     "metadata": {},
     "output_type": "display_data"
    },
    {
     "name": "stdout",
     "output_type": "stream",
     "text": [
      "\n",
      "==================== Fold 1\n",
      "{'Start date': Timestamp('2021-07-25 00:00:00', freq='W-SUN'), 'End date': Timestamp('2021-08-01 00:00:00', freq='W-SUN'), 'Train': 185626, 'Train users': 34257, 'Train items': 7124, 'Test': 12258, 'Test users': 4592, 'Test items': 2368}\n"
     ]
    },
    {
     "data": {
      "application/vnd.jupyter.widget-view+json": {
       "model_id": "6708f69a47b14ddbb27c694f28ca22d4",
       "version_major": 2,
       "version_minor": 0
      },
      "text/plain": [
       "  0%|          | 0/34257 [00:00<?, ?it/s]"
      ]
     },
     "metadata": {},
     "output_type": "display_data"
    },
    {
     "name": "stdout",
     "output_type": "stream",
     "text": [
      "\n",
      "==================== Fold 2\n",
      "{'Start date': Timestamp('2021-08-01 00:00:00', freq='W-SUN'), 'End date': Timestamp('2021-08-08 00:00:00', freq='W-SUN'), 'Train': 203620, 'Train users': 36692, 'Train items': 7248, 'Test': 12410, 'Test users': 4719, 'Test items': 2308}\n"
     ]
    },
    {
     "data": {
      "application/vnd.jupyter.widget-view+json": {
       "model_id": "47cb8349327e452f90c6510a9ab04536",
       "version_major": 2,
       "version_minor": 0
      },
      "text/plain": [
       "  0%|          | 0/36692 [00:00<?, ?it/s]"
      ]
     },
     "metadata": {},
     "output_type": "display_data"
    },
    {
     "name": "stdout",
     "output_type": "stream",
     "text": [
      "\n",
      "==================== Fold 3\n",
      "{'Start date': Timestamp('2021-08-08 00:00:00', freq='W-SUN'), 'End date': Timestamp('2021-08-15 00:00:00', freq='W-SUN'), 'Train': 221881, 'Train users': 39079, 'Train items': 7469, 'Test': 13046, 'Test users': 4855, 'Test items': 2431}\n"
     ]
    },
    {
     "data": {
      "application/vnd.jupyter.widget-view+json": {
       "model_id": "a8d289752b364829b8aa7f1194d43b0c",
       "version_major": 2,
       "version_minor": 0
      },
      "text/plain": [
       "  0%|          | 0/39079 [00:00<?, ?it/s]"
      ]
     },
     "metadata": {},
     "output_type": "display_data"
    },
    {
     "name": "stderr",
     "output_type": "stream",
     "text": [
      "\u001b[32m[I 2022-12-07 15:11:29,700]\u001b[0m Trial 30 finished with value: 0.02504782723814657 and parameters: {'n_users': 16, 'model_name': 'cosine', 'all_days': False, 'days': 1}. Best is trial 30 with value: 0.02504782723814657.\u001b[0m\n"
     ]
    },
    {
     "name": "stdout",
     "output_type": "stream",
     "text": [
      "\n",
      "==================== Fold 0\n",
      "{'Start date': Timestamp('2021-07-18 00:00:00', freq='W-SUN'), 'End date': Timestamp('2021-07-25 00:00:00', freq='W-SUN'), 'Train': 169161, 'Train users': 31982, 'Train items': 6968, 'Test': 11257, 'Test users': 4190, 'Test items': 2342}\n"
     ]
    },
    {
     "data": {
      "application/vnd.jupyter.widget-view+json": {
       "model_id": "963ca4f8e1194d84bb3ef90d7a6dc8e6",
       "version_major": 2,
       "version_minor": 0
      },
      "text/plain": [
       "  0%|          | 0/31982 [00:00<?, ?it/s]"
      ]
     },
     "metadata": {},
     "output_type": "display_data"
    },
    {
     "name": "stdout",
     "output_type": "stream",
     "text": [
      "\n",
      "==================== Fold 1\n",
      "{'Start date': Timestamp('2021-07-25 00:00:00', freq='W-SUN'), 'End date': Timestamp('2021-08-01 00:00:00', freq='W-SUN'), 'Train': 185626, 'Train users': 34257, 'Train items': 7124, 'Test': 12258, 'Test users': 4592, 'Test items': 2368}\n"
     ]
    },
    {
     "data": {
      "application/vnd.jupyter.widget-view+json": {
       "model_id": "9513cb95f995476cafbcfc4835b3aa33",
       "version_major": 2,
       "version_minor": 0
      },
      "text/plain": [
       "  0%|          | 0/34257 [00:00<?, ?it/s]"
      ]
     },
     "metadata": {},
     "output_type": "display_data"
    },
    {
     "name": "stdout",
     "output_type": "stream",
     "text": [
      "\n",
      "==================== Fold 2\n",
      "{'Start date': Timestamp('2021-08-01 00:00:00', freq='W-SUN'), 'End date': Timestamp('2021-08-08 00:00:00', freq='W-SUN'), 'Train': 203620, 'Train users': 36692, 'Train items': 7248, 'Test': 12410, 'Test users': 4719, 'Test items': 2308}\n"
     ]
    },
    {
     "data": {
      "application/vnd.jupyter.widget-view+json": {
       "model_id": "4f0bbaf7f7fc4dddaae14cdd3bd144e1",
       "version_major": 2,
       "version_minor": 0
      },
      "text/plain": [
       "  0%|          | 0/36692 [00:00<?, ?it/s]"
      ]
     },
     "metadata": {},
     "output_type": "display_data"
    },
    {
     "name": "stdout",
     "output_type": "stream",
     "text": [
      "\n",
      "==================== Fold 3\n",
      "{'Start date': Timestamp('2021-08-08 00:00:00', freq='W-SUN'), 'End date': Timestamp('2021-08-15 00:00:00', freq='W-SUN'), 'Train': 221881, 'Train users': 39079, 'Train items': 7469, 'Test': 13046, 'Test users': 4855, 'Test items': 2431}\n"
     ]
    },
    {
     "data": {
      "application/vnd.jupyter.widget-view+json": {
       "model_id": "2b12555c7a524480b299f8204ac9761e",
       "version_major": 2,
       "version_minor": 0
      },
      "text/plain": [
       "  0%|          | 0/39079 [00:00<?, ?it/s]"
      ]
     },
     "metadata": {},
     "output_type": "display_data"
    },
    {
     "name": "stderr",
     "output_type": "stream",
     "text": [
      "\u001b[32m[I 2022-12-07 15:11:36,851]\u001b[0m Trial 31 finished with value: 0.024475720374134233 and parameters: {'n_users': 17, 'model_name': 'cosine', 'all_days': False, 'days': 1}. Best is trial 30 with value: 0.02504782723814657.\u001b[0m\n"
     ]
    },
    {
     "name": "stdout",
     "output_type": "stream",
     "text": [
      "\n",
      "==================== Fold 0\n",
      "{'Start date': Timestamp('2021-07-18 00:00:00', freq='W-SUN'), 'End date': Timestamp('2021-07-25 00:00:00', freq='W-SUN'), 'Train': 169161, 'Train users': 31982, 'Train items': 6968, 'Test': 11257, 'Test users': 4190, 'Test items': 2342}\n"
     ]
    },
    {
     "data": {
      "application/vnd.jupyter.widget-view+json": {
       "model_id": "2e82744f778d408db0358b9c7711c5db",
       "version_major": 2,
       "version_minor": 0
      },
      "text/plain": [
       "  0%|          | 0/31982 [00:00<?, ?it/s]"
      ]
     },
     "metadata": {},
     "output_type": "display_data"
    },
    {
     "name": "stdout",
     "output_type": "stream",
     "text": [
      "\n",
      "==================== Fold 1\n",
      "{'Start date': Timestamp('2021-07-25 00:00:00', freq='W-SUN'), 'End date': Timestamp('2021-08-01 00:00:00', freq='W-SUN'), 'Train': 185626, 'Train users': 34257, 'Train items': 7124, 'Test': 12258, 'Test users': 4592, 'Test items': 2368}\n"
     ]
    },
    {
     "data": {
      "application/vnd.jupyter.widget-view+json": {
       "model_id": "616f39948d0244ff9dae810ec8554ab7",
       "version_major": 2,
       "version_minor": 0
      },
      "text/plain": [
       "  0%|          | 0/34257 [00:00<?, ?it/s]"
      ]
     },
     "metadata": {},
     "output_type": "display_data"
    },
    {
     "name": "stdout",
     "output_type": "stream",
     "text": [
      "\n",
      "==================== Fold 2\n",
      "{'Start date': Timestamp('2021-08-01 00:00:00', freq='W-SUN'), 'End date': Timestamp('2021-08-08 00:00:00', freq='W-SUN'), 'Train': 203620, 'Train users': 36692, 'Train items': 7248, 'Test': 12410, 'Test users': 4719, 'Test items': 2308}\n"
     ]
    },
    {
     "data": {
      "application/vnd.jupyter.widget-view+json": {
       "model_id": "b097b5fd00154d34aa7986cf7ea9d358",
       "version_major": 2,
       "version_minor": 0
      },
      "text/plain": [
       "  0%|          | 0/36692 [00:00<?, ?it/s]"
      ]
     },
     "metadata": {},
     "output_type": "display_data"
    },
    {
     "name": "stdout",
     "output_type": "stream",
     "text": [
      "\n",
      "==================== Fold 3\n",
      "{'Start date': Timestamp('2021-08-08 00:00:00', freq='W-SUN'), 'End date': Timestamp('2021-08-15 00:00:00', freq='W-SUN'), 'Train': 221881, 'Train users': 39079, 'Train items': 7469, 'Test': 13046, 'Test users': 4855, 'Test items': 2431}\n"
     ]
    },
    {
     "data": {
      "application/vnd.jupyter.widget-view+json": {
       "model_id": "38c12ea7d56f49b0bc3b280c6f9d2d2c",
       "version_major": 2,
       "version_minor": 0
      },
      "text/plain": [
       "  0%|          | 0/39079 [00:00<?, ?it/s]"
      ]
     },
     "metadata": {},
     "output_type": "display_data"
    },
    {
     "name": "stderr",
     "output_type": "stream",
     "text": [
      "\u001b[32m[I 2022-12-07 15:11:43,925]\u001b[0m Trial 32 finished with value: 0.024942559601656165 and parameters: {'n_users': 16, 'model_name': 'cosine', 'all_days': False, 'days': 1}. Best is trial 30 with value: 0.02504782723814657.\u001b[0m\n"
     ]
    },
    {
     "name": "stdout",
     "output_type": "stream",
     "text": [
      "\n",
      "==================== Fold 0\n",
      "{'Start date': Timestamp('2021-07-18 00:00:00', freq='W-SUN'), 'End date': Timestamp('2021-07-25 00:00:00', freq='W-SUN'), 'Train': 169161, 'Train users': 31982, 'Train items': 6968, 'Test': 11257, 'Test users': 4190, 'Test items': 2342}\n"
     ]
    },
    {
     "data": {
      "application/vnd.jupyter.widget-view+json": {
       "model_id": "2712426330934b2b8599b75c0ea69d06",
       "version_major": 2,
       "version_minor": 0
      },
      "text/plain": [
       "  0%|          | 0/31982 [00:00<?, ?it/s]"
      ]
     },
     "metadata": {},
     "output_type": "display_data"
    },
    {
     "name": "stdout",
     "output_type": "stream",
     "text": [
      "\n",
      "==================== Fold 1\n",
      "{'Start date': Timestamp('2021-07-25 00:00:00', freq='W-SUN'), 'End date': Timestamp('2021-08-01 00:00:00', freq='W-SUN'), 'Train': 185626, 'Train users': 34257, 'Train items': 7124, 'Test': 12258, 'Test users': 4592, 'Test items': 2368}\n"
     ]
    },
    {
     "data": {
      "application/vnd.jupyter.widget-view+json": {
       "model_id": "b4d2ffe75b0340f28a5538ec368f528b",
       "version_major": 2,
       "version_minor": 0
      },
      "text/plain": [
       "  0%|          | 0/34257 [00:00<?, ?it/s]"
      ]
     },
     "metadata": {},
     "output_type": "display_data"
    },
    {
     "name": "stdout",
     "output_type": "stream",
     "text": [
      "\n",
      "==================== Fold 2\n",
      "{'Start date': Timestamp('2021-08-01 00:00:00', freq='W-SUN'), 'End date': Timestamp('2021-08-08 00:00:00', freq='W-SUN'), 'Train': 203620, 'Train users': 36692, 'Train items': 7248, 'Test': 12410, 'Test users': 4719, 'Test items': 2308}\n"
     ]
    },
    {
     "data": {
      "application/vnd.jupyter.widget-view+json": {
       "model_id": "b7db696bb020462388469c3ce42e5860",
       "version_major": 2,
       "version_minor": 0
      },
      "text/plain": [
       "  0%|          | 0/36692 [00:00<?, ?it/s]"
      ]
     },
     "metadata": {},
     "output_type": "display_data"
    },
    {
     "name": "stdout",
     "output_type": "stream",
     "text": [
      "\n",
      "==================== Fold 3\n",
      "{'Start date': Timestamp('2021-08-08 00:00:00', freq='W-SUN'), 'End date': Timestamp('2021-08-15 00:00:00', freq='W-SUN'), 'Train': 221881, 'Train users': 39079, 'Train items': 7469, 'Test': 13046, 'Test users': 4855, 'Test items': 2431}\n"
     ]
    },
    {
     "data": {
      "application/vnd.jupyter.widget-view+json": {
       "model_id": "edda6c31bbcd46199ff052ebfdab64f1",
       "version_major": 2,
       "version_minor": 0
      },
      "text/plain": [
       "  0%|          | 0/39079 [00:00<?, ?it/s]"
      ]
     },
     "metadata": {},
     "output_type": "display_data"
    },
    {
     "name": "stderr",
     "output_type": "stream",
     "text": [
      "\u001b[32m[I 2022-12-07 15:11:51,053]\u001b[0m Trial 33 finished with value: 0.024591617815350207 and parameters: {'n_users': 16, 'model_name': 'cosine', 'all_days': False, 'days': 28}. Best is trial 30 with value: 0.02504782723814657.\u001b[0m\n"
     ]
    },
    {
     "name": "stdout",
     "output_type": "stream",
     "text": [
      "\n",
      "==================== Fold 0\n",
      "{'Start date': Timestamp('2021-07-18 00:00:00', freq='W-SUN'), 'End date': Timestamp('2021-07-25 00:00:00', freq='W-SUN'), 'Train': 169161, 'Train users': 31982, 'Train items': 6968, 'Test': 11257, 'Test users': 4190, 'Test items': 2342}\n"
     ]
    },
    {
     "data": {
      "application/vnd.jupyter.widget-view+json": {
       "model_id": "d3443eac819242f582d8469762405b23",
       "version_major": 2,
       "version_minor": 0
      },
      "text/plain": [
       "  0%|          | 0/31982 [00:00<?, ?it/s]"
      ]
     },
     "metadata": {},
     "output_type": "display_data"
    },
    {
     "name": "stdout",
     "output_type": "stream",
     "text": [
      "\n",
      "==================== Fold 1\n",
      "{'Start date': Timestamp('2021-07-25 00:00:00', freq='W-SUN'), 'End date': Timestamp('2021-08-01 00:00:00', freq='W-SUN'), 'Train': 185626, 'Train users': 34257, 'Train items': 7124, 'Test': 12258, 'Test users': 4592, 'Test items': 2368}\n"
     ]
    },
    {
     "data": {
      "application/vnd.jupyter.widget-view+json": {
       "model_id": "7f3627c6f270412c9f249ec5847b06ba",
       "version_major": 2,
       "version_minor": 0
      },
      "text/plain": [
       "  0%|          | 0/34257 [00:00<?, ?it/s]"
      ]
     },
     "metadata": {},
     "output_type": "display_data"
    },
    {
     "name": "stdout",
     "output_type": "stream",
     "text": [
      "\n",
      "==================== Fold 2\n",
      "{'Start date': Timestamp('2021-08-01 00:00:00', freq='W-SUN'), 'End date': Timestamp('2021-08-08 00:00:00', freq='W-SUN'), 'Train': 203620, 'Train users': 36692, 'Train items': 7248, 'Test': 12410, 'Test users': 4719, 'Test items': 2308}\n"
     ]
    },
    {
     "data": {
      "application/vnd.jupyter.widget-view+json": {
       "model_id": "4b2a41267ef94ef093f7b3d7b0c3e6f7",
       "version_major": 2,
       "version_minor": 0
      },
      "text/plain": [
       "  0%|          | 0/36692 [00:00<?, ?it/s]"
      ]
     },
     "metadata": {},
     "output_type": "display_data"
    },
    {
     "name": "stdout",
     "output_type": "stream",
     "text": [
      "\n",
      "==================== Fold 3\n",
      "{'Start date': Timestamp('2021-08-08 00:00:00', freq='W-SUN'), 'End date': Timestamp('2021-08-15 00:00:00', freq='W-SUN'), 'Train': 221881, 'Train users': 39079, 'Train items': 7469, 'Test': 13046, 'Test users': 4855, 'Test items': 2431}\n"
     ]
    },
    {
     "data": {
      "application/vnd.jupyter.widget-view+json": {
       "model_id": "a4d50b434f2e46939963fea7f7889889",
       "version_major": 2,
       "version_minor": 0
      },
      "text/plain": [
       "  0%|          | 0/39079 [00:00<?, ?it/s]"
      ]
     },
     "metadata": {},
     "output_type": "display_data"
    },
    {
     "name": "stderr",
     "output_type": "stream",
     "text": [
      "\u001b[32m[I 2022-12-07 15:11:58,215]\u001b[0m Trial 34 finished with value: 0.025197755467190837 and parameters: {'n_users': 15, 'model_name': 'cosine', 'all_days': False, 'days': 26}. Best is trial 34 with value: 0.025197755467190837.\u001b[0m\n"
     ]
    },
    {
     "name": "stdout",
     "output_type": "stream",
     "text": [
      "\n",
      "==================== Fold 0\n",
      "{'Start date': Timestamp('2021-07-18 00:00:00', freq='W-SUN'), 'End date': Timestamp('2021-07-25 00:00:00', freq='W-SUN'), 'Train': 169161, 'Train users': 31982, 'Train items': 6968, 'Test': 11257, 'Test users': 4190, 'Test items': 2342}\n"
     ]
    },
    {
     "data": {
      "application/vnd.jupyter.widget-view+json": {
       "model_id": "f706c0ca4a8a48e393eeeafac1c646ca",
       "version_major": 2,
       "version_minor": 0
      },
      "text/plain": [
       "  0%|          | 0/31982 [00:00<?, ?it/s]"
      ]
     },
     "metadata": {},
     "output_type": "display_data"
    },
    {
     "name": "stdout",
     "output_type": "stream",
     "text": [
      "\n",
      "==================== Fold 1\n",
      "{'Start date': Timestamp('2021-07-25 00:00:00', freq='W-SUN'), 'End date': Timestamp('2021-08-01 00:00:00', freq='W-SUN'), 'Train': 185626, 'Train users': 34257, 'Train items': 7124, 'Test': 12258, 'Test users': 4592, 'Test items': 2368}\n"
     ]
    },
    {
     "data": {
      "application/vnd.jupyter.widget-view+json": {
       "model_id": "28d8f6cdeda14376916390d7d55f5ce7",
       "version_major": 2,
       "version_minor": 0
      },
      "text/plain": [
       "  0%|          | 0/34257 [00:00<?, ?it/s]"
      ]
     },
     "metadata": {},
     "output_type": "display_data"
    },
    {
     "name": "stdout",
     "output_type": "stream",
     "text": [
      "\n",
      "==================== Fold 2\n",
      "{'Start date': Timestamp('2021-08-01 00:00:00', freq='W-SUN'), 'End date': Timestamp('2021-08-08 00:00:00', freq='W-SUN'), 'Train': 203620, 'Train users': 36692, 'Train items': 7248, 'Test': 12410, 'Test users': 4719, 'Test items': 2308}\n"
     ]
    },
    {
     "data": {
      "application/vnd.jupyter.widget-view+json": {
       "model_id": "21154c6b08014eed8673419229faa1bb",
       "version_major": 2,
       "version_minor": 0
      },
      "text/plain": [
       "  0%|          | 0/36692 [00:00<?, ?it/s]"
      ]
     },
     "metadata": {},
     "output_type": "display_data"
    },
    {
     "name": "stdout",
     "output_type": "stream",
     "text": [
      "\n",
      "==================== Fold 3\n",
      "{'Start date': Timestamp('2021-08-08 00:00:00', freq='W-SUN'), 'End date': Timestamp('2021-08-15 00:00:00', freq='W-SUN'), 'Train': 221881, 'Train users': 39079, 'Train items': 7469, 'Test': 13046, 'Test users': 4855, 'Test items': 2431}\n"
     ]
    },
    {
     "data": {
      "application/vnd.jupyter.widget-view+json": {
       "model_id": "3ae2d9297006475a998d8c4d9bc9fa59",
       "version_major": 2,
       "version_minor": 0
      },
      "text/plain": [
       "  0%|          | 0/39079 [00:00<?, ?it/s]"
      ]
     },
     "metadata": {},
     "output_type": "display_data"
    },
    {
     "name": "stderr",
     "output_type": "stream",
     "text": [
      "\u001b[32m[I 2022-12-07 15:12:05,305]\u001b[0m Trial 35 finished with value: 0.0261264237344805 and parameters: {'n_users': 14, 'model_name': 'cosine', 'all_days': False, 'days': 17}. Best is trial 35 with value: 0.0261264237344805.\u001b[0m\n"
     ]
    },
    {
     "name": "stdout",
     "output_type": "stream",
     "text": [
      "\n",
      "==================== Fold 0\n",
      "{'Start date': Timestamp('2021-07-18 00:00:00', freq='W-SUN'), 'End date': Timestamp('2021-07-25 00:00:00', freq='W-SUN'), 'Train': 169161, 'Train users': 31982, 'Train items': 6968, 'Test': 11257, 'Test users': 4190, 'Test items': 2342}\n"
     ]
    },
    {
     "data": {
      "application/vnd.jupyter.widget-view+json": {
       "model_id": "4dc65efa540a4c5381ff04cb43144989",
       "version_major": 2,
       "version_minor": 0
      },
      "text/plain": [
       "  0%|          | 0/31982 [00:00<?, ?it/s]"
      ]
     },
     "metadata": {},
     "output_type": "display_data"
    },
    {
     "name": "stdout",
     "output_type": "stream",
     "text": [
      "\n",
      "==================== Fold 1\n",
      "{'Start date': Timestamp('2021-07-25 00:00:00', freq='W-SUN'), 'End date': Timestamp('2021-08-01 00:00:00', freq='W-SUN'), 'Train': 185626, 'Train users': 34257, 'Train items': 7124, 'Test': 12258, 'Test users': 4592, 'Test items': 2368}\n"
     ]
    },
    {
     "data": {
      "application/vnd.jupyter.widget-view+json": {
       "model_id": "db064b8bf0d04dd686e7801189421ac7",
       "version_major": 2,
       "version_minor": 0
      },
      "text/plain": [
       "  0%|          | 0/34257 [00:00<?, ?it/s]"
      ]
     },
     "metadata": {},
     "output_type": "display_data"
    },
    {
     "name": "stdout",
     "output_type": "stream",
     "text": [
      "\n",
      "==================== Fold 2\n",
      "{'Start date': Timestamp('2021-08-01 00:00:00', freq='W-SUN'), 'End date': Timestamp('2021-08-08 00:00:00', freq='W-SUN'), 'Train': 203620, 'Train users': 36692, 'Train items': 7248, 'Test': 12410, 'Test users': 4719, 'Test items': 2308}\n"
     ]
    },
    {
     "data": {
      "application/vnd.jupyter.widget-view+json": {
       "model_id": "eec0e94237984b7e815276622ef7ecb9",
       "version_major": 2,
       "version_minor": 0
      },
      "text/plain": [
       "  0%|          | 0/36692 [00:00<?, ?it/s]"
      ]
     },
     "metadata": {},
     "output_type": "display_data"
    },
    {
     "name": "stdout",
     "output_type": "stream",
     "text": [
      "\n",
      "==================== Fold 3\n",
      "{'Start date': Timestamp('2021-08-08 00:00:00', freq='W-SUN'), 'End date': Timestamp('2021-08-15 00:00:00', freq='W-SUN'), 'Train': 221881, 'Train users': 39079, 'Train items': 7469, 'Test': 13046, 'Test users': 4855, 'Test items': 2431}\n"
     ]
    },
    {
     "data": {
      "application/vnd.jupyter.widget-view+json": {
       "model_id": "8efc4e0da623426483945f6fee5e7041",
       "version_major": 2,
       "version_minor": 0
      },
      "text/plain": [
       "  0%|          | 0/39079 [00:00<?, ?it/s]"
      ]
     },
     "metadata": {},
     "output_type": "display_data"
    },
    {
     "name": "stderr",
     "output_type": "stream",
     "text": [
      "\u001b[32m[I 2022-12-07 15:12:12,519]\u001b[0m Trial 36 finished with value: 0.026687270672934728 and parameters: {'n_users': 13, 'model_name': 'cosine', 'all_days': False, 'days': 17}. Best is trial 36 with value: 0.026687270672934728.\u001b[0m\n"
     ]
    },
    {
     "name": "stdout",
     "output_type": "stream",
     "text": [
      "\n",
      "==================== Fold 0\n",
      "{'Start date': Timestamp('2021-07-18 00:00:00', freq='W-SUN'), 'End date': Timestamp('2021-07-25 00:00:00', freq='W-SUN'), 'Train': 169161, 'Train users': 31982, 'Train items': 6968, 'Test': 11257, 'Test users': 4190, 'Test items': 2342}\n"
     ]
    },
    {
     "data": {
      "application/vnd.jupyter.widget-view+json": {
       "model_id": "ae6bade04dc94ea1b1f5aea6b95ee7b5",
       "version_major": 2,
       "version_minor": 0
      },
      "text/plain": [
       "  0%|          | 0/31982 [00:00<?, ?it/s]"
      ]
     },
     "metadata": {},
     "output_type": "display_data"
    },
    {
     "name": "stdout",
     "output_type": "stream",
     "text": [
      "\n",
      "==================== Fold 1\n",
      "{'Start date': Timestamp('2021-07-25 00:00:00', freq='W-SUN'), 'End date': Timestamp('2021-08-01 00:00:00', freq='W-SUN'), 'Train': 185626, 'Train users': 34257, 'Train items': 7124, 'Test': 12258, 'Test users': 4592, 'Test items': 2368}\n"
     ]
    },
    {
     "data": {
      "application/vnd.jupyter.widget-view+json": {
       "model_id": "1fb3f79c54c8418f9c4e2161766f878a",
       "version_major": 2,
       "version_minor": 0
      },
      "text/plain": [
       "  0%|          | 0/34257 [00:00<?, ?it/s]"
      ]
     },
     "metadata": {},
     "output_type": "display_data"
    },
    {
     "name": "stdout",
     "output_type": "stream",
     "text": [
      "\n",
      "==================== Fold 2\n",
      "{'Start date': Timestamp('2021-08-01 00:00:00', freq='W-SUN'), 'End date': Timestamp('2021-08-08 00:00:00', freq='W-SUN'), 'Train': 203620, 'Train users': 36692, 'Train items': 7248, 'Test': 12410, 'Test users': 4719, 'Test items': 2308}\n"
     ]
    },
    {
     "data": {
      "application/vnd.jupyter.widget-view+json": {
       "model_id": "4de728cd19de4491b5ca2807cdb7e779",
       "version_major": 2,
       "version_minor": 0
      },
      "text/plain": [
       "  0%|          | 0/36692 [00:00<?, ?it/s]"
      ]
     },
     "metadata": {},
     "output_type": "display_data"
    },
    {
     "name": "stdout",
     "output_type": "stream",
     "text": [
      "\n",
      "==================== Fold 3\n",
      "{'Start date': Timestamp('2021-08-08 00:00:00', freq='W-SUN'), 'End date': Timestamp('2021-08-15 00:00:00', freq='W-SUN'), 'Train': 221881, 'Train users': 39079, 'Train items': 7469, 'Test': 13046, 'Test users': 4855, 'Test items': 2431}\n"
     ]
    },
    {
     "data": {
      "application/vnd.jupyter.widget-view+json": {
       "model_id": "143ef806469d4135ac839d6e74ddcf07",
       "version_major": 2,
       "version_minor": 0
      },
      "text/plain": [
       "  0%|          | 0/39079 [00:00<?, ?it/s]"
      ]
     },
     "metadata": {},
     "output_type": "display_data"
    },
    {
     "name": "stderr",
     "output_type": "stream",
     "text": [
      "\u001b[32m[I 2022-12-07 15:12:19,607]\u001b[0m Trial 37 finished with value: 0.026647135340879334 and parameters: {'n_users': 13, 'model_name': 'cosine', 'all_days': False, 'days': 17}. Best is trial 36 with value: 0.026687270672934728.\u001b[0m\n"
     ]
    },
    {
     "name": "stdout",
     "output_type": "stream",
     "text": [
      "\n",
      "==================== Fold 0\n",
      "{'Start date': Timestamp('2021-07-18 00:00:00', freq='W-SUN'), 'End date': Timestamp('2021-07-25 00:00:00', freq='W-SUN'), 'Train': 169161, 'Train users': 31982, 'Train items': 6968, 'Test': 11257, 'Test users': 4190, 'Test items': 2342}\n"
     ]
    },
    {
     "data": {
      "application/vnd.jupyter.widget-view+json": {
       "model_id": "adfd72c731e54d2794b729f702e3f9ee",
       "version_major": 2,
       "version_minor": 0
      },
      "text/plain": [
       "  0%|          | 0/31982 [00:00<?, ?it/s]"
      ]
     },
     "metadata": {},
     "output_type": "display_data"
    },
    {
     "name": "stdout",
     "output_type": "stream",
     "text": [
      "\n",
      "==================== Fold 1\n",
      "{'Start date': Timestamp('2021-07-25 00:00:00', freq='W-SUN'), 'End date': Timestamp('2021-08-01 00:00:00', freq='W-SUN'), 'Train': 185626, 'Train users': 34257, 'Train items': 7124, 'Test': 12258, 'Test users': 4592, 'Test items': 2368}\n"
     ]
    },
    {
     "data": {
      "application/vnd.jupyter.widget-view+json": {
       "model_id": "efd0bd5f92e64f39b9f301ffe8a29dc1",
       "version_major": 2,
       "version_minor": 0
      },
      "text/plain": [
       "  0%|          | 0/34257 [00:00<?, ?it/s]"
      ]
     },
     "metadata": {},
     "output_type": "display_data"
    },
    {
     "name": "stdout",
     "output_type": "stream",
     "text": [
      "\n",
      "==================== Fold 2\n",
      "{'Start date': Timestamp('2021-08-01 00:00:00', freq='W-SUN'), 'End date': Timestamp('2021-08-08 00:00:00', freq='W-SUN'), 'Train': 203620, 'Train users': 36692, 'Train items': 7248, 'Test': 12410, 'Test users': 4719, 'Test items': 2308}\n"
     ]
    },
    {
     "data": {
      "application/vnd.jupyter.widget-view+json": {
       "model_id": "2ad46fdcf257497b84306b08b4600e59",
       "version_major": 2,
       "version_minor": 0
      },
      "text/plain": [
       "  0%|          | 0/36692 [00:00<?, ?it/s]"
      ]
     },
     "metadata": {},
     "output_type": "display_data"
    },
    {
     "name": "stdout",
     "output_type": "stream",
     "text": [
      "\n",
      "==================== Fold 3\n",
      "{'Start date': Timestamp('2021-08-08 00:00:00', freq='W-SUN'), 'End date': Timestamp('2021-08-15 00:00:00', freq='W-SUN'), 'Train': 221881, 'Train users': 39079, 'Train items': 7469, 'Test': 13046, 'Test users': 4855, 'Test items': 2431}\n"
     ]
    },
    {
     "data": {
      "application/vnd.jupyter.widget-view+json": {
       "model_id": "78534fbdca7847c498b0f38ff81d140a",
       "version_major": 2,
       "version_minor": 0
      },
      "text/plain": [
       "  0%|          | 0/39079 [00:00<?, ?it/s]"
      ]
     },
     "metadata": {},
     "output_type": "display_data"
    },
    {
     "name": "stderr",
     "output_type": "stream",
     "text": [
      "\u001b[32m[I 2022-12-07 15:12:26,231]\u001b[0m Trial 38 finished with value: 0.02874515400070626 and parameters: {'n_users': 10, 'model_name': 'cosine', 'all_days': False, 'days': 17}. Best is trial 38 with value: 0.02874515400070626.\u001b[0m\n"
     ]
    },
    {
     "name": "stdout",
     "output_type": "stream",
     "text": [
      "\n",
      "==================== Fold 0\n",
      "{'Start date': Timestamp('2021-07-18 00:00:00', freq='W-SUN'), 'End date': Timestamp('2021-07-25 00:00:00', freq='W-SUN'), 'Train': 169161, 'Train users': 31982, 'Train items': 6968, 'Test': 11257, 'Test users': 4190, 'Test items': 2342}\n"
     ]
    },
    {
     "data": {
      "application/vnd.jupyter.widget-view+json": {
       "model_id": "ddd4f19f5a584d8ca6188c293c2baa0c",
       "version_major": 2,
       "version_minor": 0
      },
      "text/plain": [
       "  0%|          | 0/31982 [00:00<?, ?it/s]"
      ]
     },
     "metadata": {},
     "output_type": "display_data"
    },
    {
     "name": "stdout",
     "output_type": "stream",
     "text": [
      "\n",
      "==================== Fold 1\n",
      "{'Start date': Timestamp('2021-07-25 00:00:00', freq='W-SUN'), 'End date': Timestamp('2021-08-01 00:00:00', freq='W-SUN'), 'Train': 185626, 'Train users': 34257, 'Train items': 7124, 'Test': 12258, 'Test users': 4592, 'Test items': 2368}\n"
     ]
    },
    {
     "data": {
      "application/vnd.jupyter.widget-view+json": {
       "model_id": "38bc81e54abc4149aa20e3e7567f62ec",
       "version_major": 2,
       "version_minor": 0
      },
      "text/plain": [
       "  0%|          | 0/34257 [00:00<?, ?it/s]"
      ]
     },
     "metadata": {},
     "output_type": "display_data"
    },
    {
     "name": "stdout",
     "output_type": "stream",
     "text": [
      "\n",
      "==================== Fold 2\n",
      "{'Start date': Timestamp('2021-08-01 00:00:00', freq='W-SUN'), 'End date': Timestamp('2021-08-08 00:00:00', freq='W-SUN'), 'Train': 203620, 'Train users': 36692, 'Train items': 7248, 'Test': 12410, 'Test users': 4719, 'Test items': 2308}\n"
     ]
    },
    {
     "data": {
      "application/vnd.jupyter.widget-view+json": {
       "model_id": "a19ba7a0784540149d2ba488db23a950",
       "version_major": 2,
       "version_minor": 0
      },
      "text/plain": [
       "  0%|          | 0/36692 [00:00<?, ?it/s]"
      ]
     },
     "metadata": {},
     "output_type": "display_data"
    },
    {
     "name": "stdout",
     "output_type": "stream",
     "text": [
      "\n",
      "==================== Fold 3\n",
      "{'Start date': Timestamp('2021-08-08 00:00:00', freq='W-SUN'), 'End date': Timestamp('2021-08-15 00:00:00', freq='W-SUN'), 'Train': 221881, 'Train users': 39079, 'Train items': 7469, 'Test': 13046, 'Test users': 4855, 'Test items': 2431}\n"
     ]
    },
    {
     "data": {
      "application/vnd.jupyter.widget-view+json": {
       "model_id": "344370c45ec8447d840425c264cd3f44",
       "version_major": 2,
       "version_minor": 0
      },
      "text/plain": [
       "  0%|          | 0/39079 [00:00<?, ?it/s]"
      ]
     },
     "metadata": {},
     "output_type": "display_data"
    },
    {
     "name": "stderr",
     "output_type": "stream",
     "text": [
      "\u001b[32m[I 2022-12-07 15:12:33,089]\u001b[0m Trial 39 finished with value: 0.028795764332292702 and parameters: {'n_users': 10, 'model_name': 'cosine', 'all_days': False, 'days': 17}. Best is trial 39 with value: 0.028795764332292702.\u001b[0m\n"
     ]
    },
    {
     "name": "stdout",
     "output_type": "stream",
     "text": [
      "\n",
      "==================== Fold 0\n",
      "{'Start date': Timestamp('2021-07-18 00:00:00', freq='W-SUN'), 'End date': Timestamp('2021-07-25 00:00:00', freq='W-SUN'), 'Train': 169161, 'Train users': 31982, 'Train items': 6968, 'Test': 11257, 'Test users': 4190, 'Test items': 2342}\n"
     ]
    },
    {
     "data": {
      "application/vnd.jupyter.widget-view+json": {
       "model_id": "c4bea5ea231940e8a4d9b740fddd31d1",
       "version_major": 2,
       "version_minor": 0
      },
      "text/plain": [
       "  0%|          | 0/31982 [00:00<?, ?it/s]"
      ]
     },
     "metadata": {},
     "output_type": "display_data"
    },
    {
     "name": "stdout",
     "output_type": "stream",
     "text": [
      "\n",
      "==================== Fold 1\n",
      "{'Start date': Timestamp('2021-07-25 00:00:00', freq='W-SUN'), 'End date': Timestamp('2021-08-01 00:00:00', freq='W-SUN'), 'Train': 185626, 'Train users': 34257, 'Train items': 7124, 'Test': 12258, 'Test users': 4592, 'Test items': 2368}\n"
     ]
    },
    {
     "data": {
      "application/vnd.jupyter.widget-view+json": {
       "model_id": "f8d63cca6467418085c2158ca62140fe",
       "version_major": 2,
       "version_minor": 0
      },
      "text/plain": [
       "  0%|          | 0/34257 [00:00<?, ?it/s]"
      ]
     },
     "metadata": {},
     "output_type": "display_data"
    },
    {
     "name": "stdout",
     "output_type": "stream",
     "text": [
      "\n",
      "==================== Fold 2\n",
      "{'Start date': Timestamp('2021-08-01 00:00:00', freq='W-SUN'), 'End date': Timestamp('2021-08-08 00:00:00', freq='W-SUN'), 'Train': 203620, 'Train users': 36692, 'Train items': 7248, 'Test': 12410, 'Test users': 4719, 'Test items': 2308}\n"
     ]
    },
    {
     "data": {
      "application/vnd.jupyter.widget-view+json": {
       "model_id": "0a8c44afa9304f62922ec4e32fbdefba",
       "version_major": 2,
       "version_minor": 0
      },
      "text/plain": [
       "  0%|          | 0/36692 [00:00<?, ?it/s]"
      ]
     },
     "metadata": {},
     "output_type": "display_data"
    },
    {
     "name": "stdout",
     "output_type": "stream",
     "text": [
      "\n",
      "==================== Fold 3\n",
      "{'Start date': Timestamp('2021-08-08 00:00:00', freq='W-SUN'), 'End date': Timestamp('2021-08-15 00:00:00', freq='W-SUN'), 'Train': 221881, 'Train users': 39079, 'Train items': 7469, 'Test': 13046, 'Test users': 4855, 'Test items': 2431}\n"
     ]
    },
    {
     "data": {
      "application/vnd.jupyter.widget-view+json": {
       "model_id": "8d4abc714dc14f46b307fb5c5e8d88d3",
       "version_major": 2,
       "version_minor": 0
      },
      "text/plain": [
       "  0%|          | 0/39079 [00:00<?, ?it/s]"
      ]
     },
     "metadata": {},
     "output_type": "display_data"
    },
    {
     "name": "stderr",
     "output_type": "stream",
     "text": [
      "\u001b[32m[I 2022-12-07 15:12:39,828]\u001b[0m Trial 40 finished with value: 0.028751351597010248 and parameters: {'n_users': 10, 'model_name': 'cosine', 'all_days': False, 'days': 17}. Best is trial 39 with value: 0.028795764332292702.\u001b[0m\n"
     ]
    },
    {
     "name": "stdout",
     "output_type": "stream",
     "text": [
      "\n",
      "==================== Fold 0\n",
      "{'Start date': Timestamp('2021-07-18 00:00:00', freq='W-SUN'), 'End date': Timestamp('2021-07-25 00:00:00', freq='W-SUN'), 'Train': 169161, 'Train users': 31982, 'Train items': 6968, 'Test': 11257, 'Test users': 4190, 'Test items': 2342}\n"
     ]
    },
    {
     "data": {
      "application/vnd.jupyter.widget-view+json": {
       "model_id": "02bd2fa1fbd0480ab58fd1834048912d",
       "version_major": 2,
       "version_minor": 0
      },
      "text/plain": [
       "  0%|          | 0/31982 [00:00<?, ?it/s]"
      ]
     },
     "metadata": {},
     "output_type": "display_data"
    },
    {
     "name": "stdout",
     "output_type": "stream",
     "text": [
      "\n",
      "==================== Fold 1\n",
      "{'Start date': Timestamp('2021-07-25 00:00:00', freq='W-SUN'), 'End date': Timestamp('2021-08-01 00:00:00', freq='W-SUN'), 'Train': 185626, 'Train users': 34257, 'Train items': 7124, 'Test': 12258, 'Test users': 4592, 'Test items': 2368}\n"
     ]
    },
    {
     "data": {
      "application/vnd.jupyter.widget-view+json": {
       "model_id": "291c8e29cf4e4a4eaad2d4696d9380c3",
       "version_major": 2,
       "version_minor": 0
      },
      "text/plain": [
       "  0%|          | 0/34257 [00:00<?, ?it/s]"
      ]
     },
     "metadata": {},
     "output_type": "display_data"
    },
    {
     "name": "stdout",
     "output_type": "stream",
     "text": [
      "\n",
      "==================== Fold 2\n",
      "{'Start date': Timestamp('2021-08-01 00:00:00', freq='W-SUN'), 'End date': Timestamp('2021-08-08 00:00:00', freq='W-SUN'), 'Train': 203620, 'Train users': 36692, 'Train items': 7248, 'Test': 12410, 'Test users': 4719, 'Test items': 2308}\n"
     ]
    },
    {
     "data": {
      "application/vnd.jupyter.widget-view+json": {
       "model_id": "2127febe2b614c46bb683318cce7936a",
       "version_major": 2,
       "version_minor": 0
      },
      "text/plain": [
       "  0%|          | 0/36692 [00:00<?, ?it/s]"
      ]
     },
     "metadata": {},
     "output_type": "display_data"
    },
    {
     "name": "stdout",
     "output_type": "stream",
     "text": [
      "\n",
      "==================== Fold 3\n",
      "{'Start date': Timestamp('2021-08-08 00:00:00', freq='W-SUN'), 'End date': Timestamp('2021-08-15 00:00:00', freq='W-SUN'), 'Train': 221881, 'Train users': 39079, 'Train items': 7469, 'Test': 13046, 'Test users': 4855, 'Test items': 2431}\n"
     ]
    },
    {
     "data": {
      "application/vnd.jupyter.widget-view+json": {
       "model_id": "a9f53d39e1fc4de4814c815a029abdcb",
       "version_major": 2,
       "version_minor": 0
      },
      "text/plain": [
       "  0%|          | 0/39079 [00:00<?, ?it/s]"
      ]
     },
     "metadata": {},
     "output_type": "display_data"
    },
    {
     "name": "stderr",
     "output_type": "stream",
     "text": [
      "\u001b[32m[I 2022-12-07 15:12:46,940]\u001b[0m Trial 41 finished with value: 0.028816563122140853 and parameters: {'n_users': 10, 'model_name': 'cosine', 'all_days': False, 'days': 17}. Best is trial 41 with value: 0.028816563122140853.\u001b[0m\n"
     ]
    },
    {
     "name": "stdout",
     "output_type": "stream",
     "text": [
      "\n",
      "==================== Fold 0\n",
      "{'Start date': Timestamp('2021-07-18 00:00:00', freq='W-SUN'), 'End date': Timestamp('2021-07-25 00:00:00', freq='W-SUN'), 'Train': 169161, 'Train users': 31982, 'Train items': 6968, 'Test': 11257, 'Test users': 4190, 'Test items': 2342}\n"
     ]
    },
    {
     "data": {
      "application/vnd.jupyter.widget-view+json": {
       "model_id": "97cbee4ac31a4bf2a9a389d74496997a",
       "version_major": 2,
       "version_minor": 0
      },
      "text/plain": [
       "  0%|          | 0/31982 [00:00<?, ?it/s]"
      ]
     },
     "metadata": {},
     "output_type": "display_data"
    },
    {
     "name": "stdout",
     "output_type": "stream",
     "text": [
      "\n",
      "==================== Fold 1\n",
      "{'Start date': Timestamp('2021-07-25 00:00:00', freq='W-SUN'), 'End date': Timestamp('2021-08-01 00:00:00', freq='W-SUN'), 'Train': 185626, 'Train users': 34257, 'Train items': 7124, 'Test': 12258, 'Test users': 4592, 'Test items': 2368}\n"
     ]
    },
    {
     "data": {
      "application/vnd.jupyter.widget-view+json": {
       "model_id": "63ba58e6f9de4446ab794525ae6acbcc",
       "version_major": 2,
       "version_minor": 0
      },
      "text/plain": [
       "  0%|          | 0/34257 [00:00<?, ?it/s]"
      ]
     },
     "metadata": {},
     "output_type": "display_data"
    },
    {
     "name": "stdout",
     "output_type": "stream",
     "text": [
      "\n",
      "==================== Fold 2\n",
      "{'Start date': Timestamp('2021-08-01 00:00:00', freq='W-SUN'), 'End date': Timestamp('2021-08-08 00:00:00', freq='W-SUN'), 'Train': 203620, 'Train users': 36692, 'Train items': 7248, 'Test': 12410, 'Test users': 4719, 'Test items': 2308}\n"
     ]
    },
    {
     "data": {
      "application/vnd.jupyter.widget-view+json": {
       "model_id": "ad7d63ce0b3441d0bb3478aae5f836ea",
       "version_major": 2,
       "version_minor": 0
      },
      "text/plain": [
       "  0%|          | 0/36692 [00:00<?, ?it/s]"
      ]
     },
     "metadata": {},
     "output_type": "display_data"
    },
    {
     "name": "stdout",
     "output_type": "stream",
     "text": [
      "\n",
      "==================== Fold 3\n",
      "{'Start date': Timestamp('2021-08-08 00:00:00', freq='W-SUN'), 'End date': Timestamp('2021-08-15 00:00:00', freq='W-SUN'), 'Train': 221881, 'Train users': 39079, 'Train items': 7469, 'Test': 13046, 'Test users': 4855, 'Test items': 2431}\n"
     ]
    },
    {
     "data": {
      "application/vnd.jupyter.widget-view+json": {
       "model_id": "31c5594f1c6d49babd72c666f775b643",
       "version_major": 2,
       "version_minor": 0
      },
      "text/plain": [
       "  0%|          | 0/39079 [00:00<?, ?it/s]"
      ]
     },
     "metadata": {},
     "output_type": "display_data"
    },
    {
     "name": "stderr",
     "output_type": "stream",
     "text": [
      "\u001b[32m[I 2022-12-07 15:12:53,842]\u001b[0m Trial 42 finished with value: 0.028883008743459497 and parameters: {'n_users': 10, 'model_name': 'cosine', 'all_days': False, 'days': 19}. Best is trial 42 with value: 0.028883008743459497.\u001b[0m\n"
     ]
    },
    {
     "name": "stdout",
     "output_type": "stream",
     "text": [
      "\n",
      "==================== Fold 0\n",
      "{'Start date': Timestamp('2021-07-18 00:00:00', freq='W-SUN'), 'End date': Timestamp('2021-07-25 00:00:00', freq='W-SUN'), 'Train': 169161, 'Train users': 31982, 'Train items': 6968, 'Test': 11257, 'Test users': 4190, 'Test items': 2342}\n"
     ]
    },
    {
     "data": {
      "application/vnd.jupyter.widget-view+json": {
       "model_id": "f5a9797c15164a30b3524fe35476b3bf",
       "version_major": 2,
       "version_minor": 0
      },
      "text/plain": [
       "  0%|          | 0/31982 [00:00<?, ?it/s]"
      ]
     },
     "metadata": {},
     "output_type": "display_data"
    },
    {
     "name": "stdout",
     "output_type": "stream",
     "text": [
      "\n",
      "==================== Fold 1\n",
      "{'Start date': Timestamp('2021-07-25 00:00:00', freq='W-SUN'), 'End date': Timestamp('2021-08-01 00:00:00', freq='W-SUN'), 'Train': 185626, 'Train users': 34257, 'Train items': 7124, 'Test': 12258, 'Test users': 4592, 'Test items': 2368}\n"
     ]
    },
    {
     "data": {
      "application/vnd.jupyter.widget-view+json": {
       "model_id": "9e1953eb1454452694bc166b1bf4b156",
       "version_major": 2,
       "version_minor": 0
      },
      "text/plain": [
       "  0%|          | 0/34257 [00:00<?, ?it/s]"
      ]
     },
     "metadata": {},
     "output_type": "display_data"
    },
    {
     "name": "stdout",
     "output_type": "stream",
     "text": [
      "\n",
      "==================== Fold 2\n",
      "{'Start date': Timestamp('2021-08-01 00:00:00', freq='W-SUN'), 'End date': Timestamp('2021-08-08 00:00:00', freq='W-SUN'), 'Train': 203620, 'Train users': 36692, 'Train items': 7248, 'Test': 12410, 'Test users': 4719, 'Test items': 2308}\n"
     ]
    },
    {
     "data": {
      "application/vnd.jupyter.widget-view+json": {
       "model_id": "f0f4eea9825d444889dacfaa20b6e367",
       "version_major": 2,
       "version_minor": 0
      },
      "text/plain": [
       "  0%|          | 0/36692 [00:00<?, ?it/s]"
      ]
     },
     "metadata": {},
     "output_type": "display_data"
    },
    {
     "name": "stdout",
     "output_type": "stream",
     "text": [
      "\n",
      "==================== Fold 3\n",
      "{'Start date': Timestamp('2021-08-08 00:00:00', freq='W-SUN'), 'End date': Timestamp('2021-08-15 00:00:00', freq='W-SUN'), 'Train': 221881, 'Train users': 39079, 'Train items': 7469, 'Test': 13046, 'Test users': 4855, 'Test items': 2431}\n"
     ]
    },
    {
     "data": {
      "application/vnd.jupyter.widget-view+json": {
       "model_id": "383dc67f9aa24e818ff6f6c70b07e44e",
       "version_major": 2,
       "version_minor": 0
      },
      "text/plain": [
       "  0%|          | 0/39079 [00:00<?, ?it/s]"
      ]
     },
     "metadata": {},
     "output_type": "display_data"
    },
    {
     "name": "stderr",
     "output_type": "stream",
     "text": [
      "\u001b[32m[I 2022-12-07 15:13:00,666]\u001b[0m Trial 43 finished with value: 0.019111039376281013 and parameters: {'n_users': 10, 'model_name': 'bm25', 'all_days': False, 'days': 19}. Best is trial 42 with value: 0.028883008743459497.\u001b[0m\n"
     ]
    },
    {
     "name": "stdout",
     "output_type": "stream",
     "text": [
      "\n",
      "==================== Fold 0\n",
      "{'Start date': Timestamp('2021-07-18 00:00:00', freq='W-SUN'), 'End date': Timestamp('2021-07-25 00:00:00', freq='W-SUN'), 'Train': 169161, 'Train users': 31982, 'Train items': 6968, 'Test': 11257, 'Test users': 4190, 'Test items': 2342}\n"
     ]
    },
    {
     "data": {
      "application/vnd.jupyter.widget-view+json": {
       "model_id": "5242482bf7a840af839066a26f366d41",
       "version_major": 2,
       "version_minor": 0
      },
      "text/plain": [
       "  0%|          | 0/31982 [00:00<?, ?it/s]"
      ]
     },
     "metadata": {},
     "output_type": "display_data"
    },
    {
     "name": "stdout",
     "output_type": "stream",
     "text": [
      "\n",
      "==================== Fold 1\n",
      "{'Start date': Timestamp('2021-07-25 00:00:00', freq='W-SUN'), 'End date': Timestamp('2021-08-01 00:00:00', freq='W-SUN'), 'Train': 185626, 'Train users': 34257, 'Train items': 7124, 'Test': 12258, 'Test users': 4592, 'Test items': 2368}\n"
     ]
    },
    {
     "data": {
      "application/vnd.jupyter.widget-view+json": {
       "model_id": "f5a693a6d47b4a738d8dd180f03862f3",
       "version_major": 2,
       "version_minor": 0
      },
      "text/plain": [
       "  0%|          | 0/34257 [00:00<?, ?it/s]"
      ]
     },
     "metadata": {},
     "output_type": "display_data"
    },
    {
     "name": "stdout",
     "output_type": "stream",
     "text": [
      "\n",
      "==================== Fold 2\n",
      "{'Start date': Timestamp('2021-08-01 00:00:00', freq='W-SUN'), 'End date': Timestamp('2021-08-08 00:00:00', freq='W-SUN'), 'Train': 203620, 'Train users': 36692, 'Train items': 7248, 'Test': 12410, 'Test users': 4719, 'Test items': 2308}\n"
     ]
    },
    {
     "data": {
      "application/vnd.jupyter.widget-view+json": {
       "model_id": "8b72170cacad42dcb913a07e63bb244c",
       "version_major": 2,
       "version_minor": 0
      },
      "text/plain": [
       "  0%|          | 0/36692 [00:00<?, ?it/s]"
      ]
     },
     "metadata": {},
     "output_type": "display_data"
    },
    {
     "name": "stdout",
     "output_type": "stream",
     "text": [
      "\n",
      "==================== Fold 3\n",
      "{'Start date': Timestamp('2021-08-08 00:00:00', freq='W-SUN'), 'End date': Timestamp('2021-08-15 00:00:00', freq='W-SUN'), 'Train': 221881, 'Train users': 39079, 'Train items': 7469, 'Test': 13046, 'Test users': 4855, 'Test items': 2431}\n"
     ]
    },
    {
     "data": {
      "application/vnd.jupyter.widget-view+json": {
       "model_id": "01399192db694cbab0c6c1f6edb5472b",
       "version_major": 2,
       "version_minor": 0
      },
      "text/plain": [
       "  0%|          | 0/39079 [00:00<?, ?it/s]"
      ]
     },
     "metadata": {},
     "output_type": "display_data"
    },
    {
     "name": "stderr",
     "output_type": "stream",
     "text": [
      "\u001b[32m[I 2022-12-07 15:13:08,041]\u001b[0m Trial 44 finished with value: 0.024242286489666368 and parameters: {'n_users': 18, 'model_name': 'cosine', 'all_days': False, 'days': 14}. Best is trial 42 with value: 0.028883008743459497.\u001b[0m\n"
     ]
    },
    {
     "name": "stdout",
     "output_type": "stream",
     "text": [
      "\n",
      "==================== Fold 0\n",
      "{'Start date': Timestamp('2021-07-18 00:00:00', freq='W-SUN'), 'End date': Timestamp('2021-07-25 00:00:00', freq='W-SUN'), 'Train': 169161, 'Train users': 31982, 'Train items': 6968, 'Test': 11257, 'Test users': 4190, 'Test items': 2342}\n"
     ]
    },
    {
     "data": {
      "application/vnd.jupyter.widget-view+json": {
       "model_id": "c31077bc06934959871120337713f5db",
       "version_major": 2,
       "version_minor": 0
      },
      "text/plain": [
       "  0%|          | 0/31982 [00:00<?, ?it/s]"
      ]
     },
     "metadata": {},
     "output_type": "display_data"
    },
    {
     "name": "stdout",
     "output_type": "stream",
     "text": [
      "\n",
      "==================== Fold 1\n",
      "{'Start date': Timestamp('2021-07-25 00:00:00', freq='W-SUN'), 'End date': Timestamp('2021-08-01 00:00:00', freq='W-SUN'), 'Train': 185626, 'Train users': 34257, 'Train items': 7124, 'Test': 12258, 'Test users': 4592, 'Test items': 2368}\n"
     ]
    },
    {
     "data": {
      "application/vnd.jupyter.widget-view+json": {
       "model_id": "ed4771c3a95e498686d97a7961f7b5ab",
       "version_major": 2,
       "version_minor": 0
      },
      "text/plain": [
       "  0%|          | 0/34257 [00:00<?, ?it/s]"
      ]
     },
     "metadata": {},
     "output_type": "display_data"
    },
    {
     "name": "stdout",
     "output_type": "stream",
     "text": [
      "\n",
      "==================== Fold 2\n",
      "{'Start date': Timestamp('2021-08-01 00:00:00', freq='W-SUN'), 'End date': Timestamp('2021-08-08 00:00:00', freq='W-SUN'), 'Train': 203620, 'Train users': 36692, 'Train items': 7248, 'Test': 12410, 'Test users': 4719, 'Test items': 2308}\n"
     ]
    },
    {
     "data": {
      "application/vnd.jupyter.widget-view+json": {
       "model_id": "ecaa2d58b6ef4cce89810f1129eed5e8",
       "version_major": 2,
       "version_minor": 0
      },
      "text/plain": [
       "  0%|          | 0/36692 [00:00<?, ?it/s]"
      ]
     },
     "metadata": {},
     "output_type": "display_data"
    },
    {
     "name": "stdout",
     "output_type": "stream",
     "text": [
      "\n",
      "==================== Fold 3\n",
      "{'Start date': Timestamp('2021-08-08 00:00:00', freq='W-SUN'), 'End date': Timestamp('2021-08-15 00:00:00', freq='W-SUN'), 'Train': 221881, 'Train users': 39079, 'Train items': 7469, 'Test': 13046, 'Test users': 4855, 'Test items': 2431}\n"
     ]
    },
    {
     "data": {
      "application/vnd.jupyter.widget-view+json": {
       "model_id": "69e25b4b85224c6085bbb9cabdfdb1d0",
       "version_major": 2,
       "version_minor": 0
      },
      "text/plain": [
       "  0%|          | 0/39079 [00:00<?, ?it/s]"
      ]
     },
     "metadata": {},
     "output_type": "display_data"
    },
    {
     "name": "stderr",
     "output_type": "stream",
     "text": [
      "\u001b[32m[I 2022-12-07 15:13:16,295]\u001b[0m Trial 45 finished with value: 0.02163242581218886 and parameters: {'n_users': 25, 'model_name': 'cosine', 'all_days': False, 'days': 20}. Best is trial 42 with value: 0.028883008743459497.\u001b[0m\n"
     ]
    },
    {
     "name": "stdout",
     "output_type": "stream",
     "text": [
      "\n",
      "==================== Fold 0\n",
      "{'Start date': Timestamp('2021-07-18 00:00:00', freq='W-SUN'), 'End date': Timestamp('2021-07-25 00:00:00', freq='W-SUN'), 'Train': 169161, 'Train users': 31982, 'Train items': 6968, 'Test': 11257, 'Test users': 4190, 'Test items': 2342}\n"
     ]
    },
    {
     "data": {
      "application/vnd.jupyter.widget-view+json": {
       "model_id": "bc6f051653f74fc28160c91603a055fe",
       "version_major": 2,
       "version_minor": 0
      },
      "text/plain": [
       "  0%|          | 0/31982 [00:00<?, ?it/s]"
      ]
     },
     "metadata": {},
     "output_type": "display_data"
    },
    {
     "name": "stdout",
     "output_type": "stream",
     "text": [
      "\n",
      "==================== Fold 1\n",
      "{'Start date': Timestamp('2021-07-25 00:00:00', freq='W-SUN'), 'End date': Timestamp('2021-08-01 00:00:00', freq='W-SUN'), 'Train': 185626, 'Train users': 34257, 'Train items': 7124, 'Test': 12258, 'Test users': 4592, 'Test items': 2368}\n"
     ]
    },
    {
     "data": {
      "application/vnd.jupyter.widget-view+json": {
       "model_id": "023aaff12e554a11990de37c55beeb44",
       "version_major": 2,
       "version_minor": 0
      },
      "text/plain": [
       "  0%|          | 0/34257 [00:00<?, ?it/s]"
      ]
     },
     "metadata": {},
     "output_type": "display_data"
    },
    {
     "name": "stdout",
     "output_type": "stream",
     "text": [
      "\n",
      "==================== Fold 2\n",
      "{'Start date': Timestamp('2021-08-01 00:00:00', freq='W-SUN'), 'End date': Timestamp('2021-08-08 00:00:00', freq='W-SUN'), 'Train': 203620, 'Train users': 36692, 'Train items': 7248, 'Test': 12410, 'Test users': 4719, 'Test items': 2308}\n"
     ]
    },
    {
     "data": {
      "application/vnd.jupyter.widget-view+json": {
       "model_id": "686ee9afc47b4a7cbb9ff13cbab04290",
       "version_major": 2,
       "version_minor": 0
      },
      "text/plain": [
       "  0%|          | 0/36692 [00:00<?, ?it/s]"
      ]
     },
     "metadata": {},
     "output_type": "display_data"
    },
    {
     "name": "stdout",
     "output_type": "stream",
     "text": [
      "\n",
      "==================== Fold 3\n",
      "{'Start date': Timestamp('2021-08-08 00:00:00', freq='W-SUN'), 'End date': Timestamp('2021-08-15 00:00:00', freq='W-SUN'), 'Train': 221881, 'Train users': 39079, 'Train items': 7469, 'Test': 13046, 'Test users': 4855, 'Test items': 2431}\n"
     ]
    },
    {
     "data": {
      "application/vnd.jupyter.widget-view+json": {
       "model_id": "fa8ba8ecc03c4276a61467b776e5afbd",
       "version_major": 2,
       "version_minor": 0
      },
      "text/plain": [
       "  0%|          | 0/39079 [00:00<?, ?it/s]"
      ]
     },
     "metadata": {},
     "output_type": "display_data"
    },
    {
     "name": "stderr",
     "output_type": "stream",
     "text": [
      "\u001b[32m[I 2022-12-07 15:13:23,175]\u001b[0m Trial 46 finished with value: 0.027926016687637313 and parameters: {'n_users': 11, 'model_name': 'cosine', 'all_days': False, 'days': 16}. Best is trial 42 with value: 0.028883008743459497.\u001b[0m\n"
     ]
    },
    {
     "name": "stdout",
     "output_type": "stream",
     "text": [
      "\n",
      "==================== Fold 0\n",
      "{'Start date': Timestamp('2021-07-18 00:00:00', freq='W-SUN'), 'End date': Timestamp('2021-07-25 00:00:00', freq='W-SUN'), 'Train': 169161, 'Train users': 31982, 'Train items': 6968, 'Test': 11257, 'Test users': 4190, 'Test items': 2342}\n"
     ]
    },
    {
     "data": {
      "application/vnd.jupyter.widget-view+json": {
       "model_id": "0ccc2e7f70a049c5a475cea211039a63",
       "version_major": 2,
       "version_minor": 0
      },
      "text/plain": [
       "  0%|          | 0/31982 [00:00<?, ?it/s]"
      ]
     },
     "metadata": {},
     "output_type": "display_data"
    },
    {
     "name": "stdout",
     "output_type": "stream",
     "text": [
      "\n",
      "==================== Fold 1\n",
      "{'Start date': Timestamp('2021-07-25 00:00:00', freq='W-SUN'), 'End date': Timestamp('2021-08-01 00:00:00', freq='W-SUN'), 'Train': 185626, 'Train users': 34257, 'Train items': 7124, 'Test': 12258, 'Test users': 4592, 'Test items': 2368}\n"
     ]
    },
    {
     "data": {
      "application/vnd.jupyter.widget-view+json": {
       "model_id": "f26eccfe29864b198e96928f96b95d6b",
       "version_major": 2,
       "version_minor": 0
      },
      "text/plain": [
       "  0%|          | 0/34257 [00:00<?, ?it/s]"
      ]
     },
     "metadata": {},
     "output_type": "display_data"
    },
    {
     "name": "stdout",
     "output_type": "stream",
     "text": [
      "\n",
      "==================== Fold 2\n",
      "{'Start date': Timestamp('2021-08-01 00:00:00', freq='W-SUN'), 'End date': Timestamp('2021-08-08 00:00:00', freq='W-SUN'), 'Train': 203620, 'Train users': 36692, 'Train items': 7248, 'Test': 12410, 'Test users': 4719, 'Test items': 2308}\n"
     ]
    },
    {
     "data": {
      "application/vnd.jupyter.widget-view+json": {
       "model_id": "dfc64d4aafd94eeb9148e99bc38948a3",
       "version_major": 2,
       "version_minor": 0
      },
      "text/plain": [
       "  0%|          | 0/36692 [00:00<?, ?it/s]"
      ]
     },
     "metadata": {},
     "output_type": "display_data"
    },
    {
     "name": "stdout",
     "output_type": "stream",
     "text": [
      "\n",
      "==================== Fold 3\n",
      "{'Start date': Timestamp('2021-08-08 00:00:00', freq='W-SUN'), 'End date': Timestamp('2021-08-15 00:00:00', freq='W-SUN'), 'Train': 221881, 'Train users': 39079, 'Train items': 7469, 'Test': 13046, 'Test users': 4855, 'Test items': 2431}\n"
     ]
    },
    {
     "data": {
      "application/vnd.jupyter.widget-view+json": {
       "model_id": "5af39e20497f419e84f58372b0efe55b",
       "version_major": 2,
       "version_minor": 0
      },
      "text/plain": [
       "  0%|          | 0/39079 [00:00<?, ?it/s]"
      ]
     },
     "metadata": {},
     "output_type": "display_data"
    },
    {
     "name": "stderr",
     "output_type": "stream",
     "text": [
      "\u001b[32m[I 2022-12-07 15:13:29,985]\u001b[0m Trial 47 finished with value: 0.028870110620216435 and parameters: {'n_users': 10, 'model_name': 'cosine', 'all_days': False, 'days': 19}. Best is trial 42 with value: 0.028883008743459497.\u001b[0m\n"
     ]
    },
    {
     "name": "stdout",
     "output_type": "stream",
     "text": [
      "\n",
      "==================== Fold 0\n",
      "{'Start date': Timestamp('2021-07-18 00:00:00', freq='W-SUN'), 'End date': Timestamp('2021-07-25 00:00:00', freq='W-SUN'), 'Train': 169161, 'Train users': 31982, 'Train items': 6968, 'Test': 11257, 'Test users': 4190, 'Test items': 2342}\n"
     ]
    },
    {
     "data": {
      "application/vnd.jupyter.widget-view+json": {
       "model_id": "354062d929ce42708282fb3e0d817f0a",
       "version_major": 2,
       "version_minor": 0
      },
      "text/plain": [
       "  0%|          | 0/31982 [00:00<?, ?it/s]"
      ]
     },
     "metadata": {},
     "output_type": "display_data"
    },
    {
     "name": "stdout",
     "output_type": "stream",
     "text": [
      "\n",
      "==================== Fold 1\n",
      "{'Start date': Timestamp('2021-07-25 00:00:00', freq='W-SUN'), 'End date': Timestamp('2021-08-01 00:00:00', freq='W-SUN'), 'Train': 185626, 'Train users': 34257, 'Train items': 7124, 'Test': 12258, 'Test users': 4592, 'Test items': 2368}\n"
     ]
    },
    {
     "data": {
      "application/vnd.jupyter.widget-view+json": {
       "model_id": "4aa7af7d0dfb446e97445f15989be46a",
       "version_major": 2,
       "version_minor": 0
      },
      "text/plain": [
       "  0%|          | 0/34257 [00:00<?, ?it/s]"
      ]
     },
     "metadata": {},
     "output_type": "display_data"
    },
    {
     "name": "stdout",
     "output_type": "stream",
     "text": [
      "\n",
      "==================== Fold 2\n",
      "{'Start date': Timestamp('2021-08-01 00:00:00', freq='W-SUN'), 'End date': Timestamp('2021-08-08 00:00:00', freq='W-SUN'), 'Train': 203620, 'Train users': 36692, 'Train items': 7248, 'Test': 12410, 'Test users': 4719, 'Test items': 2308}\n"
     ]
    },
    {
     "data": {
      "application/vnd.jupyter.widget-view+json": {
       "model_id": "f7c66972f9e241ff865b5bfaafa61b1c",
       "version_major": 2,
       "version_minor": 0
      },
      "text/plain": [
       "  0%|          | 0/36692 [00:00<?, ?it/s]"
      ]
     },
     "metadata": {},
     "output_type": "display_data"
    },
    {
     "name": "stdout",
     "output_type": "stream",
     "text": [
      "\n",
      "==================== Fold 3\n",
      "{'Start date': Timestamp('2021-08-08 00:00:00', freq='W-SUN'), 'End date': Timestamp('2021-08-15 00:00:00', freq='W-SUN'), 'Train': 221881, 'Train users': 39079, 'Train items': 7469, 'Test': 13046, 'Test users': 4855, 'Test items': 2431}\n"
     ]
    },
    {
     "data": {
      "application/vnd.jupyter.widget-view+json": {
       "model_id": "c9d75bdcf4b742bb919dd401ca8a7a99",
       "version_major": 2,
       "version_minor": 0
      },
      "text/plain": [
       "  0%|          | 0/39079 [00:00<?, ?it/s]"
      ]
     },
     "metadata": {},
     "output_type": "display_data"
    },
    {
     "name": "stderr",
     "output_type": "stream",
     "text": [
      "\u001b[32m[I 2022-12-07 15:13:36,872]\u001b[0m Trial 48 finished with value: 0.027417315429565173 and parameters: {'n_users': 12, 'model_name': 'cosine', 'all_days': False, 'days': 19}. Best is trial 42 with value: 0.028883008743459497.\u001b[0m\n"
     ]
    },
    {
     "name": "stdout",
     "output_type": "stream",
     "text": [
      "\n",
      "==================== Fold 0\n",
      "{'Start date': Timestamp('2021-07-18 00:00:00', freq='W-SUN'), 'End date': Timestamp('2021-07-25 00:00:00', freq='W-SUN'), 'Train': 169161, 'Train users': 31982, 'Train items': 6968, 'Test': 11257, 'Test users': 4190, 'Test items': 2342}\n"
     ]
    },
    {
     "data": {
      "application/vnd.jupyter.widget-view+json": {
       "model_id": "71cbc125c3b34180b7cd50d1a49e7b73",
       "version_major": 2,
       "version_minor": 0
      },
      "text/plain": [
       "  0%|          | 0/31982 [00:00<?, ?it/s]"
      ]
     },
     "metadata": {},
     "output_type": "display_data"
    },
    {
     "name": "stdout",
     "output_type": "stream",
     "text": [
      "\n",
      "==================== Fold 1\n",
      "{'Start date': Timestamp('2021-07-25 00:00:00', freq='W-SUN'), 'End date': Timestamp('2021-08-01 00:00:00', freq='W-SUN'), 'Train': 185626, 'Train users': 34257, 'Train items': 7124, 'Test': 12258, 'Test users': 4592, 'Test items': 2368}\n"
     ]
    },
    {
     "data": {
      "application/vnd.jupyter.widget-view+json": {
       "model_id": "41c58bf2c3a7431b93870a20749f4733",
       "version_major": 2,
       "version_minor": 0
      },
      "text/plain": [
       "  0%|          | 0/34257 [00:00<?, ?it/s]"
      ]
     },
     "metadata": {},
     "output_type": "display_data"
    },
    {
     "name": "stdout",
     "output_type": "stream",
     "text": [
      "\n",
      "==================== Fold 2\n",
      "{'Start date': Timestamp('2021-08-01 00:00:00', freq='W-SUN'), 'End date': Timestamp('2021-08-08 00:00:00', freq='W-SUN'), 'Train': 203620, 'Train users': 36692, 'Train items': 7248, 'Test': 12410, 'Test users': 4719, 'Test items': 2308}\n"
     ]
    },
    {
     "data": {
      "application/vnd.jupyter.widget-view+json": {
       "model_id": "31e144febedd4ace9749ba489374f52c",
       "version_major": 2,
       "version_minor": 0
      },
      "text/plain": [
       "  0%|          | 0/36692 [00:00<?, ?it/s]"
      ]
     },
     "metadata": {},
     "output_type": "display_data"
    },
    {
     "name": "stdout",
     "output_type": "stream",
     "text": [
      "\n",
      "==================== Fold 3\n",
      "{'Start date': Timestamp('2021-08-08 00:00:00', freq='W-SUN'), 'End date': Timestamp('2021-08-15 00:00:00', freq='W-SUN'), 'Train': 221881, 'Train users': 39079, 'Train items': 7469, 'Test': 13046, 'Test users': 4855, 'Test items': 2431}\n"
     ]
    },
    {
     "data": {
      "application/vnd.jupyter.widget-view+json": {
       "model_id": "b71531f1320848da913b9c0dcab1fa39",
       "version_major": 2,
       "version_minor": 0
      },
      "text/plain": [
       "  0%|          | 0/39079 [00:00<?, ?it/s]"
      ]
     },
     "metadata": {},
     "output_type": "display_data"
    },
    {
     "name": "stderr",
     "output_type": "stream",
     "text": [
      "\u001b[32m[I 2022-12-07 15:13:43,758]\u001b[0m Trial 49 finished with value: 0.02859506624534982 and parameters: {'n_users': 10, 'model_name': 'cosine', 'all_days': False, 'days': 24}. Best is trial 42 with value: 0.028883008743459497.\u001b[0m\n"
     ]
    },
    {
     "name": "stdout",
     "output_type": "stream",
     "text": [
      "\n",
      "==================== Fold 0\n",
      "{'Start date': Timestamp('2021-07-18 00:00:00', freq='W-SUN'), 'End date': Timestamp('2021-07-25 00:00:00', freq='W-SUN'), 'Train': 169161, 'Train users': 31982, 'Train items': 6968, 'Test': 11257, 'Test users': 4190, 'Test items': 2342}\n"
     ]
    },
    {
     "data": {
      "application/vnd.jupyter.widget-view+json": {
       "model_id": "fa89034444094d0eb4d592283174ab96",
       "version_major": 2,
       "version_minor": 0
      },
      "text/plain": [
       "  0%|          | 0/31982 [00:00<?, ?it/s]"
      ]
     },
     "metadata": {},
     "output_type": "display_data"
    },
    {
     "name": "stdout",
     "output_type": "stream",
     "text": [
      "\n",
      "==================== Fold 1\n",
      "{'Start date': Timestamp('2021-07-25 00:00:00', freq='W-SUN'), 'End date': Timestamp('2021-08-01 00:00:00', freq='W-SUN'), 'Train': 185626, 'Train users': 34257, 'Train items': 7124, 'Test': 12258, 'Test users': 4592, 'Test items': 2368}\n"
     ]
    },
    {
     "data": {
      "application/vnd.jupyter.widget-view+json": {
       "model_id": "2513e54a94f7448ca9d4ad380dae8307",
       "version_major": 2,
       "version_minor": 0
      },
      "text/plain": [
       "  0%|          | 0/34257 [00:00<?, ?it/s]"
      ]
     },
     "metadata": {},
     "output_type": "display_data"
    },
    {
     "name": "stdout",
     "output_type": "stream",
     "text": [
      "\n",
      "==================== Fold 2\n",
      "{'Start date': Timestamp('2021-08-01 00:00:00', freq='W-SUN'), 'End date': Timestamp('2021-08-08 00:00:00', freq='W-SUN'), 'Train': 203620, 'Train users': 36692, 'Train items': 7248, 'Test': 12410, 'Test users': 4719, 'Test items': 2308}\n"
     ]
    },
    {
     "data": {
      "application/vnd.jupyter.widget-view+json": {
       "model_id": "0a70eb6e958e4e0db3622f5a4d482677",
       "version_major": 2,
       "version_minor": 0
      },
      "text/plain": [
       "  0%|          | 0/36692 [00:00<?, ?it/s]"
      ]
     },
     "metadata": {},
     "output_type": "display_data"
    },
    {
     "name": "stdout",
     "output_type": "stream",
     "text": [
      "\n",
      "==================== Fold 3\n",
      "{'Start date': Timestamp('2021-08-08 00:00:00', freq='W-SUN'), 'End date': Timestamp('2021-08-15 00:00:00', freq='W-SUN'), 'Train': 221881, 'Train users': 39079, 'Train items': 7469, 'Test': 13046, 'Test users': 4855, 'Test items': 2431}\n"
     ]
    },
    {
     "data": {
      "application/vnd.jupyter.widget-view+json": {
       "model_id": "6b95027366464b34b34d13356489e029",
       "version_major": 2,
       "version_minor": 0
      },
      "text/plain": [
       "  0%|          | 0/39079 [00:00<?, ?it/s]"
      ]
     },
     "metadata": {},
     "output_type": "display_data"
    },
    {
     "name": "stderr",
     "output_type": "stream",
     "text": [
      "\u001b[32m[I 2022-12-07 15:13:51,056]\u001b[0m Trial 50 finished with value: 0.023850854685112687 and parameters: {'n_users': 18, 'model_name': 'cosine', 'all_days': False, 'days': 23}. Best is trial 42 with value: 0.028883008743459497.\u001b[0m\n"
     ]
    },
    {
     "name": "stdout",
     "output_type": "stream",
     "text": [
      "\n",
      "==================== Fold 0\n",
      "{'Start date': Timestamp('2021-07-18 00:00:00', freq='W-SUN'), 'End date': Timestamp('2021-07-25 00:00:00', freq='W-SUN'), 'Train': 169161, 'Train users': 31982, 'Train items': 6968, 'Test': 11257, 'Test users': 4190, 'Test items': 2342}\n"
     ]
    },
    {
     "data": {
      "application/vnd.jupyter.widget-view+json": {
       "model_id": "68ddebe5444e4d5b993ee1ab91621e91",
       "version_major": 2,
       "version_minor": 0
      },
      "text/plain": [
       "  0%|          | 0/31982 [00:00<?, ?it/s]"
      ]
     },
     "metadata": {},
     "output_type": "display_data"
    },
    {
     "name": "stdout",
     "output_type": "stream",
     "text": [
      "\n",
      "==================== Fold 1\n",
      "{'Start date': Timestamp('2021-07-25 00:00:00', freq='W-SUN'), 'End date': Timestamp('2021-08-01 00:00:00', freq='W-SUN'), 'Train': 185626, 'Train users': 34257, 'Train items': 7124, 'Test': 12258, 'Test users': 4592, 'Test items': 2368}\n"
     ]
    },
    {
     "data": {
      "application/vnd.jupyter.widget-view+json": {
       "model_id": "c9ad090fe7a6496488e5c5ab9209af9b",
       "version_major": 2,
       "version_minor": 0
      },
      "text/plain": [
       "  0%|          | 0/34257 [00:00<?, ?it/s]"
      ]
     },
     "metadata": {},
     "output_type": "display_data"
    },
    {
     "name": "stdout",
     "output_type": "stream",
     "text": [
      "\n",
      "==================== Fold 2\n",
      "{'Start date': Timestamp('2021-08-01 00:00:00', freq='W-SUN'), 'End date': Timestamp('2021-08-08 00:00:00', freq='W-SUN'), 'Train': 203620, 'Train users': 36692, 'Train items': 7248, 'Test': 12410, 'Test users': 4719, 'Test items': 2308}\n"
     ]
    },
    {
     "data": {
      "application/vnd.jupyter.widget-view+json": {
       "model_id": "568e920a3f4d4e9c81dd5be1153f8fa1",
       "version_major": 2,
       "version_minor": 0
      },
      "text/plain": [
       "  0%|          | 0/36692 [00:00<?, ?it/s]"
      ]
     },
     "metadata": {},
     "output_type": "display_data"
    },
    {
     "name": "stdout",
     "output_type": "stream",
     "text": [
      "\n",
      "==================== Fold 3\n",
      "{'Start date': Timestamp('2021-08-08 00:00:00', freq='W-SUN'), 'End date': Timestamp('2021-08-15 00:00:00', freq='W-SUN'), 'Train': 221881, 'Train users': 39079, 'Train items': 7469, 'Test': 13046, 'Test users': 4855, 'Test items': 2431}\n"
     ]
    },
    {
     "data": {
      "application/vnd.jupyter.widget-view+json": {
       "model_id": "db7cea6052eb48588bc0066b969b9ae4",
       "version_major": 2,
       "version_minor": 0
      },
      "text/plain": [
       "  0%|          | 0/39079 [00:00<?, ?it/s]"
      ]
     },
     "metadata": {},
     "output_type": "display_data"
    },
    {
     "name": "stderr",
     "output_type": "stream",
     "text": [
      "\u001b[32m[I 2022-12-07 15:13:58,157]\u001b[0m Trial 51 finished with value: 0.016850788053503218 and parameters: {'n_users': 13, 'model_name': 'bm25', 'all_days': False, 'days': 19}. Best is trial 42 with value: 0.028883008743459497.\u001b[0m\n"
     ]
    },
    {
     "name": "stdout",
     "output_type": "stream",
     "text": [
      "\n",
      "==================== Fold 0\n",
      "{'Start date': Timestamp('2021-07-18 00:00:00', freq='W-SUN'), 'End date': Timestamp('2021-07-25 00:00:00', freq='W-SUN'), 'Train': 169161, 'Train users': 31982, 'Train items': 6968, 'Test': 11257, 'Test users': 4190, 'Test items': 2342}\n"
     ]
    },
    {
     "data": {
      "application/vnd.jupyter.widget-view+json": {
       "model_id": "acca92484815474e86570746475f7124",
       "version_major": 2,
       "version_minor": 0
      },
      "text/plain": [
       "  0%|          | 0/31982 [00:00<?, ?it/s]"
      ]
     },
     "metadata": {},
     "output_type": "display_data"
    },
    {
     "name": "stdout",
     "output_type": "stream",
     "text": [
      "\n",
      "==================== Fold 1\n",
      "{'Start date': Timestamp('2021-07-25 00:00:00', freq='W-SUN'), 'End date': Timestamp('2021-08-01 00:00:00', freq='W-SUN'), 'Train': 185626, 'Train users': 34257, 'Train items': 7124, 'Test': 12258, 'Test users': 4592, 'Test items': 2368}\n"
     ]
    },
    {
     "data": {
      "application/vnd.jupyter.widget-view+json": {
       "model_id": "888bee5f501d4b0b882a521cc0e7af53",
       "version_major": 2,
       "version_minor": 0
      },
      "text/plain": [
       "  0%|          | 0/34257 [00:00<?, ?it/s]"
      ]
     },
     "metadata": {},
     "output_type": "display_data"
    },
    {
     "name": "stdout",
     "output_type": "stream",
     "text": [
      "\n",
      "==================== Fold 2\n",
      "{'Start date': Timestamp('2021-08-01 00:00:00', freq='W-SUN'), 'End date': Timestamp('2021-08-08 00:00:00', freq='W-SUN'), 'Train': 203620, 'Train users': 36692, 'Train items': 7248, 'Test': 12410, 'Test users': 4719, 'Test items': 2308}\n"
     ]
    },
    {
     "data": {
      "application/vnd.jupyter.widget-view+json": {
       "model_id": "d7700236abec4f19b47b228ba6929e7e",
       "version_major": 2,
       "version_minor": 0
      },
      "text/plain": [
       "  0%|          | 0/36692 [00:00<?, ?it/s]"
      ]
     },
     "metadata": {},
     "output_type": "display_data"
    },
    {
     "name": "stdout",
     "output_type": "stream",
     "text": [
      "\n",
      "==================== Fold 3\n",
      "{'Start date': Timestamp('2021-08-08 00:00:00', freq='W-SUN'), 'End date': Timestamp('2021-08-15 00:00:00', freq='W-SUN'), 'Train': 221881, 'Train users': 39079, 'Train items': 7469, 'Test': 13046, 'Test users': 4855, 'Test items': 2431}\n"
     ]
    },
    {
     "data": {
      "application/vnd.jupyter.widget-view+json": {
       "model_id": "3a1431ae31324404b88ac83b1ef32aa9",
       "version_major": 2,
       "version_minor": 0
      },
      "text/plain": [
       "  0%|          | 0/39079 [00:00<?, ?it/s]"
      ]
     },
     "metadata": {},
     "output_type": "display_data"
    },
    {
     "name": "stderr",
     "output_type": "stream",
     "text": [
      "\u001b[32m[I 2022-12-07 15:14:05,375]\u001b[0m Trial 52 finished with value: 0.027480317177737273 and parameters: {'n_users': 12, 'model_name': 'cosine', 'all_days': False, 'days': 15}. Best is trial 42 with value: 0.028883008743459497.\u001b[0m\n"
     ]
    },
    {
     "name": "stdout",
     "output_type": "stream",
     "text": [
      "\n",
      "==================== Fold 0\n",
      "{'Start date': Timestamp('2021-07-18 00:00:00', freq='W-SUN'), 'End date': Timestamp('2021-07-25 00:00:00', freq='W-SUN'), 'Train': 169161, 'Train users': 31982, 'Train items': 6968, 'Test': 11257, 'Test users': 4190, 'Test items': 2342}\n"
     ]
    },
    {
     "data": {
      "application/vnd.jupyter.widget-view+json": {
       "model_id": "9bf7218293464274a51a70d097ba0327",
       "version_major": 2,
       "version_minor": 0
      },
      "text/plain": [
       "  0%|          | 0/31982 [00:00<?, ?it/s]"
      ]
     },
     "metadata": {},
     "output_type": "display_data"
    },
    {
     "name": "stdout",
     "output_type": "stream",
     "text": [
      "\n",
      "==================== Fold 1\n",
      "{'Start date': Timestamp('2021-07-25 00:00:00', freq='W-SUN'), 'End date': Timestamp('2021-08-01 00:00:00', freq='W-SUN'), 'Train': 185626, 'Train users': 34257, 'Train items': 7124, 'Test': 12258, 'Test users': 4592, 'Test items': 2368}\n"
     ]
    },
    {
     "data": {
      "application/vnd.jupyter.widget-view+json": {
       "model_id": "51ed28cedb3f404fb0c4019391d333e3",
       "version_major": 2,
       "version_minor": 0
      },
      "text/plain": [
       "  0%|          | 0/34257 [00:00<?, ?it/s]"
      ]
     },
     "metadata": {},
     "output_type": "display_data"
    },
    {
     "name": "stdout",
     "output_type": "stream",
     "text": [
      "\n",
      "==================== Fold 2\n",
      "{'Start date': Timestamp('2021-08-01 00:00:00', freq='W-SUN'), 'End date': Timestamp('2021-08-08 00:00:00', freq='W-SUN'), 'Train': 203620, 'Train users': 36692, 'Train items': 7248, 'Test': 12410, 'Test users': 4719, 'Test items': 2308}\n"
     ]
    },
    {
     "data": {
      "application/vnd.jupyter.widget-view+json": {
       "model_id": "70153d3ce4ba4c17bcfa1b420e7f8c19",
       "version_major": 2,
       "version_minor": 0
      },
      "text/plain": [
       "  0%|          | 0/36692 [00:00<?, ?it/s]"
      ]
     },
     "metadata": {},
     "output_type": "display_data"
    },
    {
     "name": "stdout",
     "output_type": "stream",
     "text": [
      "\n",
      "==================== Fold 3\n",
      "{'Start date': Timestamp('2021-08-08 00:00:00', freq='W-SUN'), 'End date': Timestamp('2021-08-15 00:00:00', freq='W-SUN'), 'Train': 221881, 'Train users': 39079, 'Train items': 7469, 'Test': 13046, 'Test users': 4855, 'Test items': 2431}\n"
     ]
    },
    {
     "data": {
      "application/vnd.jupyter.widget-view+json": {
       "model_id": "d52f18bca1024315a1c6abc1fa92a592",
       "version_major": 2,
       "version_minor": 0
      },
      "text/plain": [
       "  0%|          | 0/39079 [00:00<?, ?it/s]"
      ]
     },
     "metadata": {},
     "output_type": "display_data"
    },
    {
     "name": "stderr",
     "output_type": "stream",
     "text": [
      "\u001b[32m[I 2022-12-07 15:14:13,916]\u001b[0m Trial 53 finished with value: 0.020302266060923446 and parameters: {'n_users': 30, 'model_name': 'cosine', 'all_days': False, 'days': 21}. Best is trial 42 with value: 0.028883008743459497.\u001b[0m\n"
     ]
    },
    {
     "name": "stdout",
     "output_type": "stream",
     "text": [
      "\n",
      "==================== Fold 0\n",
      "{'Start date': Timestamp('2021-07-18 00:00:00', freq='W-SUN'), 'End date': Timestamp('2021-07-25 00:00:00', freq='W-SUN'), 'Train': 169161, 'Train users': 31982, 'Train items': 6968, 'Test': 11257, 'Test users': 4190, 'Test items': 2342}\n"
     ]
    },
    {
     "data": {
      "application/vnd.jupyter.widget-view+json": {
       "model_id": "2c69d2237c0a45b89f0eff46fcd8b974",
       "version_major": 2,
       "version_minor": 0
      },
      "text/plain": [
       "  0%|          | 0/31982 [00:00<?, ?it/s]"
      ]
     },
     "metadata": {},
     "output_type": "display_data"
    },
    {
     "name": "stdout",
     "output_type": "stream",
     "text": [
      "\n",
      "==================== Fold 1\n",
      "{'Start date': Timestamp('2021-07-25 00:00:00', freq='W-SUN'), 'End date': Timestamp('2021-08-01 00:00:00', freq='W-SUN'), 'Train': 185626, 'Train users': 34257, 'Train items': 7124, 'Test': 12258, 'Test users': 4592, 'Test items': 2368}\n"
     ]
    },
    {
     "data": {
      "application/vnd.jupyter.widget-view+json": {
       "model_id": "3b8bab6e52f54b6a906c90ceb3356950",
       "version_major": 2,
       "version_minor": 0
      },
      "text/plain": [
       "  0%|          | 0/34257 [00:00<?, ?it/s]"
      ]
     },
     "metadata": {},
     "output_type": "display_data"
    },
    {
     "name": "stdout",
     "output_type": "stream",
     "text": [
      "\n",
      "==================== Fold 2\n",
      "{'Start date': Timestamp('2021-08-01 00:00:00', freq='W-SUN'), 'End date': Timestamp('2021-08-08 00:00:00', freq='W-SUN'), 'Train': 203620, 'Train users': 36692, 'Train items': 7248, 'Test': 12410, 'Test users': 4719, 'Test items': 2308}\n"
     ]
    },
    {
     "data": {
      "application/vnd.jupyter.widget-view+json": {
       "model_id": "24098536e8f9474e9ad987d2250a5c8b",
       "version_major": 2,
       "version_minor": 0
      },
      "text/plain": [
       "  0%|          | 0/36692 [00:00<?, ?it/s]"
      ]
     },
     "metadata": {},
     "output_type": "display_data"
    },
    {
     "name": "stdout",
     "output_type": "stream",
     "text": [
      "\n",
      "==================== Fold 3\n",
      "{'Start date': Timestamp('2021-08-08 00:00:00', freq='W-SUN'), 'End date': Timestamp('2021-08-15 00:00:00', freq='W-SUN'), 'Train': 221881, 'Train users': 39079, 'Train items': 7469, 'Test': 13046, 'Test users': 4855, 'Test items': 2431}\n"
     ]
    },
    {
     "data": {
      "application/vnd.jupyter.widget-view+json": {
       "model_id": "33891186f4d74c84a0a74599cf83e480",
       "version_major": 2,
       "version_minor": 0
      },
      "text/plain": [
       "  0%|          | 0/39079 [00:00<?, ?it/s]"
      ]
     },
     "metadata": {},
     "output_type": "display_data"
    },
    {
     "name": "stderr",
     "output_type": "stream",
     "text": [
      "\u001b[32m[I 2022-12-07 15:14:21,011]\u001b[0m Trial 54 finished with value: 0.02626779685823358 and parameters: {'n_users': 14, 'model_name': 'cosine', 'all_days': False, 'days': 15}. Best is trial 42 with value: 0.028883008743459497.\u001b[0m\n"
     ]
    },
    {
     "name": "stdout",
     "output_type": "stream",
     "text": [
      "\n",
      "==================== Fold 0\n",
      "{'Start date': Timestamp('2021-07-18 00:00:00', freq='W-SUN'), 'End date': Timestamp('2021-07-25 00:00:00', freq='W-SUN'), 'Train': 169161, 'Train users': 31982, 'Train items': 6968, 'Test': 11257, 'Test users': 4190, 'Test items': 2342}\n"
     ]
    },
    {
     "data": {
      "application/vnd.jupyter.widget-view+json": {
       "model_id": "8898f7d046db4089b0fe9c3e3f31db1f",
       "version_major": 2,
       "version_minor": 0
      },
      "text/plain": [
       "  0%|          | 0/31982 [00:00<?, ?it/s]"
      ]
     },
     "metadata": {},
     "output_type": "display_data"
    },
    {
     "name": "stdout",
     "output_type": "stream",
     "text": [
      "\n",
      "==================== Fold 1\n",
      "{'Start date': Timestamp('2021-07-25 00:00:00', freq='W-SUN'), 'End date': Timestamp('2021-08-01 00:00:00', freq='W-SUN'), 'Train': 185626, 'Train users': 34257, 'Train items': 7124, 'Test': 12258, 'Test users': 4592, 'Test items': 2368}\n"
     ]
    },
    {
     "data": {
      "application/vnd.jupyter.widget-view+json": {
       "model_id": "a106df790af44b0eb7cfb2c9ac7a9ffb",
       "version_major": 2,
       "version_minor": 0
      },
      "text/plain": [
       "  0%|          | 0/34257 [00:00<?, ?it/s]"
      ]
     },
     "metadata": {},
     "output_type": "display_data"
    },
    {
     "name": "stdout",
     "output_type": "stream",
     "text": [
      "\n",
      "==================== Fold 2\n",
      "{'Start date': Timestamp('2021-08-01 00:00:00', freq='W-SUN'), 'End date': Timestamp('2021-08-08 00:00:00', freq='W-SUN'), 'Train': 203620, 'Train users': 36692, 'Train items': 7248, 'Test': 12410, 'Test users': 4719, 'Test items': 2308}\n"
     ]
    },
    {
     "data": {
      "application/vnd.jupyter.widget-view+json": {
       "model_id": "cbd1f97a133a49998100f1c28e61db18",
       "version_major": 2,
       "version_minor": 0
      },
      "text/plain": [
       "  0%|          | 0/36692 [00:00<?, ?it/s]"
      ]
     },
     "metadata": {},
     "output_type": "display_data"
    },
    {
     "name": "stdout",
     "output_type": "stream",
     "text": [
      "\n",
      "==================== Fold 3\n",
      "{'Start date': Timestamp('2021-08-08 00:00:00', freq='W-SUN'), 'End date': Timestamp('2021-08-15 00:00:00', freq='W-SUN'), 'Train': 221881, 'Train users': 39079, 'Train items': 7469, 'Test': 13046, 'Test users': 4855, 'Test items': 2431}\n"
     ]
    },
    {
     "data": {
      "application/vnd.jupyter.widget-view+json": {
       "model_id": "28dfe47bfd674811995a9a1d817dae87",
       "version_major": 2,
       "version_minor": 0
      },
      "text/plain": [
       "  0%|          | 0/39079 [00:00<?, ?it/s]"
      ]
     },
     "metadata": {},
     "output_type": "display_data"
    },
    {
     "name": "stderr",
     "output_type": "stream",
     "text": [
      "\u001b[32m[I 2022-12-07 15:14:27,679]\u001b[0m Trial 55 finished with value: 0.01928372771312176 and parameters: {'n_users': 10, 'model_name': 'bm25', 'all_days': False, 'days': 11}. Best is trial 42 with value: 0.028883008743459497.\u001b[0m\n"
     ]
    },
    {
     "name": "stdout",
     "output_type": "stream",
     "text": [
      "\n",
      "==================== Fold 0\n",
      "{'Start date': Timestamp('2021-07-18 00:00:00', freq='W-SUN'), 'End date': Timestamp('2021-07-25 00:00:00', freq='W-SUN'), 'Train': 169161, 'Train users': 31982, 'Train items': 6968, 'Test': 11257, 'Test users': 4190, 'Test items': 2342}\n"
     ]
    },
    {
     "data": {
      "application/vnd.jupyter.widget-view+json": {
       "model_id": "4b31e5574c424e2dba858fc437350c72",
       "version_major": 2,
       "version_minor": 0
      },
      "text/plain": [
       "  0%|          | 0/31982 [00:00<?, ?it/s]"
      ]
     },
     "metadata": {},
     "output_type": "display_data"
    },
    {
     "name": "stdout",
     "output_type": "stream",
     "text": [
      "\n",
      "==================== Fold 1\n",
      "{'Start date': Timestamp('2021-07-25 00:00:00', freq='W-SUN'), 'End date': Timestamp('2021-08-01 00:00:00', freq='W-SUN'), 'Train': 185626, 'Train users': 34257, 'Train items': 7124, 'Test': 12258, 'Test users': 4592, 'Test items': 2368}\n"
     ]
    },
    {
     "data": {
      "application/vnd.jupyter.widget-view+json": {
       "model_id": "9b7caf5a119d4c5fab2127774e1f1623",
       "version_major": 2,
       "version_minor": 0
      },
      "text/plain": [
       "  0%|          | 0/34257 [00:00<?, ?it/s]"
      ]
     },
     "metadata": {},
     "output_type": "display_data"
    },
    {
     "name": "stdout",
     "output_type": "stream",
     "text": [
      "\n",
      "==================== Fold 2\n",
      "{'Start date': Timestamp('2021-08-01 00:00:00', freq='W-SUN'), 'End date': Timestamp('2021-08-08 00:00:00', freq='W-SUN'), 'Train': 203620, 'Train users': 36692, 'Train items': 7248, 'Test': 12410, 'Test users': 4719, 'Test items': 2308}\n"
     ]
    },
    {
     "data": {
      "application/vnd.jupyter.widget-view+json": {
       "model_id": "b46c082e9c3844189140d77167bdcb0b",
       "version_major": 2,
       "version_minor": 0
      },
      "text/plain": [
       "  0%|          | 0/36692 [00:00<?, ?it/s]"
      ]
     },
     "metadata": {},
     "output_type": "display_data"
    },
    {
     "name": "stdout",
     "output_type": "stream",
     "text": [
      "\n",
      "==================== Fold 3\n",
      "{'Start date': Timestamp('2021-08-08 00:00:00', freq='W-SUN'), 'End date': Timestamp('2021-08-15 00:00:00', freq='W-SUN'), 'Train': 221881, 'Train users': 39079, 'Train items': 7469, 'Test': 13046, 'Test users': 4855, 'Test items': 2431}\n"
     ]
    },
    {
     "data": {
      "application/vnd.jupyter.widget-view+json": {
       "model_id": "c65d90a9638e486e8c932937c37116e9",
       "version_major": 2,
       "version_minor": 0
      },
      "text/plain": [
       "  0%|          | 0/39079 [00:00<?, ?it/s]"
      ]
     },
     "metadata": {},
     "output_type": "display_data"
    },
    {
     "name": "stderr",
     "output_type": "stream",
     "text": [
      "\u001b[32m[I 2022-12-07 15:14:34,744]\u001b[0m Trial 56 finished with value: 0.028865757180258064 and parameters: {'n_users': 10, 'model_name': 'cosine', 'all_days': False, 'days': 18}. Best is trial 42 with value: 0.028883008743459497.\u001b[0m\n"
     ]
    },
    {
     "name": "stdout",
     "output_type": "stream",
     "text": [
      "\n",
      "==================== Fold 0\n",
      "{'Start date': Timestamp('2021-07-18 00:00:00', freq='W-SUN'), 'End date': Timestamp('2021-07-25 00:00:00', freq='W-SUN'), 'Train': 169161, 'Train users': 31982, 'Train items': 6968, 'Test': 11257, 'Test users': 4190, 'Test items': 2342}\n"
     ]
    },
    {
     "data": {
      "application/vnd.jupyter.widget-view+json": {
       "model_id": "1de53d88ad024956b3bba380bb9b26d7",
       "version_major": 2,
       "version_minor": 0
      },
      "text/plain": [
       "  0%|          | 0/31982 [00:00<?, ?it/s]"
      ]
     },
     "metadata": {},
     "output_type": "display_data"
    },
    {
     "name": "stdout",
     "output_type": "stream",
     "text": [
      "\n",
      "==================== Fold 1\n",
      "{'Start date': Timestamp('2021-07-25 00:00:00', freq='W-SUN'), 'End date': Timestamp('2021-08-01 00:00:00', freq='W-SUN'), 'Train': 185626, 'Train users': 34257, 'Train items': 7124, 'Test': 12258, 'Test users': 4592, 'Test items': 2368}\n"
     ]
    },
    {
     "data": {
      "application/vnd.jupyter.widget-view+json": {
       "model_id": "7a7b0b300aa84fedb1a7acf2c56a1ae8",
       "version_major": 2,
       "version_minor": 0
      },
      "text/plain": [
       "  0%|          | 0/34257 [00:00<?, ?it/s]"
      ]
     },
     "metadata": {},
     "output_type": "display_data"
    },
    {
     "name": "stdout",
     "output_type": "stream",
     "text": [
      "\n",
      "==================== Fold 2\n",
      "{'Start date': Timestamp('2021-08-01 00:00:00', freq='W-SUN'), 'End date': Timestamp('2021-08-08 00:00:00', freq='W-SUN'), 'Train': 203620, 'Train users': 36692, 'Train items': 7248, 'Test': 12410, 'Test users': 4719, 'Test items': 2308}\n"
     ]
    },
    {
     "data": {
      "application/vnd.jupyter.widget-view+json": {
       "model_id": "b5c44a9334e942878c1b137fb230f577",
       "version_major": 2,
       "version_minor": 0
      },
      "text/plain": [
       "  0%|          | 0/36692 [00:00<?, ?it/s]"
      ]
     },
     "metadata": {},
     "output_type": "display_data"
    },
    {
     "name": "stdout",
     "output_type": "stream",
     "text": [
      "\n",
      "==================== Fold 3\n",
      "{'Start date': Timestamp('2021-08-08 00:00:00', freq='W-SUN'), 'End date': Timestamp('2021-08-15 00:00:00', freq='W-SUN'), 'Train': 221881, 'Train users': 39079, 'Train items': 7469, 'Test': 13046, 'Test users': 4855, 'Test items': 2431}\n"
     ]
    },
    {
     "data": {
      "application/vnd.jupyter.widget-view+json": {
       "model_id": "2b5f3ff45b0e40799a492940194f9d18",
       "version_major": 2,
       "version_minor": 0
      },
      "text/plain": [
       "  0%|          | 0/39079 [00:00<?, ?it/s]"
      ]
     },
     "metadata": {},
     "output_type": "display_data"
    },
    {
     "name": "stderr",
     "output_type": "stream",
     "text": [
      "\u001b[32m[I 2022-12-07 15:14:41,606]\u001b[0m Trial 57 finished with value: 0.027418930982573263 and parameters: {'n_users': 12, 'model_name': 'cosine', 'all_days': False, 'days': 18}. Best is trial 42 with value: 0.028883008743459497.\u001b[0m\n"
     ]
    },
    {
     "name": "stdout",
     "output_type": "stream",
     "text": [
      "\n",
      "==================== Fold 0\n",
      "{'Start date': Timestamp('2021-07-18 00:00:00', freq='W-SUN'), 'End date': Timestamp('2021-07-25 00:00:00', freq='W-SUN'), 'Train': 169161, 'Train users': 31982, 'Train items': 6968, 'Test': 11257, 'Test users': 4190, 'Test items': 2342}\n"
     ]
    },
    {
     "data": {
      "application/vnd.jupyter.widget-view+json": {
       "model_id": "52d9147dfaa74c60b7cfca4e786435ea",
       "version_major": 2,
       "version_minor": 0
      },
      "text/plain": [
       "  0%|          | 0/31982 [00:00<?, ?it/s]"
      ]
     },
     "metadata": {},
     "output_type": "display_data"
    },
    {
     "name": "stdout",
     "output_type": "stream",
     "text": [
      "\n",
      "==================== Fold 1\n",
      "{'Start date': Timestamp('2021-07-25 00:00:00', freq='W-SUN'), 'End date': Timestamp('2021-08-01 00:00:00', freq='W-SUN'), 'Train': 185626, 'Train users': 34257, 'Train items': 7124, 'Test': 12258, 'Test users': 4592, 'Test items': 2368}\n"
     ]
    },
    {
     "data": {
      "application/vnd.jupyter.widget-view+json": {
       "model_id": "94ac5bf4c8b64799a7d523768f45134d",
       "version_major": 2,
       "version_minor": 0
      },
      "text/plain": [
       "  0%|          | 0/34257 [00:00<?, ?it/s]"
      ]
     },
     "metadata": {},
     "output_type": "display_data"
    },
    {
     "name": "stdout",
     "output_type": "stream",
     "text": [
      "\n",
      "==================== Fold 2\n",
      "{'Start date': Timestamp('2021-08-01 00:00:00', freq='W-SUN'), 'End date': Timestamp('2021-08-08 00:00:00', freq='W-SUN'), 'Train': 203620, 'Train users': 36692, 'Train items': 7248, 'Test': 12410, 'Test users': 4719, 'Test items': 2308}\n"
     ]
    },
    {
     "data": {
      "application/vnd.jupyter.widget-view+json": {
       "model_id": "5b3b1820803d43ebb1c35aa17d4ac95b",
       "version_major": 2,
       "version_minor": 0
      },
      "text/plain": [
       "  0%|          | 0/36692 [00:00<?, ?it/s]"
      ]
     },
     "metadata": {},
     "output_type": "display_data"
    },
    {
     "name": "stdout",
     "output_type": "stream",
     "text": [
      "\n",
      "==================== Fold 3\n",
      "{'Start date': Timestamp('2021-08-08 00:00:00', freq='W-SUN'), 'End date': Timestamp('2021-08-15 00:00:00', freq='W-SUN'), 'Train': 221881, 'Train users': 39079, 'Train items': 7469, 'Test': 13046, 'Test users': 4855, 'Test items': 2431}\n"
     ]
    },
    {
     "data": {
      "application/vnd.jupyter.widget-view+json": {
       "model_id": "14b53f3a6ad74326ba7f7d120f4eef84",
       "version_major": 2,
       "version_minor": 0
      },
      "text/plain": [
       "  0%|          | 0/39079 [00:00<?, ?it/s]"
      ]
     },
     "metadata": {},
     "output_type": "display_data"
    },
    {
     "name": "stderr",
     "output_type": "stream",
     "text": [
      "\u001b[32m[I 2022-12-07 15:14:48,637]\u001b[0m Trial 58 finished with value: 0.02621072854110992 and parameters: {'n_users': 14, 'model_name': 'cosine', 'all_days': False, 'days': 21}. Best is trial 42 with value: 0.028883008743459497.\u001b[0m\n"
     ]
    },
    {
     "name": "stdout",
     "output_type": "stream",
     "text": [
      "\n",
      "==================== Fold 0\n",
      "{'Start date': Timestamp('2021-07-18 00:00:00', freq='W-SUN'), 'End date': Timestamp('2021-07-25 00:00:00', freq='W-SUN'), 'Train': 169161, 'Train users': 31982, 'Train items': 6968, 'Test': 11257, 'Test users': 4190, 'Test items': 2342}\n"
     ]
    },
    {
     "data": {
      "application/vnd.jupyter.widget-view+json": {
       "model_id": "97a34e5a5ff84c10883a6a041689e3eb",
       "version_major": 2,
       "version_minor": 0
      },
      "text/plain": [
       "  0%|          | 0/31982 [00:00<?, ?it/s]"
      ]
     },
     "metadata": {},
     "output_type": "display_data"
    },
    {
     "name": "stdout",
     "output_type": "stream",
     "text": [
      "\n",
      "==================== Fold 1\n",
      "{'Start date': Timestamp('2021-07-25 00:00:00', freq='W-SUN'), 'End date': Timestamp('2021-08-01 00:00:00', freq='W-SUN'), 'Train': 185626, 'Train users': 34257, 'Train items': 7124, 'Test': 12258, 'Test users': 4592, 'Test items': 2368}\n"
     ]
    },
    {
     "data": {
      "application/vnd.jupyter.widget-view+json": {
       "model_id": "b32b8ef4d139463aaebbeb543c2198c4",
       "version_major": 2,
       "version_minor": 0
      },
      "text/plain": [
       "  0%|          | 0/34257 [00:00<?, ?it/s]"
      ]
     },
     "metadata": {},
     "output_type": "display_data"
    },
    {
     "name": "stdout",
     "output_type": "stream",
     "text": [
      "\n",
      "==================== Fold 2\n",
      "{'Start date': Timestamp('2021-08-01 00:00:00', freq='W-SUN'), 'End date': Timestamp('2021-08-08 00:00:00', freq='W-SUN'), 'Train': 203620, 'Train users': 36692, 'Train items': 7248, 'Test': 12410, 'Test users': 4719, 'Test items': 2308}\n"
     ]
    },
    {
     "data": {
      "application/vnd.jupyter.widget-view+json": {
       "model_id": "e9ac9f6c050f43bfb5ab645de6407429",
       "version_major": 2,
       "version_minor": 0
      },
      "text/plain": [
       "  0%|          | 0/36692 [00:00<?, ?it/s]"
      ]
     },
     "metadata": {},
     "output_type": "display_data"
    },
    {
     "name": "stdout",
     "output_type": "stream",
     "text": [
      "\n",
      "==================== Fold 3\n",
      "{'Start date': Timestamp('2021-08-08 00:00:00', freq='W-SUN'), 'End date': Timestamp('2021-08-15 00:00:00', freq='W-SUN'), 'Train': 221881, 'Train users': 39079, 'Train items': 7469, 'Test': 13046, 'Test users': 4855, 'Test items': 2431}\n"
     ]
    },
    {
     "data": {
      "application/vnd.jupyter.widget-view+json": {
       "model_id": "5c495ea7556b4025b379ac59fdceaf95",
       "version_major": 2,
       "version_minor": 0
      },
      "text/plain": [
       "  0%|          | 0/39079 [00:00<?, ?it/s]"
      ]
     },
     "metadata": {},
     "output_type": "display_data"
    },
    {
     "name": "stderr",
     "output_type": "stream",
     "text": [
      "\u001b[32m[I 2022-12-07 15:14:55,487]\u001b[0m Trial 59 finished with value: 0.028311459645377176 and parameters: {'n_users': 11, 'model_name': 'cosine', 'all_days': False, 'days': 14}. Best is trial 42 with value: 0.028883008743459497.\u001b[0m\n"
     ]
    },
    {
     "name": "stdout",
     "output_type": "stream",
     "text": [
      "\n",
      "==================== Fold 0\n",
      "{'Start date': Timestamp('2021-07-18 00:00:00', freq='W-SUN'), 'End date': Timestamp('2021-07-25 00:00:00', freq='W-SUN'), 'Train': 169161, 'Train users': 31982, 'Train items': 6968, 'Test': 11257, 'Test users': 4190, 'Test items': 2342}\n"
     ]
    },
    {
     "data": {
      "application/vnd.jupyter.widget-view+json": {
       "model_id": "90f4df884bbf482d9c05fe4962c103a2",
       "version_major": 2,
       "version_minor": 0
      },
      "text/plain": [
       "  0%|          | 0/31982 [00:00<?, ?it/s]"
      ]
     },
     "metadata": {},
     "output_type": "display_data"
    },
    {
     "name": "stdout",
     "output_type": "stream",
     "text": [
      "\n",
      "==================== Fold 1\n",
      "{'Start date': Timestamp('2021-07-25 00:00:00', freq='W-SUN'), 'End date': Timestamp('2021-08-01 00:00:00', freq='W-SUN'), 'Train': 185626, 'Train users': 34257, 'Train items': 7124, 'Test': 12258, 'Test users': 4592, 'Test items': 2368}\n"
     ]
    },
    {
     "data": {
      "application/vnd.jupyter.widget-view+json": {
       "model_id": "4c4516829b564cd087ce0f498f9b92e2",
       "version_major": 2,
       "version_minor": 0
      },
      "text/plain": [
       "  0%|          | 0/34257 [00:00<?, ?it/s]"
      ]
     },
     "metadata": {},
     "output_type": "display_data"
    },
    {
     "name": "stdout",
     "output_type": "stream",
     "text": [
      "\n",
      "==================== Fold 2\n",
      "{'Start date': Timestamp('2021-08-01 00:00:00', freq='W-SUN'), 'End date': Timestamp('2021-08-08 00:00:00', freq='W-SUN'), 'Train': 203620, 'Train users': 36692, 'Train items': 7248, 'Test': 12410, 'Test users': 4719, 'Test items': 2308}\n"
     ]
    },
    {
     "data": {
      "application/vnd.jupyter.widget-view+json": {
       "model_id": "4ffc38f0d85a4381bc5f11697f09e482",
       "version_major": 2,
       "version_minor": 0
      },
      "text/plain": [
       "  0%|          | 0/36692 [00:00<?, ?it/s]"
      ]
     },
     "metadata": {},
     "output_type": "display_data"
    },
    {
     "name": "stdout",
     "output_type": "stream",
     "text": [
      "\n",
      "==================== Fold 3\n",
      "{'Start date': Timestamp('2021-08-08 00:00:00', freq='W-SUN'), 'End date': Timestamp('2021-08-15 00:00:00', freq='W-SUN'), 'Train': 221881, 'Train users': 39079, 'Train items': 7469, 'Test': 13046, 'Test users': 4855, 'Test items': 2431}\n"
     ]
    },
    {
     "data": {
      "application/vnd.jupyter.widget-view+json": {
       "model_id": "54ee499a14b34bbe9435d1125d9e3e45",
       "version_major": 2,
       "version_minor": 0
      },
      "text/plain": [
       "  0%|          | 0/39079 [00:00<?, ?it/s]"
      ]
     },
     "metadata": {},
     "output_type": "display_data"
    },
    {
     "name": "stderr",
     "output_type": "stream",
     "text": [
      "\u001b[32m[I 2022-12-07 15:15:03,059]\u001b[0m Trial 60 finished with value: 0.02362284217480315 and parameters: {'n_users': 19, 'model_name': 'cosine', 'all_days': False, 'days': 20}. Best is trial 42 with value: 0.028883008743459497.\u001b[0m\n"
     ]
    },
    {
     "name": "stdout",
     "output_type": "stream",
     "text": [
      "\n",
      "==================== Fold 0\n",
      "{'Start date': Timestamp('2021-07-18 00:00:00', freq='W-SUN'), 'End date': Timestamp('2021-07-25 00:00:00', freq='W-SUN'), 'Train': 169161, 'Train users': 31982, 'Train items': 6968, 'Test': 11257, 'Test users': 4190, 'Test items': 2342}\n"
     ]
    },
    {
     "data": {
      "application/vnd.jupyter.widget-view+json": {
       "model_id": "0155986127244c9994c42de62f71bf7d",
       "version_major": 2,
       "version_minor": 0
      },
      "text/plain": [
       "  0%|          | 0/31982 [00:00<?, ?it/s]"
      ]
     },
     "metadata": {},
     "output_type": "display_data"
    },
    {
     "name": "stdout",
     "output_type": "stream",
     "text": [
      "\n",
      "==================== Fold 1\n",
      "{'Start date': Timestamp('2021-07-25 00:00:00', freq='W-SUN'), 'End date': Timestamp('2021-08-01 00:00:00', freq='W-SUN'), 'Train': 185626, 'Train users': 34257, 'Train items': 7124, 'Test': 12258, 'Test users': 4592, 'Test items': 2368}\n"
     ]
    },
    {
     "data": {
      "application/vnd.jupyter.widget-view+json": {
       "model_id": "b6f8d0d664054d3e94d836d4c1e2f677",
       "version_major": 2,
       "version_minor": 0
      },
      "text/plain": [
       "  0%|          | 0/34257 [00:00<?, ?it/s]"
      ]
     },
     "metadata": {},
     "output_type": "display_data"
    },
    {
     "name": "stdout",
     "output_type": "stream",
     "text": [
      "\n",
      "==================== Fold 2\n",
      "{'Start date': Timestamp('2021-08-01 00:00:00', freq='W-SUN'), 'End date': Timestamp('2021-08-08 00:00:00', freq='W-SUN'), 'Train': 203620, 'Train users': 36692, 'Train items': 7248, 'Test': 12410, 'Test users': 4719, 'Test items': 2308}\n"
     ]
    },
    {
     "data": {
      "application/vnd.jupyter.widget-view+json": {
       "model_id": "e13b7b0cdac24fbd9ea8b30f7edac0b5",
       "version_major": 2,
       "version_minor": 0
      },
      "text/plain": [
       "  0%|          | 0/36692 [00:00<?, ?it/s]"
      ]
     },
     "metadata": {},
     "output_type": "display_data"
    },
    {
     "name": "stdout",
     "output_type": "stream",
     "text": [
      "\n",
      "==================== Fold 3\n",
      "{'Start date': Timestamp('2021-08-08 00:00:00', freq='W-SUN'), 'End date': Timestamp('2021-08-15 00:00:00', freq='W-SUN'), 'Train': 221881, 'Train users': 39079, 'Train items': 7469, 'Test': 13046, 'Test users': 4855, 'Test items': 2431}\n"
     ]
    },
    {
     "data": {
      "application/vnd.jupyter.widget-view+json": {
       "model_id": "be7e8f64ea9645e8afe2f4703b76ab6d",
       "version_major": 2,
       "version_minor": 0
      },
      "text/plain": [
       "  0%|          | 0/39079 [00:00<?, ?it/s]"
      ]
     },
     "metadata": {},
     "output_type": "display_data"
    },
    {
     "name": "stderr",
     "output_type": "stream",
     "text": [
      "\u001b[32m[I 2022-12-07 15:15:10,836]\u001b[0m Trial 61 finished with value: 0.021732598564905965 and parameters: {'n_users': 24, 'model_name': 'cosine', 'all_days': False, 'days': 23}. Best is trial 42 with value: 0.028883008743459497.\u001b[0m\n"
     ]
    },
    {
     "name": "stdout",
     "output_type": "stream",
     "text": [
      "\n",
      "==================== Fold 0\n",
      "{'Start date': Timestamp('2021-07-18 00:00:00', freq='W-SUN'), 'End date': Timestamp('2021-07-25 00:00:00', freq='W-SUN'), 'Train': 169161, 'Train users': 31982, 'Train items': 6968, 'Test': 11257, 'Test users': 4190, 'Test items': 2342}\n"
     ]
    },
    {
     "data": {
      "application/vnd.jupyter.widget-view+json": {
       "model_id": "63edd77bda1d45ab98e81f6a2b42e0e9",
       "version_major": 2,
       "version_minor": 0
      },
      "text/plain": [
       "  0%|          | 0/31982 [00:00<?, ?it/s]"
      ]
     },
     "metadata": {},
     "output_type": "display_data"
    },
    {
     "name": "stdout",
     "output_type": "stream",
     "text": [
      "\n",
      "==================== Fold 1\n",
      "{'Start date': Timestamp('2021-07-25 00:00:00', freq='W-SUN'), 'End date': Timestamp('2021-08-01 00:00:00', freq='W-SUN'), 'Train': 185626, 'Train users': 34257, 'Train items': 7124, 'Test': 12258, 'Test users': 4592, 'Test items': 2368}\n"
     ]
    },
    {
     "data": {
      "application/vnd.jupyter.widget-view+json": {
       "model_id": "9c77790071514962bfe30a60c11f30bb",
       "version_major": 2,
       "version_minor": 0
      },
      "text/plain": [
       "  0%|          | 0/34257 [00:00<?, ?it/s]"
      ]
     },
     "metadata": {},
     "output_type": "display_data"
    },
    {
     "name": "stdout",
     "output_type": "stream",
     "text": [
      "\n",
      "==================== Fold 2\n",
      "{'Start date': Timestamp('2021-08-01 00:00:00', freq='W-SUN'), 'End date': Timestamp('2021-08-08 00:00:00', freq='W-SUN'), 'Train': 203620, 'Train users': 36692, 'Train items': 7248, 'Test': 12410, 'Test users': 4719, 'Test items': 2308}\n"
     ]
    },
    {
     "data": {
      "application/vnd.jupyter.widget-view+json": {
       "model_id": "e67fcf5655dd463abb9d4cbddd6de390",
       "version_major": 2,
       "version_minor": 0
      },
      "text/plain": [
       "  0%|          | 0/36692 [00:00<?, ?it/s]"
      ]
     },
     "metadata": {},
     "output_type": "display_data"
    },
    {
     "name": "stdout",
     "output_type": "stream",
     "text": [
      "\n",
      "==================== Fold 3\n",
      "{'Start date': Timestamp('2021-08-08 00:00:00', freq='W-SUN'), 'End date': Timestamp('2021-08-15 00:00:00', freq='W-SUN'), 'Train': 221881, 'Train users': 39079, 'Train items': 7469, 'Test': 13046, 'Test users': 4855, 'Test items': 2431}\n"
     ]
    },
    {
     "data": {
      "application/vnd.jupyter.widget-view+json": {
       "model_id": "256b5e18c28d4a7da31e10fdd8fdc24a",
       "version_major": 2,
       "version_minor": 0
      },
      "text/plain": [
       "  0%|          | 0/39079 [00:00<?, ?it/s]"
      ]
     },
     "metadata": {},
     "output_type": "display_data"
    },
    {
     "name": "stderr",
     "output_type": "stream",
     "text": [
      "\u001b[32m[I 2022-12-07 15:15:17,846]\u001b[0m Trial 62 finished with value: 0.028044206629600568 and parameters: {'n_users': 11, 'model_name': 'cosine', 'all_days': False, 'days': 16}. Best is trial 42 with value: 0.028883008743459497.\u001b[0m\n"
     ]
    },
    {
     "name": "stdout",
     "output_type": "stream",
     "text": [
      "\n",
      "==================== Fold 0\n",
      "{'Start date': Timestamp('2021-07-18 00:00:00', freq='W-SUN'), 'End date': Timestamp('2021-07-25 00:00:00', freq='W-SUN'), 'Train': 169161, 'Train users': 31982, 'Train items': 6968, 'Test': 11257, 'Test users': 4190, 'Test items': 2342}\n"
     ]
    },
    {
     "data": {
      "application/vnd.jupyter.widget-view+json": {
       "model_id": "f980840fac4044fb9b10064b9de841ea",
       "version_major": 2,
       "version_minor": 0
      },
      "text/plain": [
       "  0%|          | 0/31982 [00:00<?, ?it/s]"
      ]
     },
     "metadata": {},
     "output_type": "display_data"
    },
    {
     "name": "stdout",
     "output_type": "stream",
     "text": [
      "\n",
      "==================== Fold 1\n",
      "{'Start date': Timestamp('2021-07-25 00:00:00', freq='W-SUN'), 'End date': Timestamp('2021-08-01 00:00:00', freq='W-SUN'), 'Train': 185626, 'Train users': 34257, 'Train items': 7124, 'Test': 12258, 'Test users': 4592, 'Test items': 2368}\n"
     ]
    },
    {
     "data": {
      "application/vnd.jupyter.widget-view+json": {
       "model_id": "d15b0fb4122f45c0992e5a99ee0968b2",
       "version_major": 2,
       "version_minor": 0
      },
      "text/plain": [
       "  0%|          | 0/34257 [00:00<?, ?it/s]"
      ]
     },
     "metadata": {},
     "output_type": "display_data"
    },
    {
     "name": "stdout",
     "output_type": "stream",
     "text": [
      "\n",
      "==================== Fold 2\n",
      "{'Start date': Timestamp('2021-08-01 00:00:00', freq='W-SUN'), 'End date': Timestamp('2021-08-08 00:00:00', freq='W-SUN'), 'Train': 203620, 'Train users': 36692, 'Train items': 7248, 'Test': 12410, 'Test users': 4719, 'Test items': 2308}\n"
     ]
    },
    {
     "data": {
      "application/vnd.jupyter.widget-view+json": {
       "model_id": "12d8286240be48ebb5bc7a11cedddbcc",
       "version_major": 2,
       "version_minor": 0
      },
      "text/plain": [
       "  0%|          | 0/36692 [00:00<?, ?it/s]"
      ]
     },
     "metadata": {},
     "output_type": "display_data"
    },
    {
     "name": "stdout",
     "output_type": "stream",
     "text": [
      "\n",
      "==================== Fold 3\n",
      "{'Start date': Timestamp('2021-08-08 00:00:00', freq='W-SUN'), 'End date': Timestamp('2021-08-15 00:00:00', freq='W-SUN'), 'Train': 221881, 'Train users': 39079, 'Train items': 7469, 'Test': 13046, 'Test users': 4855, 'Test items': 2431}\n"
     ]
    },
    {
     "data": {
      "application/vnd.jupyter.widget-view+json": {
       "model_id": "6af0a2531779489084f9f57e5a4beb5f",
       "version_major": 2,
       "version_minor": 0
      },
      "text/plain": [
       "  0%|          | 0/39079 [00:00<?, ?it/s]"
      ]
     },
     "metadata": {},
     "output_type": "display_data"
    },
    {
     "name": "stderr",
     "output_type": "stream",
     "text": [
      "\u001b[32m[I 2022-12-07 15:15:24,993]\u001b[0m Trial 63 finished with value: 0.025432921189962415 and parameters: {'n_users': 15, 'model_name': 'cosine', 'all_days': False, 'days': 18}. Best is trial 42 with value: 0.028883008743459497.\u001b[0m\n"
     ]
    },
    {
     "name": "stdout",
     "output_type": "stream",
     "text": [
      "\n",
      "==================== Fold 0\n",
      "{'Start date': Timestamp('2021-07-18 00:00:00', freq='W-SUN'), 'End date': Timestamp('2021-07-25 00:00:00', freq='W-SUN'), 'Train': 169161, 'Train users': 31982, 'Train items': 6968, 'Test': 11257, 'Test users': 4190, 'Test items': 2342}\n"
     ]
    },
    {
     "data": {
      "application/vnd.jupyter.widget-view+json": {
       "model_id": "bf552d4f4e8d4f109e58f5cc3ef7d263",
       "version_major": 2,
       "version_minor": 0
      },
      "text/plain": [
       "  0%|          | 0/31982 [00:00<?, ?it/s]"
      ]
     },
     "metadata": {},
     "output_type": "display_data"
    },
    {
     "name": "stdout",
     "output_type": "stream",
     "text": [
      "\n",
      "==================== Fold 1\n",
      "{'Start date': Timestamp('2021-07-25 00:00:00', freq='W-SUN'), 'End date': Timestamp('2021-08-01 00:00:00', freq='W-SUN'), 'Train': 185626, 'Train users': 34257, 'Train items': 7124, 'Test': 12258, 'Test users': 4592, 'Test items': 2368}\n"
     ]
    },
    {
     "data": {
      "application/vnd.jupyter.widget-view+json": {
       "model_id": "f92a935e34d045b29a5e8557cf5c29a6",
       "version_major": 2,
       "version_minor": 0
      },
      "text/plain": [
       "  0%|          | 0/34257 [00:00<?, ?it/s]"
      ]
     },
     "metadata": {},
     "output_type": "display_data"
    },
    {
     "name": "stdout",
     "output_type": "stream",
     "text": [
      "\n",
      "==================== Fold 2\n",
      "{'Start date': Timestamp('2021-08-01 00:00:00', freq='W-SUN'), 'End date': Timestamp('2021-08-08 00:00:00', freq='W-SUN'), 'Train': 203620, 'Train users': 36692, 'Train items': 7248, 'Test': 12410, 'Test users': 4719, 'Test items': 2308}\n"
     ]
    },
    {
     "data": {
      "application/vnd.jupyter.widget-view+json": {
       "model_id": "3ba0d85d38904c4aae14e8851f0ac6fd",
       "version_major": 2,
       "version_minor": 0
      },
      "text/plain": [
       "  0%|          | 0/36692 [00:00<?, ?it/s]"
      ]
     },
     "metadata": {},
     "output_type": "display_data"
    },
    {
     "name": "stdout",
     "output_type": "stream",
     "text": [
      "\n",
      "==================== Fold 3\n",
      "{'Start date': Timestamp('2021-08-08 00:00:00', freq='W-SUN'), 'End date': Timestamp('2021-08-15 00:00:00', freq='W-SUN'), 'Train': 221881, 'Train users': 39079, 'Train items': 7469, 'Test': 13046, 'Test users': 4855, 'Test items': 2431}\n"
     ]
    },
    {
     "data": {
      "application/vnd.jupyter.widget-view+json": {
       "model_id": "e9f7a1a47d504d64960c05aeabd7c91d",
       "version_major": 2,
       "version_minor": 0
      },
      "text/plain": [
       "  0%|          | 0/39079 [00:00<?, ?it/s]"
      ]
     },
     "metadata": {},
     "output_type": "display_data"
    },
    {
     "name": "stderr",
     "output_type": "stream",
     "text": [
      "\u001b[32m[I 2022-12-07 15:15:31,704]\u001b[0m Trial 64 finished with value: 0.01845596734296169 and parameters: {'n_users': 10, 'model_name': 'bm25', 'all_days': True, 'days': 13}. Best is trial 42 with value: 0.028883008743459497.\u001b[0m\n"
     ]
    }
   ],
   "source": [
    "study.optimize(objective, n_trials=50)"
   ]
  },
  {
   "cell_type": "code",
   "execution_count": 64,
   "id": "0944f5dc-bd26-4e55-ae48-c20a4a3592dc",
   "metadata": {},
   "outputs": [
    {
     "data": {
      "text/html": [
       "<div>\n",
       "<style scoped>\n",
       "    .dataframe tbody tr th:only-of-type {\n",
       "        vertical-align: middle;\n",
       "    }\n",
       "\n",
       "    .dataframe tbody tr th {\n",
       "        vertical-align: top;\n",
       "    }\n",
       "\n",
       "    .dataframe thead th {\n",
       "        text-align: right;\n",
       "    }\n",
       "</style>\n",
       "<table border=\"1\" class=\"dataframe\">\n",
       "  <thead>\n",
       "    <tr style=\"text-align: right;\">\n",
       "      <th></th>\n",
       "      <th>params_model_name</th>\n",
       "      <th>params_n_users</th>\n",
       "      <th>value</th>\n",
       "    </tr>\n",
       "  </thead>\n",
       "  <tbody>\n",
       "    <tr>\n",
       "      <th>12</th>\n",
       "      <td>cosine</td>\n",
       "      <td>10</td>\n",
       "      <td>0.029601</td>\n",
       "    </tr>\n",
       "    <tr>\n",
       "      <th>15</th>\n",
       "      <td>cosine</td>\n",
       "      <td>10</td>\n",
       "      <td>0.028598</td>\n",
       "    </tr>\n",
       "    <tr>\n",
       "      <th>13</th>\n",
       "      <td>cosine</td>\n",
       "      <td>10</td>\n",
       "      <td>0.028572</td>\n",
       "    </tr>\n",
       "    <tr>\n",
       "      <th>22</th>\n",
       "      <td>cosine</td>\n",
       "      <td>10</td>\n",
       "      <td>0.028560</td>\n",
       "    </tr>\n",
       "    <tr>\n",
       "      <th>21</th>\n",
       "      <td>cosine</td>\n",
       "      <td>10</td>\n",
       "      <td>0.028550</td>\n",
       "    </tr>\n",
       "    <tr>\n",
       "      <th>25</th>\n",
       "      <td>cosine</td>\n",
       "      <td>10</td>\n",
       "      <td>0.028524</td>\n",
       "    </tr>\n",
       "    <tr>\n",
       "      <th>26</th>\n",
       "      <td>cosine</td>\n",
       "      <td>13</td>\n",
       "      <td>0.028003</td>\n",
       "    </tr>\n",
       "    <tr>\n",
       "      <th>4</th>\n",
       "      <td>cosine</td>\n",
       "      <td>11</td>\n",
       "      <td>0.027862</td>\n",
       "    </tr>\n",
       "    <tr>\n",
       "      <th>8</th>\n",
       "      <td>cosine</td>\n",
       "      <td>15</td>\n",
       "      <td>0.026797</td>\n",
       "    </tr>\n",
       "    <tr>\n",
       "      <th>9</th>\n",
       "      <td>cosine</td>\n",
       "      <td>16</td>\n",
       "      <td>0.026587</td>\n",
       "    </tr>\n",
       "    <tr>\n",
       "      <th>23</th>\n",
       "      <td>cosine</td>\n",
       "      <td>14</td>\n",
       "      <td>0.026331</td>\n",
       "    </tr>\n",
       "    <tr>\n",
       "      <th>1</th>\n",
       "      <td>tfidf</td>\n",
       "      <td>12</td>\n",
       "      <td>0.025925</td>\n",
       "    </tr>\n",
       "    <tr>\n",
       "      <th>24</th>\n",
       "      <td>cosine</td>\n",
       "      <td>17</td>\n",
       "      <td>0.025247</td>\n",
       "    </tr>\n",
       "    <tr>\n",
       "      <th>27</th>\n",
       "      <td>cosine</td>\n",
       "      <td>19</td>\n",
       "      <td>0.024492</td>\n",
       "    </tr>\n",
       "    <tr>\n",
       "      <th>17</th>\n",
       "      <td>cosine</td>\n",
       "      <td>23</td>\n",
       "      <td>0.024105</td>\n",
       "    </tr>\n",
       "    <tr>\n",
       "      <th>20</th>\n",
       "      <td>cosine</td>\n",
       "      <td>21</td>\n",
       "      <td>0.023816</td>\n",
       "    </tr>\n",
       "    <tr>\n",
       "      <th>11</th>\n",
       "      <td>cosine</td>\n",
       "      <td>23</td>\n",
       "      <td>0.023220</td>\n",
       "    </tr>\n",
       "    <tr>\n",
       "      <th>14</th>\n",
       "      <td>tfidf</td>\n",
       "      <td>21</td>\n",
       "      <td>0.022841</td>\n",
       "    </tr>\n",
       "    <tr>\n",
       "      <th>7</th>\n",
       "      <td>cosine</td>\n",
       "      <td>28</td>\n",
       "      <td>0.022552</td>\n",
       "    </tr>\n",
       "    <tr>\n",
       "      <th>0</th>\n",
       "      <td>cosine</td>\n",
       "      <td>36</td>\n",
       "      <td>0.021242</td>\n",
       "    </tr>\n",
       "    <tr>\n",
       "      <th>18</th>\n",
       "      <td>tfidf</td>\n",
       "      <td>27</td>\n",
       "      <td>0.021006</td>\n",
       "    </tr>\n",
       "    <tr>\n",
       "      <th>2</th>\n",
       "      <td>tfidf</td>\n",
       "      <td>32</td>\n",
       "      <td>0.019551</td>\n",
       "    </tr>\n",
       "    <tr>\n",
       "      <th>3</th>\n",
       "      <td>bm25</td>\n",
       "      <td>14</td>\n",
       "      <td>0.019388</td>\n",
       "    </tr>\n",
       "    <tr>\n",
       "      <th>10</th>\n",
       "      <td>cosine</td>\n",
       "      <td>45</td>\n",
       "      <td>0.019036</td>\n",
       "    </tr>\n",
       "    <tr>\n",
       "      <th>16</th>\n",
       "      <td>cosine</td>\n",
       "      <td>50</td>\n",
       "      <td>0.018473</td>\n",
       "    </tr>\n",
       "    <tr>\n",
       "      <th>6</th>\n",
       "      <td>bm25</td>\n",
       "      <td>18</td>\n",
       "      <td>0.017577</td>\n",
       "    </tr>\n",
       "    <tr>\n",
       "      <th>19</th>\n",
       "      <td>bm25</td>\n",
       "      <td>18</td>\n",
       "      <td>0.017152</td>\n",
       "    </tr>\n",
       "    <tr>\n",
       "      <th>5</th>\n",
       "      <td>bm25</td>\n",
       "      <td>37</td>\n",
       "      <td>0.013462</td>\n",
       "    </tr>\n",
       "  </tbody>\n",
       "</table>\n",
       "</div>"
      ],
      "text/plain": [
       "   params_model_name  params_n_users     value\n",
       "12            cosine              10  0.029601\n",
       "15            cosine              10  0.028598\n",
       "13            cosine              10  0.028572\n",
       "22            cosine              10  0.028560\n",
       "21            cosine              10  0.028550\n",
       "25            cosine              10  0.028524\n",
       "26            cosine              13  0.028003\n",
       "4             cosine              11  0.027862\n",
       "8             cosine              15  0.026797\n",
       "9             cosine              16  0.026587\n",
       "23            cosine              14  0.026331\n",
       "1              tfidf              12  0.025925\n",
       "24            cosine              17  0.025247\n",
       "27            cosine              19  0.024492\n",
       "17            cosine              23  0.024105\n",
       "20            cosine              21  0.023816\n",
       "11            cosine              23  0.023220\n",
       "14             tfidf              21  0.022841\n",
       "7             cosine              28  0.022552\n",
       "0             cosine              36  0.021242\n",
       "18             tfidf              27  0.021006\n",
       "2              tfidf              32  0.019551\n",
       "3               bm25              14  0.019388\n",
       "10            cosine              45  0.019036\n",
       "16            cosine              50  0.018473\n",
       "6               bm25              18  0.017577\n",
       "19              bm25              18  0.017152\n",
       "5               bm25              37  0.013462"
      ]
     },
     "execution_count": 64,
     "metadata": {},
     "output_type": "execute_result"
    }
   ],
   "source": [
    "trials_df = study2.trials_dataframe()\n",
    "trials_df[['params_model_name', 'params_n_users', 'value']].sort_values(['value'], ascending=False)"
   ]
  },
  {
   "cell_type": "code",
   "execution_count": 43,
   "id": "ec9f9848-f638-483b-a578-8d3007a2f6e1",
   "metadata": {},
   "outputs": [
    {
     "data": {
      "text/plain": [
       "0.028883008743459497"
      ]
     },
     "execution_count": 43,
     "metadata": {},
     "output_type": "execute_result"
    }
   ],
   "source": [
    "study.best_trial.value"
   ]
  },
  {
   "cell_type": "markdown",
   "id": "cc371181-41f8-4892-b7cc-5325d9b5acd8",
   "metadata": {},
   "source": [
    "## MAP10_50K (Upgraded)\n",
    "\n",
    "Prev: **0.004343470405132799**\n",
    "\n",
    "Curr: **0.028883008743459497**\n",
    "\n",
    "## MAP10_150K\n",
    "\n",
    "1: 0.02960096673947527 and parameters: {'n_users': 10, 'model_name': 'cosine', 'all_days': False, 'days': 24}\n",
    "\n",
    "2: 0.019387685103708613 and parameters: {'n_users': 14, 'model_name': 'bm25', 'all_days': False, 'days': 17}\n",
    "\n",
    "3: 0.025924634051919925 and parameters: {'n_users': 12, 'model_name': 'tfidf', 'all_days': True, 'days': 2}"
   ]
  },
  {
   "cell_type": "markdown",
   "id": "cc9ab7b3-5eb8-44c3-80b9-e78ff2736b30",
   "metadata": {},
   "source": [
    "## Blanding"
   ]
  },
  {
   "cell_type": "code",
   "execution_count": 20,
   "id": "a06d41fd-c586-4e3a-8dd9-08f7dfd0b36c",
   "metadata": {},
   "outputs": [],
   "source": [
    "users, items, interactions = datasets.users, datasets.items, datasets.interactions\n",
    "users = users[:150000].reset_index(drop=True)\n",
    "interactions = interactions[interactions['user_id'].isin(users['user_id'])].reset_index(drop=True)\n",
    "items = items[items['item_id'].isin(interactions['item_id'])].reset_index(drop=True)\n",
    "\n",
    "interactions_df = Interactions(interactions)"
   ]
  },
  {
   "cell_type": "code",
   "execution_count": 21,
   "id": "cc218ec0-3fdf-4cb8-abb5-b5e0625387df",
   "metadata": {},
   "outputs": [],
   "source": [
    "from userknn_techniques.v2_blanding import UserKNN_Blanding3"
   ]
  },
  {
   "cell_type": "code",
   "execution_count": 12,
   "id": "80c296b3-1da6-46f2-b6c1-f95a687f6486",
   "metadata": {},
   "outputs": [],
   "source": [
    "def popular_number_of_items_days(\n",
    "    df: pd.DataFrame, k: int = 10, days: int = 14, all_time: bool = False\n",
    ") -> np.array:\n",
    "    \"\"\"\n",
    "    Return a np.array of top@k most popular items for last N days\n",
    "    \"\"\"\n",
    "    if all_time is True:\n",
    "        recommendations = df.loc[:, \"item_id\"].value_counts().head(k).index.values\n",
    "    else:\n",
    "        min_date = df[\"datetime\"].max().normalize() - pd.DateOffset(days)\n",
    "        recommendations = (\n",
    "            df.loc[df[\"datetime\"] > min_date, \"item_id\"]\n",
    "            .value_counts()\n",
    "            .head(k)\n",
    "            .index.values\n",
    "        )\n",
    "    return list(recommendations)"
   ]
  },
  {
   "cell_type": "code",
   "execution_count": 23,
   "id": "cfaa1381-28a9-4306-8d62-c3f8924b0394",
   "metadata": {},
   "outputs": [],
   "source": [
    "n_folds = 4\n",
    "unit = \"W\"\n",
    "n_units = 1\n",
    "\n",
    "last_date = interactions['datetime'].max().normalize()\n",
    "start_date = last_date - pd.Timedelta(n_folds * n_units + 1, unit=unit)\n",
    "periods = n_folds + 1\n",
    "freq = f\"{n_units}{unit}\"\n",
    "\n",
    "date_range = pd.date_range(start=start_date, periods=periods, freq=freq, tz=last_date.tz)\n",
    "\n",
    "cv = TimeRangeSplitter(\n",
    "    date_range=date_range,\n",
    "    filter_already_seen=True,\n",
    "    filter_cold_items=True,\n",
    "    filter_cold_users=True,\n",
    ")"
   ]
  },
  {
   "cell_type": "code",
   "execution_count": 24,
   "id": "c47742a1-6a92-4fea-b6e8-65da03f14e51",
   "metadata": {},
   "outputs": [],
   "source": [
    "models_map = {\n",
    "    'cosine': CosineRecommender,\n",
    "    'bm25': BM25Recommender,\n",
    "    'tfidf': TFIDFRecommender,\n",
    "}"
   ]
  },
  {
   "cell_type": "code",
   "execution_count": 25,
   "id": "163c0649-c98a-478e-abb0-bb6bd048f00c",
   "metadata": {},
   "outputs": [],
   "source": [
    "metrics = {\n",
    "    \"map@10\": MAP(k=10),\n",
    "    \"prec@10\": Precision(k=10),\n",
    "    \"recall@10\": Recall(k=10),\n",
    "    \"novelty\": MeanInvUserFreq(k=10),\n",
    "    \"serendipity\": Serendipity(k=10),\n",
    "}"
   ]
  },
  {
   "cell_type": "code",
   "execution_count": 26,
   "id": "63e0cc24-cd43-4407-903f-f7999bc27696",
   "metadata": {},
   "outputs": [],
   "source": [
    "def objective_blanded(trial):\n",
    "    fold_iterator = cv.split(interactions_df, collect_fold_stats=True)\n",
    "    map10_buff = []\n",
    "\n",
    "    for i_fold, (train_ids, test_ids, fold_info) in enumerate(fold_iterator):\n",
    "        print(f\"\\n==================== Fold {i_fold}\")\n",
    "        print(fold_info)\n",
    "\n",
    "        df_train = interactions_df.df.iloc[train_ids].copy()\n",
    "        df_test = interactions_df.df.iloc[test_ids].copy()\n",
    "\n",
    "        catalog = df_train['item_id'].unique()\n",
    "\n",
    "        all_time = trial.suggest_categorical('all_time', [True, False])\n",
    "        days = trial.suggest_int('days', 1, 28)\n",
    "\n",
    "        pop_items = popular_number_of_items_days(\n",
    "            df_train, k=10, days=days, all_time=all_time\n",
    "        )\n",
    "        \n",
    "        model_type1 = trial.suggest_categorical('model1', ['cosine', 'bm25', 'tfidf'])\n",
    "        model_type2 = trial.suggest_categorical('model2', ['cosine', 'bm25', 'tfidf'])\n",
    "        model_type3 = trial.suggest_categorical('model3', ['cosine', 'bm25', 'tfidf'])\n",
    "\n",
    "        model1 = models_map[model_type1](K=10)\n",
    "        model2 = models_map[model_type2](K=10)\n",
    "        model3 = models_map[model_type3](K=10)\n",
    "        \n",
    "        n_user = trial.suggest_int('n_users', 10, 50)\n",
    "        \n",
    "        w1 = trial.suggest_float('w1', 0.0, 1.0)\n",
    "        w2 = trial.suggest_float('w2', 0.0, 1.0)\n",
    "        w3 = trial.suggest_float('w3', 0.0, 1.0)\n",
    "\n",
    "        userknn_model = UserKNN_Blanding3(model1, model2, model3, w1=w1, w2=w2, w3=w3,\n",
    "                                          pop_items=pop_items, N_users=n_user)\n",
    "        userknn_model.fit(df_train)\n",
    "\n",
    "        recos = userknn_model.predict(df_test)\n",
    "\n",
    "        metric_values = calc_metrics(\n",
    "            metrics,\n",
    "            reco=recos,\n",
    "            interactions=df_test,\n",
    "            prev_interactions=df_train,\n",
    "            catalog=catalog,\n",
    "        )\n",
    "\n",
    "        fold = {\"fold\": i_fold, \"model1\": model1, \"model2\": model2, \"model3\": model3,\n",
    "                'n_users': n_user}\n",
    "        fold.update(metric_values)\n",
    "\n",
    "        map10_buff.append(metric_values['map@10'])\n",
    "\n",
    "    return np.array(map10_buff).mean()"
   ]
  },
  {
   "cell_type": "code",
   "execution_count": 27,
   "id": "00874fb1-a42d-4471-aae6-6db50af9d068",
   "metadata": {},
   "outputs": [],
   "source": [
    "import optuna"
   ]
  },
  {
   "cell_type": "code",
   "execution_count": 28,
   "id": "96c0920d-2a48-4db9-b5b4-3682568d3aa1",
   "metadata": {},
   "outputs": [
    {
     "name": "stderr",
     "output_type": "stream",
     "text": [
      "\u001b[32m[I 2022-12-07 18:04:13,993]\u001b[0m A new study created in RDB with name: no-name-3a546a2e-785f-433e-a3ae-06eed3284b93\u001b[0m\n"
     ]
    }
   ],
   "source": [
    "study = optuna.create_study(direction=\"maximize\", storage='sqlite:///userknn.db')\n",
    "\n",
    "# 50k: no-name-052d91f7-cba0-41d5-b014-1c66379bccfb\n",
    "# 50k: with weights: no-name-fee147eb-e86e-4e7b-af3f-970e8d312765\n",
    "# 150k (with weights): no-name-3a546a2e-785f-433e-a3ae-06eed3284b93"
   ]
  },
  {
   "cell_type": "code",
   "execution_count": 29,
   "id": "cf101a99-a8bf-4c2a-b2bb-b825551d49ae",
   "metadata": {},
   "outputs": [
    {
     "name": "stdout",
     "output_type": "stream",
     "text": [
      "\n",
      "==================== Fold 0\n",
      "{'Start date': Timestamp('2021-07-18 00:00:00', freq='W-SUN'), 'End date': Timestamp('2021-07-25 00:00:00', freq='W-SUN'), 'Train': 507101, 'Train users': 96298, 'Train items': 9563, 'Test': 33870, 'Test users': 12727, 'Test items': 3629}\n"
     ]
    },
    {
     "data": {
      "application/vnd.jupyter.widget-view+json": {
       "model_id": "a384188f973c41de82322c7b0331182c",
       "version_major": 2,
       "version_minor": 0
      },
      "text/plain": [
       "  0%|          | 0/96298 [00:00<?, ?it/s]"
      ]
     },
     "metadata": {},
     "output_type": "display_data"
    },
    {
     "data": {
      "application/vnd.jupyter.widget-view+json": {
       "model_id": "6d2bdcd280f84ccc8c1f9047f71ad045",
       "version_major": 2,
       "version_minor": 0
      },
      "text/plain": [
       "  0%|          | 0/96298 [00:00<?, ?it/s]"
      ]
     },
     "metadata": {},
     "output_type": "display_data"
    },
    {
     "data": {
      "application/vnd.jupyter.widget-view+json": {
       "model_id": "0ea4f1a885874053b7e4f3184cd34a9d",
       "version_major": 2,
       "version_minor": 0
      },
      "text/plain": [
       "  0%|          | 0/96298 [00:00<?, ?it/s]"
      ]
     },
     "metadata": {},
     "output_type": "display_data"
    },
    {
     "name": "stdout",
     "output_type": "stream",
     "text": [
      "SHAPE (95909, 3)\n",
      "\n",
      "==================== Fold 1\n",
      "{'Start date': Timestamp('2021-07-25 00:00:00', freq='W-SUN'), 'End date': Timestamp('2021-08-01 00:00:00', freq='W-SUN'), 'Train': 555103, 'Train users': 102785, 'Train items': 9736, 'Test': 36409, 'Test users': 13695, 'Test items': 3632}\n"
     ]
    },
    {
     "data": {
      "application/vnd.jupyter.widget-view+json": {
       "model_id": "f3c1715bd3344c289c17adee11d19f0a",
       "version_major": 2,
       "version_minor": 0
      },
      "text/plain": [
       "  0%|          | 0/102785 [00:00<?, ?it/s]"
      ]
     },
     "metadata": {},
     "output_type": "display_data"
    },
    {
     "data": {
      "application/vnd.jupyter.widget-view+json": {
       "model_id": "6b157402f2d544d2a3e560b1991b0fbc",
       "version_major": 2,
       "version_minor": 0
      },
      "text/plain": [
       "  0%|          | 0/102785 [00:00<?, ?it/s]"
      ]
     },
     "metadata": {},
     "output_type": "display_data"
    },
    {
     "data": {
      "application/vnd.jupyter.widget-view+json": {
       "model_id": "af977ea110344cb3a2ad2532b3da83f0",
       "version_major": 2,
       "version_minor": 0
      },
      "text/plain": [
       "  0%|          | 0/102785 [00:00<?, ?it/s]"
      ]
     },
     "metadata": {},
     "output_type": "display_data"
    },
    {
     "name": "stdout",
     "output_type": "stream",
     "text": [
      "SHAPE (104655, 3)\n",
      "\n",
      "==================== Fold 2\n",
      "{'Start date': Timestamp('2021-08-01 00:00:00', freq='W-SUN'), 'End date': Timestamp('2021-08-08 00:00:00', freq='W-SUN'), 'Train': 607865, 'Train users': 110035, 'Train items': 9909, 'Test': 37349, 'Test users': 14158, 'Test items': 3497}\n"
     ]
    },
    {
     "data": {
      "application/vnd.jupyter.widget-view+json": {
       "model_id": "fed8dd63836344b3b69532854a82209f",
       "version_major": 2,
       "version_minor": 0
      },
      "text/plain": [
       "  0%|          | 0/110035 [00:00<?, ?it/s]"
      ]
     },
     "metadata": {},
     "output_type": "display_data"
    },
    {
     "data": {
      "application/vnd.jupyter.widget-view+json": {
       "model_id": "93e3404d77bb47eaa7e48496aa409c41",
       "version_major": 2,
       "version_minor": 0
      },
      "text/plain": [
       "  0%|          | 0/110035 [00:00<?, ?it/s]"
      ]
     },
     "metadata": {},
     "output_type": "display_data"
    },
    {
     "data": {
      "application/vnd.jupyter.widget-view+json": {
       "model_id": "b7d3f4f87aa740d0980a6da8fe639cb3",
       "version_major": 2,
       "version_minor": 0
      },
      "text/plain": [
       "  0%|          | 0/110035 [00:00<?, ?it/s]"
      ]
     },
     "metadata": {},
     "output_type": "display_data"
    },
    {
     "name": "stdout",
     "output_type": "stream",
     "text": [
      "SHAPE (107435, 3)\n",
      "\n",
      "==================== Fold 3\n",
      "{'Start date': Timestamp('2021-08-08 00:00:00', freq='W-SUN'), 'End date': Timestamp('2021-08-15 00:00:00', freq='W-SUN'), 'Train': 662260, 'Train users': 117161, 'Train items': 10124, 'Test': 39661, 'Test users': 14731, 'Test items': 3642}\n"
     ]
    },
    {
     "data": {
      "application/vnd.jupyter.widget-view+json": {
       "model_id": "15499c1c2bf84e5db285850615c47940",
       "version_major": 2,
       "version_minor": 0
      },
      "text/plain": [
       "  0%|          | 0/117161 [00:00<?, ?it/s]"
      ]
     },
     "metadata": {},
     "output_type": "display_data"
    },
    {
     "data": {
      "application/vnd.jupyter.widget-view+json": {
       "model_id": "fc9a6ca0ac644f18acb577c181c83d18",
       "version_major": 2,
       "version_minor": 0
      },
      "text/plain": [
       "  0%|          | 0/117161 [00:00<?, ?it/s]"
      ]
     },
     "metadata": {},
     "output_type": "display_data"
    },
    {
     "data": {
      "application/vnd.jupyter.widget-view+json": {
       "model_id": "5d688683200d48f385b071e323820f5b",
       "version_major": 2,
       "version_minor": 0
      },
      "text/plain": [
       "  0%|          | 0/117161 [00:00<?, ?it/s]"
      ]
     },
     "metadata": {},
     "output_type": "display_data"
    },
    {
     "name": "stdout",
     "output_type": "stream",
     "text": [
      "SHAPE (113059, 3)\n"
     ]
    },
    {
     "name": "stderr",
     "output_type": "stream",
     "text": [
      "\u001b[32m[I 2022-12-07 18:06:09,056]\u001b[0m Trial 0 finished with value: 0.02173117009772407 and parameters: {'all_time': True, 'days': 16, 'model1': 'bm25', 'model2': 'bm25', 'model3': 'cosine', 'n_users': 20, 'w1': 0.7831424802255524, 'w2': 0.7909358995272207, 'w3': 0.9814560995325423}. Best is trial 0 with value: 0.02173117009772407.\u001b[0m\n"
     ]
    },
    {
     "name": "stdout",
     "output_type": "stream",
     "text": [
      "\n",
      "==================== Fold 0\n",
      "{'Start date': Timestamp('2021-07-18 00:00:00', freq='W-SUN'), 'End date': Timestamp('2021-07-25 00:00:00', freq='W-SUN'), 'Train': 507101, 'Train users': 96298, 'Train items': 9563, 'Test': 33870, 'Test users': 12727, 'Test items': 3629}\n"
     ]
    },
    {
     "data": {
      "application/vnd.jupyter.widget-view+json": {
       "model_id": "9c7555ef5a69447fb01bd28a12badd38",
       "version_major": 2,
       "version_minor": 0
      },
      "text/plain": [
       "  0%|          | 0/96298 [00:00<?, ?it/s]"
      ]
     },
     "metadata": {},
     "output_type": "display_data"
    },
    {
     "data": {
      "application/vnd.jupyter.widget-view+json": {
       "model_id": "02bbf1850d4840efba5148d98cc1a9af",
       "version_major": 2,
       "version_minor": 0
      },
      "text/plain": [
       "  0%|          | 0/96298 [00:00<?, ?it/s]"
      ]
     },
     "metadata": {},
     "output_type": "display_data"
    },
    {
     "data": {
      "application/vnd.jupyter.widget-view+json": {
       "model_id": "fe68e3d9bcdc4963a92338911a02dfb8",
       "version_major": 2,
       "version_minor": 0
      },
      "text/plain": [
       "  0%|          | 0/96298 [00:00<?, ?it/s]"
      ]
     },
     "metadata": {},
     "output_type": "display_data"
    },
    {
     "name": "stdout",
     "output_type": "stream",
     "text": [
      "SHAPE (78790, 3)\n",
      "\n",
      "==================== Fold 1\n",
      "{'Start date': Timestamp('2021-07-25 00:00:00', freq='W-SUN'), 'End date': Timestamp('2021-08-01 00:00:00', freq='W-SUN'), 'Train': 555103, 'Train users': 102785, 'Train items': 9736, 'Test': 36409, 'Test users': 13695, 'Test items': 3632}\n"
     ]
    },
    {
     "data": {
      "application/vnd.jupyter.widget-view+json": {
       "model_id": "23f2785c9e2c421a8d5a1a3b8ba4417a",
       "version_major": 2,
       "version_minor": 0
      },
      "text/plain": [
       "  0%|          | 0/102785 [00:00<?, ?it/s]"
      ]
     },
     "metadata": {},
     "output_type": "display_data"
    },
    {
     "data": {
      "application/vnd.jupyter.widget-view+json": {
       "model_id": "98b6bc104bf6413980844b3cd9772b27",
       "version_major": 2,
       "version_minor": 0
      },
      "text/plain": [
       "  0%|          | 0/102785 [00:00<?, ?it/s]"
      ]
     },
     "metadata": {},
     "output_type": "display_data"
    },
    {
     "data": {
      "application/vnd.jupyter.widget-view+json": {
       "model_id": "9f2cefa28f58443c920dffeb142ebca4",
       "version_major": 2,
       "version_minor": 0
      },
      "text/plain": [
       "  0%|          | 0/102785 [00:00<?, ?it/s]"
      ]
     },
     "metadata": {},
     "output_type": "display_data"
    },
    {
     "name": "stdout",
     "output_type": "stream",
     "text": [
      "SHAPE (86080, 3)\n",
      "\n",
      "==================== Fold 2\n",
      "{'Start date': Timestamp('2021-08-01 00:00:00', freq='W-SUN'), 'End date': Timestamp('2021-08-08 00:00:00', freq='W-SUN'), 'Train': 607865, 'Train users': 110035, 'Train items': 9909, 'Test': 37349, 'Test users': 14158, 'Test items': 3497}\n"
     ]
    },
    {
     "data": {
      "application/vnd.jupyter.widget-view+json": {
       "model_id": "74fdd2550f5a4012a4265e0d7957afd9",
       "version_major": 2,
       "version_minor": 0
      },
      "text/plain": [
       "  0%|          | 0/110035 [00:00<?, ?it/s]"
      ]
     },
     "metadata": {},
     "output_type": "display_data"
    },
    {
     "data": {
      "application/vnd.jupyter.widget-view+json": {
       "model_id": "6bf5853fc41d4dd8a9ef02bd89017afe",
       "version_major": 2,
       "version_minor": 0
      },
      "text/plain": [
       "  0%|          | 0/110035 [00:00<?, ?it/s]"
      ]
     },
     "metadata": {},
     "output_type": "display_data"
    },
    {
     "data": {
      "application/vnd.jupyter.widget-view+json": {
       "model_id": "e15cae42bccc4603b4e2b95630a809c3",
       "version_major": 2,
       "version_minor": 0
      },
      "text/plain": [
       "  0%|          | 0/110035 [00:00<?, ?it/s]"
      ]
     },
     "metadata": {},
     "output_type": "display_data"
    },
    {
     "name": "stdout",
     "output_type": "stream",
     "text": [
      "SHAPE (88913, 3)\n",
      "\n",
      "==================== Fold 3\n",
      "{'Start date': Timestamp('2021-08-08 00:00:00', freq='W-SUN'), 'End date': Timestamp('2021-08-15 00:00:00', freq='W-SUN'), 'Train': 662260, 'Train users': 117161, 'Train items': 10124, 'Test': 39661, 'Test users': 14731, 'Test items': 3642}\n"
     ]
    },
    {
     "data": {
      "application/vnd.jupyter.widget-view+json": {
       "model_id": "b553d433738544fe904664115a7d0958",
       "version_major": 2,
       "version_minor": 0
      },
      "text/plain": [
       "  0%|          | 0/117161 [00:00<?, ?it/s]"
      ]
     },
     "metadata": {},
     "output_type": "display_data"
    },
    {
     "data": {
      "application/vnd.jupyter.widget-view+json": {
       "model_id": "6a2ee088c35d4805a9f05fd1293c1acf",
       "version_major": 2,
       "version_minor": 0
      },
      "text/plain": [
       "  0%|          | 0/117161 [00:00<?, ?it/s]"
      ]
     },
     "metadata": {},
     "output_type": "display_data"
    },
    {
     "data": {
      "application/vnd.jupyter.widget-view+json": {
       "model_id": "9ae13d4971e0473cac1a5f3e686fbbb7",
       "version_major": 2,
       "version_minor": 0
      },
      "text/plain": [
       "  0%|          | 0/117161 [00:00<?, ?it/s]"
      ]
     },
     "metadata": {},
     "output_type": "display_data"
    },
    {
     "name": "stdout",
     "output_type": "stream",
     "text": [
      "SHAPE (94152, 3)\n"
     ]
    },
    {
     "name": "stderr",
     "output_type": "stream",
     "text": [
      "\u001b[32m[I 2022-12-07 18:07:22,165]\u001b[0m Trial 1 finished with value: 0.0296253875791202 and parameters: {'all_time': False, 'days': 25, 'model1': 'cosine', 'model2': 'cosine', 'model3': 'cosine', 'n_users': 19, 'w1': 0.08963113134145984, 'w2': 0.6905790553300366, 'w3': 0.06543205412626707}. Best is trial 1 with value: 0.0296253875791202.\u001b[0m\n"
     ]
    },
    {
     "name": "stdout",
     "output_type": "stream",
     "text": [
      "\n",
      "==================== Fold 0\n",
      "{'Start date': Timestamp('2021-07-18 00:00:00', freq='W-SUN'), 'End date': Timestamp('2021-07-25 00:00:00', freq='W-SUN'), 'Train': 507101, 'Train users': 96298, 'Train items': 9563, 'Test': 33870, 'Test users': 12727, 'Test items': 3629}\n"
     ]
    },
    {
     "data": {
      "application/vnd.jupyter.widget-view+json": {
       "model_id": "ed91f2d2e9dc46a785939e904e6281b0",
       "version_major": 2,
       "version_minor": 0
      },
      "text/plain": [
       "  0%|          | 0/96298 [00:00<?, ?it/s]"
      ]
     },
     "metadata": {},
     "output_type": "display_data"
    },
    {
     "data": {
      "application/vnd.jupyter.widget-view+json": {
       "model_id": "67a9b13639444b079eeab2f90b761bad",
       "version_major": 2,
       "version_minor": 0
      },
      "text/plain": [
       "  0%|          | 0/96298 [00:00<?, ?it/s]"
      ]
     },
     "metadata": {},
     "output_type": "display_data"
    },
    {
     "data": {
      "application/vnd.jupyter.widget-view+json": {
       "model_id": "eb8479e1e4194e04a31c1796ad384745",
       "version_major": 2,
       "version_minor": 0
      },
      "text/plain": [
       "  0%|          | 0/96298 [00:00<?, ?it/s]"
      ]
     },
     "metadata": {},
     "output_type": "display_data"
    },
    {
     "name": "stdout",
     "output_type": "stream",
     "text": [
      "SHAPE (78790, 3)\n",
      "\n",
      "==================== Fold 1\n",
      "{'Start date': Timestamp('2021-07-25 00:00:00', freq='W-SUN'), 'End date': Timestamp('2021-08-01 00:00:00', freq='W-SUN'), 'Train': 555103, 'Train users': 102785, 'Train items': 9736, 'Test': 36409, 'Test users': 13695, 'Test items': 3632}\n"
     ]
    },
    {
     "data": {
      "application/vnd.jupyter.widget-view+json": {
       "model_id": "d18c05f024574c57af34eb1fa8d75107",
       "version_major": 2,
       "version_minor": 0
      },
      "text/plain": [
       "  0%|          | 0/102785 [00:00<?, ?it/s]"
      ]
     },
     "metadata": {},
     "output_type": "display_data"
    },
    {
     "data": {
      "application/vnd.jupyter.widget-view+json": {
       "model_id": "62f1246f04c44e1faa62bf6c6a3f860f",
       "version_major": 2,
       "version_minor": 0
      },
      "text/plain": [
       "  0%|          | 0/102785 [00:00<?, ?it/s]"
      ]
     },
     "metadata": {},
     "output_type": "display_data"
    },
    {
     "data": {
      "application/vnd.jupyter.widget-view+json": {
       "model_id": "b607b3acd2be4ca28c2447a8dbef975c",
       "version_major": 2,
       "version_minor": 0
      },
      "text/plain": [
       "  0%|          | 0/102785 [00:00<?, ?it/s]"
      ]
     },
     "metadata": {},
     "output_type": "display_data"
    },
    {
     "name": "stdout",
     "output_type": "stream",
     "text": [
      "SHAPE (86080, 3)\n",
      "\n",
      "==================== Fold 2\n",
      "{'Start date': Timestamp('2021-08-01 00:00:00', freq='W-SUN'), 'End date': Timestamp('2021-08-08 00:00:00', freq='W-SUN'), 'Train': 607865, 'Train users': 110035, 'Train items': 9909, 'Test': 37349, 'Test users': 14158, 'Test items': 3497}\n"
     ]
    },
    {
     "data": {
      "application/vnd.jupyter.widget-view+json": {
       "model_id": "16e6611ce21c4c67bce43ce8f8204129",
       "version_major": 2,
       "version_minor": 0
      },
      "text/plain": [
       "  0%|          | 0/110035 [00:00<?, ?it/s]"
      ]
     },
     "metadata": {},
     "output_type": "display_data"
    },
    {
     "data": {
      "application/vnd.jupyter.widget-view+json": {
       "model_id": "400bb481484746928928f351d242285a",
       "version_major": 2,
       "version_minor": 0
      },
      "text/plain": [
       "  0%|          | 0/110035 [00:00<?, ?it/s]"
      ]
     },
     "metadata": {},
     "output_type": "display_data"
    },
    {
     "data": {
      "application/vnd.jupyter.widget-view+json": {
       "model_id": "3b6e00ec07c04016a9665806967433bc",
       "version_major": 2,
       "version_minor": 0
      },
      "text/plain": [
       "  0%|          | 0/110035 [00:00<?, ?it/s]"
      ]
     },
     "metadata": {},
     "output_type": "display_data"
    },
    {
     "name": "stdout",
     "output_type": "stream",
     "text": [
      "SHAPE (88913, 3)\n",
      "\n",
      "==================== Fold 3\n",
      "{'Start date': Timestamp('2021-08-08 00:00:00', freq='W-SUN'), 'End date': Timestamp('2021-08-15 00:00:00', freq='W-SUN'), 'Train': 662260, 'Train users': 117161, 'Train items': 10124, 'Test': 39661, 'Test users': 14731, 'Test items': 3642}\n"
     ]
    },
    {
     "data": {
      "application/vnd.jupyter.widget-view+json": {
       "model_id": "e2c4c57c1f574e828dc0e84086400668",
       "version_major": 2,
       "version_minor": 0
      },
      "text/plain": [
       "  0%|          | 0/117161 [00:00<?, ?it/s]"
      ]
     },
     "metadata": {},
     "output_type": "display_data"
    },
    {
     "data": {
      "application/vnd.jupyter.widget-view+json": {
       "model_id": "c5f0801778fb448da6264e1a5f6e76b8",
       "version_major": 2,
       "version_minor": 0
      },
      "text/plain": [
       "  0%|          | 0/117161 [00:00<?, ?it/s]"
      ]
     },
     "metadata": {},
     "output_type": "display_data"
    },
    {
     "data": {
      "application/vnd.jupyter.widget-view+json": {
       "model_id": "1d97995cf5b64fdfa42ba4bf7f7dc3f1",
       "version_major": 2,
       "version_minor": 0
      },
      "text/plain": [
       "  0%|          | 0/117161 [00:00<?, ?it/s]"
      ]
     },
     "metadata": {},
     "output_type": "display_data"
    },
    {
     "name": "stdout",
     "output_type": "stream",
     "text": [
      "SHAPE (94152, 3)\n"
     ]
    },
    {
     "name": "stderr",
     "output_type": "stream",
     "text": [
      "\u001b[32m[I 2022-12-07 18:08:37,540]\u001b[0m Trial 2 finished with value: 0.028584343384266044 and parameters: {'all_time': True, 'days': 16, 'model1': 'cosine', 'model2': 'tfidf', 'model3': 'cosine', 'n_users': 13, 'w1': 0.951320077354751, 'w2': 0.17732581419895577, 'w3': 0.6025832965426499}. Best is trial 1 with value: 0.0296253875791202.\u001b[0m\n"
     ]
    },
    {
     "name": "stdout",
     "output_type": "stream",
     "text": [
      "\n",
      "==================== Fold 0\n",
      "{'Start date': Timestamp('2021-07-18 00:00:00', freq='W-SUN'), 'End date': Timestamp('2021-07-25 00:00:00', freq='W-SUN'), 'Train': 507101, 'Train users': 96298, 'Train items': 9563, 'Test': 33870, 'Test users': 12727, 'Test items': 3629}\n"
     ]
    },
    {
     "data": {
      "application/vnd.jupyter.widget-view+json": {
       "model_id": "09f5a69a976c4fcbbdaaf108eb7523fc",
       "version_major": 2,
       "version_minor": 0
      },
      "text/plain": [
       "  0%|          | 0/96298 [00:00<?, ?it/s]"
      ]
     },
     "metadata": {},
     "output_type": "display_data"
    },
    {
     "data": {
      "application/vnd.jupyter.widget-view+json": {
       "model_id": "c97bacdac018429a93347bfc01e5e580",
       "version_major": 2,
       "version_minor": 0
      },
      "text/plain": [
       "  0%|          | 0/96298 [00:00<?, ?it/s]"
      ]
     },
     "metadata": {},
     "output_type": "display_data"
    },
    {
     "data": {
      "application/vnd.jupyter.widget-view+json": {
       "model_id": "e0df9f7f78b647499cb0058fd7ee852d",
       "version_major": 2,
       "version_minor": 0
      },
      "text/plain": [
       "  0%|          | 0/96298 [00:00<?, ?it/s]"
      ]
     },
     "metadata": {},
     "output_type": "display_data"
    },
    {
     "name": "stdout",
     "output_type": "stream",
     "text": [
      "SHAPE (95909, 3)\n",
      "\n",
      "==================== Fold 1\n",
      "{'Start date': Timestamp('2021-07-25 00:00:00', freq='W-SUN'), 'End date': Timestamp('2021-08-01 00:00:00', freq='W-SUN'), 'Train': 555103, 'Train users': 102785, 'Train items': 9736, 'Test': 36409, 'Test users': 13695, 'Test items': 3632}\n"
     ]
    },
    {
     "data": {
      "application/vnd.jupyter.widget-view+json": {
       "model_id": "bc1c31418303441e8145b5a8f1e019d7",
       "version_major": 2,
       "version_minor": 0
      },
      "text/plain": [
       "  0%|          | 0/102785 [00:00<?, ?it/s]"
      ]
     },
     "metadata": {},
     "output_type": "display_data"
    },
    {
     "data": {
      "application/vnd.jupyter.widget-view+json": {
       "model_id": "24fd000ed4a9410a82fb9b38ef5186b2",
       "version_major": 2,
       "version_minor": 0
      },
      "text/plain": [
       "  0%|          | 0/102785 [00:00<?, ?it/s]"
      ]
     },
     "metadata": {},
     "output_type": "display_data"
    },
    {
     "data": {
      "application/vnd.jupyter.widget-view+json": {
       "model_id": "79b4a8e1a72448a58561c719255ad660",
       "version_major": 2,
       "version_minor": 0
      },
      "text/plain": [
       "  0%|          | 0/102785 [00:00<?, ?it/s]"
      ]
     },
     "metadata": {},
     "output_type": "display_data"
    },
    {
     "name": "stdout",
     "output_type": "stream",
     "text": [
      "SHAPE (104655, 3)\n",
      "\n",
      "==================== Fold 2\n",
      "{'Start date': Timestamp('2021-08-01 00:00:00', freq='W-SUN'), 'End date': Timestamp('2021-08-08 00:00:00', freq='W-SUN'), 'Train': 607865, 'Train users': 110035, 'Train items': 9909, 'Test': 37349, 'Test users': 14158, 'Test items': 3497}\n"
     ]
    },
    {
     "data": {
      "application/vnd.jupyter.widget-view+json": {
       "model_id": "9838954cfd0d410493db8b36e4671a6e",
       "version_major": 2,
       "version_minor": 0
      },
      "text/plain": [
       "  0%|          | 0/110035 [00:00<?, ?it/s]"
      ]
     },
     "metadata": {},
     "output_type": "display_data"
    },
    {
     "data": {
      "application/vnd.jupyter.widget-view+json": {
       "model_id": "5afc9f86cf3743a388efe3aceb369f93",
       "version_major": 2,
       "version_minor": 0
      },
      "text/plain": [
       "  0%|          | 0/110035 [00:00<?, ?it/s]"
      ]
     },
     "metadata": {},
     "output_type": "display_data"
    },
    {
     "data": {
      "application/vnd.jupyter.widget-view+json": {
       "model_id": "1e31234885444d59bd12cc11dcbc20fb",
       "version_major": 2,
       "version_minor": 0
      },
      "text/plain": [
       "  0%|          | 0/110035 [00:00<?, ?it/s]"
      ]
     },
     "metadata": {},
     "output_type": "display_data"
    },
    {
     "name": "stdout",
     "output_type": "stream",
     "text": [
      "SHAPE (107435, 3)\n",
      "\n",
      "==================== Fold 3\n",
      "{'Start date': Timestamp('2021-08-08 00:00:00', freq='W-SUN'), 'End date': Timestamp('2021-08-15 00:00:00', freq='W-SUN'), 'Train': 662260, 'Train users': 117161, 'Train items': 10124, 'Test': 39661, 'Test users': 14731, 'Test items': 3642}\n"
     ]
    },
    {
     "data": {
      "application/vnd.jupyter.widget-view+json": {
       "model_id": "996afd45d7784cb182d7629bb4a2bdcc",
       "version_major": 2,
       "version_minor": 0
      },
      "text/plain": [
       "  0%|          | 0/117161 [00:00<?, ?it/s]"
      ]
     },
     "metadata": {},
     "output_type": "display_data"
    },
    {
     "data": {
      "application/vnd.jupyter.widget-view+json": {
       "model_id": "1c7993f7887c4c1fb220a5a1e48f8737",
       "version_major": 2,
       "version_minor": 0
      },
      "text/plain": [
       "  0%|          | 0/117161 [00:00<?, ?it/s]"
      ]
     },
     "metadata": {},
     "output_type": "display_data"
    },
    {
     "data": {
      "application/vnd.jupyter.widget-view+json": {
       "model_id": "15fbb2394062496c800f6dfd51bf11c4",
       "version_major": 2,
       "version_minor": 0
      },
      "text/plain": [
       "  0%|          | 0/117161 [00:00<?, ?it/s]"
      ]
     },
     "metadata": {},
     "output_type": "display_data"
    },
    {
     "name": "stdout",
     "output_type": "stream",
     "text": [
      "SHAPE (113059, 3)\n"
     ]
    },
    {
     "name": "stderr",
     "output_type": "stream",
     "text": [
      "\u001b[32m[I 2022-12-07 18:09:50,620]\u001b[0m Trial 3 finished with value: 0.022461401950870232 and parameters: {'all_time': False, 'days': 16, 'model1': 'bm25', 'model2': 'tfidf', 'model3': 'tfidf', 'n_users': 49, 'w1': 0.49988511891255993, 'w2': 0.6252979755791215, 'w3': 0.10056510224902415}. Best is trial 1 with value: 0.0296253875791202.\u001b[0m\n"
     ]
    },
    {
     "name": "stdout",
     "output_type": "stream",
     "text": [
      "\n",
      "==================== Fold 0\n",
      "{'Start date': Timestamp('2021-07-18 00:00:00', freq='W-SUN'), 'End date': Timestamp('2021-07-25 00:00:00', freq='W-SUN'), 'Train': 507101, 'Train users': 96298, 'Train items': 9563, 'Test': 33870, 'Test users': 12727, 'Test items': 3629}\n"
     ]
    },
    {
     "data": {
      "application/vnd.jupyter.widget-view+json": {
       "model_id": "0612c67349384f3a8c1f7922bb773882",
       "version_major": 2,
       "version_minor": 0
      },
      "text/plain": [
       "  0%|          | 0/96298 [00:00<?, ?it/s]"
      ]
     },
     "metadata": {},
     "output_type": "display_data"
    },
    {
     "data": {
      "application/vnd.jupyter.widget-view+json": {
       "model_id": "ab7d355712a640eb82c7f74c276a1508",
       "version_major": 2,
       "version_minor": 0
      },
      "text/plain": [
       "  0%|          | 0/96298 [00:00<?, ?it/s]"
      ]
     },
     "metadata": {},
     "output_type": "display_data"
    },
    {
     "data": {
      "application/vnd.jupyter.widget-view+json": {
       "model_id": "4c9727381c194c09bb46a293a15f8cf7",
       "version_major": 2,
       "version_minor": 0
      },
      "text/plain": [
       "  0%|          | 0/96298 [00:00<?, ?it/s]"
      ]
     },
     "metadata": {},
     "output_type": "display_data"
    },
    {
     "name": "stdout",
     "output_type": "stream",
     "text": [
      "SHAPE (78790, 3)\n",
      "\n",
      "==================== Fold 1\n",
      "{'Start date': Timestamp('2021-07-25 00:00:00', freq='W-SUN'), 'End date': Timestamp('2021-08-01 00:00:00', freq='W-SUN'), 'Train': 555103, 'Train users': 102785, 'Train items': 9736, 'Test': 36409, 'Test users': 13695, 'Test items': 3632}\n"
     ]
    },
    {
     "data": {
      "application/vnd.jupyter.widget-view+json": {
       "model_id": "e2624b2ddc014c09a1aa343453092fd7",
       "version_major": 2,
       "version_minor": 0
      },
      "text/plain": [
       "  0%|          | 0/102785 [00:00<?, ?it/s]"
      ]
     },
     "metadata": {},
     "output_type": "display_data"
    },
    {
     "data": {
      "application/vnd.jupyter.widget-view+json": {
       "model_id": "9b46bedb9a1746e985aa2373bbd7da22",
       "version_major": 2,
       "version_minor": 0
      },
      "text/plain": [
       "  0%|          | 0/102785 [00:00<?, ?it/s]"
      ]
     },
     "metadata": {},
     "output_type": "display_data"
    },
    {
     "data": {
      "application/vnd.jupyter.widget-view+json": {
       "model_id": "17d4e3b93ecd44349ab92410e5181a5d",
       "version_major": 2,
       "version_minor": 0
      },
      "text/plain": [
       "  0%|          | 0/102785 [00:00<?, ?it/s]"
      ]
     },
     "metadata": {},
     "output_type": "display_data"
    },
    {
     "name": "stdout",
     "output_type": "stream",
     "text": [
      "SHAPE (86080, 3)\n",
      "\n",
      "==================== Fold 2\n",
      "{'Start date': Timestamp('2021-08-01 00:00:00', freq='W-SUN'), 'End date': Timestamp('2021-08-08 00:00:00', freq='W-SUN'), 'Train': 607865, 'Train users': 110035, 'Train items': 9909, 'Test': 37349, 'Test users': 14158, 'Test items': 3497}\n"
     ]
    },
    {
     "data": {
      "application/vnd.jupyter.widget-view+json": {
       "model_id": "db945168f6f2486e81dab9a80ec6c5fa",
       "version_major": 2,
       "version_minor": 0
      },
      "text/plain": [
       "  0%|          | 0/110035 [00:00<?, ?it/s]"
      ]
     },
     "metadata": {},
     "output_type": "display_data"
    },
    {
     "data": {
      "application/vnd.jupyter.widget-view+json": {
       "model_id": "ed13977afc1748148393c2e506816d27",
       "version_major": 2,
       "version_minor": 0
      },
      "text/plain": [
       "  0%|          | 0/110035 [00:00<?, ?it/s]"
      ]
     },
     "metadata": {},
     "output_type": "display_data"
    },
    {
     "data": {
      "application/vnd.jupyter.widget-view+json": {
       "model_id": "f2532b65045945d9a8a1bc7065355a85",
       "version_major": 2,
       "version_minor": 0
      },
      "text/plain": [
       "  0%|          | 0/110035 [00:00<?, ?it/s]"
      ]
     },
     "metadata": {},
     "output_type": "display_data"
    },
    {
     "name": "stdout",
     "output_type": "stream",
     "text": [
      "SHAPE (88913, 3)\n",
      "\n",
      "==================== Fold 3\n",
      "{'Start date': Timestamp('2021-08-08 00:00:00', freq='W-SUN'), 'End date': Timestamp('2021-08-15 00:00:00', freq='W-SUN'), 'Train': 662260, 'Train users': 117161, 'Train items': 10124, 'Test': 39661, 'Test users': 14731, 'Test items': 3642}\n"
     ]
    },
    {
     "data": {
      "application/vnd.jupyter.widget-view+json": {
       "model_id": "9d8c87c613f34122ba2f5ce6d329141f",
       "version_major": 2,
       "version_minor": 0
      },
      "text/plain": [
       "  0%|          | 0/117161 [00:00<?, ?it/s]"
      ]
     },
     "metadata": {},
     "output_type": "display_data"
    },
    {
     "data": {
      "application/vnd.jupyter.widget-view+json": {
       "model_id": "be336b67f06d49f9adcccbe94b057fb0",
       "version_major": 2,
       "version_minor": 0
      },
      "text/plain": [
       "  0%|          | 0/117161 [00:00<?, ?it/s]"
      ]
     },
     "metadata": {},
     "output_type": "display_data"
    },
    {
     "data": {
      "application/vnd.jupyter.widget-view+json": {
       "model_id": "d63308ae44c64a0494b6384c312331cd",
       "version_major": 2,
       "version_minor": 0
      },
      "text/plain": [
       "  0%|          | 0/117161 [00:00<?, ?it/s]"
      ]
     },
     "metadata": {},
     "output_type": "display_data"
    },
    {
     "name": "stdout",
     "output_type": "stream",
     "text": [
      "SHAPE (94152, 3)\n"
     ]
    },
    {
     "name": "stderr",
     "output_type": "stream",
     "text": [
      "\u001b[32m[I 2022-12-07 18:11:01,659]\u001b[0m Trial 4 finished with value: 0.030226762267094334 and parameters: {'all_time': False, 'days': 6, 'model1': 'cosine', 'model2': 'tfidf', 'model3': 'bm25', 'n_users': 25, 'w1': 0.03620249497851813, 'w2': 0.40656033940104175, 'w3': 0.49269354366943674}. Best is trial 4 with value: 0.030226762267094334.\u001b[0m\n"
     ]
    },
    {
     "name": "stdout",
     "output_type": "stream",
     "text": [
      "\n",
      "==================== Fold 0\n",
      "{'Start date': Timestamp('2021-07-18 00:00:00', freq='W-SUN'), 'End date': Timestamp('2021-07-25 00:00:00', freq='W-SUN'), 'Train': 507101, 'Train users': 96298, 'Train items': 9563, 'Test': 33870, 'Test users': 12727, 'Test items': 3629}\n"
     ]
    },
    {
     "data": {
      "application/vnd.jupyter.widget-view+json": {
       "model_id": "81b018656a40476cb502ded20f886948",
       "version_major": 2,
       "version_minor": 0
      },
      "text/plain": [
       "  0%|          | 0/96298 [00:00<?, ?it/s]"
      ]
     },
     "metadata": {},
     "output_type": "display_data"
    },
    {
     "data": {
      "application/vnd.jupyter.widget-view+json": {
       "model_id": "1e8235cfb9a94b93ba016cb3a030e297",
       "version_major": 2,
       "version_minor": 0
      },
      "text/plain": [
       "  0%|          | 0/96298 [00:00<?, ?it/s]"
      ]
     },
     "metadata": {},
     "output_type": "display_data"
    },
    {
     "data": {
      "application/vnd.jupyter.widget-view+json": {
       "model_id": "5698941ffb26428499d7810420b1861c",
       "version_major": 2,
       "version_minor": 0
      },
      "text/plain": [
       "  0%|          | 0/96298 [00:00<?, ?it/s]"
      ]
     },
     "metadata": {},
     "output_type": "display_data"
    },
    {
     "name": "stdout",
     "output_type": "stream",
     "text": [
      "SHAPE (95909, 3)\n",
      "\n",
      "==================== Fold 1\n",
      "{'Start date': Timestamp('2021-07-25 00:00:00', freq='W-SUN'), 'End date': Timestamp('2021-08-01 00:00:00', freq='W-SUN'), 'Train': 555103, 'Train users': 102785, 'Train items': 9736, 'Test': 36409, 'Test users': 13695, 'Test items': 3632}\n"
     ]
    },
    {
     "data": {
      "application/vnd.jupyter.widget-view+json": {
       "model_id": "a9f87aeed65d468a8940674a2ea05916",
       "version_major": 2,
       "version_minor": 0
      },
      "text/plain": [
       "  0%|          | 0/102785 [00:00<?, ?it/s]"
      ]
     },
     "metadata": {},
     "output_type": "display_data"
    },
    {
     "data": {
      "application/vnd.jupyter.widget-view+json": {
       "model_id": "5083070219fc44419cf1e2887b7681f0",
       "version_major": 2,
       "version_minor": 0
      },
      "text/plain": [
       "  0%|          | 0/102785 [00:00<?, ?it/s]"
      ]
     },
     "metadata": {},
     "output_type": "display_data"
    },
    {
     "data": {
      "application/vnd.jupyter.widget-view+json": {
       "model_id": "536e9aeb28874a63be5be7dbcd72e408",
       "version_major": 2,
       "version_minor": 0
      },
      "text/plain": [
       "  0%|          | 0/102785 [00:00<?, ?it/s]"
      ]
     },
     "metadata": {},
     "output_type": "display_data"
    },
    {
     "name": "stdout",
     "output_type": "stream",
     "text": [
      "SHAPE (104655, 3)\n",
      "\n",
      "==================== Fold 2\n",
      "{'Start date': Timestamp('2021-08-01 00:00:00', freq='W-SUN'), 'End date': Timestamp('2021-08-08 00:00:00', freq='W-SUN'), 'Train': 607865, 'Train users': 110035, 'Train items': 9909, 'Test': 37349, 'Test users': 14158, 'Test items': 3497}\n"
     ]
    },
    {
     "data": {
      "application/vnd.jupyter.widget-view+json": {
       "model_id": "66b762c56d0d4159a826ba7ff8ccdf8b",
       "version_major": 2,
       "version_minor": 0
      },
      "text/plain": [
       "  0%|          | 0/110035 [00:00<?, ?it/s]"
      ]
     },
     "metadata": {},
     "output_type": "display_data"
    },
    {
     "data": {
      "application/vnd.jupyter.widget-view+json": {
       "model_id": "6f831ec2cf754f33a47487028a1cc419",
       "version_major": 2,
       "version_minor": 0
      },
      "text/plain": [
       "  0%|          | 0/110035 [00:00<?, ?it/s]"
      ]
     },
     "metadata": {},
     "output_type": "display_data"
    },
    {
     "data": {
      "application/vnd.jupyter.widget-view+json": {
       "model_id": "97d75c95e9914f228d302d9f80720c9a",
       "version_major": 2,
       "version_minor": 0
      },
      "text/plain": [
       "  0%|          | 0/110035 [00:00<?, ?it/s]"
      ]
     },
     "metadata": {},
     "output_type": "display_data"
    },
    {
     "name": "stdout",
     "output_type": "stream",
     "text": [
      "SHAPE (107435, 3)\n",
      "\n",
      "==================== Fold 3\n",
      "{'Start date': Timestamp('2021-08-08 00:00:00', freq='W-SUN'), 'End date': Timestamp('2021-08-15 00:00:00', freq='W-SUN'), 'Train': 662260, 'Train users': 117161, 'Train items': 10124, 'Test': 39661, 'Test users': 14731, 'Test items': 3642}\n"
     ]
    },
    {
     "data": {
      "application/vnd.jupyter.widget-view+json": {
       "model_id": "7861621a151e4928a7e936d2be849adf",
       "version_major": 2,
       "version_minor": 0
      },
      "text/plain": [
       "  0%|          | 0/117161 [00:00<?, ?it/s]"
      ]
     },
     "metadata": {},
     "output_type": "display_data"
    },
    {
     "data": {
      "application/vnd.jupyter.widget-view+json": {
       "model_id": "ecf3e6cf16d64be3b276cf72aecfc65a",
       "version_major": 2,
       "version_minor": 0
      },
      "text/plain": [
       "  0%|          | 0/117161 [00:00<?, ?it/s]"
      ]
     },
     "metadata": {},
     "output_type": "display_data"
    },
    {
     "data": {
      "application/vnd.jupyter.widget-view+json": {
       "model_id": "171a2669913943e0801c6772221690ac",
       "version_major": 2,
       "version_minor": 0
      },
      "text/plain": [
       "  0%|          | 0/117161 [00:00<?, ?it/s]"
      ]
     },
     "metadata": {},
     "output_type": "display_data"
    },
    {
     "name": "stdout",
     "output_type": "stream",
     "text": [
      "SHAPE (113059, 3)\n"
     ]
    },
    {
     "name": "stderr",
     "output_type": "stream",
     "text": [
      "\u001b[32m[I 2022-12-07 18:12:14,873]\u001b[0m Trial 5 finished with value: 0.02176227700553469 and parameters: {'all_time': True, 'days': 16, 'model1': 'bm25', 'model2': 'cosine', 'model3': 'tfidf', 'n_users': 12, 'w1': 0.6199597795258914, 'w2': 0.35544749167296874, 'w3': 0.061943895293295914}. Best is trial 4 with value: 0.030226762267094334.\u001b[0m\n"
     ]
    },
    {
     "name": "stdout",
     "output_type": "stream",
     "text": [
      "\n",
      "==================== Fold 0\n",
      "{'Start date': Timestamp('2021-07-18 00:00:00', freq='W-SUN'), 'End date': Timestamp('2021-07-25 00:00:00', freq='W-SUN'), 'Train': 507101, 'Train users': 96298, 'Train items': 9563, 'Test': 33870, 'Test users': 12727, 'Test items': 3629}\n"
     ]
    },
    {
     "data": {
      "application/vnd.jupyter.widget-view+json": {
       "model_id": "753e4e3f95dd41178037e4061da81807",
       "version_major": 2,
       "version_minor": 0
      },
      "text/plain": [
       "  0%|          | 0/96298 [00:00<?, ?it/s]"
      ]
     },
     "metadata": {},
     "output_type": "display_data"
    },
    {
     "data": {
      "application/vnd.jupyter.widget-view+json": {
       "model_id": "709d9b63b2284346bb3e85ad5abb6560",
       "version_major": 2,
       "version_minor": 0
      },
      "text/plain": [
       "  0%|          | 0/96298 [00:00<?, ?it/s]"
      ]
     },
     "metadata": {},
     "output_type": "display_data"
    },
    {
     "data": {
      "application/vnd.jupyter.widget-view+json": {
       "model_id": "976c09dfa2de4231af50a81bd9466024",
       "version_major": 2,
       "version_minor": 0
      },
      "text/plain": [
       "  0%|          | 0/96298 [00:00<?, ?it/s]"
      ]
     },
     "metadata": {},
     "output_type": "display_data"
    },
    {
     "name": "stdout",
     "output_type": "stream",
     "text": [
      "SHAPE (95909, 3)\n",
      "\n",
      "==================== Fold 1\n",
      "{'Start date': Timestamp('2021-07-25 00:00:00', freq='W-SUN'), 'End date': Timestamp('2021-08-01 00:00:00', freq='W-SUN'), 'Train': 555103, 'Train users': 102785, 'Train items': 9736, 'Test': 36409, 'Test users': 13695, 'Test items': 3632}\n"
     ]
    },
    {
     "data": {
      "application/vnd.jupyter.widget-view+json": {
       "model_id": "ff9cebdf6c2144cbb1378ac849c9b194",
       "version_major": 2,
       "version_minor": 0
      },
      "text/plain": [
       "  0%|          | 0/102785 [00:00<?, ?it/s]"
      ]
     },
     "metadata": {},
     "output_type": "display_data"
    },
    {
     "data": {
      "application/vnd.jupyter.widget-view+json": {
       "model_id": "5eb9f491eb444e6e8c45c61aadc85551",
       "version_major": 2,
       "version_minor": 0
      },
      "text/plain": [
       "  0%|          | 0/102785 [00:00<?, ?it/s]"
      ]
     },
     "metadata": {},
     "output_type": "display_data"
    },
    {
     "data": {
      "application/vnd.jupyter.widget-view+json": {
       "model_id": "1ad344f61a534a13b7792ed86bfc745d",
       "version_major": 2,
       "version_minor": 0
      },
      "text/plain": [
       "  0%|          | 0/102785 [00:00<?, ?it/s]"
      ]
     },
     "metadata": {},
     "output_type": "display_data"
    },
    {
     "name": "stdout",
     "output_type": "stream",
     "text": [
      "SHAPE (104655, 3)\n",
      "\n",
      "==================== Fold 2\n",
      "{'Start date': Timestamp('2021-08-01 00:00:00', freq='W-SUN'), 'End date': Timestamp('2021-08-08 00:00:00', freq='W-SUN'), 'Train': 607865, 'Train users': 110035, 'Train items': 9909, 'Test': 37349, 'Test users': 14158, 'Test items': 3497}\n"
     ]
    },
    {
     "data": {
      "application/vnd.jupyter.widget-view+json": {
       "model_id": "c1265e40e2eb4ac08a9f19c30725fd3c",
       "version_major": 2,
       "version_minor": 0
      },
      "text/plain": [
       "  0%|          | 0/110035 [00:00<?, ?it/s]"
      ]
     },
     "metadata": {},
     "output_type": "display_data"
    },
    {
     "data": {
      "application/vnd.jupyter.widget-view+json": {
       "model_id": "31b68b11719a4728961a241d7bf9d4fb",
       "version_major": 2,
       "version_minor": 0
      },
      "text/plain": [
       "  0%|          | 0/110035 [00:00<?, ?it/s]"
      ]
     },
     "metadata": {},
     "output_type": "display_data"
    },
    {
     "data": {
      "application/vnd.jupyter.widget-view+json": {
       "model_id": "4b5d745bf01e400ab385cd155222d0b5",
       "version_major": 2,
       "version_minor": 0
      },
      "text/plain": [
       "  0%|          | 0/110035 [00:00<?, ?it/s]"
      ]
     },
     "metadata": {},
     "output_type": "display_data"
    },
    {
     "name": "stdout",
     "output_type": "stream",
     "text": [
      "SHAPE (107435, 3)\n",
      "\n",
      "==================== Fold 3\n",
      "{'Start date': Timestamp('2021-08-08 00:00:00', freq='W-SUN'), 'End date': Timestamp('2021-08-15 00:00:00', freq='W-SUN'), 'Train': 662260, 'Train users': 117161, 'Train items': 10124, 'Test': 39661, 'Test users': 14731, 'Test items': 3642}\n"
     ]
    },
    {
     "data": {
      "application/vnd.jupyter.widget-view+json": {
       "model_id": "9fe39d2c182643748339601444dacecb",
       "version_major": 2,
       "version_minor": 0
      },
      "text/plain": [
       "  0%|          | 0/117161 [00:00<?, ?it/s]"
      ]
     },
     "metadata": {},
     "output_type": "display_data"
    },
    {
     "data": {
      "application/vnd.jupyter.widget-view+json": {
       "model_id": "6cd71fc792b54b0190c68484aaa0b5dd",
       "version_major": 2,
       "version_minor": 0
      },
      "text/plain": [
       "  0%|          | 0/117161 [00:00<?, ?it/s]"
      ]
     },
     "metadata": {},
     "output_type": "display_data"
    },
    {
     "data": {
      "application/vnd.jupyter.widget-view+json": {
       "model_id": "70716ef610104059967610f2148d9b2b",
       "version_major": 2,
       "version_minor": 0
      },
      "text/plain": [
       "  0%|          | 0/117161 [00:00<?, ?it/s]"
      ]
     },
     "metadata": {},
     "output_type": "display_data"
    },
    {
     "name": "stdout",
     "output_type": "stream",
     "text": [
      "SHAPE (113059, 3)\n"
     ]
    },
    {
     "name": "stderr",
     "output_type": "stream",
     "text": [
      "\u001b[32m[I 2022-12-07 18:13:25,635]\u001b[0m Trial 6 finished with value: 0.02172506750188271 and parameters: {'all_time': True, 'days': 22, 'model1': 'bm25', 'model2': 'tfidf', 'model3': 'bm25', 'n_users': 15, 'w1': 0.12839977712813466, 'w2': 0.33668656750124837, 'w3': 0.07316767664077051}. Best is trial 4 with value: 0.030226762267094334.\u001b[0m\n"
     ]
    },
    {
     "name": "stdout",
     "output_type": "stream",
     "text": [
      "\n",
      "==================== Fold 0\n",
      "{'Start date': Timestamp('2021-07-18 00:00:00', freq='W-SUN'), 'End date': Timestamp('2021-07-25 00:00:00', freq='W-SUN'), 'Train': 507101, 'Train users': 96298, 'Train items': 9563, 'Test': 33870, 'Test users': 12727, 'Test items': 3629}\n"
     ]
    },
    {
     "data": {
      "application/vnd.jupyter.widget-view+json": {
       "model_id": "694251fa06bd40869e2a1420af0854da",
       "version_major": 2,
       "version_minor": 0
      },
      "text/plain": [
       "  0%|          | 0/96298 [00:00<?, ?it/s]"
      ]
     },
     "metadata": {},
     "output_type": "display_data"
    },
    {
     "data": {
      "application/vnd.jupyter.widget-view+json": {
       "model_id": "6c636fdb95cf4d77b88f62c471814d94",
       "version_major": 2,
       "version_minor": 0
      },
      "text/plain": [
       "  0%|          | 0/96298 [00:00<?, ?it/s]"
      ]
     },
     "metadata": {},
     "output_type": "display_data"
    },
    {
     "data": {
      "application/vnd.jupyter.widget-view+json": {
       "model_id": "39037df1cfb242c4a69749eb4ab02736",
       "version_major": 2,
       "version_minor": 0
      },
      "text/plain": [
       "  0%|          | 0/96298 [00:00<?, ?it/s]"
      ]
     },
     "metadata": {},
     "output_type": "display_data"
    },
    {
     "name": "stdout",
     "output_type": "stream",
     "text": [
      "SHAPE (85039, 3)\n",
      "\n",
      "==================== Fold 1\n",
      "{'Start date': Timestamp('2021-07-25 00:00:00', freq='W-SUN'), 'End date': Timestamp('2021-08-01 00:00:00', freq='W-SUN'), 'Train': 555103, 'Train users': 102785, 'Train items': 9736, 'Test': 36409, 'Test users': 13695, 'Test items': 3632}\n"
     ]
    },
    {
     "data": {
      "application/vnd.jupyter.widget-view+json": {
       "model_id": "d45a482266ed44daae4e79ba2c4ec6aa",
       "version_major": 2,
       "version_minor": 0
      },
      "text/plain": [
       "  0%|          | 0/102785 [00:00<?, ?it/s]"
      ]
     },
     "metadata": {},
     "output_type": "display_data"
    },
    {
     "data": {
      "application/vnd.jupyter.widget-view+json": {
       "model_id": "00bb02e4bd0640c193a96438ce7c4b47",
       "version_major": 2,
       "version_minor": 0
      },
      "text/plain": [
       "  0%|          | 0/102785 [00:00<?, ?it/s]"
      ]
     },
     "metadata": {},
     "output_type": "display_data"
    },
    {
     "data": {
      "application/vnd.jupyter.widget-view+json": {
       "model_id": "d4afc247ef734df6ad8d1681a62b386e",
       "version_major": 2,
       "version_minor": 0
      },
      "text/plain": [
       "  0%|          | 0/102785 [00:00<?, ?it/s]"
      ]
     },
     "metadata": {},
     "output_type": "display_data"
    },
    {
     "name": "stdout",
     "output_type": "stream",
     "text": [
      "SHAPE (92987, 3)\n",
      "\n",
      "==================== Fold 2\n",
      "{'Start date': Timestamp('2021-08-01 00:00:00', freq='W-SUN'), 'End date': Timestamp('2021-08-08 00:00:00', freq='W-SUN'), 'Train': 607865, 'Train users': 110035, 'Train items': 9909, 'Test': 37349, 'Test users': 14158, 'Test items': 3497}\n"
     ]
    },
    {
     "data": {
      "application/vnd.jupyter.widget-view+json": {
       "model_id": "fb84c8c298ca4323bff0b216f85a65a6",
       "version_major": 2,
       "version_minor": 0
      },
      "text/plain": [
       "  0%|          | 0/110035 [00:00<?, ?it/s]"
      ]
     },
     "metadata": {},
     "output_type": "display_data"
    },
    {
     "data": {
      "application/vnd.jupyter.widget-view+json": {
       "model_id": "49c8609360ee46a584753eec14dbbef9",
       "version_major": 2,
       "version_minor": 0
      },
      "text/plain": [
       "  0%|          | 0/110035 [00:00<?, ?it/s]"
      ]
     },
     "metadata": {},
     "output_type": "display_data"
    },
    {
     "data": {
      "application/vnd.jupyter.widget-view+json": {
       "model_id": "0e86a1ba82554a70830703f12abcc2a5",
       "version_major": 2,
       "version_minor": 0
      },
      "text/plain": [
       "  0%|          | 0/110035 [00:00<?, ?it/s]"
      ]
     },
     "metadata": {},
     "output_type": "display_data"
    },
    {
     "name": "stdout",
     "output_type": "stream",
     "text": [
      "SHAPE (95183, 3)\n",
      "\n",
      "==================== Fold 3\n",
      "{'Start date': Timestamp('2021-08-08 00:00:00', freq='W-SUN'), 'End date': Timestamp('2021-08-15 00:00:00', freq='W-SUN'), 'Train': 662260, 'Train users': 117161, 'Train items': 10124, 'Test': 39661, 'Test users': 14731, 'Test items': 3642}\n"
     ]
    },
    {
     "data": {
      "application/vnd.jupyter.widget-view+json": {
       "model_id": "94488c3cad1442c7916118816c64ccf1",
       "version_major": 2,
       "version_minor": 0
      },
      "text/plain": [
       "  0%|          | 0/117161 [00:00<?, ?it/s]"
      ]
     },
     "metadata": {},
     "output_type": "display_data"
    },
    {
     "data": {
      "application/vnd.jupyter.widget-view+json": {
       "model_id": "3b06e46f54174c64b1584528cf701bd4",
       "version_major": 2,
       "version_minor": 0
      },
      "text/plain": [
       "  0%|          | 0/117161 [00:00<?, ?it/s]"
      ]
     },
     "metadata": {},
     "output_type": "display_data"
    },
    {
     "data": {
      "application/vnd.jupyter.widget-view+json": {
       "model_id": "2dbba0d12ba040608832c82851eb08fe",
       "version_major": 2,
       "version_minor": 0
      },
      "text/plain": [
       "  0%|          | 0/117161 [00:00<?, ?it/s]"
      ]
     },
     "metadata": {},
     "output_type": "display_data"
    },
    {
     "name": "stdout",
     "output_type": "stream",
     "text": [
      "SHAPE (99838, 3)\n"
     ]
    },
    {
     "name": "stderr",
     "output_type": "stream",
     "text": [
      "\u001b[32m[I 2022-12-07 18:14:35,289]\u001b[0m Trial 7 finished with value: 0.0284142415820815 and parameters: {'all_time': False, 'days': 15, 'model1': 'tfidf', 'model2': 'cosine', 'model3': 'cosine', 'n_users': 37, 'w1': 0.9266816418070901, 'w2': 0.10743922033854292, 'w3': 0.9263161864448232}. Best is trial 4 with value: 0.030226762267094334.\u001b[0m\n"
     ]
    },
    {
     "name": "stdout",
     "output_type": "stream",
     "text": [
      "\n",
      "==================== Fold 0\n",
      "{'Start date': Timestamp('2021-07-18 00:00:00', freq='W-SUN'), 'End date': Timestamp('2021-07-25 00:00:00', freq='W-SUN'), 'Train': 507101, 'Train users': 96298, 'Train items': 9563, 'Test': 33870, 'Test users': 12727, 'Test items': 3629}\n"
     ]
    },
    {
     "data": {
      "application/vnd.jupyter.widget-view+json": {
       "model_id": "57f3c87f799143679376d1668a836c57",
       "version_major": 2,
       "version_minor": 0
      },
      "text/plain": [
       "  0%|          | 0/96298 [00:00<?, ?it/s]"
      ]
     },
     "metadata": {},
     "output_type": "display_data"
    },
    {
     "data": {
      "application/vnd.jupyter.widget-view+json": {
       "model_id": "a5bc90d3d23840c7906b71640c58a38b",
       "version_major": 2,
       "version_minor": 0
      },
      "text/plain": [
       "  0%|          | 0/96298 [00:00<?, ?it/s]"
      ]
     },
     "metadata": {},
     "output_type": "display_data"
    },
    {
     "data": {
      "application/vnd.jupyter.widget-view+json": {
       "model_id": "511926fbc41e4279808d50bfc2c59b06",
       "version_major": 2,
       "version_minor": 0
      },
      "text/plain": [
       "  0%|          | 0/96298 [00:00<?, ?it/s]"
      ]
     },
     "metadata": {},
     "output_type": "display_data"
    },
    {
     "name": "stdout",
     "output_type": "stream",
     "text": [
      "SHAPE (85039, 3)\n",
      "\n",
      "==================== Fold 1\n",
      "{'Start date': Timestamp('2021-07-25 00:00:00', freq='W-SUN'), 'End date': Timestamp('2021-08-01 00:00:00', freq='W-SUN'), 'Train': 555103, 'Train users': 102785, 'Train items': 9736, 'Test': 36409, 'Test users': 13695, 'Test items': 3632}\n"
     ]
    },
    {
     "data": {
      "application/vnd.jupyter.widget-view+json": {
       "model_id": "720467de74bc4002a7faf0e2143998d8",
       "version_major": 2,
       "version_minor": 0
      },
      "text/plain": [
       "  0%|          | 0/102785 [00:00<?, ?it/s]"
      ]
     },
     "metadata": {},
     "output_type": "display_data"
    },
    {
     "data": {
      "application/vnd.jupyter.widget-view+json": {
       "model_id": "27ced09db16b4101a51e179545a2d15e",
       "version_major": 2,
       "version_minor": 0
      },
      "text/plain": [
       "  0%|          | 0/102785 [00:00<?, ?it/s]"
      ]
     },
     "metadata": {},
     "output_type": "display_data"
    },
    {
     "data": {
      "application/vnd.jupyter.widget-view+json": {
       "model_id": "87fb482adfe646d7b2c9ce97411795e0",
       "version_major": 2,
       "version_minor": 0
      },
      "text/plain": [
       "  0%|          | 0/102785 [00:00<?, ?it/s]"
      ]
     },
     "metadata": {},
     "output_type": "display_data"
    },
    {
     "name": "stdout",
     "output_type": "stream",
     "text": [
      "SHAPE (92987, 3)\n",
      "\n",
      "==================== Fold 2\n",
      "{'Start date': Timestamp('2021-08-01 00:00:00', freq='W-SUN'), 'End date': Timestamp('2021-08-08 00:00:00', freq='W-SUN'), 'Train': 607865, 'Train users': 110035, 'Train items': 9909, 'Test': 37349, 'Test users': 14158, 'Test items': 3497}\n"
     ]
    },
    {
     "data": {
      "application/vnd.jupyter.widget-view+json": {
       "model_id": "033334430b1b4d39a6fc2b6a1f03d5b8",
       "version_major": 2,
       "version_minor": 0
      },
      "text/plain": [
       "  0%|          | 0/110035 [00:00<?, ?it/s]"
      ]
     },
     "metadata": {},
     "output_type": "display_data"
    },
    {
     "data": {
      "application/vnd.jupyter.widget-view+json": {
       "model_id": "346d46125d884f8dad6be70baaaa9009",
       "version_major": 2,
       "version_minor": 0
      },
      "text/plain": [
       "  0%|          | 0/110035 [00:00<?, ?it/s]"
      ]
     },
     "metadata": {},
     "output_type": "display_data"
    },
    {
     "data": {
      "application/vnd.jupyter.widget-view+json": {
       "model_id": "a54399ce6dee4cd19ca72f686e4a19b4",
       "version_major": 2,
       "version_minor": 0
      },
      "text/plain": [
       "  0%|          | 0/110035 [00:00<?, ?it/s]"
      ]
     },
     "metadata": {},
     "output_type": "display_data"
    },
    {
     "name": "stdout",
     "output_type": "stream",
     "text": [
      "SHAPE (95183, 3)\n",
      "\n",
      "==================== Fold 3\n",
      "{'Start date': Timestamp('2021-08-08 00:00:00', freq='W-SUN'), 'End date': Timestamp('2021-08-15 00:00:00', freq='W-SUN'), 'Train': 662260, 'Train users': 117161, 'Train items': 10124, 'Test': 39661, 'Test users': 14731, 'Test items': 3642}\n"
     ]
    },
    {
     "data": {
      "application/vnd.jupyter.widget-view+json": {
       "model_id": "e328a5550022491595a6bf32adbf9588",
       "version_major": 2,
       "version_minor": 0
      },
      "text/plain": [
       "  0%|          | 0/117161 [00:00<?, ?it/s]"
      ]
     },
     "metadata": {},
     "output_type": "display_data"
    },
    {
     "data": {
      "application/vnd.jupyter.widget-view+json": {
       "model_id": "64e6a4a2f4fa44d8938c2f9c8db816e1",
       "version_major": 2,
       "version_minor": 0
      },
      "text/plain": [
       "  0%|          | 0/117161 [00:00<?, ?it/s]"
      ]
     },
     "metadata": {},
     "output_type": "display_data"
    },
    {
     "data": {
      "application/vnd.jupyter.widget-view+json": {
       "model_id": "668cf725b9f5469699a991324c58f9cc",
       "version_major": 2,
       "version_minor": 0
      },
      "text/plain": [
       "  0%|          | 0/117161 [00:00<?, ?it/s]"
      ]
     },
     "metadata": {},
     "output_type": "display_data"
    },
    {
     "name": "stdout",
     "output_type": "stream",
     "text": [
      "SHAPE (99838, 3)\n"
     ]
    },
    {
     "name": "stderr",
     "output_type": "stream",
     "text": [
      "\u001b[32m[I 2022-12-07 18:15:44,504]\u001b[0m Trial 8 finished with value: 0.027334569093631356 and parameters: {'all_time': True, 'days': 14, 'model1': 'tfidf', 'model2': 'cosine', 'model3': 'cosine', 'n_users': 38, 'w1': 0.10229755100170368, 'w2': 0.7430528491394554, 'w3': 0.3889519395588049}. Best is trial 4 with value: 0.030226762267094334.\u001b[0m\n"
     ]
    },
    {
     "name": "stdout",
     "output_type": "stream",
     "text": [
      "\n",
      "==================== Fold 0\n",
      "{'Start date': Timestamp('2021-07-18 00:00:00', freq='W-SUN'), 'End date': Timestamp('2021-07-25 00:00:00', freq='W-SUN'), 'Train': 507101, 'Train users': 96298, 'Train items': 9563, 'Test': 33870, 'Test users': 12727, 'Test items': 3629}\n"
     ]
    },
    {
     "data": {
      "application/vnd.jupyter.widget-view+json": {
       "model_id": "2429b1acdc314bd5a310172f70e1a7ef",
       "version_major": 2,
       "version_minor": 0
      },
      "text/plain": [
       "  0%|          | 0/96298 [00:00<?, ?it/s]"
      ]
     },
     "metadata": {},
     "output_type": "display_data"
    },
    {
     "data": {
      "application/vnd.jupyter.widget-view+json": {
       "model_id": "9bbf71e069ee43c5bfe8aec460aa31ee",
       "version_major": 2,
       "version_minor": 0
      },
      "text/plain": [
       "  0%|          | 0/96298 [00:00<?, ?it/s]"
      ]
     },
     "metadata": {},
     "output_type": "display_data"
    },
    {
     "data": {
      "application/vnd.jupyter.widget-view+json": {
       "model_id": "3b7d65e6add442f1a2cc484b99a93d7e",
       "version_major": 2,
       "version_minor": 0
      },
      "text/plain": [
       "  0%|          | 0/96298 [00:00<?, ?it/s]"
      ]
     },
     "metadata": {},
     "output_type": "display_data"
    },
    {
     "name": "stdout",
     "output_type": "stream",
     "text": [
      "SHAPE (95909, 3)\n",
      "\n",
      "==================== Fold 1\n",
      "{'Start date': Timestamp('2021-07-25 00:00:00', freq='W-SUN'), 'End date': Timestamp('2021-08-01 00:00:00', freq='W-SUN'), 'Train': 555103, 'Train users': 102785, 'Train items': 9736, 'Test': 36409, 'Test users': 13695, 'Test items': 3632}\n"
     ]
    },
    {
     "data": {
      "application/vnd.jupyter.widget-view+json": {
       "model_id": "81c733e0b80a43238812de0612594229",
       "version_major": 2,
       "version_minor": 0
      },
      "text/plain": [
       "  0%|          | 0/102785 [00:00<?, ?it/s]"
      ]
     },
     "metadata": {},
     "output_type": "display_data"
    },
    {
     "data": {
      "application/vnd.jupyter.widget-view+json": {
       "model_id": "f0b50650b4804ee38e54758d1c729fe8",
       "version_major": 2,
       "version_minor": 0
      },
      "text/plain": [
       "  0%|          | 0/102785 [00:00<?, ?it/s]"
      ]
     },
     "metadata": {},
     "output_type": "display_data"
    },
    {
     "data": {
      "application/vnd.jupyter.widget-view+json": {
       "model_id": "941ce3136e3742b68682b9fc7c2bf635",
       "version_major": 2,
       "version_minor": 0
      },
      "text/plain": [
       "  0%|          | 0/102785 [00:00<?, ?it/s]"
      ]
     },
     "metadata": {},
     "output_type": "display_data"
    },
    {
     "name": "stdout",
     "output_type": "stream",
     "text": [
      "SHAPE (104655, 3)\n",
      "\n",
      "==================== Fold 2\n",
      "{'Start date': Timestamp('2021-08-01 00:00:00', freq='W-SUN'), 'End date': Timestamp('2021-08-08 00:00:00', freq='W-SUN'), 'Train': 607865, 'Train users': 110035, 'Train items': 9909, 'Test': 37349, 'Test users': 14158, 'Test items': 3497}\n"
     ]
    },
    {
     "data": {
      "application/vnd.jupyter.widget-view+json": {
       "model_id": "ec3c48f9cc8544d39eb9210f42ec71c8",
       "version_major": 2,
       "version_minor": 0
      },
      "text/plain": [
       "  0%|          | 0/110035 [00:00<?, ?it/s]"
      ]
     },
     "metadata": {},
     "output_type": "display_data"
    },
    {
     "data": {
      "application/vnd.jupyter.widget-view+json": {
       "model_id": "51a2ff8bde434372a2fb3cc93965cf2a",
       "version_major": 2,
       "version_minor": 0
      },
      "text/plain": [
       "  0%|          | 0/110035 [00:00<?, ?it/s]"
      ]
     },
     "metadata": {},
     "output_type": "display_data"
    },
    {
     "data": {
      "application/vnd.jupyter.widget-view+json": {
       "model_id": "c6d6accfc5264f17a94c2d880f18075e",
       "version_major": 2,
       "version_minor": 0
      },
      "text/plain": [
       "  0%|          | 0/110035 [00:00<?, ?it/s]"
      ]
     },
     "metadata": {},
     "output_type": "display_data"
    },
    {
     "name": "stdout",
     "output_type": "stream",
     "text": [
      "SHAPE (107435, 3)\n",
      "\n",
      "==================== Fold 3\n",
      "{'Start date': Timestamp('2021-08-08 00:00:00', freq='W-SUN'), 'End date': Timestamp('2021-08-15 00:00:00', freq='W-SUN'), 'Train': 662260, 'Train users': 117161, 'Train items': 10124, 'Test': 39661, 'Test users': 14731, 'Test items': 3642}\n"
     ]
    },
    {
     "data": {
      "application/vnd.jupyter.widget-view+json": {
       "model_id": "88247800dfb84e17a4195b0dc0254c6e",
       "version_major": 2,
       "version_minor": 0
      },
      "text/plain": [
       "  0%|          | 0/117161 [00:00<?, ?it/s]"
      ]
     },
     "metadata": {},
     "output_type": "display_data"
    },
    {
     "data": {
      "application/vnd.jupyter.widget-view+json": {
       "model_id": "465187a973344762bfa316bc62f443be",
       "version_major": 2,
       "version_minor": 0
      },
      "text/plain": [
       "  0%|          | 0/117161 [00:00<?, ?it/s]"
      ]
     },
     "metadata": {},
     "output_type": "display_data"
    },
    {
     "data": {
      "application/vnd.jupyter.widget-view+json": {
       "model_id": "95853f57e9b14946a8f5fa1f14e51e41",
       "version_major": 2,
       "version_minor": 0
      },
      "text/plain": [
       "  0%|          | 0/117161 [00:00<?, ?it/s]"
      ]
     },
     "metadata": {},
     "output_type": "display_data"
    },
    {
     "name": "stdout",
     "output_type": "stream",
     "text": [
      "SHAPE (113059, 3)\n"
     ]
    },
    {
     "name": "stderr",
     "output_type": "stream",
     "text": [
      "\u001b[32m[I 2022-12-07 18:16:58,795]\u001b[0m Trial 9 finished with value: 0.02173621947015266 and parameters: {'all_time': True, 'days': 6, 'model1': 'bm25', 'model2': 'tfidf', 'model3': 'bm25', 'n_users': 41, 'w1': 0.4733906653535481, 'w2': 0.3197065964652379, 'w3': 0.6317139078046373}. Best is trial 4 with value: 0.030226762267094334.\u001b[0m\n"
     ]
    },
    {
     "name": "stdout",
     "output_type": "stream",
     "text": [
      "\n",
      "==================== Fold 0\n",
      "{'Start date': Timestamp('2021-07-18 00:00:00', freq='W-SUN'), 'End date': Timestamp('2021-07-25 00:00:00', freq='W-SUN'), 'Train': 507101, 'Train users': 96298, 'Train items': 9563, 'Test': 33870, 'Test users': 12727, 'Test items': 3629}\n"
     ]
    },
    {
     "data": {
      "application/vnd.jupyter.widget-view+json": {
       "model_id": "5907c565cd7d4be6b38275e415dd0750",
       "version_major": 2,
       "version_minor": 0
      },
      "text/plain": [
       "  0%|          | 0/96298 [00:00<?, ?it/s]"
      ]
     },
     "metadata": {},
     "output_type": "display_data"
    },
    {
     "data": {
      "application/vnd.jupyter.widget-view+json": {
       "model_id": "49f7e1fe4e9d435190b3531e2827b93b",
       "version_major": 2,
       "version_minor": 0
      },
      "text/plain": [
       "  0%|          | 0/96298 [00:00<?, ?it/s]"
      ]
     },
     "metadata": {},
     "output_type": "display_data"
    },
    {
     "data": {
      "application/vnd.jupyter.widget-view+json": {
       "model_id": "22eef755090a4ce0b33976b358a31796",
       "version_major": 2,
       "version_minor": 0
      },
      "text/plain": [
       "  0%|          | 0/96298 [00:00<?, ?it/s]"
      ]
     },
     "metadata": {},
     "output_type": "display_data"
    },
    {
     "name": "stdout",
     "output_type": "stream",
     "text": [
      "SHAPE (78790, 3)\n",
      "\n",
      "==================== Fold 1\n",
      "{'Start date': Timestamp('2021-07-25 00:00:00', freq='W-SUN'), 'End date': Timestamp('2021-08-01 00:00:00', freq='W-SUN'), 'Train': 555103, 'Train users': 102785, 'Train items': 9736, 'Test': 36409, 'Test users': 13695, 'Test items': 3632}\n"
     ]
    },
    {
     "data": {
      "application/vnd.jupyter.widget-view+json": {
       "model_id": "c435d434e40c4f4f98a8df5572c158f6",
       "version_major": 2,
       "version_minor": 0
      },
      "text/plain": [
       "  0%|          | 0/102785 [00:00<?, ?it/s]"
      ]
     },
     "metadata": {},
     "output_type": "display_data"
    },
    {
     "data": {
      "application/vnd.jupyter.widget-view+json": {
       "model_id": "28172f272a1441a5ba9c515f5c6b042b",
       "version_major": 2,
       "version_minor": 0
      },
      "text/plain": [
       "  0%|          | 0/102785 [00:00<?, ?it/s]"
      ]
     },
     "metadata": {},
     "output_type": "display_data"
    },
    {
     "data": {
      "application/vnd.jupyter.widget-view+json": {
       "model_id": "ada8b12ece9f46eab5f61f806568ba74",
       "version_major": 2,
       "version_minor": 0
      },
      "text/plain": [
       "  0%|          | 0/102785 [00:00<?, ?it/s]"
      ]
     },
     "metadata": {},
     "output_type": "display_data"
    },
    {
     "name": "stdout",
     "output_type": "stream",
     "text": [
      "SHAPE (86080, 3)\n",
      "\n",
      "==================== Fold 2\n",
      "{'Start date': Timestamp('2021-08-01 00:00:00', freq='W-SUN'), 'End date': Timestamp('2021-08-08 00:00:00', freq='W-SUN'), 'Train': 607865, 'Train users': 110035, 'Train items': 9909, 'Test': 37349, 'Test users': 14158, 'Test items': 3497}\n"
     ]
    },
    {
     "data": {
      "application/vnd.jupyter.widget-view+json": {
       "model_id": "35f8e4c5544d4a5e82b6738b6f210173",
       "version_major": 2,
       "version_minor": 0
      },
      "text/plain": [
       "  0%|          | 0/110035 [00:00<?, ?it/s]"
      ]
     },
     "metadata": {},
     "output_type": "display_data"
    },
    {
     "data": {
      "application/vnd.jupyter.widget-view+json": {
       "model_id": "b4bf01b9c56a4ffbae244934af31ac0a",
       "version_major": 2,
       "version_minor": 0
      },
      "text/plain": [
       "  0%|          | 0/110035 [00:00<?, ?it/s]"
      ]
     },
     "metadata": {},
     "output_type": "display_data"
    },
    {
     "data": {
      "application/vnd.jupyter.widget-view+json": {
       "model_id": "138bc0a8b182442b9b6a40aa86b76c37",
       "version_major": 2,
       "version_minor": 0
      },
      "text/plain": [
       "  0%|          | 0/110035 [00:00<?, ?it/s]"
      ]
     },
     "metadata": {},
     "output_type": "display_data"
    },
    {
     "name": "stdout",
     "output_type": "stream",
     "text": [
      "SHAPE (88913, 3)\n",
      "\n",
      "==================== Fold 3\n",
      "{'Start date': Timestamp('2021-08-08 00:00:00', freq='W-SUN'), 'End date': Timestamp('2021-08-15 00:00:00', freq='W-SUN'), 'Train': 662260, 'Train users': 117161, 'Train items': 10124, 'Test': 39661, 'Test users': 14731, 'Test items': 3642}\n"
     ]
    },
    {
     "data": {
      "application/vnd.jupyter.widget-view+json": {
       "model_id": "86d54f28a03c40a8bbb8f7c7c6ce91fb",
       "version_major": 2,
       "version_minor": 0
      },
      "text/plain": [
       "  0%|          | 0/117161 [00:00<?, ?it/s]"
      ]
     },
     "metadata": {},
     "output_type": "display_data"
    },
    {
     "data": {
      "application/vnd.jupyter.widget-view+json": {
       "model_id": "a3dab0305eb444fb9244698db0965b3a",
       "version_major": 2,
       "version_minor": 0
      },
      "text/plain": [
       "  0%|          | 0/117161 [00:00<?, ?it/s]"
      ]
     },
     "metadata": {},
     "output_type": "display_data"
    },
    {
     "data": {
      "application/vnd.jupyter.widget-view+json": {
       "model_id": "9e98ae296f564712b3af58945161d97c",
       "version_major": 2,
       "version_minor": 0
      },
      "text/plain": [
       "  0%|          | 0/117161 [00:00<?, ?it/s]"
      ]
     },
     "metadata": {},
     "output_type": "display_data"
    },
    {
     "name": "stdout",
     "output_type": "stream",
     "text": [
      "SHAPE (94152, 3)\n"
     ]
    },
    {
     "name": "stderr",
     "output_type": "stream",
     "text": [
      "\u001b[32m[I 2022-12-07 18:18:13,972]\u001b[0m Trial 10 finished with value: 0.030144411488154964 and parameters: {'all_time': False, 'days': 1, 'model1': 'cosine', 'model2': 'bm25', 'model3': 'bm25', 'n_users': 27, 'w1': 0.30277346086216783, 'w2': 0.9601474019484832, 'w3': 0.37327178782319625}. Best is trial 4 with value: 0.030226762267094334.\u001b[0m\n"
     ]
    },
    {
     "name": "stdout",
     "output_type": "stream",
     "text": [
      "\n",
      "==================== Fold 0\n",
      "{'Start date': Timestamp('2021-07-18 00:00:00', freq='W-SUN'), 'End date': Timestamp('2021-07-25 00:00:00', freq='W-SUN'), 'Train': 507101, 'Train users': 96298, 'Train items': 9563, 'Test': 33870, 'Test users': 12727, 'Test items': 3629}\n"
     ]
    },
    {
     "data": {
      "application/vnd.jupyter.widget-view+json": {
       "model_id": "08591b76223a479f914dd3f7ca9812ae",
       "version_major": 2,
       "version_minor": 0
      },
      "text/plain": [
       "  0%|          | 0/96298 [00:00<?, ?it/s]"
      ]
     },
     "metadata": {},
     "output_type": "display_data"
    },
    {
     "data": {
      "application/vnd.jupyter.widget-view+json": {
       "model_id": "20a74f52a76e4748bad61c26087a0e9b",
       "version_major": 2,
       "version_minor": 0
      },
      "text/plain": [
       "  0%|          | 0/96298 [00:00<?, ?it/s]"
      ]
     },
     "metadata": {},
     "output_type": "display_data"
    },
    {
     "data": {
      "application/vnd.jupyter.widget-view+json": {
       "model_id": "33ec9e44117441b18afcfa3ca762afdc",
       "version_major": 2,
       "version_minor": 0
      },
      "text/plain": [
       "  0%|          | 0/96298 [00:00<?, ?it/s]"
      ]
     },
     "metadata": {},
     "output_type": "display_data"
    },
    {
     "name": "stdout",
     "output_type": "stream",
     "text": [
      "SHAPE (78790, 3)\n",
      "\n",
      "==================== Fold 1\n",
      "{'Start date': Timestamp('2021-07-25 00:00:00', freq='W-SUN'), 'End date': Timestamp('2021-08-01 00:00:00', freq='W-SUN'), 'Train': 555103, 'Train users': 102785, 'Train items': 9736, 'Test': 36409, 'Test users': 13695, 'Test items': 3632}\n"
     ]
    },
    {
     "data": {
      "application/vnd.jupyter.widget-view+json": {
       "model_id": "ccfed3a0751840ae82085bd214f8699a",
       "version_major": 2,
       "version_minor": 0
      },
      "text/plain": [
       "  0%|          | 0/102785 [00:00<?, ?it/s]"
      ]
     },
     "metadata": {},
     "output_type": "display_data"
    },
    {
     "data": {
      "application/vnd.jupyter.widget-view+json": {
       "model_id": "2f1879723be842cb9a85eccc02bf5a2b",
       "version_major": 2,
       "version_minor": 0
      },
      "text/plain": [
       "  0%|          | 0/102785 [00:00<?, ?it/s]"
      ]
     },
     "metadata": {},
     "output_type": "display_data"
    },
    {
     "data": {
      "application/vnd.jupyter.widget-view+json": {
       "model_id": "fa993f1baabd49109c2e097178a36537",
       "version_major": 2,
       "version_minor": 0
      },
      "text/plain": [
       "  0%|          | 0/102785 [00:00<?, ?it/s]"
      ]
     },
     "metadata": {},
     "output_type": "display_data"
    },
    {
     "name": "stdout",
     "output_type": "stream",
     "text": [
      "SHAPE (86080, 3)\n",
      "\n",
      "==================== Fold 2\n",
      "{'Start date': Timestamp('2021-08-01 00:00:00', freq='W-SUN'), 'End date': Timestamp('2021-08-08 00:00:00', freq='W-SUN'), 'Train': 607865, 'Train users': 110035, 'Train items': 9909, 'Test': 37349, 'Test users': 14158, 'Test items': 3497}\n"
     ]
    },
    {
     "data": {
      "application/vnd.jupyter.widget-view+json": {
       "model_id": "a77e05a1db0f4fb38494e9c78bd18be8",
       "version_major": 2,
       "version_minor": 0
      },
      "text/plain": [
       "  0%|          | 0/110035 [00:00<?, ?it/s]"
      ]
     },
     "metadata": {},
     "output_type": "display_data"
    },
    {
     "data": {
      "application/vnd.jupyter.widget-view+json": {
       "model_id": "4c137307234d46e9aba86016d628182c",
       "version_major": 2,
       "version_minor": 0
      },
      "text/plain": [
       "  0%|          | 0/110035 [00:00<?, ?it/s]"
      ]
     },
     "metadata": {},
     "output_type": "display_data"
    },
    {
     "data": {
      "application/vnd.jupyter.widget-view+json": {
       "model_id": "6e9578a311884018bf0d69fb6e91b0df",
       "version_major": 2,
       "version_minor": 0
      },
      "text/plain": [
       "  0%|          | 0/110035 [00:00<?, ?it/s]"
      ]
     },
     "metadata": {},
     "output_type": "display_data"
    },
    {
     "name": "stdout",
     "output_type": "stream",
     "text": [
      "SHAPE (88913, 3)\n",
      "\n",
      "==================== Fold 3\n",
      "{'Start date': Timestamp('2021-08-08 00:00:00', freq='W-SUN'), 'End date': Timestamp('2021-08-15 00:00:00', freq='W-SUN'), 'Train': 662260, 'Train users': 117161, 'Train items': 10124, 'Test': 39661, 'Test users': 14731, 'Test items': 3642}\n"
     ]
    },
    {
     "data": {
      "application/vnd.jupyter.widget-view+json": {
       "model_id": "584b2118522d4ade8206860f3f0db6a4",
       "version_major": 2,
       "version_minor": 0
      },
      "text/plain": [
       "  0%|          | 0/117161 [00:00<?, ?it/s]"
      ]
     },
     "metadata": {},
     "output_type": "display_data"
    },
    {
     "data": {
      "application/vnd.jupyter.widget-view+json": {
       "model_id": "226dc92796104708bd14ca7d6eed19da",
       "version_major": 2,
       "version_minor": 0
      },
      "text/plain": [
       "  0%|          | 0/117161 [00:00<?, ?it/s]"
      ]
     },
     "metadata": {},
     "output_type": "display_data"
    },
    {
     "data": {
      "application/vnd.jupyter.widget-view+json": {
       "model_id": "a6d121bed58f4cebae9ba6483a710e90",
       "version_major": 2,
       "version_minor": 0
      },
      "text/plain": [
       "  0%|          | 0/117161 [00:00<?, ?it/s]"
      ]
     },
     "metadata": {},
     "output_type": "display_data"
    },
    {
     "name": "stdout",
     "output_type": "stream",
     "text": [
      "SHAPE (94152, 3)\n"
     ]
    },
    {
     "name": "stderr",
     "output_type": "stream",
     "text": [
      "\u001b[32m[I 2022-12-07 18:19:27,277]\u001b[0m Trial 11 finished with value: 0.030127391294699934 and parameters: {'all_time': False, 'days': 1, 'model1': 'cosine', 'model2': 'bm25', 'model3': 'bm25', 'n_users': 27, 'w1': 0.30275558361182503, 'w2': 0.9542094039208225, 'w3': 0.36537985705122167}. Best is trial 4 with value: 0.030226762267094334.\u001b[0m\n"
     ]
    },
    {
     "name": "stdout",
     "output_type": "stream",
     "text": [
      "\n",
      "==================== Fold 0\n",
      "{'Start date': Timestamp('2021-07-18 00:00:00', freq='W-SUN'), 'End date': Timestamp('2021-07-25 00:00:00', freq='W-SUN'), 'Train': 507101, 'Train users': 96298, 'Train items': 9563, 'Test': 33870, 'Test users': 12727, 'Test items': 3629}\n"
     ]
    },
    {
     "data": {
      "application/vnd.jupyter.widget-view+json": {
       "model_id": "a9bde0202b0d43ada7021a44b105f83a",
       "version_major": 2,
       "version_minor": 0
      },
      "text/plain": [
       "  0%|          | 0/96298 [00:00<?, ?it/s]"
      ]
     },
     "metadata": {},
     "output_type": "display_data"
    },
    {
     "data": {
      "application/vnd.jupyter.widget-view+json": {
       "model_id": "2a97472037fc4864a49b4354a2b94b9f",
       "version_major": 2,
       "version_minor": 0
      },
      "text/plain": [
       "  0%|          | 0/96298 [00:00<?, ?it/s]"
      ]
     },
     "metadata": {},
     "output_type": "display_data"
    },
    {
     "data": {
      "application/vnd.jupyter.widget-view+json": {
       "model_id": "5b056ea0c9e14203adea40025784b18a",
       "version_major": 2,
       "version_minor": 0
      },
      "text/plain": [
       "  0%|          | 0/96298 [00:00<?, ?it/s]"
      ]
     },
     "metadata": {},
     "output_type": "display_data"
    },
    {
     "name": "stdout",
     "output_type": "stream",
     "text": [
      "SHAPE (78790, 3)\n",
      "\n",
      "==================== Fold 1\n",
      "{'Start date': Timestamp('2021-07-25 00:00:00', freq='W-SUN'), 'End date': Timestamp('2021-08-01 00:00:00', freq='W-SUN'), 'Train': 555103, 'Train users': 102785, 'Train items': 9736, 'Test': 36409, 'Test users': 13695, 'Test items': 3632}\n"
     ]
    },
    {
     "data": {
      "application/vnd.jupyter.widget-view+json": {
       "model_id": "b3871065a4d341b99a13b9e89daba8f9",
       "version_major": 2,
       "version_minor": 0
      },
      "text/plain": [
       "  0%|          | 0/102785 [00:00<?, ?it/s]"
      ]
     },
     "metadata": {},
     "output_type": "display_data"
    },
    {
     "data": {
      "application/vnd.jupyter.widget-view+json": {
       "model_id": "a00de6cf4b7540bc8f7e15b8b9b75ad8",
       "version_major": 2,
       "version_minor": 0
      },
      "text/plain": [
       "  0%|          | 0/102785 [00:00<?, ?it/s]"
      ]
     },
     "metadata": {},
     "output_type": "display_data"
    },
    {
     "data": {
      "application/vnd.jupyter.widget-view+json": {
       "model_id": "11258fee66694662b9471e7f893da218",
       "version_major": 2,
       "version_minor": 0
      },
      "text/plain": [
       "  0%|          | 0/102785 [00:00<?, ?it/s]"
      ]
     },
     "metadata": {},
     "output_type": "display_data"
    },
    {
     "name": "stdout",
     "output_type": "stream",
     "text": [
      "SHAPE (86080, 3)\n",
      "\n",
      "==================== Fold 2\n",
      "{'Start date': Timestamp('2021-08-01 00:00:00', freq='W-SUN'), 'End date': Timestamp('2021-08-08 00:00:00', freq='W-SUN'), 'Train': 607865, 'Train users': 110035, 'Train items': 9909, 'Test': 37349, 'Test users': 14158, 'Test items': 3497}\n"
     ]
    },
    {
     "data": {
      "application/vnd.jupyter.widget-view+json": {
       "model_id": "c450c4bc86e648adb2ce80e11d04947b",
       "version_major": 2,
       "version_minor": 0
      },
      "text/plain": [
       "  0%|          | 0/110035 [00:00<?, ?it/s]"
      ]
     },
     "metadata": {},
     "output_type": "display_data"
    },
    {
     "data": {
      "application/vnd.jupyter.widget-view+json": {
       "model_id": "b13e572ea5cf4f8099335cf61fc6b20c",
       "version_major": 2,
       "version_minor": 0
      },
      "text/plain": [
       "  0%|          | 0/110035 [00:00<?, ?it/s]"
      ]
     },
     "metadata": {},
     "output_type": "display_data"
    },
    {
     "data": {
      "application/vnd.jupyter.widget-view+json": {
       "model_id": "d4e3268d187e45bbb9ecbefe81efc3f6",
       "version_major": 2,
       "version_minor": 0
      },
      "text/plain": [
       "  0%|          | 0/110035 [00:00<?, ?it/s]"
      ]
     },
     "metadata": {},
     "output_type": "display_data"
    },
    {
     "name": "stdout",
     "output_type": "stream",
     "text": [
      "SHAPE (88913, 3)\n",
      "\n",
      "==================== Fold 3\n",
      "{'Start date': Timestamp('2021-08-08 00:00:00', freq='W-SUN'), 'End date': Timestamp('2021-08-15 00:00:00', freq='W-SUN'), 'Train': 662260, 'Train users': 117161, 'Train items': 10124, 'Test': 39661, 'Test users': 14731, 'Test items': 3642}\n"
     ]
    },
    {
     "data": {
      "application/vnd.jupyter.widget-view+json": {
       "model_id": "baa7bfd5a56a46388dd3a909bc0d9b90",
       "version_major": 2,
       "version_minor": 0
      },
      "text/plain": [
       "  0%|          | 0/117161 [00:00<?, ?it/s]"
      ]
     },
     "metadata": {},
     "output_type": "display_data"
    },
    {
     "data": {
      "application/vnd.jupyter.widget-view+json": {
       "model_id": "f579872ae8f74fde96e8214c40e8b36f",
       "version_major": 2,
       "version_minor": 0
      },
      "text/plain": [
       "  0%|          | 0/117161 [00:00<?, ?it/s]"
      ]
     },
     "metadata": {},
     "output_type": "display_data"
    },
    {
     "data": {
      "application/vnd.jupyter.widget-view+json": {
       "model_id": "4c0b4c09629145868698d4b9b7068119",
       "version_major": 2,
       "version_minor": 0
      },
      "text/plain": [
       "  0%|          | 0/117161 [00:00<?, ?it/s]"
      ]
     },
     "metadata": {},
     "output_type": "display_data"
    },
    {
     "name": "stdout",
     "output_type": "stream",
     "text": [
      "SHAPE (94152, 3)\n"
     ]
    },
    {
     "name": "stderr",
     "output_type": "stream",
     "text": [
      "\u001b[32m[I 2022-12-07 18:20:37,166]\u001b[0m Trial 12 finished with value: 0.030074708663276935 and parameters: {'all_time': False, 'days': 1, 'model1': 'cosine', 'model2': 'bm25', 'model3': 'bm25', 'n_users': 28, 'w1': 0.28961792644430306, 'w2': 0.514268402580363, 'w3': 0.33051061838794893}. Best is trial 4 with value: 0.030226762267094334.\u001b[0m\n"
     ]
    },
    {
     "name": "stdout",
     "output_type": "stream",
     "text": [
      "\n",
      "==================== Fold 0\n",
      "{'Start date': Timestamp('2021-07-18 00:00:00', freq='W-SUN'), 'End date': Timestamp('2021-07-25 00:00:00', freq='W-SUN'), 'Train': 507101, 'Train users': 96298, 'Train items': 9563, 'Test': 33870, 'Test users': 12727, 'Test items': 3629}\n"
     ]
    },
    {
     "data": {
      "application/vnd.jupyter.widget-view+json": {
       "model_id": "150c91b826bb408c8a690660e88ed52a",
       "version_major": 2,
       "version_minor": 0
      },
      "text/plain": [
       "  0%|          | 0/96298 [00:00<?, ?it/s]"
      ]
     },
     "metadata": {},
     "output_type": "display_data"
    },
    {
     "data": {
      "application/vnd.jupyter.widget-view+json": {
       "model_id": "c3c36b127e05480ca7492c97c7b4d199",
       "version_major": 2,
       "version_minor": 0
      },
      "text/plain": [
       "  0%|          | 0/96298 [00:00<?, ?it/s]"
      ]
     },
     "metadata": {},
     "output_type": "display_data"
    },
    {
     "data": {
      "application/vnd.jupyter.widget-view+json": {
       "model_id": "6d3df2e9607f4cd79ca1c8c5ee6ce9c3",
       "version_major": 2,
       "version_minor": 0
      },
      "text/plain": [
       "  0%|          | 0/96298 [00:00<?, ?it/s]"
      ]
     },
     "metadata": {},
     "output_type": "display_data"
    },
    {
     "name": "stdout",
     "output_type": "stream",
     "text": [
      "SHAPE (78790, 3)\n",
      "\n",
      "==================== Fold 1\n",
      "{'Start date': Timestamp('2021-07-25 00:00:00', freq='W-SUN'), 'End date': Timestamp('2021-08-01 00:00:00', freq='W-SUN'), 'Train': 555103, 'Train users': 102785, 'Train items': 9736, 'Test': 36409, 'Test users': 13695, 'Test items': 3632}\n"
     ]
    },
    {
     "data": {
      "application/vnd.jupyter.widget-view+json": {
       "model_id": "2d4615e99b9d41dba1e306ed39a1af8a",
       "version_major": 2,
       "version_minor": 0
      },
      "text/plain": [
       "  0%|          | 0/102785 [00:00<?, ?it/s]"
      ]
     },
     "metadata": {},
     "output_type": "display_data"
    },
    {
     "data": {
      "application/vnd.jupyter.widget-view+json": {
       "model_id": "273cfd08a49d4a9fbaa03c49595a8cdd",
       "version_major": 2,
       "version_minor": 0
      },
      "text/plain": [
       "  0%|          | 0/102785 [00:00<?, ?it/s]"
      ]
     },
     "metadata": {},
     "output_type": "display_data"
    },
    {
     "data": {
      "application/vnd.jupyter.widget-view+json": {
       "model_id": "ebe39187a2384cb4824ddabae2630cde",
       "version_major": 2,
       "version_minor": 0
      },
      "text/plain": [
       "  0%|          | 0/102785 [00:00<?, ?it/s]"
      ]
     },
     "metadata": {},
     "output_type": "display_data"
    },
    {
     "name": "stdout",
     "output_type": "stream",
     "text": [
      "SHAPE (86080, 3)\n",
      "\n",
      "==================== Fold 2\n",
      "{'Start date': Timestamp('2021-08-01 00:00:00', freq='W-SUN'), 'End date': Timestamp('2021-08-08 00:00:00', freq='W-SUN'), 'Train': 607865, 'Train users': 110035, 'Train items': 9909, 'Test': 37349, 'Test users': 14158, 'Test items': 3497}\n"
     ]
    },
    {
     "data": {
      "application/vnd.jupyter.widget-view+json": {
       "model_id": "7b4cbce2ef694f058f0cfe305ad5ac5c",
       "version_major": 2,
       "version_minor": 0
      },
      "text/plain": [
       "  0%|          | 0/110035 [00:00<?, ?it/s]"
      ]
     },
     "metadata": {},
     "output_type": "display_data"
    },
    {
     "data": {
      "application/vnd.jupyter.widget-view+json": {
       "model_id": "6900bed60bc94278b0ee803623e93cfc",
       "version_major": 2,
       "version_minor": 0
      },
      "text/plain": [
       "  0%|          | 0/110035 [00:00<?, ?it/s]"
      ]
     },
     "metadata": {},
     "output_type": "display_data"
    },
    {
     "data": {
      "application/vnd.jupyter.widget-view+json": {
       "model_id": "94207e44bcdd45c69a713514e1186eb1",
       "version_major": 2,
       "version_minor": 0
      },
      "text/plain": [
       "  0%|          | 0/110035 [00:00<?, ?it/s]"
      ]
     },
     "metadata": {},
     "output_type": "display_data"
    },
    {
     "name": "stdout",
     "output_type": "stream",
     "text": [
      "SHAPE (88913, 3)\n",
      "\n",
      "==================== Fold 3\n",
      "{'Start date': Timestamp('2021-08-08 00:00:00', freq='W-SUN'), 'End date': Timestamp('2021-08-15 00:00:00', freq='W-SUN'), 'Train': 662260, 'Train users': 117161, 'Train items': 10124, 'Test': 39661, 'Test users': 14731, 'Test items': 3642}\n"
     ]
    },
    {
     "data": {
      "application/vnd.jupyter.widget-view+json": {
       "model_id": "33b3f00fa3d042caa3ee70960fe676ce",
       "version_major": 2,
       "version_minor": 0
      },
      "text/plain": [
       "  0%|          | 0/117161 [00:00<?, ?it/s]"
      ]
     },
     "metadata": {},
     "output_type": "display_data"
    },
    {
     "data": {
      "application/vnd.jupyter.widget-view+json": {
       "model_id": "3763dd9fa7eb48f6a74ca38917cdfeb4",
       "version_major": 2,
       "version_minor": 0
      },
      "text/plain": [
       "  0%|          | 0/117161 [00:00<?, ?it/s]"
      ]
     },
     "metadata": {},
     "output_type": "display_data"
    },
    {
     "data": {
      "application/vnd.jupyter.widget-view+json": {
       "model_id": "3480849fa2fa4912888d18e88846e280",
       "version_major": 2,
       "version_minor": 0
      },
      "text/plain": [
       "  0%|          | 0/117161 [00:00<?, ?it/s]"
      ]
     },
     "metadata": {},
     "output_type": "display_data"
    },
    {
     "name": "stdout",
     "output_type": "stream",
     "text": [
      "SHAPE (94152, 3)\n"
     ]
    },
    {
     "name": "stderr",
     "output_type": "stream",
     "text": [
      "\u001b[32m[I 2022-12-07 18:21:46,714]\u001b[0m Trial 13 finished with value: 0.029997336017542103 and parameters: {'all_time': False, 'days': 7, 'model1': 'cosine', 'model2': 'bm25', 'model3': 'bm25', 'n_users': 32, 'w1': 0.005549976159871267, 'w2': 0.9785821594957548, 'w3': 0.7491371548344359}. Best is trial 4 with value: 0.030226762267094334.\u001b[0m\n"
     ]
    },
    {
     "name": "stdout",
     "output_type": "stream",
     "text": [
      "\n",
      "==================== Fold 0\n",
      "{'Start date': Timestamp('2021-07-18 00:00:00', freq='W-SUN'), 'End date': Timestamp('2021-07-25 00:00:00', freq='W-SUN'), 'Train': 507101, 'Train users': 96298, 'Train items': 9563, 'Test': 33870, 'Test users': 12727, 'Test items': 3629}\n"
     ]
    },
    {
     "data": {
      "application/vnd.jupyter.widget-view+json": {
       "model_id": "b11e18eaee5f42cb9ab608918cffbafd",
       "version_major": 2,
       "version_minor": 0
      },
      "text/plain": [
       "  0%|          | 0/96298 [00:00<?, ?it/s]"
      ]
     },
     "metadata": {},
     "output_type": "display_data"
    },
    {
     "data": {
      "application/vnd.jupyter.widget-view+json": {
       "model_id": "ce4193366a044179ac37e3d3c1af31fb",
       "version_major": 2,
       "version_minor": 0
      },
      "text/plain": [
       "  0%|          | 0/96298 [00:00<?, ?it/s]"
      ]
     },
     "metadata": {},
     "output_type": "display_data"
    },
    {
     "data": {
      "application/vnd.jupyter.widget-view+json": {
       "model_id": "c670ccc59e8d4de5a1a9de238e557e5c",
       "version_major": 2,
       "version_minor": 0
      },
      "text/plain": [
       "  0%|          | 0/96298 [00:00<?, ?it/s]"
      ]
     },
     "metadata": {},
     "output_type": "display_data"
    },
    {
     "name": "stdout",
     "output_type": "stream",
     "text": [
      "SHAPE (78790, 3)\n",
      "\n",
      "==================== Fold 1\n",
      "{'Start date': Timestamp('2021-07-25 00:00:00', freq='W-SUN'), 'End date': Timestamp('2021-08-01 00:00:00', freq='W-SUN'), 'Train': 555103, 'Train users': 102785, 'Train items': 9736, 'Test': 36409, 'Test users': 13695, 'Test items': 3632}\n"
     ]
    },
    {
     "data": {
      "application/vnd.jupyter.widget-view+json": {
       "model_id": "bbc65b195c4e48f49ce56ae08897fa01",
       "version_major": 2,
       "version_minor": 0
      },
      "text/plain": [
       "  0%|          | 0/102785 [00:00<?, ?it/s]"
      ]
     },
     "metadata": {},
     "output_type": "display_data"
    },
    {
     "data": {
      "application/vnd.jupyter.widget-view+json": {
       "model_id": "4955478990bf4b7d8dc0607d455a07a7",
       "version_major": 2,
       "version_minor": 0
      },
      "text/plain": [
       "  0%|          | 0/102785 [00:00<?, ?it/s]"
      ]
     },
     "metadata": {},
     "output_type": "display_data"
    },
    {
     "data": {
      "application/vnd.jupyter.widget-view+json": {
       "model_id": "690479dee9e94459aa7b8a8cbcf0cf74",
       "version_major": 2,
       "version_minor": 0
      },
      "text/plain": [
       "  0%|          | 0/102785 [00:00<?, ?it/s]"
      ]
     },
     "metadata": {},
     "output_type": "display_data"
    },
    {
     "name": "stdout",
     "output_type": "stream",
     "text": [
      "SHAPE (86080, 3)\n",
      "\n",
      "==================== Fold 2\n",
      "{'Start date': Timestamp('2021-08-01 00:00:00', freq='W-SUN'), 'End date': Timestamp('2021-08-08 00:00:00', freq='W-SUN'), 'Train': 607865, 'Train users': 110035, 'Train items': 9909, 'Test': 37349, 'Test users': 14158, 'Test items': 3497}\n"
     ]
    },
    {
     "data": {
      "application/vnd.jupyter.widget-view+json": {
       "model_id": "553d9af056b446cca1b25551932afba9",
       "version_major": 2,
       "version_minor": 0
      },
      "text/plain": [
       "  0%|          | 0/110035 [00:00<?, ?it/s]"
      ]
     },
     "metadata": {},
     "output_type": "display_data"
    },
    {
     "data": {
      "application/vnd.jupyter.widget-view+json": {
       "model_id": "2ad675bd3bcf4ab6b7af2a7888d89bd6",
       "version_major": 2,
       "version_minor": 0
      },
      "text/plain": [
       "  0%|          | 0/110035 [00:00<?, ?it/s]"
      ]
     },
     "metadata": {},
     "output_type": "display_data"
    },
    {
     "data": {
      "application/vnd.jupyter.widget-view+json": {
       "model_id": "7392e6c013a94e07a660f705d8f88a07",
       "version_major": 2,
       "version_minor": 0
      },
      "text/plain": [
       "  0%|          | 0/110035 [00:00<?, ?it/s]"
      ]
     },
     "metadata": {},
     "output_type": "display_data"
    },
    {
     "name": "stdout",
     "output_type": "stream",
     "text": [
      "SHAPE (88913, 3)\n",
      "\n",
      "==================== Fold 3\n",
      "{'Start date': Timestamp('2021-08-08 00:00:00', freq='W-SUN'), 'End date': Timestamp('2021-08-15 00:00:00', freq='W-SUN'), 'Train': 662260, 'Train users': 117161, 'Train items': 10124, 'Test': 39661, 'Test users': 14731, 'Test items': 3642}\n"
     ]
    },
    {
     "data": {
      "application/vnd.jupyter.widget-view+json": {
       "model_id": "5f1e439c81144727bd387389adce15b4",
       "version_major": 2,
       "version_minor": 0
      },
      "text/plain": [
       "  0%|          | 0/117161 [00:00<?, ?it/s]"
      ]
     },
     "metadata": {},
     "output_type": "display_data"
    },
    {
     "data": {
      "application/vnd.jupyter.widget-view+json": {
       "model_id": "e10c99d6241c4da1829a933dc65a3581",
       "version_major": 2,
       "version_minor": 0
      },
      "text/plain": [
       "  0%|          | 0/117161 [00:00<?, ?it/s]"
      ]
     },
     "metadata": {},
     "output_type": "display_data"
    },
    {
     "data": {
      "application/vnd.jupyter.widget-view+json": {
       "model_id": "12b245410379429d991064920123d9a8",
       "version_major": 2,
       "version_minor": 0
      },
      "text/plain": [
       "  0%|          | 0/117161 [00:00<?, ?it/s]"
      ]
     },
     "metadata": {},
     "output_type": "display_data"
    },
    {
     "name": "stdout",
     "output_type": "stream",
     "text": [
      "SHAPE (94152, 3)\n"
     ]
    },
    {
     "name": "stderr",
     "output_type": "stream",
     "text": [
      "\u001b[32m[I 2022-12-07 18:22:59,575]\u001b[0m Trial 14 finished with value: 0.030075714444250373 and parameters: {'all_time': False, 'days': 7, 'model1': 'cosine', 'model2': 'tfidf', 'model3': 'bm25', 'n_users': 23, 'w1': 0.2985229990506508, 'w2': 0.488795684832026, 'w3': 0.24800172036395757}. Best is trial 4 with value: 0.030226762267094334.\u001b[0m\n"
     ]
    },
    {
     "name": "stdout",
     "output_type": "stream",
     "text": [
      "\n",
      "==================== Fold 0\n",
      "{'Start date': Timestamp('2021-07-18 00:00:00', freq='W-SUN'), 'End date': Timestamp('2021-07-25 00:00:00', freq='W-SUN'), 'Train': 507101, 'Train users': 96298, 'Train items': 9563, 'Test': 33870, 'Test users': 12727, 'Test items': 3629}\n"
     ]
    },
    {
     "data": {
      "application/vnd.jupyter.widget-view+json": {
       "model_id": "2b7fb6703b5543ea803a69eb836ad58c",
       "version_major": 2,
       "version_minor": 0
      },
      "text/plain": [
       "  0%|          | 0/96298 [00:00<?, ?it/s]"
      ]
     },
     "metadata": {},
     "output_type": "display_data"
    },
    {
     "data": {
      "application/vnd.jupyter.widget-view+json": {
       "model_id": "cce5b82002c54ea29598ee0f0dfe7cce",
       "version_major": 2,
       "version_minor": 0
      },
      "text/plain": [
       "  0%|          | 0/96298 [00:00<?, ?it/s]"
      ]
     },
     "metadata": {},
     "output_type": "display_data"
    },
    {
     "data": {
      "application/vnd.jupyter.widget-view+json": {
       "model_id": "6e943222c5474112b74a94a80d528e99",
       "version_major": 2,
       "version_minor": 0
      },
      "text/plain": [
       "  0%|          | 0/96298 [00:00<?, ?it/s]"
      ]
     },
     "metadata": {},
     "output_type": "display_data"
    },
    {
     "name": "stdout",
     "output_type": "stream",
     "text": [
      "SHAPE (78790, 3)\n",
      "\n",
      "==================== Fold 1\n",
      "{'Start date': Timestamp('2021-07-25 00:00:00', freq='W-SUN'), 'End date': Timestamp('2021-08-01 00:00:00', freq='W-SUN'), 'Train': 555103, 'Train users': 102785, 'Train items': 9736, 'Test': 36409, 'Test users': 13695, 'Test items': 3632}\n"
     ]
    },
    {
     "data": {
      "application/vnd.jupyter.widget-view+json": {
       "model_id": "2ed74c1282d647089b98651b9e5cd04b",
       "version_major": 2,
       "version_minor": 0
      },
      "text/plain": [
       "  0%|          | 0/102785 [00:00<?, ?it/s]"
      ]
     },
     "metadata": {},
     "output_type": "display_data"
    },
    {
     "data": {
      "application/vnd.jupyter.widget-view+json": {
       "model_id": "0a6d4671cd6646d6828a2b45a8bd11a9",
       "version_major": 2,
       "version_minor": 0
      },
      "text/plain": [
       "  0%|          | 0/102785 [00:00<?, ?it/s]"
      ]
     },
     "metadata": {},
     "output_type": "display_data"
    },
    {
     "data": {
      "application/vnd.jupyter.widget-view+json": {
       "model_id": "3d1b58fcda444cf0a479f701bbaf893f",
       "version_major": 2,
       "version_minor": 0
      },
      "text/plain": [
       "  0%|          | 0/102785 [00:00<?, ?it/s]"
      ]
     },
     "metadata": {},
     "output_type": "display_data"
    },
    {
     "name": "stdout",
     "output_type": "stream",
     "text": [
      "SHAPE (86080, 3)\n",
      "\n",
      "==================== Fold 2\n",
      "{'Start date': Timestamp('2021-08-01 00:00:00', freq='W-SUN'), 'End date': Timestamp('2021-08-08 00:00:00', freq='W-SUN'), 'Train': 607865, 'Train users': 110035, 'Train items': 9909, 'Test': 37349, 'Test users': 14158, 'Test items': 3497}\n"
     ]
    },
    {
     "data": {
      "application/vnd.jupyter.widget-view+json": {
       "model_id": "b537e38325ac471095d49cccc527fe58",
       "version_major": 2,
       "version_minor": 0
      },
      "text/plain": [
       "  0%|          | 0/110035 [00:00<?, ?it/s]"
      ]
     },
     "metadata": {},
     "output_type": "display_data"
    },
    {
     "data": {
      "application/vnd.jupyter.widget-view+json": {
       "model_id": "8bfcf43b001a475493f88b9d2242fbcb",
       "version_major": 2,
       "version_minor": 0
      },
      "text/plain": [
       "  0%|          | 0/110035 [00:00<?, ?it/s]"
      ]
     },
     "metadata": {},
     "output_type": "display_data"
    },
    {
     "data": {
      "application/vnd.jupyter.widget-view+json": {
       "model_id": "d0d0773365764f02a6c51a73df254ba7",
       "version_major": 2,
       "version_minor": 0
      },
      "text/plain": [
       "  0%|          | 0/110035 [00:00<?, ?it/s]"
      ]
     },
     "metadata": {},
     "output_type": "display_data"
    },
    {
     "name": "stdout",
     "output_type": "stream",
     "text": [
      "SHAPE (88913, 3)\n",
      "\n",
      "==================== Fold 3\n",
      "{'Start date': Timestamp('2021-08-08 00:00:00', freq='W-SUN'), 'End date': Timestamp('2021-08-15 00:00:00', freq='W-SUN'), 'Train': 662260, 'Train users': 117161, 'Train items': 10124, 'Test': 39661, 'Test users': 14731, 'Test items': 3642}\n"
     ]
    },
    {
     "data": {
      "application/vnd.jupyter.widget-view+json": {
       "model_id": "ef9de13566254dfbb8a92bf46f84aecc",
       "version_major": 2,
       "version_minor": 0
      },
      "text/plain": [
       "  0%|          | 0/117161 [00:00<?, ?it/s]"
      ]
     },
     "metadata": {},
     "output_type": "display_data"
    },
    {
     "data": {
      "application/vnd.jupyter.widget-view+json": {
       "model_id": "1d67db1942b945b78bd51bf680d0f135",
       "version_major": 2,
       "version_minor": 0
      },
      "text/plain": [
       "  0%|          | 0/117161 [00:00<?, ?it/s]"
      ]
     },
     "metadata": {},
     "output_type": "display_data"
    },
    {
     "data": {
      "application/vnd.jupyter.widget-view+json": {
       "model_id": "078f3ae407df44efbb1895ba7ab94580",
       "version_major": 2,
       "version_minor": 0
      },
      "text/plain": [
       "  0%|          | 0/117161 [00:00<?, ?it/s]"
      ]
     },
     "metadata": {},
     "output_type": "display_data"
    },
    {
     "name": "stdout",
     "output_type": "stream",
     "text": [
      "SHAPE (94152, 3)\n"
     ]
    },
    {
     "name": "stderr",
     "output_type": "stream",
     "text": [
      "\u001b[32m[I 2022-12-07 18:24:14,537]\u001b[0m Trial 15 finished with value: 0.03042791312382214 and parameters: {'all_time': False, 'days': 4, 'model1': 'cosine', 'model2': 'bm25', 'model3': 'bm25', 'n_users': 32, 'w1': 0.21365604183443998, 'w2': 0.001645150343277224, 'w3': 0.5281082339188474}. Best is trial 15 with value: 0.03042791312382214.\u001b[0m\n"
     ]
    },
    {
     "name": "stdout",
     "output_type": "stream",
     "text": [
      "\n",
      "==================== Fold 0\n",
      "{'Start date': Timestamp('2021-07-18 00:00:00', freq='W-SUN'), 'End date': Timestamp('2021-07-25 00:00:00', freq='W-SUN'), 'Train': 507101, 'Train users': 96298, 'Train items': 9563, 'Test': 33870, 'Test users': 12727, 'Test items': 3629}\n"
     ]
    },
    {
     "data": {
      "application/vnd.jupyter.widget-view+json": {
       "model_id": "bd347b8849f34f29bd82f3aa9c9ba50d",
       "version_major": 2,
       "version_minor": 0
      },
      "text/plain": [
       "  0%|          | 0/96298 [00:00<?, ?it/s]"
      ]
     },
     "metadata": {},
     "output_type": "display_data"
    },
    {
     "data": {
      "application/vnd.jupyter.widget-view+json": {
       "model_id": "2c7b1d5887db493582580b12aa361cd6",
       "version_major": 2,
       "version_minor": 0
      },
      "text/plain": [
       "  0%|          | 0/96298 [00:00<?, ?it/s]"
      ]
     },
     "metadata": {},
     "output_type": "display_data"
    },
    {
     "data": {
      "application/vnd.jupyter.widget-view+json": {
       "model_id": "dedd038a3d7749c58492d662ed0e28c8",
       "version_major": 2,
       "version_minor": 0
      },
      "text/plain": [
       "  0%|          | 0/96298 [00:00<?, ?it/s]"
      ]
     },
     "metadata": {},
     "output_type": "display_data"
    },
    {
     "name": "stdout",
     "output_type": "stream",
     "text": [
      "SHAPE (78790, 3)\n",
      "\n",
      "==================== Fold 1\n",
      "{'Start date': Timestamp('2021-07-25 00:00:00', freq='W-SUN'), 'End date': Timestamp('2021-08-01 00:00:00', freq='W-SUN'), 'Train': 555103, 'Train users': 102785, 'Train items': 9736, 'Test': 36409, 'Test users': 13695, 'Test items': 3632}\n"
     ]
    },
    {
     "data": {
      "application/vnd.jupyter.widget-view+json": {
       "model_id": "749d2e62b9f44c4689e0927db34034ff",
       "version_major": 2,
       "version_minor": 0
      },
      "text/plain": [
       "  0%|          | 0/102785 [00:00<?, ?it/s]"
      ]
     },
     "metadata": {},
     "output_type": "display_data"
    },
    {
     "data": {
      "application/vnd.jupyter.widget-view+json": {
       "model_id": "b327daac14c648388e2f89fc29e8f063",
       "version_major": 2,
       "version_minor": 0
      },
      "text/plain": [
       "  0%|          | 0/102785 [00:00<?, ?it/s]"
      ]
     },
     "metadata": {},
     "output_type": "display_data"
    },
    {
     "data": {
      "application/vnd.jupyter.widget-view+json": {
       "model_id": "0ba6acd85fa84b448961bf959559d97d",
       "version_major": 2,
       "version_minor": 0
      },
      "text/plain": [
       "  0%|          | 0/102785 [00:00<?, ?it/s]"
      ]
     },
     "metadata": {},
     "output_type": "display_data"
    },
    {
     "name": "stdout",
     "output_type": "stream",
     "text": [
      "SHAPE (86080, 3)\n",
      "\n",
      "==================== Fold 2\n",
      "{'Start date': Timestamp('2021-08-01 00:00:00', freq='W-SUN'), 'End date': Timestamp('2021-08-08 00:00:00', freq='W-SUN'), 'Train': 607865, 'Train users': 110035, 'Train items': 9909, 'Test': 37349, 'Test users': 14158, 'Test items': 3497}\n"
     ]
    },
    {
     "data": {
      "application/vnd.jupyter.widget-view+json": {
       "model_id": "a8a1456ebd374131b60bc68152a06fb7",
       "version_major": 2,
       "version_minor": 0
      },
      "text/plain": [
       "  0%|          | 0/110035 [00:00<?, ?it/s]"
      ]
     },
     "metadata": {},
     "output_type": "display_data"
    },
    {
     "data": {
      "application/vnd.jupyter.widget-view+json": {
       "model_id": "c3572b479cc84ab98202835d0d24c9c9",
       "version_major": 2,
       "version_minor": 0
      },
      "text/plain": [
       "  0%|          | 0/110035 [00:00<?, ?it/s]"
      ]
     },
     "metadata": {},
     "output_type": "display_data"
    },
    {
     "data": {
      "application/vnd.jupyter.widget-view+json": {
       "model_id": "a38b534787664a4d87486c43c1469b2b",
       "version_major": 2,
       "version_minor": 0
      },
      "text/plain": [
       "  0%|          | 0/110035 [00:00<?, ?it/s]"
      ]
     },
     "metadata": {},
     "output_type": "display_data"
    },
    {
     "name": "stdout",
     "output_type": "stream",
     "text": [
      "SHAPE (88913, 3)\n",
      "\n",
      "==================== Fold 3\n",
      "{'Start date': Timestamp('2021-08-08 00:00:00', freq='W-SUN'), 'End date': Timestamp('2021-08-15 00:00:00', freq='W-SUN'), 'Train': 662260, 'Train users': 117161, 'Train items': 10124, 'Test': 39661, 'Test users': 14731, 'Test items': 3642}\n"
     ]
    },
    {
     "data": {
      "application/vnd.jupyter.widget-view+json": {
       "model_id": "c4350929e6da4afca914437a3705046d",
       "version_major": 2,
       "version_minor": 0
      },
      "text/plain": [
       "  0%|          | 0/117161 [00:00<?, ?it/s]"
      ]
     },
     "metadata": {},
     "output_type": "display_data"
    },
    {
     "data": {
      "application/vnd.jupyter.widget-view+json": {
       "model_id": "d17c76e93ae24b81be79f019c5af7a8c",
       "version_major": 2,
       "version_minor": 0
      },
      "text/plain": [
       "  0%|          | 0/117161 [00:00<?, ?it/s]"
      ]
     },
     "metadata": {},
     "output_type": "display_data"
    },
    {
     "data": {
      "application/vnd.jupyter.widget-view+json": {
       "model_id": "bc064535165049baa7578b2658228a77",
       "version_major": 2,
       "version_minor": 0
      },
      "text/plain": [
       "  0%|          | 0/117161 [00:00<?, ?it/s]"
      ]
     },
     "metadata": {},
     "output_type": "display_data"
    },
    {
     "name": "stdout",
     "output_type": "stream",
     "text": [
      "SHAPE (94152, 3)\n"
     ]
    },
    {
     "name": "stderr",
     "output_type": "stream",
     "text": [
      "\u001b[32m[I 2022-12-07 18:25:26,359]\u001b[0m Trial 16 finished with value: 0.029978395991720523 and parameters: {'all_time': False, 'days': 10, 'model1': 'cosine', 'model2': 'bm25', 'model3': 'bm25', 'n_users': 33, 'w1': 0.198128034950525, 'w2': 0.19419003385208133, 'w3': 0.5169750898791835}. Best is trial 15 with value: 0.03042791312382214.\u001b[0m\n"
     ]
    },
    {
     "name": "stdout",
     "output_type": "stream",
     "text": [
      "\n",
      "==================== Fold 0\n",
      "{'Start date': Timestamp('2021-07-18 00:00:00', freq='W-SUN'), 'End date': Timestamp('2021-07-25 00:00:00', freq='W-SUN'), 'Train': 507101, 'Train users': 96298, 'Train items': 9563, 'Test': 33870, 'Test users': 12727, 'Test items': 3629}\n"
     ]
    },
    {
     "data": {
      "application/vnd.jupyter.widget-view+json": {
       "model_id": "b050a6d0975944a2984427c4fa6924de",
       "version_major": 2,
       "version_minor": 0
      },
      "text/plain": [
       "  0%|          | 0/96298 [00:00<?, ?it/s]"
      ]
     },
     "metadata": {},
     "output_type": "display_data"
    },
    {
     "data": {
      "application/vnd.jupyter.widget-view+json": {
       "model_id": "5cbf3189c45848c79ff6799d246bc2f3",
       "version_major": 2,
       "version_minor": 0
      },
      "text/plain": [
       "  0%|          | 0/96298 [00:00<?, ?it/s]"
      ]
     },
     "metadata": {},
     "output_type": "display_data"
    },
    {
     "data": {
      "application/vnd.jupyter.widget-view+json": {
       "model_id": "2fe5665183124982be625baeadd6960f",
       "version_major": 2,
       "version_minor": 0
      },
      "text/plain": [
       "  0%|          | 0/96298 [00:00<?, ?it/s]"
      ]
     },
     "metadata": {},
     "output_type": "display_data"
    },
    {
     "name": "stdout",
     "output_type": "stream",
     "text": [
      "SHAPE (85039, 3)\n",
      "\n",
      "==================== Fold 1\n",
      "{'Start date': Timestamp('2021-07-25 00:00:00', freq='W-SUN'), 'End date': Timestamp('2021-08-01 00:00:00', freq='W-SUN'), 'Train': 555103, 'Train users': 102785, 'Train items': 9736, 'Test': 36409, 'Test users': 13695, 'Test items': 3632}\n"
     ]
    },
    {
     "data": {
      "application/vnd.jupyter.widget-view+json": {
       "model_id": "d45c1b48425e440b8ba349bda294380e",
       "version_major": 2,
       "version_minor": 0
      },
      "text/plain": [
       "  0%|          | 0/102785 [00:00<?, ?it/s]"
      ]
     },
     "metadata": {},
     "output_type": "display_data"
    },
    {
     "data": {
      "application/vnd.jupyter.widget-view+json": {
       "model_id": "5a20e3b084814cb6ad55c490e4e15fea",
       "version_major": 2,
       "version_minor": 0
      },
      "text/plain": [
       "  0%|          | 0/102785 [00:00<?, ?it/s]"
      ]
     },
     "metadata": {},
     "output_type": "display_data"
    },
    {
     "data": {
      "application/vnd.jupyter.widget-view+json": {
       "model_id": "2b4e8d143f604910853d1256079b42c6",
       "version_major": 2,
       "version_minor": 0
      },
      "text/plain": [
       "  0%|          | 0/102785 [00:00<?, ?it/s]"
      ]
     },
     "metadata": {},
     "output_type": "display_data"
    },
    {
     "name": "stdout",
     "output_type": "stream",
     "text": [
      "SHAPE (92987, 3)\n",
      "\n",
      "==================== Fold 2\n",
      "{'Start date': Timestamp('2021-08-01 00:00:00', freq='W-SUN'), 'End date': Timestamp('2021-08-08 00:00:00', freq='W-SUN'), 'Train': 607865, 'Train users': 110035, 'Train items': 9909, 'Test': 37349, 'Test users': 14158, 'Test items': 3497}\n"
     ]
    },
    {
     "data": {
      "application/vnd.jupyter.widget-view+json": {
       "model_id": "11e02851cc214b518322684e56f42187",
       "version_major": 2,
       "version_minor": 0
      },
      "text/plain": [
       "  0%|          | 0/110035 [00:00<?, ?it/s]"
      ]
     },
     "metadata": {},
     "output_type": "display_data"
    },
    {
     "data": {
      "application/vnd.jupyter.widget-view+json": {
       "model_id": "1328ee98345647208673e590c75fb4cc",
       "version_major": 2,
       "version_minor": 0
      },
      "text/plain": [
       "  0%|          | 0/110035 [00:00<?, ?it/s]"
      ]
     },
     "metadata": {},
     "output_type": "display_data"
    },
    {
     "data": {
      "application/vnd.jupyter.widget-view+json": {
       "model_id": "d5a2a371759f4db1ad8a6d908f93ad89",
       "version_major": 2,
       "version_minor": 0
      },
      "text/plain": [
       "  0%|          | 0/110035 [00:00<?, ?it/s]"
      ]
     },
     "metadata": {},
     "output_type": "display_data"
    },
    {
     "name": "stdout",
     "output_type": "stream",
     "text": [
      "SHAPE (95183, 3)\n",
      "\n",
      "==================== Fold 3\n",
      "{'Start date': Timestamp('2021-08-08 00:00:00', freq='W-SUN'), 'End date': Timestamp('2021-08-15 00:00:00', freq='W-SUN'), 'Train': 662260, 'Train users': 117161, 'Train items': 10124, 'Test': 39661, 'Test users': 14731, 'Test items': 3642}\n"
     ]
    },
    {
     "data": {
      "application/vnd.jupyter.widget-view+json": {
       "model_id": "13c14306cf1a43cea4764213681b646b",
       "version_major": 2,
       "version_minor": 0
      },
      "text/plain": [
       "  0%|          | 0/117161 [00:00<?, ?it/s]"
      ]
     },
     "metadata": {},
     "output_type": "display_data"
    },
    {
     "data": {
      "application/vnd.jupyter.widget-view+json": {
       "model_id": "c77b95d609f44f5682cf494e791aa219",
       "version_major": 2,
       "version_minor": 0
      },
      "text/plain": [
       "  0%|          | 0/117161 [00:00<?, ?it/s]"
      ]
     },
     "metadata": {},
     "output_type": "display_data"
    },
    {
     "data": {
      "application/vnd.jupyter.widget-view+json": {
       "model_id": "8c23ee1489974559be88977be2752f5b",
       "version_major": 2,
       "version_minor": 0
      },
      "text/plain": [
       "  0%|          | 0/117161 [00:00<?, ?it/s]"
      ]
     },
     "metadata": {},
     "output_type": "display_data"
    },
    {
     "name": "stdout",
     "output_type": "stream",
     "text": [
      "SHAPE (99838, 3)\n"
     ]
    },
    {
     "name": "stderr",
     "output_type": "stream",
     "text": [
      "\u001b[32m[I 2022-12-07 18:26:37,057]\u001b[0m Trial 17 finished with value: 0.028617286750050763 and parameters: {'all_time': False, 'days': 10, 'model1': 'tfidf', 'model2': 'tfidf', 'model3': 'tfidf', 'n_users': 45, 'w1': 0.022894430502183993, 'w2': 0.028897662074242526, 'w3': 0.780303716684579}. Best is trial 15 with value: 0.03042791312382214.\u001b[0m\n"
     ]
    },
    {
     "name": "stdout",
     "output_type": "stream",
     "text": [
      "\n",
      "==================== Fold 0\n",
      "{'Start date': Timestamp('2021-07-18 00:00:00', freq='W-SUN'), 'End date': Timestamp('2021-07-25 00:00:00', freq='W-SUN'), 'Train': 507101, 'Train users': 96298, 'Train items': 9563, 'Test': 33870, 'Test users': 12727, 'Test items': 3629}\n"
     ]
    },
    {
     "data": {
      "application/vnd.jupyter.widget-view+json": {
       "model_id": "3c5b4f86bd9344ab95bdb1b18d667650",
       "version_major": 2,
       "version_minor": 0
      },
      "text/plain": [
       "  0%|          | 0/96298 [00:00<?, ?it/s]"
      ]
     },
     "metadata": {},
     "output_type": "display_data"
    },
    {
     "data": {
      "application/vnd.jupyter.widget-view+json": {
       "model_id": "0311fc879d1a41c2b709426253227484",
       "version_major": 2,
       "version_minor": 0
      },
      "text/plain": [
       "  0%|          | 0/96298 [00:00<?, ?it/s]"
      ]
     },
     "metadata": {},
     "output_type": "display_data"
    },
    {
     "data": {
      "application/vnd.jupyter.widget-view+json": {
       "model_id": "9340fedb140a49b79c9f2c37a65049f2",
       "version_major": 2,
       "version_minor": 0
      },
      "text/plain": [
       "  0%|          | 0/96298 [00:00<?, ?it/s]"
      ]
     },
     "metadata": {},
     "output_type": "display_data"
    },
    {
     "name": "stdout",
     "output_type": "stream",
     "text": [
      "SHAPE (78790, 3)\n",
      "\n",
      "==================== Fold 1\n",
      "{'Start date': Timestamp('2021-07-25 00:00:00', freq='W-SUN'), 'End date': Timestamp('2021-08-01 00:00:00', freq='W-SUN'), 'Train': 555103, 'Train users': 102785, 'Train items': 9736, 'Test': 36409, 'Test users': 13695, 'Test items': 3632}\n"
     ]
    },
    {
     "data": {
      "application/vnd.jupyter.widget-view+json": {
       "model_id": "b2f255a78acc4d769d5b7be8100a9213",
       "version_major": 2,
       "version_minor": 0
      },
      "text/plain": [
       "  0%|          | 0/102785 [00:00<?, ?it/s]"
      ]
     },
     "metadata": {},
     "output_type": "display_data"
    },
    {
     "data": {
      "application/vnd.jupyter.widget-view+json": {
       "model_id": "5784ad1e65704f1a8b6e85aba8fb36a2",
       "version_major": 2,
       "version_minor": 0
      },
      "text/plain": [
       "  0%|          | 0/102785 [00:00<?, ?it/s]"
      ]
     },
     "metadata": {},
     "output_type": "display_data"
    },
    {
     "data": {
      "application/vnd.jupyter.widget-view+json": {
       "model_id": "a4e14a828d8b456ab0783cfc1741e6fe",
       "version_major": 2,
       "version_minor": 0
      },
      "text/plain": [
       "  0%|          | 0/102785 [00:00<?, ?it/s]"
      ]
     },
     "metadata": {},
     "output_type": "display_data"
    },
    {
     "name": "stdout",
     "output_type": "stream",
     "text": [
      "SHAPE (86080, 3)\n",
      "\n",
      "==================== Fold 2\n",
      "{'Start date': Timestamp('2021-08-01 00:00:00', freq='W-SUN'), 'End date': Timestamp('2021-08-08 00:00:00', freq='W-SUN'), 'Train': 607865, 'Train users': 110035, 'Train items': 9909, 'Test': 37349, 'Test users': 14158, 'Test items': 3497}\n"
     ]
    },
    {
     "data": {
      "application/vnd.jupyter.widget-view+json": {
       "model_id": "e9aa06019aaf47b58b1b6f74984a0e6b",
       "version_major": 2,
       "version_minor": 0
      },
      "text/plain": [
       "  0%|          | 0/110035 [00:00<?, ?it/s]"
      ]
     },
     "metadata": {},
     "output_type": "display_data"
    },
    {
     "data": {
      "application/vnd.jupyter.widget-view+json": {
       "model_id": "1c808b5f0cff4a5798b451549e6270c9",
       "version_major": 2,
       "version_minor": 0
      },
      "text/plain": [
       "  0%|          | 0/110035 [00:00<?, ?it/s]"
      ]
     },
     "metadata": {},
     "output_type": "display_data"
    },
    {
     "data": {
      "application/vnd.jupyter.widget-view+json": {
       "model_id": "b1d6ab4a71b74b82b06ffd5255b125f0",
       "version_major": 2,
       "version_minor": 0
      },
      "text/plain": [
       "  0%|          | 0/110035 [00:00<?, ?it/s]"
      ]
     },
     "metadata": {},
     "output_type": "display_data"
    },
    {
     "name": "stdout",
     "output_type": "stream",
     "text": [
      "SHAPE (88913, 3)\n",
      "\n",
      "==================== Fold 3\n",
      "{'Start date': Timestamp('2021-08-08 00:00:00', freq='W-SUN'), 'End date': Timestamp('2021-08-15 00:00:00', freq='W-SUN'), 'Train': 662260, 'Train users': 117161, 'Train items': 10124, 'Test': 39661, 'Test users': 14731, 'Test items': 3642}\n"
     ]
    },
    {
     "data": {
      "application/vnd.jupyter.widget-view+json": {
       "model_id": "d7656e59948c4ae1948249823e2d18f7",
       "version_major": 2,
       "version_minor": 0
      },
      "text/plain": [
       "  0%|          | 0/117161 [00:00<?, ?it/s]"
      ]
     },
     "metadata": {},
     "output_type": "display_data"
    },
    {
     "data": {
      "application/vnd.jupyter.widget-view+json": {
       "model_id": "5c1bdf39b48940a3b526472d2fc93ef0",
       "version_major": 2,
       "version_minor": 0
      },
      "text/plain": [
       "  0%|          | 0/117161 [00:00<?, ?it/s]"
      ]
     },
     "metadata": {},
     "output_type": "display_data"
    },
    {
     "data": {
      "application/vnd.jupyter.widget-view+json": {
       "model_id": "6645b1de624c40cca840113062fb33a9",
       "version_major": 2,
       "version_minor": 0
      },
      "text/plain": [
       "  0%|          | 0/117161 [00:00<?, ?it/s]"
      ]
     },
     "metadata": {},
     "output_type": "display_data"
    },
    {
     "name": "stdout",
     "output_type": "stream",
     "text": [
      "SHAPE (94152, 3)\n"
     ]
    },
    {
     "name": "stderr",
     "output_type": "stream",
     "text": [
      "\u001b[32m[I 2022-12-07 18:27:48,144]\u001b[0m Trial 18 finished with value: 0.030382645286127326 and parameters: {'all_time': False, 'days': 4, 'model1': 'cosine', 'model2': 'bm25', 'model3': 'bm25', 'n_users': 23, 'w1': 0.19934794195707484, 'w2': 0.004244156455073441, 'w3': 0.5005055948306945}. Best is trial 15 with value: 0.03042791312382214.\u001b[0m\n"
     ]
    },
    {
     "name": "stdout",
     "output_type": "stream",
     "text": [
      "\n",
      "==================== Fold 0\n",
      "{'Start date': Timestamp('2021-07-18 00:00:00', freq='W-SUN'), 'End date': Timestamp('2021-07-25 00:00:00', freq='W-SUN'), 'Train': 507101, 'Train users': 96298, 'Train items': 9563, 'Test': 33870, 'Test users': 12727, 'Test items': 3629}\n"
     ]
    },
    {
     "data": {
      "application/vnd.jupyter.widget-view+json": {
       "model_id": "7432540aee3b42369daf2949715c32bd",
       "version_major": 2,
       "version_minor": 0
      },
      "text/plain": [
       "  0%|          | 0/96298 [00:00<?, ?it/s]"
      ]
     },
     "metadata": {},
     "output_type": "display_data"
    },
    {
     "data": {
      "application/vnd.jupyter.widget-view+json": {
       "model_id": "d6cc86c624114672871dab6626270d96",
       "version_major": 2,
       "version_minor": 0
      },
      "text/plain": [
       "  0%|          | 0/96298 [00:00<?, ?it/s]"
      ]
     },
     "metadata": {},
     "output_type": "display_data"
    },
    {
     "data": {
      "application/vnd.jupyter.widget-view+json": {
       "model_id": "036d58fe47b44705bc71b1c3402031ab",
       "version_major": 2,
       "version_minor": 0
      },
      "text/plain": [
       "  0%|          | 0/96298 [00:00<?, ?it/s]"
      ]
     },
     "metadata": {},
     "output_type": "display_data"
    },
    {
     "name": "stdout",
     "output_type": "stream",
     "text": [
      "SHAPE (78790, 3)\n",
      "\n",
      "==================== Fold 1\n",
      "{'Start date': Timestamp('2021-07-25 00:00:00', freq='W-SUN'), 'End date': Timestamp('2021-08-01 00:00:00', freq='W-SUN'), 'Train': 555103, 'Train users': 102785, 'Train items': 9736, 'Test': 36409, 'Test users': 13695, 'Test items': 3632}\n"
     ]
    },
    {
     "data": {
      "application/vnd.jupyter.widget-view+json": {
       "model_id": "0697ce5c30884897aca2ae09c568d5b5",
       "version_major": 2,
       "version_minor": 0
      },
      "text/plain": [
       "  0%|          | 0/102785 [00:00<?, ?it/s]"
      ]
     },
     "metadata": {},
     "output_type": "display_data"
    },
    {
     "data": {
      "application/vnd.jupyter.widget-view+json": {
       "model_id": "f63ac8dd8c1a489883fb35607989d4a5",
       "version_major": 2,
       "version_minor": 0
      },
      "text/plain": [
       "  0%|          | 0/102785 [00:00<?, ?it/s]"
      ]
     },
     "metadata": {},
     "output_type": "display_data"
    },
    {
     "data": {
      "application/vnd.jupyter.widget-view+json": {
       "model_id": "1120b0f4057541c2ac7da9fe99b26c26",
       "version_major": 2,
       "version_minor": 0
      },
      "text/plain": [
       "  0%|          | 0/102785 [00:00<?, ?it/s]"
      ]
     },
     "metadata": {},
     "output_type": "display_data"
    },
    {
     "name": "stdout",
     "output_type": "stream",
     "text": [
      "SHAPE (86080, 3)\n",
      "\n",
      "==================== Fold 2\n",
      "{'Start date': Timestamp('2021-08-01 00:00:00', freq='W-SUN'), 'End date': Timestamp('2021-08-08 00:00:00', freq='W-SUN'), 'Train': 607865, 'Train users': 110035, 'Train items': 9909, 'Test': 37349, 'Test users': 14158, 'Test items': 3497}\n"
     ]
    },
    {
     "data": {
      "application/vnd.jupyter.widget-view+json": {
       "model_id": "728746af3a1e418985a29c2c43fe5d41",
       "version_major": 2,
       "version_minor": 0
      },
      "text/plain": [
       "  0%|          | 0/110035 [00:00<?, ?it/s]"
      ]
     },
     "metadata": {},
     "output_type": "display_data"
    },
    {
     "data": {
      "application/vnd.jupyter.widget-view+json": {
       "model_id": "b60bfed32e624e67a4a047f605ddabd3",
       "version_major": 2,
       "version_minor": 0
      },
      "text/plain": [
       "  0%|          | 0/110035 [00:00<?, ?it/s]"
      ]
     },
     "metadata": {},
     "output_type": "display_data"
    },
    {
     "data": {
      "application/vnd.jupyter.widget-view+json": {
       "model_id": "4d84c49f73054eb5bc557f568e301d0f",
       "version_major": 2,
       "version_minor": 0
      },
      "text/plain": [
       "  0%|          | 0/110035 [00:00<?, ?it/s]"
      ]
     },
     "metadata": {},
     "output_type": "display_data"
    },
    {
     "name": "stdout",
     "output_type": "stream",
     "text": [
      "SHAPE (88913, 3)\n",
      "\n",
      "==================== Fold 3\n",
      "{'Start date': Timestamp('2021-08-08 00:00:00', freq='W-SUN'), 'End date': Timestamp('2021-08-15 00:00:00', freq='W-SUN'), 'Train': 662260, 'Train users': 117161, 'Train items': 10124, 'Test': 39661, 'Test users': 14731, 'Test items': 3642}\n"
     ]
    },
    {
     "data": {
      "application/vnd.jupyter.widget-view+json": {
       "model_id": "5b1ea874942b4c64b10126e737b2bd53",
       "version_major": 2,
       "version_minor": 0
      },
      "text/plain": [
       "  0%|          | 0/117161 [00:00<?, ?it/s]"
      ]
     },
     "metadata": {},
     "output_type": "display_data"
    },
    {
     "data": {
      "application/vnd.jupyter.widget-view+json": {
       "model_id": "59b87db16cdf4a9982ce398fa1fb6e66",
       "version_major": 2,
       "version_minor": 0
      },
      "text/plain": [
       "  0%|          | 0/117161 [00:00<?, ?it/s]"
      ]
     },
     "metadata": {},
     "output_type": "display_data"
    },
    {
     "data": {
      "application/vnd.jupyter.widget-view+json": {
       "model_id": "3583138ae3d040c1b576a9dd18e4ee1c",
       "version_major": 2,
       "version_minor": 0
      },
      "text/plain": [
       "  0%|          | 0/117161 [00:00<?, ?it/s]"
      ]
     },
     "metadata": {},
     "output_type": "display_data"
    },
    {
     "name": "stdout",
     "output_type": "stream",
     "text": [
      "SHAPE (94152, 3)\n"
     ]
    },
    {
     "name": "stderr",
     "output_type": "stream",
     "text": [
      "\u001b[32m[I 2022-12-07 18:28:59,265]\u001b[0m Trial 19 finished with value: 0.030454974032857372 and parameters: {'all_time': False, 'days': 4, 'model1': 'cosine', 'model2': 'bm25', 'model3': 'bm25', 'n_users': 34, 'w1': 0.38272189882112434, 'w2': 0.01564792805376271, 'w3': 0.19815742183799168}. Best is trial 19 with value: 0.030454974032857372.\u001b[0m\n"
     ]
    },
    {
     "name": "stdout",
     "output_type": "stream",
     "text": [
      "\n",
      "==================== Fold 0\n",
      "{'Start date': Timestamp('2021-07-18 00:00:00', freq='W-SUN'), 'End date': Timestamp('2021-07-25 00:00:00', freq='W-SUN'), 'Train': 507101, 'Train users': 96298, 'Train items': 9563, 'Test': 33870, 'Test users': 12727, 'Test items': 3629}\n"
     ]
    },
    {
     "data": {
      "application/vnd.jupyter.widget-view+json": {
       "model_id": "f1d32258b5bc42e1bd951cf36d48c6a7",
       "version_major": 2,
       "version_minor": 0
      },
      "text/plain": [
       "  0%|          | 0/96298 [00:00<?, ?it/s]"
      ]
     },
     "metadata": {},
     "output_type": "display_data"
    },
    {
     "data": {
      "application/vnd.jupyter.widget-view+json": {
       "model_id": "7b09018c5bc24b658332351c18ae3791",
       "version_major": 2,
       "version_minor": 0
      },
      "text/plain": [
       "  0%|          | 0/96298 [00:00<?, ?it/s]"
      ]
     },
     "metadata": {},
     "output_type": "display_data"
    },
    {
     "data": {
      "application/vnd.jupyter.widget-view+json": {
       "model_id": "f27c8a39abf447c28e8f95c7d8d5633c",
       "version_major": 2,
       "version_minor": 0
      },
      "text/plain": [
       "  0%|          | 0/96298 [00:00<?, ?it/s]"
      ]
     },
     "metadata": {},
     "output_type": "display_data"
    },
    {
     "name": "stdout",
     "output_type": "stream",
     "text": [
      "SHAPE (85039, 3)\n",
      "\n",
      "==================== Fold 1\n",
      "{'Start date': Timestamp('2021-07-25 00:00:00', freq='W-SUN'), 'End date': Timestamp('2021-08-01 00:00:00', freq='W-SUN'), 'Train': 555103, 'Train users': 102785, 'Train items': 9736, 'Test': 36409, 'Test users': 13695, 'Test items': 3632}\n"
     ]
    },
    {
     "data": {
      "application/vnd.jupyter.widget-view+json": {
       "model_id": "323bad518f4c476b94b481841923c95f",
       "version_major": 2,
       "version_minor": 0
      },
      "text/plain": [
       "  0%|          | 0/102785 [00:00<?, ?it/s]"
      ]
     },
     "metadata": {},
     "output_type": "display_data"
    },
    {
     "data": {
      "application/vnd.jupyter.widget-view+json": {
       "model_id": "f03c53a08ebe4384b1c8863f47651501",
       "version_major": 2,
       "version_minor": 0
      },
      "text/plain": [
       "  0%|          | 0/102785 [00:00<?, ?it/s]"
      ]
     },
     "metadata": {},
     "output_type": "display_data"
    },
    {
     "data": {
      "application/vnd.jupyter.widget-view+json": {
       "model_id": "515391e2111b44999fa0d4c6b70eddef",
       "version_major": 2,
       "version_minor": 0
      },
      "text/plain": [
       "  0%|          | 0/102785 [00:00<?, ?it/s]"
      ]
     },
     "metadata": {},
     "output_type": "display_data"
    },
    {
     "name": "stdout",
     "output_type": "stream",
     "text": [
      "SHAPE (92987, 3)\n",
      "\n",
      "==================== Fold 2\n",
      "{'Start date': Timestamp('2021-08-01 00:00:00', freq='W-SUN'), 'End date': Timestamp('2021-08-08 00:00:00', freq='W-SUN'), 'Train': 607865, 'Train users': 110035, 'Train items': 9909, 'Test': 37349, 'Test users': 14158, 'Test items': 3497}\n"
     ]
    },
    {
     "data": {
      "application/vnd.jupyter.widget-view+json": {
       "model_id": "b5430d8add2547378ddc856cd7694fcd",
       "version_major": 2,
       "version_minor": 0
      },
      "text/plain": [
       "  0%|          | 0/110035 [00:00<?, ?it/s]"
      ]
     },
     "metadata": {},
     "output_type": "display_data"
    },
    {
     "data": {
      "application/vnd.jupyter.widget-view+json": {
       "model_id": "a49339555b9940a09917cc5ea97d6857",
       "version_major": 2,
       "version_minor": 0
      },
      "text/plain": [
       "  0%|          | 0/110035 [00:00<?, ?it/s]"
      ]
     },
     "metadata": {},
     "output_type": "display_data"
    },
    {
     "data": {
      "application/vnd.jupyter.widget-view+json": {
       "model_id": "12fb3bee24bd4b61b667f4221fe20125",
       "version_major": 2,
       "version_minor": 0
      },
      "text/plain": [
       "  0%|          | 0/110035 [00:00<?, ?it/s]"
      ]
     },
     "metadata": {},
     "output_type": "display_data"
    },
    {
     "name": "stdout",
     "output_type": "stream",
     "text": [
      "SHAPE (95183, 3)\n",
      "\n",
      "==================== Fold 3\n",
      "{'Start date': Timestamp('2021-08-08 00:00:00', freq='W-SUN'), 'End date': Timestamp('2021-08-15 00:00:00', freq='W-SUN'), 'Train': 662260, 'Train users': 117161, 'Train items': 10124, 'Test': 39661, 'Test users': 14731, 'Test items': 3642}\n"
     ]
    },
    {
     "data": {
      "application/vnd.jupyter.widget-view+json": {
       "model_id": "193469ff2d77423b80116a06779ac338",
       "version_major": 2,
       "version_minor": 0
      },
      "text/plain": [
       "  0%|          | 0/117161 [00:00<?, ?it/s]"
      ]
     },
     "metadata": {},
     "output_type": "display_data"
    },
    {
     "data": {
      "application/vnd.jupyter.widget-view+json": {
       "model_id": "e0f154ab76d84134a19450322fa088de",
       "version_major": 2,
       "version_minor": 0
      },
      "text/plain": [
       "  0%|          | 0/117161 [00:00<?, ?it/s]"
      ]
     },
     "metadata": {},
     "output_type": "display_data"
    },
    {
     "data": {
      "application/vnd.jupyter.widget-view+json": {
       "model_id": "a6ca0f37c95043e58b40122513293e6a",
       "version_major": 2,
       "version_minor": 0
      },
      "text/plain": [
       "  0%|          | 0/117161 [00:00<?, ?it/s]"
      ]
     },
     "metadata": {},
     "output_type": "display_data"
    },
    {
     "name": "stdout",
     "output_type": "stream",
     "text": [
      "SHAPE (99838, 3)\n"
     ]
    },
    {
     "name": "stderr",
     "output_type": "stream",
     "text": [
      "\u001b[32m[I 2022-12-07 18:30:11,424]\u001b[0m Trial 20 finished with value: 0.028488663382827545 and parameters: {'all_time': False, 'days': 11, 'model1': 'tfidf', 'model2': 'bm25', 'model3': 'tfidf', 'n_users': 35, 'w1': 0.41220971901267256, 'w2': 0.21645357820906908, 'w3': 0.22378768254579062}. Best is trial 19 with value: 0.030454974032857372.\u001b[0m\n"
     ]
    },
    {
     "name": "stdout",
     "output_type": "stream",
     "text": [
      "\n",
      "==================== Fold 0\n",
      "{'Start date': Timestamp('2021-07-18 00:00:00', freq='W-SUN'), 'End date': Timestamp('2021-07-25 00:00:00', freq='W-SUN'), 'Train': 507101, 'Train users': 96298, 'Train items': 9563, 'Test': 33870, 'Test users': 12727, 'Test items': 3629}\n"
     ]
    },
    {
     "data": {
      "application/vnd.jupyter.widget-view+json": {
       "model_id": "763c2f3d1b7f4220809307cf23dfae86",
       "version_major": 2,
       "version_minor": 0
      },
      "text/plain": [
       "  0%|          | 0/96298 [00:00<?, ?it/s]"
      ]
     },
     "metadata": {},
     "output_type": "display_data"
    },
    {
     "data": {
      "application/vnd.jupyter.widget-view+json": {
       "model_id": "e0129164ecd84105bbfcb3323ee4ef25",
       "version_major": 2,
       "version_minor": 0
      },
      "text/plain": [
       "  0%|          | 0/96298 [00:00<?, ?it/s]"
      ]
     },
     "metadata": {},
     "output_type": "display_data"
    },
    {
     "data": {
      "application/vnd.jupyter.widget-view+json": {
       "model_id": "bf7015372af8477faec9a15c3af0095c",
       "version_major": 2,
       "version_minor": 0
      },
      "text/plain": [
       "  0%|          | 0/96298 [00:00<?, ?it/s]"
      ]
     },
     "metadata": {},
     "output_type": "display_data"
    },
    {
     "name": "stdout",
     "output_type": "stream",
     "text": [
      "SHAPE (78790, 3)\n",
      "\n",
      "==================== Fold 1\n",
      "{'Start date': Timestamp('2021-07-25 00:00:00', freq='W-SUN'), 'End date': Timestamp('2021-08-01 00:00:00', freq='W-SUN'), 'Train': 555103, 'Train users': 102785, 'Train items': 9736, 'Test': 36409, 'Test users': 13695, 'Test items': 3632}\n"
     ]
    },
    {
     "data": {
      "application/vnd.jupyter.widget-view+json": {
       "model_id": "911773b19a2e449392fa4f1bb8801753",
       "version_major": 2,
       "version_minor": 0
      },
      "text/plain": [
       "  0%|          | 0/102785 [00:00<?, ?it/s]"
      ]
     },
     "metadata": {},
     "output_type": "display_data"
    },
    {
     "data": {
      "application/vnd.jupyter.widget-view+json": {
       "model_id": "aaa497dd9f704be09b6519f72f40081e",
       "version_major": 2,
       "version_minor": 0
      },
      "text/plain": [
       "  0%|          | 0/102785 [00:00<?, ?it/s]"
      ]
     },
     "metadata": {},
     "output_type": "display_data"
    },
    {
     "data": {
      "application/vnd.jupyter.widget-view+json": {
       "model_id": "ba0e8546bde74bbd8b40fb842c6d8aab",
       "version_major": 2,
       "version_minor": 0
      },
      "text/plain": [
       "  0%|          | 0/102785 [00:00<?, ?it/s]"
      ]
     },
     "metadata": {},
     "output_type": "display_data"
    },
    {
     "name": "stdout",
     "output_type": "stream",
     "text": [
      "SHAPE (86080, 3)\n",
      "\n",
      "==================== Fold 2\n",
      "{'Start date': Timestamp('2021-08-01 00:00:00', freq='W-SUN'), 'End date': Timestamp('2021-08-08 00:00:00', freq='W-SUN'), 'Train': 607865, 'Train users': 110035, 'Train items': 9909, 'Test': 37349, 'Test users': 14158, 'Test items': 3497}\n"
     ]
    },
    {
     "data": {
      "application/vnd.jupyter.widget-view+json": {
       "model_id": "ba2ba9bdce9744bd9decc367610d63f4",
       "version_major": 2,
       "version_minor": 0
      },
      "text/plain": [
       "  0%|          | 0/110035 [00:00<?, ?it/s]"
      ]
     },
     "metadata": {},
     "output_type": "display_data"
    },
    {
     "data": {
      "application/vnd.jupyter.widget-view+json": {
       "model_id": "d3d7563ac2314bfea8a340ae3c7295c6",
       "version_major": 2,
       "version_minor": 0
      },
      "text/plain": [
       "  0%|          | 0/110035 [00:00<?, ?it/s]"
      ]
     },
     "metadata": {},
     "output_type": "display_data"
    },
    {
     "data": {
      "application/vnd.jupyter.widget-view+json": {
       "model_id": "57474b4468cc4c4588edc15b07ab72d5",
       "version_major": 2,
       "version_minor": 0
      },
      "text/plain": [
       "  0%|          | 0/110035 [00:00<?, ?it/s]"
      ]
     },
     "metadata": {},
     "output_type": "display_data"
    },
    {
     "name": "stdout",
     "output_type": "stream",
     "text": [
      "SHAPE (88913, 3)\n",
      "\n",
      "==================== Fold 3\n",
      "{'Start date': Timestamp('2021-08-08 00:00:00', freq='W-SUN'), 'End date': Timestamp('2021-08-15 00:00:00', freq='W-SUN'), 'Train': 662260, 'Train users': 117161, 'Train items': 10124, 'Test': 39661, 'Test users': 14731, 'Test items': 3642}\n"
     ]
    },
    {
     "data": {
      "application/vnd.jupyter.widget-view+json": {
       "model_id": "da0ace1c03a4476c958eaa4e24d8c579",
       "version_major": 2,
       "version_minor": 0
      },
      "text/plain": [
       "  0%|          | 0/117161 [00:00<?, ?it/s]"
      ]
     },
     "metadata": {},
     "output_type": "display_data"
    },
    {
     "data": {
      "application/vnd.jupyter.widget-view+json": {
       "model_id": "c904feccd72d43be96401adc3810fd21",
       "version_major": 2,
       "version_minor": 0
      },
      "text/plain": [
       "  0%|          | 0/117161 [00:00<?, ?it/s]"
      ]
     },
     "metadata": {},
     "output_type": "display_data"
    },
    {
     "data": {
      "application/vnd.jupyter.widget-view+json": {
       "model_id": "3438c6be8a9f463699b63e333f88b758",
       "version_major": 2,
       "version_minor": 0
      },
      "text/plain": [
       "  0%|          | 0/117161 [00:00<?, ?it/s]"
      ]
     },
     "metadata": {},
     "output_type": "display_data"
    },
    {
     "name": "stdout",
     "output_type": "stream",
     "text": [
      "SHAPE (94152, 3)\n"
     ]
    },
    {
     "name": "stderr",
     "output_type": "stream",
     "text": [
      "\u001b[32m[I 2022-12-07 18:31:22,453]\u001b[0m Trial 21 finished with value: 0.03036124084348748 and parameters: {'all_time': False, 'days': 4, 'model1': 'cosine', 'model2': 'bm25', 'model3': 'bm25', 'n_users': 30, 'w1': 0.19788403043875205, 'w2': 0.010330149177674636, 'w3': 0.4992925078442249}. Best is trial 19 with value: 0.030454974032857372.\u001b[0m\n"
     ]
    },
    {
     "name": "stdout",
     "output_type": "stream",
     "text": [
      "\n",
      "==================== Fold 0\n",
      "{'Start date': Timestamp('2021-07-18 00:00:00', freq='W-SUN'), 'End date': Timestamp('2021-07-25 00:00:00', freq='W-SUN'), 'Train': 507101, 'Train users': 96298, 'Train items': 9563, 'Test': 33870, 'Test users': 12727, 'Test items': 3629}\n"
     ]
    },
    {
     "data": {
      "application/vnd.jupyter.widget-view+json": {
       "model_id": "a2c3ddf8ff4745e19d6a65cff49b9302",
       "version_major": 2,
       "version_minor": 0
      },
      "text/plain": [
       "  0%|          | 0/96298 [00:00<?, ?it/s]"
      ]
     },
     "metadata": {},
     "output_type": "display_data"
    },
    {
     "data": {
      "application/vnd.jupyter.widget-view+json": {
       "model_id": "d23a2adb1dc34813ab68d3b11b1e4236",
       "version_major": 2,
       "version_minor": 0
      },
      "text/plain": [
       "  0%|          | 0/96298 [00:00<?, ?it/s]"
      ]
     },
     "metadata": {},
     "output_type": "display_data"
    },
    {
     "data": {
      "application/vnd.jupyter.widget-view+json": {
       "model_id": "b6e03a5560664902b6139c962e0416bb",
       "version_major": 2,
       "version_minor": 0
      },
      "text/plain": [
       "  0%|          | 0/96298 [00:00<?, ?it/s]"
      ]
     },
     "metadata": {},
     "output_type": "display_data"
    },
    {
     "name": "stdout",
     "output_type": "stream",
     "text": [
      "SHAPE (78790, 3)\n",
      "\n",
      "==================== Fold 1\n",
      "{'Start date': Timestamp('2021-07-25 00:00:00', freq='W-SUN'), 'End date': Timestamp('2021-08-01 00:00:00', freq='W-SUN'), 'Train': 555103, 'Train users': 102785, 'Train items': 9736, 'Test': 36409, 'Test users': 13695, 'Test items': 3632}\n"
     ]
    },
    {
     "data": {
      "application/vnd.jupyter.widget-view+json": {
       "model_id": "650fb5416be7401f8b3ad6dc63680fdf",
       "version_major": 2,
       "version_minor": 0
      },
      "text/plain": [
       "  0%|          | 0/102785 [00:00<?, ?it/s]"
      ]
     },
     "metadata": {},
     "output_type": "display_data"
    },
    {
     "data": {
      "application/vnd.jupyter.widget-view+json": {
       "model_id": "6d6b061703434da68e19d168196c02d3",
       "version_major": 2,
       "version_minor": 0
      },
      "text/plain": [
       "  0%|          | 0/102785 [00:00<?, ?it/s]"
      ]
     },
     "metadata": {},
     "output_type": "display_data"
    },
    {
     "data": {
      "application/vnd.jupyter.widget-view+json": {
       "model_id": "ad370d6eb7a948248748ce137dd0e515",
       "version_major": 2,
       "version_minor": 0
      },
      "text/plain": [
       "  0%|          | 0/102785 [00:00<?, ?it/s]"
      ]
     },
     "metadata": {},
     "output_type": "display_data"
    },
    {
     "name": "stdout",
     "output_type": "stream",
     "text": [
      "SHAPE (86080, 3)\n",
      "\n",
      "==================== Fold 2\n",
      "{'Start date': Timestamp('2021-08-01 00:00:00', freq='W-SUN'), 'End date': Timestamp('2021-08-08 00:00:00', freq='W-SUN'), 'Train': 607865, 'Train users': 110035, 'Train items': 9909, 'Test': 37349, 'Test users': 14158, 'Test items': 3497}\n"
     ]
    },
    {
     "data": {
      "application/vnd.jupyter.widget-view+json": {
       "model_id": "7b36208649544d719ac897583c1e51e3",
       "version_major": 2,
       "version_minor": 0
      },
      "text/plain": [
       "  0%|          | 0/110035 [00:00<?, ?it/s]"
      ]
     },
     "metadata": {},
     "output_type": "display_data"
    },
    {
     "data": {
      "application/vnd.jupyter.widget-view+json": {
       "model_id": "e3d474a123bf426abf1d37c37fd864be",
       "version_major": 2,
       "version_minor": 0
      },
      "text/plain": [
       "  0%|          | 0/110035 [00:00<?, ?it/s]"
      ]
     },
     "metadata": {},
     "output_type": "display_data"
    },
    {
     "data": {
      "application/vnd.jupyter.widget-view+json": {
       "model_id": "0e48249a1a5643648ea83a0e7ea93348",
       "version_major": 2,
       "version_minor": 0
      },
      "text/plain": [
       "  0%|          | 0/110035 [00:00<?, ?it/s]"
      ]
     },
     "metadata": {},
     "output_type": "display_data"
    },
    {
     "name": "stdout",
     "output_type": "stream",
     "text": [
      "SHAPE (88913, 3)\n",
      "\n",
      "==================== Fold 3\n",
      "{'Start date': Timestamp('2021-08-08 00:00:00', freq='W-SUN'), 'End date': Timestamp('2021-08-15 00:00:00', freq='W-SUN'), 'Train': 662260, 'Train users': 117161, 'Train items': 10124, 'Test': 39661, 'Test users': 14731, 'Test items': 3642}\n"
     ]
    },
    {
     "data": {
      "application/vnd.jupyter.widget-view+json": {
       "model_id": "8c90586053b84ad4baef82ebe6a4f952",
       "version_major": 2,
       "version_minor": 0
      },
      "text/plain": [
       "  0%|          | 0/117161 [00:00<?, ?it/s]"
      ]
     },
     "metadata": {},
     "output_type": "display_data"
    },
    {
     "data": {
      "application/vnd.jupyter.widget-view+json": {
       "model_id": "3a0e1f92ef124275a799b94694f0b5a3",
       "version_major": 2,
       "version_minor": 0
      },
      "text/plain": [
       "  0%|          | 0/117161 [00:00<?, ?it/s]"
      ]
     },
     "metadata": {},
     "output_type": "display_data"
    },
    {
     "data": {
      "application/vnd.jupyter.widget-view+json": {
       "model_id": "6e5144af57ee4c3a8bdcfcedc936f1d7",
       "version_major": 2,
       "version_minor": 0
      },
      "text/plain": [
       "  0%|          | 0/117161 [00:00<?, ?it/s]"
      ]
     },
     "metadata": {},
     "output_type": "display_data"
    },
    {
     "name": "stdout",
     "output_type": "stream",
     "text": [
      "SHAPE (94152, 3)\n"
     ]
    },
    {
     "name": "stderr",
     "output_type": "stream",
     "text": [
      "\u001b[32m[I 2022-12-07 18:32:40,257]\u001b[0m Trial 22 finished with value: 0.030393102142297318 and parameters: {'all_time': False, 'days': 4, 'model1': 'cosine', 'model2': 'bm25', 'model3': 'bm25', 'n_users': 41, 'w1': 0.5955022764746618, 'w2': 0.07701613786822842, 'w3': 0.6615738486814859}. Best is trial 19 with value: 0.030454974032857372.\u001b[0m\n"
     ]
    },
    {
     "name": "stdout",
     "output_type": "stream",
     "text": [
      "\n",
      "==================== Fold 0\n",
      "{'Start date': Timestamp('2021-07-18 00:00:00', freq='W-SUN'), 'End date': Timestamp('2021-07-25 00:00:00', freq='W-SUN'), 'Train': 507101, 'Train users': 96298, 'Train items': 9563, 'Test': 33870, 'Test users': 12727, 'Test items': 3629}\n"
     ]
    },
    {
     "data": {
      "application/vnd.jupyter.widget-view+json": {
       "model_id": "80dba08258b749fbb7ed4a0ef78c6b7b",
       "version_major": 2,
       "version_minor": 0
      },
      "text/plain": [
       "  0%|          | 0/96298 [00:00<?, ?it/s]"
      ]
     },
     "metadata": {},
     "output_type": "display_data"
    },
    {
     "data": {
      "application/vnd.jupyter.widget-view+json": {
       "model_id": "19d331c361f14482a9ed8594d33adb2d",
       "version_major": 2,
       "version_minor": 0
      },
      "text/plain": [
       "  0%|          | 0/96298 [00:00<?, ?it/s]"
      ]
     },
     "metadata": {},
     "output_type": "display_data"
    },
    {
     "data": {
      "application/vnd.jupyter.widget-view+json": {
       "model_id": "77a0bd1b20a640b0a111b9dbc3103671",
       "version_major": 2,
       "version_minor": 0
      },
      "text/plain": [
       "  0%|          | 0/96298 [00:00<?, ?it/s]"
      ]
     },
     "metadata": {},
     "output_type": "display_data"
    },
    {
     "name": "stdout",
     "output_type": "stream",
     "text": [
      "SHAPE (78790, 3)\n",
      "\n",
      "==================== Fold 1\n",
      "{'Start date': Timestamp('2021-07-25 00:00:00', freq='W-SUN'), 'End date': Timestamp('2021-08-01 00:00:00', freq='W-SUN'), 'Train': 555103, 'Train users': 102785, 'Train items': 9736, 'Test': 36409, 'Test users': 13695, 'Test items': 3632}\n"
     ]
    },
    {
     "data": {
      "application/vnd.jupyter.widget-view+json": {
       "model_id": "7669163733f64126b046477a8046c6f1",
       "version_major": 2,
       "version_minor": 0
      },
      "text/plain": [
       "  0%|          | 0/102785 [00:00<?, ?it/s]"
      ]
     },
     "metadata": {},
     "output_type": "display_data"
    },
    {
     "data": {
      "application/vnd.jupyter.widget-view+json": {
       "model_id": "8ef450846ffc43dab4289371585a6431",
       "version_major": 2,
       "version_minor": 0
      },
      "text/plain": [
       "  0%|          | 0/102785 [00:00<?, ?it/s]"
      ]
     },
     "metadata": {},
     "output_type": "display_data"
    },
    {
     "data": {
      "application/vnd.jupyter.widget-view+json": {
       "model_id": "d77ff9f45f5d4ebea3e881b4fc6d137d",
       "version_major": 2,
       "version_minor": 0
      },
      "text/plain": [
       "  0%|          | 0/102785 [00:00<?, ?it/s]"
      ]
     },
     "metadata": {},
     "output_type": "display_data"
    },
    {
     "name": "stdout",
     "output_type": "stream",
     "text": [
      "SHAPE (86080, 3)\n",
      "\n",
      "==================== Fold 2\n",
      "{'Start date': Timestamp('2021-08-01 00:00:00', freq='W-SUN'), 'End date': Timestamp('2021-08-08 00:00:00', freq='W-SUN'), 'Train': 607865, 'Train users': 110035, 'Train items': 9909, 'Test': 37349, 'Test users': 14158, 'Test items': 3497}\n"
     ]
    },
    {
     "data": {
      "application/vnd.jupyter.widget-view+json": {
       "model_id": "8c247eadc45f4621afe230476acad50c",
       "version_major": 2,
       "version_minor": 0
      },
      "text/plain": [
       "  0%|          | 0/110035 [00:00<?, ?it/s]"
      ]
     },
     "metadata": {},
     "output_type": "display_data"
    },
    {
     "data": {
      "application/vnd.jupyter.widget-view+json": {
       "model_id": "295f8055dcc449e38b9d3953eb39a345",
       "version_major": 2,
       "version_minor": 0
      },
      "text/plain": [
       "  0%|          | 0/110035 [00:00<?, ?it/s]"
      ]
     },
     "metadata": {},
     "output_type": "display_data"
    },
    {
     "data": {
      "application/vnd.jupyter.widget-view+json": {
       "model_id": "aa720c425d814507a027c09128911767",
       "version_major": 2,
       "version_minor": 0
      },
      "text/plain": [
       "  0%|          | 0/110035 [00:00<?, ?it/s]"
      ]
     },
     "metadata": {},
     "output_type": "display_data"
    },
    {
     "name": "stdout",
     "output_type": "stream",
     "text": [
      "SHAPE (88913, 3)\n",
      "\n",
      "==================== Fold 3\n",
      "{'Start date': Timestamp('2021-08-08 00:00:00', freq='W-SUN'), 'End date': Timestamp('2021-08-15 00:00:00', freq='W-SUN'), 'Train': 662260, 'Train users': 117161, 'Train items': 10124, 'Test': 39661, 'Test users': 14731, 'Test items': 3642}\n"
     ]
    },
    {
     "data": {
      "application/vnd.jupyter.widget-view+json": {
       "model_id": "ca35fc87d2964164aad724b7d607581c",
       "version_major": 2,
       "version_minor": 0
      },
      "text/plain": [
       "  0%|          | 0/117161 [00:00<?, ?it/s]"
      ]
     },
     "metadata": {},
     "output_type": "display_data"
    },
    {
     "data": {
      "application/vnd.jupyter.widget-view+json": {
       "model_id": "2ea47e10253b4027ae488abcb48e709f",
       "version_major": 2,
       "version_minor": 0
      },
      "text/plain": [
       "  0%|          | 0/117161 [00:00<?, ?it/s]"
      ]
     },
     "metadata": {},
     "output_type": "display_data"
    },
    {
     "data": {
      "application/vnd.jupyter.widget-view+json": {
       "model_id": "c0094ae89281471da87fab7a1b1d6f9f",
       "version_major": 2,
       "version_minor": 0
      },
      "text/plain": [
       "  0%|          | 0/117161 [00:00<?, ?it/s]"
      ]
     },
     "metadata": {},
     "output_type": "display_data"
    },
    {
     "name": "stdout",
     "output_type": "stream",
     "text": [
      "SHAPE (94152, 3)\n"
     ]
    },
    {
     "name": "stderr",
     "output_type": "stream",
     "text": [
      "\u001b[32m[I 2022-12-07 18:33:48,260]\u001b[0m Trial 23 finished with value: 0.03040589573896168 and parameters: {'all_time': False, 'days': 4, 'model1': 'cosine', 'model2': 'bm25', 'model3': 'bm25', 'n_users': 41, 'w1': 0.6339264687351814, 'w2': 0.10212530067274424, 'w3': 0.7107309432562418}. Best is trial 19 with value: 0.030454974032857372.\u001b[0m\n"
     ]
    },
    {
     "name": "stdout",
     "output_type": "stream",
     "text": [
      "\n",
      "==================== Fold 0\n",
      "{'Start date': Timestamp('2021-07-18 00:00:00', freq='W-SUN'), 'End date': Timestamp('2021-07-25 00:00:00', freq='W-SUN'), 'Train': 507101, 'Train users': 96298, 'Train items': 9563, 'Test': 33870, 'Test users': 12727, 'Test items': 3629}\n"
     ]
    },
    {
     "data": {
      "application/vnd.jupyter.widget-view+json": {
       "model_id": "256e0c8da9f6423ea31970137f103123",
       "version_major": 2,
       "version_minor": 0
      },
      "text/plain": [
       "  0%|          | 0/96298 [00:00<?, ?it/s]"
      ]
     },
     "metadata": {},
     "output_type": "display_data"
    },
    {
     "data": {
      "application/vnd.jupyter.widget-view+json": {
       "model_id": "cf505b6788394692bc4a931fdc066217",
       "version_major": 2,
       "version_minor": 0
      },
      "text/plain": [
       "  0%|          | 0/96298 [00:00<?, ?it/s]"
      ]
     },
     "metadata": {},
     "output_type": "display_data"
    },
    {
     "data": {
      "application/vnd.jupyter.widget-view+json": {
       "model_id": "e46175a50b1b40208f0a45c74f3ff278",
       "version_major": 2,
       "version_minor": 0
      },
      "text/plain": [
       "  0%|          | 0/96298 [00:00<?, ?it/s]"
      ]
     },
     "metadata": {},
     "output_type": "display_data"
    },
    {
     "name": "stdout",
     "output_type": "stream",
     "text": [
      "SHAPE (78790, 3)\n",
      "\n",
      "==================== Fold 1\n",
      "{'Start date': Timestamp('2021-07-25 00:00:00', freq='W-SUN'), 'End date': Timestamp('2021-08-01 00:00:00', freq='W-SUN'), 'Train': 555103, 'Train users': 102785, 'Train items': 9736, 'Test': 36409, 'Test users': 13695, 'Test items': 3632}\n"
     ]
    },
    {
     "data": {
      "application/vnd.jupyter.widget-view+json": {
       "model_id": "3a287c1d8b0a438f87eaae6cbb883ddb",
       "version_major": 2,
       "version_minor": 0
      },
      "text/plain": [
       "  0%|          | 0/102785 [00:00<?, ?it/s]"
      ]
     },
     "metadata": {},
     "output_type": "display_data"
    },
    {
     "data": {
      "application/vnd.jupyter.widget-view+json": {
       "model_id": "dfd71839524849ce878fd7fc27223332",
       "version_major": 2,
       "version_minor": 0
      },
      "text/plain": [
       "  0%|          | 0/102785 [00:00<?, ?it/s]"
      ]
     },
     "metadata": {},
     "output_type": "display_data"
    },
    {
     "data": {
      "application/vnd.jupyter.widget-view+json": {
       "model_id": "55c09f272a044a4ab77f7c1e9f8be8e9",
       "version_major": 2,
       "version_minor": 0
      },
      "text/plain": [
       "  0%|          | 0/102785 [00:00<?, ?it/s]"
      ]
     },
     "metadata": {},
     "output_type": "display_data"
    },
    {
     "name": "stdout",
     "output_type": "stream",
     "text": [
      "SHAPE (86080, 3)\n",
      "\n",
      "==================== Fold 2\n",
      "{'Start date': Timestamp('2021-08-01 00:00:00', freq='W-SUN'), 'End date': Timestamp('2021-08-08 00:00:00', freq='W-SUN'), 'Train': 607865, 'Train users': 110035, 'Train items': 9909, 'Test': 37349, 'Test users': 14158, 'Test items': 3497}\n"
     ]
    },
    {
     "data": {
      "application/vnd.jupyter.widget-view+json": {
       "model_id": "fb810c1b000b418f963f453adf9996ff",
       "version_major": 2,
       "version_minor": 0
      },
      "text/plain": [
       "  0%|          | 0/110035 [00:00<?, ?it/s]"
      ]
     },
     "metadata": {},
     "output_type": "display_data"
    },
    {
     "data": {
      "application/vnd.jupyter.widget-view+json": {
       "model_id": "050ff7858bd84fef8bd9a914c04b5b1c",
       "version_major": 2,
       "version_minor": 0
      },
      "text/plain": [
       "  0%|          | 0/110035 [00:00<?, ?it/s]"
      ]
     },
     "metadata": {},
     "output_type": "display_data"
    },
    {
     "data": {
      "application/vnd.jupyter.widget-view+json": {
       "model_id": "80d2fd3cc2bb493998560c238388dc55",
       "version_major": 2,
       "version_minor": 0
      },
      "text/plain": [
       "  0%|          | 0/110035 [00:00<?, ?it/s]"
      ]
     },
     "metadata": {},
     "output_type": "display_data"
    },
    {
     "name": "stdout",
     "output_type": "stream",
     "text": [
      "SHAPE (88913, 3)\n",
      "\n",
      "==================== Fold 3\n",
      "{'Start date': Timestamp('2021-08-08 00:00:00', freq='W-SUN'), 'End date': Timestamp('2021-08-15 00:00:00', freq='W-SUN'), 'Train': 662260, 'Train users': 117161, 'Train items': 10124, 'Test': 39661, 'Test users': 14731, 'Test items': 3642}\n"
     ]
    },
    {
     "data": {
      "application/vnd.jupyter.widget-view+json": {
       "model_id": "291e75156719459a837cd3d2fd3decda",
       "version_major": 2,
       "version_minor": 0
      },
      "text/plain": [
       "  0%|          | 0/117161 [00:00<?, ?it/s]"
      ]
     },
     "metadata": {},
     "output_type": "display_data"
    },
    {
     "data": {
      "application/vnd.jupyter.widget-view+json": {
       "model_id": "423dc33754f24d3dae2847c439929a91",
       "version_major": 2,
       "version_minor": 0
      },
      "text/plain": [
       "  0%|          | 0/117161 [00:00<?, ?it/s]"
      ]
     },
     "metadata": {},
     "output_type": "display_data"
    },
    {
     "data": {
      "application/vnd.jupyter.widget-view+json": {
       "model_id": "fc6f640fed2f4ab4bc80937e04bbba6d",
       "version_major": 2,
       "version_minor": 0
      },
      "text/plain": [
       "  0%|          | 0/117161 [00:00<?, ?it/s]"
      ]
     },
     "metadata": {},
     "output_type": "display_data"
    },
    {
     "name": "stdout",
     "output_type": "stream",
     "text": [
      "SHAPE (94152, 3)\n"
     ]
    },
    {
     "name": "stderr",
     "output_type": "stream",
     "text": [
      "\u001b[32m[I 2022-12-07 18:34:53,694]\u001b[0m Trial 24 finished with value: 0.029904939737269647 and parameters: {'all_time': False, 'days': 12, 'model1': 'cosine', 'model2': 'bm25', 'model3': 'bm25', 'n_users': 42, 'w1': 0.6066021998081036, 'w2': 0.12156563061435915, 'w3': 0.8027625631916482}. Best is trial 19 with value: 0.030454974032857372.\u001b[0m\n"
     ]
    }
   ],
   "source": [
    "study.optimize(objective_blanded, n_trials=25)"
   ]
  },
  {
   "cell_type": "markdown",
   "id": "95fbd295-660c-43b5-9c97-8b3b4dadc391",
   "metadata": {},
   "source": [
    "## MAP10_50K (BLANDING) - 0.029660289480684582\n",
    "\n",
    "```json\n",
    "{'all_time': False, 'days': 2, 'model1': 'bm25', 'model2': 'cosine', 'model3': 'tfidf', 'n_users': 48, 'w1': 0.6050326098624614, 'w2': 0.6343116490791555, 'w3': 0.12355175493172849}\n",
    "```\n",
    "\n",
    "## MAP10_150K (BLANDING) - 0.030454974032857372\n",
    "\n",
    "```json\n",
    "{'all_time': False, 'days': 4, 'model1': 'cosine', 'model2': 'bm25', 'model3': 'bm25', 'n_users': 34, 'w1': 0.38272189882112434, 'w2': 0.01564792805376271, 'w3': 0.19815742183799168}\n",
    "```"
   ]
  },
  {
   "cell_type": "markdown",
   "id": "49a5cbdf-7281-470f-98cb-f8f6b7bc5dc5",
   "metadata": {},
   "source": []
  },
  {
   "cell_type": "code",
   "execution_count": null,
   "id": "6673a0cd-3583-4c6a-8b36-455b814bbd29",
   "metadata": {},
   "outputs": [],
   "source": []
  },
  {
   "cell_type": "code",
   "execution_count": null,
   "id": "32689659-684b-4341-a2b7-0f65cecb3f57",
   "metadata": {},
   "outputs": [],
   "source": []
  },
  {
   "cell_type": "code",
   "execution_count": 20,
   "id": "225b6644-60f3-4747-b923-a7829419f4ab",
   "metadata": {},
   "outputs": [],
   "source": [
    "users, items, interactions = datasets.users, datasets.items, datasets.interactions\n",
    "users = users.reset_index(drop=True)\n",
    "interactions = interactions[interactions['user_id'].isin(users['user_id'])].reset_index(drop=True)\n",
    "items = items[items['item_id'].isin(interactions['item_id'])].reset_index(drop=True)\n",
    "\n",
    "interactions_df = Interactions(interactions)"
   ]
  },
  {
   "cell_type": "code",
   "execution_count": 21,
   "id": "37e24c16-4044-4ff8-81cb-3f10293d459d",
   "metadata": {},
   "outputs": [],
   "source": [
    "u_mappings = helpers.get_mappings(interactions, 'user_id')\n",
    "i_mappings = helpers.get_mappings(interactions, 'item_id')"
   ]
  },
  {
   "cell_type": "code",
   "execution_count": 24,
   "id": "64661182-8401-4e4d-91fa-a7a3db136f6f",
   "metadata": {},
   "outputs": [],
   "source": [
    "import joblib\n",
    "\n",
    "with open('users-mapping.joblib', 'wb') as f:\n",
    "    joblib.dump(u_mappings.direct, f)"
   ]
  },
  {
   "cell_type": "code",
   "execution_count": 25,
   "id": "3a6b79d3-6d82-445a-af70-469e3f9fe258",
   "metadata": {},
   "outputs": [],
   "source": [
    "with open('items-mapping.joblib', 'wb') as f:\n",
    "    joblib.dump(i_mappings.direct, f)"
   ]
  },
  {
   "cell_type": "code",
   "execution_count": 43,
   "id": "60f0e6db-cd0a-42c7-9bd2-5d4c0e780830",
   "metadata": {},
   "outputs": [],
   "source": [
    "(\n",
    "    train_ids,\n",
    "    test_ids,\n",
    "    fold_info\n",
    ") = cv.split(Interactions(df=interactions), collect_fold_stats=True).__next__()"
   ]
  },
  {
   "cell_type": "code",
   "execution_count": 44,
   "id": "cac3eaed-ea1f-46f4-84b0-e2a3ea62146b",
   "metadata": {},
   "outputs": [],
   "source": [
    "train = interactions.loc[train_ids]\n",
    "test = interactions.loc[test_ids]\n",
    "\n",
    "u_mappings = helpers.get_mappings(train, 'user_id')\n",
    "i_mappings = helpers.get_mappings(train, 'item_id')\n",
    "\n",
    "users_mapping, users_inv_mapping = u_mappings.direct, u_mappings.reverse\n",
    "items_mapping, items_inv_mapping = i_mappings.direct, i_mappings.reverse\n",
    "\n",
    "interaction_matrix = helpers.get_coo_mat(\n",
    "    train,\n",
    "    weights_column='weight',\n",
    "    users_mapping=u_mappings,\n",
    "    items_mapping=i_mappings,\n",
    ")"
   ]
  },
  {
   "cell_type": "code",
   "execution_count": 45,
   "id": "b62ffe66-0148-4d5d-975c-81c744c225ab",
   "metadata": {},
   "outputs": [],
   "source": [
    "catalog = train['item_id'].unique()\n",
    "metrics = {\n",
    "    \"map@10\": MAP(k=10),\n",
    "    \"prec@10\": Precision(k=10),\n",
    "    \"recall@10\": Recall(k=10),\n",
    "    \"novelty\": MeanInvUserFreq(k=10),\n",
    "    \"serendipity\": Serendipity(k=10),\n",
    "}"
   ]
  },
  {
   "cell_type": "code",
   "execution_count": 37,
   "id": "2027ba4f-254c-43a0-be3d-7df654c07a93",
   "metadata": {},
   "outputs": [
    {
     "data": {
      "application/vnd.jupyter.widget-view+json": {
       "model_id": "c6ccda568ea5441fafa86c5b642da841",
       "version_major": 2,
       "version_minor": 0
      },
      "text/plain": [
       "  0%|          | 0/538988 [00:00<?, ?it/s]"
      ]
     },
     "metadata": {},
     "output_type": "display_data"
    }
   ],
   "source": [
    "userknn_model = UserKnn(model=CosineRecommender(K=12), N_users=50)\n",
    "userknn_model.fit(train)"
   ]
  },
  {
   "cell_type": "code",
   "execution_count": 39,
   "id": "69183e8f-3727-41f6-aef1-efa09ac82ef9",
   "metadata": {},
   "outputs": [],
   "source": [
    "import joblib\n",
    "\n",
    "with open('userknn-baseline-cosine-wrapped.joblib', 'wb') as f:\n",
    "    joblib.dump(userknn_model, f)"
   ]
  },
  {
   "cell_type": "code",
   "execution_count": 40,
   "id": "bbefa04a-b0eb-4b73-b9d4-c534a5f24cff",
   "metadata": {},
   "outputs": [],
   "source": [
    "recos = userknn_model.predict(test)\n",
    "\n",
    "metrics_baseline = calc_metrics(\n",
    "    metrics,\n",
    "    reco=recos,\n",
    "    interactions=test,\n",
    "    prev_interactions=train,\n",
    "    catalog=catalog,\n",
    ")"
   ]
  },
  {
   "cell_type": "code",
   "execution_count": 41,
   "id": "d20e84b9-9da5-4021-b63d-1b5e3531e32a",
   "metadata": {},
   "outputs": [
    {
     "data": {
      "text/plain": [
       "{'prec@10': 0.0025158986946334934,\n",
       " 'recall@10': 0.014029497552042743,\n",
       " 'map@10': 0.002310206243493135,\n",
       " 'novelty': 7.883567342315782,\n",
       " 'serendipity': 1.5840856744996122e-05}"
      ]
     },
     "execution_count": 41,
     "metadata": {},
     "output_type": "execute_result"
    }
   ],
   "source": [
    "metrics_baseline"
   ]
  },
  {
   "cell_type": "markdown",
   "id": "3c376e3a-59f6-4084-990c-e1671026d43e",
   "metadata": {},
   "source": [
    "```json\n",
    "{'prec@10': 0.0025158986946334934,\n",
    " 'recall@10': 0.014029497552042743,\n",
    " 'map@10': 0.002310206243493135,\n",
    " 'novelty': 7.883567342315782,\n",
    " 'serendipity': 1.5840856744996122e-05}\n",
    "```"
   ]
  },
  {
   "cell_type": "code",
   "execution_count": 46,
   "id": "4e80469b-4ffd-4d7d-a333-a6764f39db59",
   "metadata": {},
   "outputs": [],
   "source": [
    "all_time = False\n",
    "days = 4\n",
    "\n",
    "popular_items = popular_number_of_items_days(\n",
    "    train, k=10, days=days, all_time=all_time\n",
    ")"
   ]
  },
  {
   "cell_type": "code",
   "execution_count": 47,
   "id": "c04d218d-0645-4bbe-b663-fb4e6fa74daa",
   "metadata": {},
   "outputs": [
    {
     "data": {
      "text/plain": [
       "[9728, 15297, 13865, 10440, 3734, 12192, 4495, 4151, 7829, 2657]"
      ]
     },
     "execution_count": 47,
     "metadata": {},
     "output_type": "execute_result"
    }
   ],
   "source": [
    "popular_items"
   ]
  },
  {
   "cell_type": "markdown",
   "id": "c2066e85-ad34-4d7a-aadb-7a4d3af72e77",
   "metadata": {},
   "source": [
    "```json\n",
    "{\n",
    "    'all_time': False,\n",
    "    'days': 4,\n",
    "    'model1': 'cosine',\n",
    "    'model2': 'bm25',\n",
    "    'model3': 'bm25',\n",
    "    'n_users': 34,\n",
    "    'w1': 0.38272189882112434,\n",
    "    'w2': 0.01564792805376271,\n",
    "    'w3': 0.19815742183799168\n",
    "}"
   ]
  },
  {
   "cell_type": "code",
   "execution_count": 48,
   "id": "db053e8e-3de8-4fbf-8400-324063bacc26",
   "metadata": {},
   "outputs": [],
   "source": [
    "blanded_model = UserKNN_Blanding3(\n",
    "    model1=CosineRecommender(K=10),\n",
    "    model2=BM25Recommender(K=10),\n",
    "    model3=TFIDFRecommender(K=10),\n",
    "    pop_items=popular_items,\n",
    "    w1=0.3827,\n",
    "    w2=0.2156,\n",
    "    w3=0.0198,\n",
    ")"
   ]
  },
  {
   "cell_type": "code",
   "execution_count": 50,
   "id": "e0034557-db76-481e-af64-6ed62d339e37",
   "metadata": {},
   "outputs": [
    {
     "data": {
      "application/vnd.jupyter.widget-view+json": {
       "model_id": "88b549e9fdd04ed1b1ea08f54fd4691d",
       "version_major": 2,
       "version_minor": 0
      },
      "text/plain": [
       "  0%|          | 0/538988 [00:00<?, ?it/s]"
      ]
     },
     "metadata": {},
     "output_type": "display_data"
    },
    {
     "data": {
      "application/vnd.jupyter.widget-view+json": {
       "model_id": "03554d252b6d43129b58aa80415cfe18",
       "version_major": 2,
       "version_minor": 0
      },
      "text/plain": [
       "  0%|          | 0/538988 [00:00<?, ?it/s]"
      ]
     },
     "metadata": {},
     "output_type": "display_data"
    },
    {
     "data": {
      "application/vnd.jupyter.widget-view+json": {
       "model_id": "97affdf76a3c47d0a848c1d1204724c5",
       "version_major": 2,
       "version_minor": 0
      },
      "text/plain": [
       "  0%|          | 0/538988 [00:00<?, ?it/s]"
      ]
     },
     "metadata": {},
     "output_type": "display_data"
    }
   ],
   "source": [
    "blanded_model.fit(train)"
   ]
  },
  {
   "cell_type": "code",
   "execution_count": 52,
   "id": "2241c8ab-abce-45f0-b6e6-065842e9dc87",
   "metadata": {},
   "outputs": [],
   "source": [
    "import joblib\n",
    "\n",
    "\n",
    "with open('blanded-test-model1-cosine.joblib', 'wb') as f:\n",
    "    joblib.dump(blanded_model.model1, f)\n",
    "    \n",
    "with open('blanded-test-model2-bm25.joblib', 'wb') as f:\n",
    "    joblib.dump(blanded_model.model2, f)\n",
    "    \n",
    "with open('blanded-test-model3-tfidf.joblib', 'wb') as f:\n",
    "    joblib.dump(blanded_model.model3, f)"
   ]
  },
  {
   "cell_type": "code",
   "execution_count": 53,
   "id": "ca77561c-fbac-48a6-a8a1-94949912ad62",
   "metadata": {},
   "outputs": [
    {
     "name": "stdout",
     "output_type": "stream",
     "text": [
      "SHAPE (443807, 3)\n"
     ]
    }
   ],
   "source": [
    "recos = blanded_model.predict(test)\n",
    "\n",
    "metrics_blanded = calc_metrics(\n",
    "    metrics,\n",
    "    reco=recos,\n",
    "    interactions=test,\n",
    "    prev_interactions=train,\n",
    "    catalog=catalog,\n",
    ")"
   ]
  },
  {
   "cell_type": "code",
   "execution_count": 54,
   "id": "52cf984a-c3dc-4273-aec1-5bf98d1b10bb",
   "metadata": {},
   "outputs": [
    {
     "data": {
      "text/plain": [
       "{'prec@10': 0.02691621109003682,\n",
       " 'recall@10': 0.15174474126265086,\n",
       " 'map@10': 0.03252808430408894,\n",
       " 'novelty': 6.136515698020157,\n",
       " 'serendipity': 5.486892214458829e-05}"
      ]
     },
     "execution_count": 54,
     "metadata": {},
     "output_type": "execute_result"
    }
   ],
   "source": [
    "metrics_blanded"
   ]
  },
  {
   "cell_type": "markdown",
   "id": "46691e64-e304-484a-87ea-bdfa2ecdad0b",
   "metadata": {},
   "source": [
    "```json\n",
    "{'prec@10': 0.02691621109003682,\n",
    " 'recall@10': 0.15174474126265086,\n",
    " 'map@10': 0.03252808430408894,\n",
    " 'novelty': 6.136515698020157,\n",
    " 'serendipity': 5.486892214458829e-05}\n",
    "```"
   ]
  },
  {
   "cell_type": "markdown",
   "id": "61a61433-f45b-4b85-8287-368a4787fbc1",
   "metadata": {},
   "source": [
    "## Final train for service"
   ]
  },
  {
   "cell_type": "code",
   "execution_count": 8,
   "id": "d9c5eb10-8ffd-4659-a418-8dfd1c494588",
   "metadata": {},
   "outputs": [],
   "source": [
    "users, items, interactions = datasets.users, datasets.items, datasets.interactions"
   ]
  },
  {
   "cell_type": "code",
   "execution_count": 9,
   "id": "db291f78-fdd4-4ca2-be4f-347882ad90d2",
   "metadata": {},
   "outputs": [
    {
     "data": {
      "text/plain": [
       "(5476251, 5)"
      ]
     },
     "execution_count": 9,
     "metadata": {},
     "output_type": "execute_result"
    }
   ],
   "source": [
    "interactions.shape"
   ]
  },
  {
   "cell_type": "code",
   "execution_count": 14,
   "id": "692c15ba-9776-43d0-8848-4b9a270e545e",
   "metadata": {},
   "outputs": [],
   "source": [
    "from userknn_techniques.v2_blanding import UserKNN_Blanding3\n",
    "\n",
    "all_time = False\n",
    "days = 4\n",
    "\n",
    "popular_items = popular_number_of_items_days(\n",
    "    interactions, k=10, days=days, all_time=all_time\n",
    ")\n",
    "\n",
    "blanded_model = UserKNN_Blanding3(\n",
    "    model1=CosineRecommender(K=10),\n",
    "    model2=BM25Recommender(K=10),\n",
    "    model3=TFIDFRecommender(K=10),\n",
    "    pop_items=popular_items,\n",
    "    w1=0.3827,\n",
    "    w2=0.2156,\n",
    "    w3=0.0198,\n",
    ")"
   ]
  },
  {
   "cell_type": "code",
   "execution_count": 15,
   "id": "fb3be7f8-ce0f-4d41-8717-b6f15cc5d218",
   "metadata": {},
   "outputs": [
    {
     "data": {
      "application/vnd.jupyter.widget-view+json": {
       "model_id": "3c4da62257154e5eb34d479a04f9f9e2",
       "version_major": 2,
       "version_minor": 0
      },
      "text/plain": [
       "  0%|          | 0/962179 [00:00<?, ?it/s]"
      ]
     },
     "metadata": {},
     "output_type": "display_data"
    },
    {
     "data": {
      "application/vnd.jupyter.widget-view+json": {
       "model_id": "c5a0b31a38634230ac7bf6c3c386bc54",
       "version_major": 2,
       "version_minor": 0
      },
      "text/plain": [
       "  0%|          | 0/962179 [00:00<?, ?it/s]"
      ]
     },
     "metadata": {},
     "output_type": "display_data"
    },
    {
     "data": {
      "application/vnd.jupyter.widget-view+json": {
       "model_id": "e6310fcf9a0847b7a323fa41b7f401dc",
       "version_major": 2,
       "version_minor": 0
      },
      "text/plain": [
       "  0%|          | 0/962179 [00:00<?, ?it/s]"
      ]
     },
     "metadata": {},
     "output_type": "display_data"
    }
   ],
   "source": [
    "blanded_model.fit(interactions)"
   ]
  },
  {
   "cell_type": "code",
   "execution_count": 17,
   "id": "982ab064-b26a-4c7a-8765-fe0d035270b4",
   "metadata": {},
   "outputs": [
    {
     "data": {
      "text/plain": [
       "<userknn_techniques.v2_blanding.UserKNN_Blanding3 at 0x7efba0dfc550>"
      ]
     },
     "execution_count": 17,
     "metadata": {},
     "output_type": "execute_result"
    }
   ],
   "source": [
    "blanded_model"
   ]
  },
  {
   "cell_type": "code",
   "execution_count": 18,
   "id": "a9164c73-55d8-4722-8a19-666df4b959ae",
   "metadata": {},
   "outputs": [],
   "source": [
    "import joblib\n",
    "\n",
    "with open('full-trained-blanded-wrapped.joblib', 'wb') as f:\n",
    "    joblib.dump(blanded_model, f)"
   ]
  },
  {
   "cell_type": "code",
   "execution_count": 19,
   "id": "550d0196-cdcf-46ac-a219-c86341523962",
   "metadata": {},
   "outputs": [],
   "source": [
    "with open('full-trainded-blanded-model1-cosine.joblib', 'wb') as f:\n",
    "    joblib.dump(blanded_model.model1, f)\n",
    "    \n",
    "with open('full-trainded-blanded-model2-bm25.joblib', 'wb') as f:\n",
    "    joblib.dump(blanded_model.model2, f)\n",
    "    \n",
    "with open('full-trainded-blanded-model3-tfidf.joblib', 'wb') as f:\n",
    "    joblib.dump(blanded_model.model3, f)"
   ]
  },
  {
   "cell_type": "code",
   "execution_count": 21,
   "id": "42f4f6a3-b8df-4138-93b4-1f6d61c03724",
   "metadata": {},
   "outputs": [],
   "source": [
    "metrics = {\n",
    "    \"map@10\": MAP(k=10),\n",
    "    \"prec@10\": Precision(k=10),\n",
    "    \"recall@10\": Recall(k=10),\n",
    "    \"novelty\": MeanInvUserFreq(k=10),\n",
    "    \"serendipity\": Serendipity(k=10),\n",
    "}"
   ]
  },
  {
   "cell_type": "code",
   "execution_count": 22,
   "id": "bafcbee2-edad-465a-88c6-89851bccd08a",
   "metadata": {},
   "outputs": [
    {
     "name": "stdout",
     "output_type": "stream",
     "text": [
      "SHAPE (3990674, 3)\n"
     ]
    }
   ],
   "source": [
    "recos = blanded_model.predict(interactions)"
   ]
  },
  {
   "cell_type": "code",
   "execution_count": 23,
   "id": "1d6a0b80-d85b-4947-b566-0f43df54a7bc",
   "metadata": {},
   "outputs": [],
   "source": [
    "with open('predictions-dump-blanded.joblib', 'wb') as f:\n",
    "    joblib.dump(recos, f)"
   ]
  },
  {
   "cell_type": "code",
   "execution_count": 25,
   "id": "1dc8b304-cf0c-4b3f-80e4-8448b35ee15a",
   "metadata": {},
   "outputs": [
    {
     "data": {
      "text/html": [
       "<div>\n",
       "<style scoped>\n",
       "    .dataframe tbody tr th:only-of-type {\n",
       "        vertical-align: middle;\n",
       "    }\n",
       "\n",
       "    .dataframe tbody tr th {\n",
       "        vertical-align: top;\n",
       "    }\n",
       "\n",
       "    .dataframe thead th {\n",
       "        text-align: right;\n",
       "    }\n",
       "</style>\n",
       "<table border=\"1\" class=\"dataframe\">\n",
       "  <thead>\n",
       "    <tr style=\"text-align: right;\">\n",
       "      <th></th>\n",
       "      <th>user_id</th>\n",
       "      <th>item_id</th>\n",
       "      <th>rank</th>\n",
       "    </tr>\n",
       "  </thead>\n",
       "  <tbody>\n",
       "    <tr>\n",
       "      <th>0</th>\n",
       "      <td>0</td>\n",
       "      <td>2852</td>\n",
       "      <td>1</td>\n",
       "    </tr>\n",
       "    <tr>\n",
       "      <th>1</th>\n",
       "      <td>0</td>\n",
       "      <td>6006</td>\n",
       "      <td>2</td>\n",
       "    </tr>\n",
       "    <tr>\n",
       "      <th>2</th>\n",
       "      <td>0</td>\n",
       "      <td>7102</td>\n",
       "      <td>3</td>\n",
       "    </tr>\n",
       "    <tr>\n",
       "      <th>3</th>\n",
       "      <td>0</td>\n",
       "      <td>12192</td>\n",
       "      <td>4</td>\n",
       "    </tr>\n",
       "    <tr>\n",
       "      <th>4</th>\n",
       "      <td>0</td>\n",
       "      <td>9728</td>\n",
       "      <td>5</td>\n",
       "    </tr>\n",
       "    <tr>\n",
       "      <th>5</th>\n",
       "      <td>0</td>\n",
       "      <td>15297</td>\n",
       "      <td>6</td>\n",
       "    </tr>\n",
       "    <tr>\n",
       "      <th>6</th>\n",
       "      <td>0</td>\n",
       "      <td>10440</td>\n",
       "      <td>7</td>\n",
       "    </tr>\n",
       "    <tr>\n",
       "      <th>7</th>\n",
       "      <td>0</td>\n",
       "      <td>14488</td>\n",
       "      <td>8</td>\n",
       "    </tr>\n",
       "    <tr>\n",
       "      <th>8</th>\n",
       "      <td>0</td>\n",
       "      <td>512</td>\n",
       "      <td>9</td>\n",
       "    </tr>\n",
       "    <tr>\n",
       "      <th>9</th>\n",
       "      <td>0</td>\n",
       "      <td>4151</td>\n",
       "      <td>10</td>\n",
       "    </tr>\n",
       "    <tr>\n",
       "      <th>10</th>\n",
       "      <td>1</td>\n",
       "      <td>3669</td>\n",
       "      <td>1</td>\n",
       "    </tr>\n",
       "    <tr>\n",
       "      <th>11</th>\n",
       "      <td>1</td>\n",
       "      <td>10440</td>\n",
       "      <td>2</td>\n",
       "    </tr>\n",
       "    <tr>\n",
       "      <th>12</th>\n",
       "      <td>1</td>\n",
       "      <td>9728</td>\n",
       "      <td>3</td>\n",
       "    </tr>\n",
       "    <tr>\n",
       "      <th>13</th>\n",
       "      <td>1</td>\n",
       "      <td>15297</td>\n",
       "      <td>4</td>\n",
       "    </tr>\n",
       "    <tr>\n",
       "      <th>14</th>\n",
       "      <td>1</td>\n",
       "      <td>14488</td>\n",
       "      <td>5</td>\n",
       "    </tr>\n",
       "    <tr>\n",
       "      <th>15</th>\n",
       "      <td>1</td>\n",
       "      <td>13865</td>\n",
       "      <td>6</td>\n",
       "    </tr>\n",
       "    <tr>\n",
       "      <th>16</th>\n",
       "      <td>1</td>\n",
       "      <td>12192</td>\n",
       "      <td>7</td>\n",
       "    </tr>\n",
       "    <tr>\n",
       "      <th>17</th>\n",
       "      <td>1</td>\n",
       "      <td>341</td>\n",
       "      <td>8</td>\n",
       "    </tr>\n",
       "    <tr>\n",
       "      <th>18</th>\n",
       "      <td>1</td>\n",
       "      <td>4151</td>\n",
       "      <td>9</td>\n",
       "    </tr>\n",
       "    <tr>\n",
       "      <th>19</th>\n",
       "      <td>1</td>\n",
       "      <td>512</td>\n",
       "      <td>10</td>\n",
       "    </tr>\n",
       "  </tbody>\n",
       "</table>\n",
       "</div>"
      ],
      "text/plain": [
       "    user_id item_id  rank\n",
       "0         0    2852     1\n",
       "1         0    6006     2\n",
       "2         0    7102     3\n",
       "3         0   12192     4\n",
       "4         0    9728     5\n",
       "5         0   15297     6\n",
       "6         0   10440     7\n",
       "7         0   14488     8\n",
       "8         0     512     9\n",
       "9         0    4151    10\n",
       "10        1    3669     1\n",
       "11        1   10440     2\n",
       "12        1    9728     3\n",
       "13        1   15297     4\n",
       "14        1   14488     5\n",
       "15        1   13865     6\n",
       "16        1   12192     7\n",
       "17        1     341     8\n",
       "18        1    4151     9\n",
       "19        1     512    10"
      ]
     },
     "execution_count": 25,
     "metadata": {},
     "output_type": "execute_result"
    }
   ],
   "source": [
    "recos.head(20)"
   ]
  },
  {
   "cell_type": "code",
   "execution_count": 26,
   "id": "4b79cf77-14df-4634-a7c0-14b6628818f4",
   "metadata": {},
   "outputs": [],
   "source": [
    "my_reco = recos.explode('item_id')"
   ]
  },
  {
   "cell_type": "code",
   "execution_count": 27,
   "id": "3159026e-64b2-401f-96e2-b73d68b3ef43",
   "metadata": {},
   "outputs": [
    {
     "data": {
      "text/html": [
       "<div>\n",
       "<style scoped>\n",
       "    .dataframe tbody tr th:only-of-type {\n",
       "        vertical-align: middle;\n",
       "    }\n",
       "\n",
       "    .dataframe tbody tr th {\n",
       "        vertical-align: top;\n",
       "    }\n",
       "\n",
       "    .dataframe thead th {\n",
       "        text-align: right;\n",
       "    }\n",
       "</style>\n",
       "<table border=\"1\" class=\"dataframe\">\n",
       "  <thead>\n",
       "    <tr style=\"text-align: right;\">\n",
       "      <th></th>\n",
       "      <th>user_id</th>\n",
       "      <th>item_id</th>\n",
       "      <th>rank</th>\n",
       "    </tr>\n",
       "  </thead>\n",
       "  <tbody>\n",
       "    <tr>\n",
       "      <th>0</th>\n",
       "      <td>0</td>\n",
       "      <td>2852</td>\n",
       "      <td>1</td>\n",
       "    </tr>\n",
       "    <tr>\n",
       "      <th>1</th>\n",
       "      <td>0</td>\n",
       "      <td>6006</td>\n",
       "      <td>2</td>\n",
       "    </tr>\n",
       "    <tr>\n",
       "      <th>2</th>\n",
       "      <td>0</td>\n",
       "      <td>7102</td>\n",
       "      <td>3</td>\n",
       "    </tr>\n",
       "    <tr>\n",
       "      <th>3</th>\n",
       "      <td>0</td>\n",
       "      <td>12192</td>\n",
       "      <td>4</td>\n",
       "    </tr>\n",
       "    <tr>\n",
       "      <th>4</th>\n",
       "      <td>0</td>\n",
       "      <td>9728</td>\n",
       "      <td>5</td>\n",
       "    </tr>\n",
       "    <tr>\n",
       "      <th>...</th>\n",
       "      <td>...</td>\n",
       "      <td>...</td>\n",
       "      <td>...</td>\n",
       "    </tr>\n",
       "    <tr>\n",
       "      <th>9621085</th>\n",
       "      <td>1097557</td>\n",
       "      <td>16270</td>\n",
       "      <td>6</td>\n",
       "    </tr>\n",
       "    <tr>\n",
       "      <th>9621086</th>\n",
       "      <td>1097557</td>\n",
       "      <td>4151</td>\n",
       "      <td>7</td>\n",
       "    </tr>\n",
       "    <tr>\n",
       "      <th>9621087</th>\n",
       "      <td>1097557</td>\n",
       "      <td>15297</td>\n",
       "      <td>8</td>\n",
       "    </tr>\n",
       "    <tr>\n",
       "      <th>9621088</th>\n",
       "      <td>1097557</td>\n",
       "      <td>9728</td>\n",
       "      <td>9</td>\n",
       "    </tr>\n",
       "    <tr>\n",
       "      <th>9621089</th>\n",
       "      <td>1097557</td>\n",
       "      <td>12192</td>\n",
       "      <td>10</td>\n",
       "    </tr>\n",
       "  </tbody>\n",
       "</table>\n",
       "<p>9621090 rows × 3 columns</p>\n",
       "</div>"
      ],
      "text/plain": [
       "         user_id item_id  rank\n",
       "0              0    2852     1\n",
       "1              0    6006     2\n",
       "2              0    7102     3\n",
       "3              0   12192     4\n",
       "4              0    9728     5\n",
       "...          ...     ...   ...\n",
       "9621085  1097557   16270     6\n",
       "9621086  1097557    4151     7\n",
       "9621087  1097557   15297     8\n",
       "9621088  1097557    9728     9\n",
       "9621089  1097557   12192    10\n",
       "\n",
       "[9621090 rows x 3 columns]"
      ]
     },
     "execution_count": 27,
     "metadata": {},
     "output_type": "execute_result"
    }
   ],
   "source": [
    "my_reco"
   ]
  },
  {
   "cell_type": "code",
   "execution_count": 28,
   "id": "c32a01a5-b9bf-4ea9-b3c1-eea78f38d3ab",
   "metadata": {},
   "outputs": [],
   "source": [
    "my_reco = (\n",
    "  recos\n",
    "  .groupby('user_id')\n",
    "  .agg({'item_id': list})\n",
    ")"
   ]
  },
  {
   "cell_type": "code",
   "execution_count": 29,
   "id": "6793afde-46d8-4391-be5d-c57987209421",
   "metadata": {},
   "outputs": [
    {
     "data": {
      "text/html": [
       "<div>\n",
       "<style scoped>\n",
       "    .dataframe tbody tr th:only-of-type {\n",
       "        vertical-align: middle;\n",
       "    }\n",
       "\n",
       "    .dataframe tbody tr th {\n",
       "        vertical-align: top;\n",
       "    }\n",
       "\n",
       "    .dataframe thead th {\n",
       "        text-align: right;\n",
       "    }\n",
       "</style>\n",
       "<table border=\"1\" class=\"dataframe\">\n",
       "  <thead>\n",
       "    <tr style=\"text-align: right;\">\n",
       "      <th></th>\n",
       "      <th>item_id</th>\n",
       "    </tr>\n",
       "    <tr>\n",
       "      <th>user_id</th>\n",
       "      <th></th>\n",
       "    </tr>\n",
       "  </thead>\n",
       "  <tbody>\n",
       "    <tr>\n",
       "      <th>0</th>\n",
       "      <td>[2852, 6006, 7102, 12192, 9728, 15297, 10440, ...</td>\n",
       "    </tr>\n",
       "    <tr>\n",
       "      <th>1</th>\n",
       "      <td>[3669, 10440, 9728, 15297, 14488, 13865, 12192...</td>\n",
       "    </tr>\n",
       "    <tr>\n",
       "      <th>2</th>\n",
       "      <td>[10267, 5819, 8482, 11287, 2306, 11689, 5438, ...</td>\n",
       "    </tr>\n",
       "    <tr>\n",
       "      <th>3</th>\n",
       "      <td>[9157, 1418, 13849, 10240, 2220, 14461, 10464,...</td>\n",
       "    </tr>\n",
       "    <tr>\n",
       "      <th>4</th>\n",
       "      <td>[6317, 9728, 15297, 10440, 14488, 13865, 12192...</td>\n",
       "    </tr>\n",
       "    <tr>\n",
       "      <th>...</th>\n",
       "      <td>...</td>\n",
       "    </tr>\n",
       "    <tr>\n",
       "      <th>1097553</th>\n",
       "      <td>[12659, 24, 12463, 9728, 15297, 10440, 14488, ...</td>\n",
       "    </tr>\n",
       "    <tr>\n",
       "      <th>1097554</th>\n",
       "      <td>[2496, 1053, 3509, 496, 12463, 9169, 16361, 84...</td>\n",
       "    </tr>\n",
       "    <tr>\n",
       "      <th>1097555</th>\n",
       "      <td>[416, 1465, 496, 8447, 13915, 12324, 14703, 44...</td>\n",
       "    </tr>\n",
       "    <tr>\n",
       "      <th>1097556</th>\n",
       "      <td>[12812, 9728, 15297, 10440, 14488, 13865, 1219...</td>\n",
       "    </tr>\n",
       "    <tr>\n",
       "      <th>1097557</th>\n",
       "      <td>[10700, 6470, 9982, 3182, 12623, 16270, 4151, ...</td>\n",
       "    </tr>\n",
       "  </tbody>\n",
       "</table>\n",
       "<p>962109 rows × 1 columns</p>\n",
       "</div>"
      ],
      "text/plain": [
       "                                                   item_id\n",
       "user_id                                                   \n",
       "0        [2852, 6006, 7102, 12192, 9728, 15297, 10440, ...\n",
       "1        [3669, 10440, 9728, 15297, 14488, 13865, 12192...\n",
       "2        [10267, 5819, 8482, 11287, 2306, 11689, 5438, ...\n",
       "3        [9157, 1418, 13849, 10240, 2220, 14461, 10464,...\n",
       "4        [6317, 9728, 15297, 10440, 14488, 13865, 12192...\n",
       "...                                                    ...\n",
       "1097553  [12659, 24, 12463, 9728, 15297, 10440, 14488, ...\n",
       "1097554  [2496, 1053, 3509, 496, 12463, 9169, 16361, 84...\n",
       "1097555  [416, 1465, 496, 8447, 13915, 12324, 14703, 44...\n",
       "1097556  [12812, 9728, 15297, 10440, 14488, 13865, 1219...\n",
       "1097557  [10700, 6470, 9982, 3182, 12623, 16270, 4151, ...\n",
       "\n",
       "[962109 rows x 1 columns]"
      ]
     },
     "execution_count": 29,
     "metadata": {},
     "output_type": "execute_result"
    }
   ],
   "source": [
    "my_reco"
   ]
  },
  {
   "cell_type": "code",
   "execution_count": 34,
   "id": "de093f5d-0915-49d4-b459-23cfa92dd63d",
   "metadata": {},
   "outputs": [
    {
     "data": {
      "text/plain": [
       "[2852, 6006, 7102, 12192, 9728, 15297, 10440, 14488, 512, 4151]"
      ]
     },
     "execution_count": 34,
     "metadata": {},
     "output_type": "execute_result"
    }
   ],
   "source": [
    "my_reco.loc[0]['item_id']"
   ]
  },
  {
   "cell_type": "code",
   "execution_count": 44,
   "id": "b4c422dd-4284-4013-9253-3a7fdca1cf8e",
   "metadata": {},
   "outputs": [
    {
     "data": {
      "text/plain": [
       "user_id\n",
       "0          [2852, 6006, 7102, 12192, 9728, 15297, 10440, ...\n",
       "1          [3669, 10440, 9728, 15297, 14488, 13865, 12192...\n",
       "2          [10267, 5819, 8482, 11287, 2306, 11689, 5438, ...\n",
       "3          [9157, 1418, 13849, 10240, 2220, 14461, 10464,...\n",
       "4          [6317, 9728, 15297, 10440, 14488, 13865, 12192...\n",
       "                                 ...                        \n",
       "1097553    [12659, 24, 12463, 9728, 15297, 10440, 14488, ...\n",
       "1097554    [2496, 1053, 3509, 496, 12463, 9169, 16361, 84...\n",
       "1097555    [416, 1465, 496, 8447, 13915, 12324, 14703, 44...\n",
       "1097556    [12812, 9728, 15297, 10440, 14488, 13865, 1219...\n",
       "1097557    [10700, 6470, 9982, 3182, 12623, 16270, 4151, ...\n",
       "Name: item_id, Length: 962109, dtype: object"
      ]
     },
     "execution_count": 44,
     "metadata": {},
     "output_type": "execute_result"
    }
   ],
   "source": [
    "my_reco['item_id']"
   ]
  },
  {
   "cell_type": "code",
   "execution_count": 49,
   "id": "876941c0-0836-4710-99a9-fbf4a0d6d79b",
   "metadata": {},
   "outputs": [],
   "source": [
    "user_ids = my_reco['item_id'].index.unique()"
   ]
  },
  {
   "cell_type": "code",
   "execution_count": 64,
   "id": "f43daed2-6bda-43db-b8c2-5a69b62eba42",
   "metadata": {},
   "outputs": [],
   "source": [
    "import numpy as np\n",
    "from tqdm.auto import tqdm\n",
    "\n",
    "results = my_reco['item_id'].to_dict()"
   ]
  },
  {
   "cell_type": "code",
   "execution_count": 65,
   "id": "316a3fe9-b460-4278-a2e0-3fa42dd20dad",
   "metadata": {},
   "outputs": [
    {
     "data": {
      "text/plain": [
       "{0: [2852, 6006, 7102, 12192, 9728, 15297, 10440, 14488, 512, 4151],\n",
       " 1: [3669, 10440, 9728, 15297, 14488, 13865, 12192, 341, 4151, 512],\n",
       " 2: [10267, 5819, 8482, 11287, 2306, 11689, 5438, 10236, 383, 16029],\n",
       " 3: [9157, 1418, 13849, 10240, 2220, 14461, 10464, 3784, 4436, 12192],\n",
       " 4: [6317, 9728, 15297, 10440, 14488, 13865, 12192, 341, 4151, 3734],\n",
       " 5: [11437, 15890, 12789, 3145, 2856, 6933, 14397, 7043, 8450, 14112],\n",
       " 7: [8710, 9728, 15297, 10440, 14488, 13865, 12192, 341, 4151, 3734],\n",
       " 8: [6809, 9728, 15297, 10440, 14488, 13865, 12192, 341, 4151, 3734],\n",
       " 9: [1048, 341, 3076, 3784, 9996, 142, 8636, 4880, 2657, 3734],\n",
       " 10: [10464, 13865, 9728, 15297, 10440, 14488, 12192, 341, 4151, 512],\n",
       " 11: [16356, 5543, 16043, 10125, 12615, 14526, 16228, 4740, 12192, 6809],\n",
       " 12: [846, 9728, 15297, 10440, 14488, 13865, 12192, 341, 4151, 3734],\n",
       " 13: [8100, 10903, 10100, 2220, 598, 10464, 13915, 14, 14431, 14741],\n",
       " 14: [1204, 10440, 9728, 15297, 14488, 13865, 12192, 341, 4151, 3734],\n",
       " 15: [14500, 11739, 7476, 13865, 15297, 9728, 10440, 14488, 12192, 3734],\n",
       " 16: [2657, 9728, 15297, 10440, 14488, 13865, 12192, 341, 4151, 3734],\n",
       " 17: [9342, 8618, 3734, 9728, 15297, 10440, 14488, 13865, 12192, 341],\n",
       " 18: [14461, 9728, 15297, 10440, 14488, 13865, 12192, 341, 4151, 3734],\n",
       " 19: [14275, 8707, 7000, 4549, 12743, 9728, 15297, 10440, 14488, 13865],\n",
       " 20: [15297, 9728, 10440, 14488, 13865, 12192, 341, 4151, 3734, 512],\n",
       " 21: [1249, 8251, 14603, 496, 15997, 8618, 3784, 12360, 4495, 849],\n",
       " 22: [12048, 5716, 1053, 9728, 15297, 10440, 14488, 13865, 12192, 341],\n",
       " 23: [1916, 2237, 4495, 6809, 13865, 2657, 10440, 9728, 15297, 12192],\n",
       " 24: [5021, 9728, 15297, 10440, 14488, 13865, 12192, 341, 4151, 3734],\n",
       " 25: [9728, 15297, 10440, 14488, 13865, 12192, 341, 4151, 3734, 512],\n",
       " 26: [4135, 1744, 6764, 1951, 10710, 9985, 16093, 4076, 1855, 7066],\n",
       " 27: [10440, 9728, 15297, 14488, 13865, 12192, 341, 4151, 3734, 512],\n",
       " 28: [4943, 496, 11863, 15297, 10440, 9728, 14488, 13865, 512, 3734],\n",
       " 30: [11253, 15363, 5863, 16420, 16484, 5862, 2743, 8584, 2346, 10811],\n",
       " 31: [10515, 9728, 15297, 10440, 14488, 13865, 12192, 341, 4151, 3734],\n",
       " 32: [4807, 12132, 798, 10436, 14095, 4382, 9169, 14431, 9728, 15297],\n",
       " 34: [4151, 9728, 15297, 10440, 14488, 13865, 12192, 341, 3734, 512],\n",
       " 35: [142, 9728, 15297, 10440, 14488, 13865, 12192, 341, 4151, 3734],\n",
       " 36: [11985, 14741, 7571, 9728, 15297, 10440, 14488, 13865, 12192, 3734],\n",
       " 37: [12192, 2657, 3734, 4151, 9728, 15297, 10440, 512, 13865, 341],\n",
       " 38: [13865, 9728, 15297, 10440, 14488, 12192, 341, 4151, 3734, 512],\n",
       " 39: [9070, 15297, 9728, 10440, 14488, 13865, 12192, 341, 4151, 512],\n",
       " 40: [15739, 11118, 3734, 10440, 9728, 15297, 14488, 13865, 12192, 4151],\n",
       " 41: [12346, 11322, 4907, 14476, 14128, 14242, 10183, 15918, 13411, 5287],\n",
       " 42: [11899, 9728, 15297, 10440, 14488, 13865, 12192, 341, 4151, 3734],\n",
       " 43: [2657, 9728, 15297, 10440, 14488, 13865, 12192, 341, 4151, 3734],\n",
       " 44: [8211, 9728, 15297, 10440, 14488, 13865, 12192, 341, 4151, 3734],\n",
       " 45: [14317, 9728, 15297, 10440, 14488, 13865, 12192, 341, 4151, 3734],\n",
       " 46: [1400, 5287, 3076, 14526, 8636, 14741, 142, 4880, 4151, 10440],\n",
       " 47: [13361, 7401, 12965, 14488, 13865, 9728, 15297, 10440, 3734, 341],\n",
       " 48: [7793, 9728, 15297, 10440, 14488, 13865, 12192, 341, 4151, 3734],\n",
       " 50: [4731, 9728, 15297, 10440, 14488, 13865, 12192, 341, 4151, 3734],\n",
       " 51: [6853, 11940, 1290, 7571, 8636, 9728, 15297, 10440, 14488, 13865],\n",
       " 52: [4457, 9728, 15297, 10440, 14488, 13865, 12192, 341, 4151, 3734],\n",
       " 53: [14053, 1562, 12544, 6626, 7571, 142, 9996, 3734, 4880, 4151],\n",
       " 54: [14431, 1844, 9728, 15297, 10440, 14488, 13865, 12192, 341, 4151],\n",
       " 55: [4042, 9896, 14, 12396, 3076, 6192, 4457, 12192, 4151, 13865],\n",
       " 56: [14717, 341, 7102, 9728, 15297, 10440, 14488, 13865, 12192, 4151],\n",
       " 57: [9381, 2483, 4689, 6443, 9728, 13865, 15297, 10440, 14488, 3734],\n",
       " 58: [5645, 11936, 16509, 3768, 14814, 8447, 4880, 13865, 15297, 9728],\n",
       " 59: [15153, 9211, 11143, 4141, 12192, 4151, 10440, 9728, 15297, 341],\n",
       " 60: [14883, 11363, 3076, 5658, 7107, 12995, 4880, 4151, 13865, 9728],\n",
       " 61: [12974, 13159, 13167, 9728, 15297, 10440, 14488, 13865, 12192, 341],\n",
       " 62: [15297, 9728, 10440, 14488, 13865, 12192, 341, 4151, 3734, 512],\n",
       " 63: [15472, 9728, 15297, 10440, 14488, 13865, 12192, 341, 4151, 3734],\n",
       " 64: [11863, 9728, 15297, 10440, 14488, 13865, 12192, 341, 4151, 512],\n",
       " 65: [5571, 2499, 16055, 10440, 9728, 15297, 14488, 13865, 12192, 3734],\n",
       " 66: [9728, 15297, 10440, 14488, 13865, 12192, 341, 4151, 3734, 512],\n",
       " 67: [4740, 9728, 15297, 10440, 14488, 13865, 12192, 341, 4151, 3734],\n",
       " 68: [10440, 9728, 15297, 14488, 13865, 12192, 341, 4151, 3734, 512],\n",
       " 71: [7914, 9728, 15297, 10440, 14488, 13865, 12192, 341, 4151, 3734],\n",
       " 72: [9728, 15297, 10440, 14488, 13865, 12192, 341, 4151, 3734, 512],\n",
       " 75: [11237, 4151, 15297, 9728, 10440, 14488, 13865, 12192, 341, 512],\n",
       " 76: [8196, 6649, 6444, 2865, 12846, 14684, 11312, 14470, 1916, 10077],\n",
       " 77: [8801, 10440, 9728, 15297, 14488, 13865, 12192, 341, 4151, 512],\n",
       " 78: [7254, 957, 12056, 10569, 3735, 512, 12995, 5732, 13865, 9728],\n",
       " 79: [4740, 9728, 15297, 10440, 14488, 13865, 12192, 341, 4151, 3734],\n",
       " 80: [1453, 9728, 15297, 10440, 14488, 13865, 12192, 341, 4151, 3734],\n",
       " 81: [9809, 6050, 9900, 1290, 10077, 6382, 1445, 16228, 9996, 1844],\n",
       " 82: [3402, 3076, 4151, 9728, 15297, 10440, 14488, 13865, 12192, 341],\n",
       " 83: [2572, 9665, 9385, 9056, 7570, 15399, 4740, 9728, 15297, 10440],\n",
       " 84: [10440, 9728, 15297, 14488, 13865, 12192, 341, 4151, 3734, 512],\n",
       " 86: [8584, 9728, 15297, 10440, 14488, 13865, 12192, 341, 4151, 3734],\n",
       " 87: [10440, 9728, 15297, 14488, 13865, 12192, 341, 4151, 3734, 512],\n",
       " 88: [12970, 10031, 7971, 2616, 1204, 15399, 16228, 15297, 10440, 9728],\n",
       " 89: [1876, 9728, 15297, 10440, 14488, 13865, 12192, 341, 4151, 3734],\n",
       " 90: [8314, 9728, 15297, 10440, 14488, 13865, 12192, 341, 4151, 3734],\n",
       " 91: [9311, 9728, 15297, 10440, 14488, 13865, 12192, 341, 4151, 3734],\n",
       " 92: [10440, 9728, 15297, 14488, 13865, 12192, 341, 4151, 3734, 512],\n",
       " 93: [10908, 12446, 3936, 12848, 7946, 11268, 9164, 13935, 8618, 101],\n",
       " 94: [13865, 9728, 15297, 10440, 14488, 12192, 341, 4151, 3734, 512],\n",
       " 95: [5434, 9728, 15297, 10440, 14488, 13865, 12192, 341, 4151, 3734],\n",
       " 96: [12360, 15297, 9728, 10440, 14488, 13865, 12192, 341, 4151, 512],\n",
       " 98: [12862, 15600, 2424, 8314, 13023, 11142, 1626, 4946, 5505, 512],\n",
       " 99: [9986, 5803, 657, 16087, 4471, 4260, 6809, 9728, 15297, 10440],\n",
       " 100: [3812, 8876, 13250, 1131, 9728, 15297, 10440, 14488, 13865, 12192],\n",
       " 101: [2296, 5658, 9728, 15297, 10440, 14488, 13865, 12192, 341, 4151],\n",
       " 103: [13865, 9728, 15297, 10440, 14488, 12192, 341, 4151, 3734, 512],\n",
       " 106: [337, 1007, 15970, 9714, 15568, 14823, 5323, 5807, 9465, 1439],\n",
       " 107: [12396, 7662, 11143, 2657, 15297, 10440, 9728, 14488, 4151, 13865],\n",
       " 108: [10440, 9728, 15297, 14488, 13865, 12192, 341, 4151, 3734, 512],\n",
       " 109: [10768, 13492, 162, 9728, 15297, 10440, 14488, 13865, 12192, 341],\n",
       " 110: [14317, 9728, 15297, 10440, 14488, 13865, 12192, 341, 4151, 3734],\n",
       " 111: [2657, 15297, 9728, 10440, 14488, 13865, 12192, 341, 4151, 3734],\n",
       " 112: [6192, 15297, 9728, 10440, 14488, 13865, 12192, 341, 4151, 3734],\n",
       " 113: [3015, 13058, 9506, 3734, 9728, 15297, 10440, 14488, 13865, 12192],\n",
       " 114: [11237, 9728, 15297, 10440, 14488, 13865, 12192, 341, 4151, 3734],\n",
       " 115: [12149, 9728, 15297, 10440, 14488, 13865, 12192, 341, 4151, 3734],\n",
       " 116: [15297, 9728, 10440, 14488, 13865, 12192, 341, 4151, 3734, 512],\n",
       " 117: [8199, 16509, 16406, 12192, 15297, 10440, 9728, 14488, 341, 3734],\n",
       " 118: [9254, 12401, 8447, 14359, 6402, 15464, 14703, 7417, 7793, 12192],\n",
       " 119: [4436, 9728, 15297, 10440, 14488, 13865, 12192, 341, 4151, 512],\n",
       " 120: [9016, 11640, 6809, 13865, 15297, 10440, 9728, 14488, 4151, 512],\n",
       " 121: [2910, 9728, 15297, 10440, 14488, 13865, 12192, 341, 4151, 3734],\n",
       " 122: [6261, 3491, 2596, 9046, 10214, 6774, 9164, 4475, 9728, 15297],\n",
       " 123: [14823, 9728, 15297, 10440, 14488, 13865, 12192, 341, 4151, 3734],\n",
       " 125: [4740, 9728, 15297, 10440, 14488, 13865, 12192, 341, 4151, 3734],\n",
       " 126: [1570, 11142, 11576, 14341, 14263, 10801, 15171, 6193, 12974, 4689],\n",
       " 127: [10440, 9728, 15297, 14488, 13865, 12192, 341, 4151, 3734, 512],\n",
       " 128: [14741, 9728, 15297, 10440, 14488, 13865, 12192, 341, 4151, 3734],\n",
       " 129: [7945, 11654, 8679, 4382, 13018, 5658, 11237, 13865, 9728, 15297],\n",
       " 130: [6431, 13058, 5434, 9728, 15297, 10440, 14488, 13865, 12192, 341],\n",
       " 131: [6809, 15297, 10440, 9728, 14488, 13865, 12192, 341, 3734, 4151],\n",
       " 132: [4969, 2202, 13290, 12446, 2624, 7535, 1287, 13018, 9728, 15297],\n",
       " 133: [11661, 3640, 1053, 4382, 6945, 14470, 4237, 849, 9728, 15297],\n",
       " 134: [5330, 9817, 13865, 9728, 15297, 10440, 14488, 12192, 341, 3734],\n",
       " 136: [5294, 3800, 2720, 9728, 15297, 10440, 14488, 13865, 12192, 341],\n",
       " 137: [12501, 9728, 15297, 10440, 14488, 13865, 12192, 341, 4151, 3734],\n",
       " 139: [4689, 4218, 47, 2220, 11310, 1132, 14703, 7829, 2657, 142],\n",
       " 140: [3792, 4457, 1844, 2657, 13865, 10440, 15297, 9728, 12192, 14488],\n",
       " 141: [4740, 10440, 9728, 15297, 14488, 13865, 12192, 341, 4151, 512],\n",
       " 142: [8636, 9728, 15297, 10440, 14488, 13865, 12192, 341, 4151, 3734],\n",
       " 143: [5803, 12743, 6809, 15297, 9728, 10440, 14488, 13865, 12192, 3734],\n",
       " 144: [1737, 8821, 7476, 10942, 12841, 1916, 1844, 12192, 3734, 4151],\n",
       " 145: [4433, 875, 7823, 9728, 15297, 10440, 14488, 13865, 12192, 341],\n",
       " 146: [12360, 9728, 15297, 10440, 14488, 13865, 12192, 341, 4151, 3734],\n",
       " 147: [7866, 1136, 12132, 7849, 10551, 10436, 13865, 9728, 15297, 10440],\n",
       " 148: [3845, 2797, 14163, 4239, 15199, 341, 12192, 9728, 4151, 15297],\n",
       " 149: [7809, 15955, 14684, 7545, 14378, 101, 5732, 4151, 15297, 9728],\n",
       " 150: [4880, 9728, 15297, 10440, 14488, 13865, 12192, 341, 4151, 3734],\n",
       " 152: [9728, 15297, 10440, 14488, 13865, 12192, 341, 4151, 3734, 512],\n",
       " 153: [12360, 13223, 10772, 14703, 14431, 3734, 6809, 4151, 15297, 10440],\n",
       " 154: [9728, 15297, 10440, 14488, 13865, 12192, 341, 4151, 3734, 512],\n",
       " 155: [391, 4696, 13915, 9194, 9006, 16166, 3734, 9728, 15297, 14488],\n",
       " 156: [15297, 9728, 10440, 14488, 13865, 12192, 341, 4151, 3734, 512],\n",
       " 157: [12970, 4713, 1240, 3819, 2616, 1204, 15399, 16228, 15297, 10440],\n",
       " 158: [4471, 8618, 11863, 13865, 9728, 10440, 15297, 14488, 512, 3734],\n",
       " 159: [6291, 9728, 15297, 10440, 14488, 13865, 12192, 341, 4151, 3734],\n",
       " 160: [15297, 9728, 10440, 14488, 13865, 12192, 341, 4151, 3734, 512],\n",
       " 161: [12192, 9728, 15297, 10440, 14488, 13865, 341, 4151, 3734, 512],\n",
       " 162: [4740, 9728, 15297, 10440, 14488, 13865, 12192, 341, 4151, 3734],\n",
       " 163: [9132, 9896, 2802, 12132, 6649, 12544, 4382, 9169, 14470, 5658],\n",
       " 164: [16179, 1204, 6431, 8784, 6192, 9728, 15297, 10440, 13865, 14488],\n",
       " 165: [4969, 9728, 15297, 10440, 14488, 13865, 12192, 341, 4151, 3734],\n",
       " 166: [1449, 8636, 4151, 13865, 9728, 15297, 10440, 14488, 341, 3734],\n",
       " 167: [4539, 4116, 4436, 4151, 9728, 15297, 10440, 14488, 13865, 12192],\n",
       " 168: [4151, 9728, 15297, 10440, 14488, 13865, 12192, 341, 3734, 512],\n",
       " 170: [1453, 13237, 741, 2923, 3471, 4331, 12386, 9728, 15297, 10440],\n",
       " 171: [8586, 16180, 14120, 16166, 12743, 2657, 13865, 10440, 9728, 15297],\n",
       " 172: [15388, 4943, 1399, 3784, 12192, 10440, 9728, 15297, 14488, 3734],\n",
       " 173: [4223, 9728, 15297, 10440, 14488, 13865, 12192, 341, 4151, 3734],\n",
       " 174: [5658, 7571, 8636, 4151, 9728, 15297, 10440, 14488, 13865, 12192],\n",
       " 175: [11936, 4495, 1844, 7571, 9996, 13865, 9728, 15297, 10440, 512],\n",
       " 176: [15362, 9996, 13865, 10440, 9728, 15297, 14488, 12192, 341, 4151],\n",
       " 177: [10440, 9728, 15297, 14488, 13865, 12192, 341, 4151, 3734, 512],\n",
       " 178: [11110, 9728, 15297, 10440, 14488, 13865, 12192, 341, 4151, 3734],\n",
       " 179: [14, 3734, 13865, 4151, 9728, 15297, 10440, 12192, 341, 14488],\n",
       " 181: [8614, 1189, 13018, 16228, 12192, 4880, 2657, 4151, 10440, 15297],\n",
       " 182: [4589, 2655, 10152, 5658, 3734, 4880, 15297, 4151, 9728, 512],\n",
       " 183: [15297, 9728, 10440, 14488, 13865, 12192, 341, 4151, 3734, 512],\n",
       " 185: [1418, 7107, 14703, 4740, 13865, 9728, 15297, 10440, 14488, 3734],\n",
       " 186: [14741, 9728, 15297, 10440, 14488, 13865, 12192, 341, 4151, 3734],\n",
       " 187: [1449, 9728, 15297, 10440, 14488, 13865, 12192, 341, 4151, 3734],\n",
       " 189: [582, 5505, 6898, 4549, 12360, 9728, 15297, 10440, 14488, 13865],\n",
       " 191: [4878, 3282, 12800, 10353, 13202, 10732, 10605, 11756, 9728, 15297],\n",
       " 192: [9996, 15297, 10440, 9728, 14488, 13865, 12192, 341, 512, 4151],\n",
       " 193: [15297, 10440, 9728, 14488, 13865, 12192, 341, 4151, 3734, 512],\n",
       " 194: [1449, 13865, 9728, 15297, 10440, 14488, 12192, 341, 4151, 3734],\n",
       " 195: [13336, 15286, 13795, 280, 15233, 4224, 13903, 13070, 5535, 14916],\n",
       " 196: [14, 14526, 3076, 4716, 14901, 7102, 4457, 12995, 14703, 4495],\n",
       " 197: [14526, 9728, 15297, 10440, 14488, 13865, 12192, 341, 4151, 3734],\n",
       " 198: [7638, 5862, 14604, 14372, 6945, 14, 12192, 142, 4740, 4151],\n",
       " 199: [15297, 10440, 9728, 14488, 13865, 12192, 341, 4151, 3734, 512],\n",
       " 200: [4151, 15297, 9728, 10440, 14488, 13865, 12192, 341, 3734, 512],\n",
       " 202: [15297, 9728, 10440, 14488, 13865, 12192, 341, 4151, 3734, 512],\n",
       " 203: [10440, 9728, 15297, 14488, 13865, 12192, 341, 4151, 3734, 512],\n",
       " 204: [9728, 15297, 10440, 14488, 13865, 12192, 341, 4151, 3734, 512],\n",
       " 205: [13414, 2852, 12995, 4880, 2657, 10440, 13865, 9728, 15297, 341],\n",
       " 206: [6406, 9728, 15297, 10440, 14488, 13865, 12192, 341, 4151, 3734],\n",
       " 207: [10440, 9728, 15297, 14488, 13865, 12192, 341, 4151, 3734, 512],\n",
       " 208: [4151, 15297, 9728, 10440, 14488, 13865, 12192, 341, 512, 3734],\n",
       " 209: [4436, 9728, 15297, 10440, 14488, 13865, 12192, 341, 4151, 3734],\n",
       " 210: [13865, 9728, 15297, 10440, 14488, 12192, 341, 4151, 3734, 512],\n",
       " 211: [16166, 9728, 15297, 10440, 14488, 13865, 12192, 341, 4151, 3734],\n",
       " 212: [10440, 9728, 15297, 14488, 13865, 12192, 341, 4151, 3734, 512],\n",
       " 213: [6898, 9728, 15297, 10440, 14488, 13865, 12192, 341, 4151, 3734],\n",
       " 214: [4151, 15297, 9728, 10440, 14488, 13865, 12192, 341, 512, 3734],\n",
       " 215: [12574, 6691, 8067, 12542, 4359, 1776, 8618, 7713, 13545, 3402],\n",
       " 216: [2657, 9728, 15297, 10440, 14488, 13865, 12192, 341, 4151, 3734],\n",
       " 217: [4457, 15297, 9728, 10440, 14488, 13865, 12192, 341, 4151, 3734],\n",
       " 218: [617, 2720, 6443, 15739, 3734, 2657, 4151, 15297, 10440, 9728],\n",
       " 219: [6192, 3784, 6809, 142, 4151, 2657, 3734, 15297, 10440, 9728],\n",
       " 221: [4547, 1261, 1465, 9728, 15297, 10440, 14488, 13865, 12192, 341],\n",
       " 222: [8639, 9728, 15297, 10440, 14488, 13865, 12192, 341, 4151, 3734],\n",
       " 223: [4361, 9728, 15297, 10440, 14488, 13865, 12192, 341, 4151, 3734],\n",
       " 225: [10219, 9900, 7102, 1819, 1844, 3734, 10440, 9728, 15297, 14488],\n",
       " 226: [5124, 874, 2025, 11276, 12133, 3669, 1267, 12908, 12173, 11749],\n",
       " 227: [15297, 9728, 10440, 14488, 13865, 12192, 341, 4151, 3734, 512],\n",
       " 228: [12546, 9728, 15297, 10440, 14488, 13865, 12192, 341, 4151, 3734],\n",
       " 229: [11275, 14604, 3697, 5424, 5658, 7417, 11237, 4151, 3734, 13865],\n",
       " 230: [4285, 5893, 11237, 9728, 15297, 10440, 14488, 13865, 12192, 341],\n",
       " 232: [416, 10464, 12501, 1132, 5658, 4880, 12192, 142, 4151, 3734],\n",
       " 234: [9445, 1449, 11237, 9996, 6809, 13865, 10440, 9728, 15297, 4151],\n",
       " 235: [16509, 4495, 15297, 9728, 10440, 14488, 13865, 12192, 341, 3734],\n",
       " 236: [760, 10770, 7571, 9728, 15297, 10440, 14488, 13865, 12192, 4151],\n",
       " 237: [7344, 13528, 5979, 11903, 3012, 141, 6577, 4621, 10696, 15488],\n",
       " 238: [8801, 2301, 1844, 1287, 13865, 9728, 15297, 10440, 14488, 12192],\n",
       " 239: [14703, 14741, 9728, 15297, 10440, 14488, 13865, 12192, 341, 4151],\n",
       " 240: [14431, 15297, 9728, 10440, 14488, 13865, 12192, 341, 4151, 512],\n",
       " 241: [337, 14275, 15787, 2306, 6467, 830, 3845, 9335, 6470, 2896],\n",
       " 242: [15297, 9728, 10440, 14488, 13865, 12192, 341, 4151, 3734, 512],\n",
       " 243: [14443, 1570, 10786, 7985, 6729, 1247, 2925, 14122, 16484, 11458],\n",
       " 244: [9427, 7389, 11228, 5803, 12360, 9728, 10440, 15297, 14488, 4151],\n",
       " 245: [15297, 9728, 10440, 14488, 13865, 12192, 341, 4151, 3734, 512],\n",
       " 246: [9728, 15297, 10440, 14488, 13865, 12192, 341, 4151, 3734, 512],\n",
       " 247: [10440, 9728, 15297, 14488, 13865, 12192, 341, 4151, 3734, 512],\n",
       " 249: [16064, 9728, 15297, 10440, 14488, 13865, 12192, 341, 4151, 3734],\n",
       " 250: [2657, 9728, 15297, 10440, 14488, 13865, 12192, 341, 4151, 3734],\n",
       " 252: [142, 15297, 9728, 10440, 14488, 13865, 12192, 341, 4151, 512],\n",
       " 253: [5650, 9728, 15297, 10440, 14488, 13865, 12192, 341, 4151, 3734],\n",
       " 254: [5669, 142, 13865, 9728, 15297, 10440, 14488, 12192, 341, 512],\n",
       " 255: [15297, 9728, 10440, 14488, 13865, 12192, 341, 4151, 3734, 512],\n",
       " 257: [4417, 4702, 11115, 16406, 9728, 15297, 10440, 14488, 13865, 12192],\n",
       " 259: [8764, 12546, 1423, 3306, 4040, 11710, 218, 9374, 7753, 1337],\n",
       " 260: [13610, 3804, 4151, 9728, 15297, 10440, 14488, 13865, 12192, 341],\n",
       " 262: [1844, 3734, 9728, 15297, 10440, 14488, 13865, 12192, 341, 4151],\n",
       " 263: [8314, 9728, 15297, 10440, 14488, 13865, 12192, 341, 4151, 3734],\n",
       " 265: [15810, 1449, 4237, 15266, 7571, 7417, 14741, 10440, 9728, 15297],\n",
       " 266: [4218, 9728, 15297, 10440, 14488, 13865, 12192, 341, 4151, 3734],\n",
       " 267: [12449, 14741, 9728, 15297, 10440, 14488, 13865, 12192, 341, 4151],\n",
       " 268: [15084, 8903, 12225, 14927, 10939, 4475, 4718, 973, 10732, 15078],\n",
       " 269: [142, 2657, 15297, 9728, 10440, 14488, 13865, 12192, 341, 4151],\n",
       " 270: [15297, 9728, 10440, 14488, 13865, 12192, 341, 4151, 3734, 512],\n",
       " 271: [9728, 15297, 10440, 14488, 13865, 12192, 341, 4151, 3734, 512],\n",
       " 272: [15214, 15894, 3190, 5398, 4260, 13545, 11310, 12360, 9728, 512],\n",
       " 273: [2647, 9728, 15297, 10440, 14488, 13865, 12192, 341, 4151, 3734],\n",
       " 274: [14, 9728, 15297, 10440, 14488, 13865, 12192, 341, 4151, 3734],\n",
       " 275: [12192, 13865, 15297, 10440, 9728, 14488, 341, 3734, 4151, 512],\n",
       " 276: [14675, 6208, 3804, 24, 4740, 9728, 15297, 10440, 14488, 13865],\n",
       " 278: [12681, 9254, 1449, 12995, 4151, 13865, 9728, 10440, 15297, 14488],\n",
       " 279: [6809, 9728, 15297, 10440, 14488, 13865, 12192, 341, 512, 3734],\n",
       " 280: [5005, 8636, 9996, 10440, 9728, 15297, 14488, 13865, 12192, 512],\n",
       " 281: [3163, 14703, 9728, 15297, 10440, 14488, 13865, 12192, 341, 4151],\n",
       " 282: [8821, 12841, 7626, 12173, 9728, 15297, 10440, 14488, 13865, 12192],\n",
       " 283: [14942, 9728, 15297, 10440, 14488, 13865, 12192, 341, 4151, 3734],\n",
       " 284: [10440, 9728, 15297, 14488, 13865, 12192, 341, 4151, 3734, 512],\n",
       " 285: [12537, 9728, 15297, 10440, 14488, 13865, 12192, 341, 4151, 3734],\n",
       " 286: [6809, 9728, 15297, 10440, 14488, 13865, 12192, 341, 4151, 3734],\n",
       " 287: [12527, 9728, 15297, 10440, 14488, 13865, 12192, 341, 4151, 3734],\n",
       " 288: [7713, 11640, 10440, 9728, 15297, 14488, 13865, 12192, 341, 512],\n",
       " 289: [4567, 9728, 15297, 10440, 14488, 13865, 12192, 341, 4151, 3734],\n",
       " 290: [7802, 9728, 15297, 10440, 14488, 13865, 12192, 341, 4151, 3734],\n",
       " 291: [7019, 14841, 5507, 6089, 15464, 14431, 9728, 4151, 10440, 15297],\n",
       " 292: [12188, 965, 14603, 13071, 4731, 14488, 12324, 11640, 10464, 3076],\n",
       " 293: [1033, 9728, 15297, 10440, 14488, 13865, 12192, 341, 4151, 3734],\n",
       " 294: [6483, 7971, 8304, 7427, 897, 12203, 3071, 6382, 14461, 16228],\n",
       " 295: [3176, 9728, 15297, 10440, 14488, 13865, 12192, 341, 4151, 3734],\n",
       " 297: [12192, 10440, 9728, 15297, 14488, 13865, 341, 4151, 512, 3734],\n",
       " 299: [3208, 3773, 2616, 9982, 11640, 16228, 2657, 4151, 13865, 9728],\n",
       " 300: [13318, 1106, 144, 3940, 3587, 682, 281, 9298, 12849, 6738],\n",
       " 301: [849, 9728, 15297, 10440, 14488, 13865, 12192, 341, 4151, 3734],\n",
       " 303: [5330, 9728, 15297, 10440, 14488, 13865, 12192, 341, 4151, 3734],\n",
       " 304: [6982, 4073, 6054, 8222, 11985, 15574, 3693, 3800, 14814, 175],\n",
       " 305: [14741, 9728, 15297, 10440, 14488, 13865, 12192, 341, 4151, 3734],\n",
       " 306: [8346, 12995, 142, 9728, 15297, 10440, 14488, 13865, 3734, 4151],\n",
       " 308: [8101, 13867, 14619, 14530, 9506, 741, 13159, 9728, 15297, 10440],\n",
       " 309: [7061, 3696, 13377, 8801, 6809, 9728, 15297, 10440, 14488, 13865],\n",
       " 310: [13471, 1763, 4583, 1626, 4218, 12360, 9728, 15297, 10440, 14488],\n",
       " 311: [9986, 8437, 12173, 9728, 15297, 10440, 14488, 13865, 12192, 341],\n",
       " 312: [9986, 9728, 15297, 10440, 14488, 13865, 12192, 341, 4151, 3734],\n",
       " 313: [9062, 162, 6192, 4151, 15297, 9728, 10440, 14488, 13865, 341],\n",
       " 314: [4151, 9728, 15297, 10440, 14488, 13865, 12192, 341, 3734, 512],\n",
       " 315: [3773, 16087, 11697, 2720, 6192, 8636, 9996, 2657, 3734, 13865],\n",
       " 316: [10440, 9728, 15297, 14488, 13865, 12192, 341, 4151, 3734, 512],\n",
       " 317: [12846, 16166, 10323, 4495, 3076, 9728, 15297, 10440, 14488, 13865],\n",
       " 318: [4400, 9728, 15297, 10440, 14488, 13865, 12192, 341, 4151, 3734],\n",
       " 319: [12988, 2625, 12080, 5398, 3734, 7571, 9728, 15297, 10440, 4151],\n",
       " 320: [10811, 13071, 13849, 16509, 1132, 657, 849, 6402, 7102, 4880],\n",
       " 321: [1454, 456, 3066, 11363, 8437, 15915, 7210, 12501, 3784, 13018],\n",
       " 322: [9265, 9927, 6317, 15163, 12356, 6443, 12324, 9194, 11640, 4495],\n",
       " 324: [15297, 9728, 10440, 14488, 13865, 12192, 341, 4151, 3734, 512],\n",
       " 325: [15428, 8070, 1449, 13865, 10440, 9728, 15297, 14488, 12192, 4151],\n",
       " 326: [4976, 1819, 10464, 4436, 9728, 15297, 10440, 14488, 13865, 12192],\n",
       " 327: [11903, 14507, 6645, 3012, 10696, 11310, 9728, 15297, 10440, 14488],\n",
       " 328: [13935, 8581, 4151, 9728, 15297, 10440, 14488, 13865, 12192, 341],\n",
       " 329: [15297, 9728, 10440, 14488, 13865, 12192, 341, 4151, 3734, 512],\n",
       " 331: [11188, 12908, 14814, 9728, 15297, 10440, 14488, 13865, 12192, 512],\n",
       " 332: [7014, 9728, 15297, 10440, 14488, 13865, 12192, 341, 4151, 3734],\n",
       " 334: [1569, 10279, 9585, 12656, 13500, 2797, 14151, 10777, 7612, 15362],\n",
       " 335: [5266, 4151, 15297, 9728, 10440, 14488, 13865, 12192, 341, 512],\n",
       " 336: [15199, 9728, 15297, 10440, 14488, 13865, 12192, 341, 4151, 3734],\n",
       " 337: [14598, 4731, 12770, 3784, 9728, 15297, 10440, 14488, 13865, 12192],\n",
       " 338: [10440, 9728, 15297, 14488, 13865, 12192, 341, 4151, 3734, 512],\n",
       " 339: [16413, 15384, 14717, 512, 12659, 10878, 9194, 13865, 9728, 15297],\n",
       " 340: [6382, 16509, 5658, 16166, 142, 2657, 4151, 13865, 15297, 10440],\n",
       " 341: [16361, 9728, 15297, 10440, 14488, 13865, 12192, 341, 4151, 3734],\n",
       " 342: [9122, 9728, 15297, 10440, 14488, 13865, 12192, 341, 4151, 3734],\n",
       " 343: [4627, 11936, 6192, 4740, 12192, 11863, 4880, 9728, 13865, 4151],\n",
       " 344: [6965, 15648, 1449, 15464, 10878, 14703, 12360, 12324, 142, 9728],\n",
       " 345: [2657, 9728, 15297, 10440, 14488, 13865, 12192, 341, 4151, 3734],\n",
       " 346: [13865, 9728, 15297, 10440, 14488, 12192, 341, 4151, 3734, 512],\n",
       " 348: [12981, 12659, 7417, 1844, 4880, 13865, 9728, 4151, 15297, 10440],\n",
       " 349: [6915, 8373, 15277, 7476, 9996, 15297, 10440, 9728, 4151, 512],\n",
       " 350: [3802, 14526, 2720, 9996, 9728, 15297, 10440, 14488, 13865, 12192],\n",
       " 351: [6402, 9996, 15297, 10440, 9728, 14488, 13865, 12192, 512, 341],\n",
       " 353: [11237, 9728, 15297, 10440, 14488, 13865, 12192, 341, 4151, 3734],\n",
       " 356: [8893, 9718, 13865, 2657, 15297, 9728, 10440, 14488, 4151, 341],\n",
       " 359: [10755, 7102, 13865, 15297, 9728, 10440, 14488, 12192, 4151, 3734],\n",
       " 360: [11214, 35, 10440, 9728, 15297, 14488, 13865, 12192, 341, 3734],\n",
       " 361: [10770, 9728, 15297, 10440, 14488, 13865, 12192, 341, 4151, 3734],\n",
       " 362: [13849, 9728, 15297, 10440, 14488, 13865, 12192, 341, 4151, 3734],\n",
       " 363: [5360, 9728, 15297, 10440, 14488, 13865, 12192, 341, 4151, 3734],\n",
       " 364: [13194, 5779, 7956, 112, 11845, 6911, 11977, 15582, 8196, 10103],\n",
       " 365: [10440, 9728, 15297, 14488, 13865, 12192, 341, 4151, 3734, 512],\n",
       " 366: [10440, 9728, 15297, 14488, 13865, 12192, 341, 4151, 3734, 512],\n",
       " 368: [9100, 11495, 9645, 598, 7793, 9728, 15297, 10440, 14488, 13865],\n",
       " 369: [3340, 1905, 11654, 6033, 372, 15199, 12228, 6402, 9728, 15297],\n",
       " 370: [16301, 1033, 1418, 2852, 9194, 6443, 7102, 12192, 142, 13865],\n",
       " 371: [14245, 3935, 10440, 9728, 15297, 14488, 13865, 12192, 341, 3734],\n",
       " 372: [6774, 12965, 16166, 2657, 10440, 9728, 15297, 14488, 13865, 4151],\n",
       " 373: [2154, 3734, 9728, 15297, 10440, 14488, 13865, 12192, 341, 4151],\n",
       " 374: [3792, 2657, 4151, 13865, 10440, 9728, 15297, 14488, 512, 3734],\n",
       " 375: [7991, 9728, 15297, 10440, 14488, 13865, 12192, 341, 4151, 3734],\n",
       " 376: [15297, 9728, 10440, 14488, 13865, 12192, 341, 4151, 3734, 512],\n",
       " 378: [101, 9728, 15297, 10440, 14488, 13865, 12192, 341, 4151, 3734],\n",
       " 380: [7476, 9728, 15297, 10440, 14488, 13865, 12192, 341, 4151, 3734],\n",
       " 381: [10569, 9214, 1337, 15915, 7107, 12995, 9728, 15297, 10440, 14488],\n",
       " 382: [13463, 565, 372, 8254, 10605, 2956, 5411, 14899, 9728, 15297],\n",
       " 383: [14961, 6410, 12841, 6939, 10281, 10074, 11756, 5693, 16166, 7102],\n",
       " 384: [16361, 12501, 14317, 8636, 14741, 13865, 10440, 9728, 15297, 4151],\n",
       " 385: [7269, 2720, 9728, 15297, 10440, 14488, 13865, 12192, 341, 512],\n",
       " 386: [9728, 15297, 10440, 14488, 13865, 12192, 341, 3734, 512, 4151],\n",
       " 387: [6360, 1574, 12671, 3259, 10248, 5838, 14, 2858, 598, 11697],\n",
       " 388: [9728, 15297, 10440, 14488, 13865, 12192, 341, 4151, 3734, 512],\n",
       " 389: [14120, 9728, 15297, 10440, 14488, 13865, 12192, 341, 4151, 3734],\n",
       " 390: [1418, 9194, 4495, 4740, 9996, 4880, 3734, 13865, 9728, 10440],\n",
       " 391: [9728, 15297, 10440, 14488, 13865, 12192, 341, 4151, 3734, 512],\n",
       " 392: [4880, 4151, 9728, 15297, 10440, 14488, 13865, 12192, 341, 512],\n",
       " 393: [2451, 9728, 15297, 10440, 14488, 13865, 12192, 341, 4151, 3734],\n",
       " 394: [14416, 7745, 945, 11310, 10440, 9728, 15297, 14488, 13865, 3734],\n",
       " 395: [579, 9728, 15297, 10440, 14488, 13865, 12192, 341, 4151, 3734],\n",
       " 396: [12869, 9728, 15297, 10440, 14488, 13865, 12192, 341, 4151, 3734],\n",
       " 397: [9728, 15297, 10440, 14488, 13865, 12192, 341, 4151, 3734, 512],\n",
       " 398: [13262, 9728, 15297, 10440, 14488, 13865, 12192, 341, 4151, 3734],\n",
       " 400: [12974, 11863, 7793, 10440, 9728, 15297, 14488, 13865, 12192, 341],\n",
       " 401: [16406, 8618, 10878, 11863, 7793, 7829, 9996, 9728, 15297, 4151],\n",
       " 402: [9728, 15297, 10440, 14488, 13865, 12192, 341, 4151, 3734, 512],\n",
       " 403: [10219, 5732, 6192, 13865, 9728, 15297, 10440, 14488, 12192, 341],\n",
       " 404: [15297, 9728, 10440, 14488, 13865, 12192, 341, 4151, 3734, 512],\n",
       " 406: [1465, 2657, 9728, 15297, 10440, 14488, 13865, 12192, 341, 4151],\n",
       " 407: [12849, 9728, 15297, 10440, 14488, 13865, 12192, 341, 4151, 3734],\n",
       " 408: [11371, 7609, 4997, 826, 5533, 2910, 849, 9728, 15297, 10440],\n",
       " 409: [7033, 475, 5950, 5424, 16509, 11778, 8636, 12192, 13865, 9728],\n",
       " 410: [13915, 1053, 14703, 14741, 9728, 15297, 10440, 14488, 13865, 12192],\n",
       " 411: [7134, 9728, 15297, 10440, 14488, 13865, 12192, 341, 4151, 3734],\n",
       " 412: [7793, 9728, 15297, 10440, 14488, 13865, 12192, 341, 4151, 3734],\n",
       " 414: [14901, 12360, 849, 7793, 142, 9996, 10440, 15297, 9728, 3734],\n",
       " 415: [6214, 11756, 3935, 4457, 7571, 3734, 13865, 9728, 15297, 10440],\n",
       " 416: [4448, 9728, 15297, 10440, 14488, 13865, 12192, 341, 4151, 3734],\n",
       " 417: [8784, 16228, 6382, 9996, 849, 15297, 10440, 9728, 3734, 14488],\n",
       " 418: [6809, 9728, 15297, 10440, 14488, 13865, 12192, 341, 4151, 3734],\n",
       " 419: [12542, 11769, 4716, 7545, 3935, 9070, 341, 5658, 1916, 4151],\n",
       " 420: [2657, 9728, 15297, 10440, 14488, 13865, 12192, 341, 4151, 3734],\n",
       " 421: [4731, 5645, 15942, 9811, 101, 1916, 6626, 12770, 9070, 15464],\n",
       " 422: [10440, 9728, 15297, 14488, 13865, 12192, 341, 4151, 3734, 512],\n",
       " 423: [16228, 9728, 15297, 10440, 14488, 13865, 12192, 341, 4151, 3734],\n",
       " 424: [14617, 4285, 7545, 14470, 1916, 15531, 15297, 9728, 10440, 14488],\n",
       " 425: [12360, 10440, 9728, 15297, 14488, 13865, 12192, 341, 4151, 3734],\n",
       " 426: [3338, 341, 3935, 10440, 9728, 15297, 14488, 13865, 12192, 4151],\n",
       " 427: [12360, 9728, 15297, 10440, 14488, 13865, 12192, 341, 4151, 3734],\n",
       " 430: [1819, 9728, 15297, 10440, 14488, 13865, 12192, 341, 4151, 3734],\n",
       " 431: [4008, 9728, 15297, 10440, 14488, 13865, 12192, 341, 4151, 3734],\n",
       " 432: [4151, 9728, 15297, 10440, 14488, 13865, 12192, 341, 3734, 512],\n",
       " 435: [3509, 9728, 15297, 10440, 14488, 13865, 12192, 341, 4151, 3734],\n",
       " 436: [15947, 14242, 11640, 657, 14741, 9728, 15297, 10440, 14488, 13865],\n",
       " 437: [4740, 9728, 15297, 10440, 14488, 13865, 12192, 341, 4151, 3734],\n",
       " 438: [10440, 9728, 15297, 14488, 13865, 12192, 341, 4151, 3734, 512],\n",
       " 439: [6141, 7424, 9728, 15297, 10440, 14488, 13865, 12192, 341, 4151],\n",
       " 440: [4685, 9728, 15297, 10440, 14488, 13865, 12192, 341, 4151, 3734],\n",
       " 441: [11778, 4151, 9728, 10440, 15297, 14488, 13865, 512, 12192, 341],\n",
       " 442: [15297, 9728, 10440, 14488, 13865, 12192, 341, 4151, 3734, 512],\n",
       " 443: [13959, 4331, 11539, 9494, 5569, 15078, 4912, 11237, 7107, 9728],\n",
       " 444: [3802, 9728, 15297, 10440, 14488, 13865, 12192, 341, 4151, 3734],\n",
       " 445: [3076, 9728, 15297, 10440, 14488, 13865, 12192, 341, 4151, 3734],\n",
       " 446: [16194, 230, 12202, 3886, 14003, 512, 15464, 1449, 11863, 13865],\n",
       " 447: [16413, 9728, 15297, 10440, 14488, 13865, 12192, 341, 4151, 3734],\n",
       " 448: [10878, 15464, 4495, 6809, 142, 13865, 4151, 15297, 10440, 9728],\n",
       " 449: [8251, 13865, 9728, 15297, 10440, 14488, 12192, 341, 4151, 3734],\n",
       " 451: [6945, 8252, 11237, 9728, 15297, 10440, 14488, 13865, 12192, 341],\n",
       " 452: [6964, 3384, 9617, 13411, 2237, 1785, 6455, 14317, 7793, 14741],\n",
       " 453: [4495, 15297, 10440, 9728, 14488, 13865, 12192, 341, 512, 3734],\n",
       " 454: [10696, 6809, 2657, 142, 13865, 9728, 15297, 10440, 14488, 341],\n",
       " 455: [9317, 11352, 14894, 870, 10179, 14309, 2801, 10081, 6981, 5634],\n",
       " 456: [10077, 9728, 15297, 10440, 14488, 13865, 12192, 341, 4151, 3734],\n",
       " 457: [13317, 8069, 12149, 13935, 7626, 4436, 10772, 1819, 12173, 8636],\n",
       " 458: [4565, 9728, 15297, 10440, 14488, 13865, 12192, 341, 4151, 3734],\n",
       " 459: [1616, 5504, 13598, 11775, 12401, 9696, 12544, 6208, 8801, 1465],\n",
       " 460: [3792, 16166, 7107, 512, 4151, 9728, 15297, 10440, 14488, 13865],\n",
       " 461: [9728, 15297, 10440, 14488, 13865, 12192, 341, 4151, 3734, 512],\n",
       " 462: [7590, 9728, 15297, 10440, 14488, 13865, 12192, 341, 4151, 3734],\n",
       " 464: [10942, 4116, 9164, 14264, 16270, 9996, 3734, 9728, 15297, 10440],\n",
       " 465: [488, 5535, 7570, 16021, 1337, 16361, 9996, 13865, 9728, 15297],\n",
       " 466: [8285, 9728, 15297, 10440, 14488, 13865, 12192, 341, 4151, 3734],\n",
       " 467: [575, 3777, 14942, 13159, 12743, 11778, 9728, 15297, 10440, 12192],\n",
       " 468: [4164, 2865, 12396, 15297, 4151, 9728, 10440, 14488, 13865, 12192],\n",
       " 469: [8811, 9728, 15297, 10440, 14488, 13865, 12192, 341, 4151, 3734],\n",
       " 470: [15297, 9728, 10440, 14488, 13865, 12192, 341, 4151, 3734, 512],\n",
       " 471: [11307, 1348, 8034, 10912, 4211, 12056, 11312, 4382, 1844, 11237],\n",
       " 472: [13622, 2499, 9709, 15297, 9728, 10440, 14488, 13865, 12192, 4151],\n",
       " 473: [7842, 1622, 2780, 4882, 11699, 4976, 7556, 9937, 8437, 10770],\n",
       " 474: [12463, 1916, 9728, 15297, 10440, 14488, 13865, 12192, 341, 4151],\n",
       " 475: [10971, 6686, 6193, 5311, 111, 7829, 12173, 3734, 9728, 15297],\n",
       " 476: [947, 9996, 3734, 10440, 9728, 15297, 14488, 13865, 12192, 341],\n",
       " 477: [4740, 9728, 15297, 10440, 14488, 13865, 12192, 341, 4151, 3734],\n",
       " 478: [1844, 10440, 9728, 15297, 14488, 13865, 12192, 341, 4151, 3734],\n",
       " 479: [16043, 6210, 8618, 13723, 14741, 4740, 9996, 6809, 11237, 4880],\n",
       " 480: [7310, 3784, 11863, 4436, 8636, 14741, 6809, 4151, 13865, 9728],\n",
       " 482: [4495, 12995, 12192, 4151, 9728, 15297, 10440, 14488, 3734, 512],\n",
       " 483: [6554, 548, 10100, 7638, 8801, 7102, 142, 8636, 9996, 2657],\n",
       " 485: [931, 9728, 15297, 10440, 14488, 13865, 12192, 341, 4151, 3734],\n",
       " 486: [10680, 9728, 15297, 10440, 14488, 13865, 12192, 341, 4151, 3734],\n",
       " 488: [15244, 849, 11237, 9728, 15297, 10440, 14488, 13865, 12192, 341],\n",
       " 489: [9996, 4880, 9728, 15297, 10440, 14488, 13865, 12192, 341, 4151],\n",
       " 490: [10440, 9728, 15297, 14488, 13865, 12192, 341, 4151, 3734, 512],\n",
       " 491: [10440, 9728, 15297, 14488, 13865, 12192, 341, 4151, 3734, 512],\n",
       " 492: [1105, 10464, 7571, 10440, 13865, 9728, 15297, 14488, 12192, 4151],\n",
       " 493: [10440, 9728, 15297, 14488, 13865, 12192, 341, 4151, 3734, 512],\n",
       " 494: [6323, 111, 6686, 6193, 10971, 10256, 8254, 9728, 15297, 10440],\n",
       " 495: [11899, 2025, 4946, 12360, 5434, 9728, 15297, 10440, 14488, 13865],\n",
       " 496: [1650, 16107, 13787, 598, 15362, 15942, 1465, 12537, 1290, 3784],\n",
       " 497: [794, 3693, 8580, 14264, 6870, 14359, 7968, 1105, 12623, 14741],\n",
       " 498: [4495, 4740, 9728, 15297, 10440, 14488, 13865, 12192, 341, 4151],\n",
       " 499: [2657, 10440, 9728, 15297, 14488, 13865, 12192, 341, 4151, 3734],\n",
       " 500: [4436, 9728, 15297, 10440, 14488, 13865, 12192, 341, 4151, 3734],\n",
       " 501: [13935, 9728, 15297, 10440, 14488, 13865, 12192, 341, 4151, 3734],\n",
       " 502: [15719, 13865, 9728, 15297, 10440, 14488, 12192, 341, 3734, 4151],\n",
       " 503: [14, 9728, 15297, 10440, 14488, 13865, 12192, 341, 4151, 3734],\n",
       " 504: [7379, 11790, 13185, 16087, 7310, 5398, 13243, 4685, 4774, 5693],\n",
       " 505: [1844, 10440, 9728, 15297, 14488, 13865, 12192, 341, 4151, 3734],\n",
       " 508: [11803, 117, 7956, 11254, 4030, 4740, 9728, 15297, 10440, 14488],\n",
       " 509: [10464, 1132, 7102, 4457, 4495, 1844, 12192, 4880, 3734, 13865],\n",
       " 510: [11485, 9728, 15297, 10440, 14488, 13865, 12192, 341, 4151, 3734],\n",
       " 511: [15297, 9728, 10440, 14488, 13865, 12192, 341, 4151, 3734, 512],\n",
       " 512: [9728, 15297, 10440, 14488, 13865, 12192, 341, 4151, 3734, 512],\n",
       " 513: [424, 5784, 15366, 9993, 7599, 5847, 4000, 15404, 12446, 13980],\n",
       " 514: [7728, 1453, 9264, 5807, 4689, 10878, 14, 13865, 9728, 10440],\n",
       " 515: [8843, 5543, 1737, 9811, 14488, 12396, 512, 8373, 4457, 16228],\n",
       " 516: [12934, 15679, 16183, 14143, 1916, 9728, 15297, 10440, 14488, 13865],\n",
       " 517: [10724, 1173, 12056, 10755, 5732, 9728, 15297, 10440, 14488, 13865],\n",
       " 518: [2858, 12770, 11778, 6809, 3734, 15297, 9728, 10440, 14488, 341],\n",
       " 519: [13941, 9728, 15297, 10440, 14488, 13865, 12192, 341, 4151, 3734],\n",
       " 520: [849, 9728, 15297, 10440, 14488, 13865, 12192, 341, 4151, 3734],\n",
       " 521: [10477, 2787, 11863, 3734, 9728, 15297, 10440, 14488, 13865, 512],\n",
       " 522: [6222, 11899, 10755, 11756, 12501, 12192, 9728, 15297, 10440, 14488],\n",
       " 524: [10440, 9728, 15297, 14488, 13865, 12192, 341, 4151, 3734, 512],\n",
       " 525: [2657, 9728, 15297, 10440, 14488, 13865, 12192, 341, 4151, 3734],\n",
       " 526: [14431, 9728, 15297, 10440, 14488, 13865, 12192, 341, 4151, 3734],\n",
       " 527: [15297, 9728, 10440, 14488, 13865, 12192, 341, 4151, 3734, 512],\n",
       " 528: [9728, 15297, 10440, 14488, 13865, 12192, 341, 4151, 3734, 512],\n",
       " 529: [2737, 1238, 8070, 2303, 6317, 15942, 10219, 10240, 14526, 9194],\n",
       " 530: [1418, 9728, 15297, 10440, 14488, 13865, 12192, 341, 4151, 3734],\n",
       " 531: [9435, 14488, 5693, 5434, 3784, 1449, 4495, 4740, 12192, 142],\n",
       " 532: [3734, 13865, 9728, 15297, 10440, 14488, 12192, 341, 4151, 512],\n",
       " 533: [13223, 9728, 15297, 10440, 14488, 13865, 12192, 341, 4151, 3734],\n",
       " 534: [8143, 11310, 7626, 10440, 9728, 15297, 14488, 13865, 12192, 512],\n",
       " 535: [15715, 7829, 13865, 9728, 15297, 10440, 14488, 12192, 341, 3734],\n",
       " 537: [12228, 5732, 1785, 7626, 12173, 3734, 9728, 15297, 10440, 4151],\n",
       " 538: [15248, 16406, 14526, 10878, 11640, 849, 13865, 10440, 9728, 15297],\n",
       " 539: [7210, 7829, 6809, 13865, 2657, 9728, 15297, 10440, 14488, 341],\n",
       " 540: [15297, 9728, 10440, 14488, 13865, 12192, 341, 4151, 3734, 512],\n",
       " 541: [14603, 10440, 9728, 15297, 14488, 13865, 12192, 341, 4151, 3734],\n",
       " 542: [3734, 9728, 15297, 10440, 14488, 13865, 12192, 341, 4151, 512],\n",
       " 544: [16509, 10440, 9728, 15297, 14488, 13865, 12192, 341, 4151, 512],\n",
       " 545: [6638, 12615, 5803, 4716, 16406, 4495, 9996, 4880, 12192, 4151],\n",
       " 546: [1244, 9728, 15297, 10440, 14488, 13865, 12192, 341, 4151, 3734],\n",
       " 547: [10125, 4151, 15297, 10440, 9728, 14488, 13865, 12192, 341, 512],\n",
       " 549: [16447, 9728, 15297, 10440, 14488, 13865, 12192, 341, 4151, 3734],\n",
       " 550: [15297, 9728, 10440, 14488, 13865, 12192, 341, 4151, 3734, 512],\n",
       " 551: [8681, 7622, 15275, 13980, 14961, 6086, 15574, 1449, 2852, 8437],\n",
       " 552: [14703, 10440, 9728, 15297, 14488, 13865, 12192, 341, 4151, 512],\n",
       " 553: [10770, 1132, 13865, 10440, 9728, 15297, 14488, 512, 12192, 341],\n",
       " 554: [15983, 9728, 15297, 10440, 14488, 13865, 12192, 341, 4151, 3734],\n",
       " 555: [13787, 372, 4442, 15847, 9194, 15422, 1418, 512, 7102, 13865],\n",
       " 556: [582, 11047, 2025, 11756, 14359, 11310, 13018, 14431, 3734, 10440],\n",
       " 558: [14703, 9728, 15297, 10440, 14488, 13865, 12192, 341, 4151, 3734],\n",
       " 559: [15199, 9728, 15297, 10440, 14488, 13865, 12192, 341, 4151, 3734],\n",
       " 563: [7269, 7476, 10770, 7417, 341, 6192, 1844, 4151, 15297, 9728],\n",
       " 565: [2081, 4260, 2910, 8580, 341, 3734, 4151, 15297, 9728, 512],\n",
       " 566: [2496, 8270, 13865, 9728, 15297, 10440, 14488, 12192, 341, 512],\n",
       " 568: [11322, 9728, 15297, 10440, 14488, 13865, 12192, 341, 4151, 3734],\n",
       " 569: [15475, 9728, 15297, 10440, 14488, 13865, 12192, 341, 4151, 3734],\n",
       " 570: [2616, 16088, 10073, 14901, 3935, 14703, 1132, 7417, 3784, 11237],\n",
       " 571: [4104, 14135, 7622, 9550, 3553, 10020, 1737, 14310, 2616, 3071],\n",
       " 572: [7626, 9728, 15297, 10440, 14488, 13865, 12192, 341, 4151, 3734],\n",
       " 573: [16228, 4151, 15297, 10440, 9728, 14488, 13865, 12192, 341, 512],\n",
       " 575: [11214, 8718, 2145, 9869, 16426, 16179, 11697, 16228, 4151, 15297],\n",
       " 576: [9128, 5413, 15518, 2568, 11982, 16066, 15004, 7254, 4741, 7189],\n",
       " 577: [8270, 9728, 15297, 10440, 14488, 13865, 12192, 341, 4151, 3734],\n",
       " 578: [9728, 15297, 10440, 14488, 13865, 12192, 341, 4151, 3734, 512],\n",
       " 579: [11132, 8308, 6590, 10768, 5250, 4880, 9728, 15297, 10440, 14488],\n",
       " 580: [15297, 9728, 10440, 14488, 13865, 12192, 341, 4151, 3734, 512],\n",
       " 581: [7269, 5732, 9728, 10440, 15297, 14488, 13865, 12192, 512, 341],\n",
       " 582: [10440, 9728, 15297, 14488, 13865, 12192, 341, 4151, 3734, 512],\n",
       " 584: [2657, 4151, 15297, 9728, 10440, 14488, 13865, 12192, 341, 3734],\n",
       " 585: [12743, 6809, 3734, 15297, 9728, 10440, 14488, 13865, 12192, 341],\n",
       " 586: [15472, 9728, 15297, 10440, 14488, 13865, 12192, 341, 4151, 3734],\n",
       " 587: [16105, 15731, 13544, 4527, 4927, 4571, 5171, 11118, 14814, 598],\n",
       " 588: [10772, 9728, 15297, 10440, 14488, 13865, 12192, 341, 4151, 3734],\n",
       " 589: [5658, 1844, 9728, 15297, 10440, 14488, 13865, 12192, 341, 4151],\n",
       " 590: [7736, 14117, 10705, 10857, 851, 10891, 6200, 5687, 11582, 12741],\n",
       " 591: [3734, 13865, 9728, 15297, 10440, 14488, 12192, 341, 4151, 512],\n",
       " 592: [4495, 9728, 15297, 10440, 14488, 13865, 12192, 341, 4151, 3734],\n",
       " 593: [15297, 9728, 10440, 14488, 13865, 12192, 341, 4151, 3734, 512],\n",
       " 594: [285, 14684, 5266, 1399, 4716, 101, 6192, 7102, 9728, 15297],\n",
       " 595: [14466, 8801, 9728, 15297, 10440, 14488, 13865, 12192, 341, 4151],\n",
       " 596: [5477, 6706, 3421, 2447, 7959, 1423, 1926, 8524, 3309, 14784],\n",
       " 597: [2956, 9728, 15297, 10440, 14488, 13865, 12192, 341, 4151, 3734],\n",
       " 598: [6253, 4400, 1844, 9728, 15297, 10440, 14488, 13865, 12192, 512],\n",
       " 599: [9657, 9728, 15297, 10440, 14488, 13865, 12192, 341, 4151, 3734],\n",
       " 600: [7807, 9728, 15297, 10440, 14488, 13865, 12192, 341, 4151, 3734],\n",
       " 601: [6809, 3734, 15297, 9728, 10440, 14488, 13865, 12192, 341, 512],\n",
       " 602: [8373, 416, 5669, 14703, 931, 9728, 15297, 10440, 14488, 13865],\n",
       " 603: [8877, 9728, 15297, 10440, 14488, 13865, 12192, 341, 4151, 3734],\n",
       " 604: [3734, 13865, 10440, 9728, 15297, 14488, 12192, 341, 4151, 512],\n",
       " 605: [9728, 10440, 15297, 14488, 13865, 12192, 341, 4151, 512, 3734],\n",
       " 606: [5171, 11987, 9809, 11268, 13475, 2025, 12820, 8618, 10761, 5732],\n",
       " 607: [12192, 9728, 15297, 10440, 14488, 13865, 341, 4151, 3734, 512],\n",
       " 608: [15297, 10440, 9728, 14488, 13865, 12192, 341, 4151, 3734, 512],\n",
       " 609: [15297, 9728, 10440, 14488, 13865, 12192, 341, 4151, 3734, 512],\n",
       " 610: [2657, 9728, 15297, 10440, 14488, 13865, 12192, 341, 4151, 3734],\n",
       " 611: [5294, 15297, 9728, 10440, 14488, 13865, 12192, 341, 4151, 512],\n",
       " 612: [341, 3532, 6809, 15297, 9728, 10440, 14488, 13865, 12192, 3734],\n",
       " 613: [10440, 9728, 15297, 14488, 13865, 12192, 341, 4151, 3734, 512],\n",
       " 614: [4151, 9728, 15297, 10440, 14488, 13865, 12192, 341, 3734, 512],\n",
       " 616: [3566, 12458, 8418, 8126, 12628, 1037, 14173, 2425, 4624, 15420],\n",
       " 617: [798, 429, 1873, 11237, 9728, 15297, 10440, 14488, 13865, 4151],\n",
       " 618: [2616, 8636, 13865, 10440, 15297, 9728, 14488, 341, 4151, 3734],\n",
       " 619: [1676, 4436, 9728, 15297, 10440, 14488, 13865, 12192, 341, 4151],\n",
       " 620: [1053, 9728, 15297, 10440, 14488, 13865, 12192, 341, 4151, 3734],\n",
       " 621: [6588, 4266, 6809, 13865, 9728, 15297, 10440, 14488, 12192, 512],\n",
       " 622: [2223, 4633, 8270, 10436, 15399, 496, 4382, 10878, 6443, 11310],\n",
       " 623: [7793, 9728, 15297, 10440, 14488, 13865, 12192, 341, 4151, 3734],\n",
       " 624: [2657, 10440, 9728, 15297, 14488, 13865, 12192, 341, 4151, 3734],\n",
       " 625: [14689, 6661, 3669, 10878, 4436, 4495, 3734, 13865, 15297, 10440],\n",
       " 626: [7651, 865, 1973, 9728, 15297, 10440, 14488, 13865, 12192, 341],\n",
       " 627: [14995, 9339, 10811, 8437, 14359, 10942, 3784, 11237, 7829, 12192],\n",
       " 628: [3031, 11338, 13191, 8643, 6360, 6444, 15472, 10770, 10772, 13018],\n",
       " 629: [11903, 14507, 6645, 3012, 10696, 12179, 9728, 15297, 10440, 14488],\n",
       " 630: [5766, 9728, 15297, 10440, 14488, 13865, 12192, 341, 4151, 3734],\n",
       " 631: [9100, 9728, 15297, 10440, 14488, 13865, 12192, 341, 4151, 3734],\n",
       " 632: [1650, 12681, 24, 4716, 12995, 4740, 9996, 13865, 9728, 15297],\n",
       " 633: [6898, 10838, 11322, 175, 14242, 4223, 3402, 5287, 5424, 4475],\n",
       " 634: [10838, 14741, 14703, 12995, 7571, 4880, 2657, 4151, 10440, 9728],\n",
       " 635: [13177, 6866, 8822, 9342, 15297, 9728, 10440, 14488, 13865, 4151],\n",
       " 636: [3282, 9728, 15297, 10440, 14488, 13865, 12192, 341, 4151, 3734],\n",
       " 638: [5732, 4731, 4495, 4716, 9728, 15297, 10440, 14488, 13865, 4151],\n",
       " 639: [4065, 12800, 11864, 13583, 13202, 10353, 9728, 15297, 10440, 14488],\n",
       " 640: [10440, 9728, 15297, 14488, 13865, 12192, 341, 4151, 3734, 512],\n",
       " 642: [1819, 9728, 15297, 10440, 14488, 13865, 12192, 341, 4151, 3734],\n",
       " 644: [4740, 9728, 15297, 10440, 14488, 13865, 12192, 341, 4151, 3734],\n",
       " 645: [7626, 9728, 15297, 10440, 14488, 13865, 12192, 341, 4151, 3734],\n",
       " 646: [14567, 12299, 12129, 3940, 1290, 6738, 682, 7626, 12173, 11310],\n",
       " 647: [6926, 13284, 7104, 3293, 14878, 1003, 13303, 1453, 13087, 15074],\n",
       " 649: [13058, 2616, 8373, 9070, 4716, 11778, 3935, 4151, 3734, 15297],\n",
       " 651: [14, 16509, 1844, 4151, 13865, 9728, 15297, 10440, 3734, 512],\n",
       " 652: [7107, 9728, 15297, 10440, 14488, 13865, 12192, 341, 4151, 3734],\n",
       " 653: [10440, 9728, 15297, 14488, 13865, 12192, 341, 4151, 3734, 512],\n",
       " 654: [5413, 9870, 15518, 2568, 10397, 14753, 5171, 8109, 3976, 14111],\n",
       " 655: [15679, 14598, 15051, 13610, 6273, 7545, 15531, 6192, 5434, 5658],\n",
       " 657: [14648, 13788, 144, 5693, 14359, 16361, 7571, 11237, 9728, 341],\n",
       " 658: [12574, 13453, 3777, 9808, 1105, 334, 2358, 13243, 13159, 13935],\n",
       " 660: [9950, 9728, 15297, 10440, 14488, 13865, 12192, 341, 4151, 3734],\n",
       " 661: [10440, 9728, 15297, 14488, 13865, 12192, 341, 4151, 3734, 512],\n",
       " 662: [13865, 9728, 15297, 10440, 14488, 12192, 341, 4151, 3734, 512],\n",
       " 663: [9122, 9728, 15297, 10440, 14488, 13865, 12192, 341, 4151, 3734],\n",
       " 664: [5808, 16142, 16433, 3541, 11577, 5610, 11287, 13371, 8254, 10119],\n",
       " 665: [15580, 9728, 15297, 10440, 14488, 13865, 12192, 341, 4151, 3734],\n",
       " 666: [7427, 1678, 9113, 10281, 1554, 12623, 3076, 9728, 15297, 13865],\n",
       " 667: [7378, 15648, 7829, 12995, 13865, 9728, 15297, 10440, 14488, 3734],\n",
       " 670: [7102, 9728, 15297, 10440, 14488, 13865, 12192, 341, 4151, 3734],\n",
       " 671: [14051, 5287, 6809, 4880, 4151, 9728, 15297, 10440, 14488, 13865],\n",
       " 672: [3734, 9728, 15297, 10440, 14488, 13865, 12192, 341, 4151, 512],\n",
       " 673: [10515, 4537, 5398, 4266, 9164, 16166, 9728, 15297, 10440, 14488],\n",
       " 674: [13099, 13411, 1884, 4880, 4151, 9728, 15297, 10440, 14488, 13865],\n",
       " 675: [2657, 9728, 15297, 10440, 14488, 13865, 12192, 341, 4151, 3734],\n",
       " 676: [8727, 8346, 596, 8209, 5424, 16509, 24, 14741, 4740, 9996],\n",
       " 677: [9214, 12981, 4151, 9728, 15297, 10440, 14488, 13865, 12192, 341],\n",
       " 678: [16328, 1776, 273, 11985, 13935, 13262, 8447, 4436, 7626, 13018],\n",
       " 679: [15745, 2052, 15428, 1390, 12586, 2865, 11035, 9159, 11382, 13763],\n",
       " 680: [521, 14687, 15275, 8209, 6208, 10214, 6646, 12981, 7626, 4457],\n",
       " 681: [12305, 13789, 4533, 991, 6089, 931, 1132, 16166, 14703, 1844],\n",
       " 682: [13865, 9728, 15297, 10440, 14488, 12192, 341, 4151, 3734, 512],\n",
       " 683: [14845, 15066, 6105, 14397, 11443, 5014, 9111, 10303, 12171, 12150],\n",
       " 684: [3309, 5658, 7417, 341, 11237, 4880, 8636, 12192, 4151, 2657],\n",
       " 685: [24, 9728, 15297, 10440, 14488, 13865, 12192, 341, 4151, 3734],\n",
       " 686: [3669, 2301, 6402, 12537, 11863, 7417, 7793, 3734, 13865, 9728],\n",
       " 688: [1844, 9728, 15297, 10440, 14488, 13865, 12192, 341, 4151, 3734],\n",
       " 689: [7545, 15297, 9728, 10440, 14488, 13865, 12192, 341, 4151, 512],\n",
       " 690: [3071, 15297, 9728, 10440, 14488, 13865, 12192, 341, 4151, 512],\n",
       " 691: [12356, 1418, 9194, 3935, 12995, 8636, 14703, 142, 3734, 13865],\n",
       " 694: [5650, 2722, 15464, 9728, 15297, 10440, 14488, 13865, 12192, 341],\n",
       " 695: [9164, 9728, 15297, 10440, 14488, 13865, 12192, 341, 4151, 3734],\n",
       " 696: [14422, 15886, 4140, 1454, 15221, 2858, 2100, 8784, 288, 5803],\n",
       " 697: [14741, 9728, 15297, 10440, 14488, 13865, 12192, 341, 4151, 3734],\n",
       " 698: [4436, 9728, 15297, 10440, 14488, 13865, 12192, 341, 4151, 3734],\n",
       " 699: [15970, 9728, 15297, 10440, 14488, 13865, 12192, 341, 4151, 3734],\n",
       " 700: [15297, 9728, 10440, 14488, 13865, 12192, 341, 4151, 3734, 512],\n",
       " 701: [1204, 15297, 9728, 10440, 14488, 13865, 12192, 341, 4151, 3734],\n",
       " 702: [9696, 12192, 6809, 9728, 15297, 10440, 14488, 13865, 341, 3734],\n",
       " 703: [9728, 15297, 10440, 14488, 13865, 12192, 341, 4151, 3734, 512],\n",
       " 704: [14823, 9728, 15297, 10440, 14488, 13865, 12192, 341, 4151, 3734],\n",
       " 705: [6253, 1381, 4285, 6431, 11312, 4731, 7476, 14, 5732, 10770],\n",
       " 706: [4740, 9728, 15297, 10440, 14488, 13865, 12192, 341, 4151, 3734],\n",
       " 707: [10440, 9728, 15297, 14488, 13865, 12192, 341, 4151, 3734, 512],\n",
       " 708: [4495, 9728, 15297, 10440, 14488, 13865, 12192, 341, 4151, 3734],\n",
       " 709: [7793, 9728, 15297, 10440, 14488, 13865, 12192, 341, 4151, 3734],\n",
       " 710: [2301, 4151, 13865, 9728, 15297, 10440, 14488, 12192, 341, 512],\n",
       " 711: [3076, 9728, 15297, 10440, 14488, 13865, 12192, 341, 4151, 3734],\n",
       " 712: [3804, 9728, 15297, 10440, 14488, 13865, 12192, 341, 4151, 3734],\n",
       " 713: [3076, 3935, 4880, 4151, 10440, 9728, 15297, 14488, 13865, 512],\n",
       " 714: [10440, 9728, 15297, 14488, 13865, 12192, 341, 4151, 3734, 512],\n",
       " 715: [10440, 9728, 15297, 14488, 13865, 12192, 341, 4151, 3734, 512],\n",
       " 716: [2657, 9728, 15297, 10440, 14488, 13865, 12192, 341, 4151, 3734],\n",
       " 717: [11469, 15352, 9728, 15297, 10440, 14488, 13865, 12192, 341, 4151],\n",
       " 718: [10440, 9728, 15297, 14488, 13865, 12192, 341, 4151, 3734, 512],\n",
       " 719: [334, 10761, 1785, 9988, 4912, 9506, 7582, 15297, 9728, 4151],\n",
       " 720: [6209, 9728, 15297, 10440, 14488, 13865, 12192, 341, 4151, 3734],\n",
       " 721: [4740, 9728, 15297, 10440, 14488, 13865, 12192, 341, 4151, 3734],\n",
       " 723: [6646, 9728, 15297, 10440, 14488, 13865, 12192, 341, 4151, 3734],\n",
       " 724: [10878, 512, 1449, 4740, 3734, 4151, 13865, 10440, 9728, 15297],\n",
       " 725: [4740, 9728, 15297, 10440, 14488, 13865, 12192, 341, 4151, 3734],\n",
       " 726: [15297, 9728, 10440, 14488, 13865, 12192, 341, 4151, 3734, 512],\n",
       " 727: [2657, 9728, 15297, 10440, 14488, 13865, 12192, 341, 4151, 3734],\n",
       " 728: [13865, 9728, 15297, 10440, 14488, 12192, 341, 4151, 3734, 512],\n",
       " 730: [341, 9728, 15297, 10440, 14488, 13865, 12192, 4151, 3734, 512],\n",
       " 731: [16166, 15297, 9728, 10440, 14488, 13865, 12192, 341, 4151, 512],\n",
       " 733: [9283, 8335, 16162, 10833, 1155, 5124, 11769, 947, 4731, 341],\n",
       " 734: [10671, 7858, 3015, 3734, 13865, 9728, 15297, 10440, 14488, 4151],\n",
       " 735: [5434, 3784, 11863, 9728, 15297, 10440, 14488, 13865, 12192, 4151],\n",
       " 736: [4260, 11237, 4740, 9728, 15297, 10440, 14488, 13865, 12192, 341],\n",
       " 737: [1679, 6431, 12988, 13411, 12228, 12501, 3076, 366, 4880, 9728],\n",
       " 738: [4457, 10440, 9728, 15297, 14488, 13865, 12192, 341, 4151, 512],\n",
       " 740: [389, 931, 5424, 14470, 9728, 15297, 10440, 14488, 13865, 12192],\n",
       " 741: [822, 2190, 13077, 1931, 2616, 6382, 14461, 16228, 13865, 15297],\n",
       " 742: [8203, 9728, 15297, 10440, 14488, 13865, 12192, 341, 4151, 3734],\n",
       " 743: [15297, 9728, 10440, 14488, 13865, 12192, 341, 4151, 3734, 512],\n",
       " 744: [956, 1449, 15297, 10440, 9728, 14488, 13865, 12192, 341, 4151],\n",
       " 745: [14266, 3742, 8270, 12250, 12615, 10073, 3784, 3734, 13865, 9728],\n",
       " 746: [216, 5413, 15961, 5626, 14101, 3367, 15408, 1833, 15785, 3787],\n",
       " 747: [6809, 9728, 15297, 10440, 14488, 13865, 12192, 341, 4151, 3734],\n",
       " 749: [16448, 12770, 101, 9996, 10440, 9728, 15297, 14488, 13865, 12192],\n",
       " 750: [9208, 14414, 10772, 9728, 15297, 10440, 14488, 13865, 12192, 341],\n",
       " 751: [16166, 9728, 15297, 10440, 14488, 13865, 12192, 341, 4151, 3734],\n",
       " 752: [10440, 9728, 15297, 14488, 13865, 12192, 341, 4151, 3734, 512],\n",
       " 753: [1508, 5330, 8350, 12259, 6089, 14242, 16448, 14998, 10479, 1787],\n",
       " 754: [4740, 9728, 15297, 10440, 14488, 13865, 12192, 341, 4151, 3734],\n",
       " 755: [3017, 2438, 12615, 1418, 7556, 9808, 14, 11778, 9169, 11640],\n",
       " 756: [12192, 15297, 10440, 9728, 14488, 13865, 341, 4151, 512, 3734],\n",
       " 757: [12588, 826, 10680, 15464, 849, 24, 9728, 15297, 10440, 14488],\n",
       " 758: [13655, 9728, 15297, 10440, 14488, 13865, 12192, 341, 4151, 3734],\n",
       " 759: [15297, 10440, 9728, 14488, 13865, 12192, 341, 4151, 512, 3734],\n",
       " 760: [7556, 10878, 7107, 12981, 11237, 9996, 8636, 4880, 12192, 4151],\n",
       " 761: [4595, 8801, 12501, 849, 9728, 15297, 10440, 14488, 13865, 12192],\n",
       " 762: [3734, 9728, 15297, 10440, 14488, 13865, 12192, 341, 4151, 512],\n",
       " 763: [11769, 15464, 15297, 9728, 10440, 14488, 13865, 12192, 341, 3734],\n",
       " 764: [4000, 15404, 9993, 7599, 3936, 11885, 13058, 12770, 101, 9070],\n",
       " 765: [3734, 9728, 15297, 10440, 14488, 13865, 12192, 341, 4151, 512],\n",
       " 766: [13793, 897, 9728, 15297, 10440, 14488, 13865, 12192, 341, 4151],\n",
       " 767: [1554, 9728, 15297, 10440, 14488, 13865, 12192, 341, 4151, 3734],\n",
       " 768: [8101, 14120, 13959, 6774, 7310, 4475, 9728, 15297, 10440, 14488],\n",
       " 769: [7383, 13070, 16346, 9702, 5051, 13545, 13935, 11985, 13915, 13243],\n",
       " 770: [15434, 9728, 15297, 10440, 14488, 13865, 12192, 341, 4151, 3734],\n",
       " 771: [3208, 11134, 1785, 7107, 11863, 12995, 9996, 142, 13865, 10440],\n",
       " 772: [2737, 9195, 9728, 15297, 10440, 14488, 13865, 12192, 341, 4151],\n",
       " 773: [3076, 9728, 15297, 10440, 14488, 13865, 12192, 341, 4151, 3734],\n",
       " 774: [5171, 8801, 12659, 9214, 6646, 10761, 7476, 14488, 12995, 13865],\n",
       " 775: [15237, 7481, 5967, 11875, 14170, 805, 1204, 626, 6050, 6809],\n",
       " 777: [7307, 10881, 1131, 11118, 11985, 12396, 10073, 7793, 12995, 9728],\n",
       " 778: [11312, 9728, 15297, 10440, 14488, 13865, 12192, 341, 4151, 3734],\n",
       " 779: [10845, 6785, 6210, 8636, 3734, 13865, 10440, 9728, 15297, 12192],\n",
       " 780: [4151, 9728, 15297, 10440, 14488, 13865, 12192, 341, 3734, 512],\n",
       " 782: [4151, 9728, 15297, 10440, 14488, 13865, 12192, 341, 3734, 512],\n",
       " 783: [10440, 9728, 15297, 14488, 13865, 12192, 341, 4151, 3734, 512],\n",
       " 784: [10301, 9728, 15297, 10440, 14488, 13865, 12192, 341, 4151, 3734],\n",
       " 785: [8616, 10436, 561, 4436, 15531, 849, 9728, 15297, 10440, 14488],\n",
       " 786: [14741, 9728, 15297, 10440, 14488, 13865, 12192, 341, 4151, 3734],\n",
       " 787: [10362, 8227, 11775, 12908, 14095, 2720, 9808, 7829, 11778, 4457],\n",
       " 788: [7571, 9728, 15297, 10440, 14488, 13865, 12192, 341, 4151, 3734],\n",
       " 789: [12837, 9728, 15297, 10440, 14488, 13865, 12192, 341, 4151, 3734],\n",
       " 790: [341, 9728, 15297, 10440, 14488, 13865, 12192, 4151, 3734, 512],\n",
       " 791: [8874, 598, 10436, 7417, 4880, 3734, 15297, 9728, 10440, 4151],\n",
       " 792: [11863, 9728, 15297, 10440, 14488, 13865, 12192, 341, 4151, 3734],\n",
       " 793: [7829, 15297, 10440, 9728, 14488, 13865, 12192, 341, 512, 4151],\n",
       " 794: [15942, 741, 14, 11863, 4880, 9996, 2657, 9728, 13865, 15297],\n",
       " 795: [5635, 14741, 7571, 9728, 15297, 10440, 14488, 13865, 12192, 4151],\n",
       " 796: [12138, 14684, 14703, 7107, 4740, 12192, 9996, 3734, 13865, 15297],\n",
       " 798: [10493, 9728, 15297, 10440, 14488, 13865, 12192, 341, 4151, 3734],\n",
       " 799: [14576, 8643, 24, 2910, 2358, 11237, 9728, 15297, 10440, 14488],\n",
       " 800: [3438, 7654, 8051, 9728, 15297, 10440, 14488, 13865, 12192, 341],\n",
       " 801: [10279, 9728, 15297, 10440, 14488, 13865, 12192, 341, 4151, 3734],\n",
       " 802: [16462, 4218, 341, 1449, 9996, 4740, 4880, 10440, 9728, 15297],\n",
       " 804: [14282, 8891, 13325, 10074, 15199, 16152, 12080, 3449, 15384, 15411],\n",
       " 807: [11310, 7107, 11237, 8636, 4880, 13865, 9728, 15297, 10440, 14488],\n",
       " 808: [4740, 9728, 15297, 10440, 14488, 13865, 12192, 341, 4151, 3734],\n",
       " 809: [12192, 10440, 9728, 15297, 14488, 13865, 341, 4151, 512, 3734],\n",
       " 810: [15297, 9728, 10440, 14488, 13865, 12192, 341, 4151, 3734, 512],\n",
       " 811: [13018, 8636, 142, 4880, 4151, 9728, 15297, 10440, 14488, 341],\n",
       " 812: [15297, 9728, 10440, 14488, 13865, 12192, 341, 4151, 3734, 512],\n",
       " 813: [12360, 341, 12192, 142, 3734, 4151, 15297, 10440, 9728, 13865],\n",
       " 814: [2301, 5754, 4436, 341, 8636, 3734, 13865, 9728, 15297, 10440],\n",
       " 815: [12275, 8209, 1287, 7571, 3734, 13865, 9728, 15297, 10440, 14488],\n",
       " 816: [9996, 9728, 15297, 10440, 14488, 13865, 12192, 341, 4151, 3734],\n",
       " 817: [6294, 13882, 8784, 1204, 2720, 7476, 14, 16509, 3935, 14317],\n",
       " 818: [14581, 14526, 9194, 14901, 9169, 14703, 8636, 4740, 9996, 6809],\n",
       " 819: [7107, 4151, 10440, 9728, 15297, 14488, 13865, 12192, 341, 3734],\n",
       " 820: [8109, 15646, 6660, 9900, 5516, 1337, 372, 9728, 3734, 13865],\n",
       " 821: [5167, 3734, 142, 9728, 15297, 10440, 14488, 13865, 12192, 341],\n",
       " 822: [2738, 9728, 15297, 10440, 14488, 13865, 12192, 341, 4151, 3734],\n",
       " 823: [11756, 14703, 657, 4495, 12995, 13865, 3734, 15297, 9728, 512],\n",
       " 824: [15297, 9728, 10440, 14488, 13865, 12192, 341, 4151, 3734, 512],\n",
       " 825: [2297, 596, 14317, 11237, 13865, 9728, 15297, 10440, 14488, 3734],\n",
       " 826: [12356, 9728, 15297, 10440, 14488, 13865, 12192, 341, 4151, 512],\n",
       " 827: [7671, 12250, 10073, 9728, 15297, 10440, 14488, 13865, 12192, 341],\n",
       " 828: [6809, 9728, 15297, 10440, 14488, 13865, 12192, 341, 4151, 3734],\n",
       " 829: [10926, 4905, 6965, 15715, 11769, 5266, 6295, 15384, 10219, 9900],\n",
       " 830: [6939, 9728, 15297, 10440, 14488, 13865, 12192, 341, 4151, 3734],\n",
       " 831: [1590, 2916, 16406, 16509, 3935, 2657, 15297, 10440, 9728, 4151],\n",
       " 832: [3734, 9728, 15297, 10440, 14488, 13865, 12192, 341, 4151, 512],\n",
       " 834: [2780, 758, 13071, 11778, 1844, 3935, 3734, 9728, 15297, 10440],\n",
       " 835: [13487, 12449, 13218, 11961, 12418, 4589, 11275, 3792, 14163, 1776],\n",
       " 836: [10062, 10074, 9728, 15297, 10440, 14488, 13865, 12192, 341, 4151],\n",
       " 837: [8222, 11730, 5330, 6660, 5732, 3076, 1844, 4880, 3734, 9728],\n",
       " 838: [14413, 4227, 9159, 11987, 9214, 14580, 5669, 12659, 101, 12995],\n",
       " 839: [10440, 9728, 15297, 14488, 13865, 12192, 341, 4151, 3734, 512],\n",
       " 840: [16289, 10062, 5109, 12485, 15277, 799, 9207, 273, 5716, 3220],\n",
       " 841: [15171, 14359, 3935, 15362, 2358, 7417, 13915, 3734, 4151, 4880],\n",
       " 842: [13476, 6939, 734, 10077, 14431, 9728, 15297, 10440, 14488, 13865],\n",
       " 844: [14899, 9728, 15297, 10440, 14488, 13865, 12192, 341, 4151, 3734],\n",
       " 845: [2475, 7638, 4260, 5732, 14470, 6192, 8636, 12192, 142, 2657],\n",
       " 846: [5388, 10069, 8196, 3988, 10847, 3192, 5413, 2052, 6273, 12701],\n",
       " 847: [1105, 9506, 11539, 10761, 7582, 9342, 15266, 12192, 9728, 4151],\n",
       " 848: [8784, 15297, 9728, 10440, 14488, 13865, 12192, 341, 4151, 3734],\n",
       " 849: [8617, 7753, 6382, 4436, 14703, 3734, 9728, 13865, 15297, 10440],\n",
       " 850: [10440, 9728, 15297, 14488, 13865, 12192, 341, 4151, 3734, 512],\n",
       " 851: [2657, 9728, 15297, 10440, 14488, 13865, 12192, 341, 4151, 3734],\n",
       " 852: [4957, 12192, 10440, 9728, 15297, 14488, 13865, 341, 3734, 512],\n",
       " 853: [9283, 3669, 14476, 6006, 10878, 11640, 11863, 7829, 3734, 4151],\n",
       " 854: [3734, 9728, 15297, 10440, 14488, 13865, 12192, 341, 4151, 512],\n",
       " 855: [6295, 11863, 4880, 9728, 15297, 10440, 14488, 13865, 12192, 3734],\n",
       " 856: [10440, 9728, 15297, 14488, 13865, 12192, 341, 4151, 3734, 512],\n",
       " 858: [5285, 6454, 6510, 12010, 13895, 14212, 4567, 8780, 14983, 13326],\n",
       " 859: [14431, 10440, 9728, 15297, 14488, 13865, 12192, 341, 4151, 512],\n",
       " 860: [14604, 14526, 4495, 142, 6809, 12192, 3734, 4151, 9728, 15297],\n",
       " 861: [6907, 4549, 175, 9728, 15297, 10440, 14488, 13865, 12192, 341],\n",
       " 862: [7307, 9728, 15297, 10440, 14488, 13865, 12192, 341, 4151, 3734],\n",
       " 864: [12549, 3582, 6402, 9728, 15297, 10440, 14488, 13865, 12192, 341],\n",
       " 865: [5490, 8986, 3935, 512, 4718, 10878, 13865, 3734, 4151, 15297],\n",
       " 866: [4191, 13763, 512, 7107, 12995, 13865, 9728, 15297, 10440, 14488],\n",
       " 867: [13015, 15199, 11756, 14461, 6443, 8636, 13865, 15297, 9728, 12192],\n",
       " 869: [13867, 2956, 13159, 1978, 9164, 9728, 15297, 10440, 14488, 13865],\n",
       " 870: [142, 9728, 15297, 10440, 14488, 13865, 12192, 341, 4151, 3734],\n",
       " 871: [512, 9728, 15297, 10440, 14488, 13865, 12192, 341, 4151, 3734],\n",
       " 873: [11495, 7107, 10440, 9728, 15297, 14488, 13865, 12192, 341, 3734],\n",
       " 874: [10440, 9728, 15297, 14488, 13865, 12192, 341, 4151, 3734, 512],\n",
       " 875: [3773, 2223, 15399, 16228, 11778, 4151, 15297, 10440, 9728, 14488],\n",
       " 876: [5266, 9728, 15297, 10440, 14488, 13865, 12192, 341, 4151, 3734],\n",
       " 877: [15014, 4627, 15847, 14717, 1399, 1562, 10240, 9070, 5732, 7107],\n",
       " 878: [341, 15297, 9728, 10440, 14488, 13865, 12192, 4151, 3734, 512],\n",
       " 879: [10077, 2301, 2220, 14741, 10440, 15297, 9728, 14488, 13865, 3734],\n",
       " 880: [747, 14901, 12995, 12192, 4495, 8636, 3734, 9728, 15297, 341],\n",
       " 881: [12995, 10440, 9728, 15297, 14488, 13865, 12192, 341, 4151, 3734],\n",
       " 882: [4515, 9728, 15297, 10440, 14488, 13865, 12192, 341, 4151, 3734],\n",
       " 883: [13865, 15297, 9728, 10440, 14488, 12192, 341, 4151, 512, 3734],\n",
       " 884: [11237, 9728, 15297, 10440, 14488, 13865, 12192, 341, 4151, 3734],\n",
       " 885: [8471, 9842, 7417, 6809, 3734, 9728, 13865, 10440, 15297, 4151],\n",
       " 886: [15297, 9728, 10440, 14488, 13865, 12192, 341, 4151, 3734, 512],\n",
       " 887: [15706, 9728, 15297, 10440, 14488, 13865, 12192, 341, 4151, 3734],\n",
       " 888: [15297, 9728, 10440, 14488, 13865, 12192, 341, 4151, 3734, 512],\n",
       " 889: [7921, 14095, 741, 8199, 5471, 1399, 5411, 11640, 5732, 3784],\n",
       " 890: [13071, 16021, 13723, 14488, 2657, 4151, 9728, 15297, 10440, 512],\n",
       " 891: [15297, 10440, 9728, 14488, 13865, 12192, 341, 4151, 3734, 512],\n",
       " 892: [15574, 2575, 1819, 3220, 849, 7662, 12659, 11237, 8618, 12770],\n",
       " 893: [2025, 12133, 2954, 5250, 11756, 7102, 9728, 15297, 10440, 14488],\n",
       " 894: [4943, 1381, 6443, 4223, 8784, 4689, 11863, 10878, 7793, 7102],\n",
       " 895: [9986, 9728, 15297, 10440, 14488, 13865, 12192, 341, 4151, 3734],\n",
       " 896: [5578, 16356, 13941, 12192, 15297, 10440, 9728, 14488, 4151, 512],\n",
       " 897: [598, 8580, 657, 1449, 16166, 8636, 6809, 13865, 15297, 10440],\n",
       " 898: [7571, 9728, 15297, 10440, 14488, 13865, 12192, 341, 4151, 3734],\n",
       " 899: [10825, 9327, 8335, 15362, 13865, 9728, 15297, 10440, 14488, 512],\n",
       " 900: [14488, 14741, 10440, 9728, 15297, 13865, 12192, 341, 4151, 3734],\n",
       " 901: [7476, 4716, 10605, 142, 4151, 15297, 9728, 10440, 14488, 341],\n",
       " 902: [2657, 9728, 15297, 10440, 14488, 13865, 12192, 341, 4151, 3734],\n",
       " 903: [9081, 9728, 15297, 10440, 14488, 13865, 12192, 341, 4151, 3734],\n",
       " 904: [565, 9728, 15297, 10440, 14488, 13865, 12192, 341, 4151, 3734],\n",
       " 905: [15297, 9728, 10440, 14488, 13865, 12192, 341, 4151, 3734, 512],\n",
       " 906: [8069, 5294, 3076, 4880, 9728, 15297, 10440, 14488, 13865, 12192],\n",
       " 908: [1435, 7606, 3263, 16244, 11778, 14, 2657, 15297, 13865, 10440],\n",
       " 909: [10615, 10201, 11697, 12228, 15739, 8618, 3935, 16228, 6809, 15297],\n",
       " 910: [15297, 9728, 10440, 14488, 13865, 12192, 341, 4151, 3734, 512],\n",
       " 911: [142, 9728, 15297, 10440, 14488, 13865, 12192, 341, 4151, 3734],\n",
       " 912: [1390, 14814, 3095, 8986, 6443, 12981, 10464, 13018, 4457, 13865],\n",
       " 913: [9728, 15297, 10440, 14488, 13865, 12192, 341, 4151, 3734, 512],\n",
       " 914: [8741, 3601, 2722, 11756, 14530, 3182, 7102, 10440, 9728, 15297],\n",
       " 915: [12173, 9728, 15297, 10440, 14488, 13865, 12192, 341, 4151, 3734],\n",
       " 916: [10440, 9728, 15297, 14488, 13865, 12192, 341, 4151, 3734, 512],\n",
       " 917: [12360, 9728, 15297, 10440, 14488, 13865, 12192, 341, 4151, 3734],\n",
       " 918: [741, 10440, 9728, 15297, 14488, 13865, 12192, 341, 4151, 512],\n",
       " 919: [13414, 14, 3935, 7107, 3076, 12360, 4740, 8636, 142, 3734],\n",
       " 920: [2657, 9728, 15297, 10440, 14488, 13865, 12192, 341, 4151, 512],\n",
       " 921: [16291, 9728, 15297, 10440, 14488, 13865, 12192, 341, 4151, 3734],\n",
       " 922: [13073, 9728, 15297, 10440, 14488, 13865, 12192, 341, 4151, 3734],\n",
       " 923: [7053, 2787, 1978, 6774, 12837, 9728, 15297, 10440, 14488, 13865],\n",
       " 925: [6979, 1617, 12245, 9728, 15297, 10440, 14488, 13865, 12192, 341],\n",
       " 926: [2657, 9728, 15297, 10440, 14488, 13865, 12192, 341, 4151, 3734],\n",
       " 927: [8950, 799, 4250, 14095, 2858, 14899, 6208, 16088, 14488, 12324],\n",
       " 928: [11387, 4239, 1562, 5250, 13865, 9728, 15297, 10440, 14488, 512],\n",
       " 929: [15997, 10436, 8228, 9728, 15297, 10440, 14488, 13865, 12192, 341],\n",
       " 930: [12542, 7789, 5803, 12544, 5424, 7417, 3784, 14470, 3935, 14703],\n",
       " 931: [15297, 9728, 10440, 14488, 13865, 12192, 341, 4151, 3734, 512],\n",
       " 932: [416, 9728, 15297, 10440, 14488, 13865, 12192, 341, 4151, 3734],\n",
       " 935: [10440, 9728, 15297, 14488, 13865, 12192, 341, 4151, 3734, 512],\n",
       " 936: [8063, 3402, 16361, 11310, 9728, 15297, 10440, 14488, 13865, 12192],\n",
       " 938: [4457, 9728, 15297, 10440, 14488, 13865, 12192, 341, 4151, 3734],\n",
       " 939: [3076, 9728, 15297, 10440, 14488, 13865, 12192, 341, 4151, 3734],\n",
       " 940: [9901, 3517, 3474, 5046, 3927, 4260, 11754, 1819, 4151, 9728],\n",
       " 941: [1053, 9728, 15297, 10440, 14488, 13865, 12192, 341, 4151, 3734],\n",
       " 942: [15297, 9728, 10440, 14488, 13865, 12192, 341, 4151, 3734, 512],\n",
       " 943: [12192, 6809, 4151, 15297, 9728, 10440, 14488, 13865, 3734, 341],\n",
       " 945: [10828, 6162, 14901, 6402, 12192, 2657, 15297, 9728, 10440, 341],\n",
       " 946: [14359, 9728, 15297, 10440, 14488, 13865, 12192, 341, 4151, 3734],\n",
       " 947: [1844, 9728, 15297, 10440, 14488, 13865, 12192, 341, 4151, 3734],\n",
       " 948: [16201, 5569, 15362, 7571, 4740, 142, 6809, 4880, 13865, 9728],\n",
       " 949: [9169, 10440, 9728, 15297, 14488, 13865, 12192, 341, 4151, 3734],\n",
       " 950: [6962, 9728, 15297, 10440, 14488, 13865, 12192, 341, 4151, 3734],\n",
       " 951: [13913, 5569, 13545, 7582, 11985, 10761, 16166, 15297, 9728, 341],\n",
       " 952: [2265, 14310, 15049, 1348, 12981, 11863, 657, 7102, 10440, 9728],\n",
       " 953: [5847, 9728, 15297, 10440, 14488, 13865, 12192, 341, 4151, 3734],\n",
       " 954: [13237, 8707, 4331, 15078, 6646, 12965, 5411, 3734, 9728, 15297],\n",
       " 955: [4000, 15404, 5766, 8376, 11885, 13926, 7950, 5964, 15739, 11730],\n",
       " 957: [8694, 8622, 8707, 3401, 2296, 10884, 16361, 6825, 16447, 1819],\n",
       " 958: [15297, 9728, 10440, 14488, 13865, 12192, 341, 4151, 3734, 512],\n",
       " 959: [11143, 15096, 13058, 15531, 12463, 9070, 931, 101, 1916, 14470],\n",
       " 960: [12770, 4436, 7829, 8636, 9996, 142, 6809, 2657, 4151, 13865],\n",
       " 961: [4201, 9728, 15297, 10440, 14488, 13865, 12192, 341, 4151, 3734],\n",
       " 962: [13865, 9728, 15297, 10440, 14488, 12192, 341, 4151, 512, 3734],\n",
       " 963: [3935, 9728, 15297, 10440, 14488, 13865, 12192, 341, 4151, 3734],\n",
       " 964: [9728, 15297, 10440, 14488, 13865, 12192, 341, 4151, 3734, 512],\n",
       " 965: [429, 9728, 15297, 10440, 14488, 13865, 12192, 341, 4151, 3734],\n",
       " 967: [12396, 3908, 4495, 11640, 12192, 12995, 9996, 2657, 3734, 15297],\n",
       " 968: [10440, 9728, 15297, 14488, 13865, 12192, 341, 4151, 3734, 512],\n",
       " 969: [5835, 9728, 15297, 10440, 14488, 13865, 12192, 341, 4151, 3734],\n",
       " 970: [2657, 9728, 15297, 10440, 14488, 13865, 12192, 341, 4151, 3734],\n",
       " 971: [1290, 5434, 3734, 9728, 15297, 10440, 14488, 13865, 12192, 341],\n",
       " 972: [7571, 9728, 15297, 10440, 14488, 13865, 12192, 341, 4151, 3734],\n",
       " 973: [2657, 9728, 15297, 10440, 14488, 13865, 12192, 341, 4151, 3734],\n",
       " 974: [6809, 9728, 15297, 10440, 14488, 13865, 12192, 341, 4151, 3734],\n",
       " 975: [1819, 1916, 9194, 7107, 7571, 9996, 2657, 3734, 13865, 9728],\n",
       " 976: [8276, 9056, 12299, 16382, 3095, 4250, 12849, 6686, 7417, 11237],\n",
       " 977: [3492, 14423, 682, 8821, 12841, 3006, 10942, 9506, 5754, 8252],\n",
       " 978: [6419, 11761, 9787, 13903, 237, 2981, 15472, 4250, 13020, 3693],\n",
       " 979: [5424, 9728, 15297, 10440, 14488, 13865, 12192, 341, 4151, 3734],\n",
       " 980: [9169, 9728, 15297, 10440, 14488, 13865, 12192, 341, 4151, 3734],\n",
       " 981: [15021, 9728, 15297, 10440, 14488, 13865, 12192, 341, 4151, 3734],\n",
       " 983: [9728, 15297, 10440, 14488, 13865, 12192, 341, 4151, 512, 3734],\n",
       " 984: [8821, 12743, 4436, 3734, 9728, 15297, 10440, 14488, 13865, 12192],\n",
       " 985: [10440, 9728, 15297, 14488, 13865, 12192, 341, 4151, 3734, 512],\n",
       " 986: [2280, 111, 12401, 10436, 7107, 7571, 4740, 8636, 4880, 13865],\n",
       " 987: [10219, 9728, 15297, 10440, 14488, 13865, 12192, 341, 4151, 3734],\n",
       " 988: [11110, 9728, 15297, 10440, 14488, 13865, 12192, 341, 4151, 3734],\n",
       " 989: [8784, 16509, 1844, 13865, 10440, 9728, 15297, 14488, 341, 3734],\n",
       " 990: [13865, 15297, 10440, 9728, 14488, 12192, 341, 3734, 512, 4151],\n",
       " 991: [13865, 9728, 15297, 10440, 14488, 12192, 341, 4151, 3734, 512],\n",
       " 993: [11188, 12837, 3076, 13018, 4151, 13865, 9728, 15297, 10440, 14488],\n",
       " 994: [16291, 9728, 15297, 10440, 14488, 13865, 12192, 341, 4151, 3734],\n",
       " 995: [16223, 8617, 16043, 1445, 2720, 4436, 9728, 15297, 10440, 14488],\n",
       " 997: [4191, 6898, 15199, 11863, 13865, 15297, 9728, 10440, 14488, 12192],\n",
       " 998: [2528, 9728, 15297, 10440, 14488, 13865, 12192, 341, 4151, 3734],\n",
       " 999: [12812, 14095, 13262, 6402, 3076, 14901, 7417, 4495, 4880, 3734],\n",
       " 1000: [9842, 2100, 6649, 15362, 6162, 14470, 7102, 3734, 4151, 13865],\n",
       " 1001: [8707, 4549, 931, 3935, 9728, 15297, 10440, 14488, 13865, 12192],\n",
       " 1002: [9916, 320, 2403, 7524, 8746, 6981, 6570, 5105, 7630, 6302],\n",
       " 1003: [11454, 2301, 6402, 3784, 1844, 14741, 7571, 4151, 9728, 12192],\n",
       " 1004: [5411, 3734, 9728, 15297, 10440, 14488, 13865, 12192, 341, 4151],\n",
       " 1005: [10506, 9728, 15297, 10440, 14488, 13865, 12192, 341, 4151, 3734],\n",
       " 1006: [14431, 9728, 15297, 10440, 14488, 13865, 12192, 341, 4151, 3734],\n",
       " 1007: [3640, 11237, 9728, 15297, 10440, 14488, 13865, 12192, 341, 4151],\n",
       " 1008: [14741, 9728, 15297, 10440, 14488, 13865, 12192, 341, 4151, 3734],\n",
       " 1009: [10489, 7889, 10772, 9728, 15297, 10440, 14488, 13865, 12192, 341],\n",
       " 1010: [1112, 4495, 14431, 8636, 9996, 2657, 3734, 13865, 9728, 15297],\n",
       " 1011: [5853, 9728, 15297, 10440, 14488, 13865, 12192, 341, 4151, 3734],\n",
       " 1012: [16509, 10440, 9728, 15297, 14488, 13865, 12192, 341, 4151, 512],\n",
       " 1013: [11454, 9728, 15297, 10440, 14488, 13865, 12192, 341, 4151, 3734],\n",
       " 1014: [4151, 9728, 15297, 10440, 14488, 13865, 12192, 341, 3734, 512],\n",
       " 1015: [7144, 10440, 9728, 15297, 14488, 13865, 12192, 341, 4151, 3734],\n",
       " 1016: [1465, 9728, 15297, 10440, 14488, 13865, 12192, 341, 4151, 3734],\n",
       " 1017: [14741, 4740, 9996, 6809, 9728, 15297, 10440, 14488, 13865, 12192],\n",
       " 1018: [15297, 9728, 10440, 14488, 13865, 12192, 341, 4151, 3734, 512],\n",
       " 1019: [2657, 4151, 13865, 10440, 9728, 15297, 14488, 12192, 512, 3734],\n",
       " 1020: [15847, 9728, 15297, 10440, 14488, 13865, 12192, 341, 4151, 3734],\n",
       " 1021: [8623, 7660, 9265, 1699, 2619, 13849, 496, 9194, 7571, 9728],\n",
       " 1022: [11454, 9728, 15297, 10440, 14488, 13865, 12192, 341, 4151, 3734],\n",
       " 1023: [3402, 3076, 6192, 6809, 9728, 15297, 10440, 14488, 13865, 3734],\n",
       " 1024: [2657, 9728, 15297, 10440, 14488, 13865, 12192, 341, 4151, 3734],\n",
       " 1025: [4155, 416, 13411, 16361, 10440, 9728, 15297, 14488, 13865, 341],\n",
       " 1026: [9213, 6443, 1287, 4457, 12995, 3076, 7102, 13865, 9728, 10440],\n",
       " 1027: [6809, 9728, 15297, 10440, 14488, 13865, 12192, 341, 4151, 512],\n",
       " 1028: [14899, 9728, 15297, 10440, 14488, 13865, 12192, 341, 4151, 3734],\n",
       " 1030: [9121, 11577, 9728, 15297, 10440, 14488, 13865, 12192, 341, 4151],\n",
       " 1031: [16244, 11574, 7082, 734, 16291, 1287, 7829, 13865, 9728, 512],\n",
       " 1032: [26, 13759, 733, 15323, 8007, 10956, 14697, 8469, 14551, 5564],\n",
       " 1033: [15060, 3532, 14526, 512, 16509, 7626, 12173, 4495, 4740, 8636],\n",
       " 1034: [4740, 9728, 15297, 10440, 14488, 13865, 12192, 341, 4151, 3734],\n",
       " 1035: [4975, 4331, 1521, 874, 1978, 931, 9728, 15297, 10440, 14488],\n",
       " 1036: [3318, 4428, 10591, 3800, 9963, 16484, 2852, 2722, 12360, 4880],\n",
       " 1037: [9761, 14242, 13243, 9728, 15297, 10440, 14488, 13865, 12192, 341],\n",
       " 1038: [10440, 9728, 15297, 14488, 13865, 12192, 341, 4151, 3734, 512],\n",
       " 1039: [4151, 9728, 15297, 10440, 14488, 13865, 12192, 341, 3734, 512],\n",
       " 1040: [6404, 9728, 15297, 10440, 14488, 13865, 12192, 341, 4151, 3734],\n",
       " 1041: [596, 11778, 4151, 15297, 9728, 10440, 14488, 13865, 12192, 341],\n",
       " 1042: [9370, 13865, 9728, 15297, 10440, 14488, 12192, 341, 4151, 3734],\n",
       " 1043: [2657, 9728, 15297, 10440, 14488, 13865, 12192, 341, 4151, 3734],\n",
       " 1044: [4740, 9728, 15297, 10440, 14488, 13865, 12192, 341, 4151, 3734],\n",
       " 1045: [1639, 9550, 10077, 5424, 14, 6006, 341, 3935, 7829, 14431],\n",
       " 1046: [11237, 9728, 15297, 10440, 14488, 13865, 12192, 341, 4151, 3734],\n",
       " 1048: [747, 15574, 11018, 13865, 9728, 15297, 10440, 14488, 12192, 341],\n",
       " 1049: [9433, 12915, 7280, 3697, 12096, 4400, 9728, 15297, 10440, 14488],\n",
       " 1050: [13104, 3182, 1819, 14317, 14741, 9728, 15297, 10440, 14488, 13865],\n",
       " 1051: [5045, 3034, 9561, 7556, 9254, 10281, 14526, 5693, 12360, 4495],\n",
       " 1052: [13499, 3819, 6691, 12203, 391, 8337, 15399, 15715, 5266, 11640],\n",
       " 1053: [4880, 9728, 15297, 10440, 14488, 13865, 12192, 341, 4151, 3734],\n",
       " 1054: [7134, 6166, 1053, 3263, 12401, 849, 15531, 11310, 11237, 4740],\n",
       " 1055: [1857, 11458, 9728, 15297, 10440, 14488, 13865, 12192, 341, 4151],\n",
       " 1056: [1257, 9728, 15297, 10440, 14488, 13865, 12192, 341, 4151, 3734],\n",
       " 1057: [5658, 12192, 3734, 9728, 15297, 10440, 14488, 341, 512, 13865],\n",
       " 1058: [12501, 9728, 15297, 10440, 14488, 13865, 12192, 341, 4151, 3734],\n",
       " 1059: [14095, 1819, 12192, 4880, 3734, 4151, 15297, 9728, 10440, 341],\n",
       " 1060: [16228, 4151, 15297, 10440, 9728, 14488, 13865, 12192, 3734, 341],\n",
       " 1061: [12228, 9728, 15297, 10440, 14488, 13865, 12192, 341, 4151, 512],\n",
       " 1062: [12401, 9728, 15297, 10440, 14488, 13865, 12192, 341, 4151, 3734],\n",
       " 1064: [14741, 9728, 15297, 10440, 14488, 13865, 12192, 341, 4151, 3734],\n",
       " 1065: [12192, 9728, 15297, 10440, 14488, 13865, 341, 4151, 3734, 512],\n",
       " 1066: [10440, 9728, 15297, 14488, 13865, 12192, 341, 4151, 3734, 512],\n",
       " 1067: [11237, 9728, 15297, 10440, 14488, 13865, 12192, 341, 4151, 3734],\n",
       " 1068: [2657, 9728, 15297, 10440, 14488, 13865, 12192, 341, 4151, 3734],\n",
       " 1069: [5894, 11237, 9728, 15297, 10440, 14488, 13865, 12192, 341, 4151],\n",
       " 1071: [8373, 288, 2301, 15248, 101, 2865, 1053, 8636, 1844, 142],\n",
       " 1072: [10440, 9728, 15297, 14488, 13865, 12192, 341, 4151, 3734, 512],\n",
       " 1073: [14617, 16442, 16166, 9070, 3784, 142, 2657, 15297, 9728, 3734],\n",
       " 1074: [12586, 142, 9728, 15297, 10440, 14488, 13865, 12192, 341, 4151],\n",
       " 1075: [8139, 1131, 4151, 9728, 15297, 10440, 14488, 13865, 12192, 341],\n",
       " 1076: [923, 7929, 2190, 14317, 7102, 9996, 10440, 9728, 15297, 512],\n",
       " 1077: [14097, 9728, 15297, 10440, 14488, 13865, 12192, 341, 4151, 3734],\n",
       " 1078: [15228, 16166, 9728, 15297, 10440, 14488, 13865, 12192, 341, 4151],\n",
       " 1079: [1131, 9728, 15297, 10440, 14488, 13865, 12192, 341, 4151, 3734],\n",
       " 1080: [8212, 4974, 14272, 8727, 10772, 11310, 7107, 12995, 1844, 7571],\n",
       " 1081: [3359, 9728, 15297, 10440, 14488, 13865, 12192, 341, 4151, 3734],\n",
       " 1082: [4689, 16406, 10878, 8447, 9194, 7829, 3734, 13865, 9728, 15297],\n",
       " 1083: [4740, 9728, 15297, 10440, 14488, 13865, 12192, 341, 4151, 3734],\n",
       " 1084: [6402, 9728, 15297, 10440, 14488, 13865, 12192, 341, 4151, 3734],\n",
       " 1085: [15171, 10240, 1449, 16228, 2657, 9728, 15297, 10440, 14488, 13865],\n",
       " 1087: [6208, 11863, 4436, 14431, 7571, 3734, 13865, 9728, 15297, 10440],\n",
       " 1088: [9070, 1399, 101, 15297, 9728, 10440, 14488, 13865, 12192, 341],\n",
       " 1089: [3189, 8638, 1527, 9842, 3532, 3935, 9728, 15297, 10440, 14488],\n",
       " 1090: [12893, 416, 9164, 15362, 9194, 9996, 13865, 9728, 10440, 14488],\n",
       " 1091: [14741, 9728, 15297, 10440, 14488, 13865, 12192, 341, 4151, 3734],\n",
       " 1092: [11749, 9728, 15297, 10440, 14488, 13865, 12192, 341, 3734, 512],\n",
       " 1093: [10440, 9728, 15297, 14488, 13865, 12192, 341, 4151, 3734, 512],\n",
       " 1095: [6317, 12659, 24, 14359, 9728, 15297, 10440, 14488, 13865, 12192],\n",
       " 1096: [10440, 9728, 15297, 14488, 13865, 12192, 341, 4151, 3734, 512],\n",
       " 1097: [11312, 9728, 15297, 10440, 14488, 13865, 12192, 341, 4151, 3734],\n",
       " 1098: [2650, 9728, 15297, 10440, 14488, 13865, 12192, 341, 4151, 3734],\n",
       " 1099: [10100, 11863, 7793, 14431, 3784, 7571, 2657, 4880, 10440, 9728],\n",
       " 1100: [4457, 6809, 9728, 10440, 15297, 14488, 13865, 12192, 3734, 341],\n",
       " 1102: [16291, 9728, 15297, 10440, 14488, 13865, 12192, 341, 4151, 3734],\n",
       " 1103: [13123, 8320, 13691, 3931, 11539, 1521, 6870, 8707, 3888, 11689],\n",
       " 1104: [8447, 14703, 12995, 1844, 9996, 12192, 4880, 4151, 2657, 13865],\n",
       " 1105: [3544, 2220, 9381, 4457, 4880, 9728, 15297, 10440, 14488, 13865],\n",
       " 1106: [2220, 9728, 15297, 10440, 14488, 13865, 12192, 341, 4151, 3734],\n",
       " 1107: [5543, 9728, 15297, 10440, 14488, 13865, 12192, 341, 4151, 3734],\n",
       " 1108: [9996, 15297, 10440, 9728, 14488, 13865, 12192, 341, 512, 3734],\n",
       " 1109: [14526, 9728, 15297, 10440, 14488, 13865, 12192, 341, 4151, 3734],\n",
       " 1110: [4495, 15297, 10440, 9728, 14488, 13865, 12192, 341, 4151, 512],\n",
       " 1111: [10135, 741, 11654, 9728, 15297, 10440, 14488, 13865, 12192, 341],\n",
       " 1112: [8314, 11756, 14901, 13865, 9728, 15297, 10440, 14488, 12192, 341],\n",
       " 1113: [14232, 3474, 15277, 10811, 2858, 4740, 142, 15297, 9728, 10440],\n",
       " 1114: [10440, 9728, 15297, 14488, 13865, 12192, 341, 4151, 3734, 512],\n",
       " 1115: [9711, 241, 4495, 4457, 4880, 10440, 9728, 15297, 14488, 12192],\n",
       " 1117: [2657, 9728, 15297, 10440, 14488, 13865, 12192, 341, 4151, 3734],\n",
       " 1118: [4880, 9728, 15297, 10440, 14488, 13865, 12192, 341, 4151, 3734],\n",
       " 1119: [10319, 4754, 5660, 7253, 7844, 8134, 13927, 13655, 9681, 9950],\n",
       " 1120: [3580, 4022, 4762, 9728, 15297, 10440, 14488, 13865, 12192, 341],\n",
       " 1121: [13058, 9728, 15297, 10440, 14488, 13865, 12192, 341, 4151, 3734],\n",
       " 1122: [12356, 15297, 9728, 10440, 14488, 13865, 12192, 341, 4151, 512],\n",
       " 1124: [13865, 9728, 15297, 10440, 14488, 12192, 341, 4151, 3734, 512],\n",
       " 1125: [1449, 16166, 13865, 9728, 15297, 10440, 14488, 12192, 341, 4151],\n",
       " ...}"
      ]
     },
     "execution_count": 65,
     "metadata": {},
     "output_type": "execute_result"
    }
   ],
   "source": [
    "results"
   ]
  },
  {
   "cell_type": "code",
   "execution_count": 66,
   "id": "040b9a86-50ce-48d4-a51d-e8667213a1c7",
   "metadata": {},
   "outputs": [
    {
     "data": {
      "application/vnd.jupyter.widget-view+json": {
       "model_id": "6dc990b9492e4dc7ab97f2269ebd2301",
       "version_major": 2,
       "version_minor": 0
      },
      "text/plain": [
       "  0%|          | 0/962109 [00:00<?, ?it/s]"
      ]
     },
     "metadata": {},
     "output_type": "display_data"
    }
   ],
   "source": [
    "reserved = {}\n",
    "\n",
    "for key, value in tqdm(results.items()):\n",
    "    if isinstance(value[0], np.ndarray):\n",
    "        print(key)\n",
    "        reserved[int(key)] = value[0].tolist()\n",
    "    else:\n",
    "        reserved[int(key)] = np.array(value).tolist()"
   ]
  },
  {
   "cell_type": "code",
   "execution_count": 67,
   "id": "91d3c7bc-2355-4401-8438-656c00652597",
   "metadata": {},
   "outputs": [
    {
     "data": {
      "text/plain": [
       "962109"
      ]
     },
     "execution_count": 67,
     "metadata": {},
     "output_type": "execute_result"
    }
   ],
   "source": [
    "len(reserved)"
   ]
  },
  {
   "cell_type": "code",
   "execution_count": 68,
   "id": "3cd005f3-c1c3-4ff5-97a4-6f9faf6ceb39",
   "metadata": {},
   "outputs": [],
   "source": [
    "import json\n",
    "\n",
    "with open('blanded-precalculated.json', 'w') as f:\n",
    "    json.dump(reserved, f)"
   ]
  },
  {
   "cell_type": "code",
   "execution_count": 69,
   "id": "b6c1638d-1928-474b-98d0-8d6a73bb1804",
   "metadata": {},
   "outputs": [
    {
     "data": {
      "text/plain": [
       "[9728, 15297, 10440, 14488, 13865, 12192, 341, 4151, 3734, 512]"
      ]
     },
     "execution_count": 69,
     "metadata": {},
     "output_type": "execute_result"
    }
   ],
   "source": [
    "popular_items"
   ]
  },
  {
   "cell_type": "code",
   "execution_count": null,
   "id": "78a8a320-058e-4c9e-a882-b3e62ddd3b73",
   "metadata": {},
   "outputs": [],
   "source": []
  }
 ],
 "metadata": {
  "kernelspec": {
   "display_name": "Python 3 (ipykernel)",
   "language": "python",
   "name": "python3"
  },
  "language_info": {
   "codemirror_mode": {
    "name": "ipython",
    "version": 3
   },
   "file_extension": ".py",
   "mimetype": "text/x-python",
   "name": "python",
   "nbconvert_exporter": "python",
   "pygments_lexer": "ipython3",
   "version": "3.9.15"
  }
 },
 "nbformat": 4,
 "nbformat_minor": 5
}
